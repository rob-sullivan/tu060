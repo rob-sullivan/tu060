{
 "cells": [
  {
   "cell_type": "markdown",
   "metadata": {},
   "source": [
    "# Decision Trees in scikit-learn\n",
    "Using the `DecisionTreeClassifier` in scikit-learn.  "
   ]
  },
  {
   "cell_type": "code",
   "execution_count": null,
   "metadata": {},
   "outputs": [],
   "source": [
    "import pandas as pd\n",
    "from graphviz import Source    # Note that you need this package\n",
    "from sklearn.tree import DecisionTreeClassifier, export_graphviz   \n",
    "apears = pd.read_csv('data/ApplesPears.csv')\n",
    "apears.head()"
   ]
  },
  {
   "cell_type": "markdown",
   "metadata": {},
   "source": [
    "scikit-learn can deal with a category class label but it cannot deal with category features.  \n",
    "So we drop the `Taste` feature. "
   ]
  },
  {
   "cell_type": "code",
   "execution_count": null,
   "metadata": {},
   "outputs": [],
   "source": [
    "y = apears.pop('Class').values   # extract out the labels\n",
    "apears.pop('Taste')    # Can't deal with category features\n",
    "ap_features = apears.columns\n",
    "X = apears.values\n",
    "X[0]"
   ]
  },
  {
   "cell_type": "code",
   "execution_count": null,
   "metadata": {},
   "outputs": [],
   "source": [
    "y"
   ]
  },
  {
   "cell_type": "code",
   "execution_count": null,
   "metadata": {},
   "outputs": [],
   "source": [
    "tree = DecisionTreeClassifier(criterion='entropy')\n",
    "ap_tree = tree.fit(X, y)"
   ]
  },
  {
   "cell_type": "code",
   "execution_count": null,
   "metadata": {},
   "outputs": [],
   "source": [
    "tree_ap = export_graphviz(ap_tree, out_file=None, \n",
    "                      feature_names=ap_features,\n",
    "                      class_names=['Apple','Pear'],  \n",
    "                      filled=True, rounded=True,  \n",
    "                      special_characters=True)  \n",
    "graph = Source(tree_ap)  \n",
    "graph"
   ]
  },
  {
   "cell_type": "code",
   "execution_count": null,
   "metadata": {},
   "outputs": [],
   "source": [
    "apears.pop('H/W')    # Delete this feature to make it harder\n",
    "X = apears.values\n",
    "ap_features = apears.columns"
   ]
  },
  {
   "cell_type": "code",
   "execution_count": null,
   "metadata": {},
   "outputs": [],
   "source": [
    "ap2_tree = tree.fit(X, y)\n",
    "tree_ap = export_graphviz(ap2_tree, out_file=None, \n",
    "                      feature_names=ap_features,\n",
    "                      class_names=['Apple','Pear'],  \n",
    "                      filled=True, rounded=True,  \n",
    "                      special_characters=True)  \n",
    "graph = Source(tree_ap)  \n",
    "graph"
   ]
  },
  {
   "cell_type": "markdown",
   "metadata": {},
   "source": [
    "---\n",
    "## Iris Data\n",
    "Sklearn contains a few built-in datasets - datasets are loaded into an object (iris here).  \n",
    "Changing the `min_samples_leaf` attribute will change the *bushiness* of the tree. \n",
    "Two key methods:\n",
    "1. `fit` method will train the tree from the data.\n",
    "2. `predict` method will produce class predictions for an array of test data. "
   ]
  },
  {
   "cell_type": "code",
   "execution_count": null,
   "metadata": {},
   "outputs": [],
   "source": [
    "from sklearn.datasets import load_iris\n",
    "from graphviz import Source\n",
    "from IPython.display import SVG\n",
    "\n",
    "iris = load_iris()\n",
    "tree = DecisionTreeClassifier(criterion='entropy',\n",
    "                              min_samples_leaf=10\n",
    "                            )\n",
    "i_tree = tree.fit(iris.data, iris.target)"
   ]
  },
  {
   "cell_type": "code",
   "execution_count": null,
   "metadata": {},
   "outputs": [],
   "source": [
    "iris.feature_names, iris.target_names"
   ]
  },
  {
   "cell_type": "code",
   "execution_count": null,
   "metadata": {},
   "outputs": [],
   "source": [
    "iris.data.shape"
   ]
  },
  {
   "cell_type": "code",
   "execution_count": null,
   "metadata": {},
   "outputs": [],
   "source": [
    "i_tree # Have a look at the model attributes"
   ]
  },
  {
   "cell_type": "code",
   "execution_count": null,
   "metadata": {
    "scrolled": false
   },
   "outputs": [],
   "source": [
    "tree_im = export_graphviz(i_tree, out_file=None, \n",
    "                      feature_names=iris.feature_names,  \n",
    "                      class_names=iris.target_names,  \n",
    "                      filled=True, rounded=True,  \n",
    "                      special_characters=True)  \n",
    "graph = Source(tree_im)  \n",
    "graph"
   ]
  },
  {
   "cell_type": "markdown",
   "metadata": {},
   "source": [
    "Run a test example."
   ]
  },
  {
   "cell_type": "code",
   "execution_count": null,
   "metadata": {},
   "outputs": [],
   "source": [
    "tn = 55  # index of example for testing\n",
    "for i,j in zip(iris.data[tn],iris.feature_names):\n",
    "    print(i,j)\n",
    "y_pred = i_tree.predict([iris.data[tn]])\n",
    "print('Prediced class No:',y_pred[0])\n",
    "print('Prediced class label:',iris.target_names[y_pred[0]])"
   ]
  },
  {
   "cell_type": "markdown",
   "metadata": {},
   "source": [
    "***\n",
    "   ## Athlete Data"
   ]
  },
  {
   "cell_type": "code",
   "execution_count": null,
   "metadata": {},
   "outputs": [],
   "source": [
    "import pandas as pd\n",
    "athlete = pd.read_csv('data/AthleteSelection.csv',index_col = 'Athlete')\n",
    "athlete.head()"
   ]
  },
  {
   "cell_type": "code",
   "execution_count": null,
   "metadata": {},
   "outputs": [],
   "source": [
    "y = athlete.pop('Selected').values\n",
    "X = athlete.values"
   ]
  },
  {
   "cell_type": "code",
   "execution_count": null,
   "metadata": {},
   "outputs": [],
   "source": [
    "atree = DecisionTreeClassifier(criterion='entropy')\n",
    "atree = tree.fit(X,y)"
   ]
  },
  {
   "cell_type": "code",
   "execution_count": null,
   "metadata": {},
   "outputs": [],
   "source": [
    "dot_data = export_graphviz(atree, out_file=None, \n",
    "                      feature_names=['Speed','Agility'],  \n",
    "                      class_names=['Selected','No'],  \n",
    "                      filled=True, rounded=True,  \n",
    "                      special_characters=True)  \n",
    "graph = Source(dot_data)  \n",
    "graph"
   ]
  },
  {
   "cell_type": "markdown",
   "metadata": {},
   "source": [
    "## Aside: Dealing with category data\n",
    "Convert to numeric - two options:  \n",
    "1. `get_dummies` method for pandas.\n",
    "2. `OneHotEncoding` for sklearn. "
   ]
  },
  {
   "cell_type": "code",
   "execution_count": null,
   "metadata": {},
   "outputs": [],
   "source": [
    "df = pd.DataFrame({'Pet': ['cat', 'dog', 'cat','ferret'], \n",
    "                   'Transport': ['bike', 'car', 'car','bike'],\n",
    "                   'Gender': ['Female','Female','Male','Female']})\n",
    "df"
   ]
  },
  {
   "cell_type": "markdown",
   "metadata": {},
   "source": [
    "### Pandas `get_dummies`\n",
    "The Pandas `get_dummies` method is the easiest way to do One-Hot encoding.  \n",
    "But if you want to apply the encoding to a test file later, this gets awkward. "
   ]
  },
  {
   "cell_type": "code",
   "execution_count": null,
   "metadata": {
    "scrolled": true
   },
   "outputs": [],
   "source": [
    "pd.get_dummies(df)"
   ]
  },
  {
   "cell_type": "code",
   "execution_count": null,
   "metadata": {
    "scrolled": true
   },
   "outputs": [],
   "source": [
    "pd.get_dummies(df,drop_first=True)"
   ]
  },
  {
   "cell_type": "markdown",
   "metadata": {},
   "source": [
    "### Using `OneHotEncoder` to convert category features to numbers\n"
   ]
  },
  {
   "cell_type": "code",
   "execution_count": null,
   "metadata": {},
   "outputs": [],
   "source": [
    "from sklearn.preprocessing import OneHotEncoder, LabelEncoder\n",
    "onehot_encoder = OneHotEncoder(sparse=False)\n",
    "dfOH = onehot_encoder.fit_transform(df)\n",
    "dfOH"
   ]
  },
  {
   "cell_type": "code",
   "execution_count": null,
   "metadata": {},
   "outputs": [],
   "source": [
    "onehot_encoder.get_feature_names()"
   ]
  },
  {
   "cell_type": "code",
   "execution_count": null,
   "metadata": {},
   "outputs": [],
   "source": [
    "onehot_encoder.categories_"
   ]
  },
  {
   "cell_type": "markdown",
   "metadata": {},
   "source": [
    "### `LabelEncoder` also converts category features to numbers\n",
    "This is more compact.  \n",
    "But it is not exactly what we want as the numbers are misleading.  \n",
    "Ferrets are not more like dogs than cats. (Well maybe they are!)"
   ]
  },
  {
   "cell_type": "code",
   "execution_count": null,
   "metadata": {},
   "outputs": [],
   "source": [
    "# LabelEncoder only works on single columns so we must 'apply' it to the dataframe. \n",
    "label_encoder = LabelEncoder()\n",
    "labelE = df.apply(label_encoder.fit_transform)\n",
    "labelE"
   ]
  },
  {
   "cell_type": "markdown",
   "metadata": {},
   "source": [
    "---\n",
    "# Restaurant Data \n",
    "Predictive features are categories(rather than numeric).\n",
    "\n",
    "## Using OneHotEncoding\n",
    "`OneHotEncoder` class has two key methods:   \n",
    "1. `fit` to 'learn' the transform from the data,\n",
    "2. `transform` to apply the OneHot transform to the data, the transform can be applied to other (e.g. test) datasets.\n"
   ]
  },
  {
   "cell_type": "code",
   "execution_count": null,
   "metadata": {},
   "outputs": [],
   "source": [
    "import pandas as pd\n",
    "restaurant = pd.read_csv('data/restaurant.csv',index_col = 'No')\n",
    "restaurant.head()"
   ]
  },
  {
   "cell_type": "code",
   "execution_count": null,
   "metadata": {},
   "outputs": [],
   "source": [
    "y = restaurant.pop('WillWait?').values\n",
    "X = restaurant.values\n",
    "X[:3,]"
   ]
  },
  {
   "cell_type": "markdown",
   "metadata": {},
   "source": [
    "### OneHotEncoder without dropping the first column"
   ]
  },
  {
   "cell_type": "code",
   "execution_count": null,
   "metadata": {},
   "outputs": [],
   "source": [
    "onehot_encoder = OneHotEncoder(sparse=False)  # Without drop='first'\n",
    "restOH = onehot_encoder.fit(restaurant)\n",
    "restOH_data = restOH.transform(restaurant)"
   ]
  },
  {
   "cell_type": "code",
   "execution_count": null,
   "metadata": {},
   "outputs": [],
   "source": [
    "restaurant.columns"
   ]
  },
  {
   "cell_type": "code",
   "execution_count": null,
   "metadata": {
    "scrolled": true
   },
   "outputs": [],
   "source": [
    "restOH.get_feature_names(restaurant.columns)"
   ]
  },
  {
   "cell_type": "code",
   "execution_count": null,
   "metadata": {},
   "outputs": [],
   "source": [
    "rtree = DecisionTreeClassifier(criterion='entropy')\n",
    "rtreeOH = rtree.fit(restOH_data,y)\n",
    "\n",
    "dot_data = export_graphviz(rtreeOH, \n",
    "                      feature_names=restOH.get_feature_names(restaurant.columns),\n",
    "                      class_names=['Yes','No'], \n",
    "                      filled=True, rounded=True,  \n",
    "                      out_file=None) \n",
    "graph = Source(dot_data) \n",
    "graph"
   ]
  },
  {
   "cell_type": "markdown",
   "metadata": {},
   "source": [
    "### OneHotEncoder dropping the first column - so reduced dimensionality"
   ]
  },
  {
   "cell_type": "code",
   "execution_count": null,
   "metadata": {},
   "outputs": [],
   "source": [
    "onehot_encoder_wf = OneHotEncoder(sparse=False, drop='first')  # Include drop='first'\n",
    "restOH = onehot_encoder_wf.fit(restaurant)\n",
    "restOH_data = restOH.transform(restaurant)"
   ]
  },
  {
   "cell_type": "code",
   "execution_count": null,
   "metadata": {},
   "outputs": [],
   "source": [
    "restOH.get_feature_names(restaurant.columns)"
   ]
  },
  {
   "cell_type": "code",
   "execution_count": null,
   "metadata": {},
   "outputs": [],
   "source": [
    "rtree = DecisionTreeClassifier(criterion='entropy')\n",
    "rtreeOH = rtree.fit(restOH_data,y)\n",
    "\n",
    "dot_data = export_graphviz(rtreeOH, \n",
    "                      feature_names=restOH.get_feature_names(restaurant.columns),\n",
    "                      class_names=['Yes','No'], \n",
    "                      filled=True, rounded=True,  \n",
    "                      out_file=None) \n",
    "graph = Source(dot_data) \n",
    "graph"
   ]
  },
  {
   "cell_type": "markdown",
   "metadata": {},
   "source": [
    "---\n",
    "<h1><span style=\"color:red\">Bonus Material</span></h1>\n",
    "\n",
    "\n",
    "\n",
    "## Encoding Restaurant data using `get_dummies`"
   ]
  },
  {
   "cell_type": "code",
   "execution_count": null,
   "metadata": {},
   "outputs": [],
   "source": [
    "rest1 = pd.get_dummies(restaurant,drop_first=False)\n",
    "rest2 = pd.get_dummies(restaurant,drop_first=True)"
   ]
  },
  {
   "cell_type": "code",
   "execution_count": null,
   "metadata": {
    "scrolled": false
   },
   "outputs": [],
   "source": [
    "rest1.head()"
   ]
  },
  {
   "cell_type": "code",
   "execution_count": null,
   "metadata": {},
   "outputs": [],
   "source": [
    "rest2.head()"
   ]
  },
  {
   "cell_type": "code",
   "execution_count": null,
   "metadata": {},
   "outputs": [],
   "source": [
    "X = rest1.values"
   ]
  },
  {
   "cell_type": "code",
   "execution_count": null,
   "metadata": {},
   "outputs": [],
   "source": [
    "rtree1 = DecisionTreeClassifier(criterion='entropy')\n",
    "rtree1.fit(rest1,y) # fit method can be called directly on the data frame\n",
    "rtree1.fit(X,y)"
   ]
  },
  {
   "cell_type": "code",
   "execution_count": null,
   "metadata": {},
   "outputs": [],
   "source": [
    "import graphviz \n",
    "dot_data = export_graphviz(rtree1, \n",
    "                      feature_names=rest1.columns,\n",
    "                      class_names=['Yes','No'], \n",
    "                      filled=True, rounded=True,  \n",
    "                      out_file=None) \n",
    "graph = graphviz.Source(dot_data) \n",
    "graph"
   ]
  },
  {
   "cell_type": "code",
   "execution_count": null,
   "metadata": {},
   "outputs": [],
   "source": [
    "rtree2 = DecisionTreeClassifier(criterion='entropy')\n",
    "X2 = rest2.values\n",
    "rtree2.fit(X2,y)\n",
    "\n",
    "dot_data = export_graphviz(rtree2, \n",
    "                      feature_names=rest2.columns,\n",
    "                      class_names=['Yes','No'], \n",
    "                      filled=True, rounded=True,  \n",
    "                      out_file=None) \n",
    "graph = graphviz.Source(dot_data) \n",
    "graph"
   ]
  }
 ],
 "metadata": {
  "kernelspec": {
   "display_name": "Python 3",
   "language": "python",
   "name": "python3"
  },
  "language_info": {
   "codemirror_mode": {
    "name": "ipython",
    "version": 3
   },
   "file_extension": ".py",
   "mimetype": "text/x-python",
   "name": "python",
   "nbconvert_exporter": "python",
   "pygments_lexer": "ipython3",
   "version": "3.8.2"
  }
 },
 "nbformat": 4,
 "nbformat_minor": 2
}
