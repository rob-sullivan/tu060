{
 "cells": [
  {
   "cell_type": "markdown",
   "id": "6646f68e",
   "metadata": {},
   "source": [
    "# Exploring Python with the titanic dataset\n",
    "\n",
    "In this notebook we are going to explore the titanic dataset again, but this time using Python. Be sure to go through the R notebook before running this one.\n",
    "\n",
    "Jupyter notebook also has a markdown syntax. This is what I am using to write these instructions for you. You can find more about it [here](https://www.datacamp.com/community/tutorials/markdown-in-jupyter-notebook).\n",
    "\n",
    "## Overview\n",
    "\n",
    "In this exercise we will perform.\n",
    "\n",
    "<ol>\n",
    "    <li> Download the dataset and parse it so we can begin manipulating it in Python </li>\n",
    "    <li> Perform some basic data cleaning </li>\n",
    "    <li> Explore the data using visualisations </li>\n",
    "</ol>    \n",
    "\n",
    "This notebook is also intended to act as a guide, so don't worry if you can't understand everything. Most importantly, I would like you to compare both notebooks (R and Python), have some overview of how both languages work when handling data, and start familiarising yourself with these two options."
   ]
  },
  {
   "cell_type": "markdown",
   "id": "3eb98559",
   "metadata": {},
   "source": [
    "## Preliminaries\n",
    "\n",
    "Similarly to R, we need to import the necessary Python modules for this exercise. Run the cell below and if there is no output it means you have all the modules installed and loaded with success. If you are missing any module you can install them using pip with the commands below.\n",
    "\n",
    "`pip install pandas\n",
    " pip install matplotlib\n",
    " pip install numpy\n",
    "`"
   ]
  },
  {
   "cell_type": "code",
   "execution_count": 2,
   "id": "6d21812c",
   "metadata": {},
   "outputs": [],
   "source": [
    "import pandas as pd\n",
    "import matplotlib.pyplot as plt\n",
    "import numpy as np"
   ]
  },
  {
   "cell_type": "markdown",
   "id": "ddcb92f5",
   "metadata": {},
   "source": [
    "Now we need to load the titanic dataset and display some information to be sure the dataset has been loaded and it looks like how it should. For this we are going to use [pandas](https://pandas.pydata.org/docs/). This python module allows us to create data frames, similarly to the data frames in R. Once it has been loaded we can check how it looks like using the *head* method."
   ]
  },
  {
   "cell_type": "code",
   "execution_count": 3,
   "id": "76e02b97",
   "metadata": {},
   "outputs": [
    {
     "data": {
      "text/html": [
       "<div>\n",
       "<style scoped>\n",
       "    .dataframe tbody tr th:only-of-type {\n",
       "        vertical-align: middle;\n",
       "    }\n",
       "\n",
       "    .dataframe tbody tr th {\n",
       "        vertical-align: top;\n",
       "    }\n",
       "\n",
       "    .dataframe thead th {\n",
       "        text-align: right;\n",
       "    }\n",
       "</style>\n",
       "<table border=\"1\" class=\"dataframe\">\n",
       "  <thead>\n",
       "    <tr style=\"text-align: right;\">\n",
       "      <th></th>\n",
       "      <th>Survived</th>\n",
       "      <th>Pclass</th>\n",
       "      <th>Name</th>\n",
       "      <th>Sex</th>\n",
       "      <th>Age</th>\n",
       "      <th>Siblings/Spouses Aboard</th>\n",
       "      <th>Parents/Children Aboard</th>\n",
       "      <th>Fare</th>\n",
       "    </tr>\n",
       "  </thead>\n",
       "  <tbody>\n",
       "    <tr>\n",
       "      <th>0</th>\n",
       "      <td>0</td>\n",
       "      <td>3</td>\n",
       "      <td>Mr. Owen Harris Braund</td>\n",
       "      <td>male</td>\n",
       "      <td>22.0</td>\n",
       "      <td>1</td>\n",
       "      <td>0</td>\n",
       "      <td>7.2500</td>\n",
       "    </tr>\n",
       "    <tr>\n",
       "      <th>1</th>\n",
       "      <td>1</td>\n",
       "      <td>1</td>\n",
       "      <td>Mrs. John Bradley (Florence Briggs Thayer) Cum...</td>\n",
       "      <td>female</td>\n",
       "      <td>38.0</td>\n",
       "      <td>1</td>\n",
       "      <td>0</td>\n",
       "      <td>71.2833</td>\n",
       "    </tr>\n",
       "    <tr>\n",
       "      <th>2</th>\n",
       "      <td>1</td>\n",
       "      <td>3</td>\n",
       "      <td>Miss. Laina Heikkinen</td>\n",
       "      <td>female</td>\n",
       "      <td>26.0</td>\n",
       "      <td>0</td>\n",
       "      <td>0</td>\n",
       "      <td>7.9250</td>\n",
       "    </tr>\n",
       "    <tr>\n",
       "      <th>3</th>\n",
       "      <td>1</td>\n",
       "      <td>1</td>\n",
       "      <td>Mrs. Jacques Heath (Lily May Peel) Futrelle</td>\n",
       "      <td>female</td>\n",
       "      <td>35.0</td>\n",
       "      <td>1</td>\n",
       "      <td>0</td>\n",
       "      <td>53.1000</td>\n",
       "    </tr>\n",
       "    <tr>\n",
       "      <th>4</th>\n",
       "      <td>0</td>\n",
       "      <td>3</td>\n",
       "      <td>Mr. William Henry Allen</td>\n",
       "      <td>male</td>\n",
       "      <td>35.0</td>\n",
       "      <td>0</td>\n",
       "      <td>0</td>\n",
       "      <td>8.0500</td>\n",
       "    </tr>\n",
       "  </tbody>\n",
       "</table>\n",
       "</div>"
      ],
      "text/plain": [
       "   Survived  Pclass                                               Name  \\\n",
       "0         0       3                             Mr. Owen Harris Braund   \n",
       "1         1       1  Mrs. John Bradley (Florence Briggs Thayer) Cum...   \n",
       "2         1       3                              Miss. Laina Heikkinen   \n",
       "3         1       1        Mrs. Jacques Heath (Lily May Peel) Futrelle   \n",
       "4         0       3                            Mr. William Henry Allen   \n",
       "\n",
       "      Sex   Age  Siblings/Spouses Aboard  Parents/Children Aboard     Fare  \n",
       "0    male  22.0                        1                        0   7.2500  \n",
       "1  female  38.0                        1                        0  71.2833  \n",
       "2  female  26.0                        0                        0   7.9250  \n",
       "3  female  35.0                        1                        0  53.1000  \n",
       "4    male  35.0                        0                        0   8.0500  "
      ]
     },
     "execution_count": 3,
     "metadata": {},
     "output_type": "execute_result"
    }
   ],
   "source": [
    "url=\"https://web.stanford.edu/class/archive/cs/cs109/cs109.1166/stuff/titanic.csv\"\n",
    "# pd refers to the pandas module we have imported. It is common to use this alias when using pandas.\n",
    "# You will probably see other examples using pd when studying pandas.\n",
    "df = pd.read_csv(url)\n",
    "df.head()"
   ]
  },
  {
   "cell_type": "markdown",
   "id": "f4f3dc97",
   "metadata": {},
   "source": [
    "## Cleaning data\n",
    "\n",
    "First step here is to have a summary of the data which can give us a nice overview of the dataset. It helps us to see if everything has been imported correctly and makes sense. For that, we are using the `describe` method from the `pandas` module. See what are the differences between the *summary* method in R. Check what happens if you remove the `include=\"all\"` parameter."
   ]
  },
  {
   "cell_type": "code",
   "execution_count": 4,
   "id": "65f3e108",
   "metadata": {},
   "outputs": [
    {
     "data": {
      "text/html": [
       "<div>\n",
       "<style scoped>\n",
       "    .dataframe tbody tr th:only-of-type {\n",
       "        vertical-align: middle;\n",
       "    }\n",
       "\n",
       "    .dataframe tbody tr th {\n",
       "        vertical-align: top;\n",
       "    }\n",
       "\n",
       "    .dataframe thead th {\n",
       "        text-align: right;\n",
       "    }\n",
       "</style>\n",
       "<table border=\"1\" class=\"dataframe\">\n",
       "  <thead>\n",
       "    <tr style=\"text-align: right;\">\n",
       "      <th></th>\n",
       "      <th>Survived</th>\n",
       "      <th>Pclass</th>\n",
       "      <th>Name</th>\n",
       "      <th>Sex</th>\n",
       "      <th>Age</th>\n",
       "      <th>Siblings/Spouses Aboard</th>\n",
       "      <th>Parents/Children Aboard</th>\n",
       "      <th>Fare</th>\n",
       "    </tr>\n",
       "  </thead>\n",
       "  <tbody>\n",
       "    <tr>\n",
       "      <th>count</th>\n",
       "      <td>887.000000</td>\n",
       "      <td>887.000000</td>\n",
       "      <td>887</td>\n",
       "      <td>887</td>\n",
       "      <td>887.000000</td>\n",
       "      <td>887.000000</td>\n",
       "      <td>887.000000</td>\n",
       "      <td>887.00000</td>\n",
       "    </tr>\n",
       "    <tr>\n",
       "      <th>unique</th>\n",
       "      <td>NaN</td>\n",
       "      <td>NaN</td>\n",
       "      <td>887</td>\n",
       "      <td>2</td>\n",
       "      <td>NaN</td>\n",
       "      <td>NaN</td>\n",
       "      <td>NaN</td>\n",
       "      <td>NaN</td>\n",
       "    </tr>\n",
       "    <tr>\n",
       "      <th>top</th>\n",
       "      <td>NaN</td>\n",
       "      <td>NaN</td>\n",
       "      <td>Mr. Owen Harris Braund</td>\n",
       "      <td>male</td>\n",
       "      <td>NaN</td>\n",
       "      <td>NaN</td>\n",
       "      <td>NaN</td>\n",
       "      <td>NaN</td>\n",
       "    </tr>\n",
       "    <tr>\n",
       "      <th>freq</th>\n",
       "      <td>NaN</td>\n",
       "      <td>NaN</td>\n",
       "      <td>1</td>\n",
       "      <td>573</td>\n",
       "      <td>NaN</td>\n",
       "      <td>NaN</td>\n",
       "      <td>NaN</td>\n",
       "      <td>NaN</td>\n",
       "    </tr>\n",
       "    <tr>\n",
       "      <th>mean</th>\n",
       "      <td>0.385569</td>\n",
       "      <td>2.305524</td>\n",
       "      <td>NaN</td>\n",
       "      <td>NaN</td>\n",
       "      <td>29.471443</td>\n",
       "      <td>0.525366</td>\n",
       "      <td>0.383315</td>\n",
       "      <td>32.30542</td>\n",
       "    </tr>\n",
       "    <tr>\n",
       "      <th>std</th>\n",
       "      <td>0.487004</td>\n",
       "      <td>0.836662</td>\n",
       "      <td>NaN</td>\n",
       "      <td>NaN</td>\n",
       "      <td>14.121908</td>\n",
       "      <td>1.104669</td>\n",
       "      <td>0.807466</td>\n",
       "      <td>49.78204</td>\n",
       "    </tr>\n",
       "    <tr>\n",
       "      <th>min</th>\n",
       "      <td>0.000000</td>\n",
       "      <td>1.000000</td>\n",
       "      <td>NaN</td>\n",
       "      <td>NaN</td>\n",
       "      <td>0.420000</td>\n",
       "      <td>0.000000</td>\n",
       "      <td>0.000000</td>\n",
       "      <td>0.00000</td>\n",
       "    </tr>\n",
       "    <tr>\n",
       "      <th>25%</th>\n",
       "      <td>0.000000</td>\n",
       "      <td>2.000000</td>\n",
       "      <td>NaN</td>\n",
       "      <td>NaN</td>\n",
       "      <td>20.250000</td>\n",
       "      <td>0.000000</td>\n",
       "      <td>0.000000</td>\n",
       "      <td>7.92500</td>\n",
       "    </tr>\n",
       "    <tr>\n",
       "      <th>50%</th>\n",
       "      <td>0.000000</td>\n",
       "      <td>3.000000</td>\n",
       "      <td>NaN</td>\n",
       "      <td>NaN</td>\n",
       "      <td>28.000000</td>\n",
       "      <td>0.000000</td>\n",
       "      <td>0.000000</td>\n",
       "      <td>14.45420</td>\n",
       "    </tr>\n",
       "    <tr>\n",
       "      <th>75%</th>\n",
       "      <td>1.000000</td>\n",
       "      <td>3.000000</td>\n",
       "      <td>NaN</td>\n",
       "      <td>NaN</td>\n",
       "      <td>38.000000</td>\n",
       "      <td>1.000000</td>\n",
       "      <td>0.000000</td>\n",
       "      <td>31.13750</td>\n",
       "    </tr>\n",
       "    <tr>\n",
       "      <th>max</th>\n",
       "      <td>1.000000</td>\n",
       "      <td>3.000000</td>\n",
       "      <td>NaN</td>\n",
       "      <td>NaN</td>\n",
       "      <td>80.000000</td>\n",
       "      <td>8.000000</td>\n",
       "      <td>6.000000</td>\n",
       "      <td>512.32920</td>\n",
       "    </tr>\n",
       "  </tbody>\n",
       "</table>\n",
       "</div>"
      ],
      "text/plain": [
       "          Survived      Pclass                    Name   Sex         Age  \\\n",
       "count   887.000000  887.000000                     887   887  887.000000   \n",
       "unique         NaN         NaN                     887     2         NaN   \n",
       "top            NaN         NaN  Mr. Owen Harris Braund  male         NaN   \n",
       "freq           NaN         NaN                       1   573         NaN   \n",
       "mean      0.385569    2.305524                     NaN   NaN   29.471443   \n",
       "std       0.487004    0.836662                     NaN   NaN   14.121908   \n",
       "min       0.000000    1.000000                     NaN   NaN    0.420000   \n",
       "25%       0.000000    2.000000                     NaN   NaN   20.250000   \n",
       "50%       0.000000    3.000000                     NaN   NaN   28.000000   \n",
       "75%       1.000000    3.000000                     NaN   NaN   38.000000   \n",
       "max       1.000000    3.000000                     NaN   NaN   80.000000   \n",
       "\n",
       "        Siblings/Spouses Aboard  Parents/Children Aboard       Fare  \n",
       "count                887.000000               887.000000  887.00000  \n",
       "unique                      NaN                      NaN        NaN  \n",
       "top                         NaN                      NaN        NaN  \n",
       "freq                        NaN                      NaN        NaN  \n",
       "mean                   0.525366                 0.383315   32.30542  \n",
       "std                    1.104669                 0.807466   49.78204  \n",
       "min                    0.000000                 0.000000    0.00000  \n",
       "25%                    0.000000                 0.000000    7.92500  \n",
       "50%                    0.000000                 0.000000   14.45420  \n",
       "75%                    1.000000                 0.000000   31.13750  \n",
       "max                    8.000000                 6.000000  512.32920  "
      ]
     },
     "execution_count": 4,
     "metadata": {},
     "output_type": "execute_result"
    }
   ],
   "source": [
    "df.describe(include=\"all\")"
   ]
  },
  {
   "cell_type": "markdown",
   "id": "2cce2c43",
   "metadata": {},
   "source": [
    "You have probably noticed that we have the same problems when reporting statistics about the *Survived* and *Age* features. We are going to deal with them the same way we did in R, but in the Python way.\n",
    "\n",
    "For the *Survived* feature it makes more sense if this is a logical feature. In Pandas we have the boolean type to represent that. So we are going to convert it to `bool` using the `astype` method of the pandas dataframe. `iloc` is a method that is used to return a slice of the dataframe. In this case we want all the rows and first column only. This is what the `df.iloc[:,0]` slice returns. Try to run this individually in another cell and see what you get. You can also play with the index values and see what happens. If you want to know even more check the pandas documentation linked [here](https://pandas.pydata.org/docs/index.html).\n",
    "\n",
    "In summary, the cell below is getting the first column of the data frame, converting it to a boolean type and assigning the result to the same first column. You should notice the difference after running the `describe` method again."
   ]
  },
  {
   "cell_type": "code",
   "execution_count": 5,
   "id": "6101407d",
   "metadata": {},
   "outputs": [
    {
     "data": {
      "text/html": [
       "<div>\n",
       "<style scoped>\n",
       "    .dataframe tbody tr th:only-of-type {\n",
       "        vertical-align: middle;\n",
       "    }\n",
       "\n",
       "    .dataframe tbody tr th {\n",
       "        vertical-align: top;\n",
       "    }\n",
       "\n",
       "    .dataframe thead th {\n",
       "        text-align: right;\n",
       "    }\n",
       "</style>\n",
       "<table border=\"1\" class=\"dataframe\">\n",
       "  <thead>\n",
       "    <tr style=\"text-align: right;\">\n",
       "      <th></th>\n",
       "      <th>Survived</th>\n",
       "      <th>Pclass</th>\n",
       "      <th>Name</th>\n",
       "      <th>Sex</th>\n",
       "      <th>Age</th>\n",
       "      <th>Siblings/Spouses Aboard</th>\n",
       "      <th>Parents/Children Aboard</th>\n",
       "      <th>Fare</th>\n",
       "    </tr>\n",
       "  </thead>\n",
       "  <tbody>\n",
       "    <tr>\n",
       "      <th>count</th>\n",
       "      <td>887</td>\n",
       "      <td>887.000000</td>\n",
       "      <td>887</td>\n",
       "      <td>887</td>\n",
       "      <td>887.000000</td>\n",
       "      <td>887.000000</td>\n",
       "      <td>887.000000</td>\n",
       "      <td>887.00000</td>\n",
       "    </tr>\n",
       "    <tr>\n",
       "      <th>unique</th>\n",
       "      <td>2</td>\n",
       "      <td>NaN</td>\n",
       "      <td>887</td>\n",
       "      <td>2</td>\n",
       "      <td>NaN</td>\n",
       "      <td>NaN</td>\n",
       "      <td>NaN</td>\n",
       "      <td>NaN</td>\n",
       "    </tr>\n",
       "    <tr>\n",
       "      <th>top</th>\n",
       "      <td>False</td>\n",
       "      <td>NaN</td>\n",
       "      <td>Mr. Owen Harris Braund</td>\n",
       "      <td>male</td>\n",
       "      <td>NaN</td>\n",
       "      <td>NaN</td>\n",
       "      <td>NaN</td>\n",
       "      <td>NaN</td>\n",
       "    </tr>\n",
       "    <tr>\n",
       "      <th>freq</th>\n",
       "      <td>545</td>\n",
       "      <td>NaN</td>\n",
       "      <td>1</td>\n",
       "      <td>573</td>\n",
       "      <td>NaN</td>\n",
       "      <td>NaN</td>\n",
       "      <td>NaN</td>\n",
       "      <td>NaN</td>\n",
       "    </tr>\n",
       "    <tr>\n",
       "      <th>mean</th>\n",
       "      <td>NaN</td>\n",
       "      <td>2.305524</td>\n",
       "      <td>NaN</td>\n",
       "      <td>NaN</td>\n",
       "      <td>29.471443</td>\n",
       "      <td>0.525366</td>\n",
       "      <td>0.383315</td>\n",
       "      <td>32.30542</td>\n",
       "    </tr>\n",
       "    <tr>\n",
       "      <th>std</th>\n",
       "      <td>NaN</td>\n",
       "      <td>0.836662</td>\n",
       "      <td>NaN</td>\n",
       "      <td>NaN</td>\n",
       "      <td>14.121908</td>\n",
       "      <td>1.104669</td>\n",
       "      <td>0.807466</td>\n",
       "      <td>49.78204</td>\n",
       "    </tr>\n",
       "    <tr>\n",
       "      <th>min</th>\n",
       "      <td>NaN</td>\n",
       "      <td>1.000000</td>\n",
       "      <td>NaN</td>\n",
       "      <td>NaN</td>\n",
       "      <td>0.420000</td>\n",
       "      <td>0.000000</td>\n",
       "      <td>0.000000</td>\n",
       "      <td>0.00000</td>\n",
       "    </tr>\n",
       "    <tr>\n",
       "      <th>25%</th>\n",
       "      <td>NaN</td>\n",
       "      <td>2.000000</td>\n",
       "      <td>NaN</td>\n",
       "      <td>NaN</td>\n",
       "      <td>20.250000</td>\n",
       "      <td>0.000000</td>\n",
       "      <td>0.000000</td>\n",
       "      <td>7.92500</td>\n",
       "    </tr>\n",
       "    <tr>\n",
       "      <th>50%</th>\n",
       "      <td>NaN</td>\n",
       "      <td>3.000000</td>\n",
       "      <td>NaN</td>\n",
       "      <td>NaN</td>\n",
       "      <td>28.000000</td>\n",
       "      <td>0.000000</td>\n",
       "      <td>0.000000</td>\n",
       "      <td>14.45420</td>\n",
       "    </tr>\n",
       "    <tr>\n",
       "      <th>75%</th>\n",
       "      <td>NaN</td>\n",
       "      <td>3.000000</td>\n",
       "      <td>NaN</td>\n",
       "      <td>NaN</td>\n",
       "      <td>38.000000</td>\n",
       "      <td>1.000000</td>\n",
       "      <td>0.000000</td>\n",
       "      <td>31.13750</td>\n",
       "    </tr>\n",
       "    <tr>\n",
       "      <th>max</th>\n",
       "      <td>NaN</td>\n",
       "      <td>3.000000</td>\n",
       "      <td>NaN</td>\n",
       "      <td>NaN</td>\n",
       "      <td>80.000000</td>\n",
       "      <td>8.000000</td>\n",
       "      <td>6.000000</td>\n",
       "      <td>512.32920</td>\n",
       "    </tr>\n",
       "  </tbody>\n",
       "</table>\n",
       "</div>"
      ],
      "text/plain": [
       "       Survived      Pclass                    Name   Sex         Age  \\\n",
       "count       887  887.000000                     887   887  887.000000   \n",
       "unique        2         NaN                     887     2         NaN   \n",
       "top       False         NaN  Mr. Owen Harris Braund  male         NaN   \n",
       "freq        545         NaN                       1   573         NaN   \n",
       "mean        NaN    2.305524                     NaN   NaN   29.471443   \n",
       "std         NaN    0.836662                     NaN   NaN   14.121908   \n",
       "min         NaN    1.000000                     NaN   NaN    0.420000   \n",
       "25%         NaN    2.000000                     NaN   NaN   20.250000   \n",
       "50%         NaN    3.000000                     NaN   NaN   28.000000   \n",
       "75%         NaN    3.000000                     NaN   NaN   38.000000   \n",
       "max         NaN    3.000000                     NaN   NaN   80.000000   \n",
       "\n",
       "        Siblings/Spouses Aboard  Parents/Children Aboard       Fare  \n",
       "count                887.000000               887.000000  887.00000  \n",
       "unique                      NaN                      NaN        NaN  \n",
       "top                         NaN                      NaN        NaN  \n",
       "freq                        NaN                      NaN        NaN  \n",
       "mean                   0.525366                 0.383315   32.30542  \n",
       "std                    1.104669                 0.807466   49.78204  \n",
       "min                    0.000000                 0.000000    0.00000  \n",
       "25%                    0.000000                 0.000000    7.92500  \n",
       "50%                    0.000000                 0.000000   14.45420  \n",
       "75%                    1.000000                 0.000000   31.13750  \n",
       "max                    8.000000                 6.000000  512.32920  "
      ]
     },
     "execution_count": 5,
     "metadata": {},
     "output_type": "execute_result"
    }
   ],
   "source": [
    "df.iloc[:,0] = df.iloc[:,0].astype(bool)\n",
    "df.describe(include=\"all\")"
   ]
  },
  {
   "cell_type": "markdown",
   "id": "695a37f7",
   "metadata": {},
   "source": [
    "Similarly, we would like the type of the *Age* feature to be `integer`, without the decimal points. In Pandas we can use the `int64` type, which means an integer with 64 bit. Once we convert *Age* to integer, we should not have the decimals points in this column anymore. Note how the cell below uses a different syntax when selecting the *Age* column. What might be some advantages and disadvantages of using this syntax instead of that one above?"
   ]
  },
  {
   "cell_type": "code",
   "execution_count": 6,
   "id": "a9463945",
   "metadata": {},
   "outputs": [
    {
     "data": {
      "text/html": [
       "<div>\n",
       "<style scoped>\n",
       "    .dataframe tbody tr th:only-of-type {\n",
       "        vertical-align: middle;\n",
       "    }\n",
       "\n",
       "    .dataframe tbody tr th {\n",
       "        vertical-align: top;\n",
       "    }\n",
       "\n",
       "    .dataframe thead th {\n",
       "        text-align: right;\n",
       "    }\n",
       "</style>\n",
       "<table border=\"1\" class=\"dataframe\">\n",
       "  <thead>\n",
       "    <tr style=\"text-align: right;\">\n",
       "      <th></th>\n",
       "      <th>Survived</th>\n",
       "      <th>Pclass</th>\n",
       "      <th>Name</th>\n",
       "      <th>Sex</th>\n",
       "      <th>Age</th>\n",
       "      <th>Siblings/Spouses Aboard</th>\n",
       "      <th>Parents/Children Aboard</th>\n",
       "      <th>Fare</th>\n",
       "    </tr>\n",
       "  </thead>\n",
       "  <tbody>\n",
       "    <tr>\n",
       "      <th>count</th>\n",
       "      <td>887</td>\n",
       "      <td>887.000000</td>\n",
       "      <td>887</td>\n",
       "      <td>887</td>\n",
       "      <td>887.000000</td>\n",
       "      <td>887.000000</td>\n",
       "      <td>887.000000</td>\n",
       "      <td>887.00000</td>\n",
       "    </tr>\n",
       "    <tr>\n",
       "      <th>unique</th>\n",
       "      <td>2</td>\n",
       "      <td>NaN</td>\n",
       "      <td>887</td>\n",
       "      <td>2</td>\n",
       "      <td>NaN</td>\n",
       "      <td>NaN</td>\n",
       "      <td>NaN</td>\n",
       "      <td>NaN</td>\n",
       "    </tr>\n",
       "    <tr>\n",
       "      <th>top</th>\n",
       "      <td>False</td>\n",
       "      <td>NaN</td>\n",
       "      <td>Mr. Owen Harris Braund</td>\n",
       "      <td>male</td>\n",
       "      <td>NaN</td>\n",
       "      <td>NaN</td>\n",
       "      <td>NaN</td>\n",
       "      <td>NaN</td>\n",
       "    </tr>\n",
       "    <tr>\n",
       "      <th>freq</th>\n",
       "      <td>545</td>\n",
       "      <td>NaN</td>\n",
       "      <td>1</td>\n",
       "      <td>573</td>\n",
       "      <td>NaN</td>\n",
       "      <td>NaN</td>\n",
       "      <td>NaN</td>\n",
       "      <td>NaN</td>\n",
       "    </tr>\n",
       "    <tr>\n",
       "      <th>mean</th>\n",
       "      <td>NaN</td>\n",
       "      <td>2.305524</td>\n",
       "      <td>NaN</td>\n",
       "      <td>NaN</td>\n",
       "      <td>29.455468</td>\n",
       "      <td>0.525366</td>\n",
       "      <td>0.383315</td>\n",
       "      <td>32.30542</td>\n",
       "    </tr>\n",
       "    <tr>\n",
       "      <th>std</th>\n",
       "      <td>NaN</td>\n",
       "      <td>0.836662</td>\n",
       "      <td>NaN</td>\n",
       "      <td>NaN</td>\n",
       "      <td>14.129919</td>\n",
       "      <td>1.104669</td>\n",
       "      <td>0.807466</td>\n",
       "      <td>49.78204</td>\n",
       "    </tr>\n",
       "    <tr>\n",
       "      <th>min</th>\n",
       "      <td>NaN</td>\n",
       "      <td>1.000000</td>\n",
       "      <td>NaN</td>\n",
       "      <td>NaN</td>\n",
       "      <td>0.000000</td>\n",
       "      <td>0.000000</td>\n",
       "      <td>0.000000</td>\n",
       "      <td>0.00000</td>\n",
       "    </tr>\n",
       "    <tr>\n",
       "      <th>25%</th>\n",
       "      <td>NaN</td>\n",
       "      <td>2.000000</td>\n",
       "      <td>NaN</td>\n",
       "      <td>NaN</td>\n",
       "      <td>20.000000</td>\n",
       "      <td>0.000000</td>\n",
       "      <td>0.000000</td>\n",
       "      <td>7.92500</td>\n",
       "    </tr>\n",
       "    <tr>\n",
       "      <th>50%</th>\n",
       "      <td>NaN</td>\n",
       "      <td>3.000000</td>\n",
       "      <td>NaN</td>\n",
       "      <td>NaN</td>\n",
       "      <td>28.000000</td>\n",
       "      <td>0.000000</td>\n",
       "      <td>0.000000</td>\n",
       "      <td>14.45420</td>\n",
       "    </tr>\n",
       "    <tr>\n",
       "      <th>75%</th>\n",
       "      <td>NaN</td>\n",
       "      <td>3.000000</td>\n",
       "      <td>NaN</td>\n",
       "      <td>NaN</td>\n",
       "      <td>38.000000</td>\n",
       "      <td>1.000000</td>\n",
       "      <td>0.000000</td>\n",
       "      <td>31.13750</td>\n",
       "    </tr>\n",
       "    <tr>\n",
       "      <th>max</th>\n",
       "      <td>NaN</td>\n",
       "      <td>3.000000</td>\n",
       "      <td>NaN</td>\n",
       "      <td>NaN</td>\n",
       "      <td>80.000000</td>\n",
       "      <td>8.000000</td>\n",
       "      <td>6.000000</td>\n",
       "      <td>512.32920</td>\n",
       "    </tr>\n",
       "  </tbody>\n",
       "</table>\n",
       "</div>"
      ],
      "text/plain": [
       "       Survived      Pclass                    Name   Sex         Age  \\\n",
       "count       887  887.000000                     887   887  887.000000   \n",
       "unique        2         NaN                     887     2         NaN   \n",
       "top       False         NaN  Mr. Owen Harris Braund  male         NaN   \n",
       "freq        545         NaN                       1   573         NaN   \n",
       "mean        NaN    2.305524                     NaN   NaN   29.455468   \n",
       "std         NaN    0.836662                     NaN   NaN   14.129919   \n",
       "min         NaN    1.000000                     NaN   NaN    0.000000   \n",
       "25%         NaN    2.000000                     NaN   NaN   20.000000   \n",
       "50%         NaN    3.000000                     NaN   NaN   28.000000   \n",
       "75%         NaN    3.000000                     NaN   NaN   38.000000   \n",
       "max         NaN    3.000000                     NaN   NaN   80.000000   \n",
       "\n",
       "        Siblings/Spouses Aboard  Parents/Children Aboard       Fare  \n",
       "count                887.000000               887.000000  887.00000  \n",
       "unique                      NaN                      NaN        NaN  \n",
       "top                         NaN                      NaN        NaN  \n",
       "freq                        NaN                      NaN        NaN  \n",
       "mean                   0.525366                 0.383315   32.30542  \n",
       "std                    1.104669                 0.807466   49.78204  \n",
       "min                    0.000000                 0.000000    0.00000  \n",
       "25%                    0.000000                 0.000000    7.92500  \n",
       "50%                    0.000000                 0.000000   14.45420  \n",
       "75%                    1.000000                 0.000000   31.13750  \n",
       "max                    8.000000                 6.000000  512.32920  "
      ]
     },
     "execution_count": 6,
     "metadata": {},
     "output_type": "execute_result"
    }
   ],
   "source": [
    "df[\"Age\"] = df[\"Age\"].astype('int64')\n",
    "df.describe(include=\"all\")"
   ]
  },
  {
   "cell_type": "markdown",
   "id": "547fe55c",
   "metadata": {},
   "source": [
    "## Visualising the data\n",
    "\n",
    "This should be enough cleaning for now so we can start creating our visualizations. We will try to plot the same graphs made in the R notebook but there might be some slight differences due to how the two languages work.\n",
    "\n",
    "First, we will plot an histogram of *Age* separated by *Sex*. For that we will need to use the `pivot` method to get only the data we are interested in plotting, or in this case the *Age* feature separated by females and males. Try to run the first part\n",
    "of the statement below `df.pivot(columns=\"Sex\", values=\"Age\")` in a different cell and see what you get.\n",
    "\n",
    "After that, we are using the `plot` method of the Pandas module. This is very useful to plot quick graphs without too much customization, contrary to what the `matplotlib` module offers for example. We will use this for now and see other examples with `matplotlib` below.\n",
    "\n",
    "Compare again with the R notebook, which one do you think is easier to use? Is there some visualisation better than the other?"
   ]
  },
  {
   "cell_type": "code",
   "execution_count": 7,
   "id": "e83682b5",
   "metadata": {
    "scrolled": true
   },
   "outputs": [
    {
     "data": {
      "text/plain": [
       "<AxesSubplot:ylabel='Frequency'>"
      ]
     },
     "execution_count": 7,
     "metadata": {},
     "output_type": "execute_result"
    },
    {
     "data": {
      "image/png": "[encoded data removed]",
      "text/plain": [
       "<Figure size 432x288 with 1 Axes>"
      ]
     },
     "metadata": {
      "needs_background": "light"
     },
     "output_type": "display_data"
    }
   ],
   "source": [
    "df.pivot(columns=\"Sex\", values=\"Age\").plot.hist(bins=30, stacked=True)"
   ]
  },
  {
   "cell_type": "markdown",
   "id": "cd81d310",
   "metadata": {},
   "source": [
    "As with the previous R notebook, it would be interesting to plot this histogram with different binwidths, this might give us a better insight on the data distribution. In Python we can do that by passing the number of bins or a sequence representing the bin edges. In this example we are going to use the sequence option.\n",
    "\n",
    "To generate a sequence we are going to use the `range` function from the built-in Python functions. Its header is defined as `range(start, stop, step)`, so given a start and stop values it creates all the numbers in the sequence between them with step `step`. For example `range(0, 12, 2)` will generate the sequence `0, 2, 4, 6, 8, 10` (the last value is not included). You can see more about range [here](https://www.w3schools.com/python/ref_func_range.asp).\n",
    "\n",
    "So, in order to use range to generate the sequence of bins edge, we are going to create a sequence that goes from min *Age* until max *Age* with step equals to the binwidth we want. Check the code below. It uses a **for** loop to generate sequences of bin edges with different steps. Compare the results against R another time and see what are the differences and what do you prefer. "
   ]
  },
  {
   "cell_type": "code",
   "execution_count": 8,
   "id": "d958b76d",
   "metadata": {
    "scrolled": false
   },
   "outputs": [
    {
     "data": {
      "image/png": "[encoded data removed]",
      "text/plain": [
       "<Figure size 432x288 with 1 Axes>"
      ]
     },
     "metadata": {
      "needs_background": "light"
     },
     "output_type": "display_data"
    },
    {
     "data": {
      "image/png": "[encoded data removed]",
      "text/plain": [
       "<Figure size 432x288 with 1 Axes>"
      ]
     },
     "metadata": {
      "needs_background": "light"
     },
     "output_type": "display_data"
    },
    {
     "data": {
      "image/png": "[encoded data removed]",
      "text/plain": [
       "<Figure size 432x288 with 1 Axes>"
      ]
     },
     "metadata": {
      "needs_background": "light"
     },
     "output_type": "display_data"
    },
    {
     "data": {
      "image/png": "[encoded data removed]",
      "text/plain": [
       "<Figure size 432x288 with 1 Axes>"
      ]
     },
     "metadata": {
      "needs_background": "light"
     },
     "output_type": "display_data"
    },
    {
     "data": {
      "image/png": "[encoded data removed]",
      "text/plain": [
       "<Figure size 432x288 with 1 Axes>"
      ]
     },
     "metadata": {
      "needs_background": "light"
     },
     "output_type": "display_data"
    },
    {
     "data": {
      "image/png": "[encoded data removed]",
      "text/plain": [
       "<Figure size 432x288 with 1 Axes>"
      ]
     },
     "metadata": {
      "needs_background": "light"
     },
     "output_type": "display_data"
    },
    {
     "data": {
      "image/png": "[encoded data removed]",
      "text/plain": [
       "<Figure size 432x288 with 1 Axes>"
      ]
     },
     "metadata": {
      "needs_background": "light"
     },
     "output_type": "display_data"
    },
    {
     "data": {
      "image/png": "[encoded data removed]",
      "text/plain": [
       "<Figure size 432x288 with 1 Axes>"
      ]
     },
     "metadata": {
      "needs_background": "light"
     },
     "output_type": "display_data"
    },
    {
     "data": {
      "image/png": "[encoded data removed]",
      "text/plain": [
       "<Figure size 432x288 with 1 Axes>"
      ]
     },
     "metadata": {
      "needs_background": "light"
     },
     "output_type": "display_data"
    }
   ],
   "source": [
    "for binwidth in range(1,10):\n",
    "    df.pivot(columns=\"Sex\", values=\"Age\").plot.hist(bins=range(min(df[\"Age\"]), max(df[\"Age\"]) + binwidth, binwidth), stacked=True)"
   ]
  },
  {
   "cell_type": "markdown",
   "id": "1d5b5ea1",
   "metadata": {},
   "source": [
    "## Bar charts and matplotlib\n",
    "\n",
    "This time we are going to plot bar charts to explore possible interesting relationships between the data's features. Again, we are going to investigate how the *Sex* feature interacts with the *Survived* feature.\n",
    "\n",
    "This time we are going to create a figure object with `matplotlib`. You can see the documentation [here](https://matplotlib.org/stable/contents.html). This figure object is interesting because we can use many of the different methods for figure in the matplotlib module one at a time. For example, first we add the axes to the figure, then we add one bar, then the legend, etc. It offers a lot of customisation, allowing us to define how the graph will look in detail.\n",
    "\n",
    "Run the cell below and check how the final graph looks. Read the comments and change the arguments for each method and see how they work. Note that the code for this part in R was much shorter, but we wouldn't know how to customise as much as in the example below."
   ]
  },
  {
   "cell_type": "code",
   "execution_count": 9,
   "id": "9310e543",
   "metadata": {},
   "outputs": [
    {
     "data": {
      "image/png": "[encoded data removed]",
      "text/plain": [
       "<Figure size 432x288 with 1 Axes>"
      ]
     },
     "metadata": {
      "needs_background": "light"
     },
     "output_type": "display_data"
    }
   ],
   "source": [
    "# plt refers to the `matplotlib.pyplot` module that\n",
    "# we imported in the first cell. Here we are creating a figure\n",
    "# with the figure method.\n",
    "fig = plt.figure()\n",
    "\n",
    "# Add axes with the add_axes method to the figure object.\n",
    "# This defines the dimensions [left, bottom, width, height] of the\n",
    "# new axes as fractions of figure width and height. It does not\n",
    "# define the actual size of the figure. Here, left and bottom are at (0,0)\n",
    "# and width and height have proportion 1 to the figure size, so it is a square.\n",
    "# Try changing the third value to 0.5 and see what happens.\n",
    "ax = fig.add_axes([0,0,1,1])\n",
    "\n",
    "# First, we filter the data according to the criteria we want, i.e. male and survived.\n",
    "# To filter, we are applying some conditionals to the Pandas dataframe.\n",
    "female_died = df[(df.Sex == \"female\") & (df.Survived == False)]\n",
    "female_survived = df[(df.Sex == \"female\") & (df.Survived == True)]\n",
    "male_died = df[(df.Sex == \"male\") & (df.Survived == False)]\n",
    "male_survived = df[(df.Sex == \"male\") & (df.Survived == True)]\n",
    "\n",
    "# To count, we are using the `len` (short for length) method of Python.\n",
    "# The code below starts by adding two bars to the axes using the bar method and \n",
    "# associating to each bar the data we want to plot.\n",
    "# It follows then by adding the legend, title, y label, x ticks, and x ticklabes. \n",
    "# Finally, once we have defined everything we are calling `plt.show` to plot the graph.\n",
    "# Try to investigate the code below and see what it does. \n",
    "# Perhaps run some smaller parts in different cells and see how they work.\n",
    "ax.bar([0, 1], [len(female_died), len(female_survived)], color = 'b', width = 0.25,)\n",
    "ax.bar([0.25, 1.25], [len(male_died), len(male_survived)], color = 'r', width = 0.25,)\n",
    "ax.legend(labels=['Did not survive', 'Survived'])\n",
    "ax.set_title('Passenger survival by gender')\n",
    "ax.set_ylabel('Count')\n",
    "ax.set_xticks([0.125, 1.125])\n",
    "ax.set_xticklabels([\"Female\", \"Male\"])\n",
    "plt.show()"
   ]
  },
  {
   "cell_type": "markdown",
   "id": "7d7d2cc4",
   "metadata": {},
   "source": [
    "In the next graph we want a similar look to the one above, but this time, instead of plotting the ratio of survived/dead by gender, we are going to plot it by age, those who were younger than 16 (children) and those older (adults). The process is the same as above, but we are going to filter our data according to this new criteria. You can see the code and result after running the cell below."
   ]
  },
  {
   "cell_type": "code",
   "execution_count": 10,
   "id": "f61c5c47",
   "metadata": {
    "scrolled": true
   },
   "outputs": [
    {
     "data": {
      "image/png": "[encoded data removed]",
      "text/plain": [
       "<Figure size 432x288 with 1 Axes>"
      ]
     },
     "metadata": {
      "needs_background": "light"
     },
     "output_type": "display_data"
    }
   ],
   "source": [
    "X = np.arange(2)\n",
    "fig = plt.figure()\n",
    "ax = fig.add_axes([0,0,1,1])\n",
    "\n",
    "died = [len(df[(df.Age > 16) & (df.Survived == False)]),  len(df[(df.Age <= 16) & (df.Survived == False)])]\n",
    "survived = [len(df[(df.Age > 16) & (df.Survived == True)]),  len(df[(df.Age <= 16) & (df.Survived == True)])]\n",
    "\n",
    "ax.bar(X + 0.00, died, color = 'b', width = 0.25,)\n",
    "ax.bar(X + 0.25, survived, color = 'r', width = 0.25,)\n",
    "ax.legend(labels=['Did not survive', 'Survived'])\n",
    "ax.set_title('Passenger survival rate of adults/children')\n",
    "ax.set_ylabel('Count')\n",
    "ax.set_xticks(X + 0.125)\n",
    "ax.set_xticklabels([\"Adult\", \"Children\"])\n",
    "plt.show()"
   ]
  },
  {
   "cell_type": "markdown",
   "id": "5df8ca4e",
   "metadata": {},
   "source": [
    "## Faceting\n",
    "\n",
    "Finally, to conclude our Titanic exploration with Python we would like to use facets, the same way we did in R. For that, we will filter the data similarly the same way we did for the barcharts above and then plot the respective histogram. However, we are going to use the `subplot` method of `matplotlib` that allows us to plot multiple graphs in a single figure. To filter the data according to the combination of features we are interested in, we are running two nested loops that will iterate over the values of *sex* and *pclass*. Note that this time we are actually defining the figure sizes before plotting them. See what happens if you remove this definition. "
   ]
  },
  {
   "cell_type": "code",
   "execution_count": 11,
   "id": "c28e060a",
   "metadata": {
    "scrolled": true
   },
   "outputs": [
    {
     "data": {
      "image/png": "[encoded data removed]",
      "text/plain": [
       "<Figure size 720x720 with 6 Axes>"
      ]
     },
     "metadata": {
      "needs_background": "light"
     },
     "output_type": "display_data"
    }
   ],
   "source": [
    "sex = [\"female\", \"male\"]\n",
    "pclass = [1, 2, 3]\n",
    "index = 1\n",
    "nrows = 5\n",
    "ncolumns = 2\n",
    "\n",
    "plt.figure(figsize=(10, 10))\n",
    "\n",
    "for p in pclass:\n",
    "    for s in sex:        \n",
    "        plt.subplot(nrows, ncolumns, index)\n",
    "        \n",
    "        data = df[(df.Sex == s) & (df.Pclass == p) & (df.Survived == False)].Age.values\n",
    "        plt.hist(data, bins=range(min(data), max(data) + 5, 5))\n",
    "        \n",
    "        data = df[(df.Sex == s) & (df.Pclass == p) & (df.Survived == True)].Age.values\n",
    "        \n",
    "        plt.hist(data, bins=range(min(data), max(data) + 5, 5))\n",
    "        \n",
    "        \n",
    "        plt.legend(labels=['Did not survive', 'Survived'])\n",
    "        plt.title(s + \" \" + str(p) + \" class\")\n",
    "        plt.xlabel(\"Age\")\n",
    "        plt.ylabel(\"Count\")\n",
    "        index += 1\n",
    "\n",
    "plt.tight_layout()\n",
    "plt.show()\n"
   ]
  },
  {
   "cell_type": "markdown",
   "id": "6025aa42",
   "metadata": {},
   "source": [
    "## Conclusion\n",
    "\n",
    "Well done if you read everything and reached this point. I hope that you have a better understanding of how Python and R works and that you were able to do a small comparison between them with these two notebooks. I also hope you will be able to do something similar once we have studied all the topics related to these notebooks (importing data, data cleaning, data manipulation, data visualisation, etc.)."
   ]
  }
 ],
 "metadata": {
  "kernelspec": {
   "display_name": "Python 3 (ipykernel)",
   "language": "python",
   "name": "python3"
  },
  "language_info": {
   "codemirror_mode": {
    "name": "ipython",
    "version": 3
   },
   "file_extension": ".py",
   "mimetype": "text/x-python",
   "name": "python",
   "nbconvert_exporter": "python",
   "pygments_lexer": "ipython3",
   "version": "3.8.5"
  }
 },
 "nbformat": 4,
 "nbformat_minor": 5
}
