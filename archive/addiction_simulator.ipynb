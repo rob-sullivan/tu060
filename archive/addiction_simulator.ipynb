{
 "cells": [
  {
   "cell_type": "markdown",
   "metadata": {},
   "source": [
    "# Addiction Simulator"
   ]
  },
  {
   "cell_type": "markdown",
   "metadata": {},
   "source": [
    "## Setup Virtual Environment\n",
    "1. make sure python3 is installed on your system.\n",
    "2. make sure you have a python virtual environment setup: \n",
    "python -m pip install --upgrade pip setuptools virtualenv\n",
    "3. create a python environment: \n",
    "python -m venv venv (this creates a virtual environment called venv)\n",
    "4. if applicable add /venv/ to your .gitignore.\n",
    "5. activate the virtual environment: \n",
    "either \\venv\\Scripts\\activate.bat on windows \n",
    "or source venv/bin/activate on mac+linux\n"
   ]
  },
  {
   "cell_type": "markdown",
   "metadata": {},
   "source": [
    "## Import Libraries"
   ]
  },
  {
   "cell_type": "code",
   "execution_count": 1,
   "metadata": {},
   "outputs": [],
   "source": [
    "#basic\n",
    "from os import system, name\n",
    "import random\n",
    "import time\n",
    "import numpy as np\n",
    "import matplotlib.pyplot as plt\n",
    "\n",
    "#pytorch for gpu processing of ML model\n",
    "import torch\n",
    "import torch.nn as nn\n",
    "import torch.nn.functional as F\n",
    "import torch.optim as optim\n",
    "import torch.autograd as autograd\n",
    "from torch.autograd import Variable\n",
    "\n",
    "#rich library for Terminal UI\n",
    "from rich.jupyter import print\n",
    "#from rich import print\n",
    "from rich.prompt import IntPrompt\n",
    "\n",
    "\n",
    "#hide pytorch warnings (should eventually be resolved)\n",
    "import warnings\n",
    "warnings.filterwarnings(\"ignore\")"
   ]
  },
  {
   "cell_type": "markdown",
   "metadata": {},
   "source": [
    "## Agent's Brain (Deep Q-Learning)"
   ]
  },
  {
   "cell_type": "markdown",
   "metadata": {},
   "source": [
    "### Neural Network Model"
   ]
  },
  {
   "cell_type": "code",
   "execution_count": 2,
   "metadata": {},
   "outputs": [],
   "source": [
    "class Network(nn.Module):  \n",
    "    def __init__(self, input_size, nb_action):\n",
    "        #ref: https://discuss.pytorch.org/t/super-model-in-init/97426\n",
    "        #super(Network, self).__init__()\n",
    "        super().__init__() #pytorch's NN model\n",
    "        self.input_size = input_size\n",
    "        self.nb_action = nb_action\n",
    "        self.fc1 = nn.Linear(input_size, 30)#arbitrarily chose 30 hidden layers\n",
    "        self.fc2 = nn.Linear(30, nb_action)\n",
    "    \n",
    "    #base pytorch NN model runs and we override the\n",
    "    #forward function with our own relu activation function\n",
    "    def forward(self, state):\n",
    "        x = F.relu(self.fc1(state))\n",
    "        q_values = self.fc2(x)\n",
    "        return q_values"
   ]
  },
  {
   "cell_type": "markdown",
   "metadata": {},
   "source": [
    "### Experience Replay Model\n",
    "This model is used for training our DQN model. It stores the transitions that the agent observes, allowing us to reuse this data later. By sampling from it randomly, the transitions that build up a batch are decorrelated. It has been shown that this greatly stabilizes and improves the DQN training procedure."
   ]
  },
  {
   "cell_type": "code",
   "execution_count": 3,
   "metadata": {},
   "outputs": [],
   "source": [
    "class ReplayMemory(): \n",
    "    def __init__(self, capacity):\n",
    "        self.capacity = capacity\n",
    "        self.memory = []\n",
    "    \n",
    "    def push(self, event):\n",
    "        self.memory.append(event)\n",
    "        if len(self.memory) > self.capacity:\n",
    "            del self.memory[0]\n",
    "    \n",
    "    def sample(self, batch_size):\n",
    "        samples = zip(*random.sample(self.memory, batch_size))\n",
    "        return map(lambda x: Variable(torch.cat(x, 0)), samples)"
   ]
  },
  {
   "cell_type": "markdown",
   "metadata": {},
   "source": [
    "### DQN Ensemble\n",
    "Comprised of a neural network model and a memory model. \n",
    "* The NN takes in observation of sensor data (brain chemicals) and chooses actions based on the relu activation function. \n",
    "* The agent will sample some of the sensor data and store in long term memory to be reused later for training. \n",
    "* We also use the Adam Optimisation algorithm. This is an extension to stocastic gradient desent to update weights of the neural network. "
   ]
  },
  {
   "cell_type": "code",
   "execution_count": 4,
   "metadata": {},
   "outputs": [],
   "source": [
    "class Dqn():\n",
    "    def __init__(self, input_size, nb_action, gamma):\n",
    "        self.gamma = gamma\n",
    "        self.reward_window = []\n",
    "        self.model = Network(input_size, nb_action)\n",
    "        self.memory = ReplayMemory(100000)\n",
    "        self.optimizer = optim.Adam(self.model.parameters(), lr = 0.001)\n",
    "        self.last_state = torch.Tensor(input_size).unsqueeze(0)\n",
    "        self.last_action = 0\n",
    "        self.last_reward = 0\n",
    "    \n",
    "    # select action for x duration\n",
    "    def select_action(self, state):\n",
    "        #softmax converts numbers into probabilities\n",
    "        #Q values are the output of the neural network\n",
    "        # Temperature value = 100. closer to zero the less sure the NN will be to taking the action\n",
    "        probs = F.softmax(self.model(Variable(state, volatile = True))*100) # T=100\n",
    "        #viz q value for each action, (T value by user choice)\n",
    "        #pie chart 0/1 #seperate action\n",
    "        action = probs.multinomial(num_samples=1)\n",
    "        return action.data[0,0]\n",
    "    \n",
    "    #to train our AI\n",
    "    #forward propagation then backproagation\n",
    "    # get our output, target, compare our output to the target to compute the loss error\n",
    "    # backproagate loss error into the nn and use stochastic gradient descent we update the weights according to how much they contributed to the loss error\n",
    "    def learn(self, batch_state, batch_next_state, batch_reward, batch_action):\n",
    "        outputs = self.model(batch_state).gather(1, batch_action.unsqueeze(1)).squeeze(1)\n",
    "        next_outputs = self.model(batch_next_state).detach().max(1)[0]\n",
    "        target = self.gamma*next_outputs + batch_reward\n",
    "        td_loss = F.smooth_l1_loss(outputs, target)\n",
    "        self.optimizer.zero_grad()\n",
    "        td_loss.backward(retain_graph = True)\n",
    "        self.optimizer.step()\n",
    "    \n",
    "    #When ai reaches a new state we update everything\n",
    "    #update action, last action becomes the new action but also the last state becomes the new state and last reward becomes the new state\n",
    "    # we then get this new transition and update our reward window to track training progress and exploration\n",
    "    def update(self, reward, new_signal):\n",
    "        new_state = torch.Tensor(new_signal).float().unsqueeze(0)\n",
    "        self.memory.push((self.last_state, new_state, torch.LongTensor([int(self.last_action)]), torch.Tensor([self.last_reward])))\n",
    "        action = self.select_action(new_state)\n",
    "        if len(self.memory.memory) > 100:\n",
    "            batch_state, batch_next_state, batch_action, batch_reward = self.memory.sample(100)\n",
    "            self.learn(batch_state, batch_next_state, batch_reward, batch_action)\n",
    "        self.last_action = action\n",
    "        self.last_state = new_state\n",
    "        self.last_reward = reward\n",
    "        self.reward_window.append(reward)\n",
    "        if len(self.reward_window) > 1000:\n",
    "            del self.reward_window[0]\n",
    "        return action\n",
    "    \n",
    "    def score(self):\n",
    "        return sum(self.reward_window)/(len(self.reward_window)+1.)\n",
    "    \n",
    "    def save(self):\n",
    "        torch.save({'state_dict': self.model.state_dict(),\n",
    "                    'optimizer' : self.optimizer.state_dict(),\n",
    "                   }, 'last_brain.pth')\n",
    "    def load(self):\n",
    "        if os.path.isfile('last_brain.pth'):\n",
    "            print(\"=> loading checkpoint... \")\n",
    "            checkpoint = torch.load('last_brain.pth')\n",
    "            self.model.load_state_dict(checkpoint['state_dict'])\n",
    "            self.optimizer.load_state_dict(checkpoint['optimizer'])\n",
    "            print(\"done !\")\n",
    "        else:\n",
    "            print(\"no checkpoint found...\")"
   ]
  },
  {
   "cell_type": "markdown",
   "metadata": {},
   "source": [
    "## Simulation"
   ]
  },
  {
   "cell_type": "code",
   "execution_count": 5,
   "metadata": {},
   "outputs": [],
   "source": [
    "class Simulation():    \n",
    "    def __init__(self):\n",
    "        # Agent Brain - a neural network that represents our Q-function\n",
    "        self.agent = Dqn(5,6,0.9) # 5 sensors, 3 actions, gama = 0.9\n",
    "        #Agent's Actions\n",
    "        self.agent_actions = ['Binge on Internet', 'Work', 'Exercise', 'Socialise', 'Drink Alcohol', 'Smoke'] #6 actions\n",
    "        \n",
    "        #Agent Sensors\n",
    "        ##ref habits of a happy brain\n",
    "        ## Happy Chemicals\n",
    "        self.agent_serotonin = 1 #agent feeling of self achievement\n",
    "        self.agent_oxytocin = 1 #rewarding agent for being social\n",
    "        self.agent_dopamine = 1 #agent gets going after a reward\n",
    "        self.agent_endorphins = 1 #agent gets for pushing through physical pain at different times\n",
    "\n",
    "        ### Unhappy Chemicals\n",
    "        self.agent_cortisol = 0 #stress hormone which makes agent feel uncomfortable and wants to do something\n",
    "        \n",
    "        # the mean score curve (sliding window of the rewards) with \n",
    "        # respect to time.\n",
    "        self.scores = []\n",
    "\n",
    "        #the agent's environment\n",
    "        self.end_day = 365 # day simulation ends\n",
    "        self.end_hour = 24 # hour simulation ends\n",
    "        self.current_day = 1 # day agent starts\n",
    "        self.current_hour = 1 # hour agent starts\n",
    "        self.previous_time_left = 0\n",
    "\n",
    "        # temporary. this will change\n",
    "        self.reward_received = 0 # agent wants to maximise this score\n",
    "\n",
    "        #habituation will reduce the experience that makes the agent happy because the action is new\n",
    "        self.habituation = np.zeros((self.end_day,self.end_hour)) # initializing the habituation array with only zeros.\n",
    "\n",
    "        self.finish = False #trigger to end simulation\n",
    "        while not self.finish:\n",
    "            self.finish = self.next_time_interval()\n",
    "\n",
    "    def next_time_interval(self):\n",
    "        ## get the time left\n",
    "        day = self.end_day - self.current_day #difference in current day and end day\n",
    "        hour = self.end_hour - self.current_hour #difference in current hour and end hour\n",
    "        time_left = day*24 + hour\n",
    "\n",
    "        ## agent input state vector, composed of the five brain signals received by being in the environment\n",
    "        current_state = [self.agent_serotonin, self.agent_oxytocin, self.agent_dopamine, self.agent_endorphins, self.agent_cortisol]\n",
    "        action_to_take = self.agent.update(self.reward_received, current_state) # playing the action from the ai (dqn class)\n",
    "        self.scores.append(self.agent.score()) # appending the score (mean of the last 100 rewards to the reward window)\n",
    "\n",
    "        #This is the limbic system to say what action to take.\n",
    "        #we can take the agent's NN and call forward to output q values for each state.\n",
    "        suggested_action = self.agent_actions[action_to_take]\n",
    "        sa = int(1 if suggested_action==\"Binge on Video Games\" else 2 if suggested_action==\"Work\" else 3 if suggested_action==\"Exercise\" else 4 if suggested_action==\"Socialise\" else 5 if suggested_action==\"Drink Alcohol\" else 6 if suggested_action==\"Smoke\" else 0)\n",
    "        \n",
    "        #give user options\n",
    "        self.clear()\n",
    "        print(\"** Current Day: [bold dark_violet]\" + str(self.current_day) + \"[/bold dark_violet], Current Hour: [bold dark_violet]\" + str(self.current_hour) + \"[/bold dark_violet], Time Left: [bold dark_violet]\" + str(time_left) + \"[/bold dark_violet] hrs ** \\n\")\n",
    "        print(\"- [bold dark_green]Serotonin: \" + str(\"#\" * self.agent_serotonin) + \"[/bold dark_green]\")\n",
    "        print(\"- [bold dark_green]Oxytocin: \" + str(\"#\" * self.agent_oxytocin) + \"[/bold dark_green]\")\n",
    "        print(\"- [bold dark_green]Dopamine: \" + str(\"#\"*self.agent_dopamine) + \"[/bold dark_green]\")\n",
    "        print(\"- [bold dark_green]Endorphins: \" + str(\"#\"*self.agent_endorphins) + \"[/bold dark_green]\")\n",
    "        print(\"- [bold dark_red]Cortisol: \" + str(\"#\"*self.agent_serotonin) + \"[/bold dark_red]\")\n",
    "        print(\"\\n1. [bold dark_violet]Binge on Internet[/bold dark_violet]\\n2. [bold dark_violet]Work[/bold dark_violet]\\n3. [bold dark_violet]Exercise[/bold dark_violet]\\n4. [bold dark_violet]Socialise[/bold dark_violet]\\n5. [bold dark_violet]Drink Alcohol[/bold dark_violet]\\n6. [bold dark_violet]Smoke[/bold dark_violet]\\n\")\n",
    "        action_taken = 0\n",
    "        action_taken = IntPrompt.ask(\"Choose from 1 to 6\", default=sa)\n",
    "\n",
    "        #update agent brain chemicals after action taken\n",
    "        if(action_taken == 1): #Binge on Internet\n",
    "            self.agent_serotonin += 0\n",
    "            self.agent_oxytocin += 0\n",
    "            self.agent_dopamine += 1\n",
    "            self.agent_endorphins += 0\n",
    "            self.agent_cortisol += 0\n",
    "        elif(action_taken == 2): # Work\n",
    "            self.agent_serotonin += 1\n",
    "            self.agent_oxytocin += 0\n",
    "            self.agent_dopamine -= 1\n",
    "            self.agent_endorphins += 0\n",
    "            self.agent_cortisol += 1\n",
    "        elif(action_taken == 3): #Exercise\n",
    "            self.agent_serotonin += 1\n",
    "            self.agent_oxytocin += 0\n",
    "            self.agent_dopamine += 1\n",
    "            self.agent_endorphins += 0\n",
    "            self.agent_cortisol += 0\n",
    "        elif(action_taken == 4): #Socialise\n",
    "            self.agent_serotonin += 0\n",
    "            self.agent_oxytocin += 1\n",
    "            self.agent_dopamine += 1\n",
    "            self.agent_endorphins += 0\n",
    "            self.agent_cortisol += 0\n",
    "        elif(action_taken == 5): #Drink Alcohol\n",
    "            self.agent_serotonin += 0\n",
    "            self.agent_oxytocin += 0\n",
    "            self.agent_dopamine += 1\n",
    "            self.agent_endorphins += 0\n",
    "            self.agent_cortisol += 0\n",
    "        elif(action_taken == 6): #Smoke\n",
    "            self.agent_serotonin += 0\n",
    "            self.agent_oxytocin += 0\n",
    "            self.agent_dopamine += 1\n",
    "            self.agent_endorphins += 0\n",
    "            self.agent_cortisol += 0\n",
    "        elif(action_taken == 0):#quit\n",
    "            #print(\"saving brain...\")\n",
    "            #brain.save()\n",
    "            plt.title(\"Scores\")\n",
    "            plt.xlabel(\"Epochs\")\n",
    "            plt.ylabel(\"Reward\")\n",
    "            plt.plot(self.scores)\n",
    "            plt.show()\n",
    "            return True   #end simulation\n",
    "\n",
    "#indp. only dopamine is max reward,\n",
    "# seperate good actions and bad action\n",
    "# user action vs inertia of agent\n",
    "# user action at start import..,\n",
    "# repeated user actions can eventually change agent's actions\n",
    "# viz what past actions were taken by user.\n",
    "\n",
    "#e.g represent person who is alcoholic.\n",
    "        #reward and punishment conditions\n",
    "        self.reward_received = self.agent_serotonin + self.agent_oxytocin + self.agent_dopamine + self.agent_endorphins - self.agent_cortisol\n",
    "        if(self.habituation[0,0] > 0):\n",
    "            self.reward_received = -1 # reward -1 for repeating an action\n",
    "        else:\n",
    "            #otherwise\n",
    "            self.reward_received = -0.2 # it gets bad reward (-0.2)\n",
    "            if time_left < self.previous_time_left: # however if it getting close to the goal\n",
    "                self.reward_received = 0.1 # it still gets slightly positive reward 0.1 just for surviving\n",
    "\n",
    "        #check if this is the last round otherwise continue\n",
    "        if(time_left <= 0):\n",
    "            return True   #end simulation\n",
    "        else:    \n",
    "            # Updating the last time from the agent to the end time (goal)\n",
    "            self.current_day += 1  #update to next day interval\n",
    "            if(self.current_day > self.end_day):\n",
    "                self.current_day = self.end_day\n",
    "            self.current_hour += 1 #update to next hour interval\n",
    "            if(self.current_hour > self.end_hour):\n",
    "                self.current_hour = 0\n",
    "            self.previous_time_left = time_left\n",
    "            return False\n",
    "\n",
    "    def clear(self): \n",
    "        \"\"\"\n",
    "        This function was taken from https://www.geeksforgeeks.org/clear-screen-python/ to\n",
    "        allow the terminal to be cleared when changing menus or showing the user important\n",
    "        messages. It checks what operating system is being used and uses the correct \n",
    "        clearing command.\n",
    "        \"\"\"\n",
    "        # for windows \n",
    "        if name == 'nt': \n",
    "            _ = system('cls') \n",
    "\n",
    "        # for mac and linux(here, os.name is 'posix')\n",
    "        else: \n",
    "            _ = system('clear')"
   ]
  },
  {
   "cell_type": "code",
   "execution_count": 6,
   "metadata": {},
   "outputs": [
    {
     "data": {
      "text/html": [
       "<pre style=\"white-space:pre;overflow-x:auto;line-height:normal;font-family:Menlo,'DejaVu Sans Mono',consolas,'Courier New',monospace\">** Current Day: <span style=\"color: #af00d7; text-decoration-color: #af00d7; font-weight: bold\">1</span>, Current Hour: <span style=\"color: #af00d7; text-decoration-color: #af00d7; font-weight: bold\">1</span>, Time Left: <span style=\"color: #af00d7; text-decoration-color: #af00d7; font-weight: bold\">8759</span> hrs ** \n",
       "\n",
       "</pre>\n"
      ],
      "text/plain": [
       "** Current Day: \u001b[1;38;5;128m1\u001b[0m, Current Hour: \u001b[1;38;5;128m1\u001b[0m, Time Left: \u001b[1;38;5;128m8759\u001b[0m hrs ** \n",
       "\n"
      ]
     },
     "metadata": {},
     "output_type": "display_data"
    },
    {
     "data": {
      "text/html": [
       "<pre style=\"white-space:pre;overflow-x:auto;line-height:normal;font-family:Menlo,'DejaVu Sans Mono',consolas,'Courier New',monospace\">- <span style=\"color: #005f00; text-decoration-color: #005f00; font-weight: bold\">Serotonin: #</span>\n",
       "</pre>\n"
      ],
      "text/plain": [
       "- \u001b[1;38;5;22mSerotonin: #\u001b[0m\n"
      ]
     },
     "metadata": {},
     "output_type": "display_data"
    },
    {
     "data": {
      "text/html": [
       "<pre style=\"white-space:pre;overflow-x:auto;line-height:normal;font-family:Menlo,'DejaVu Sans Mono',consolas,'Courier New',monospace\">- <span style=\"color: #005f00; text-decoration-color: #005f00; font-weight: bold\">Oxytocin: #</span>\n",
       "</pre>\n"
      ],
      "text/plain": [
       "- \u001b[1;38;5;22mOxytocin: #\u001b[0m\n"
      ]
     },
     "metadata": {},
     "output_type": "display_data"
    },
    {
     "data": {
      "text/html": [
       "<pre style=\"white-space:pre;overflow-x:auto;line-height:normal;font-family:Menlo,'DejaVu Sans Mono',consolas,'Courier New',monospace\">- <span style=\"color: #005f00; text-decoration-color: #005f00; font-weight: bold\">Dopamine: #</span>\n",
       "</pre>\n"
      ],
      "text/plain": [
       "- \u001b[1;38;5;22mDopamine: #\u001b[0m\n"
      ]
     },
     "metadata": {},
     "output_type": "display_data"
    },
    {
     "data": {
      "text/html": [
       "<pre style=\"white-space:pre;overflow-x:auto;line-height:normal;font-family:Menlo,'DejaVu Sans Mono',consolas,'Courier New',monospace\">- <span style=\"color: #005f00; text-decoration-color: #005f00; font-weight: bold\">Endorphins: #</span>\n",
       "</pre>\n"
      ],
      "text/plain": [
       "- \u001b[1;38;5;22mEndorphins: #\u001b[0m\n"
      ]
     },
     "metadata": {},
     "output_type": "display_data"
    },
    {
     "data": {
      "text/html": [
       "<pre style=\"white-space:pre;overflow-x:auto;line-height:normal;font-family:Menlo,'DejaVu Sans Mono',consolas,'Courier New',monospace\">- <span style=\"color: #870000; text-decoration-color: #870000; font-weight: bold\">Cortisol: #</span>\n",
       "</pre>\n"
      ],
      "text/plain": [
       "- \u001b[1;38;5;88mCortisol: #\u001b[0m\n"
      ]
     },
     "metadata": {},
     "output_type": "display_data"
    },
    {
     "data": {
      "text/html": [
       "<pre style=\"white-space:pre;overflow-x:auto;line-height:normal;font-family:Menlo,'DejaVu Sans Mono',consolas,'Courier New',monospace\">\n",
       "<span style=\"color: #008080; text-decoration-color: #008080; font-weight: bold\">1</span>. <span style=\"color: #af00d7; text-decoration-color: #af00d7; font-weight: bold\">Binge on Internet</span>\n",
       "<span style=\"color: #008080; text-decoration-color: #008080; font-weight: bold\">2</span>. <span style=\"color: #af00d7; text-decoration-color: #af00d7; font-weight: bold\">Work</span>\n",
       "<span style=\"color: #008080; text-decoration-color: #008080; font-weight: bold\">3</span>. <span style=\"color: #af00d7; text-decoration-color: #af00d7; font-weight: bold\">Exercise</span>\n",
       "<span style=\"color: #008080; text-decoration-color: #008080; font-weight: bold\">4</span>. <span style=\"color: #af00d7; text-decoration-color: #af00d7; font-weight: bold\">Socialise</span>\n",
       "<span style=\"color: #008080; text-decoration-color: #008080; font-weight: bold\">5</span>. <span style=\"color: #af00d7; text-decoration-color: #af00d7; font-weight: bold\">Drink Alcohol</span>\n",
       "<span style=\"color: #008080; text-decoration-color: #008080; font-weight: bold\">6</span>. <span style=\"color: #af00d7; text-decoration-color: #af00d7; font-weight: bold\">Smoke</span>\n",
       "\n",
       "</pre>\n"
      ],
      "text/plain": [
       "\n",
       "\u001b[1;36m1\u001b[0m. \u001b[1;38;5;128mBinge on Internet\u001b[0m\n",
       "\u001b[1;36m2\u001b[0m. \u001b[1;38;5;128mWork\u001b[0m\n",
       "\u001b[1;36m3\u001b[0m. \u001b[1;38;5;128mExercise\u001b[0m\n",
       "\u001b[1;36m4\u001b[0m. \u001b[1;38;5;128mSocialise\u001b[0m\n",
       "\u001b[1;36m5\u001b[0m. \u001b[1;38;5;128mDrink Alcohol\u001b[0m\n",
       "\u001b[1;36m6\u001b[0m. \u001b[1;38;5;128mSmoke\u001b[0m\n",
       "\n"
      ]
     },
     "metadata": {},
     "output_type": "display_data"
    },
    {
     "data": {
      "text/html": [
       "<pre style=\"white-space:pre;overflow-x:auto;line-height:normal;font-family:Menlo,'DejaVu Sans Mono',consolas,'Courier New',monospace\">Choose from 1 to 6 <span style=\"color: #008080; text-decoration-color: #008080; font-weight: bold\">(2)</span>: </pre>\n"
      ],
      "text/plain": [
       "Choose from 1 to 6 \u001b[1;36m(2)\u001b[0m: "
      ]
     },
     "metadata": {},
     "output_type": "display_data"
    },
    {
     "data": {
      "text/html": [
       "<pre style=\"white-space:pre;overflow-x:auto;line-height:normal;font-family:Menlo,'DejaVu Sans Mono',consolas,'Courier New',monospace\">** Current Day: <span style=\"color: #af00d7; text-decoration-color: #af00d7; font-weight: bold\">2</span>, Current Hour: <span style=\"color: #af00d7; text-decoration-color: #af00d7; font-weight: bold\">2</span>, Time Left: <span style=\"color: #af00d7; text-decoration-color: #af00d7; font-weight: bold\">8734</span> hrs ** \n",
       "\n",
       "</pre>\n"
      ],
      "text/plain": [
       "** Current Day: \u001b[1;38;5;128m2\u001b[0m, Current Hour: \u001b[1;38;5;128m2\u001b[0m, Time Left: \u001b[1;38;5;128m8734\u001b[0m hrs ** \n",
       "\n"
      ]
     },
     "metadata": {},
     "output_type": "display_data"
    },
    {
     "data": {
      "text/html": [
       "<pre style=\"white-space:pre;overflow-x:auto;line-height:normal;font-family:Menlo,'DejaVu Sans Mono',consolas,'Courier New',monospace\">- <span style=\"color: #005f00; text-decoration-color: #005f00; font-weight: bold\">Serotonin: #</span>\n",
       "</pre>\n"
      ],
      "text/plain": [
       "- \u001b[1;38;5;22mSerotonin: #\u001b[0m\n"
      ]
     },
     "metadata": {},
     "output_type": "display_data"
    },
    {
     "data": {
      "text/html": [
       "<pre style=\"white-space:pre;overflow-x:auto;line-height:normal;font-family:Menlo,'DejaVu Sans Mono',consolas,'Courier New',monospace\">- <span style=\"color: #005f00; text-decoration-color: #005f00; font-weight: bold\">Oxytocin: #</span>\n",
       "</pre>\n"
      ],
      "text/plain": [
       "- \u001b[1;38;5;22mOxytocin: #\u001b[0m\n"
      ]
     },
     "metadata": {},
     "output_type": "display_data"
    },
    {
     "data": {
      "text/html": [
       "<pre style=\"white-space:pre;overflow-x:auto;line-height:normal;font-family:Menlo,'DejaVu Sans Mono',consolas,'Courier New',monospace\">- <span style=\"color: #005f00; text-decoration-color: #005f00; font-weight: bold\">Dopamine: ##</span>\n",
       "</pre>\n"
      ],
      "text/plain": [
       "- \u001b[1;38;5;22mDopamine: ##\u001b[0m\n"
      ]
     },
     "metadata": {},
     "output_type": "display_data"
    },
    {
     "data": {
      "text/html": [
       "<pre style=\"white-space:pre;overflow-x:auto;line-height:normal;font-family:Menlo,'DejaVu Sans Mono',consolas,'Courier New',monospace\">- <span style=\"color: #005f00; text-decoration-color: #005f00; font-weight: bold\">Endorphins: #</span>\n",
       "</pre>\n"
      ],
      "text/plain": [
       "- \u001b[1;38;5;22mEndorphins: #\u001b[0m\n"
      ]
     },
     "metadata": {},
     "output_type": "display_data"
    },
    {
     "data": {
      "text/html": [
       "<pre style=\"white-space:pre;overflow-x:auto;line-height:normal;font-family:Menlo,'DejaVu Sans Mono',consolas,'Courier New',monospace\">- <span style=\"color: #870000; text-decoration-color: #870000; font-weight: bold\">Cortisol: #</span>\n",
       "</pre>\n"
      ],
      "text/plain": [
       "- \u001b[1;38;5;88mCortisol: #\u001b[0m\n"
      ]
     },
     "metadata": {},
     "output_type": "display_data"
    },
    {
     "data": {
      "text/html": [
       "<pre style=\"white-space:pre;overflow-x:auto;line-height:normal;font-family:Menlo,'DejaVu Sans Mono',consolas,'Courier New',monospace\">\n",
       "<span style=\"color: #008080; text-decoration-color: #008080; font-weight: bold\">1</span>. <span style=\"color: #af00d7; text-decoration-color: #af00d7; font-weight: bold\">Binge on Internet</span>\n",
       "<span style=\"color: #008080; text-decoration-color: #008080; font-weight: bold\">2</span>. <span style=\"color: #af00d7; text-decoration-color: #af00d7; font-weight: bold\">Work</span>\n",
       "<span style=\"color: #008080; text-decoration-color: #008080; font-weight: bold\">3</span>. <span style=\"color: #af00d7; text-decoration-color: #af00d7; font-weight: bold\">Exercise</span>\n",
       "<span style=\"color: #008080; text-decoration-color: #008080; font-weight: bold\">4</span>. <span style=\"color: #af00d7; text-decoration-color: #af00d7; font-weight: bold\">Socialise</span>\n",
       "<span style=\"color: #008080; text-decoration-color: #008080; font-weight: bold\">5</span>. <span style=\"color: #af00d7; text-decoration-color: #af00d7; font-weight: bold\">Drink Alcohol</span>\n",
       "<span style=\"color: #008080; text-decoration-color: #008080; font-weight: bold\">6</span>. <span style=\"color: #af00d7; text-decoration-color: #af00d7; font-weight: bold\">Smoke</span>\n",
       "\n",
       "</pre>\n"
      ],
      "text/plain": [
       "\n",
       "\u001b[1;36m1\u001b[0m. \u001b[1;38;5;128mBinge on Internet\u001b[0m\n",
       "\u001b[1;36m2\u001b[0m. \u001b[1;38;5;128mWork\u001b[0m\n",
       "\u001b[1;36m3\u001b[0m. \u001b[1;38;5;128mExercise\u001b[0m\n",
       "\u001b[1;36m4\u001b[0m. \u001b[1;38;5;128mSocialise\u001b[0m\n",
       "\u001b[1;36m5\u001b[0m. \u001b[1;38;5;128mDrink Alcohol\u001b[0m\n",
       "\u001b[1;36m6\u001b[0m. \u001b[1;38;5;128mSmoke\u001b[0m\n",
       "\n"
      ]
     },
     "metadata": {},
     "output_type": "display_data"
    },
    {
     "data": {
      "text/html": [
       "<pre style=\"white-space:pre;overflow-x:auto;line-height:normal;font-family:Menlo,'DejaVu Sans Mono',consolas,'Courier New',monospace\">Choose from 1 to 6 <span style=\"color: #008080; text-decoration-color: #008080; font-weight: bold\">(2)</span>: </pre>\n"
      ],
      "text/plain": [
       "Choose from 1 to 6 \u001b[1;36m(2)\u001b[0m: "
      ]
     },
     "metadata": {},
     "output_type": "display_data"
    },
    {
     "data": {
      "text/html": [
       "<pre style=\"white-space:pre;overflow-x:auto;line-height:normal;font-family:Menlo,'DejaVu Sans Mono',consolas,'Courier New',monospace\">** Current Day: <span style=\"color: #af00d7; text-decoration-color: #af00d7; font-weight: bold\">3</span>, Current Hour: <span style=\"color: #af00d7; text-decoration-color: #af00d7; font-weight: bold\">3</span>, Time Left: <span style=\"color: #af00d7; text-decoration-color: #af00d7; font-weight: bold\">8709</span> hrs ** \n",
       "\n",
       "</pre>\n"
      ],
      "text/plain": [
       "** Current Day: \u001b[1;38;5;128m3\u001b[0m, Current Hour: \u001b[1;38;5;128m3\u001b[0m, Time Left: \u001b[1;38;5;128m8709\u001b[0m hrs ** \n",
       "\n"
      ]
     },
     "metadata": {},
     "output_type": "display_data"
    },
    {
     "data": {
      "text/html": [
       "<pre style=\"white-space:pre;overflow-x:auto;line-height:normal;font-family:Menlo,'DejaVu Sans Mono',consolas,'Courier New',monospace\">- <span style=\"color: #005f00; text-decoration-color: #005f00; font-weight: bold\">Serotonin: #</span>\n",
       "</pre>\n"
      ],
      "text/plain": [
       "- \u001b[1;38;5;22mSerotonin: #\u001b[0m\n"
      ]
     },
     "metadata": {},
     "output_type": "display_data"
    },
    {
     "data": {
      "text/html": [
       "<pre style=\"white-space:pre;overflow-x:auto;line-height:normal;font-family:Menlo,'DejaVu Sans Mono',consolas,'Courier New',monospace\">- <span style=\"color: #005f00; text-decoration-color: #005f00; font-weight: bold\">Oxytocin: #</span>\n",
       "</pre>\n"
      ],
      "text/plain": [
       "- \u001b[1;38;5;22mOxytocin: #\u001b[0m\n"
      ]
     },
     "metadata": {},
     "output_type": "display_data"
    },
    {
     "data": {
      "text/html": [
       "<pre style=\"white-space:pre;overflow-x:auto;line-height:normal;font-family:Menlo,'DejaVu Sans Mono',consolas,'Courier New',monospace\">- <span style=\"color: #005f00; text-decoration-color: #005f00; font-weight: bold\">Dopamine: ###</span>\n",
       "</pre>\n"
      ],
      "text/plain": [
       "- \u001b[1;38;5;22mDopamine: ###\u001b[0m\n"
      ]
     },
     "metadata": {},
     "output_type": "display_data"
    },
    {
     "data": {
      "text/html": [
       "<pre style=\"white-space:pre;overflow-x:auto;line-height:normal;font-family:Menlo,'DejaVu Sans Mono',consolas,'Courier New',monospace\">- <span style=\"color: #005f00; text-decoration-color: #005f00; font-weight: bold\">Endorphins: #</span>\n",
       "</pre>\n"
      ],
      "text/plain": [
       "- \u001b[1;38;5;22mEndorphins: #\u001b[0m\n"
      ]
     },
     "metadata": {},
     "output_type": "display_data"
    },
    {
     "data": {
      "text/html": [
       "<pre style=\"white-space:pre;overflow-x:auto;line-height:normal;font-family:Menlo,'DejaVu Sans Mono',consolas,'Courier New',monospace\">- <span style=\"color: #870000; text-decoration-color: #870000; font-weight: bold\">Cortisol: #</span>\n",
       "</pre>\n"
      ],
      "text/plain": [
       "- \u001b[1;38;5;88mCortisol: #\u001b[0m\n"
      ]
     },
     "metadata": {},
     "output_type": "display_data"
    },
    {
     "data": {
      "text/html": [
       "<pre style=\"white-space:pre;overflow-x:auto;line-height:normal;font-family:Menlo,'DejaVu Sans Mono',consolas,'Courier New',monospace\">\n",
       "<span style=\"color: #008080; text-decoration-color: #008080; font-weight: bold\">1</span>. <span style=\"color: #af00d7; text-decoration-color: #af00d7; font-weight: bold\">Binge on Internet</span>\n",
       "<span style=\"color: #008080; text-decoration-color: #008080; font-weight: bold\">2</span>. <span style=\"color: #af00d7; text-decoration-color: #af00d7; font-weight: bold\">Work</span>\n",
       "<span style=\"color: #008080; text-decoration-color: #008080; font-weight: bold\">3</span>. <span style=\"color: #af00d7; text-decoration-color: #af00d7; font-weight: bold\">Exercise</span>\n",
       "<span style=\"color: #008080; text-decoration-color: #008080; font-weight: bold\">4</span>. <span style=\"color: #af00d7; text-decoration-color: #af00d7; font-weight: bold\">Socialise</span>\n",
       "<span style=\"color: #008080; text-decoration-color: #008080; font-weight: bold\">5</span>. <span style=\"color: #af00d7; text-decoration-color: #af00d7; font-weight: bold\">Drink Alcohol</span>\n",
       "<span style=\"color: #008080; text-decoration-color: #008080; font-weight: bold\">6</span>. <span style=\"color: #af00d7; text-decoration-color: #af00d7; font-weight: bold\">Smoke</span>\n",
       "\n",
       "</pre>\n"
      ],
      "text/plain": [
       "\n",
       "\u001b[1;36m1\u001b[0m. \u001b[1;38;5;128mBinge on Internet\u001b[0m\n",
       "\u001b[1;36m2\u001b[0m. \u001b[1;38;5;128mWork\u001b[0m\n",
       "\u001b[1;36m3\u001b[0m. \u001b[1;38;5;128mExercise\u001b[0m\n",
       "\u001b[1;36m4\u001b[0m. \u001b[1;38;5;128mSocialise\u001b[0m\n",
       "\u001b[1;36m5\u001b[0m. \u001b[1;38;5;128mDrink Alcohol\u001b[0m\n",
       "\u001b[1;36m6\u001b[0m. \u001b[1;38;5;128mSmoke\u001b[0m\n",
       "\n"
      ]
     },
     "metadata": {},
     "output_type": "display_data"
    },
    {
     "data": {
      "text/html": [
       "<pre style=\"white-space:pre;overflow-x:auto;line-height:normal;font-family:Menlo,'DejaVu Sans Mono',consolas,'Courier New',monospace\">Choose from 1 to 6 <span style=\"color: #008080; text-decoration-color: #008080; font-weight: bold\">(2)</span>: </pre>\n"
      ],
      "text/plain": [
       "Choose from 1 to 6 \u001b[1;36m(2)\u001b[0m: "
      ]
     },
     "metadata": {},
     "output_type": "display_data"
    },
    {
     "data": {
      "text/html": [
       "<pre style=\"white-space:pre;overflow-x:auto;line-height:normal;font-family:Menlo,'DejaVu Sans Mono',consolas,'Courier New',monospace\">** Current Day: <span style=\"color: #af00d7; text-decoration-color: #af00d7; font-weight: bold\">4</span>, Current Hour: <span style=\"color: #af00d7; text-decoration-color: #af00d7; font-weight: bold\">4</span>, Time Left: <span style=\"color: #af00d7; text-decoration-color: #af00d7; font-weight: bold\">8684</span> hrs ** \n",
       "\n",
       "</pre>\n"
      ],
      "text/plain": [
       "** Current Day: \u001b[1;38;5;128m4\u001b[0m, Current Hour: \u001b[1;38;5;128m4\u001b[0m, Time Left: \u001b[1;38;5;128m8684\u001b[0m hrs ** \n",
       "\n"
      ]
     },
     "metadata": {},
     "output_type": "display_data"
    },
    {
     "data": {
      "text/html": [
       "<pre style=\"white-space:pre;overflow-x:auto;line-height:normal;font-family:Menlo,'DejaVu Sans Mono',consolas,'Courier New',monospace\">- <span style=\"color: #005f00; text-decoration-color: #005f00; font-weight: bold\">Serotonin: #</span>\n",
       "</pre>\n"
      ],
      "text/plain": [
       "- \u001b[1;38;5;22mSerotonin: #\u001b[0m\n"
      ]
     },
     "metadata": {},
     "output_type": "display_data"
    },
    {
     "data": {
      "text/html": [
       "<pre style=\"white-space:pre;overflow-x:auto;line-height:normal;font-family:Menlo,'DejaVu Sans Mono',consolas,'Courier New',monospace\">- <span style=\"color: #005f00; text-decoration-color: #005f00; font-weight: bold\">Oxytocin: #</span>\n",
       "</pre>\n"
      ],
      "text/plain": [
       "- \u001b[1;38;5;22mOxytocin: #\u001b[0m\n"
      ]
     },
     "metadata": {},
     "output_type": "display_data"
    },
    {
     "data": {
      "text/html": [
       "<pre style=\"white-space:pre;overflow-x:auto;line-height:normal;font-family:Menlo,'DejaVu Sans Mono',consolas,'Courier New',monospace\">- <span style=\"color: #005f00; text-decoration-color: #005f00; font-weight: bold\">Dopamine: ####</span>\n",
       "</pre>\n"
      ],
      "text/plain": [
       "- \u001b[1;38;5;22mDopamine: ####\u001b[0m\n"
      ]
     },
     "metadata": {},
     "output_type": "display_data"
    },
    {
     "data": {
      "text/html": [
       "<pre style=\"white-space:pre;overflow-x:auto;line-height:normal;font-family:Menlo,'DejaVu Sans Mono',consolas,'Courier New',monospace\">- <span style=\"color: #005f00; text-decoration-color: #005f00; font-weight: bold\">Endorphins: #</span>\n",
       "</pre>\n"
      ],
      "text/plain": [
       "- \u001b[1;38;5;22mEndorphins: #\u001b[0m\n"
      ]
     },
     "metadata": {},
     "output_type": "display_data"
    },
    {
     "data": {
      "text/html": [
       "<pre style=\"white-space:pre;overflow-x:auto;line-height:normal;font-family:Menlo,'DejaVu Sans Mono',consolas,'Courier New',monospace\">- <span style=\"color: #870000; text-decoration-color: #870000; font-weight: bold\">Cortisol: #</span>\n",
       "</pre>\n"
      ],
      "text/plain": [
       "- \u001b[1;38;5;88mCortisol: #\u001b[0m\n"
      ]
     },
     "metadata": {},
     "output_type": "display_data"
    },
    {
     "data": {
      "text/html": [
       "<pre style=\"white-space:pre;overflow-x:auto;line-height:normal;font-family:Menlo,'DejaVu Sans Mono',consolas,'Courier New',monospace\">\n",
       "<span style=\"color: #008080; text-decoration-color: #008080; font-weight: bold\">1</span>. <span style=\"color: #af00d7; text-decoration-color: #af00d7; font-weight: bold\">Binge on Internet</span>\n",
       "<span style=\"color: #008080; text-decoration-color: #008080; font-weight: bold\">2</span>. <span style=\"color: #af00d7; text-decoration-color: #af00d7; font-weight: bold\">Work</span>\n",
       "<span style=\"color: #008080; text-decoration-color: #008080; font-weight: bold\">3</span>. <span style=\"color: #af00d7; text-decoration-color: #af00d7; font-weight: bold\">Exercise</span>\n",
       "<span style=\"color: #008080; text-decoration-color: #008080; font-weight: bold\">4</span>. <span style=\"color: #af00d7; text-decoration-color: #af00d7; font-weight: bold\">Socialise</span>\n",
       "<span style=\"color: #008080; text-decoration-color: #008080; font-weight: bold\">5</span>. <span style=\"color: #af00d7; text-decoration-color: #af00d7; font-weight: bold\">Drink Alcohol</span>\n",
       "<span style=\"color: #008080; text-decoration-color: #008080; font-weight: bold\">6</span>. <span style=\"color: #af00d7; text-decoration-color: #af00d7; font-weight: bold\">Smoke</span>\n",
       "\n",
       "</pre>\n"
      ],
      "text/plain": [
       "\n",
       "\u001b[1;36m1\u001b[0m. \u001b[1;38;5;128mBinge on Internet\u001b[0m\n",
       "\u001b[1;36m2\u001b[0m. \u001b[1;38;5;128mWork\u001b[0m\n",
       "\u001b[1;36m3\u001b[0m. \u001b[1;38;5;128mExercise\u001b[0m\n",
       "\u001b[1;36m4\u001b[0m. \u001b[1;38;5;128mSocialise\u001b[0m\n",
       "\u001b[1;36m5\u001b[0m. \u001b[1;38;5;128mDrink Alcohol\u001b[0m\n",
       "\u001b[1;36m6\u001b[0m. \u001b[1;38;5;128mSmoke\u001b[0m\n",
       "\n"
      ]
     },
     "metadata": {},
     "output_type": "display_data"
    },
    {
     "data": {
      "text/html": [
       "<pre style=\"white-space:pre;overflow-x:auto;line-height:normal;font-family:Menlo,'DejaVu Sans Mono',consolas,'Courier New',monospace\">Choose from 1 to 6 <span style=\"color: #008080; text-decoration-color: #008080; font-weight: bold\">(2)</span>: </pre>\n"
      ],
      "text/plain": [
       "Choose from 1 to 6 \u001b[1;36m(2)\u001b[0m: "
      ]
     },
     "metadata": {},
     "output_type": "display_data"
    },
    {
     "data": {
      "text/html": [
       "<pre style=\"white-space:pre;overflow-x:auto;line-height:normal;font-family:Menlo,'DejaVu Sans Mono',consolas,'Courier New',monospace\">** Current Day: <span style=\"color: #af00d7; text-decoration-color: #af00d7; font-weight: bold\">5</span>, Current Hour: <span style=\"color: #af00d7; text-decoration-color: #af00d7; font-weight: bold\">5</span>, Time Left: <span style=\"color: #af00d7; text-decoration-color: #af00d7; font-weight: bold\">8659</span> hrs ** \n",
       "\n",
       "</pre>\n"
      ],
      "text/plain": [
       "** Current Day: \u001b[1;38;5;128m5\u001b[0m, Current Hour: \u001b[1;38;5;128m5\u001b[0m, Time Left: \u001b[1;38;5;128m8659\u001b[0m hrs ** \n",
       "\n"
      ]
     },
     "metadata": {},
     "output_type": "display_data"
    },
    {
     "data": {
      "text/html": [
       "<pre style=\"white-space:pre;overflow-x:auto;line-height:normal;font-family:Menlo,'DejaVu Sans Mono',consolas,'Courier New',monospace\">- <span style=\"color: #005f00; text-decoration-color: #005f00; font-weight: bold\">Serotonin: #</span>\n",
       "</pre>\n"
      ],
      "text/plain": [
       "- \u001b[1;38;5;22mSerotonin: #\u001b[0m\n"
      ]
     },
     "metadata": {},
     "output_type": "display_data"
    },
    {
     "data": {
      "text/html": [
       "<pre style=\"white-space:pre;overflow-x:auto;line-height:normal;font-family:Menlo,'DejaVu Sans Mono',consolas,'Courier New',monospace\">- <span style=\"color: #005f00; text-decoration-color: #005f00; font-weight: bold\">Oxytocin: #</span>\n",
       "</pre>\n"
      ],
      "text/plain": [
       "- \u001b[1;38;5;22mOxytocin: #\u001b[0m\n"
      ]
     },
     "metadata": {},
     "output_type": "display_data"
    },
    {
     "data": {
      "text/html": [
       "<pre style=\"white-space:pre;overflow-x:auto;line-height:normal;font-family:Menlo,'DejaVu Sans Mono',consolas,'Courier New',monospace\">- <span style=\"color: #005f00; text-decoration-color: #005f00; font-weight: bold\">Dopamine: #####</span>\n",
       "</pre>\n"
      ],
      "text/plain": [
       "- \u001b[1;38;5;22mDopamine: #####\u001b[0m\n"
      ]
     },
     "metadata": {},
     "output_type": "display_data"
    },
    {
     "data": {
      "text/html": [
       "<pre style=\"white-space:pre;overflow-x:auto;line-height:normal;font-family:Menlo,'DejaVu Sans Mono',consolas,'Courier New',monospace\">- <span style=\"color: #005f00; text-decoration-color: #005f00; font-weight: bold\">Endorphins: #</span>\n",
       "</pre>\n"
      ],
      "text/plain": [
       "- \u001b[1;38;5;22mEndorphins: #\u001b[0m\n"
      ]
     },
     "metadata": {},
     "output_type": "display_data"
    },
    {
     "data": {
      "text/html": [
       "<pre style=\"white-space:pre;overflow-x:auto;line-height:normal;font-family:Menlo,'DejaVu Sans Mono',consolas,'Courier New',monospace\">- <span style=\"color: #870000; text-decoration-color: #870000; font-weight: bold\">Cortisol: #</span>\n",
       "</pre>\n"
      ],
      "text/plain": [
       "- \u001b[1;38;5;88mCortisol: #\u001b[0m\n"
      ]
     },
     "metadata": {},
     "output_type": "display_data"
    },
    {
     "data": {
      "text/html": [
       "<pre style=\"white-space:pre;overflow-x:auto;line-height:normal;font-family:Menlo,'DejaVu Sans Mono',consolas,'Courier New',monospace\">\n",
       "<span style=\"color: #008080; text-decoration-color: #008080; font-weight: bold\">1</span>. <span style=\"color: #af00d7; text-decoration-color: #af00d7; font-weight: bold\">Binge on Internet</span>\n",
       "<span style=\"color: #008080; text-decoration-color: #008080; font-weight: bold\">2</span>. <span style=\"color: #af00d7; text-decoration-color: #af00d7; font-weight: bold\">Work</span>\n",
       "<span style=\"color: #008080; text-decoration-color: #008080; font-weight: bold\">3</span>. <span style=\"color: #af00d7; text-decoration-color: #af00d7; font-weight: bold\">Exercise</span>\n",
       "<span style=\"color: #008080; text-decoration-color: #008080; font-weight: bold\">4</span>. <span style=\"color: #af00d7; text-decoration-color: #af00d7; font-weight: bold\">Socialise</span>\n",
       "<span style=\"color: #008080; text-decoration-color: #008080; font-weight: bold\">5</span>. <span style=\"color: #af00d7; text-decoration-color: #af00d7; font-weight: bold\">Drink Alcohol</span>\n",
       "<span style=\"color: #008080; text-decoration-color: #008080; font-weight: bold\">6</span>. <span style=\"color: #af00d7; text-decoration-color: #af00d7; font-weight: bold\">Smoke</span>\n",
       "\n",
       "</pre>\n"
      ],
      "text/plain": [
       "\n",
       "\u001b[1;36m1\u001b[0m. \u001b[1;38;5;128mBinge on Internet\u001b[0m\n",
       "\u001b[1;36m2\u001b[0m. \u001b[1;38;5;128mWork\u001b[0m\n",
       "\u001b[1;36m3\u001b[0m. \u001b[1;38;5;128mExercise\u001b[0m\n",
       "\u001b[1;36m4\u001b[0m. \u001b[1;38;5;128mSocialise\u001b[0m\n",
       "\u001b[1;36m5\u001b[0m. \u001b[1;38;5;128mDrink Alcohol\u001b[0m\n",
       "\u001b[1;36m6\u001b[0m. \u001b[1;38;5;128mSmoke\u001b[0m\n",
       "\n"
      ]
     },
     "metadata": {},
     "output_type": "display_data"
    },
    {
     "data": {
      "text/html": [
       "<pre style=\"white-space:pre;overflow-x:auto;line-height:normal;font-family:Menlo,'DejaVu Sans Mono',consolas,'Courier New',monospace\">Choose from 1 to 6 <span style=\"color: #008080; text-decoration-color: #008080; font-weight: bold\">(2)</span>: </pre>\n"
      ],
      "text/plain": [
       "Choose from 1 to 6 \u001b[1;36m(2)\u001b[0m: "
      ]
     },
     "metadata": {},
     "output_type": "display_data"
    },
    {
     "data": {
      "text/html": [
       "<pre style=\"white-space:pre;overflow-x:auto;line-height:normal;font-family:Menlo,'DejaVu Sans Mono',consolas,'Courier New',monospace\">** Current Day: <span style=\"color: #af00d7; text-decoration-color: #af00d7; font-weight: bold\">6</span>, Current Hour: <span style=\"color: #af00d7; text-decoration-color: #af00d7; font-weight: bold\">6</span>, Time Left: <span style=\"color: #af00d7; text-decoration-color: #af00d7; font-weight: bold\">8634</span> hrs ** \n",
       "\n",
       "</pre>\n"
      ],
      "text/plain": [
       "** Current Day: \u001b[1;38;5;128m6\u001b[0m, Current Hour: \u001b[1;38;5;128m6\u001b[0m, Time Left: \u001b[1;38;5;128m8634\u001b[0m hrs ** \n",
       "\n"
      ]
     },
     "metadata": {},
     "output_type": "display_data"
    },
    {
     "data": {
      "text/html": [
       "<pre style=\"white-space:pre;overflow-x:auto;line-height:normal;font-family:Menlo,'DejaVu Sans Mono',consolas,'Courier New',monospace\">- <span style=\"color: #005f00; text-decoration-color: #005f00; font-weight: bold\">Serotonin: #</span>\n",
       "</pre>\n"
      ],
      "text/plain": [
       "- \u001b[1;38;5;22mSerotonin: #\u001b[0m\n"
      ]
     },
     "metadata": {},
     "output_type": "display_data"
    },
    {
     "data": {
      "text/html": [
       "<pre style=\"white-space:pre;overflow-x:auto;line-height:normal;font-family:Menlo,'DejaVu Sans Mono',consolas,'Courier New',monospace\">- <span style=\"color: #005f00; text-decoration-color: #005f00; font-weight: bold\">Oxytocin: #</span>\n",
       "</pre>\n"
      ],
      "text/plain": [
       "- \u001b[1;38;5;22mOxytocin: #\u001b[0m\n"
      ]
     },
     "metadata": {},
     "output_type": "display_data"
    },
    {
     "data": {
      "text/html": [
       "<pre style=\"white-space:pre;overflow-x:auto;line-height:normal;font-family:Menlo,'DejaVu Sans Mono',consolas,'Courier New',monospace\">- <span style=\"color: #005f00; text-decoration-color: #005f00; font-weight: bold\">Dopamine: ######</span>\n",
       "</pre>\n"
      ],
      "text/plain": [
       "- \u001b[1;38;5;22mDopamine: ######\u001b[0m\n"
      ]
     },
     "metadata": {},
     "output_type": "display_data"
    },
    {
     "data": {
      "text/html": [
       "<pre style=\"white-space:pre;overflow-x:auto;line-height:normal;font-family:Menlo,'DejaVu Sans Mono',consolas,'Courier New',monospace\">- <span style=\"color: #005f00; text-decoration-color: #005f00; font-weight: bold\">Endorphins: #</span>\n",
       "</pre>\n"
      ],
      "text/plain": [
       "- \u001b[1;38;5;22mEndorphins: #\u001b[0m\n"
      ]
     },
     "metadata": {},
     "output_type": "display_data"
    },
    {
     "data": {
      "text/html": [
       "<pre style=\"white-space:pre;overflow-x:auto;line-height:normal;font-family:Menlo,'DejaVu Sans Mono',consolas,'Courier New',monospace\">- <span style=\"color: #870000; text-decoration-color: #870000; font-weight: bold\">Cortisol: #</span>\n",
       "</pre>\n"
      ],
      "text/plain": [
       "- \u001b[1;38;5;88mCortisol: #\u001b[0m\n"
      ]
     },
     "metadata": {},
     "output_type": "display_data"
    },
    {
     "data": {
      "text/html": [
       "<pre style=\"white-space:pre;overflow-x:auto;line-height:normal;font-family:Menlo,'DejaVu Sans Mono',consolas,'Courier New',monospace\">\n",
       "<span style=\"color: #008080; text-decoration-color: #008080; font-weight: bold\">1</span>. <span style=\"color: #af00d7; text-decoration-color: #af00d7; font-weight: bold\">Binge on Internet</span>\n",
       "<span style=\"color: #008080; text-decoration-color: #008080; font-weight: bold\">2</span>. <span style=\"color: #af00d7; text-decoration-color: #af00d7; font-weight: bold\">Work</span>\n",
       "<span style=\"color: #008080; text-decoration-color: #008080; font-weight: bold\">3</span>. <span style=\"color: #af00d7; text-decoration-color: #af00d7; font-weight: bold\">Exercise</span>\n",
       "<span style=\"color: #008080; text-decoration-color: #008080; font-weight: bold\">4</span>. <span style=\"color: #af00d7; text-decoration-color: #af00d7; font-weight: bold\">Socialise</span>\n",
       "<span style=\"color: #008080; text-decoration-color: #008080; font-weight: bold\">5</span>. <span style=\"color: #af00d7; text-decoration-color: #af00d7; font-weight: bold\">Drink Alcohol</span>\n",
       "<span style=\"color: #008080; text-decoration-color: #008080; font-weight: bold\">6</span>. <span style=\"color: #af00d7; text-decoration-color: #af00d7; font-weight: bold\">Smoke</span>\n",
       "\n",
       "</pre>\n"
      ],
      "text/plain": [
       "\n",
       "\u001b[1;36m1\u001b[0m. \u001b[1;38;5;128mBinge on Internet\u001b[0m\n",
       "\u001b[1;36m2\u001b[0m. \u001b[1;38;5;128mWork\u001b[0m\n",
       "\u001b[1;36m3\u001b[0m. \u001b[1;38;5;128mExercise\u001b[0m\n",
       "\u001b[1;36m4\u001b[0m. \u001b[1;38;5;128mSocialise\u001b[0m\n",
       "\u001b[1;36m5\u001b[0m. \u001b[1;38;5;128mDrink Alcohol\u001b[0m\n",
       "\u001b[1;36m6\u001b[0m. \u001b[1;38;5;128mSmoke\u001b[0m\n",
       "\n"
      ]
     },
     "metadata": {},
     "output_type": "display_data"
    },
    {
     "data": {
      "text/html": [
       "<pre style=\"white-space:pre;overflow-x:auto;line-height:normal;font-family:Menlo,'DejaVu Sans Mono',consolas,'Courier New',monospace\">Choose from 1 to 6 <span style=\"color: #008080; text-decoration-color: #008080; font-weight: bold\">(2)</span>: </pre>\n"
      ],
      "text/plain": [
       "Choose from 1 to 6 \u001b[1;36m(2)\u001b[0m: "
      ]
     },
     "metadata": {},
     "output_type": "display_data"
    },
    {
     "data": {
      "text/html": [
       "<pre style=\"white-space:pre;overflow-x:auto;line-height:normal;font-family:Menlo,'DejaVu Sans Mono',consolas,'Courier New',monospace\">** Current Day: <span style=\"color: #af00d7; text-decoration-color: #af00d7; font-weight: bold\">7</span>, Current Hour: <span style=\"color: #af00d7; text-decoration-color: #af00d7; font-weight: bold\">7</span>, Time Left: <span style=\"color: #af00d7; text-decoration-color: #af00d7; font-weight: bold\">8609</span> hrs ** \n",
       "\n",
       "</pre>\n"
      ],
      "text/plain": [
       "** Current Day: \u001b[1;38;5;128m7\u001b[0m, Current Hour: \u001b[1;38;5;128m7\u001b[0m, Time Left: \u001b[1;38;5;128m8609\u001b[0m hrs ** \n",
       "\n"
      ]
     },
     "metadata": {},
     "output_type": "display_data"
    },
    {
     "data": {
      "text/html": [
       "<pre style=\"white-space:pre;overflow-x:auto;line-height:normal;font-family:Menlo,'DejaVu Sans Mono',consolas,'Courier New',monospace\">- <span style=\"color: #005f00; text-decoration-color: #005f00; font-weight: bold\">Serotonin: #</span>\n",
       "</pre>\n"
      ],
      "text/plain": [
       "- \u001b[1;38;5;22mSerotonin: #\u001b[0m\n"
      ]
     },
     "metadata": {},
     "output_type": "display_data"
    },
    {
     "data": {
      "text/html": [
       "<pre style=\"white-space:pre;overflow-x:auto;line-height:normal;font-family:Menlo,'DejaVu Sans Mono',consolas,'Courier New',monospace\">- <span style=\"color: #005f00; text-decoration-color: #005f00; font-weight: bold\">Oxytocin: #</span>\n",
       "</pre>\n"
      ],
      "text/plain": [
       "- \u001b[1;38;5;22mOxytocin: #\u001b[0m\n"
      ]
     },
     "metadata": {},
     "output_type": "display_data"
    },
    {
     "data": {
      "text/html": [
       "<pre style=\"white-space:pre;overflow-x:auto;line-height:normal;font-family:Menlo,'DejaVu Sans Mono',consolas,'Courier New',monospace\">- <span style=\"color: #005f00; text-decoration-color: #005f00; font-weight: bold\">Dopamine: #######</span>\n",
       "</pre>\n"
      ],
      "text/plain": [
       "- \u001b[1;38;5;22mDopamine: #######\u001b[0m\n"
      ]
     },
     "metadata": {},
     "output_type": "display_data"
    },
    {
     "data": {
      "text/html": [
       "<pre style=\"white-space:pre;overflow-x:auto;line-height:normal;font-family:Menlo,'DejaVu Sans Mono',consolas,'Courier New',monospace\">- <span style=\"color: #005f00; text-decoration-color: #005f00; font-weight: bold\">Endorphins: #</span>\n",
       "</pre>\n"
      ],
      "text/plain": [
       "- \u001b[1;38;5;22mEndorphins: #\u001b[0m\n"
      ]
     },
     "metadata": {},
     "output_type": "display_data"
    },
    {
     "data": {
      "text/html": [
       "<pre style=\"white-space:pre;overflow-x:auto;line-height:normal;font-family:Menlo,'DejaVu Sans Mono',consolas,'Courier New',monospace\">- <span style=\"color: #870000; text-decoration-color: #870000; font-weight: bold\">Cortisol: #</span>\n",
       "</pre>\n"
      ],
      "text/plain": [
       "- \u001b[1;38;5;88mCortisol: #\u001b[0m\n"
      ]
     },
     "metadata": {},
     "output_type": "display_data"
    },
    {
     "data": {
      "text/html": [
       "<pre style=\"white-space:pre;overflow-x:auto;line-height:normal;font-family:Menlo,'DejaVu Sans Mono',consolas,'Courier New',monospace\">\n",
       "<span style=\"color: #008080; text-decoration-color: #008080; font-weight: bold\">1</span>. <span style=\"color: #af00d7; text-decoration-color: #af00d7; font-weight: bold\">Binge on Internet</span>\n",
       "<span style=\"color: #008080; text-decoration-color: #008080; font-weight: bold\">2</span>. <span style=\"color: #af00d7; text-decoration-color: #af00d7; font-weight: bold\">Work</span>\n",
       "<span style=\"color: #008080; text-decoration-color: #008080; font-weight: bold\">3</span>. <span style=\"color: #af00d7; text-decoration-color: #af00d7; font-weight: bold\">Exercise</span>\n",
       "<span style=\"color: #008080; text-decoration-color: #008080; font-weight: bold\">4</span>. <span style=\"color: #af00d7; text-decoration-color: #af00d7; font-weight: bold\">Socialise</span>\n",
       "<span style=\"color: #008080; text-decoration-color: #008080; font-weight: bold\">5</span>. <span style=\"color: #af00d7; text-decoration-color: #af00d7; font-weight: bold\">Drink Alcohol</span>\n",
       "<span style=\"color: #008080; text-decoration-color: #008080; font-weight: bold\">6</span>. <span style=\"color: #af00d7; text-decoration-color: #af00d7; font-weight: bold\">Smoke</span>\n",
       "\n",
       "</pre>\n"
      ],
      "text/plain": [
       "\n",
       "\u001b[1;36m1\u001b[0m. \u001b[1;38;5;128mBinge on Internet\u001b[0m\n",
       "\u001b[1;36m2\u001b[0m. \u001b[1;38;5;128mWork\u001b[0m\n",
       "\u001b[1;36m3\u001b[0m. \u001b[1;38;5;128mExercise\u001b[0m\n",
       "\u001b[1;36m4\u001b[0m. \u001b[1;38;5;128mSocialise\u001b[0m\n",
       "\u001b[1;36m5\u001b[0m. \u001b[1;38;5;128mDrink Alcohol\u001b[0m\n",
       "\u001b[1;36m6\u001b[0m. \u001b[1;38;5;128mSmoke\u001b[0m\n",
       "\n"
      ]
     },
     "metadata": {},
     "output_type": "display_data"
    },
    {
     "data": {
      "text/html": [
       "<pre style=\"white-space:pre;overflow-x:auto;line-height:normal;font-family:Menlo,'DejaVu Sans Mono',consolas,'Courier New',monospace\">Choose from 1 to 6 <span style=\"color: #008080; text-decoration-color: #008080; font-weight: bold\">(2)</span>: </pre>\n"
      ],
      "text/plain": [
       "Choose from 1 to 6 \u001b[1;36m(2)\u001b[0m: "
      ]
     },
     "metadata": {},
     "output_type": "display_data"
    },
    {
     "data": {
      "text/html": [
       "<pre style=\"white-space:pre;overflow-x:auto;line-height:normal;font-family:Menlo,'DejaVu Sans Mono',consolas,'Courier New',monospace\">** Current Day: <span style=\"color: #af00d7; text-decoration-color: #af00d7; font-weight: bold\">8</span>, Current Hour: <span style=\"color: #af00d7; text-decoration-color: #af00d7; font-weight: bold\">8</span>, Time Left: <span style=\"color: #af00d7; text-decoration-color: #af00d7; font-weight: bold\">8584</span> hrs ** \n",
       "\n",
       "</pre>\n"
      ],
      "text/plain": [
       "** Current Day: \u001b[1;38;5;128m8\u001b[0m, Current Hour: \u001b[1;38;5;128m8\u001b[0m, Time Left: \u001b[1;38;5;128m8584\u001b[0m hrs ** \n",
       "\n"
      ]
     },
     "metadata": {},
     "output_type": "display_data"
    },
    {
     "data": {
      "text/html": [
       "<pre style=\"white-space:pre;overflow-x:auto;line-height:normal;font-family:Menlo,'DejaVu Sans Mono',consolas,'Courier New',monospace\">- <span style=\"color: #005f00; text-decoration-color: #005f00; font-weight: bold\">Serotonin: #</span>\n",
       "</pre>\n"
      ],
      "text/plain": [
       "- \u001b[1;38;5;22mSerotonin: #\u001b[0m\n"
      ]
     },
     "metadata": {},
     "output_type": "display_data"
    },
    {
     "data": {
      "text/html": [
       "<pre style=\"white-space:pre;overflow-x:auto;line-height:normal;font-family:Menlo,'DejaVu Sans Mono',consolas,'Courier New',monospace\">- <span style=\"color: #005f00; text-decoration-color: #005f00; font-weight: bold\">Oxytocin: #</span>\n",
       "</pre>\n"
      ],
      "text/plain": [
       "- \u001b[1;38;5;22mOxytocin: #\u001b[0m\n"
      ]
     },
     "metadata": {},
     "output_type": "display_data"
    },
    {
     "data": {
      "text/html": [
       "<pre style=\"white-space:pre;overflow-x:auto;line-height:normal;font-family:Menlo,'DejaVu Sans Mono',consolas,'Courier New',monospace\">- <span style=\"color: #005f00; text-decoration-color: #005f00; font-weight: bold\">Dopamine: ########</span>\n",
       "</pre>\n"
      ],
      "text/plain": [
       "- \u001b[1;38;5;22mDopamine: ########\u001b[0m\n"
      ]
     },
     "metadata": {},
     "output_type": "display_data"
    },
    {
     "data": {
      "text/html": [
       "<pre style=\"white-space:pre;overflow-x:auto;line-height:normal;font-family:Menlo,'DejaVu Sans Mono',consolas,'Courier New',monospace\">- <span style=\"color: #005f00; text-decoration-color: #005f00; font-weight: bold\">Endorphins: #</span>\n",
       "</pre>\n"
      ],
      "text/plain": [
       "- \u001b[1;38;5;22mEndorphins: #\u001b[0m\n"
      ]
     },
     "metadata": {},
     "output_type": "display_data"
    },
    {
     "data": {
      "text/html": [
       "<pre style=\"white-space:pre;overflow-x:auto;line-height:normal;font-family:Menlo,'DejaVu Sans Mono',consolas,'Courier New',monospace\">- <span style=\"color: #870000; text-decoration-color: #870000; font-weight: bold\">Cortisol: #</span>\n",
       "</pre>\n"
      ],
      "text/plain": [
       "- \u001b[1;38;5;88mCortisol: #\u001b[0m\n"
      ]
     },
     "metadata": {},
     "output_type": "display_data"
    },
    {
     "data": {
      "text/html": [
       "<pre style=\"white-space:pre;overflow-x:auto;line-height:normal;font-family:Menlo,'DejaVu Sans Mono',consolas,'Courier New',monospace\">\n",
       "<span style=\"color: #008080; text-decoration-color: #008080; font-weight: bold\">1</span>. <span style=\"color: #af00d7; text-decoration-color: #af00d7; font-weight: bold\">Binge on Internet</span>\n",
       "<span style=\"color: #008080; text-decoration-color: #008080; font-weight: bold\">2</span>. <span style=\"color: #af00d7; text-decoration-color: #af00d7; font-weight: bold\">Work</span>\n",
       "<span style=\"color: #008080; text-decoration-color: #008080; font-weight: bold\">3</span>. <span style=\"color: #af00d7; text-decoration-color: #af00d7; font-weight: bold\">Exercise</span>\n",
       "<span style=\"color: #008080; text-decoration-color: #008080; font-weight: bold\">4</span>. <span style=\"color: #af00d7; text-decoration-color: #af00d7; font-weight: bold\">Socialise</span>\n",
       "<span style=\"color: #008080; text-decoration-color: #008080; font-weight: bold\">5</span>. <span style=\"color: #af00d7; text-decoration-color: #af00d7; font-weight: bold\">Drink Alcohol</span>\n",
       "<span style=\"color: #008080; text-decoration-color: #008080; font-weight: bold\">6</span>. <span style=\"color: #af00d7; text-decoration-color: #af00d7; font-weight: bold\">Smoke</span>\n",
       "\n",
       "</pre>\n"
      ],
      "text/plain": [
       "\n",
       "\u001b[1;36m1\u001b[0m. \u001b[1;38;5;128mBinge on Internet\u001b[0m\n",
       "\u001b[1;36m2\u001b[0m. \u001b[1;38;5;128mWork\u001b[0m\n",
       "\u001b[1;36m3\u001b[0m. \u001b[1;38;5;128mExercise\u001b[0m\n",
       "\u001b[1;36m4\u001b[0m. \u001b[1;38;5;128mSocialise\u001b[0m\n",
       "\u001b[1;36m5\u001b[0m. \u001b[1;38;5;128mDrink Alcohol\u001b[0m\n",
       "\u001b[1;36m6\u001b[0m. \u001b[1;38;5;128mSmoke\u001b[0m\n",
       "\n"
      ]
     },
     "metadata": {},
     "output_type": "display_data"
    },
    {
     "data": {
      "text/html": [
       "<pre style=\"white-space:pre;overflow-x:auto;line-height:normal;font-family:Menlo,'DejaVu Sans Mono',consolas,'Courier New',monospace\">Choose from 1 to 6 <span style=\"color: #008080; text-decoration-color: #008080; font-weight: bold\">(2)</span>: </pre>\n"
      ],
      "text/plain": [
       "Choose from 1 to 6 \u001b[1;36m(2)\u001b[0m: "
      ]
     },
     "metadata": {},
     "output_type": "display_data"
    },
    {
     "data": {
      "text/html": [
       "<pre style=\"white-space:pre;overflow-x:auto;line-height:normal;font-family:Menlo,'DejaVu Sans Mono',consolas,'Courier New',monospace\">** Current Day: <span style=\"color: #af00d7; text-decoration-color: #af00d7; font-weight: bold\">9</span>, Current Hour: <span style=\"color: #af00d7; text-decoration-color: #af00d7; font-weight: bold\">9</span>, Time Left: <span style=\"color: #af00d7; text-decoration-color: #af00d7; font-weight: bold\">8559</span> hrs ** \n",
       "\n",
       "</pre>\n"
      ],
      "text/plain": [
       "** Current Day: \u001b[1;38;5;128m9\u001b[0m, Current Hour: \u001b[1;38;5;128m9\u001b[0m, Time Left: \u001b[1;38;5;128m8559\u001b[0m hrs ** \n",
       "\n"
      ]
     },
     "metadata": {},
     "output_type": "display_data"
    },
    {
     "data": {
      "text/html": [
       "<pre style=\"white-space:pre;overflow-x:auto;line-height:normal;font-family:Menlo,'DejaVu Sans Mono',consolas,'Courier New',monospace\">- <span style=\"color: #005f00; text-decoration-color: #005f00; font-weight: bold\">Serotonin: #</span>\n",
       "</pre>\n"
      ],
      "text/plain": [
       "- \u001b[1;38;5;22mSerotonin: #\u001b[0m\n"
      ]
     },
     "metadata": {},
     "output_type": "display_data"
    },
    {
     "data": {
      "text/html": [
       "<pre style=\"white-space:pre;overflow-x:auto;line-height:normal;font-family:Menlo,'DejaVu Sans Mono',consolas,'Courier New',monospace\">- <span style=\"color: #005f00; text-decoration-color: #005f00; font-weight: bold\">Oxytocin: #</span>\n",
       "</pre>\n"
      ],
      "text/plain": [
       "- \u001b[1;38;5;22mOxytocin: #\u001b[0m\n"
      ]
     },
     "metadata": {},
     "output_type": "display_data"
    },
    {
     "data": {
      "text/html": [
       "<pre style=\"white-space:pre;overflow-x:auto;line-height:normal;font-family:Menlo,'DejaVu Sans Mono',consolas,'Courier New',monospace\">- <span style=\"color: #005f00; text-decoration-color: #005f00; font-weight: bold\">Dopamine: #########</span>\n",
       "</pre>\n"
      ],
      "text/plain": [
       "- \u001b[1;38;5;22mDopamine: #########\u001b[0m\n"
      ]
     },
     "metadata": {},
     "output_type": "display_data"
    },
    {
     "data": {
      "text/html": [
       "<pre style=\"white-space:pre;overflow-x:auto;line-height:normal;font-family:Menlo,'DejaVu Sans Mono',consolas,'Courier New',monospace\">- <span style=\"color: #005f00; text-decoration-color: #005f00; font-weight: bold\">Endorphins: #</span>\n",
       "</pre>\n"
      ],
      "text/plain": [
       "- \u001b[1;38;5;22mEndorphins: #\u001b[0m\n"
      ]
     },
     "metadata": {},
     "output_type": "display_data"
    },
    {
     "data": {
      "text/html": [
       "<pre style=\"white-space:pre;overflow-x:auto;line-height:normal;font-family:Menlo,'DejaVu Sans Mono',consolas,'Courier New',monospace\">- <span style=\"color: #870000; text-decoration-color: #870000; font-weight: bold\">Cortisol: #</span>\n",
       "</pre>\n"
      ],
      "text/plain": [
       "- \u001b[1;38;5;88mCortisol: #\u001b[0m\n"
      ]
     },
     "metadata": {},
     "output_type": "display_data"
    },
    {
     "data": {
      "text/html": [
       "<pre style=\"white-space:pre;overflow-x:auto;line-height:normal;font-family:Menlo,'DejaVu Sans Mono',consolas,'Courier New',monospace\">\n",
       "<span style=\"color: #008080; text-decoration-color: #008080; font-weight: bold\">1</span>. <span style=\"color: #af00d7; text-decoration-color: #af00d7; font-weight: bold\">Binge on Internet</span>\n",
       "<span style=\"color: #008080; text-decoration-color: #008080; font-weight: bold\">2</span>. <span style=\"color: #af00d7; text-decoration-color: #af00d7; font-weight: bold\">Work</span>\n",
       "<span style=\"color: #008080; text-decoration-color: #008080; font-weight: bold\">3</span>. <span style=\"color: #af00d7; text-decoration-color: #af00d7; font-weight: bold\">Exercise</span>\n",
       "<span style=\"color: #008080; text-decoration-color: #008080; font-weight: bold\">4</span>. <span style=\"color: #af00d7; text-decoration-color: #af00d7; font-weight: bold\">Socialise</span>\n",
       "<span style=\"color: #008080; text-decoration-color: #008080; font-weight: bold\">5</span>. <span style=\"color: #af00d7; text-decoration-color: #af00d7; font-weight: bold\">Drink Alcohol</span>\n",
       "<span style=\"color: #008080; text-decoration-color: #008080; font-weight: bold\">6</span>. <span style=\"color: #af00d7; text-decoration-color: #af00d7; font-weight: bold\">Smoke</span>\n",
       "\n",
       "</pre>\n"
      ],
      "text/plain": [
       "\n",
       "\u001b[1;36m1\u001b[0m. \u001b[1;38;5;128mBinge on Internet\u001b[0m\n",
       "\u001b[1;36m2\u001b[0m. \u001b[1;38;5;128mWork\u001b[0m\n",
       "\u001b[1;36m3\u001b[0m. \u001b[1;38;5;128mExercise\u001b[0m\n",
       "\u001b[1;36m4\u001b[0m. \u001b[1;38;5;128mSocialise\u001b[0m\n",
       "\u001b[1;36m5\u001b[0m. \u001b[1;38;5;128mDrink Alcohol\u001b[0m\n",
       "\u001b[1;36m6\u001b[0m. \u001b[1;38;5;128mSmoke\u001b[0m\n",
       "\n"
      ]
     },
     "metadata": {},
     "output_type": "display_data"
    },
    {
     "data": {
      "text/html": [
       "<pre style=\"white-space:pre;overflow-x:auto;line-height:normal;font-family:Menlo,'DejaVu Sans Mono',consolas,'Courier New',monospace\">Choose from 1 to 6 <span style=\"color: #008080; text-decoration-color: #008080; font-weight: bold\">(2)</span>: </pre>\n"
      ],
      "text/plain": [
       "Choose from 1 to 6 \u001b[1;36m(2)\u001b[0m: "
      ]
     },
     "metadata": {},
     "output_type": "display_data"
    },
    {
     "data": {
      "text/html": [
       "<pre style=\"white-space:pre;overflow-x:auto;line-height:normal;font-family:Menlo,'DejaVu Sans Mono',consolas,'Courier New',monospace\">** Current Day: <span style=\"color: #af00d7; text-decoration-color: #af00d7; font-weight: bold\">10</span>, Current Hour: <span style=\"color: #af00d7; text-decoration-color: #af00d7; font-weight: bold\">10</span>, Time Left: <span style=\"color: #af00d7; text-decoration-color: #af00d7; font-weight: bold\">8534</span> hrs ** \n",
       "\n",
       "</pre>\n"
      ],
      "text/plain": [
       "** Current Day: \u001b[1;38;5;128m10\u001b[0m, Current Hour: \u001b[1;38;5;128m10\u001b[0m, Time Left: \u001b[1;38;5;128m8534\u001b[0m hrs ** \n",
       "\n"
      ]
     },
     "metadata": {},
     "output_type": "display_data"
    },
    {
     "data": {
      "text/html": [
       "<pre style=\"white-space:pre;overflow-x:auto;line-height:normal;font-family:Menlo,'DejaVu Sans Mono',consolas,'Courier New',monospace\">- <span style=\"color: #005f00; text-decoration-color: #005f00; font-weight: bold\">Serotonin: #</span>\n",
       "</pre>\n"
      ],
      "text/plain": [
       "- \u001b[1;38;5;22mSerotonin: #\u001b[0m\n"
      ]
     },
     "metadata": {},
     "output_type": "display_data"
    },
    {
     "data": {
      "text/html": [
       "<pre style=\"white-space:pre;overflow-x:auto;line-height:normal;font-family:Menlo,'DejaVu Sans Mono',consolas,'Courier New',monospace\">- <span style=\"color: #005f00; text-decoration-color: #005f00; font-weight: bold\">Oxytocin: #</span>\n",
       "</pre>\n"
      ],
      "text/plain": [
       "- \u001b[1;38;5;22mOxytocin: #\u001b[0m\n"
      ]
     },
     "metadata": {},
     "output_type": "display_data"
    },
    {
     "data": {
      "text/html": [
       "<pre style=\"white-space:pre;overflow-x:auto;line-height:normal;font-family:Menlo,'DejaVu Sans Mono',consolas,'Courier New',monospace\">- <span style=\"color: #005f00; text-decoration-color: #005f00; font-weight: bold\">Dopamine: ##########</span>\n",
       "</pre>\n"
      ],
      "text/plain": [
       "- \u001b[1;38;5;22mDopamine: ##########\u001b[0m\n"
      ]
     },
     "metadata": {},
     "output_type": "display_data"
    },
    {
     "data": {
      "text/html": [
       "<pre style=\"white-space:pre;overflow-x:auto;line-height:normal;font-family:Menlo,'DejaVu Sans Mono',consolas,'Courier New',monospace\">- <span style=\"color: #005f00; text-decoration-color: #005f00; font-weight: bold\">Endorphins: #</span>\n",
       "</pre>\n"
      ],
      "text/plain": [
       "- \u001b[1;38;5;22mEndorphins: #\u001b[0m\n"
      ]
     },
     "metadata": {},
     "output_type": "display_data"
    },
    {
     "data": {
      "text/html": [
       "<pre style=\"white-space:pre;overflow-x:auto;line-height:normal;font-family:Menlo,'DejaVu Sans Mono',consolas,'Courier New',monospace\">- <span style=\"color: #870000; text-decoration-color: #870000; font-weight: bold\">Cortisol: #</span>\n",
       "</pre>\n"
      ],
      "text/plain": [
       "- \u001b[1;38;5;88mCortisol: #\u001b[0m\n"
      ]
     },
     "metadata": {},
     "output_type": "display_data"
    },
    {
     "data": {
      "text/html": [
       "<pre style=\"white-space:pre;overflow-x:auto;line-height:normal;font-family:Menlo,'DejaVu Sans Mono',consolas,'Courier New',monospace\">\n",
       "<span style=\"color: #008080; text-decoration-color: #008080; font-weight: bold\">1</span>. <span style=\"color: #af00d7; text-decoration-color: #af00d7; font-weight: bold\">Binge on Internet</span>\n",
       "<span style=\"color: #008080; text-decoration-color: #008080; font-weight: bold\">2</span>. <span style=\"color: #af00d7; text-decoration-color: #af00d7; font-weight: bold\">Work</span>\n",
       "<span style=\"color: #008080; text-decoration-color: #008080; font-weight: bold\">3</span>. <span style=\"color: #af00d7; text-decoration-color: #af00d7; font-weight: bold\">Exercise</span>\n",
       "<span style=\"color: #008080; text-decoration-color: #008080; font-weight: bold\">4</span>. <span style=\"color: #af00d7; text-decoration-color: #af00d7; font-weight: bold\">Socialise</span>\n",
       "<span style=\"color: #008080; text-decoration-color: #008080; font-weight: bold\">5</span>. <span style=\"color: #af00d7; text-decoration-color: #af00d7; font-weight: bold\">Drink Alcohol</span>\n",
       "<span style=\"color: #008080; text-decoration-color: #008080; font-weight: bold\">6</span>. <span style=\"color: #af00d7; text-decoration-color: #af00d7; font-weight: bold\">Smoke</span>\n",
       "\n",
       "</pre>\n"
      ],
      "text/plain": [
       "\n",
       "\u001b[1;36m1\u001b[0m. \u001b[1;38;5;128mBinge on Internet\u001b[0m\n",
       "\u001b[1;36m2\u001b[0m. \u001b[1;38;5;128mWork\u001b[0m\n",
       "\u001b[1;36m3\u001b[0m. \u001b[1;38;5;128mExercise\u001b[0m\n",
       "\u001b[1;36m4\u001b[0m. \u001b[1;38;5;128mSocialise\u001b[0m\n",
       "\u001b[1;36m5\u001b[0m. \u001b[1;38;5;128mDrink Alcohol\u001b[0m\n",
       "\u001b[1;36m6\u001b[0m. \u001b[1;38;5;128mSmoke\u001b[0m\n",
       "\n"
      ]
     },
     "metadata": {},
     "output_type": "display_data"
    },
    {
     "data": {
      "text/html": [
       "<pre style=\"white-space:pre;overflow-x:auto;line-height:normal;font-family:Menlo,'DejaVu Sans Mono',consolas,'Courier New',monospace\">Choose from 1 to 6 <span style=\"color: #008080; text-decoration-color: #008080; font-weight: bold\">(2)</span>: </pre>\n"
      ],
      "text/plain": [
       "Choose from 1 to 6 \u001b[1;36m(2)\u001b[0m: "
      ]
     },
     "metadata": {},
     "output_type": "display_data"
    },
    {
     "data": {
      "text/html": [
       "<pre style=\"white-space:pre;overflow-x:auto;line-height:normal;font-family:Menlo,'DejaVu Sans Mono',consolas,'Courier New',monospace\">** Current Day: <span style=\"color: #af00d7; text-decoration-color: #af00d7; font-weight: bold\">11</span>, Current Hour: <span style=\"color: #af00d7; text-decoration-color: #af00d7; font-weight: bold\">11</span>, Time Left: <span style=\"color: #af00d7; text-decoration-color: #af00d7; font-weight: bold\">8509</span> hrs ** \n",
       "\n",
       "</pre>\n"
      ],
      "text/plain": [
       "** Current Day: \u001b[1;38;5;128m11\u001b[0m, Current Hour: \u001b[1;38;5;128m11\u001b[0m, Time Left: \u001b[1;38;5;128m8509\u001b[0m hrs ** \n",
       "\n"
      ]
     },
     "metadata": {},
     "output_type": "display_data"
    },
    {
     "data": {
      "text/html": [
       "<pre style=\"white-space:pre;overflow-x:auto;line-height:normal;font-family:Menlo,'DejaVu Sans Mono',consolas,'Courier New',monospace\">- <span style=\"color: #005f00; text-decoration-color: #005f00; font-weight: bold\">Serotonin: #</span>\n",
       "</pre>\n"
      ],
      "text/plain": [
       "- \u001b[1;38;5;22mSerotonin: #\u001b[0m\n"
      ]
     },
     "metadata": {},
     "output_type": "display_data"
    },
    {
     "data": {
      "text/html": [
       "<pre style=\"white-space:pre;overflow-x:auto;line-height:normal;font-family:Menlo,'DejaVu Sans Mono',consolas,'Courier New',monospace\">- <span style=\"color: #005f00; text-decoration-color: #005f00; font-weight: bold\">Oxytocin: #</span>\n",
       "</pre>\n"
      ],
      "text/plain": [
       "- \u001b[1;38;5;22mOxytocin: #\u001b[0m\n"
      ]
     },
     "metadata": {},
     "output_type": "display_data"
    },
    {
     "data": {
      "text/html": [
       "<pre style=\"white-space:pre;overflow-x:auto;line-height:normal;font-family:Menlo,'DejaVu Sans Mono',consolas,'Courier New',monospace\">- <span style=\"color: #005f00; text-decoration-color: #005f00; font-weight: bold\">Dopamine: ###########</span>\n",
       "</pre>\n"
      ],
      "text/plain": [
       "- \u001b[1;38;5;22mDopamine: ###########\u001b[0m\n"
      ]
     },
     "metadata": {},
     "output_type": "display_data"
    },
    {
     "data": {
      "text/html": [
       "<pre style=\"white-space:pre;overflow-x:auto;line-height:normal;font-family:Menlo,'DejaVu Sans Mono',consolas,'Courier New',monospace\">- <span style=\"color: #005f00; text-decoration-color: #005f00; font-weight: bold\">Endorphins: #</span>\n",
       "</pre>\n"
      ],
      "text/plain": [
       "- \u001b[1;38;5;22mEndorphins: #\u001b[0m\n"
      ]
     },
     "metadata": {},
     "output_type": "display_data"
    },
    {
     "data": {
      "text/html": [
       "<pre style=\"white-space:pre;overflow-x:auto;line-height:normal;font-family:Menlo,'DejaVu Sans Mono',consolas,'Courier New',monospace\">- <span style=\"color: #870000; text-decoration-color: #870000; font-weight: bold\">Cortisol: #</span>\n",
       "</pre>\n"
      ],
      "text/plain": [
       "- \u001b[1;38;5;88mCortisol: #\u001b[0m\n"
      ]
     },
     "metadata": {},
     "output_type": "display_data"
    },
    {
     "data": {
      "text/html": [
       "<pre style=\"white-space:pre;overflow-x:auto;line-height:normal;font-family:Menlo,'DejaVu Sans Mono',consolas,'Courier New',monospace\">\n",
       "<span style=\"color: #008080; text-decoration-color: #008080; font-weight: bold\">1</span>. <span style=\"color: #af00d7; text-decoration-color: #af00d7; font-weight: bold\">Binge on Internet</span>\n",
       "<span style=\"color: #008080; text-decoration-color: #008080; font-weight: bold\">2</span>. <span style=\"color: #af00d7; text-decoration-color: #af00d7; font-weight: bold\">Work</span>\n",
       "<span style=\"color: #008080; text-decoration-color: #008080; font-weight: bold\">3</span>. <span style=\"color: #af00d7; text-decoration-color: #af00d7; font-weight: bold\">Exercise</span>\n",
       "<span style=\"color: #008080; text-decoration-color: #008080; font-weight: bold\">4</span>. <span style=\"color: #af00d7; text-decoration-color: #af00d7; font-weight: bold\">Socialise</span>\n",
       "<span style=\"color: #008080; text-decoration-color: #008080; font-weight: bold\">5</span>. <span style=\"color: #af00d7; text-decoration-color: #af00d7; font-weight: bold\">Drink Alcohol</span>\n",
       "<span style=\"color: #008080; text-decoration-color: #008080; font-weight: bold\">6</span>. <span style=\"color: #af00d7; text-decoration-color: #af00d7; font-weight: bold\">Smoke</span>\n",
       "\n",
       "</pre>\n"
      ],
      "text/plain": [
       "\n",
       "\u001b[1;36m1\u001b[0m. \u001b[1;38;5;128mBinge on Internet\u001b[0m\n",
       "\u001b[1;36m2\u001b[0m. \u001b[1;38;5;128mWork\u001b[0m\n",
       "\u001b[1;36m3\u001b[0m. \u001b[1;38;5;128mExercise\u001b[0m\n",
       "\u001b[1;36m4\u001b[0m. \u001b[1;38;5;128mSocialise\u001b[0m\n",
       "\u001b[1;36m5\u001b[0m. \u001b[1;38;5;128mDrink Alcohol\u001b[0m\n",
       "\u001b[1;36m6\u001b[0m. \u001b[1;38;5;128mSmoke\u001b[0m\n",
       "\n"
      ]
     },
     "metadata": {},
     "output_type": "display_data"
    },
    {
     "data": {
      "text/html": [
       "<pre style=\"white-space:pre;overflow-x:auto;line-height:normal;font-family:Menlo,'DejaVu Sans Mono',consolas,'Courier New',monospace\">Choose from 1 to 6 <span style=\"color: #008080; text-decoration-color: #008080; font-weight: bold\">(2)</span>: </pre>\n"
      ],
      "text/plain": [
       "Choose from 1 to 6 \u001b[1;36m(2)\u001b[0m: "
      ]
     },
     "metadata": {},
     "output_type": "display_data"
    },
    {
     "data": {
      "text/html": [
       "<pre style=\"white-space:pre;overflow-x:auto;line-height:normal;font-family:Menlo,'DejaVu Sans Mono',consolas,'Courier New',monospace\">** Current Day: <span style=\"color: #af00d7; text-decoration-color: #af00d7; font-weight: bold\">12</span>, Current Hour: <span style=\"color: #af00d7; text-decoration-color: #af00d7; font-weight: bold\">12</span>, Time Left: <span style=\"color: #af00d7; text-decoration-color: #af00d7; font-weight: bold\">8484</span> hrs ** \n",
       "\n",
       "</pre>\n"
      ],
      "text/plain": [
       "** Current Day: \u001b[1;38;5;128m12\u001b[0m, Current Hour: \u001b[1;38;5;128m12\u001b[0m, Time Left: \u001b[1;38;5;128m8484\u001b[0m hrs ** \n",
       "\n"
      ]
     },
     "metadata": {},
     "output_type": "display_data"
    },
    {
     "data": {
      "text/html": [
       "<pre style=\"white-space:pre;overflow-x:auto;line-height:normal;font-family:Menlo,'DejaVu Sans Mono',consolas,'Courier New',monospace\">- <span style=\"color: #005f00; text-decoration-color: #005f00; font-weight: bold\">Serotonin: #</span>\n",
       "</pre>\n"
      ],
      "text/plain": [
       "- \u001b[1;38;5;22mSerotonin: #\u001b[0m\n"
      ]
     },
     "metadata": {},
     "output_type": "display_data"
    },
    {
     "data": {
      "text/html": [
       "<pre style=\"white-space:pre;overflow-x:auto;line-height:normal;font-family:Menlo,'DejaVu Sans Mono',consolas,'Courier New',monospace\">- <span style=\"color: #005f00; text-decoration-color: #005f00; font-weight: bold\">Oxytocin: #</span>\n",
       "</pre>\n"
      ],
      "text/plain": [
       "- \u001b[1;38;5;22mOxytocin: #\u001b[0m\n"
      ]
     },
     "metadata": {},
     "output_type": "display_data"
    },
    {
     "data": {
      "text/html": [
       "<pre style=\"white-space:pre;overflow-x:auto;line-height:normal;font-family:Menlo,'DejaVu Sans Mono',consolas,'Courier New',monospace\">- <span style=\"color: #005f00; text-decoration-color: #005f00; font-weight: bold\">Dopamine: ############</span>\n",
       "</pre>\n"
      ],
      "text/plain": [
       "- \u001b[1;38;5;22mDopamine: ############\u001b[0m\n"
      ]
     },
     "metadata": {},
     "output_type": "display_data"
    },
    {
     "data": {
      "text/html": [
       "<pre style=\"white-space:pre;overflow-x:auto;line-height:normal;font-family:Menlo,'DejaVu Sans Mono',consolas,'Courier New',monospace\">- <span style=\"color: #005f00; text-decoration-color: #005f00; font-weight: bold\">Endorphins: #</span>\n",
       "</pre>\n"
      ],
      "text/plain": [
       "- \u001b[1;38;5;22mEndorphins: #\u001b[0m\n"
      ]
     },
     "metadata": {},
     "output_type": "display_data"
    },
    {
     "data": {
      "text/html": [
       "<pre style=\"white-space:pre;overflow-x:auto;line-height:normal;font-family:Menlo,'DejaVu Sans Mono',consolas,'Courier New',monospace\">- <span style=\"color: #870000; text-decoration-color: #870000; font-weight: bold\">Cortisol: #</span>\n",
       "</pre>\n"
      ],
      "text/plain": [
       "- \u001b[1;38;5;88mCortisol: #\u001b[0m\n"
      ]
     },
     "metadata": {},
     "output_type": "display_data"
    },
    {
     "data": {
      "text/html": [
       "<pre style=\"white-space:pre;overflow-x:auto;line-height:normal;font-family:Menlo,'DejaVu Sans Mono',consolas,'Courier New',monospace\">\n",
       "<span style=\"color: #008080; text-decoration-color: #008080; font-weight: bold\">1</span>. <span style=\"color: #af00d7; text-decoration-color: #af00d7; font-weight: bold\">Binge on Internet</span>\n",
       "<span style=\"color: #008080; text-decoration-color: #008080; font-weight: bold\">2</span>. <span style=\"color: #af00d7; text-decoration-color: #af00d7; font-weight: bold\">Work</span>\n",
       "<span style=\"color: #008080; text-decoration-color: #008080; font-weight: bold\">3</span>. <span style=\"color: #af00d7; text-decoration-color: #af00d7; font-weight: bold\">Exercise</span>\n",
       "<span style=\"color: #008080; text-decoration-color: #008080; font-weight: bold\">4</span>. <span style=\"color: #af00d7; text-decoration-color: #af00d7; font-weight: bold\">Socialise</span>\n",
       "<span style=\"color: #008080; text-decoration-color: #008080; font-weight: bold\">5</span>. <span style=\"color: #af00d7; text-decoration-color: #af00d7; font-weight: bold\">Drink Alcohol</span>\n",
       "<span style=\"color: #008080; text-decoration-color: #008080; font-weight: bold\">6</span>. <span style=\"color: #af00d7; text-decoration-color: #af00d7; font-weight: bold\">Smoke</span>\n",
       "\n",
       "</pre>\n"
      ],
      "text/plain": [
       "\n",
       "\u001b[1;36m1\u001b[0m. \u001b[1;38;5;128mBinge on Internet\u001b[0m\n",
       "\u001b[1;36m2\u001b[0m. \u001b[1;38;5;128mWork\u001b[0m\n",
       "\u001b[1;36m3\u001b[0m. \u001b[1;38;5;128mExercise\u001b[0m\n",
       "\u001b[1;36m4\u001b[0m. \u001b[1;38;5;128mSocialise\u001b[0m\n",
       "\u001b[1;36m5\u001b[0m. \u001b[1;38;5;128mDrink Alcohol\u001b[0m\n",
       "\u001b[1;36m6\u001b[0m. \u001b[1;38;5;128mSmoke\u001b[0m\n",
       "\n"
      ]
     },
     "metadata": {},
     "output_type": "display_data"
    },
    {
     "data": {
      "text/html": [
       "<pre style=\"white-space:pre;overflow-x:auto;line-height:normal;font-family:Menlo,'DejaVu Sans Mono',consolas,'Courier New',monospace\">Choose from 1 to 6 <span style=\"color: #008080; text-decoration-color: #008080; font-weight: bold\">(2)</span>: </pre>\n"
      ],
      "text/plain": [
       "Choose from 1 to 6 \u001b[1;36m(2)\u001b[0m: "
      ]
     },
     "metadata": {},
     "output_type": "display_data"
    },
    {
     "data": {
      "text/html": [
       "<pre style=\"white-space:pre;overflow-x:auto;line-height:normal;font-family:Menlo,'DejaVu Sans Mono',consolas,'Courier New',monospace\">** Current Day: <span style=\"color: #af00d7; text-decoration-color: #af00d7; font-weight: bold\">13</span>, Current Hour: <span style=\"color: #af00d7; text-decoration-color: #af00d7; font-weight: bold\">13</span>, Time Left: <span style=\"color: #af00d7; text-decoration-color: #af00d7; font-weight: bold\">8459</span> hrs ** \n",
       "\n",
       "</pre>\n"
      ],
      "text/plain": [
       "** Current Day: \u001b[1;38;5;128m13\u001b[0m, Current Hour: \u001b[1;38;5;128m13\u001b[0m, Time Left: \u001b[1;38;5;128m8459\u001b[0m hrs ** \n",
       "\n"
      ]
     },
     "metadata": {},
     "output_type": "display_data"
    },
    {
     "data": {
      "text/html": [
       "<pre style=\"white-space:pre;overflow-x:auto;line-height:normal;font-family:Menlo,'DejaVu Sans Mono',consolas,'Courier New',monospace\">- <span style=\"color: #005f00; text-decoration-color: #005f00; font-weight: bold\">Serotonin: ##</span>\n",
       "</pre>\n"
      ],
      "text/plain": [
       "- \u001b[1;38;5;22mSerotonin: ##\u001b[0m\n"
      ]
     },
     "metadata": {},
     "output_type": "display_data"
    },
    {
     "data": {
      "text/html": [
       "<pre style=\"white-space:pre;overflow-x:auto;line-height:normal;font-family:Menlo,'DejaVu Sans Mono',consolas,'Courier New',monospace\">- <span style=\"color: #005f00; text-decoration-color: #005f00; font-weight: bold\">Oxytocin: #</span>\n",
       "</pre>\n"
      ],
      "text/plain": [
       "- \u001b[1;38;5;22mOxytocin: #\u001b[0m\n"
      ]
     },
     "metadata": {},
     "output_type": "display_data"
    },
    {
     "data": {
      "text/html": [
       "<pre style=\"white-space:pre;overflow-x:auto;line-height:normal;font-family:Menlo,'DejaVu Sans Mono',consolas,'Courier New',monospace\">- <span style=\"color: #005f00; text-decoration-color: #005f00; font-weight: bold\">Dopamine: ###########</span>\n",
       "</pre>\n"
      ],
      "text/plain": [
       "- \u001b[1;38;5;22mDopamine: ###########\u001b[0m\n"
      ]
     },
     "metadata": {},
     "output_type": "display_data"
    },
    {
     "data": {
      "text/html": [
       "<pre style=\"white-space:pre;overflow-x:auto;line-height:normal;font-family:Menlo,'DejaVu Sans Mono',consolas,'Courier New',monospace\">- <span style=\"color: #005f00; text-decoration-color: #005f00; font-weight: bold\">Endorphins: #</span>\n",
       "</pre>\n"
      ],
      "text/plain": [
       "- \u001b[1;38;5;22mEndorphins: #\u001b[0m\n"
      ]
     },
     "metadata": {},
     "output_type": "display_data"
    },
    {
     "data": {
      "text/html": [
       "<pre style=\"white-space:pre;overflow-x:auto;line-height:normal;font-family:Menlo,'DejaVu Sans Mono',consolas,'Courier New',monospace\">- <span style=\"color: #870000; text-decoration-color: #870000; font-weight: bold\">Cortisol: ##</span>\n",
       "</pre>\n"
      ],
      "text/plain": [
       "- \u001b[1;38;5;88mCortisol: ##\u001b[0m\n"
      ]
     },
     "metadata": {},
     "output_type": "display_data"
    },
    {
     "data": {
      "text/html": [
       "<pre style=\"white-space:pre;overflow-x:auto;line-height:normal;font-family:Menlo,'DejaVu Sans Mono',consolas,'Courier New',monospace\">\n",
       "<span style=\"color: #008080; text-decoration-color: #008080; font-weight: bold\">1</span>. <span style=\"color: #af00d7; text-decoration-color: #af00d7; font-weight: bold\">Binge on Internet</span>\n",
       "<span style=\"color: #008080; text-decoration-color: #008080; font-weight: bold\">2</span>. <span style=\"color: #af00d7; text-decoration-color: #af00d7; font-weight: bold\">Work</span>\n",
       "<span style=\"color: #008080; text-decoration-color: #008080; font-weight: bold\">3</span>. <span style=\"color: #af00d7; text-decoration-color: #af00d7; font-weight: bold\">Exercise</span>\n",
       "<span style=\"color: #008080; text-decoration-color: #008080; font-weight: bold\">4</span>. <span style=\"color: #af00d7; text-decoration-color: #af00d7; font-weight: bold\">Socialise</span>\n",
       "<span style=\"color: #008080; text-decoration-color: #008080; font-weight: bold\">5</span>. <span style=\"color: #af00d7; text-decoration-color: #af00d7; font-weight: bold\">Drink Alcohol</span>\n",
       "<span style=\"color: #008080; text-decoration-color: #008080; font-weight: bold\">6</span>. <span style=\"color: #af00d7; text-decoration-color: #af00d7; font-weight: bold\">Smoke</span>\n",
       "\n",
       "</pre>\n"
      ],
      "text/plain": [
       "\n",
       "\u001b[1;36m1\u001b[0m. \u001b[1;38;5;128mBinge on Internet\u001b[0m\n",
       "\u001b[1;36m2\u001b[0m. \u001b[1;38;5;128mWork\u001b[0m\n",
       "\u001b[1;36m3\u001b[0m. \u001b[1;38;5;128mExercise\u001b[0m\n",
       "\u001b[1;36m4\u001b[0m. \u001b[1;38;5;128mSocialise\u001b[0m\n",
       "\u001b[1;36m5\u001b[0m. \u001b[1;38;5;128mDrink Alcohol\u001b[0m\n",
       "\u001b[1;36m6\u001b[0m. \u001b[1;38;5;128mSmoke\u001b[0m\n",
       "\n"
      ]
     },
     "metadata": {},
     "output_type": "display_data"
    },
    {
     "data": {
      "text/html": [
       "<pre style=\"white-space:pre;overflow-x:auto;line-height:normal;font-family:Menlo,'DejaVu Sans Mono',consolas,'Courier New',monospace\">Choose from 1 to 6 <span style=\"color: #008080; text-decoration-color: #008080; font-weight: bold\">(2)</span>: </pre>\n"
      ],
      "text/plain": [
       "Choose from 1 to 6 \u001b[1;36m(2)\u001b[0m: "
      ]
     },
     "metadata": {},
     "output_type": "display_data"
    },
    {
     "data": {
      "text/html": [
       "<pre style=\"white-space:pre;overflow-x:auto;line-height:normal;font-family:Menlo,'DejaVu Sans Mono',consolas,'Courier New',monospace\">** Current Day: <span style=\"color: #af00d7; text-decoration-color: #af00d7; font-weight: bold\">14</span>, Current Hour: <span style=\"color: #af00d7; text-decoration-color: #af00d7; font-weight: bold\">14</span>, Time Left: <span style=\"color: #af00d7; text-decoration-color: #af00d7; font-weight: bold\">8434</span> hrs ** \n",
       "\n",
       "</pre>\n"
      ],
      "text/plain": [
       "** Current Day: \u001b[1;38;5;128m14\u001b[0m, Current Hour: \u001b[1;38;5;128m14\u001b[0m, Time Left: \u001b[1;38;5;128m8434\u001b[0m hrs ** \n",
       "\n"
      ]
     },
     "metadata": {},
     "output_type": "display_data"
    },
    {
     "data": {
      "text/html": [
       "<pre style=\"white-space:pre;overflow-x:auto;line-height:normal;font-family:Menlo,'DejaVu Sans Mono',consolas,'Courier New',monospace\">- <span style=\"color: #005f00; text-decoration-color: #005f00; font-weight: bold\">Serotonin: ###</span>\n",
       "</pre>\n"
      ],
      "text/plain": [
       "- \u001b[1;38;5;22mSerotonin: ###\u001b[0m\n"
      ]
     },
     "metadata": {},
     "output_type": "display_data"
    },
    {
     "data": {
      "text/html": [
       "<pre style=\"white-space:pre;overflow-x:auto;line-height:normal;font-family:Menlo,'DejaVu Sans Mono',consolas,'Courier New',monospace\">- <span style=\"color: #005f00; text-decoration-color: #005f00; font-weight: bold\">Oxytocin: #</span>\n",
       "</pre>\n"
      ],
      "text/plain": [
       "- \u001b[1;38;5;22mOxytocin: #\u001b[0m\n"
      ]
     },
     "metadata": {},
     "output_type": "display_data"
    },
    {
     "data": {
      "text/html": [
       "<pre style=\"white-space:pre;overflow-x:auto;line-height:normal;font-family:Menlo,'DejaVu Sans Mono',consolas,'Courier New',monospace\">- <span style=\"color: #005f00; text-decoration-color: #005f00; font-weight: bold\">Dopamine: ##########</span>\n",
       "</pre>\n"
      ],
      "text/plain": [
       "- \u001b[1;38;5;22mDopamine: ##########\u001b[0m\n"
      ]
     },
     "metadata": {},
     "output_type": "display_data"
    },
    {
     "data": {
      "text/html": [
       "<pre style=\"white-space:pre;overflow-x:auto;line-height:normal;font-family:Menlo,'DejaVu Sans Mono',consolas,'Courier New',monospace\">- <span style=\"color: #005f00; text-decoration-color: #005f00; font-weight: bold\">Endorphins: #</span>\n",
       "</pre>\n"
      ],
      "text/plain": [
       "- \u001b[1;38;5;22mEndorphins: #\u001b[0m\n"
      ]
     },
     "metadata": {},
     "output_type": "display_data"
    },
    {
     "data": {
      "text/html": [
       "<pre style=\"white-space:pre;overflow-x:auto;line-height:normal;font-family:Menlo,'DejaVu Sans Mono',consolas,'Courier New',monospace\">- <span style=\"color: #870000; text-decoration-color: #870000; font-weight: bold\">Cortisol: ###</span>\n",
       "</pre>\n"
      ],
      "text/plain": [
       "- \u001b[1;38;5;88mCortisol: ###\u001b[0m\n"
      ]
     },
     "metadata": {},
     "output_type": "display_data"
    },
    {
     "data": {
      "text/html": [
       "<pre style=\"white-space:pre;overflow-x:auto;line-height:normal;font-family:Menlo,'DejaVu Sans Mono',consolas,'Courier New',monospace\">\n",
       "<span style=\"color: #008080; text-decoration-color: #008080; font-weight: bold\">1</span>. <span style=\"color: #af00d7; text-decoration-color: #af00d7; font-weight: bold\">Binge on Internet</span>\n",
       "<span style=\"color: #008080; text-decoration-color: #008080; font-weight: bold\">2</span>. <span style=\"color: #af00d7; text-decoration-color: #af00d7; font-weight: bold\">Work</span>\n",
       "<span style=\"color: #008080; text-decoration-color: #008080; font-weight: bold\">3</span>. <span style=\"color: #af00d7; text-decoration-color: #af00d7; font-weight: bold\">Exercise</span>\n",
       "<span style=\"color: #008080; text-decoration-color: #008080; font-weight: bold\">4</span>. <span style=\"color: #af00d7; text-decoration-color: #af00d7; font-weight: bold\">Socialise</span>\n",
       "<span style=\"color: #008080; text-decoration-color: #008080; font-weight: bold\">5</span>. <span style=\"color: #af00d7; text-decoration-color: #af00d7; font-weight: bold\">Drink Alcohol</span>\n",
       "<span style=\"color: #008080; text-decoration-color: #008080; font-weight: bold\">6</span>. <span style=\"color: #af00d7; text-decoration-color: #af00d7; font-weight: bold\">Smoke</span>\n",
       "\n",
       "</pre>\n"
      ],
      "text/plain": [
       "\n",
       "\u001b[1;36m1\u001b[0m. \u001b[1;38;5;128mBinge on Internet\u001b[0m\n",
       "\u001b[1;36m2\u001b[0m. \u001b[1;38;5;128mWork\u001b[0m\n",
       "\u001b[1;36m3\u001b[0m. \u001b[1;38;5;128mExercise\u001b[0m\n",
       "\u001b[1;36m4\u001b[0m. \u001b[1;38;5;128mSocialise\u001b[0m\n",
       "\u001b[1;36m5\u001b[0m. \u001b[1;38;5;128mDrink Alcohol\u001b[0m\n",
       "\u001b[1;36m6\u001b[0m. \u001b[1;38;5;128mSmoke\u001b[0m\n",
       "\n"
      ]
     },
     "metadata": {},
     "output_type": "display_data"
    },
    {
     "data": {
      "text/html": [
       "<pre style=\"white-space:pre;overflow-x:auto;line-height:normal;font-family:Menlo,'DejaVu Sans Mono',consolas,'Courier New',monospace\">Choose from 1 to 6 <span style=\"color: #008080; text-decoration-color: #008080; font-weight: bold\">(2)</span>: </pre>\n"
      ],
      "text/plain": [
       "Choose from 1 to 6 \u001b[1;36m(2)\u001b[0m: "
      ]
     },
     "metadata": {},
     "output_type": "display_data"
    },
    {
     "data": {
      "text/html": [
       "<pre style=\"white-space:pre;overflow-x:auto;line-height:normal;font-family:Menlo,'DejaVu Sans Mono',consolas,'Courier New',monospace\">** Current Day: <span style=\"color: #af00d7; text-decoration-color: #af00d7; font-weight: bold\">15</span>, Current Hour: <span style=\"color: #af00d7; text-decoration-color: #af00d7; font-weight: bold\">15</span>, Time Left: <span style=\"color: #af00d7; text-decoration-color: #af00d7; font-weight: bold\">8409</span> hrs ** \n",
       "\n",
       "</pre>\n"
      ],
      "text/plain": [
       "** Current Day: \u001b[1;38;5;128m15\u001b[0m, Current Hour: \u001b[1;38;5;128m15\u001b[0m, Time Left: \u001b[1;38;5;128m8409\u001b[0m hrs ** \n",
       "\n"
      ]
     },
     "metadata": {},
     "output_type": "display_data"
    },
    {
     "data": {
      "text/html": [
       "<pre style=\"white-space:pre;overflow-x:auto;line-height:normal;font-family:Menlo,'DejaVu Sans Mono',consolas,'Courier New',monospace\">- <span style=\"color: #005f00; text-decoration-color: #005f00; font-weight: bold\">Serotonin: ####</span>\n",
       "</pre>\n"
      ],
      "text/plain": [
       "- \u001b[1;38;5;22mSerotonin: ####\u001b[0m\n"
      ]
     },
     "metadata": {},
     "output_type": "display_data"
    },
    {
     "data": {
      "text/html": [
       "<pre style=\"white-space:pre;overflow-x:auto;line-height:normal;font-family:Menlo,'DejaVu Sans Mono',consolas,'Courier New',monospace\">- <span style=\"color: #005f00; text-decoration-color: #005f00; font-weight: bold\">Oxytocin: #</span>\n",
       "</pre>\n"
      ],
      "text/plain": [
       "- \u001b[1;38;5;22mOxytocin: #\u001b[0m\n"
      ]
     },
     "metadata": {},
     "output_type": "display_data"
    },
    {
     "data": {
      "text/html": [
       "<pre style=\"white-space:pre;overflow-x:auto;line-height:normal;font-family:Menlo,'DejaVu Sans Mono',consolas,'Courier New',monospace\">- <span style=\"color: #005f00; text-decoration-color: #005f00; font-weight: bold\">Dopamine: #########</span>\n",
       "</pre>\n"
      ],
      "text/plain": [
       "- \u001b[1;38;5;22mDopamine: #########\u001b[0m\n"
      ]
     },
     "metadata": {},
     "output_type": "display_data"
    },
    {
     "data": {
      "text/html": [
       "<pre style=\"white-space:pre;overflow-x:auto;line-height:normal;font-family:Menlo,'DejaVu Sans Mono',consolas,'Courier New',monospace\">- <span style=\"color: #005f00; text-decoration-color: #005f00; font-weight: bold\">Endorphins: #</span>\n",
       "</pre>\n"
      ],
      "text/plain": [
       "- \u001b[1;38;5;22mEndorphins: #\u001b[0m\n"
      ]
     },
     "metadata": {},
     "output_type": "display_data"
    },
    {
     "data": {
      "text/html": [
       "<pre style=\"white-space:pre;overflow-x:auto;line-height:normal;font-family:Menlo,'DejaVu Sans Mono',consolas,'Courier New',monospace\">- <span style=\"color: #870000; text-decoration-color: #870000; font-weight: bold\">Cortisol: ####</span>\n",
       "</pre>\n"
      ],
      "text/plain": [
       "- \u001b[1;38;5;88mCortisol: ####\u001b[0m\n"
      ]
     },
     "metadata": {},
     "output_type": "display_data"
    },
    {
     "data": {
      "text/html": [
       "<pre style=\"white-space:pre;overflow-x:auto;line-height:normal;font-family:Menlo,'DejaVu Sans Mono',consolas,'Courier New',monospace\">\n",
       "<span style=\"color: #008080; text-decoration-color: #008080; font-weight: bold\">1</span>. <span style=\"color: #af00d7; text-decoration-color: #af00d7; font-weight: bold\">Binge on Internet</span>\n",
       "<span style=\"color: #008080; text-decoration-color: #008080; font-weight: bold\">2</span>. <span style=\"color: #af00d7; text-decoration-color: #af00d7; font-weight: bold\">Work</span>\n",
       "<span style=\"color: #008080; text-decoration-color: #008080; font-weight: bold\">3</span>. <span style=\"color: #af00d7; text-decoration-color: #af00d7; font-weight: bold\">Exercise</span>\n",
       "<span style=\"color: #008080; text-decoration-color: #008080; font-weight: bold\">4</span>. <span style=\"color: #af00d7; text-decoration-color: #af00d7; font-weight: bold\">Socialise</span>\n",
       "<span style=\"color: #008080; text-decoration-color: #008080; font-weight: bold\">5</span>. <span style=\"color: #af00d7; text-decoration-color: #af00d7; font-weight: bold\">Drink Alcohol</span>\n",
       "<span style=\"color: #008080; text-decoration-color: #008080; font-weight: bold\">6</span>. <span style=\"color: #af00d7; text-decoration-color: #af00d7; font-weight: bold\">Smoke</span>\n",
       "\n",
       "</pre>\n"
      ],
      "text/plain": [
       "\n",
       "\u001b[1;36m1\u001b[0m. \u001b[1;38;5;128mBinge on Internet\u001b[0m\n",
       "\u001b[1;36m2\u001b[0m. \u001b[1;38;5;128mWork\u001b[0m\n",
       "\u001b[1;36m3\u001b[0m. \u001b[1;38;5;128mExercise\u001b[0m\n",
       "\u001b[1;36m4\u001b[0m. \u001b[1;38;5;128mSocialise\u001b[0m\n",
       "\u001b[1;36m5\u001b[0m. \u001b[1;38;5;128mDrink Alcohol\u001b[0m\n",
       "\u001b[1;36m6\u001b[0m. \u001b[1;38;5;128mSmoke\u001b[0m\n",
       "\n"
      ]
     },
     "metadata": {},
     "output_type": "display_data"
    },
    {
     "data": {
      "text/html": [
       "<pre style=\"white-space:pre;overflow-x:auto;line-height:normal;font-family:Menlo,'DejaVu Sans Mono',consolas,'Courier New',monospace\">Choose from 1 to 6 <span style=\"color: #008080; text-decoration-color: #008080; font-weight: bold\">(2)</span>: </pre>\n"
      ],
      "text/plain": [
       "Choose from 1 to 6 \u001b[1;36m(2)\u001b[0m: "
      ]
     },
     "metadata": {},
     "output_type": "display_data"
    },
    {
     "data": {
      "text/html": [
       "<pre style=\"white-space:pre;overflow-x:auto;line-height:normal;font-family:Menlo,'DejaVu Sans Mono',consolas,'Courier New',monospace\">** Current Day: <span style=\"color: #af00d7; text-decoration-color: #af00d7; font-weight: bold\">16</span>, Current Hour: <span style=\"color: #af00d7; text-decoration-color: #af00d7; font-weight: bold\">16</span>, Time Left: <span style=\"color: #af00d7; text-decoration-color: #af00d7; font-weight: bold\">8384</span> hrs ** \n",
       "\n",
       "</pre>\n"
      ],
      "text/plain": [
       "** Current Day: \u001b[1;38;5;128m16\u001b[0m, Current Hour: \u001b[1;38;5;128m16\u001b[0m, Time Left: \u001b[1;38;5;128m8384\u001b[0m hrs ** \n",
       "\n"
      ]
     },
     "metadata": {},
     "output_type": "display_data"
    },
    {
     "data": {
      "text/html": [
       "<pre style=\"white-space:pre;overflow-x:auto;line-height:normal;font-family:Menlo,'DejaVu Sans Mono',consolas,'Courier New',monospace\">- <span style=\"color: #005f00; text-decoration-color: #005f00; font-weight: bold\">Serotonin: #####</span>\n",
       "</pre>\n"
      ],
      "text/plain": [
       "- \u001b[1;38;5;22mSerotonin: #####\u001b[0m\n"
      ]
     },
     "metadata": {},
     "output_type": "display_data"
    },
    {
     "data": {
      "text/html": [
       "<pre style=\"white-space:pre;overflow-x:auto;line-height:normal;font-family:Menlo,'DejaVu Sans Mono',consolas,'Courier New',monospace\">- <span style=\"color: #005f00; text-decoration-color: #005f00; font-weight: bold\">Oxytocin: #</span>\n",
       "</pre>\n"
      ],
      "text/plain": [
       "- \u001b[1;38;5;22mOxytocin: #\u001b[0m\n"
      ]
     },
     "metadata": {},
     "output_type": "display_data"
    },
    {
     "data": {
      "text/html": [
       "<pre style=\"white-space:pre;overflow-x:auto;line-height:normal;font-family:Menlo,'DejaVu Sans Mono',consolas,'Courier New',monospace\">- <span style=\"color: #005f00; text-decoration-color: #005f00; font-weight: bold\">Dopamine: ########</span>\n",
       "</pre>\n"
      ],
      "text/plain": [
       "- \u001b[1;38;5;22mDopamine: ########\u001b[0m\n"
      ]
     },
     "metadata": {},
     "output_type": "display_data"
    },
    {
     "data": {
      "text/html": [
       "<pre style=\"white-space:pre;overflow-x:auto;line-height:normal;font-family:Menlo,'DejaVu Sans Mono',consolas,'Courier New',monospace\">- <span style=\"color: #005f00; text-decoration-color: #005f00; font-weight: bold\">Endorphins: #</span>\n",
       "</pre>\n"
      ],
      "text/plain": [
       "- \u001b[1;38;5;22mEndorphins: #\u001b[0m\n"
      ]
     },
     "metadata": {},
     "output_type": "display_data"
    },
    {
     "data": {
      "text/html": [
       "<pre style=\"white-space:pre;overflow-x:auto;line-height:normal;font-family:Menlo,'DejaVu Sans Mono',consolas,'Courier New',monospace\">- <span style=\"color: #870000; text-decoration-color: #870000; font-weight: bold\">Cortisol: #####</span>\n",
       "</pre>\n"
      ],
      "text/plain": [
       "- \u001b[1;38;5;88mCortisol: #####\u001b[0m\n"
      ]
     },
     "metadata": {},
     "output_type": "display_data"
    },
    {
     "data": {
      "text/html": [
       "<pre style=\"white-space:pre;overflow-x:auto;line-height:normal;font-family:Menlo,'DejaVu Sans Mono',consolas,'Courier New',monospace\">\n",
       "<span style=\"color: #008080; text-decoration-color: #008080; font-weight: bold\">1</span>. <span style=\"color: #af00d7; text-decoration-color: #af00d7; font-weight: bold\">Binge on Internet</span>\n",
       "<span style=\"color: #008080; text-decoration-color: #008080; font-weight: bold\">2</span>. <span style=\"color: #af00d7; text-decoration-color: #af00d7; font-weight: bold\">Work</span>\n",
       "<span style=\"color: #008080; text-decoration-color: #008080; font-weight: bold\">3</span>. <span style=\"color: #af00d7; text-decoration-color: #af00d7; font-weight: bold\">Exercise</span>\n",
       "<span style=\"color: #008080; text-decoration-color: #008080; font-weight: bold\">4</span>. <span style=\"color: #af00d7; text-decoration-color: #af00d7; font-weight: bold\">Socialise</span>\n",
       "<span style=\"color: #008080; text-decoration-color: #008080; font-weight: bold\">5</span>. <span style=\"color: #af00d7; text-decoration-color: #af00d7; font-weight: bold\">Drink Alcohol</span>\n",
       "<span style=\"color: #008080; text-decoration-color: #008080; font-weight: bold\">6</span>. <span style=\"color: #af00d7; text-decoration-color: #af00d7; font-weight: bold\">Smoke</span>\n",
       "\n",
       "</pre>\n"
      ],
      "text/plain": [
       "\n",
       "\u001b[1;36m1\u001b[0m. \u001b[1;38;5;128mBinge on Internet\u001b[0m\n",
       "\u001b[1;36m2\u001b[0m. \u001b[1;38;5;128mWork\u001b[0m\n",
       "\u001b[1;36m3\u001b[0m. \u001b[1;38;5;128mExercise\u001b[0m\n",
       "\u001b[1;36m4\u001b[0m. \u001b[1;38;5;128mSocialise\u001b[0m\n",
       "\u001b[1;36m5\u001b[0m. \u001b[1;38;5;128mDrink Alcohol\u001b[0m\n",
       "\u001b[1;36m6\u001b[0m. \u001b[1;38;5;128mSmoke\u001b[0m\n",
       "\n"
      ]
     },
     "metadata": {},
     "output_type": "display_data"
    },
    {
     "data": {
      "text/html": [
       "<pre style=\"white-space:pre;overflow-x:auto;line-height:normal;font-family:Menlo,'DejaVu Sans Mono',consolas,'Courier New',monospace\">Choose from 1 to 6 <span style=\"color: #008080; text-decoration-color: #008080; font-weight: bold\">(2)</span>: </pre>\n"
      ],
      "text/plain": [
       "Choose from 1 to 6 \u001b[1;36m(2)\u001b[0m: "
      ]
     },
     "metadata": {},
     "output_type": "display_data"
    },
    {
     "data": {
      "text/html": [
       "<pre style=\"white-space:pre;overflow-x:auto;line-height:normal;font-family:Menlo,'DejaVu Sans Mono',consolas,'Courier New',monospace\">** Current Day: <span style=\"color: #af00d7; text-decoration-color: #af00d7; font-weight: bold\">17</span>, Current Hour: <span style=\"color: #af00d7; text-decoration-color: #af00d7; font-weight: bold\">17</span>, Time Left: <span style=\"color: #af00d7; text-decoration-color: #af00d7; font-weight: bold\">8359</span> hrs ** \n",
       "\n",
       "</pre>\n"
      ],
      "text/plain": [
       "** Current Day: \u001b[1;38;5;128m17\u001b[0m, Current Hour: \u001b[1;38;5;128m17\u001b[0m, Time Left: \u001b[1;38;5;128m8359\u001b[0m hrs ** \n",
       "\n"
      ]
     },
     "metadata": {},
     "output_type": "display_data"
    },
    {
     "data": {
      "text/html": [
       "<pre style=\"white-space:pre;overflow-x:auto;line-height:normal;font-family:Menlo,'DejaVu Sans Mono',consolas,'Courier New',monospace\">- <span style=\"color: #005f00; text-decoration-color: #005f00; font-weight: bold\">Serotonin: ######</span>\n",
       "</pre>\n"
      ],
      "text/plain": [
       "- \u001b[1;38;5;22mSerotonin: ######\u001b[0m\n"
      ]
     },
     "metadata": {},
     "output_type": "display_data"
    },
    {
     "data": {
      "text/html": [
       "<pre style=\"white-space:pre;overflow-x:auto;line-height:normal;font-family:Menlo,'DejaVu Sans Mono',consolas,'Courier New',monospace\">- <span style=\"color: #005f00; text-decoration-color: #005f00; font-weight: bold\">Oxytocin: #</span>\n",
       "</pre>\n"
      ],
      "text/plain": [
       "- \u001b[1;38;5;22mOxytocin: #\u001b[0m\n"
      ]
     },
     "metadata": {},
     "output_type": "display_data"
    },
    {
     "data": {
      "text/html": [
       "<pre style=\"white-space:pre;overflow-x:auto;line-height:normal;font-family:Menlo,'DejaVu Sans Mono',consolas,'Courier New',monospace\">- <span style=\"color: #005f00; text-decoration-color: #005f00; font-weight: bold\">Dopamine: #######</span>\n",
       "</pre>\n"
      ],
      "text/plain": [
       "- \u001b[1;38;5;22mDopamine: #######\u001b[0m\n"
      ]
     },
     "metadata": {},
     "output_type": "display_data"
    },
    {
     "data": {
      "text/html": [
       "<pre style=\"white-space:pre;overflow-x:auto;line-height:normal;font-family:Menlo,'DejaVu Sans Mono',consolas,'Courier New',monospace\">- <span style=\"color: #005f00; text-decoration-color: #005f00; font-weight: bold\">Endorphins: #</span>\n",
       "</pre>\n"
      ],
      "text/plain": [
       "- \u001b[1;38;5;22mEndorphins: #\u001b[0m\n"
      ]
     },
     "metadata": {},
     "output_type": "display_data"
    },
    {
     "data": {
      "text/html": [
       "<pre style=\"white-space:pre;overflow-x:auto;line-height:normal;font-family:Menlo,'DejaVu Sans Mono',consolas,'Courier New',monospace\">- <span style=\"color: #870000; text-decoration-color: #870000; font-weight: bold\">Cortisol: ######</span>\n",
       "</pre>\n"
      ],
      "text/plain": [
       "- \u001b[1;38;5;88mCortisol: ######\u001b[0m\n"
      ]
     },
     "metadata": {},
     "output_type": "display_data"
    },
    {
     "data": {
      "text/html": [
       "<pre style=\"white-space:pre;overflow-x:auto;line-height:normal;font-family:Menlo,'DejaVu Sans Mono',consolas,'Courier New',monospace\">\n",
       "<span style=\"color: #008080; text-decoration-color: #008080; font-weight: bold\">1</span>. <span style=\"color: #af00d7; text-decoration-color: #af00d7; font-weight: bold\">Binge on Internet</span>\n",
       "<span style=\"color: #008080; text-decoration-color: #008080; font-weight: bold\">2</span>. <span style=\"color: #af00d7; text-decoration-color: #af00d7; font-weight: bold\">Work</span>\n",
       "<span style=\"color: #008080; text-decoration-color: #008080; font-weight: bold\">3</span>. <span style=\"color: #af00d7; text-decoration-color: #af00d7; font-weight: bold\">Exercise</span>\n",
       "<span style=\"color: #008080; text-decoration-color: #008080; font-weight: bold\">4</span>. <span style=\"color: #af00d7; text-decoration-color: #af00d7; font-weight: bold\">Socialise</span>\n",
       "<span style=\"color: #008080; text-decoration-color: #008080; font-weight: bold\">5</span>. <span style=\"color: #af00d7; text-decoration-color: #af00d7; font-weight: bold\">Drink Alcohol</span>\n",
       "<span style=\"color: #008080; text-decoration-color: #008080; font-weight: bold\">6</span>. <span style=\"color: #af00d7; text-decoration-color: #af00d7; font-weight: bold\">Smoke</span>\n",
       "\n",
       "</pre>\n"
      ],
      "text/plain": [
       "\n",
       "\u001b[1;36m1\u001b[0m. \u001b[1;38;5;128mBinge on Internet\u001b[0m\n",
       "\u001b[1;36m2\u001b[0m. \u001b[1;38;5;128mWork\u001b[0m\n",
       "\u001b[1;36m3\u001b[0m. \u001b[1;38;5;128mExercise\u001b[0m\n",
       "\u001b[1;36m4\u001b[0m. \u001b[1;38;5;128mSocialise\u001b[0m\n",
       "\u001b[1;36m5\u001b[0m. \u001b[1;38;5;128mDrink Alcohol\u001b[0m\n",
       "\u001b[1;36m6\u001b[0m. \u001b[1;38;5;128mSmoke\u001b[0m\n",
       "\n"
      ]
     },
     "metadata": {},
     "output_type": "display_data"
    },
    {
     "data": {
      "text/html": [
       "<pre style=\"white-space:pre;overflow-x:auto;line-height:normal;font-family:Menlo,'DejaVu Sans Mono',consolas,'Courier New',monospace\">Choose from 1 to 6 <span style=\"color: #008080; text-decoration-color: #008080; font-weight: bold\">(2)</span>: </pre>\n"
      ],
      "text/plain": [
       "Choose from 1 to 6 \u001b[1;36m(2)\u001b[0m: "
      ]
     },
     "metadata": {},
     "output_type": "display_data"
    },
    {
     "data": {
      "text/html": [
       "<pre style=\"white-space:pre;overflow-x:auto;line-height:normal;font-family:Menlo,'DejaVu Sans Mono',consolas,'Courier New',monospace\">** Current Day: <span style=\"color: #af00d7; text-decoration-color: #af00d7; font-weight: bold\">18</span>, Current Hour: <span style=\"color: #af00d7; text-decoration-color: #af00d7; font-weight: bold\">18</span>, Time Left: <span style=\"color: #af00d7; text-decoration-color: #af00d7; font-weight: bold\">8334</span> hrs ** \n",
       "\n",
       "</pre>\n"
      ],
      "text/plain": [
       "** Current Day: \u001b[1;38;5;128m18\u001b[0m, Current Hour: \u001b[1;38;5;128m18\u001b[0m, Time Left: \u001b[1;38;5;128m8334\u001b[0m hrs ** \n",
       "\n"
      ]
     },
     "metadata": {},
     "output_type": "display_data"
    },
    {
     "data": {
      "text/html": [
       "<pre style=\"white-space:pre;overflow-x:auto;line-height:normal;font-family:Menlo,'DejaVu Sans Mono',consolas,'Courier New',monospace\">- <span style=\"color: #005f00; text-decoration-color: #005f00; font-weight: bold\">Serotonin: #######</span>\n",
       "</pre>\n"
      ],
      "text/plain": [
       "- \u001b[1;38;5;22mSerotonin: #######\u001b[0m\n"
      ]
     },
     "metadata": {},
     "output_type": "display_data"
    },
    {
     "data": {
      "text/html": [
       "<pre style=\"white-space:pre;overflow-x:auto;line-height:normal;font-family:Menlo,'DejaVu Sans Mono',consolas,'Courier New',monospace\">- <span style=\"color: #005f00; text-decoration-color: #005f00; font-weight: bold\">Oxytocin: #</span>\n",
       "</pre>\n"
      ],
      "text/plain": [
       "- \u001b[1;38;5;22mOxytocin: #\u001b[0m\n"
      ]
     },
     "metadata": {},
     "output_type": "display_data"
    },
    {
     "data": {
      "text/html": [
       "<pre style=\"white-space:pre;overflow-x:auto;line-height:normal;font-family:Menlo,'DejaVu Sans Mono',consolas,'Courier New',monospace\">- <span style=\"color: #005f00; text-decoration-color: #005f00; font-weight: bold\">Dopamine: ######</span>\n",
       "</pre>\n"
      ],
      "text/plain": [
       "- \u001b[1;38;5;22mDopamine: ######\u001b[0m\n"
      ]
     },
     "metadata": {},
     "output_type": "display_data"
    },
    {
     "data": {
      "text/html": [
       "<pre style=\"white-space:pre;overflow-x:auto;line-height:normal;font-family:Menlo,'DejaVu Sans Mono',consolas,'Courier New',monospace\">- <span style=\"color: #005f00; text-decoration-color: #005f00; font-weight: bold\">Endorphins: #</span>\n",
       "</pre>\n"
      ],
      "text/plain": [
       "- \u001b[1;38;5;22mEndorphins: #\u001b[0m\n"
      ]
     },
     "metadata": {},
     "output_type": "display_data"
    },
    {
     "data": {
      "text/html": [
       "<pre style=\"white-space:pre;overflow-x:auto;line-height:normal;font-family:Menlo,'DejaVu Sans Mono',consolas,'Courier New',monospace\">- <span style=\"color: #870000; text-decoration-color: #870000; font-weight: bold\">Cortisol: #######</span>\n",
       "</pre>\n"
      ],
      "text/plain": [
       "- \u001b[1;38;5;88mCortisol: #######\u001b[0m\n"
      ]
     },
     "metadata": {},
     "output_type": "display_data"
    },
    {
     "data": {
      "text/html": [
       "<pre style=\"white-space:pre;overflow-x:auto;line-height:normal;font-family:Menlo,'DejaVu Sans Mono',consolas,'Courier New',monospace\">\n",
       "<span style=\"color: #008080; text-decoration-color: #008080; font-weight: bold\">1</span>. <span style=\"color: #af00d7; text-decoration-color: #af00d7; font-weight: bold\">Binge on Internet</span>\n",
       "<span style=\"color: #008080; text-decoration-color: #008080; font-weight: bold\">2</span>. <span style=\"color: #af00d7; text-decoration-color: #af00d7; font-weight: bold\">Work</span>\n",
       "<span style=\"color: #008080; text-decoration-color: #008080; font-weight: bold\">3</span>. <span style=\"color: #af00d7; text-decoration-color: #af00d7; font-weight: bold\">Exercise</span>\n",
       "<span style=\"color: #008080; text-decoration-color: #008080; font-weight: bold\">4</span>. <span style=\"color: #af00d7; text-decoration-color: #af00d7; font-weight: bold\">Socialise</span>\n",
       "<span style=\"color: #008080; text-decoration-color: #008080; font-weight: bold\">5</span>. <span style=\"color: #af00d7; text-decoration-color: #af00d7; font-weight: bold\">Drink Alcohol</span>\n",
       "<span style=\"color: #008080; text-decoration-color: #008080; font-weight: bold\">6</span>. <span style=\"color: #af00d7; text-decoration-color: #af00d7; font-weight: bold\">Smoke</span>\n",
       "\n",
       "</pre>\n"
      ],
      "text/plain": [
       "\n",
       "\u001b[1;36m1\u001b[0m. \u001b[1;38;5;128mBinge on Internet\u001b[0m\n",
       "\u001b[1;36m2\u001b[0m. \u001b[1;38;5;128mWork\u001b[0m\n",
       "\u001b[1;36m3\u001b[0m. \u001b[1;38;5;128mExercise\u001b[0m\n",
       "\u001b[1;36m4\u001b[0m. \u001b[1;38;5;128mSocialise\u001b[0m\n",
       "\u001b[1;36m5\u001b[0m. \u001b[1;38;5;128mDrink Alcohol\u001b[0m\n",
       "\u001b[1;36m6\u001b[0m. \u001b[1;38;5;128mSmoke\u001b[0m\n",
       "\n"
      ]
     },
     "metadata": {},
     "output_type": "display_data"
    },
    {
     "data": {
      "text/html": [
       "<pre style=\"white-space:pre;overflow-x:auto;line-height:normal;font-family:Menlo,'DejaVu Sans Mono',consolas,'Courier New',monospace\">Choose from 1 to 6 <span style=\"color: #008080; text-decoration-color: #008080; font-weight: bold\">(2)</span>: </pre>\n"
      ],
      "text/plain": [
       "Choose from 1 to 6 \u001b[1;36m(2)\u001b[0m: "
      ]
     },
     "metadata": {},
     "output_type": "display_data"
    },
    {
     "data": {
      "text/html": [
       "<pre style=\"white-space:pre;overflow-x:auto;line-height:normal;font-family:Menlo,'DejaVu Sans Mono',consolas,'Courier New',monospace\">** Current Day: <span style=\"color: #af00d7; text-decoration-color: #af00d7; font-weight: bold\">19</span>, Current Hour: <span style=\"color: #af00d7; text-decoration-color: #af00d7; font-weight: bold\">19</span>, Time Left: <span style=\"color: #af00d7; text-decoration-color: #af00d7; font-weight: bold\">8309</span> hrs ** \n",
       "\n",
       "</pre>\n"
      ],
      "text/plain": [
       "** Current Day: \u001b[1;38;5;128m19\u001b[0m, Current Hour: \u001b[1;38;5;128m19\u001b[0m, Time Left: \u001b[1;38;5;128m8309\u001b[0m hrs ** \n",
       "\n"
      ]
     },
     "metadata": {},
     "output_type": "display_data"
    },
    {
     "data": {
      "text/html": [
       "<pre style=\"white-space:pre;overflow-x:auto;line-height:normal;font-family:Menlo,'DejaVu Sans Mono',consolas,'Courier New',monospace\">- <span style=\"color: #005f00; text-decoration-color: #005f00; font-weight: bold\">Serotonin: ########</span>\n",
       "</pre>\n"
      ],
      "text/plain": [
       "- \u001b[1;38;5;22mSerotonin: ########\u001b[0m\n"
      ]
     },
     "metadata": {},
     "output_type": "display_data"
    },
    {
     "data": {
      "text/html": [
       "<pre style=\"white-space:pre;overflow-x:auto;line-height:normal;font-family:Menlo,'DejaVu Sans Mono',consolas,'Courier New',monospace\">- <span style=\"color: #005f00; text-decoration-color: #005f00; font-weight: bold\">Oxytocin: #</span>\n",
       "</pre>\n"
      ],
      "text/plain": [
       "- \u001b[1;38;5;22mOxytocin: #\u001b[0m\n"
      ]
     },
     "metadata": {},
     "output_type": "display_data"
    },
    {
     "data": {
      "text/html": [
       "<pre style=\"white-space:pre;overflow-x:auto;line-height:normal;font-family:Menlo,'DejaVu Sans Mono',consolas,'Courier New',monospace\">- <span style=\"color: #005f00; text-decoration-color: #005f00; font-weight: bold\">Dopamine: #####</span>\n",
       "</pre>\n"
      ],
      "text/plain": [
       "- \u001b[1;38;5;22mDopamine: #####\u001b[0m\n"
      ]
     },
     "metadata": {},
     "output_type": "display_data"
    },
    {
     "data": {
      "text/html": [
       "<pre style=\"white-space:pre;overflow-x:auto;line-height:normal;font-family:Menlo,'DejaVu Sans Mono',consolas,'Courier New',monospace\">- <span style=\"color: #005f00; text-decoration-color: #005f00; font-weight: bold\">Endorphins: #</span>\n",
       "</pre>\n"
      ],
      "text/plain": [
       "- \u001b[1;38;5;22mEndorphins: #\u001b[0m\n"
      ]
     },
     "metadata": {},
     "output_type": "display_data"
    },
    {
     "data": {
      "text/html": [
       "<pre style=\"white-space:pre;overflow-x:auto;line-height:normal;font-family:Menlo,'DejaVu Sans Mono',consolas,'Courier New',monospace\">- <span style=\"color: #870000; text-decoration-color: #870000; font-weight: bold\">Cortisol: ########</span>\n",
       "</pre>\n"
      ],
      "text/plain": [
       "- \u001b[1;38;5;88mCortisol: ########\u001b[0m\n"
      ]
     },
     "metadata": {},
     "output_type": "display_data"
    },
    {
     "data": {
      "text/html": [
       "<pre style=\"white-space:pre;overflow-x:auto;line-height:normal;font-family:Menlo,'DejaVu Sans Mono',consolas,'Courier New',monospace\">\n",
       "<span style=\"color: #008080; text-decoration-color: #008080; font-weight: bold\">1</span>. <span style=\"color: #af00d7; text-decoration-color: #af00d7; font-weight: bold\">Binge on Internet</span>\n",
       "<span style=\"color: #008080; text-decoration-color: #008080; font-weight: bold\">2</span>. <span style=\"color: #af00d7; text-decoration-color: #af00d7; font-weight: bold\">Work</span>\n",
       "<span style=\"color: #008080; text-decoration-color: #008080; font-weight: bold\">3</span>. <span style=\"color: #af00d7; text-decoration-color: #af00d7; font-weight: bold\">Exercise</span>\n",
       "<span style=\"color: #008080; text-decoration-color: #008080; font-weight: bold\">4</span>. <span style=\"color: #af00d7; text-decoration-color: #af00d7; font-weight: bold\">Socialise</span>\n",
       "<span style=\"color: #008080; text-decoration-color: #008080; font-weight: bold\">5</span>. <span style=\"color: #af00d7; text-decoration-color: #af00d7; font-weight: bold\">Drink Alcohol</span>\n",
       "<span style=\"color: #008080; text-decoration-color: #008080; font-weight: bold\">6</span>. <span style=\"color: #af00d7; text-decoration-color: #af00d7; font-weight: bold\">Smoke</span>\n",
       "\n",
       "</pre>\n"
      ],
      "text/plain": [
       "\n",
       "\u001b[1;36m1\u001b[0m. \u001b[1;38;5;128mBinge on Internet\u001b[0m\n",
       "\u001b[1;36m2\u001b[0m. \u001b[1;38;5;128mWork\u001b[0m\n",
       "\u001b[1;36m3\u001b[0m. \u001b[1;38;5;128mExercise\u001b[0m\n",
       "\u001b[1;36m4\u001b[0m. \u001b[1;38;5;128mSocialise\u001b[0m\n",
       "\u001b[1;36m5\u001b[0m. \u001b[1;38;5;128mDrink Alcohol\u001b[0m\n",
       "\u001b[1;36m6\u001b[0m. \u001b[1;38;5;128mSmoke\u001b[0m\n",
       "\n"
      ]
     },
     "metadata": {},
     "output_type": "display_data"
    },
    {
     "data": {
      "text/html": [
       "<pre style=\"white-space:pre;overflow-x:auto;line-height:normal;font-family:Menlo,'DejaVu Sans Mono',consolas,'Courier New',monospace\">Choose from 1 to 6 <span style=\"color: #008080; text-decoration-color: #008080; font-weight: bold\">(2)</span>: </pre>\n"
      ],
      "text/plain": [
       "Choose from 1 to 6 \u001b[1;36m(2)\u001b[0m: "
      ]
     },
     "metadata": {},
     "output_type": "display_data"
    },
    {
     "data": {
      "text/html": [
       "<pre style=\"white-space:pre;overflow-x:auto;line-height:normal;font-family:Menlo,'DejaVu Sans Mono',consolas,'Courier New',monospace\">** Current Day: <span style=\"color: #af00d7; text-decoration-color: #af00d7; font-weight: bold\">20</span>, Current Hour: <span style=\"color: #af00d7; text-decoration-color: #af00d7; font-weight: bold\">20</span>, Time Left: <span style=\"color: #af00d7; text-decoration-color: #af00d7; font-weight: bold\">8284</span> hrs ** \n",
       "\n",
       "</pre>\n"
      ],
      "text/plain": [
       "** Current Day: \u001b[1;38;5;128m20\u001b[0m, Current Hour: \u001b[1;38;5;128m20\u001b[0m, Time Left: \u001b[1;38;5;128m8284\u001b[0m hrs ** \n",
       "\n"
      ]
     },
     "metadata": {},
     "output_type": "display_data"
    },
    {
     "data": {
      "text/html": [
       "<pre style=\"white-space:pre;overflow-x:auto;line-height:normal;font-family:Menlo,'DejaVu Sans Mono',consolas,'Courier New',monospace\">- <span style=\"color: #005f00; text-decoration-color: #005f00; font-weight: bold\">Serotonin: #########</span>\n",
       "</pre>\n"
      ],
      "text/plain": [
       "- \u001b[1;38;5;22mSerotonin: #########\u001b[0m\n"
      ]
     },
     "metadata": {},
     "output_type": "display_data"
    },
    {
     "data": {
      "text/html": [
       "<pre style=\"white-space:pre;overflow-x:auto;line-height:normal;font-family:Menlo,'DejaVu Sans Mono',consolas,'Courier New',monospace\">- <span style=\"color: #005f00; text-decoration-color: #005f00; font-weight: bold\">Oxytocin: #</span>\n",
       "</pre>\n"
      ],
      "text/plain": [
       "- \u001b[1;38;5;22mOxytocin: #\u001b[0m\n"
      ]
     },
     "metadata": {},
     "output_type": "display_data"
    },
    {
     "data": {
      "text/html": [
       "<pre style=\"white-space:pre;overflow-x:auto;line-height:normal;font-family:Menlo,'DejaVu Sans Mono',consolas,'Courier New',monospace\">- <span style=\"color: #005f00; text-decoration-color: #005f00; font-weight: bold\">Dopamine: ####</span>\n",
       "</pre>\n"
      ],
      "text/plain": [
       "- \u001b[1;38;5;22mDopamine: ####\u001b[0m\n"
      ]
     },
     "metadata": {},
     "output_type": "display_data"
    },
    {
     "data": {
      "text/html": [
       "<pre style=\"white-space:pre;overflow-x:auto;line-height:normal;font-family:Menlo,'DejaVu Sans Mono',consolas,'Courier New',monospace\">- <span style=\"color: #005f00; text-decoration-color: #005f00; font-weight: bold\">Endorphins: #</span>\n",
       "</pre>\n"
      ],
      "text/plain": [
       "- \u001b[1;38;5;22mEndorphins: #\u001b[0m\n"
      ]
     },
     "metadata": {},
     "output_type": "display_data"
    },
    {
     "data": {
      "text/html": [
       "<pre style=\"white-space:pre;overflow-x:auto;line-height:normal;font-family:Menlo,'DejaVu Sans Mono',consolas,'Courier New',monospace\">- <span style=\"color: #870000; text-decoration-color: #870000; font-weight: bold\">Cortisol: #########</span>\n",
       "</pre>\n"
      ],
      "text/plain": [
       "- \u001b[1;38;5;88mCortisol: #########\u001b[0m\n"
      ]
     },
     "metadata": {},
     "output_type": "display_data"
    },
    {
     "data": {
      "text/html": [
       "<pre style=\"white-space:pre;overflow-x:auto;line-height:normal;font-family:Menlo,'DejaVu Sans Mono',consolas,'Courier New',monospace\">\n",
       "<span style=\"color: #008080; text-decoration-color: #008080; font-weight: bold\">1</span>. <span style=\"color: #af00d7; text-decoration-color: #af00d7; font-weight: bold\">Binge on Internet</span>\n",
       "<span style=\"color: #008080; text-decoration-color: #008080; font-weight: bold\">2</span>. <span style=\"color: #af00d7; text-decoration-color: #af00d7; font-weight: bold\">Work</span>\n",
       "<span style=\"color: #008080; text-decoration-color: #008080; font-weight: bold\">3</span>. <span style=\"color: #af00d7; text-decoration-color: #af00d7; font-weight: bold\">Exercise</span>\n",
       "<span style=\"color: #008080; text-decoration-color: #008080; font-weight: bold\">4</span>. <span style=\"color: #af00d7; text-decoration-color: #af00d7; font-weight: bold\">Socialise</span>\n",
       "<span style=\"color: #008080; text-decoration-color: #008080; font-weight: bold\">5</span>. <span style=\"color: #af00d7; text-decoration-color: #af00d7; font-weight: bold\">Drink Alcohol</span>\n",
       "<span style=\"color: #008080; text-decoration-color: #008080; font-weight: bold\">6</span>. <span style=\"color: #af00d7; text-decoration-color: #af00d7; font-weight: bold\">Smoke</span>\n",
       "\n",
       "</pre>\n"
      ],
      "text/plain": [
       "\n",
       "\u001b[1;36m1\u001b[0m. \u001b[1;38;5;128mBinge on Internet\u001b[0m\n",
       "\u001b[1;36m2\u001b[0m. \u001b[1;38;5;128mWork\u001b[0m\n",
       "\u001b[1;36m3\u001b[0m. \u001b[1;38;5;128mExercise\u001b[0m\n",
       "\u001b[1;36m4\u001b[0m. \u001b[1;38;5;128mSocialise\u001b[0m\n",
       "\u001b[1;36m5\u001b[0m. \u001b[1;38;5;128mDrink Alcohol\u001b[0m\n",
       "\u001b[1;36m6\u001b[0m. \u001b[1;38;5;128mSmoke\u001b[0m\n",
       "\n"
      ]
     },
     "metadata": {},
     "output_type": "display_data"
    },
    {
     "data": {
      "text/html": [
       "<pre style=\"white-space:pre;overflow-x:auto;line-height:normal;font-family:Menlo,'DejaVu Sans Mono',consolas,'Courier New',monospace\">Choose from 1 to 6 <span style=\"color: #008080; text-decoration-color: #008080; font-weight: bold\">(2)</span>: </pre>\n"
      ],
      "text/plain": [
       "Choose from 1 to 6 \u001b[1;36m(2)\u001b[0m: "
      ]
     },
     "metadata": {},
     "output_type": "display_data"
    },
    {
     "data": {
      "text/html": [
       "<pre style=\"white-space:pre;overflow-x:auto;line-height:normal;font-family:Menlo,'DejaVu Sans Mono',consolas,'Courier New',monospace\">** Current Day: <span style=\"color: #af00d7; text-decoration-color: #af00d7; font-weight: bold\">21</span>, Current Hour: <span style=\"color: #af00d7; text-decoration-color: #af00d7; font-weight: bold\">21</span>, Time Left: <span style=\"color: #af00d7; text-decoration-color: #af00d7; font-weight: bold\">8259</span> hrs ** \n",
       "\n",
       "</pre>\n"
      ],
      "text/plain": [
       "** Current Day: \u001b[1;38;5;128m21\u001b[0m, Current Hour: \u001b[1;38;5;128m21\u001b[0m, Time Left: \u001b[1;38;5;128m8259\u001b[0m hrs ** \n",
       "\n"
      ]
     },
     "metadata": {},
     "output_type": "display_data"
    },
    {
     "data": {
      "text/html": [
       "<pre style=\"white-space:pre;overflow-x:auto;line-height:normal;font-family:Menlo,'DejaVu Sans Mono',consolas,'Courier New',monospace\">- <span style=\"color: #005f00; text-decoration-color: #005f00; font-weight: bold\">Serotonin: ##########</span>\n",
       "</pre>\n"
      ],
      "text/plain": [
       "- \u001b[1;38;5;22mSerotonin: ##########\u001b[0m\n"
      ]
     },
     "metadata": {},
     "output_type": "display_data"
    },
    {
     "data": {
      "text/html": [
       "<pre style=\"white-space:pre;overflow-x:auto;line-height:normal;font-family:Menlo,'DejaVu Sans Mono',consolas,'Courier New',monospace\">- <span style=\"color: #005f00; text-decoration-color: #005f00; font-weight: bold\">Oxytocin: #</span>\n",
       "</pre>\n"
      ],
      "text/plain": [
       "- \u001b[1;38;5;22mOxytocin: #\u001b[0m\n"
      ]
     },
     "metadata": {},
     "output_type": "display_data"
    },
    {
     "data": {
      "text/html": [
       "<pre style=\"white-space:pre;overflow-x:auto;line-height:normal;font-family:Menlo,'DejaVu Sans Mono',consolas,'Courier New',monospace\">- <span style=\"color: #005f00; text-decoration-color: #005f00; font-weight: bold\">Dopamine: ###</span>\n",
       "</pre>\n"
      ],
      "text/plain": [
       "- \u001b[1;38;5;22mDopamine: ###\u001b[0m\n"
      ]
     },
     "metadata": {},
     "output_type": "display_data"
    },
    {
     "data": {
      "text/html": [
       "<pre style=\"white-space:pre;overflow-x:auto;line-height:normal;font-family:Menlo,'DejaVu Sans Mono',consolas,'Courier New',monospace\">- <span style=\"color: #005f00; text-decoration-color: #005f00; font-weight: bold\">Endorphins: #</span>\n",
       "</pre>\n"
      ],
      "text/plain": [
       "- \u001b[1;38;5;22mEndorphins: #\u001b[0m\n"
      ]
     },
     "metadata": {},
     "output_type": "display_data"
    },
    {
     "data": {
      "text/html": [
       "<pre style=\"white-space:pre;overflow-x:auto;line-height:normal;font-family:Menlo,'DejaVu Sans Mono',consolas,'Courier New',monospace\">- <span style=\"color: #870000; text-decoration-color: #870000; font-weight: bold\">Cortisol: ##########</span>\n",
       "</pre>\n"
      ],
      "text/plain": [
       "- \u001b[1;38;5;88mCortisol: ##########\u001b[0m\n"
      ]
     },
     "metadata": {},
     "output_type": "display_data"
    },
    {
     "data": {
      "text/html": [
       "<pre style=\"white-space:pre;overflow-x:auto;line-height:normal;font-family:Menlo,'DejaVu Sans Mono',consolas,'Courier New',monospace\">\n",
       "<span style=\"color: #008080; text-decoration-color: #008080; font-weight: bold\">1</span>. <span style=\"color: #af00d7; text-decoration-color: #af00d7; font-weight: bold\">Binge on Internet</span>\n",
       "<span style=\"color: #008080; text-decoration-color: #008080; font-weight: bold\">2</span>. <span style=\"color: #af00d7; text-decoration-color: #af00d7; font-weight: bold\">Work</span>\n",
       "<span style=\"color: #008080; text-decoration-color: #008080; font-weight: bold\">3</span>. <span style=\"color: #af00d7; text-decoration-color: #af00d7; font-weight: bold\">Exercise</span>\n",
       "<span style=\"color: #008080; text-decoration-color: #008080; font-weight: bold\">4</span>. <span style=\"color: #af00d7; text-decoration-color: #af00d7; font-weight: bold\">Socialise</span>\n",
       "<span style=\"color: #008080; text-decoration-color: #008080; font-weight: bold\">5</span>. <span style=\"color: #af00d7; text-decoration-color: #af00d7; font-weight: bold\">Drink Alcohol</span>\n",
       "<span style=\"color: #008080; text-decoration-color: #008080; font-weight: bold\">6</span>. <span style=\"color: #af00d7; text-decoration-color: #af00d7; font-weight: bold\">Smoke</span>\n",
       "\n",
       "</pre>\n"
      ],
      "text/plain": [
       "\n",
       "\u001b[1;36m1\u001b[0m. \u001b[1;38;5;128mBinge on Internet\u001b[0m\n",
       "\u001b[1;36m2\u001b[0m. \u001b[1;38;5;128mWork\u001b[0m\n",
       "\u001b[1;36m3\u001b[0m. \u001b[1;38;5;128mExercise\u001b[0m\n",
       "\u001b[1;36m4\u001b[0m. \u001b[1;38;5;128mSocialise\u001b[0m\n",
       "\u001b[1;36m5\u001b[0m. \u001b[1;38;5;128mDrink Alcohol\u001b[0m\n",
       "\u001b[1;36m6\u001b[0m. \u001b[1;38;5;128mSmoke\u001b[0m\n",
       "\n"
      ]
     },
     "metadata": {},
     "output_type": "display_data"
    },
    {
     "data": {
      "text/html": [
       "<pre style=\"white-space:pre;overflow-x:auto;line-height:normal;font-family:Menlo,'DejaVu Sans Mono',consolas,'Courier New',monospace\">Choose from 1 to 6 <span style=\"color: #008080; text-decoration-color: #008080; font-weight: bold\">(3)</span>: </pre>\n"
      ],
      "text/plain": [
       "Choose from 1 to 6 \u001b[1;36m(3)\u001b[0m: "
      ]
     },
     "metadata": {},
     "output_type": "display_data"
    },
    {
     "data": {
      "text/html": [
       "<pre style=\"white-space:pre;overflow-x:auto;line-height:normal;font-family:Menlo,'DejaVu Sans Mono',consolas,'Courier New',monospace\">** Current Day: <span style=\"color: #af00d7; text-decoration-color: #af00d7; font-weight: bold\">22</span>, Current Hour: <span style=\"color: #af00d7; text-decoration-color: #af00d7; font-weight: bold\">22</span>, Time Left: <span style=\"color: #af00d7; text-decoration-color: #af00d7; font-weight: bold\">8234</span> hrs ** \n",
       "\n",
       "</pre>\n"
      ],
      "text/plain": [
       "** Current Day: \u001b[1;38;5;128m22\u001b[0m, Current Hour: \u001b[1;38;5;128m22\u001b[0m, Time Left: \u001b[1;38;5;128m8234\u001b[0m hrs ** \n",
       "\n"
      ]
     },
     "metadata": {},
     "output_type": "display_data"
    },
    {
     "data": {
      "text/html": [
       "<pre style=\"white-space:pre;overflow-x:auto;line-height:normal;font-family:Menlo,'DejaVu Sans Mono',consolas,'Courier New',monospace\">- <span style=\"color: #005f00; text-decoration-color: #005f00; font-weight: bold\">Serotonin: ###########</span>\n",
       "</pre>\n"
      ],
      "text/plain": [
       "- \u001b[1;38;5;22mSerotonin: ###########\u001b[0m\n"
      ]
     },
     "metadata": {},
     "output_type": "display_data"
    },
    {
     "data": {
      "text/html": [
       "<pre style=\"white-space:pre;overflow-x:auto;line-height:normal;font-family:Menlo,'DejaVu Sans Mono',consolas,'Courier New',monospace\">- <span style=\"color: #005f00; text-decoration-color: #005f00; font-weight: bold\">Oxytocin: #</span>\n",
       "</pre>\n"
      ],
      "text/plain": [
       "- \u001b[1;38;5;22mOxytocin: #\u001b[0m\n"
      ]
     },
     "metadata": {},
     "output_type": "display_data"
    },
    {
     "data": {
      "text/html": [
       "<pre style=\"white-space:pre;overflow-x:auto;line-height:normal;font-family:Menlo,'DejaVu Sans Mono',consolas,'Courier New',monospace\">- <span style=\"color: #005f00; text-decoration-color: #005f00; font-weight: bold\">Dopamine: ##</span>\n",
       "</pre>\n"
      ],
      "text/plain": [
       "- \u001b[1;38;5;22mDopamine: ##\u001b[0m\n"
      ]
     },
     "metadata": {},
     "output_type": "display_data"
    },
    {
     "data": {
      "text/html": [
       "<pre style=\"white-space:pre;overflow-x:auto;line-height:normal;font-family:Menlo,'DejaVu Sans Mono',consolas,'Courier New',monospace\">- <span style=\"color: #005f00; text-decoration-color: #005f00; font-weight: bold\">Endorphins: #</span>\n",
       "</pre>\n"
      ],
      "text/plain": [
       "- \u001b[1;38;5;22mEndorphins: #\u001b[0m\n"
      ]
     },
     "metadata": {},
     "output_type": "display_data"
    },
    {
     "data": {
      "text/html": [
       "<pre style=\"white-space:pre;overflow-x:auto;line-height:normal;font-family:Menlo,'DejaVu Sans Mono',consolas,'Courier New',monospace\">- <span style=\"color: #870000; text-decoration-color: #870000; font-weight: bold\">Cortisol: ###########</span>\n",
       "</pre>\n"
      ],
      "text/plain": [
       "- \u001b[1;38;5;88mCortisol: ###########\u001b[0m\n"
      ]
     },
     "metadata": {},
     "output_type": "display_data"
    },
    {
     "data": {
      "text/html": [
       "<pre style=\"white-space:pre;overflow-x:auto;line-height:normal;font-family:Menlo,'DejaVu Sans Mono',consolas,'Courier New',monospace\">\n",
       "<span style=\"color: #008080; text-decoration-color: #008080; font-weight: bold\">1</span>. <span style=\"color: #af00d7; text-decoration-color: #af00d7; font-weight: bold\">Binge on Internet</span>\n",
       "<span style=\"color: #008080; text-decoration-color: #008080; font-weight: bold\">2</span>. <span style=\"color: #af00d7; text-decoration-color: #af00d7; font-weight: bold\">Work</span>\n",
       "<span style=\"color: #008080; text-decoration-color: #008080; font-weight: bold\">3</span>. <span style=\"color: #af00d7; text-decoration-color: #af00d7; font-weight: bold\">Exercise</span>\n",
       "<span style=\"color: #008080; text-decoration-color: #008080; font-weight: bold\">4</span>. <span style=\"color: #af00d7; text-decoration-color: #af00d7; font-weight: bold\">Socialise</span>\n",
       "<span style=\"color: #008080; text-decoration-color: #008080; font-weight: bold\">5</span>. <span style=\"color: #af00d7; text-decoration-color: #af00d7; font-weight: bold\">Drink Alcohol</span>\n",
       "<span style=\"color: #008080; text-decoration-color: #008080; font-weight: bold\">6</span>. <span style=\"color: #af00d7; text-decoration-color: #af00d7; font-weight: bold\">Smoke</span>\n",
       "\n",
       "</pre>\n"
      ],
      "text/plain": [
       "\n",
       "\u001b[1;36m1\u001b[0m. \u001b[1;38;5;128mBinge on Internet\u001b[0m\n",
       "\u001b[1;36m2\u001b[0m. \u001b[1;38;5;128mWork\u001b[0m\n",
       "\u001b[1;36m3\u001b[0m. \u001b[1;38;5;128mExercise\u001b[0m\n",
       "\u001b[1;36m4\u001b[0m. \u001b[1;38;5;128mSocialise\u001b[0m\n",
       "\u001b[1;36m5\u001b[0m. \u001b[1;38;5;128mDrink Alcohol\u001b[0m\n",
       "\u001b[1;36m6\u001b[0m. \u001b[1;38;5;128mSmoke\u001b[0m\n",
       "\n"
      ]
     },
     "metadata": {},
     "output_type": "display_data"
    },
    {
     "data": {
      "text/html": [
       "<pre style=\"white-space:pre;overflow-x:auto;line-height:normal;font-family:Menlo,'DejaVu Sans Mono',consolas,'Courier New',monospace\">Choose from 1 to 6 <span style=\"color: #008080; text-decoration-color: #008080; font-weight: bold\">(3)</span>: </pre>\n"
      ],
      "text/plain": [
       "Choose from 1 to 6 \u001b[1;36m(3)\u001b[0m: "
      ]
     },
     "metadata": {},
     "output_type": "display_data"
    },
    {
     "data": {
      "text/html": [
       "<pre style=\"white-space:pre;overflow-x:auto;line-height:normal;font-family:Menlo,'DejaVu Sans Mono',consolas,'Courier New',monospace\">** Current Day: <span style=\"color: #af00d7; text-decoration-color: #af00d7; font-weight: bold\">23</span>, Current Hour: <span style=\"color: #af00d7; text-decoration-color: #af00d7; font-weight: bold\">23</span>, Time Left: <span style=\"color: #af00d7; text-decoration-color: #af00d7; font-weight: bold\">8209</span> hrs ** \n",
       "\n",
       "</pre>\n"
      ],
      "text/plain": [
       "** Current Day: \u001b[1;38;5;128m23\u001b[0m, Current Hour: \u001b[1;38;5;128m23\u001b[0m, Time Left: \u001b[1;38;5;128m8209\u001b[0m hrs ** \n",
       "\n"
      ]
     },
     "metadata": {},
     "output_type": "display_data"
    },
    {
     "data": {
      "text/html": [
       "<pre style=\"white-space:pre;overflow-x:auto;line-height:normal;font-family:Menlo,'DejaVu Sans Mono',consolas,'Courier New',monospace\">- <span style=\"color: #005f00; text-decoration-color: #005f00; font-weight: bold\">Serotonin: ############</span>\n",
       "</pre>\n"
      ],
      "text/plain": [
       "- \u001b[1;38;5;22mSerotonin: ############\u001b[0m\n"
      ]
     },
     "metadata": {},
     "output_type": "display_data"
    },
    {
     "data": {
      "text/html": [
       "<pre style=\"white-space:pre;overflow-x:auto;line-height:normal;font-family:Menlo,'DejaVu Sans Mono',consolas,'Courier New',monospace\">- <span style=\"color: #005f00; text-decoration-color: #005f00; font-weight: bold\">Oxytocin: #</span>\n",
       "</pre>\n"
      ],
      "text/plain": [
       "- \u001b[1;38;5;22mOxytocin: #\u001b[0m\n"
      ]
     },
     "metadata": {},
     "output_type": "display_data"
    },
    {
     "data": {
      "text/html": [
       "<pre style=\"white-space:pre;overflow-x:auto;line-height:normal;font-family:Menlo,'DejaVu Sans Mono',consolas,'Courier New',monospace\">- <span style=\"color: #005f00; text-decoration-color: #005f00; font-weight: bold\">Dopamine: #</span>\n",
       "</pre>\n"
      ],
      "text/plain": [
       "- \u001b[1;38;5;22mDopamine: #\u001b[0m\n"
      ]
     },
     "metadata": {},
     "output_type": "display_data"
    },
    {
     "data": {
      "text/html": [
       "<pre style=\"white-space:pre;overflow-x:auto;line-height:normal;font-family:Menlo,'DejaVu Sans Mono',consolas,'Courier New',monospace\">- <span style=\"color: #005f00; text-decoration-color: #005f00; font-weight: bold\">Endorphins: #</span>\n",
       "</pre>\n"
      ],
      "text/plain": [
       "- \u001b[1;38;5;22mEndorphins: #\u001b[0m\n"
      ]
     },
     "metadata": {},
     "output_type": "display_data"
    },
    {
     "data": {
      "text/html": [
       "<pre style=\"white-space:pre;overflow-x:auto;line-height:normal;font-family:Menlo,'DejaVu Sans Mono',consolas,'Courier New',monospace\">- <span style=\"color: #870000; text-decoration-color: #870000; font-weight: bold\">Cortisol: ############</span>\n",
       "</pre>\n"
      ],
      "text/plain": [
       "- \u001b[1;38;5;88mCortisol: ############\u001b[0m\n"
      ]
     },
     "metadata": {},
     "output_type": "display_data"
    },
    {
     "data": {
      "text/html": [
       "<pre style=\"white-space:pre;overflow-x:auto;line-height:normal;font-family:Menlo,'DejaVu Sans Mono',consolas,'Courier New',monospace\">\n",
       "<span style=\"color: #008080; text-decoration-color: #008080; font-weight: bold\">1</span>. <span style=\"color: #af00d7; text-decoration-color: #af00d7; font-weight: bold\">Binge on Internet</span>\n",
       "<span style=\"color: #008080; text-decoration-color: #008080; font-weight: bold\">2</span>. <span style=\"color: #af00d7; text-decoration-color: #af00d7; font-weight: bold\">Work</span>\n",
       "<span style=\"color: #008080; text-decoration-color: #008080; font-weight: bold\">3</span>. <span style=\"color: #af00d7; text-decoration-color: #af00d7; font-weight: bold\">Exercise</span>\n",
       "<span style=\"color: #008080; text-decoration-color: #008080; font-weight: bold\">4</span>. <span style=\"color: #af00d7; text-decoration-color: #af00d7; font-weight: bold\">Socialise</span>\n",
       "<span style=\"color: #008080; text-decoration-color: #008080; font-weight: bold\">5</span>. <span style=\"color: #af00d7; text-decoration-color: #af00d7; font-weight: bold\">Drink Alcohol</span>\n",
       "<span style=\"color: #008080; text-decoration-color: #008080; font-weight: bold\">6</span>. <span style=\"color: #af00d7; text-decoration-color: #af00d7; font-weight: bold\">Smoke</span>\n",
       "\n",
       "</pre>\n"
      ],
      "text/plain": [
       "\n",
       "\u001b[1;36m1\u001b[0m. \u001b[1;38;5;128mBinge on Internet\u001b[0m\n",
       "\u001b[1;36m2\u001b[0m. \u001b[1;38;5;128mWork\u001b[0m\n",
       "\u001b[1;36m3\u001b[0m. \u001b[1;38;5;128mExercise\u001b[0m\n",
       "\u001b[1;36m4\u001b[0m. \u001b[1;38;5;128mSocialise\u001b[0m\n",
       "\u001b[1;36m5\u001b[0m. \u001b[1;38;5;128mDrink Alcohol\u001b[0m\n",
       "\u001b[1;36m6\u001b[0m. \u001b[1;38;5;128mSmoke\u001b[0m\n",
       "\n"
      ]
     },
     "metadata": {},
     "output_type": "display_data"
    },
    {
     "data": {
      "text/html": [
       "<pre style=\"white-space:pre;overflow-x:auto;line-height:normal;font-family:Menlo,'DejaVu Sans Mono',consolas,'Courier New',monospace\">Choose from 1 to 6 <span style=\"color: #008080; text-decoration-color: #008080; font-weight: bold\">(3)</span>: </pre>\n"
      ],
      "text/plain": [
       "Choose from 1 to 6 \u001b[1;36m(3)\u001b[0m: "
      ]
     },
     "metadata": {},
     "output_type": "display_data"
    },
    {
     "data": {
      "text/html": [
       "<pre style=\"white-space:pre;overflow-x:auto;line-height:normal;font-family:Menlo,'DejaVu Sans Mono',consolas,'Courier New',monospace\">** Current Day: <span style=\"color: #af00d7; text-decoration-color: #af00d7; font-weight: bold\">24</span>, Current Hour: <span style=\"color: #af00d7; text-decoration-color: #af00d7; font-weight: bold\">24</span>, Time Left: <span style=\"color: #af00d7; text-decoration-color: #af00d7; font-weight: bold\">8184</span> hrs ** \n",
       "\n",
       "</pre>\n"
      ],
      "text/plain": [
       "** Current Day: \u001b[1;38;5;128m24\u001b[0m, Current Hour: \u001b[1;38;5;128m24\u001b[0m, Time Left: \u001b[1;38;5;128m8184\u001b[0m hrs ** \n",
       "\n"
      ]
     },
     "metadata": {},
     "output_type": "display_data"
    },
    {
     "data": {
      "text/html": [
       "<pre style=\"white-space:pre;overflow-x:auto;line-height:normal;font-family:Menlo,'DejaVu Sans Mono',consolas,'Courier New',monospace\">- <span style=\"color: #005f00; text-decoration-color: #005f00; font-weight: bold\">Serotonin: #############</span>\n",
       "</pre>\n"
      ],
      "text/plain": [
       "- \u001b[1;38;5;22mSerotonin: #############\u001b[0m\n"
      ]
     },
     "metadata": {},
     "output_type": "display_data"
    },
    {
     "data": {
      "text/html": [
       "<pre style=\"white-space:pre;overflow-x:auto;line-height:normal;font-family:Menlo,'DejaVu Sans Mono',consolas,'Courier New',monospace\">- <span style=\"color: #005f00; text-decoration-color: #005f00; font-weight: bold\">Oxytocin: #</span>\n",
       "</pre>\n"
      ],
      "text/plain": [
       "- \u001b[1;38;5;22mOxytocin: #\u001b[0m\n"
      ]
     },
     "metadata": {},
     "output_type": "display_data"
    },
    {
     "data": {
      "text/html": [
       "<pre style=\"white-space:pre;overflow-x:auto;line-height:normal;font-family:Menlo,'DejaVu Sans Mono',consolas,'Courier New',monospace\">- <span style=\"color: #005f00; text-decoration-color: #005f00; font-weight: bold\">Dopamine: </span>\n",
       "</pre>\n"
      ],
      "text/plain": [
       "- \u001b[1;38;5;22mDopamine: \u001b[0m\n"
      ]
     },
     "metadata": {},
     "output_type": "display_data"
    },
    {
     "data": {
      "text/html": [
       "<pre style=\"white-space:pre;overflow-x:auto;line-height:normal;font-family:Menlo,'DejaVu Sans Mono',consolas,'Courier New',monospace\">- <span style=\"color: #005f00; text-decoration-color: #005f00; font-weight: bold\">Endorphins: #</span>\n",
       "</pre>\n"
      ],
      "text/plain": [
       "- \u001b[1;38;5;22mEndorphins: #\u001b[0m\n"
      ]
     },
     "metadata": {},
     "output_type": "display_data"
    },
    {
     "data": {
      "text/html": [
       "<pre style=\"white-space:pre;overflow-x:auto;line-height:normal;font-family:Menlo,'DejaVu Sans Mono',consolas,'Courier New',monospace\">- <span style=\"color: #870000; text-decoration-color: #870000; font-weight: bold\">Cortisol: #############</span>\n",
       "</pre>\n"
      ],
      "text/plain": [
       "- \u001b[1;38;5;88mCortisol: #############\u001b[0m\n"
      ]
     },
     "metadata": {},
     "output_type": "display_data"
    },
    {
     "data": {
      "text/html": [
       "<pre style=\"white-space:pre;overflow-x:auto;line-height:normal;font-family:Menlo,'DejaVu Sans Mono',consolas,'Courier New',monospace\">\n",
       "<span style=\"color: #008080; text-decoration-color: #008080; font-weight: bold\">1</span>. <span style=\"color: #af00d7; text-decoration-color: #af00d7; font-weight: bold\">Binge on Internet</span>\n",
       "<span style=\"color: #008080; text-decoration-color: #008080; font-weight: bold\">2</span>. <span style=\"color: #af00d7; text-decoration-color: #af00d7; font-weight: bold\">Work</span>\n",
       "<span style=\"color: #008080; text-decoration-color: #008080; font-weight: bold\">3</span>. <span style=\"color: #af00d7; text-decoration-color: #af00d7; font-weight: bold\">Exercise</span>\n",
       "<span style=\"color: #008080; text-decoration-color: #008080; font-weight: bold\">4</span>. <span style=\"color: #af00d7; text-decoration-color: #af00d7; font-weight: bold\">Socialise</span>\n",
       "<span style=\"color: #008080; text-decoration-color: #008080; font-weight: bold\">5</span>. <span style=\"color: #af00d7; text-decoration-color: #af00d7; font-weight: bold\">Drink Alcohol</span>\n",
       "<span style=\"color: #008080; text-decoration-color: #008080; font-weight: bold\">6</span>. <span style=\"color: #af00d7; text-decoration-color: #af00d7; font-weight: bold\">Smoke</span>\n",
       "\n",
       "</pre>\n"
      ],
      "text/plain": [
       "\n",
       "\u001b[1;36m1\u001b[0m. \u001b[1;38;5;128mBinge on Internet\u001b[0m\n",
       "\u001b[1;36m2\u001b[0m. \u001b[1;38;5;128mWork\u001b[0m\n",
       "\u001b[1;36m3\u001b[0m. \u001b[1;38;5;128mExercise\u001b[0m\n",
       "\u001b[1;36m4\u001b[0m. \u001b[1;38;5;128mSocialise\u001b[0m\n",
       "\u001b[1;36m5\u001b[0m. \u001b[1;38;5;128mDrink Alcohol\u001b[0m\n",
       "\u001b[1;36m6\u001b[0m. \u001b[1;38;5;128mSmoke\u001b[0m\n",
       "\n"
      ]
     },
     "metadata": {},
     "output_type": "display_data"
    },
    {
     "data": {
      "text/html": [
       "<pre style=\"white-space:pre;overflow-x:auto;line-height:normal;font-family:Menlo,'DejaVu Sans Mono',consolas,'Courier New',monospace\">Choose from 1 to 6 <span style=\"color: #008080; text-decoration-color: #008080; font-weight: bold\">(3)</span>: </pre>\n"
      ],
      "text/plain": [
       "Choose from 1 to 6 \u001b[1;36m(3)\u001b[0m: "
      ]
     },
     "metadata": {},
     "output_type": "display_data"
    },
    {
     "data": {
      "text/html": [
       "<pre style=\"white-space:pre;overflow-x:auto;line-height:normal;font-family:Menlo,'DejaVu Sans Mono',consolas,'Courier New',monospace\">** Current Day: <span style=\"color: #af00d7; text-decoration-color: #af00d7; font-weight: bold\">25</span>, Current Hour: <span style=\"color: #af00d7; text-decoration-color: #af00d7; font-weight: bold\">0</span>, Time Left: <span style=\"color: #af00d7; text-decoration-color: #af00d7; font-weight: bold\">8184</span> hrs ** \n",
       "\n",
       "</pre>\n"
      ],
      "text/plain": [
       "** Current Day: \u001b[1;38;5;128m25\u001b[0m, Current Hour: \u001b[1;38;5;128m0\u001b[0m, Time Left: \u001b[1;38;5;128m8184\u001b[0m hrs ** \n",
       "\n"
      ]
     },
     "metadata": {},
     "output_type": "display_data"
    },
    {
     "data": {
      "text/html": [
       "<pre style=\"white-space:pre;overflow-x:auto;line-height:normal;font-family:Menlo,'DejaVu Sans Mono',consolas,'Courier New',monospace\">- <span style=\"color: #005f00; text-decoration-color: #005f00; font-weight: bold\">Serotonin: ##############</span>\n",
       "</pre>\n"
      ],
      "text/plain": [
       "- \u001b[1;38;5;22mSerotonin: ##############\u001b[0m\n"
      ]
     },
     "metadata": {},
     "output_type": "display_data"
    },
    {
     "data": {
      "text/html": [
       "<pre style=\"white-space:pre;overflow-x:auto;line-height:normal;font-family:Menlo,'DejaVu Sans Mono',consolas,'Courier New',monospace\">- <span style=\"color: #005f00; text-decoration-color: #005f00; font-weight: bold\">Oxytocin: #</span>\n",
       "</pre>\n"
      ],
      "text/plain": [
       "- \u001b[1;38;5;22mOxytocin: #\u001b[0m\n"
      ]
     },
     "metadata": {},
     "output_type": "display_data"
    },
    {
     "data": {
      "text/html": [
       "<pre style=\"white-space:pre;overflow-x:auto;line-height:normal;font-family:Menlo,'DejaVu Sans Mono',consolas,'Courier New',monospace\">- <span style=\"color: #005f00; text-decoration-color: #005f00; font-weight: bold\">Dopamine: </span>\n",
       "</pre>\n"
      ],
      "text/plain": [
       "- \u001b[1;38;5;22mDopamine: \u001b[0m\n"
      ]
     },
     "metadata": {},
     "output_type": "display_data"
    },
    {
     "data": {
      "text/html": [
       "<pre style=\"white-space:pre;overflow-x:auto;line-height:normal;font-family:Menlo,'DejaVu Sans Mono',consolas,'Courier New',monospace\">- <span style=\"color: #005f00; text-decoration-color: #005f00; font-weight: bold\">Endorphins: #</span>\n",
       "</pre>\n"
      ],
      "text/plain": [
       "- \u001b[1;38;5;22mEndorphins: #\u001b[0m\n"
      ]
     },
     "metadata": {},
     "output_type": "display_data"
    },
    {
     "data": {
      "text/html": [
       "<pre style=\"white-space:pre;overflow-x:auto;line-height:normal;font-family:Menlo,'DejaVu Sans Mono',consolas,'Courier New',monospace\">- <span style=\"color: #870000; text-decoration-color: #870000; font-weight: bold\">Cortisol: ##############</span>\n",
       "</pre>\n"
      ],
      "text/plain": [
       "- \u001b[1;38;5;88mCortisol: ##############\u001b[0m\n"
      ]
     },
     "metadata": {},
     "output_type": "display_data"
    },
    {
     "data": {
      "text/html": [
       "<pre style=\"white-space:pre;overflow-x:auto;line-height:normal;font-family:Menlo,'DejaVu Sans Mono',consolas,'Courier New',monospace\">\n",
       "<span style=\"color: #008080; text-decoration-color: #008080; font-weight: bold\">1</span>. <span style=\"color: #af00d7; text-decoration-color: #af00d7; font-weight: bold\">Binge on Internet</span>\n",
       "<span style=\"color: #008080; text-decoration-color: #008080; font-weight: bold\">2</span>. <span style=\"color: #af00d7; text-decoration-color: #af00d7; font-weight: bold\">Work</span>\n",
       "<span style=\"color: #008080; text-decoration-color: #008080; font-weight: bold\">3</span>. <span style=\"color: #af00d7; text-decoration-color: #af00d7; font-weight: bold\">Exercise</span>\n",
       "<span style=\"color: #008080; text-decoration-color: #008080; font-weight: bold\">4</span>. <span style=\"color: #af00d7; text-decoration-color: #af00d7; font-weight: bold\">Socialise</span>\n",
       "<span style=\"color: #008080; text-decoration-color: #008080; font-weight: bold\">5</span>. <span style=\"color: #af00d7; text-decoration-color: #af00d7; font-weight: bold\">Drink Alcohol</span>\n",
       "<span style=\"color: #008080; text-decoration-color: #008080; font-weight: bold\">6</span>. <span style=\"color: #af00d7; text-decoration-color: #af00d7; font-weight: bold\">Smoke</span>\n",
       "\n",
       "</pre>\n"
      ],
      "text/plain": [
       "\n",
       "\u001b[1;36m1\u001b[0m. \u001b[1;38;5;128mBinge on Internet\u001b[0m\n",
       "\u001b[1;36m2\u001b[0m. \u001b[1;38;5;128mWork\u001b[0m\n",
       "\u001b[1;36m3\u001b[0m. \u001b[1;38;5;128mExercise\u001b[0m\n",
       "\u001b[1;36m4\u001b[0m. \u001b[1;38;5;128mSocialise\u001b[0m\n",
       "\u001b[1;36m5\u001b[0m. \u001b[1;38;5;128mDrink Alcohol\u001b[0m\n",
       "\u001b[1;36m6\u001b[0m. \u001b[1;38;5;128mSmoke\u001b[0m\n",
       "\n"
      ]
     },
     "metadata": {},
     "output_type": "display_data"
    },
    {
     "data": {
      "text/html": [
       "<pre style=\"white-space:pre;overflow-x:auto;line-height:normal;font-family:Menlo,'DejaVu Sans Mono',consolas,'Courier New',monospace\">Choose from 1 to 6 <span style=\"color: #008080; text-decoration-color: #008080; font-weight: bold\">(3)</span>: </pre>\n"
      ],
      "text/plain": [
       "Choose from 1 to 6 \u001b[1;36m(3)\u001b[0m: "
      ]
     },
     "metadata": {},
     "output_type": "display_data"
    },
    {
     "data": {
      "text/html": [
       "<pre style=\"white-space:pre;overflow-x:auto;line-height:normal;font-family:Menlo,'DejaVu Sans Mono',consolas,'Courier New',monospace\">** Current Day: <span style=\"color: #af00d7; text-decoration-color: #af00d7; font-weight: bold\">26</span>, Current Hour: <span style=\"color: #af00d7; text-decoration-color: #af00d7; font-weight: bold\">1</span>, Time Left: <span style=\"color: #af00d7; text-decoration-color: #af00d7; font-weight: bold\">8159</span> hrs ** \n",
       "\n",
       "</pre>\n"
      ],
      "text/plain": [
       "** Current Day: \u001b[1;38;5;128m26\u001b[0m, Current Hour: \u001b[1;38;5;128m1\u001b[0m, Time Left: \u001b[1;38;5;128m8159\u001b[0m hrs ** \n",
       "\n"
      ]
     },
     "metadata": {},
     "output_type": "display_data"
    },
    {
     "data": {
      "text/html": [
       "<pre style=\"white-space:pre;overflow-x:auto;line-height:normal;font-family:Menlo,'DejaVu Sans Mono',consolas,'Courier New',monospace\">- <span style=\"color: #005f00; text-decoration-color: #005f00; font-weight: bold\">Serotonin: ###############</span>\n",
       "</pre>\n"
      ],
      "text/plain": [
       "- \u001b[1;38;5;22mSerotonin: ###############\u001b[0m\n"
      ]
     },
     "metadata": {},
     "output_type": "display_data"
    },
    {
     "data": {
      "text/html": [
       "<pre style=\"white-space:pre;overflow-x:auto;line-height:normal;font-family:Menlo,'DejaVu Sans Mono',consolas,'Courier New',monospace\">- <span style=\"color: #005f00; text-decoration-color: #005f00; font-weight: bold\">Oxytocin: #</span>\n",
       "</pre>\n"
      ],
      "text/plain": [
       "- \u001b[1;38;5;22mOxytocin: #\u001b[0m\n"
      ]
     },
     "metadata": {},
     "output_type": "display_data"
    },
    {
     "data": {
      "text/html": [
       "<pre style=\"white-space:pre;overflow-x:auto;line-height:normal;font-family:Menlo,'DejaVu Sans Mono',consolas,'Courier New',monospace\">- <span style=\"color: #005f00; text-decoration-color: #005f00; font-weight: bold\">Dopamine: </span>\n",
       "</pre>\n"
      ],
      "text/plain": [
       "- \u001b[1;38;5;22mDopamine: \u001b[0m\n"
      ]
     },
     "metadata": {},
     "output_type": "display_data"
    },
    {
     "data": {
      "text/html": [
       "<pre style=\"white-space:pre;overflow-x:auto;line-height:normal;font-family:Menlo,'DejaVu Sans Mono',consolas,'Courier New',monospace\">- <span style=\"color: #005f00; text-decoration-color: #005f00; font-weight: bold\">Endorphins: #</span>\n",
       "</pre>\n"
      ],
      "text/plain": [
       "- \u001b[1;38;5;22mEndorphins: #\u001b[0m\n"
      ]
     },
     "metadata": {},
     "output_type": "display_data"
    },
    {
     "data": {
      "text/html": [
       "<pre style=\"white-space:pre;overflow-x:auto;line-height:normal;font-family:Menlo,'DejaVu Sans Mono',consolas,'Courier New',monospace\">- <span style=\"color: #870000; text-decoration-color: #870000; font-weight: bold\">Cortisol: ###############</span>\n",
       "</pre>\n"
      ],
      "text/plain": [
       "- \u001b[1;38;5;88mCortisol: ###############\u001b[0m\n"
      ]
     },
     "metadata": {},
     "output_type": "display_data"
    },
    {
     "data": {
      "text/html": [
       "<pre style=\"white-space:pre;overflow-x:auto;line-height:normal;font-family:Menlo,'DejaVu Sans Mono',consolas,'Courier New',monospace\">\n",
       "<span style=\"color: #008080; text-decoration-color: #008080; font-weight: bold\">1</span>. <span style=\"color: #af00d7; text-decoration-color: #af00d7; font-weight: bold\">Binge on Internet</span>\n",
       "<span style=\"color: #008080; text-decoration-color: #008080; font-weight: bold\">2</span>. <span style=\"color: #af00d7; text-decoration-color: #af00d7; font-weight: bold\">Work</span>\n",
       "<span style=\"color: #008080; text-decoration-color: #008080; font-weight: bold\">3</span>. <span style=\"color: #af00d7; text-decoration-color: #af00d7; font-weight: bold\">Exercise</span>\n",
       "<span style=\"color: #008080; text-decoration-color: #008080; font-weight: bold\">4</span>. <span style=\"color: #af00d7; text-decoration-color: #af00d7; font-weight: bold\">Socialise</span>\n",
       "<span style=\"color: #008080; text-decoration-color: #008080; font-weight: bold\">5</span>. <span style=\"color: #af00d7; text-decoration-color: #af00d7; font-weight: bold\">Drink Alcohol</span>\n",
       "<span style=\"color: #008080; text-decoration-color: #008080; font-weight: bold\">6</span>. <span style=\"color: #af00d7; text-decoration-color: #af00d7; font-weight: bold\">Smoke</span>\n",
       "\n",
       "</pre>\n"
      ],
      "text/plain": [
       "\n",
       "\u001b[1;36m1\u001b[0m. \u001b[1;38;5;128mBinge on Internet\u001b[0m\n",
       "\u001b[1;36m2\u001b[0m. \u001b[1;38;5;128mWork\u001b[0m\n",
       "\u001b[1;36m3\u001b[0m. \u001b[1;38;5;128mExercise\u001b[0m\n",
       "\u001b[1;36m4\u001b[0m. \u001b[1;38;5;128mSocialise\u001b[0m\n",
       "\u001b[1;36m5\u001b[0m. \u001b[1;38;5;128mDrink Alcohol\u001b[0m\n",
       "\u001b[1;36m6\u001b[0m. \u001b[1;38;5;128mSmoke\u001b[0m\n",
       "\n"
      ]
     },
     "metadata": {},
     "output_type": "display_data"
    },
    {
     "data": {
      "text/html": [
       "<pre style=\"white-space:pre;overflow-x:auto;line-height:normal;font-family:Menlo,'DejaVu Sans Mono',consolas,'Courier New',monospace\">Choose from 1 to 6 <span style=\"color: #008080; text-decoration-color: #008080; font-weight: bold\">(3)</span>: </pre>\n"
      ],
      "text/plain": [
       "Choose from 1 to 6 \u001b[1;36m(3)\u001b[0m: "
      ]
     },
     "metadata": {},
     "output_type": "display_data"
    },
    {
     "data": {
      "text/html": [
       "<pre style=\"white-space:pre;overflow-x:auto;line-height:normal;font-family:Menlo,'DejaVu Sans Mono',consolas,'Courier New',monospace\">** Current Day: <span style=\"color: #af00d7; text-decoration-color: #af00d7; font-weight: bold\">27</span>, Current Hour: <span style=\"color: #af00d7; text-decoration-color: #af00d7; font-weight: bold\">2</span>, Time Left: <span style=\"color: #af00d7; text-decoration-color: #af00d7; font-weight: bold\">8134</span> hrs ** \n",
       "\n",
       "</pre>\n"
      ],
      "text/plain": [
       "** Current Day: \u001b[1;38;5;128m27\u001b[0m, Current Hour: \u001b[1;38;5;128m2\u001b[0m, Time Left: \u001b[1;38;5;128m8134\u001b[0m hrs ** \n",
       "\n"
      ]
     },
     "metadata": {},
     "output_type": "display_data"
    },
    {
     "data": {
      "text/html": [
       "<pre style=\"white-space:pre;overflow-x:auto;line-height:normal;font-family:Menlo,'DejaVu Sans Mono',consolas,'Courier New',monospace\">- <span style=\"color: #005f00; text-decoration-color: #005f00; font-weight: bold\">Serotonin: ################</span>\n",
       "</pre>\n"
      ],
      "text/plain": [
       "- \u001b[1;38;5;22mSerotonin: ################\u001b[0m\n"
      ]
     },
     "metadata": {},
     "output_type": "display_data"
    },
    {
     "data": {
      "text/html": [
       "<pre style=\"white-space:pre;overflow-x:auto;line-height:normal;font-family:Menlo,'DejaVu Sans Mono',consolas,'Courier New',monospace\">- <span style=\"color: #005f00; text-decoration-color: #005f00; font-weight: bold\">Oxytocin: #</span>\n",
       "</pre>\n"
      ],
      "text/plain": [
       "- \u001b[1;38;5;22mOxytocin: #\u001b[0m\n"
      ]
     },
     "metadata": {},
     "output_type": "display_data"
    },
    {
     "data": {
      "text/html": [
       "<pre style=\"white-space:pre;overflow-x:auto;line-height:normal;font-family:Menlo,'DejaVu Sans Mono',consolas,'Courier New',monospace\">- <span style=\"color: #005f00; text-decoration-color: #005f00; font-weight: bold\">Dopamine: </span>\n",
       "</pre>\n"
      ],
      "text/plain": [
       "- \u001b[1;38;5;22mDopamine: \u001b[0m\n"
      ]
     },
     "metadata": {},
     "output_type": "display_data"
    },
    {
     "data": {
      "text/html": [
       "<pre style=\"white-space:pre;overflow-x:auto;line-height:normal;font-family:Menlo,'DejaVu Sans Mono',consolas,'Courier New',monospace\">- <span style=\"color: #005f00; text-decoration-color: #005f00; font-weight: bold\">Endorphins: #</span>\n",
       "</pre>\n"
      ],
      "text/plain": [
       "- \u001b[1;38;5;22mEndorphins: #\u001b[0m\n"
      ]
     },
     "metadata": {},
     "output_type": "display_data"
    },
    {
     "data": {
      "text/html": [
       "<pre style=\"white-space:pre;overflow-x:auto;line-height:normal;font-family:Menlo,'DejaVu Sans Mono',consolas,'Courier New',monospace\">- <span style=\"color: #870000; text-decoration-color: #870000; font-weight: bold\">Cortisol: ################</span>\n",
       "</pre>\n"
      ],
      "text/plain": [
       "- \u001b[1;38;5;88mCortisol: ################\u001b[0m\n"
      ]
     },
     "metadata": {},
     "output_type": "display_data"
    },
    {
     "data": {
      "text/html": [
       "<pre style=\"white-space:pre;overflow-x:auto;line-height:normal;font-family:Menlo,'DejaVu Sans Mono',consolas,'Courier New',monospace\">\n",
       "<span style=\"color: #008080; text-decoration-color: #008080; font-weight: bold\">1</span>. <span style=\"color: #af00d7; text-decoration-color: #af00d7; font-weight: bold\">Binge on Internet</span>\n",
       "<span style=\"color: #008080; text-decoration-color: #008080; font-weight: bold\">2</span>. <span style=\"color: #af00d7; text-decoration-color: #af00d7; font-weight: bold\">Work</span>\n",
       "<span style=\"color: #008080; text-decoration-color: #008080; font-weight: bold\">3</span>. <span style=\"color: #af00d7; text-decoration-color: #af00d7; font-weight: bold\">Exercise</span>\n",
       "<span style=\"color: #008080; text-decoration-color: #008080; font-weight: bold\">4</span>. <span style=\"color: #af00d7; text-decoration-color: #af00d7; font-weight: bold\">Socialise</span>\n",
       "<span style=\"color: #008080; text-decoration-color: #008080; font-weight: bold\">5</span>. <span style=\"color: #af00d7; text-decoration-color: #af00d7; font-weight: bold\">Drink Alcohol</span>\n",
       "<span style=\"color: #008080; text-decoration-color: #008080; font-weight: bold\">6</span>. <span style=\"color: #af00d7; text-decoration-color: #af00d7; font-weight: bold\">Smoke</span>\n",
       "\n",
       "</pre>\n"
      ],
      "text/plain": [
       "\n",
       "\u001b[1;36m1\u001b[0m. \u001b[1;38;5;128mBinge on Internet\u001b[0m\n",
       "\u001b[1;36m2\u001b[0m. \u001b[1;38;5;128mWork\u001b[0m\n",
       "\u001b[1;36m3\u001b[0m. \u001b[1;38;5;128mExercise\u001b[0m\n",
       "\u001b[1;36m4\u001b[0m. \u001b[1;38;5;128mSocialise\u001b[0m\n",
       "\u001b[1;36m5\u001b[0m. \u001b[1;38;5;128mDrink Alcohol\u001b[0m\n",
       "\u001b[1;36m6\u001b[0m. \u001b[1;38;5;128mSmoke\u001b[0m\n",
       "\n"
      ]
     },
     "metadata": {},
     "output_type": "display_data"
    },
    {
     "data": {
      "text/html": [
       "<pre style=\"white-space:pre;overflow-x:auto;line-height:normal;font-family:Menlo,'DejaVu Sans Mono',consolas,'Courier New',monospace\">Choose from 1 to 6 <span style=\"color: #008080; text-decoration-color: #008080; font-weight: bold\">(3)</span>: </pre>\n"
      ],
      "text/plain": [
       "Choose from 1 to 6 \u001b[1;36m(3)\u001b[0m: "
      ]
     },
     "metadata": {},
     "output_type": "display_data"
    },
    {
     "data": {
      "text/html": [
       "<pre style=\"white-space:pre;overflow-x:auto;line-height:normal;font-family:Menlo,'DejaVu Sans Mono',consolas,'Courier New',monospace\">** Current Day: <span style=\"color: #af00d7; text-decoration-color: #af00d7; font-weight: bold\">28</span>, Current Hour: <span style=\"color: #af00d7; text-decoration-color: #af00d7; font-weight: bold\">3</span>, Time Left: <span style=\"color: #af00d7; text-decoration-color: #af00d7; font-weight: bold\">8109</span> hrs ** \n",
       "\n",
       "</pre>\n"
      ],
      "text/plain": [
       "** Current Day: \u001b[1;38;5;128m28\u001b[0m, Current Hour: \u001b[1;38;5;128m3\u001b[0m, Time Left: \u001b[1;38;5;128m8109\u001b[0m hrs ** \n",
       "\n"
      ]
     },
     "metadata": {},
     "output_type": "display_data"
    },
    {
     "data": {
      "text/html": [
       "<pre style=\"white-space:pre;overflow-x:auto;line-height:normal;font-family:Menlo,'DejaVu Sans Mono',consolas,'Courier New',monospace\">- <span style=\"color: #005f00; text-decoration-color: #005f00; font-weight: bold\">Serotonin: #################</span>\n",
       "</pre>\n"
      ],
      "text/plain": [
       "- \u001b[1;38;5;22mSerotonin: #################\u001b[0m\n"
      ]
     },
     "metadata": {},
     "output_type": "display_data"
    },
    {
     "data": {
      "text/html": [
       "<pre style=\"white-space:pre;overflow-x:auto;line-height:normal;font-family:Menlo,'DejaVu Sans Mono',consolas,'Courier New',monospace\">- <span style=\"color: #005f00; text-decoration-color: #005f00; font-weight: bold\">Oxytocin: #</span>\n",
       "</pre>\n"
      ],
      "text/plain": [
       "- \u001b[1;38;5;22mOxytocin: #\u001b[0m\n"
      ]
     },
     "metadata": {},
     "output_type": "display_data"
    },
    {
     "data": {
      "text/html": [
       "<pre style=\"white-space:pre;overflow-x:auto;line-height:normal;font-family:Menlo,'DejaVu Sans Mono',consolas,'Courier New',monospace\">- <span style=\"color: #005f00; text-decoration-color: #005f00; font-weight: bold\">Dopamine: </span>\n",
       "</pre>\n"
      ],
      "text/plain": [
       "- \u001b[1;38;5;22mDopamine: \u001b[0m\n"
      ]
     },
     "metadata": {},
     "output_type": "display_data"
    },
    {
     "data": {
      "text/html": [
       "<pre style=\"white-space:pre;overflow-x:auto;line-height:normal;font-family:Menlo,'DejaVu Sans Mono',consolas,'Courier New',monospace\">- <span style=\"color: #005f00; text-decoration-color: #005f00; font-weight: bold\">Endorphins: #</span>\n",
       "</pre>\n"
      ],
      "text/plain": [
       "- \u001b[1;38;5;22mEndorphins: #\u001b[0m\n"
      ]
     },
     "metadata": {},
     "output_type": "display_data"
    },
    {
     "data": {
      "text/html": [
       "<pre style=\"white-space:pre;overflow-x:auto;line-height:normal;font-family:Menlo,'DejaVu Sans Mono',consolas,'Courier New',monospace\">- <span style=\"color: #870000; text-decoration-color: #870000; font-weight: bold\">Cortisol: #################</span>\n",
       "</pre>\n"
      ],
      "text/plain": [
       "- \u001b[1;38;5;88mCortisol: #################\u001b[0m\n"
      ]
     },
     "metadata": {},
     "output_type": "display_data"
    },
    {
     "data": {
      "text/html": [
       "<pre style=\"white-space:pre;overflow-x:auto;line-height:normal;font-family:Menlo,'DejaVu Sans Mono',consolas,'Courier New',monospace\">\n",
       "<span style=\"color: #008080; text-decoration-color: #008080; font-weight: bold\">1</span>. <span style=\"color: #af00d7; text-decoration-color: #af00d7; font-weight: bold\">Binge on Internet</span>\n",
       "<span style=\"color: #008080; text-decoration-color: #008080; font-weight: bold\">2</span>. <span style=\"color: #af00d7; text-decoration-color: #af00d7; font-weight: bold\">Work</span>\n",
       "<span style=\"color: #008080; text-decoration-color: #008080; font-weight: bold\">3</span>. <span style=\"color: #af00d7; text-decoration-color: #af00d7; font-weight: bold\">Exercise</span>\n",
       "<span style=\"color: #008080; text-decoration-color: #008080; font-weight: bold\">4</span>. <span style=\"color: #af00d7; text-decoration-color: #af00d7; font-weight: bold\">Socialise</span>\n",
       "<span style=\"color: #008080; text-decoration-color: #008080; font-weight: bold\">5</span>. <span style=\"color: #af00d7; text-decoration-color: #af00d7; font-weight: bold\">Drink Alcohol</span>\n",
       "<span style=\"color: #008080; text-decoration-color: #008080; font-weight: bold\">6</span>. <span style=\"color: #af00d7; text-decoration-color: #af00d7; font-weight: bold\">Smoke</span>\n",
       "\n",
       "</pre>\n"
      ],
      "text/plain": [
       "\n",
       "\u001b[1;36m1\u001b[0m. \u001b[1;38;5;128mBinge on Internet\u001b[0m\n",
       "\u001b[1;36m2\u001b[0m. \u001b[1;38;5;128mWork\u001b[0m\n",
       "\u001b[1;36m3\u001b[0m. \u001b[1;38;5;128mExercise\u001b[0m\n",
       "\u001b[1;36m4\u001b[0m. \u001b[1;38;5;128mSocialise\u001b[0m\n",
       "\u001b[1;36m5\u001b[0m. \u001b[1;38;5;128mDrink Alcohol\u001b[0m\n",
       "\u001b[1;36m6\u001b[0m. \u001b[1;38;5;128mSmoke\u001b[0m\n",
       "\n"
      ]
     },
     "metadata": {},
     "output_type": "display_data"
    },
    {
     "data": {
      "text/html": [
       "<pre style=\"white-space:pre;overflow-x:auto;line-height:normal;font-family:Menlo,'DejaVu Sans Mono',consolas,'Courier New',monospace\">Choose from 1 to 6 <span style=\"color: #008080; text-decoration-color: #008080; font-weight: bold\">(3)</span>: </pre>\n"
      ],
      "text/plain": [
       "Choose from 1 to 6 \u001b[1;36m(3)\u001b[0m: "
      ]
     },
     "metadata": {},
     "output_type": "display_data"
    },
    {
     "data": {
      "text/html": [
       "<pre style=\"white-space:pre;overflow-x:auto;line-height:normal;font-family:Menlo,'DejaVu Sans Mono',consolas,'Courier New',monospace\">** Current Day: <span style=\"color: #af00d7; text-decoration-color: #af00d7; font-weight: bold\">29</span>, Current Hour: <span style=\"color: #af00d7; text-decoration-color: #af00d7; font-weight: bold\">4</span>, Time Left: <span style=\"color: #af00d7; text-decoration-color: #af00d7; font-weight: bold\">8084</span> hrs ** \n",
       "\n",
       "</pre>\n"
      ],
      "text/plain": [
       "** Current Day: \u001b[1;38;5;128m29\u001b[0m, Current Hour: \u001b[1;38;5;128m4\u001b[0m, Time Left: \u001b[1;38;5;128m8084\u001b[0m hrs ** \n",
       "\n"
      ]
     },
     "metadata": {},
     "output_type": "display_data"
    },
    {
     "data": {
      "text/html": [
       "<pre style=\"white-space:pre;overflow-x:auto;line-height:normal;font-family:Menlo,'DejaVu Sans Mono',consolas,'Courier New',monospace\">- <span style=\"color: #005f00; text-decoration-color: #005f00; font-weight: bold\">Serotonin: ##################</span>\n",
       "</pre>\n"
      ],
      "text/plain": [
       "- \u001b[1;38;5;22mSerotonin: ##################\u001b[0m\n"
      ]
     },
     "metadata": {},
     "output_type": "display_data"
    },
    {
     "data": {
      "text/html": [
       "<pre style=\"white-space:pre;overflow-x:auto;line-height:normal;font-family:Menlo,'DejaVu Sans Mono',consolas,'Courier New',monospace\">- <span style=\"color: #005f00; text-decoration-color: #005f00; font-weight: bold\">Oxytocin: #</span>\n",
       "</pre>\n"
      ],
      "text/plain": [
       "- \u001b[1;38;5;22mOxytocin: #\u001b[0m\n"
      ]
     },
     "metadata": {},
     "output_type": "display_data"
    },
    {
     "data": {
      "text/html": [
       "<pre style=\"white-space:pre;overflow-x:auto;line-height:normal;font-family:Menlo,'DejaVu Sans Mono',consolas,'Courier New',monospace\">- <span style=\"color: #005f00; text-decoration-color: #005f00; font-weight: bold\">Dopamine: </span>\n",
       "</pre>\n"
      ],
      "text/plain": [
       "- \u001b[1;38;5;22mDopamine: \u001b[0m\n"
      ]
     },
     "metadata": {},
     "output_type": "display_data"
    },
    {
     "data": {
      "text/html": [
       "<pre style=\"white-space:pre;overflow-x:auto;line-height:normal;font-family:Menlo,'DejaVu Sans Mono',consolas,'Courier New',monospace\">- <span style=\"color: #005f00; text-decoration-color: #005f00; font-weight: bold\">Endorphins: #</span>\n",
       "</pre>\n"
      ],
      "text/plain": [
       "- \u001b[1;38;5;22mEndorphins: #\u001b[0m\n"
      ]
     },
     "metadata": {},
     "output_type": "display_data"
    },
    {
     "data": {
      "text/html": [
       "<pre style=\"white-space:pre;overflow-x:auto;line-height:normal;font-family:Menlo,'DejaVu Sans Mono',consolas,'Courier New',monospace\">- <span style=\"color: #870000; text-decoration-color: #870000; font-weight: bold\">Cortisol: ##################</span>\n",
       "</pre>\n"
      ],
      "text/plain": [
       "- \u001b[1;38;5;88mCortisol: ##################\u001b[0m\n"
      ]
     },
     "metadata": {},
     "output_type": "display_data"
    },
    {
     "data": {
      "text/html": [
       "<pre style=\"white-space:pre;overflow-x:auto;line-height:normal;font-family:Menlo,'DejaVu Sans Mono',consolas,'Courier New',monospace\">\n",
       "<span style=\"color: #008080; text-decoration-color: #008080; font-weight: bold\">1</span>. <span style=\"color: #af00d7; text-decoration-color: #af00d7; font-weight: bold\">Binge on Internet</span>\n",
       "<span style=\"color: #008080; text-decoration-color: #008080; font-weight: bold\">2</span>. <span style=\"color: #af00d7; text-decoration-color: #af00d7; font-weight: bold\">Work</span>\n",
       "<span style=\"color: #008080; text-decoration-color: #008080; font-weight: bold\">3</span>. <span style=\"color: #af00d7; text-decoration-color: #af00d7; font-weight: bold\">Exercise</span>\n",
       "<span style=\"color: #008080; text-decoration-color: #008080; font-weight: bold\">4</span>. <span style=\"color: #af00d7; text-decoration-color: #af00d7; font-weight: bold\">Socialise</span>\n",
       "<span style=\"color: #008080; text-decoration-color: #008080; font-weight: bold\">5</span>. <span style=\"color: #af00d7; text-decoration-color: #af00d7; font-weight: bold\">Drink Alcohol</span>\n",
       "<span style=\"color: #008080; text-decoration-color: #008080; font-weight: bold\">6</span>. <span style=\"color: #af00d7; text-decoration-color: #af00d7; font-weight: bold\">Smoke</span>\n",
       "\n",
       "</pre>\n"
      ],
      "text/plain": [
       "\n",
       "\u001b[1;36m1\u001b[0m. \u001b[1;38;5;128mBinge on Internet\u001b[0m\n",
       "\u001b[1;36m2\u001b[0m. \u001b[1;38;5;128mWork\u001b[0m\n",
       "\u001b[1;36m3\u001b[0m. \u001b[1;38;5;128mExercise\u001b[0m\n",
       "\u001b[1;36m4\u001b[0m. \u001b[1;38;5;128mSocialise\u001b[0m\n",
       "\u001b[1;36m5\u001b[0m. \u001b[1;38;5;128mDrink Alcohol\u001b[0m\n",
       "\u001b[1;36m6\u001b[0m. \u001b[1;38;5;128mSmoke\u001b[0m\n",
       "\n"
      ]
     },
     "metadata": {},
     "output_type": "display_data"
    },
    {
     "data": {
      "text/html": [
       "<pre style=\"white-space:pre;overflow-x:auto;line-height:normal;font-family:Menlo,'DejaVu Sans Mono',consolas,'Courier New',monospace\">Choose from 1 to 6 <span style=\"color: #008080; text-decoration-color: #008080; font-weight: bold\">(3)</span>: </pre>\n"
      ],
      "text/plain": [
       "Choose from 1 to 6 \u001b[1;36m(3)\u001b[0m: "
      ]
     },
     "metadata": {},
     "output_type": "display_data"
    },
    {
     "data": {
      "text/html": [
       "<pre style=\"white-space:pre;overflow-x:auto;line-height:normal;font-family:Menlo,'DejaVu Sans Mono',consolas,'Courier New',monospace\">** Current Day: <span style=\"color: #af00d7; text-decoration-color: #af00d7; font-weight: bold\">30</span>, Current Hour: <span style=\"color: #af00d7; text-decoration-color: #af00d7; font-weight: bold\">5</span>, Time Left: <span style=\"color: #af00d7; text-decoration-color: #af00d7; font-weight: bold\">8059</span> hrs ** \n",
       "\n",
       "</pre>\n"
      ],
      "text/plain": [
       "** Current Day: \u001b[1;38;5;128m30\u001b[0m, Current Hour: \u001b[1;38;5;128m5\u001b[0m, Time Left: \u001b[1;38;5;128m8059\u001b[0m hrs ** \n",
       "\n"
      ]
     },
     "metadata": {},
     "output_type": "display_data"
    },
    {
     "data": {
      "text/html": [
       "<pre style=\"white-space:pre;overflow-x:auto;line-height:normal;font-family:Menlo,'DejaVu Sans Mono',consolas,'Courier New',monospace\">- <span style=\"color: #005f00; text-decoration-color: #005f00; font-weight: bold\">Serotonin: ##################</span>\n",
       "</pre>\n"
      ],
      "text/plain": [
       "- \u001b[1;38;5;22mSerotonin: ##################\u001b[0m\n"
      ]
     },
     "metadata": {},
     "output_type": "display_data"
    },
    {
     "data": {
      "text/html": [
       "<pre style=\"white-space:pre;overflow-x:auto;line-height:normal;font-family:Menlo,'DejaVu Sans Mono',consolas,'Courier New',monospace\">- <span style=\"color: #005f00; text-decoration-color: #005f00; font-weight: bold\">Oxytocin: #</span>\n",
       "</pre>\n"
      ],
      "text/plain": [
       "- \u001b[1;38;5;22mOxytocin: #\u001b[0m\n"
      ]
     },
     "metadata": {},
     "output_type": "display_data"
    },
    {
     "data": {
      "text/html": [
       "<pre style=\"white-space:pre;overflow-x:auto;line-height:normal;font-family:Menlo,'DejaVu Sans Mono',consolas,'Courier New',monospace\">- <span style=\"color: #005f00; text-decoration-color: #005f00; font-weight: bold\">Dopamine: </span>\n",
       "</pre>\n"
      ],
      "text/plain": [
       "- \u001b[1;38;5;22mDopamine: \u001b[0m\n"
      ]
     },
     "metadata": {},
     "output_type": "display_data"
    },
    {
     "data": {
      "text/html": [
       "<pre style=\"white-space:pre;overflow-x:auto;line-height:normal;font-family:Menlo,'DejaVu Sans Mono',consolas,'Courier New',monospace\">- <span style=\"color: #005f00; text-decoration-color: #005f00; font-weight: bold\">Endorphins: #</span>\n",
       "</pre>\n"
      ],
      "text/plain": [
       "- \u001b[1;38;5;22mEndorphins: #\u001b[0m\n"
      ]
     },
     "metadata": {},
     "output_type": "display_data"
    },
    {
     "data": {
      "text/html": [
       "<pre style=\"white-space:pre;overflow-x:auto;line-height:normal;font-family:Menlo,'DejaVu Sans Mono',consolas,'Courier New',monospace\">- <span style=\"color: #870000; text-decoration-color: #870000; font-weight: bold\">Cortisol: ##################</span>\n",
       "</pre>\n"
      ],
      "text/plain": [
       "- \u001b[1;38;5;88mCortisol: ##################\u001b[0m\n"
      ]
     },
     "metadata": {},
     "output_type": "display_data"
    },
    {
     "data": {
      "text/html": [
       "<pre style=\"white-space:pre;overflow-x:auto;line-height:normal;font-family:Menlo,'DejaVu Sans Mono',consolas,'Courier New',monospace\">\n",
       "<span style=\"color: #008080; text-decoration-color: #008080; font-weight: bold\">1</span>. <span style=\"color: #af00d7; text-decoration-color: #af00d7; font-weight: bold\">Binge on Internet</span>\n",
       "<span style=\"color: #008080; text-decoration-color: #008080; font-weight: bold\">2</span>. <span style=\"color: #af00d7; text-decoration-color: #af00d7; font-weight: bold\">Work</span>\n",
       "<span style=\"color: #008080; text-decoration-color: #008080; font-weight: bold\">3</span>. <span style=\"color: #af00d7; text-decoration-color: #af00d7; font-weight: bold\">Exercise</span>\n",
       "<span style=\"color: #008080; text-decoration-color: #008080; font-weight: bold\">4</span>. <span style=\"color: #af00d7; text-decoration-color: #af00d7; font-weight: bold\">Socialise</span>\n",
       "<span style=\"color: #008080; text-decoration-color: #008080; font-weight: bold\">5</span>. <span style=\"color: #af00d7; text-decoration-color: #af00d7; font-weight: bold\">Drink Alcohol</span>\n",
       "<span style=\"color: #008080; text-decoration-color: #008080; font-weight: bold\">6</span>. <span style=\"color: #af00d7; text-decoration-color: #af00d7; font-weight: bold\">Smoke</span>\n",
       "\n",
       "</pre>\n"
      ],
      "text/plain": [
       "\n",
       "\u001b[1;36m1\u001b[0m. \u001b[1;38;5;128mBinge on Internet\u001b[0m\n",
       "\u001b[1;36m2\u001b[0m. \u001b[1;38;5;128mWork\u001b[0m\n",
       "\u001b[1;36m3\u001b[0m. \u001b[1;38;5;128mExercise\u001b[0m\n",
       "\u001b[1;36m4\u001b[0m. \u001b[1;38;5;128mSocialise\u001b[0m\n",
       "\u001b[1;36m5\u001b[0m. \u001b[1;38;5;128mDrink Alcohol\u001b[0m\n",
       "\u001b[1;36m6\u001b[0m. \u001b[1;38;5;128mSmoke\u001b[0m\n",
       "\n"
      ]
     },
     "metadata": {},
     "output_type": "display_data"
    },
    {
     "data": {
      "text/html": [
       "<pre style=\"white-space:pre;overflow-x:auto;line-height:normal;font-family:Menlo,'DejaVu Sans Mono',consolas,'Courier New',monospace\">Choose from 1 to 6 <span style=\"color: #008080; text-decoration-color: #008080; font-weight: bold\">(3)</span>: </pre>\n"
      ],
      "text/plain": [
       "Choose from 1 to 6 \u001b[1;36m(3)\u001b[0m: "
      ]
     },
     "metadata": {},
     "output_type": "display_data"
    },
    {
     "data": {
      "text/html": [
       "<pre style=\"white-space:pre;overflow-x:auto;line-height:normal;font-family:Menlo,'DejaVu Sans Mono',consolas,'Courier New',monospace\">** Current Day: <span style=\"color: #af00d7; text-decoration-color: #af00d7; font-weight: bold\">31</span>, Current Hour: <span style=\"color: #af00d7; text-decoration-color: #af00d7; font-weight: bold\">6</span>, Time Left: <span style=\"color: #af00d7; text-decoration-color: #af00d7; font-weight: bold\">8034</span> hrs ** \n",
       "\n",
       "</pre>\n"
      ],
      "text/plain": [
       "** Current Day: \u001b[1;38;5;128m31\u001b[0m, Current Hour: \u001b[1;38;5;128m6\u001b[0m, Time Left: \u001b[1;38;5;128m8034\u001b[0m hrs ** \n",
       "\n"
      ]
     },
     "metadata": {},
     "output_type": "display_data"
    },
    {
     "data": {
      "text/html": [
       "<pre style=\"white-space:pre;overflow-x:auto;line-height:normal;font-family:Menlo,'DejaVu Sans Mono',consolas,'Courier New',monospace\">- <span style=\"color: #005f00; text-decoration-color: #005f00; font-weight: bold\">Serotonin: ##################</span>\n",
       "</pre>\n"
      ],
      "text/plain": [
       "- \u001b[1;38;5;22mSerotonin: ##################\u001b[0m\n"
      ]
     },
     "metadata": {},
     "output_type": "display_data"
    },
    {
     "data": {
      "text/html": [
       "<pre style=\"white-space:pre;overflow-x:auto;line-height:normal;font-family:Menlo,'DejaVu Sans Mono',consolas,'Courier New',monospace\">- <span style=\"color: #005f00; text-decoration-color: #005f00; font-weight: bold\">Oxytocin: #</span>\n",
       "</pre>\n"
      ],
      "text/plain": [
       "- \u001b[1;38;5;22mOxytocin: #\u001b[0m\n"
      ]
     },
     "metadata": {},
     "output_type": "display_data"
    },
    {
     "data": {
      "text/html": [
       "<pre style=\"white-space:pre;overflow-x:auto;line-height:normal;font-family:Menlo,'DejaVu Sans Mono',consolas,'Courier New',monospace\">- <span style=\"color: #005f00; text-decoration-color: #005f00; font-weight: bold\">Dopamine: </span>\n",
       "</pre>\n"
      ],
      "text/plain": [
       "- \u001b[1;38;5;22mDopamine: \u001b[0m\n"
      ]
     },
     "metadata": {},
     "output_type": "display_data"
    },
    {
     "data": {
      "text/html": [
       "<pre style=\"white-space:pre;overflow-x:auto;line-height:normal;font-family:Menlo,'DejaVu Sans Mono',consolas,'Courier New',monospace\">- <span style=\"color: #005f00; text-decoration-color: #005f00; font-weight: bold\">Endorphins: #</span>\n",
       "</pre>\n"
      ],
      "text/plain": [
       "- \u001b[1;38;5;22mEndorphins: #\u001b[0m\n"
      ]
     },
     "metadata": {},
     "output_type": "display_data"
    },
    {
     "data": {
      "text/html": [
       "<pre style=\"white-space:pre;overflow-x:auto;line-height:normal;font-family:Menlo,'DejaVu Sans Mono',consolas,'Courier New',monospace\">- <span style=\"color: #870000; text-decoration-color: #870000; font-weight: bold\">Cortisol: ##################</span>\n",
       "</pre>\n"
      ],
      "text/plain": [
       "- \u001b[1;38;5;88mCortisol: ##################\u001b[0m\n"
      ]
     },
     "metadata": {},
     "output_type": "display_data"
    },
    {
     "data": {
      "text/html": [
       "<pre style=\"white-space:pre;overflow-x:auto;line-height:normal;font-family:Menlo,'DejaVu Sans Mono',consolas,'Courier New',monospace\">\n",
       "<span style=\"color: #008080; text-decoration-color: #008080; font-weight: bold\">1</span>. <span style=\"color: #af00d7; text-decoration-color: #af00d7; font-weight: bold\">Binge on Internet</span>\n",
       "<span style=\"color: #008080; text-decoration-color: #008080; font-weight: bold\">2</span>. <span style=\"color: #af00d7; text-decoration-color: #af00d7; font-weight: bold\">Work</span>\n",
       "<span style=\"color: #008080; text-decoration-color: #008080; font-weight: bold\">3</span>. <span style=\"color: #af00d7; text-decoration-color: #af00d7; font-weight: bold\">Exercise</span>\n",
       "<span style=\"color: #008080; text-decoration-color: #008080; font-weight: bold\">4</span>. <span style=\"color: #af00d7; text-decoration-color: #af00d7; font-weight: bold\">Socialise</span>\n",
       "<span style=\"color: #008080; text-decoration-color: #008080; font-weight: bold\">5</span>. <span style=\"color: #af00d7; text-decoration-color: #af00d7; font-weight: bold\">Drink Alcohol</span>\n",
       "<span style=\"color: #008080; text-decoration-color: #008080; font-weight: bold\">6</span>. <span style=\"color: #af00d7; text-decoration-color: #af00d7; font-weight: bold\">Smoke</span>\n",
       "\n",
       "</pre>\n"
      ],
      "text/plain": [
       "\n",
       "\u001b[1;36m1\u001b[0m. \u001b[1;38;5;128mBinge on Internet\u001b[0m\n",
       "\u001b[1;36m2\u001b[0m. \u001b[1;38;5;128mWork\u001b[0m\n",
       "\u001b[1;36m3\u001b[0m. \u001b[1;38;5;128mExercise\u001b[0m\n",
       "\u001b[1;36m4\u001b[0m. \u001b[1;38;5;128mSocialise\u001b[0m\n",
       "\u001b[1;36m5\u001b[0m. \u001b[1;38;5;128mDrink Alcohol\u001b[0m\n",
       "\u001b[1;36m6\u001b[0m. \u001b[1;38;5;128mSmoke\u001b[0m\n",
       "\n"
      ]
     },
     "metadata": {},
     "output_type": "display_data"
    },
    {
     "data": {
      "text/html": [
       "<pre style=\"white-space:pre;overflow-x:auto;line-height:normal;font-family:Menlo,'DejaVu Sans Mono',consolas,'Courier New',monospace\">Choose from 1 to 6 <span style=\"color: #008080; text-decoration-color: #008080; font-weight: bold\">(3)</span>: </pre>\n"
      ],
      "text/plain": [
       "Choose from 1 to 6 \u001b[1;36m(3)\u001b[0m: "
      ]
     },
     "metadata": {},
     "output_type": "display_data"
    },
    {
     "data": {
      "text/html": [
       "<pre style=\"white-space:pre;overflow-x:auto;line-height:normal;font-family:Menlo,'DejaVu Sans Mono',consolas,'Courier New',monospace\">** Current Day: <span style=\"color: #af00d7; text-decoration-color: #af00d7; font-weight: bold\">32</span>, Current Hour: <span style=\"color: #af00d7; text-decoration-color: #af00d7; font-weight: bold\">7</span>, Time Left: <span style=\"color: #af00d7; text-decoration-color: #af00d7; font-weight: bold\">8009</span> hrs ** \n",
       "\n",
       "</pre>\n"
      ],
      "text/plain": [
       "** Current Day: \u001b[1;38;5;128m32\u001b[0m, Current Hour: \u001b[1;38;5;128m7\u001b[0m, Time Left: \u001b[1;38;5;128m8009\u001b[0m hrs ** \n",
       "\n"
      ]
     },
     "metadata": {},
     "output_type": "display_data"
    },
    {
     "data": {
      "text/html": [
       "<pre style=\"white-space:pre;overflow-x:auto;line-height:normal;font-family:Menlo,'DejaVu Sans Mono',consolas,'Courier New',monospace\">- <span style=\"color: #005f00; text-decoration-color: #005f00; font-weight: bold\">Serotonin: ##################</span>\n",
       "</pre>\n"
      ],
      "text/plain": [
       "- \u001b[1;38;5;22mSerotonin: ##################\u001b[0m\n"
      ]
     },
     "metadata": {},
     "output_type": "display_data"
    },
    {
     "data": {
      "text/html": [
       "<pre style=\"white-space:pre;overflow-x:auto;line-height:normal;font-family:Menlo,'DejaVu Sans Mono',consolas,'Courier New',monospace\">- <span style=\"color: #005f00; text-decoration-color: #005f00; font-weight: bold\">Oxytocin: #</span>\n",
       "</pre>\n"
      ],
      "text/plain": [
       "- \u001b[1;38;5;22mOxytocin: #\u001b[0m\n"
      ]
     },
     "metadata": {},
     "output_type": "display_data"
    },
    {
     "data": {
      "text/html": [
       "<pre style=\"white-space:pre;overflow-x:auto;line-height:normal;font-family:Menlo,'DejaVu Sans Mono',consolas,'Courier New',monospace\">- <span style=\"color: #005f00; text-decoration-color: #005f00; font-weight: bold\">Dopamine: </span>\n",
       "</pre>\n"
      ],
      "text/plain": [
       "- \u001b[1;38;5;22mDopamine: \u001b[0m\n"
      ]
     },
     "metadata": {},
     "output_type": "display_data"
    },
    {
     "data": {
      "text/html": [
       "<pre style=\"white-space:pre;overflow-x:auto;line-height:normal;font-family:Menlo,'DejaVu Sans Mono',consolas,'Courier New',monospace\">- <span style=\"color: #005f00; text-decoration-color: #005f00; font-weight: bold\">Endorphins: #</span>\n",
       "</pre>\n"
      ],
      "text/plain": [
       "- \u001b[1;38;5;22mEndorphins: #\u001b[0m\n"
      ]
     },
     "metadata": {},
     "output_type": "display_data"
    },
    {
     "data": {
      "text/html": [
       "<pre style=\"white-space:pre;overflow-x:auto;line-height:normal;font-family:Menlo,'DejaVu Sans Mono',consolas,'Courier New',monospace\">- <span style=\"color: #870000; text-decoration-color: #870000; font-weight: bold\">Cortisol: ##################</span>\n",
       "</pre>\n"
      ],
      "text/plain": [
       "- \u001b[1;38;5;88mCortisol: ##################\u001b[0m\n"
      ]
     },
     "metadata": {},
     "output_type": "display_data"
    },
    {
     "data": {
      "text/html": [
       "<pre style=\"white-space:pre;overflow-x:auto;line-height:normal;font-family:Menlo,'DejaVu Sans Mono',consolas,'Courier New',monospace\">\n",
       "<span style=\"color: #008080; text-decoration-color: #008080; font-weight: bold\">1</span>. <span style=\"color: #af00d7; text-decoration-color: #af00d7; font-weight: bold\">Binge on Internet</span>\n",
       "<span style=\"color: #008080; text-decoration-color: #008080; font-weight: bold\">2</span>. <span style=\"color: #af00d7; text-decoration-color: #af00d7; font-weight: bold\">Work</span>\n",
       "<span style=\"color: #008080; text-decoration-color: #008080; font-weight: bold\">3</span>. <span style=\"color: #af00d7; text-decoration-color: #af00d7; font-weight: bold\">Exercise</span>\n",
       "<span style=\"color: #008080; text-decoration-color: #008080; font-weight: bold\">4</span>. <span style=\"color: #af00d7; text-decoration-color: #af00d7; font-weight: bold\">Socialise</span>\n",
       "<span style=\"color: #008080; text-decoration-color: #008080; font-weight: bold\">5</span>. <span style=\"color: #af00d7; text-decoration-color: #af00d7; font-weight: bold\">Drink Alcohol</span>\n",
       "<span style=\"color: #008080; text-decoration-color: #008080; font-weight: bold\">6</span>. <span style=\"color: #af00d7; text-decoration-color: #af00d7; font-weight: bold\">Smoke</span>\n",
       "\n",
       "</pre>\n"
      ],
      "text/plain": [
       "\n",
       "\u001b[1;36m1\u001b[0m. \u001b[1;38;5;128mBinge on Internet\u001b[0m\n",
       "\u001b[1;36m2\u001b[0m. \u001b[1;38;5;128mWork\u001b[0m\n",
       "\u001b[1;36m3\u001b[0m. \u001b[1;38;5;128mExercise\u001b[0m\n",
       "\u001b[1;36m4\u001b[0m. \u001b[1;38;5;128mSocialise\u001b[0m\n",
       "\u001b[1;36m5\u001b[0m. \u001b[1;38;5;128mDrink Alcohol\u001b[0m\n",
       "\u001b[1;36m6\u001b[0m. \u001b[1;38;5;128mSmoke\u001b[0m\n",
       "\n"
      ]
     },
     "metadata": {},
     "output_type": "display_data"
    },
    {
     "data": {
      "text/html": [
       "<pre style=\"white-space:pre;overflow-x:auto;line-height:normal;font-family:Menlo,'DejaVu Sans Mono',consolas,'Courier New',monospace\">Choose from 1 to 6 <span style=\"color: #008080; text-decoration-color: #008080; font-weight: bold\">(3)</span>: </pre>\n"
      ],
      "text/plain": [
       "Choose from 1 to 6 \u001b[1;36m(3)\u001b[0m: "
      ]
     },
     "metadata": {},
     "output_type": "display_data"
    },
    {
     "data": {
      "text/html": [
       "<pre style=\"white-space:pre;overflow-x:auto;line-height:normal;font-family:Menlo,'DejaVu Sans Mono',consolas,'Courier New',monospace\">** Current Day: <span style=\"color: #af00d7; text-decoration-color: #af00d7; font-weight: bold\">33</span>, Current Hour: <span style=\"color: #af00d7; text-decoration-color: #af00d7; font-weight: bold\">8</span>, Time Left: <span style=\"color: #af00d7; text-decoration-color: #af00d7; font-weight: bold\">7984</span> hrs ** \n",
       "\n",
       "</pre>\n"
      ],
      "text/plain": [
       "** Current Day: \u001b[1;38;5;128m33\u001b[0m, Current Hour: \u001b[1;38;5;128m8\u001b[0m, Time Left: \u001b[1;38;5;128m7984\u001b[0m hrs ** \n",
       "\n"
      ]
     },
     "metadata": {},
     "output_type": "display_data"
    },
    {
     "data": {
      "text/html": [
       "<pre style=\"white-space:pre;overflow-x:auto;line-height:normal;font-family:Menlo,'DejaVu Sans Mono',consolas,'Courier New',monospace\">- <span style=\"color: #005f00; text-decoration-color: #005f00; font-weight: bold\">Serotonin: ##################</span>\n",
       "</pre>\n"
      ],
      "text/plain": [
       "- \u001b[1;38;5;22mSerotonin: ##################\u001b[0m\n"
      ]
     },
     "metadata": {},
     "output_type": "display_data"
    },
    {
     "data": {
      "text/html": [
       "<pre style=\"white-space:pre;overflow-x:auto;line-height:normal;font-family:Menlo,'DejaVu Sans Mono',consolas,'Courier New',monospace\">- <span style=\"color: #005f00; text-decoration-color: #005f00; font-weight: bold\">Oxytocin: #</span>\n",
       "</pre>\n"
      ],
      "text/plain": [
       "- \u001b[1;38;5;22mOxytocin: #\u001b[0m\n"
      ]
     },
     "metadata": {},
     "output_type": "display_data"
    },
    {
     "data": {
      "text/html": [
       "<pre style=\"white-space:pre;overflow-x:auto;line-height:normal;font-family:Menlo,'DejaVu Sans Mono',consolas,'Courier New',monospace\">- <span style=\"color: #005f00; text-decoration-color: #005f00; font-weight: bold\">Dopamine: </span>\n",
       "</pre>\n"
      ],
      "text/plain": [
       "- \u001b[1;38;5;22mDopamine: \u001b[0m\n"
      ]
     },
     "metadata": {},
     "output_type": "display_data"
    },
    {
     "data": {
      "text/html": [
       "<pre style=\"white-space:pre;overflow-x:auto;line-height:normal;font-family:Menlo,'DejaVu Sans Mono',consolas,'Courier New',monospace\">- <span style=\"color: #005f00; text-decoration-color: #005f00; font-weight: bold\">Endorphins: #</span>\n",
       "</pre>\n"
      ],
      "text/plain": [
       "- \u001b[1;38;5;22mEndorphins: #\u001b[0m\n"
      ]
     },
     "metadata": {},
     "output_type": "display_data"
    },
    {
     "data": {
      "text/html": [
       "<pre style=\"white-space:pre;overflow-x:auto;line-height:normal;font-family:Menlo,'DejaVu Sans Mono',consolas,'Courier New',monospace\">- <span style=\"color: #870000; text-decoration-color: #870000; font-weight: bold\">Cortisol: ##################</span>\n",
       "</pre>\n"
      ],
      "text/plain": [
       "- \u001b[1;38;5;88mCortisol: ##################\u001b[0m\n"
      ]
     },
     "metadata": {},
     "output_type": "display_data"
    },
    {
     "data": {
      "text/html": [
       "<pre style=\"white-space:pre;overflow-x:auto;line-height:normal;font-family:Menlo,'DejaVu Sans Mono',consolas,'Courier New',monospace\">\n",
       "<span style=\"color: #008080; text-decoration-color: #008080; font-weight: bold\">1</span>. <span style=\"color: #af00d7; text-decoration-color: #af00d7; font-weight: bold\">Binge on Internet</span>\n",
       "<span style=\"color: #008080; text-decoration-color: #008080; font-weight: bold\">2</span>. <span style=\"color: #af00d7; text-decoration-color: #af00d7; font-weight: bold\">Work</span>\n",
       "<span style=\"color: #008080; text-decoration-color: #008080; font-weight: bold\">3</span>. <span style=\"color: #af00d7; text-decoration-color: #af00d7; font-weight: bold\">Exercise</span>\n",
       "<span style=\"color: #008080; text-decoration-color: #008080; font-weight: bold\">4</span>. <span style=\"color: #af00d7; text-decoration-color: #af00d7; font-weight: bold\">Socialise</span>\n",
       "<span style=\"color: #008080; text-decoration-color: #008080; font-weight: bold\">5</span>. <span style=\"color: #af00d7; text-decoration-color: #af00d7; font-weight: bold\">Drink Alcohol</span>\n",
       "<span style=\"color: #008080; text-decoration-color: #008080; font-weight: bold\">6</span>. <span style=\"color: #af00d7; text-decoration-color: #af00d7; font-weight: bold\">Smoke</span>\n",
       "\n",
       "</pre>\n"
      ],
      "text/plain": [
       "\n",
       "\u001b[1;36m1\u001b[0m. \u001b[1;38;5;128mBinge on Internet\u001b[0m\n",
       "\u001b[1;36m2\u001b[0m. \u001b[1;38;5;128mWork\u001b[0m\n",
       "\u001b[1;36m3\u001b[0m. \u001b[1;38;5;128mExercise\u001b[0m\n",
       "\u001b[1;36m4\u001b[0m. \u001b[1;38;5;128mSocialise\u001b[0m\n",
       "\u001b[1;36m5\u001b[0m. \u001b[1;38;5;128mDrink Alcohol\u001b[0m\n",
       "\u001b[1;36m6\u001b[0m. \u001b[1;38;5;128mSmoke\u001b[0m\n",
       "\n"
      ]
     },
     "metadata": {},
     "output_type": "display_data"
    },
    {
     "data": {
      "text/html": [
       "<pre style=\"white-space:pre;overflow-x:auto;line-height:normal;font-family:Menlo,'DejaVu Sans Mono',consolas,'Courier New',monospace\">Choose from 1 to 6 <span style=\"color: #008080; text-decoration-color: #008080; font-weight: bold\">(3)</span>: </pre>\n"
      ],
      "text/plain": [
       "Choose from 1 to 6 \u001b[1;36m(3)\u001b[0m: "
      ]
     },
     "metadata": {},
     "output_type": "display_data"
    },
    {
     "data": {
      "text/html": [
       "<pre style=\"white-space:pre;overflow-x:auto;line-height:normal;font-family:Menlo,'DejaVu Sans Mono',consolas,'Courier New',monospace\">** Current Day: <span style=\"color: #af00d7; text-decoration-color: #af00d7; font-weight: bold\">34</span>, Current Hour: <span style=\"color: #af00d7; text-decoration-color: #af00d7; font-weight: bold\">9</span>, Time Left: <span style=\"color: #af00d7; text-decoration-color: #af00d7; font-weight: bold\">7959</span> hrs ** \n",
       "\n",
       "</pre>\n"
      ],
      "text/plain": [
       "** Current Day: \u001b[1;38;5;128m34\u001b[0m, Current Hour: \u001b[1;38;5;128m9\u001b[0m, Time Left: \u001b[1;38;5;128m7959\u001b[0m hrs ** \n",
       "\n"
      ]
     },
     "metadata": {},
     "output_type": "display_data"
    },
    {
     "data": {
      "text/html": [
       "<pre style=\"white-space:pre;overflow-x:auto;line-height:normal;font-family:Menlo,'DejaVu Sans Mono',consolas,'Courier New',monospace\">- <span style=\"color: #005f00; text-decoration-color: #005f00; font-weight: bold\">Serotonin: ##################</span>\n",
       "</pre>\n"
      ],
      "text/plain": [
       "- \u001b[1;38;5;22mSerotonin: ##################\u001b[0m\n"
      ]
     },
     "metadata": {},
     "output_type": "display_data"
    },
    {
     "data": {
      "text/html": [
       "<pre style=\"white-space:pre;overflow-x:auto;line-height:normal;font-family:Menlo,'DejaVu Sans Mono',consolas,'Courier New',monospace\">- <span style=\"color: #005f00; text-decoration-color: #005f00; font-weight: bold\">Oxytocin: #</span>\n",
       "</pre>\n"
      ],
      "text/plain": [
       "- \u001b[1;38;5;22mOxytocin: #\u001b[0m\n"
      ]
     },
     "metadata": {},
     "output_type": "display_data"
    },
    {
     "data": {
      "text/html": [
       "<pre style=\"white-space:pre;overflow-x:auto;line-height:normal;font-family:Menlo,'DejaVu Sans Mono',consolas,'Courier New',monospace\">- <span style=\"color: #005f00; text-decoration-color: #005f00; font-weight: bold\">Dopamine: </span>\n",
       "</pre>\n"
      ],
      "text/plain": [
       "- \u001b[1;38;5;22mDopamine: \u001b[0m\n"
      ]
     },
     "metadata": {},
     "output_type": "display_data"
    },
    {
     "data": {
      "text/html": [
       "<pre style=\"white-space:pre;overflow-x:auto;line-height:normal;font-family:Menlo,'DejaVu Sans Mono',consolas,'Courier New',monospace\">- <span style=\"color: #005f00; text-decoration-color: #005f00; font-weight: bold\">Endorphins: #</span>\n",
       "</pre>\n"
      ],
      "text/plain": [
       "- \u001b[1;38;5;22mEndorphins: #\u001b[0m\n"
      ]
     },
     "metadata": {},
     "output_type": "display_data"
    },
    {
     "data": {
      "text/html": [
       "<pre style=\"white-space:pre;overflow-x:auto;line-height:normal;font-family:Menlo,'DejaVu Sans Mono',consolas,'Courier New',monospace\">- <span style=\"color: #870000; text-decoration-color: #870000; font-weight: bold\">Cortisol: ##################</span>\n",
       "</pre>\n"
      ],
      "text/plain": [
       "- \u001b[1;38;5;88mCortisol: ##################\u001b[0m\n"
      ]
     },
     "metadata": {},
     "output_type": "display_data"
    },
    {
     "data": {
      "text/html": [
       "<pre style=\"white-space:pre;overflow-x:auto;line-height:normal;font-family:Menlo,'DejaVu Sans Mono',consolas,'Courier New',monospace\">\n",
       "<span style=\"color: #008080; text-decoration-color: #008080; font-weight: bold\">1</span>. <span style=\"color: #af00d7; text-decoration-color: #af00d7; font-weight: bold\">Binge on Internet</span>\n",
       "<span style=\"color: #008080; text-decoration-color: #008080; font-weight: bold\">2</span>. <span style=\"color: #af00d7; text-decoration-color: #af00d7; font-weight: bold\">Work</span>\n",
       "<span style=\"color: #008080; text-decoration-color: #008080; font-weight: bold\">3</span>. <span style=\"color: #af00d7; text-decoration-color: #af00d7; font-weight: bold\">Exercise</span>\n",
       "<span style=\"color: #008080; text-decoration-color: #008080; font-weight: bold\">4</span>. <span style=\"color: #af00d7; text-decoration-color: #af00d7; font-weight: bold\">Socialise</span>\n",
       "<span style=\"color: #008080; text-decoration-color: #008080; font-weight: bold\">5</span>. <span style=\"color: #af00d7; text-decoration-color: #af00d7; font-weight: bold\">Drink Alcohol</span>\n",
       "<span style=\"color: #008080; text-decoration-color: #008080; font-weight: bold\">6</span>. <span style=\"color: #af00d7; text-decoration-color: #af00d7; font-weight: bold\">Smoke</span>\n",
       "\n",
       "</pre>\n"
      ],
      "text/plain": [
       "\n",
       "\u001b[1;36m1\u001b[0m. \u001b[1;38;5;128mBinge on Internet\u001b[0m\n",
       "\u001b[1;36m2\u001b[0m. \u001b[1;38;5;128mWork\u001b[0m\n",
       "\u001b[1;36m3\u001b[0m. \u001b[1;38;5;128mExercise\u001b[0m\n",
       "\u001b[1;36m4\u001b[0m. \u001b[1;38;5;128mSocialise\u001b[0m\n",
       "\u001b[1;36m5\u001b[0m. \u001b[1;38;5;128mDrink Alcohol\u001b[0m\n",
       "\u001b[1;36m6\u001b[0m. \u001b[1;38;5;128mSmoke\u001b[0m\n",
       "\n"
      ]
     },
     "metadata": {},
     "output_type": "display_data"
    },
    {
     "data": {
      "text/html": [
       "<pre style=\"white-space:pre;overflow-x:auto;line-height:normal;font-family:Menlo,'DejaVu Sans Mono',consolas,'Courier New',monospace\">Choose from 1 to 6 <span style=\"color: #008080; text-decoration-color: #008080; font-weight: bold\">(3)</span>: </pre>\n"
      ],
      "text/plain": [
       "Choose from 1 to 6 \u001b[1;36m(3)\u001b[0m: "
      ]
     },
     "metadata": {},
     "output_type": "display_data"
    },
    {
     "data": {
      "text/html": [
       "<pre style=\"white-space:pre;overflow-x:auto;line-height:normal;font-family:Menlo,'DejaVu Sans Mono',consolas,'Courier New',monospace\">** Current Day: <span style=\"color: #af00d7; text-decoration-color: #af00d7; font-weight: bold\">35</span>, Current Hour: <span style=\"color: #af00d7; text-decoration-color: #af00d7; font-weight: bold\">10</span>, Time Left: <span style=\"color: #af00d7; text-decoration-color: #af00d7; font-weight: bold\">7934</span> hrs ** \n",
       "\n",
       "</pre>\n"
      ],
      "text/plain": [
       "** Current Day: \u001b[1;38;5;128m35\u001b[0m, Current Hour: \u001b[1;38;5;128m10\u001b[0m, Time Left: \u001b[1;38;5;128m7934\u001b[0m hrs ** \n",
       "\n"
      ]
     },
     "metadata": {},
     "output_type": "display_data"
    },
    {
     "data": {
      "text/html": [
       "<pre style=\"white-space:pre;overflow-x:auto;line-height:normal;font-family:Menlo,'DejaVu Sans Mono',consolas,'Courier New',monospace\">- <span style=\"color: #005f00; text-decoration-color: #005f00; font-weight: bold\">Serotonin: ##################</span>\n",
       "</pre>\n"
      ],
      "text/plain": [
       "- \u001b[1;38;5;22mSerotonin: ##################\u001b[0m\n"
      ]
     },
     "metadata": {},
     "output_type": "display_data"
    },
    {
     "data": {
      "text/html": [
       "<pre style=\"white-space:pre;overflow-x:auto;line-height:normal;font-family:Menlo,'DejaVu Sans Mono',consolas,'Courier New',monospace\">- <span style=\"color: #005f00; text-decoration-color: #005f00; font-weight: bold\">Oxytocin: #</span>\n",
       "</pre>\n"
      ],
      "text/plain": [
       "- \u001b[1;38;5;22mOxytocin: #\u001b[0m\n"
      ]
     },
     "metadata": {},
     "output_type": "display_data"
    },
    {
     "data": {
      "text/html": [
       "<pre style=\"white-space:pre;overflow-x:auto;line-height:normal;font-family:Menlo,'DejaVu Sans Mono',consolas,'Courier New',monospace\">- <span style=\"color: #005f00; text-decoration-color: #005f00; font-weight: bold\">Dopamine: #</span>\n",
       "</pre>\n"
      ],
      "text/plain": [
       "- \u001b[1;38;5;22mDopamine: #\u001b[0m\n"
      ]
     },
     "metadata": {},
     "output_type": "display_data"
    },
    {
     "data": {
      "text/html": [
       "<pre style=\"white-space:pre;overflow-x:auto;line-height:normal;font-family:Menlo,'DejaVu Sans Mono',consolas,'Courier New',monospace\">- <span style=\"color: #005f00; text-decoration-color: #005f00; font-weight: bold\">Endorphins: #</span>\n",
       "</pre>\n"
      ],
      "text/plain": [
       "- \u001b[1;38;5;22mEndorphins: #\u001b[0m\n"
      ]
     },
     "metadata": {},
     "output_type": "display_data"
    },
    {
     "data": {
      "text/html": [
       "<pre style=\"white-space:pre;overflow-x:auto;line-height:normal;font-family:Menlo,'DejaVu Sans Mono',consolas,'Courier New',monospace\">- <span style=\"color: #870000; text-decoration-color: #870000; font-weight: bold\">Cortisol: ##################</span>\n",
       "</pre>\n"
      ],
      "text/plain": [
       "- \u001b[1;38;5;88mCortisol: ##################\u001b[0m\n"
      ]
     },
     "metadata": {},
     "output_type": "display_data"
    },
    {
     "data": {
      "text/html": [
       "<pre style=\"white-space:pre;overflow-x:auto;line-height:normal;font-family:Menlo,'DejaVu Sans Mono',consolas,'Courier New',monospace\">\n",
       "<span style=\"color: #008080; text-decoration-color: #008080; font-weight: bold\">1</span>. <span style=\"color: #af00d7; text-decoration-color: #af00d7; font-weight: bold\">Binge on Internet</span>\n",
       "<span style=\"color: #008080; text-decoration-color: #008080; font-weight: bold\">2</span>. <span style=\"color: #af00d7; text-decoration-color: #af00d7; font-weight: bold\">Work</span>\n",
       "<span style=\"color: #008080; text-decoration-color: #008080; font-weight: bold\">3</span>. <span style=\"color: #af00d7; text-decoration-color: #af00d7; font-weight: bold\">Exercise</span>\n",
       "<span style=\"color: #008080; text-decoration-color: #008080; font-weight: bold\">4</span>. <span style=\"color: #af00d7; text-decoration-color: #af00d7; font-weight: bold\">Socialise</span>\n",
       "<span style=\"color: #008080; text-decoration-color: #008080; font-weight: bold\">5</span>. <span style=\"color: #af00d7; text-decoration-color: #af00d7; font-weight: bold\">Drink Alcohol</span>\n",
       "<span style=\"color: #008080; text-decoration-color: #008080; font-weight: bold\">6</span>. <span style=\"color: #af00d7; text-decoration-color: #af00d7; font-weight: bold\">Smoke</span>\n",
       "\n",
       "</pre>\n"
      ],
      "text/plain": [
       "\n",
       "\u001b[1;36m1\u001b[0m. \u001b[1;38;5;128mBinge on Internet\u001b[0m\n",
       "\u001b[1;36m2\u001b[0m. \u001b[1;38;5;128mWork\u001b[0m\n",
       "\u001b[1;36m3\u001b[0m. \u001b[1;38;5;128mExercise\u001b[0m\n",
       "\u001b[1;36m4\u001b[0m. \u001b[1;38;5;128mSocialise\u001b[0m\n",
       "\u001b[1;36m5\u001b[0m. \u001b[1;38;5;128mDrink Alcohol\u001b[0m\n",
       "\u001b[1;36m6\u001b[0m. \u001b[1;38;5;128mSmoke\u001b[0m\n",
       "\n"
      ]
     },
     "metadata": {},
     "output_type": "display_data"
    },
    {
     "data": {
      "text/html": [
       "<pre style=\"white-space:pre;overflow-x:auto;line-height:normal;font-family:Menlo,'DejaVu Sans Mono',consolas,'Courier New',monospace\">Choose from 1 to 6 <span style=\"color: #008080; text-decoration-color: #008080; font-weight: bold\">(3)</span>: </pre>\n"
      ],
      "text/plain": [
       "Choose from 1 to 6 \u001b[1;36m(3)\u001b[0m: "
      ]
     },
     "metadata": {},
     "output_type": "display_data"
    },
    {
     "data": {
      "text/html": [
       "<pre style=\"white-space:pre;overflow-x:auto;line-height:normal;font-family:Menlo,'DejaVu Sans Mono',consolas,'Courier New',monospace\">** Current Day: <span style=\"color: #af00d7; text-decoration-color: #af00d7; font-weight: bold\">36</span>, Current Hour: <span style=\"color: #af00d7; text-decoration-color: #af00d7; font-weight: bold\">11</span>, Time Left: <span style=\"color: #af00d7; text-decoration-color: #af00d7; font-weight: bold\">7909</span> hrs ** \n",
       "\n",
       "</pre>\n"
      ],
      "text/plain": [
       "** Current Day: \u001b[1;38;5;128m36\u001b[0m, Current Hour: \u001b[1;38;5;128m11\u001b[0m, Time Left: \u001b[1;38;5;128m7909\u001b[0m hrs ** \n",
       "\n"
      ]
     },
     "metadata": {},
     "output_type": "display_data"
    },
    {
     "data": {
      "text/html": [
       "<pre style=\"white-space:pre;overflow-x:auto;line-height:normal;font-family:Menlo,'DejaVu Sans Mono',consolas,'Courier New',monospace\">- <span style=\"color: #005f00; text-decoration-color: #005f00; font-weight: bold\">Serotonin: ##################</span>\n",
       "</pre>\n"
      ],
      "text/plain": [
       "- \u001b[1;38;5;22mSerotonin: ##################\u001b[0m\n"
      ]
     },
     "metadata": {},
     "output_type": "display_data"
    },
    {
     "data": {
      "text/html": [
       "<pre style=\"white-space:pre;overflow-x:auto;line-height:normal;font-family:Menlo,'DejaVu Sans Mono',consolas,'Courier New',monospace\">- <span style=\"color: #005f00; text-decoration-color: #005f00; font-weight: bold\">Oxytocin: #</span>\n",
       "</pre>\n"
      ],
      "text/plain": [
       "- \u001b[1;38;5;22mOxytocin: #\u001b[0m\n"
      ]
     },
     "metadata": {},
     "output_type": "display_data"
    },
    {
     "data": {
      "text/html": [
       "<pre style=\"white-space:pre;overflow-x:auto;line-height:normal;font-family:Menlo,'DejaVu Sans Mono',consolas,'Courier New',monospace\">- <span style=\"color: #005f00; text-decoration-color: #005f00; font-weight: bold\">Dopamine: ##</span>\n",
       "</pre>\n"
      ],
      "text/plain": [
       "- \u001b[1;38;5;22mDopamine: ##\u001b[0m\n"
      ]
     },
     "metadata": {},
     "output_type": "display_data"
    },
    {
     "data": {
      "text/html": [
       "<pre style=\"white-space:pre;overflow-x:auto;line-height:normal;font-family:Menlo,'DejaVu Sans Mono',consolas,'Courier New',monospace\">- <span style=\"color: #005f00; text-decoration-color: #005f00; font-weight: bold\">Endorphins: #</span>\n",
       "</pre>\n"
      ],
      "text/plain": [
       "- \u001b[1;38;5;22mEndorphins: #\u001b[0m\n"
      ]
     },
     "metadata": {},
     "output_type": "display_data"
    },
    {
     "data": {
      "text/html": [
       "<pre style=\"white-space:pre;overflow-x:auto;line-height:normal;font-family:Menlo,'DejaVu Sans Mono',consolas,'Courier New',monospace\">- <span style=\"color: #870000; text-decoration-color: #870000; font-weight: bold\">Cortisol: ##################</span>\n",
       "</pre>\n"
      ],
      "text/plain": [
       "- \u001b[1;38;5;88mCortisol: ##################\u001b[0m\n"
      ]
     },
     "metadata": {},
     "output_type": "display_data"
    },
    {
     "data": {
      "text/html": [
       "<pre style=\"white-space:pre;overflow-x:auto;line-height:normal;font-family:Menlo,'DejaVu Sans Mono',consolas,'Courier New',monospace\">\n",
       "<span style=\"color: #008080; text-decoration-color: #008080; font-weight: bold\">1</span>. <span style=\"color: #af00d7; text-decoration-color: #af00d7; font-weight: bold\">Binge on Internet</span>\n",
       "<span style=\"color: #008080; text-decoration-color: #008080; font-weight: bold\">2</span>. <span style=\"color: #af00d7; text-decoration-color: #af00d7; font-weight: bold\">Work</span>\n",
       "<span style=\"color: #008080; text-decoration-color: #008080; font-weight: bold\">3</span>. <span style=\"color: #af00d7; text-decoration-color: #af00d7; font-weight: bold\">Exercise</span>\n",
       "<span style=\"color: #008080; text-decoration-color: #008080; font-weight: bold\">4</span>. <span style=\"color: #af00d7; text-decoration-color: #af00d7; font-weight: bold\">Socialise</span>\n",
       "<span style=\"color: #008080; text-decoration-color: #008080; font-weight: bold\">5</span>. <span style=\"color: #af00d7; text-decoration-color: #af00d7; font-weight: bold\">Drink Alcohol</span>\n",
       "<span style=\"color: #008080; text-decoration-color: #008080; font-weight: bold\">6</span>. <span style=\"color: #af00d7; text-decoration-color: #af00d7; font-weight: bold\">Smoke</span>\n",
       "\n",
       "</pre>\n"
      ],
      "text/plain": [
       "\n",
       "\u001b[1;36m1\u001b[0m. \u001b[1;38;5;128mBinge on Internet\u001b[0m\n",
       "\u001b[1;36m2\u001b[0m. \u001b[1;38;5;128mWork\u001b[0m\n",
       "\u001b[1;36m3\u001b[0m. \u001b[1;38;5;128mExercise\u001b[0m\n",
       "\u001b[1;36m4\u001b[0m. \u001b[1;38;5;128mSocialise\u001b[0m\n",
       "\u001b[1;36m5\u001b[0m. \u001b[1;38;5;128mDrink Alcohol\u001b[0m\n",
       "\u001b[1;36m6\u001b[0m. \u001b[1;38;5;128mSmoke\u001b[0m\n",
       "\n"
      ]
     },
     "metadata": {},
     "output_type": "display_data"
    },
    {
     "data": {
      "text/html": [
       "<pre style=\"white-space:pre;overflow-x:auto;line-height:normal;font-family:Menlo,'DejaVu Sans Mono',consolas,'Courier New',monospace\">Choose from 1 to 6 <span style=\"color: #008080; text-decoration-color: #008080; font-weight: bold\">(3)</span>: </pre>\n"
      ],
      "text/plain": [
       "Choose from 1 to 6 \u001b[1;36m(3)\u001b[0m: "
      ]
     },
     "metadata": {},
     "output_type": "display_data"
    },
    {
     "data": {
      "text/html": [
       "<pre style=\"white-space:pre;overflow-x:auto;line-height:normal;font-family:Menlo,'DejaVu Sans Mono',consolas,'Courier New',monospace\">** Current Day: <span style=\"color: #af00d7; text-decoration-color: #af00d7; font-weight: bold\">37</span>, Current Hour: <span style=\"color: #af00d7; text-decoration-color: #af00d7; font-weight: bold\">12</span>, Time Left: <span style=\"color: #af00d7; text-decoration-color: #af00d7; font-weight: bold\">7884</span> hrs ** \n",
       "\n",
       "</pre>\n"
      ],
      "text/plain": [
       "** Current Day: \u001b[1;38;5;128m37\u001b[0m, Current Hour: \u001b[1;38;5;128m12\u001b[0m, Time Left: \u001b[1;38;5;128m7884\u001b[0m hrs ** \n",
       "\n"
      ]
     },
     "metadata": {},
     "output_type": "display_data"
    },
    {
     "data": {
      "text/html": [
       "<pre style=\"white-space:pre;overflow-x:auto;line-height:normal;font-family:Menlo,'DejaVu Sans Mono',consolas,'Courier New',monospace\">- <span style=\"color: #005f00; text-decoration-color: #005f00; font-weight: bold\">Serotonin: ##################</span>\n",
       "</pre>\n"
      ],
      "text/plain": [
       "- \u001b[1;38;5;22mSerotonin: ##################\u001b[0m\n"
      ]
     },
     "metadata": {},
     "output_type": "display_data"
    },
    {
     "data": {
      "text/html": [
       "<pre style=\"white-space:pre;overflow-x:auto;line-height:normal;font-family:Menlo,'DejaVu Sans Mono',consolas,'Courier New',monospace\">- <span style=\"color: #005f00; text-decoration-color: #005f00; font-weight: bold\">Oxytocin: #</span>\n",
       "</pre>\n"
      ],
      "text/plain": [
       "- \u001b[1;38;5;22mOxytocin: #\u001b[0m\n"
      ]
     },
     "metadata": {},
     "output_type": "display_data"
    },
    {
     "data": {
      "text/html": [
       "<pre style=\"white-space:pre;overflow-x:auto;line-height:normal;font-family:Menlo,'DejaVu Sans Mono',consolas,'Courier New',monospace\">- <span style=\"color: #005f00; text-decoration-color: #005f00; font-weight: bold\">Dopamine: ###</span>\n",
       "</pre>\n"
      ],
      "text/plain": [
       "- \u001b[1;38;5;22mDopamine: ###\u001b[0m\n"
      ]
     },
     "metadata": {},
     "output_type": "display_data"
    },
    {
     "data": {
      "text/html": [
       "<pre style=\"white-space:pre;overflow-x:auto;line-height:normal;font-family:Menlo,'DejaVu Sans Mono',consolas,'Courier New',monospace\">- <span style=\"color: #005f00; text-decoration-color: #005f00; font-weight: bold\">Endorphins: #</span>\n",
       "</pre>\n"
      ],
      "text/plain": [
       "- \u001b[1;38;5;22mEndorphins: #\u001b[0m\n"
      ]
     },
     "metadata": {},
     "output_type": "display_data"
    },
    {
     "data": {
      "text/html": [
       "<pre style=\"white-space:pre;overflow-x:auto;line-height:normal;font-family:Menlo,'DejaVu Sans Mono',consolas,'Courier New',monospace\">- <span style=\"color: #870000; text-decoration-color: #870000; font-weight: bold\">Cortisol: ##################</span>\n",
       "</pre>\n"
      ],
      "text/plain": [
       "- \u001b[1;38;5;88mCortisol: ##################\u001b[0m\n"
      ]
     },
     "metadata": {},
     "output_type": "display_data"
    },
    {
     "data": {
      "text/html": [
       "<pre style=\"white-space:pre;overflow-x:auto;line-height:normal;font-family:Menlo,'DejaVu Sans Mono',consolas,'Courier New',monospace\">\n",
       "<span style=\"color: #008080; text-decoration-color: #008080; font-weight: bold\">1</span>. <span style=\"color: #af00d7; text-decoration-color: #af00d7; font-weight: bold\">Binge on Internet</span>\n",
       "<span style=\"color: #008080; text-decoration-color: #008080; font-weight: bold\">2</span>. <span style=\"color: #af00d7; text-decoration-color: #af00d7; font-weight: bold\">Work</span>\n",
       "<span style=\"color: #008080; text-decoration-color: #008080; font-weight: bold\">3</span>. <span style=\"color: #af00d7; text-decoration-color: #af00d7; font-weight: bold\">Exercise</span>\n",
       "<span style=\"color: #008080; text-decoration-color: #008080; font-weight: bold\">4</span>. <span style=\"color: #af00d7; text-decoration-color: #af00d7; font-weight: bold\">Socialise</span>\n",
       "<span style=\"color: #008080; text-decoration-color: #008080; font-weight: bold\">5</span>. <span style=\"color: #af00d7; text-decoration-color: #af00d7; font-weight: bold\">Drink Alcohol</span>\n",
       "<span style=\"color: #008080; text-decoration-color: #008080; font-weight: bold\">6</span>. <span style=\"color: #af00d7; text-decoration-color: #af00d7; font-weight: bold\">Smoke</span>\n",
       "\n",
       "</pre>\n"
      ],
      "text/plain": [
       "\n",
       "\u001b[1;36m1\u001b[0m. \u001b[1;38;5;128mBinge on Internet\u001b[0m\n",
       "\u001b[1;36m2\u001b[0m. \u001b[1;38;5;128mWork\u001b[0m\n",
       "\u001b[1;36m3\u001b[0m. \u001b[1;38;5;128mExercise\u001b[0m\n",
       "\u001b[1;36m4\u001b[0m. \u001b[1;38;5;128mSocialise\u001b[0m\n",
       "\u001b[1;36m5\u001b[0m. \u001b[1;38;5;128mDrink Alcohol\u001b[0m\n",
       "\u001b[1;36m6\u001b[0m. \u001b[1;38;5;128mSmoke\u001b[0m\n",
       "\n"
      ]
     },
     "metadata": {},
     "output_type": "display_data"
    },
    {
     "data": {
      "text/html": [
       "<pre style=\"white-space:pre;overflow-x:auto;line-height:normal;font-family:Menlo,'DejaVu Sans Mono',consolas,'Courier New',monospace\">Choose from 1 to 6 <span style=\"color: #008080; text-decoration-color: #008080; font-weight: bold\">(3)</span>: </pre>\n"
      ],
      "text/plain": [
       "Choose from 1 to 6 \u001b[1;36m(3)\u001b[0m: "
      ]
     },
     "metadata": {},
     "output_type": "display_data"
    },
    {
     "data": {
      "text/html": [
       "<pre style=\"white-space:pre;overflow-x:auto;line-height:normal;font-family:Menlo,'DejaVu Sans Mono',consolas,'Courier New',monospace\">** Current Day: <span style=\"color: #af00d7; text-decoration-color: #af00d7; font-weight: bold\">38</span>, Current Hour: <span style=\"color: #af00d7; text-decoration-color: #af00d7; font-weight: bold\">13</span>, Time Left: <span style=\"color: #af00d7; text-decoration-color: #af00d7; font-weight: bold\">7859</span> hrs ** \n",
       "\n",
       "</pre>\n"
      ],
      "text/plain": [
       "** Current Day: \u001b[1;38;5;128m38\u001b[0m, Current Hour: \u001b[1;38;5;128m13\u001b[0m, Time Left: \u001b[1;38;5;128m7859\u001b[0m hrs ** \n",
       "\n"
      ]
     },
     "metadata": {},
     "output_type": "display_data"
    },
    {
     "data": {
      "text/html": [
       "<pre style=\"white-space:pre;overflow-x:auto;line-height:normal;font-family:Menlo,'DejaVu Sans Mono',consolas,'Courier New',monospace\">- <span style=\"color: #005f00; text-decoration-color: #005f00; font-weight: bold\">Serotonin: ##################</span>\n",
       "</pre>\n"
      ],
      "text/plain": [
       "- \u001b[1;38;5;22mSerotonin: ##################\u001b[0m\n"
      ]
     },
     "metadata": {},
     "output_type": "display_data"
    },
    {
     "data": {
      "text/html": [
       "<pre style=\"white-space:pre;overflow-x:auto;line-height:normal;font-family:Menlo,'DejaVu Sans Mono',consolas,'Courier New',monospace\">- <span style=\"color: #005f00; text-decoration-color: #005f00; font-weight: bold\">Oxytocin: #</span>\n",
       "</pre>\n"
      ],
      "text/plain": [
       "- \u001b[1;38;5;22mOxytocin: #\u001b[0m\n"
      ]
     },
     "metadata": {},
     "output_type": "display_data"
    },
    {
     "data": {
      "text/html": [
       "<pre style=\"white-space:pre;overflow-x:auto;line-height:normal;font-family:Menlo,'DejaVu Sans Mono',consolas,'Courier New',monospace\">- <span style=\"color: #005f00; text-decoration-color: #005f00; font-weight: bold\">Dopamine: ####</span>\n",
       "</pre>\n"
      ],
      "text/plain": [
       "- \u001b[1;38;5;22mDopamine: ####\u001b[0m\n"
      ]
     },
     "metadata": {},
     "output_type": "display_data"
    },
    {
     "data": {
      "text/html": [
       "<pre style=\"white-space:pre;overflow-x:auto;line-height:normal;font-family:Menlo,'DejaVu Sans Mono',consolas,'Courier New',monospace\">- <span style=\"color: #005f00; text-decoration-color: #005f00; font-weight: bold\">Endorphins: #</span>\n",
       "</pre>\n"
      ],
      "text/plain": [
       "- \u001b[1;38;5;22mEndorphins: #\u001b[0m\n"
      ]
     },
     "metadata": {},
     "output_type": "display_data"
    },
    {
     "data": {
      "text/html": [
       "<pre style=\"white-space:pre;overflow-x:auto;line-height:normal;font-family:Menlo,'DejaVu Sans Mono',consolas,'Courier New',monospace\">- <span style=\"color: #870000; text-decoration-color: #870000; font-weight: bold\">Cortisol: ##################</span>\n",
       "</pre>\n"
      ],
      "text/plain": [
       "- \u001b[1;38;5;88mCortisol: ##################\u001b[0m\n"
      ]
     },
     "metadata": {},
     "output_type": "display_data"
    },
    {
     "data": {
      "text/html": [
       "<pre style=\"white-space:pre;overflow-x:auto;line-height:normal;font-family:Menlo,'DejaVu Sans Mono',consolas,'Courier New',monospace\">\n",
       "<span style=\"color: #008080; text-decoration-color: #008080; font-weight: bold\">1</span>. <span style=\"color: #af00d7; text-decoration-color: #af00d7; font-weight: bold\">Binge on Internet</span>\n",
       "<span style=\"color: #008080; text-decoration-color: #008080; font-weight: bold\">2</span>. <span style=\"color: #af00d7; text-decoration-color: #af00d7; font-weight: bold\">Work</span>\n",
       "<span style=\"color: #008080; text-decoration-color: #008080; font-weight: bold\">3</span>. <span style=\"color: #af00d7; text-decoration-color: #af00d7; font-weight: bold\">Exercise</span>\n",
       "<span style=\"color: #008080; text-decoration-color: #008080; font-weight: bold\">4</span>. <span style=\"color: #af00d7; text-decoration-color: #af00d7; font-weight: bold\">Socialise</span>\n",
       "<span style=\"color: #008080; text-decoration-color: #008080; font-weight: bold\">5</span>. <span style=\"color: #af00d7; text-decoration-color: #af00d7; font-weight: bold\">Drink Alcohol</span>\n",
       "<span style=\"color: #008080; text-decoration-color: #008080; font-weight: bold\">6</span>. <span style=\"color: #af00d7; text-decoration-color: #af00d7; font-weight: bold\">Smoke</span>\n",
       "\n",
       "</pre>\n"
      ],
      "text/plain": [
       "\n",
       "\u001b[1;36m1\u001b[0m. \u001b[1;38;5;128mBinge on Internet\u001b[0m\n",
       "\u001b[1;36m2\u001b[0m. \u001b[1;38;5;128mWork\u001b[0m\n",
       "\u001b[1;36m3\u001b[0m. \u001b[1;38;5;128mExercise\u001b[0m\n",
       "\u001b[1;36m4\u001b[0m. \u001b[1;38;5;128mSocialise\u001b[0m\n",
       "\u001b[1;36m5\u001b[0m. \u001b[1;38;5;128mDrink Alcohol\u001b[0m\n",
       "\u001b[1;36m6\u001b[0m. \u001b[1;38;5;128mSmoke\u001b[0m\n",
       "\n"
      ]
     },
     "metadata": {},
     "output_type": "display_data"
    },
    {
     "data": {
      "text/html": [
       "<pre style=\"white-space:pre;overflow-x:auto;line-height:normal;font-family:Menlo,'DejaVu Sans Mono',consolas,'Courier New',monospace\">Choose from 1 to 6 <span style=\"color: #008080; text-decoration-color: #008080; font-weight: bold\">(3)</span>: </pre>\n"
      ],
      "text/plain": [
       "Choose from 1 to 6 \u001b[1;36m(3)\u001b[0m: "
      ]
     },
     "metadata": {},
     "output_type": "display_data"
    },
    {
     "data": {
      "text/html": [
       "<pre style=\"white-space:pre;overflow-x:auto;line-height:normal;font-family:Menlo,'DejaVu Sans Mono',consolas,'Courier New',monospace\">** Current Day: <span style=\"color: #af00d7; text-decoration-color: #af00d7; font-weight: bold\">39</span>, Current Hour: <span style=\"color: #af00d7; text-decoration-color: #af00d7; font-weight: bold\">14</span>, Time Left: <span style=\"color: #af00d7; text-decoration-color: #af00d7; font-weight: bold\">7834</span> hrs ** \n",
       "\n",
       "</pre>\n"
      ],
      "text/plain": [
       "** Current Day: \u001b[1;38;5;128m39\u001b[0m, Current Hour: \u001b[1;38;5;128m14\u001b[0m, Time Left: \u001b[1;38;5;128m7834\u001b[0m hrs ** \n",
       "\n"
      ]
     },
     "metadata": {},
     "output_type": "display_data"
    },
    {
     "data": {
      "text/html": [
       "<pre style=\"white-space:pre;overflow-x:auto;line-height:normal;font-family:Menlo,'DejaVu Sans Mono',consolas,'Courier New',monospace\">- <span style=\"color: #005f00; text-decoration-color: #005f00; font-weight: bold\">Serotonin: ##################</span>\n",
       "</pre>\n"
      ],
      "text/plain": [
       "- \u001b[1;38;5;22mSerotonin: ##################\u001b[0m\n"
      ]
     },
     "metadata": {},
     "output_type": "display_data"
    },
    {
     "data": {
      "text/html": [
       "<pre style=\"white-space:pre;overflow-x:auto;line-height:normal;font-family:Menlo,'DejaVu Sans Mono',consolas,'Courier New',monospace\">- <span style=\"color: #005f00; text-decoration-color: #005f00; font-weight: bold\">Oxytocin: #</span>\n",
       "</pre>\n"
      ],
      "text/plain": [
       "- \u001b[1;38;5;22mOxytocin: #\u001b[0m\n"
      ]
     },
     "metadata": {},
     "output_type": "display_data"
    },
    {
     "data": {
      "text/html": [
       "<pre style=\"white-space:pre;overflow-x:auto;line-height:normal;font-family:Menlo,'DejaVu Sans Mono',consolas,'Courier New',monospace\">- <span style=\"color: #005f00; text-decoration-color: #005f00; font-weight: bold\">Dopamine: #####</span>\n",
       "</pre>\n"
      ],
      "text/plain": [
       "- \u001b[1;38;5;22mDopamine: #####\u001b[0m\n"
      ]
     },
     "metadata": {},
     "output_type": "display_data"
    },
    {
     "data": {
      "text/html": [
       "<pre style=\"white-space:pre;overflow-x:auto;line-height:normal;font-family:Menlo,'DejaVu Sans Mono',consolas,'Courier New',monospace\">- <span style=\"color: #005f00; text-decoration-color: #005f00; font-weight: bold\">Endorphins: #</span>\n",
       "</pre>\n"
      ],
      "text/plain": [
       "- \u001b[1;38;5;22mEndorphins: #\u001b[0m\n"
      ]
     },
     "metadata": {},
     "output_type": "display_data"
    },
    {
     "data": {
      "text/html": [
       "<pre style=\"white-space:pre;overflow-x:auto;line-height:normal;font-family:Menlo,'DejaVu Sans Mono',consolas,'Courier New',monospace\">- <span style=\"color: #870000; text-decoration-color: #870000; font-weight: bold\">Cortisol: ##################</span>\n",
       "</pre>\n"
      ],
      "text/plain": [
       "- \u001b[1;38;5;88mCortisol: ##################\u001b[0m\n"
      ]
     },
     "metadata": {},
     "output_type": "display_data"
    },
    {
     "data": {
      "text/html": [
       "<pre style=\"white-space:pre;overflow-x:auto;line-height:normal;font-family:Menlo,'DejaVu Sans Mono',consolas,'Courier New',monospace\">\n",
       "<span style=\"color: #008080; text-decoration-color: #008080; font-weight: bold\">1</span>. <span style=\"color: #af00d7; text-decoration-color: #af00d7; font-weight: bold\">Binge on Internet</span>\n",
       "<span style=\"color: #008080; text-decoration-color: #008080; font-weight: bold\">2</span>. <span style=\"color: #af00d7; text-decoration-color: #af00d7; font-weight: bold\">Work</span>\n",
       "<span style=\"color: #008080; text-decoration-color: #008080; font-weight: bold\">3</span>. <span style=\"color: #af00d7; text-decoration-color: #af00d7; font-weight: bold\">Exercise</span>\n",
       "<span style=\"color: #008080; text-decoration-color: #008080; font-weight: bold\">4</span>. <span style=\"color: #af00d7; text-decoration-color: #af00d7; font-weight: bold\">Socialise</span>\n",
       "<span style=\"color: #008080; text-decoration-color: #008080; font-weight: bold\">5</span>. <span style=\"color: #af00d7; text-decoration-color: #af00d7; font-weight: bold\">Drink Alcohol</span>\n",
       "<span style=\"color: #008080; text-decoration-color: #008080; font-weight: bold\">6</span>. <span style=\"color: #af00d7; text-decoration-color: #af00d7; font-weight: bold\">Smoke</span>\n",
       "\n",
       "</pre>\n"
      ],
      "text/plain": [
       "\n",
       "\u001b[1;36m1\u001b[0m. \u001b[1;38;5;128mBinge on Internet\u001b[0m\n",
       "\u001b[1;36m2\u001b[0m. \u001b[1;38;5;128mWork\u001b[0m\n",
       "\u001b[1;36m3\u001b[0m. \u001b[1;38;5;128mExercise\u001b[0m\n",
       "\u001b[1;36m4\u001b[0m. \u001b[1;38;5;128mSocialise\u001b[0m\n",
       "\u001b[1;36m5\u001b[0m. \u001b[1;38;5;128mDrink Alcohol\u001b[0m\n",
       "\u001b[1;36m6\u001b[0m. \u001b[1;38;5;128mSmoke\u001b[0m\n",
       "\n"
      ]
     },
     "metadata": {},
     "output_type": "display_data"
    },
    {
     "data": {
      "text/html": [
       "<pre style=\"white-space:pre;overflow-x:auto;line-height:normal;font-family:Menlo,'DejaVu Sans Mono',consolas,'Courier New',monospace\">Choose from 1 to 6 <span style=\"color: #008080; text-decoration-color: #008080; font-weight: bold\">(3)</span>: </pre>\n"
      ],
      "text/plain": [
       "Choose from 1 to 6 \u001b[1;36m(3)\u001b[0m: "
      ]
     },
     "metadata": {},
     "output_type": "display_data"
    },
    {
     "data": {
      "text/html": [
       "<pre style=\"white-space:pre;overflow-x:auto;line-height:normal;font-family:Menlo,'DejaVu Sans Mono',consolas,'Courier New',monospace\">** Current Day: <span style=\"color: #af00d7; text-decoration-color: #af00d7; font-weight: bold\">40</span>, Current Hour: <span style=\"color: #af00d7; text-decoration-color: #af00d7; font-weight: bold\">15</span>, Time Left: <span style=\"color: #af00d7; text-decoration-color: #af00d7; font-weight: bold\">7809</span> hrs ** \n",
       "\n",
       "</pre>\n"
      ],
      "text/plain": [
       "** Current Day: \u001b[1;38;5;128m40\u001b[0m, Current Hour: \u001b[1;38;5;128m15\u001b[0m, Time Left: \u001b[1;38;5;128m7809\u001b[0m hrs ** \n",
       "\n"
      ]
     },
     "metadata": {},
     "output_type": "display_data"
    },
    {
     "data": {
      "text/html": [
       "<pre style=\"white-space:pre;overflow-x:auto;line-height:normal;font-family:Menlo,'DejaVu Sans Mono',consolas,'Courier New',monospace\">- <span style=\"color: #005f00; text-decoration-color: #005f00; font-weight: bold\">Serotonin: ##################</span>\n",
       "</pre>\n"
      ],
      "text/plain": [
       "- \u001b[1;38;5;22mSerotonin: ##################\u001b[0m\n"
      ]
     },
     "metadata": {},
     "output_type": "display_data"
    },
    {
     "data": {
      "text/html": [
       "<pre style=\"white-space:pre;overflow-x:auto;line-height:normal;font-family:Menlo,'DejaVu Sans Mono',consolas,'Courier New',monospace\">- <span style=\"color: #005f00; text-decoration-color: #005f00; font-weight: bold\">Oxytocin: #</span>\n",
       "</pre>\n"
      ],
      "text/plain": [
       "- \u001b[1;38;5;22mOxytocin: #\u001b[0m\n"
      ]
     },
     "metadata": {},
     "output_type": "display_data"
    },
    {
     "data": {
      "text/html": [
       "<pre style=\"white-space:pre;overflow-x:auto;line-height:normal;font-family:Menlo,'DejaVu Sans Mono',consolas,'Courier New',monospace\">- <span style=\"color: #005f00; text-decoration-color: #005f00; font-weight: bold\">Dopamine: ######</span>\n",
       "</pre>\n"
      ],
      "text/plain": [
       "- \u001b[1;38;5;22mDopamine: ######\u001b[0m\n"
      ]
     },
     "metadata": {},
     "output_type": "display_data"
    },
    {
     "data": {
      "text/html": [
       "<pre style=\"white-space:pre;overflow-x:auto;line-height:normal;font-family:Menlo,'DejaVu Sans Mono',consolas,'Courier New',monospace\">- <span style=\"color: #005f00; text-decoration-color: #005f00; font-weight: bold\">Endorphins: #</span>\n",
       "</pre>\n"
      ],
      "text/plain": [
       "- \u001b[1;38;5;22mEndorphins: #\u001b[0m\n"
      ]
     },
     "metadata": {},
     "output_type": "display_data"
    },
    {
     "data": {
      "text/html": [
       "<pre style=\"white-space:pre;overflow-x:auto;line-height:normal;font-family:Menlo,'DejaVu Sans Mono',consolas,'Courier New',monospace\">- <span style=\"color: #870000; text-decoration-color: #870000; font-weight: bold\">Cortisol: ##################</span>\n",
       "</pre>\n"
      ],
      "text/plain": [
       "- \u001b[1;38;5;88mCortisol: ##################\u001b[0m\n"
      ]
     },
     "metadata": {},
     "output_type": "display_data"
    },
    {
     "data": {
      "text/html": [
       "<pre style=\"white-space:pre;overflow-x:auto;line-height:normal;font-family:Menlo,'DejaVu Sans Mono',consolas,'Courier New',monospace\">\n",
       "<span style=\"color: #008080; text-decoration-color: #008080; font-weight: bold\">1</span>. <span style=\"color: #af00d7; text-decoration-color: #af00d7; font-weight: bold\">Binge on Internet</span>\n",
       "<span style=\"color: #008080; text-decoration-color: #008080; font-weight: bold\">2</span>. <span style=\"color: #af00d7; text-decoration-color: #af00d7; font-weight: bold\">Work</span>\n",
       "<span style=\"color: #008080; text-decoration-color: #008080; font-weight: bold\">3</span>. <span style=\"color: #af00d7; text-decoration-color: #af00d7; font-weight: bold\">Exercise</span>\n",
       "<span style=\"color: #008080; text-decoration-color: #008080; font-weight: bold\">4</span>. <span style=\"color: #af00d7; text-decoration-color: #af00d7; font-weight: bold\">Socialise</span>\n",
       "<span style=\"color: #008080; text-decoration-color: #008080; font-weight: bold\">5</span>. <span style=\"color: #af00d7; text-decoration-color: #af00d7; font-weight: bold\">Drink Alcohol</span>\n",
       "<span style=\"color: #008080; text-decoration-color: #008080; font-weight: bold\">6</span>. <span style=\"color: #af00d7; text-decoration-color: #af00d7; font-weight: bold\">Smoke</span>\n",
       "\n",
       "</pre>\n"
      ],
      "text/plain": [
       "\n",
       "\u001b[1;36m1\u001b[0m. \u001b[1;38;5;128mBinge on Internet\u001b[0m\n",
       "\u001b[1;36m2\u001b[0m. \u001b[1;38;5;128mWork\u001b[0m\n",
       "\u001b[1;36m3\u001b[0m. \u001b[1;38;5;128mExercise\u001b[0m\n",
       "\u001b[1;36m4\u001b[0m. \u001b[1;38;5;128mSocialise\u001b[0m\n",
       "\u001b[1;36m5\u001b[0m. \u001b[1;38;5;128mDrink Alcohol\u001b[0m\n",
       "\u001b[1;36m6\u001b[0m. \u001b[1;38;5;128mSmoke\u001b[0m\n",
       "\n"
      ]
     },
     "metadata": {},
     "output_type": "display_data"
    },
    {
     "data": {
      "text/html": [
       "<pre style=\"white-space:pre;overflow-x:auto;line-height:normal;font-family:Menlo,'DejaVu Sans Mono',consolas,'Courier New',monospace\">Choose from 1 to 6 <span style=\"color: #008080; text-decoration-color: #008080; font-weight: bold\">(3)</span>: </pre>\n"
      ],
      "text/plain": [
       "Choose from 1 to 6 \u001b[1;36m(3)\u001b[0m: "
      ]
     },
     "metadata": {},
     "output_type": "display_data"
    },
    {
     "data": {
      "text/html": [
       "<pre style=\"white-space:pre;overflow-x:auto;line-height:normal;font-family:Menlo,'DejaVu Sans Mono',consolas,'Courier New',monospace\">** Current Day: <span style=\"color: #af00d7; text-decoration-color: #af00d7; font-weight: bold\">41</span>, Current Hour: <span style=\"color: #af00d7; text-decoration-color: #af00d7; font-weight: bold\">16</span>, Time Left: <span style=\"color: #af00d7; text-decoration-color: #af00d7; font-weight: bold\">7784</span> hrs ** \n",
       "\n",
       "</pre>\n"
      ],
      "text/plain": [
       "** Current Day: \u001b[1;38;5;128m41\u001b[0m, Current Hour: \u001b[1;38;5;128m16\u001b[0m, Time Left: \u001b[1;38;5;128m7784\u001b[0m hrs ** \n",
       "\n"
      ]
     },
     "metadata": {},
     "output_type": "display_data"
    },
    {
     "data": {
      "text/html": [
       "<pre style=\"white-space:pre;overflow-x:auto;line-height:normal;font-family:Menlo,'DejaVu Sans Mono',consolas,'Courier New',monospace\">- <span style=\"color: #005f00; text-decoration-color: #005f00; font-weight: bold\">Serotonin: ##################</span>\n",
       "</pre>\n"
      ],
      "text/plain": [
       "- \u001b[1;38;5;22mSerotonin: ##################\u001b[0m\n"
      ]
     },
     "metadata": {},
     "output_type": "display_data"
    },
    {
     "data": {
      "text/html": [
       "<pre style=\"white-space:pre;overflow-x:auto;line-height:normal;font-family:Menlo,'DejaVu Sans Mono',consolas,'Courier New',monospace\">- <span style=\"color: #005f00; text-decoration-color: #005f00; font-weight: bold\">Oxytocin: #</span>\n",
       "</pre>\n"
      ],
      "text/plain": [
       "- \u001b[1;38;5;22mOxytocin: #\u001b[0m\n"
      ]
     },
     "metadata": {},
     "output_type": "display_data"
    },
    {
     "data": {
      "text/html": [
       "<pre style=\"white-space:pre;overflow-x:auto;line-height:normal;font-family:Menlo,'DejaVu Sans Mono',consolas,'Courier New',monospace\">- <span style=\"color: #005f00; text-decoration-color: #005f00; font-weight: bold\">Dopamine: #######</span>\n",
       "</pre>\n"
      ],
      "text/plain": [
       "- \u001b[1;38;5;22mDopamine: #######\u001b[0m\n"
      ]
     },
     "metadata": {},
     "output_type": "display_data"
    },
    {
     "data": {
      "text/html": [
       "<pre style=\"white-space:pre;overflow-x:auto;line-height:normal;font-family:Menlo,'DejaVu Sans Mono',consolas,'Courier New',monospace\">- <span style=\"color: #005f00; text-decoration-color: #005f00; font-weight: bold\">Endorphins: #</span>\n",
       "</pre>\n"
      ],
      "text/plain": [
       "- \u001b[1;38;5;22mEndorphins: #\u001b[0m\n"
      ]
     },
     "metadata": {},
     "output_type": "display_data"
    },
    {
     "data": {
      "text/html": [
       "<pre style=\"white-space:pre;overflow-x:auto;line-height:normal;font-family:Menlo,'DejaVu Sans Mono',consolas,'Courier New',monospace\">- <span style=\"color: #870000; text-decoration-color: #870000; font-weight: bold\">Cortisol: ##################</span>\n",
       "</pre>\n"
      ],
      "text/plain": [
       "- \u001b[1;38;5;88mCortisol: ##################\u001b[0m\n"
      ]
     },
     "metadata": {},
     "output_type": "display_data"
    },
    {
     "data": {
      "text/html": [
       "<pre style=\"white-space:pre;overflow-x:auto;line-height:normal;font-family:Menlo,'DejaVu Sans Mono',consolas,'Courier New',monospace\">\n",
       "<span style=\"color: #008080; text-decoration-color: #008080; font-weight: bold\">1</span>. <span style=\"color: #af00d7; text-decoration-color: #af00d7; font-weight: bold\">Binge on Internet</span>\n",
       "<span style=\"color: #008080; text-decoration-color: #008080; font-weight: bold\">2</span>. <span style=\"color: #af00d7; text-decoration-color: #af00d7; font-weight: bold\">Work</span>\n",
       "<span style=\"color: #008080; text-decoration-color: #008080; font-weight: bold\">3</span>. <span style=\"color: #af00d7; text-decoration-color: #af00d7; font-weight: bold\">Exercise</span>\n",
       "<span style=\"color: #008080; text-decoration-color: #008080; font-weight: bold\">4</span>. <span style=\"color: #af00d7; text-decoration-color: #af00d7; font-weight: bold\">Socialise</span>\n",
       "<span style=\"color: #008080; text-decoration-color: #008080; font-weight: bold\">5</span>. <span style=\"color: #af00d7; text-decoration-color: #af00d7; font-weight: bold\">Drink Alcohol</span>\n",
       "<span style=\"color: #008080; text-decoration-color: #008080; font-weight: bold\">6</span>. <span style=\"color: #af00d7; text-decoration-color: #af00d7; font-weight: bold\">Smoke</span>\n",
       "\n",
       "</pre>\n"
      ],
      "text/plain": [
       "\n",
       "\u001b[1;36m1\u001b[0m. \u001b[1;38;5;128mBinge on Internet\u001b[0m\n",
       "\u001b[1;36m2\u001b[0m. \u001b[1;38;5;128mWork\u001b[0m\n",
       "\u001b[1;36m3\u001b[0m. \u001b[1;38;5;128mExercise\u001b[0m\n",
       "\u001b[1;36m4\u001b[0m. \u001b[1;38;5;128mSocialise\u001b[0m\n",
       "\u001b[1;36m5\u001b[0m. \u001b[1;38;5;128mDrink Alcohol\u001b[0m\n",
       "\u001b[1;36m6\u001b[0m. \u001b[1;38;5;128mSmoke\u001b[0m\n",
       "\n"
      ]
     },
     "metadata": {},
     "output_type": "display_data"
    },
    {
     "data": {
      "text/html": [
       "<pre style=\"white-space:pre;overflow-x:auto;line-height:normal;font-family:Menlo,'DejaVu Sans Mono',consolas,'Courier New',monospace\">Choose from 1 to 6 <span style=\"color: #008080; text-decoration-color: #008080; font-weight: bold\">(3)</span>: </pre>\n"
      ],
      "text/plain": [
       "Choose from 1 to 6 \u001b[1;36m(3)\u001b[0m: "
      ]
     },
     "metadata": {},
     "output_type": "display_data"
    },
    {
     "data": {
      "text/html": [
       "<pre style=\"white-space:pre;overflow-x:auto;line-height:normal;font-family:Menlo,'DejaVu Sans Mono',consolas,'Courier New',monospace\">** Current Day: <span style=\"color: #af00d7; text-decoration-color: #af00d7; font-weight: bold\">42</span>, Current Hour: <span style=\"color: #af00d7; text-decoration-color: #af00d7; font-weight: bold\">17</span>, Time Left: <span style=\"color: #af00d7; text-decoration-color: #af00d7; font-weight: bold\">7759</span> hrs ** \n",
       "\n",
       "</pre>\n"
      ],
      "text/plain": [
       "** Current Day: \u001b[1;38;5;128m42\u001b[0m, Current Hour: \u001b[1;38;5;128m17\u001b[0m, Time Left: \u001b[1;38;5;128m7759\u001b[0m hrs ** \n",
       "\n"
      ]
     },
     "metadata": {},
     "output_type": "display_data"
    },
    {
     "data": {
      "text/html": [
       "<pre style=\"white-space:pre;overflow-x:auto;line-height:normal;font-family:Menlo,'DejaVu Sans Mono',consolas,'Courier New',monospace\">- <span style=\"color: #005f00; text-decoration-color: #005f00; font-weight: bold\">Serotonin: ##################</span>\n",
       "</pre>\n"
      ],
      "text/plain": [
       "- \u001b[1;38;5;22mSerotonin: ##################\u001b[0m\n"
      ]
     },
     "metadata": {},
     "output_type": "display_data"
    },
    {
     "data": {
      "text/html": [
       "<pre style=\"white-space:pre;overflow-x:auto;line-height:normal;font-family:Menlo,'DejaVu Sans Mono',consolas,'Courier New',monospace\">- <span style=\"color: #005f00; text-decoration-color: #005f00; font-weight: bold\">Oxytocin: #</span>\n",
       "</pre>\n"
      ],
      "text/plain": [
       "- \u001b[1;38;5;22mOxytocin: #\u001b[0m\n"
      ]
     },
     "metadata": {},
     "output_type": "display_data"
    },
    {
     "data": {
      "text/html": [
       "<pre style=\"white-space:pre;overflow-x:auto;line-height:normal;font-family:Menlo,'DejaVu Sans Mono',consolas,'Courier New',monospace\">- <span style=\"color: #005f00; text-decoration-color: #005f00; font-weight: bold\">Dopamine: ########</span>\n",
       "</pre>\n"
      ],
      "text/plain": [
       "- \u001b[1;38;5;22mDopamine: ########\u001b[0m\n"
      ]
     },
     "metadata": {},
     "output_type": "display_data"
    },
    {
     "data": {
      "text/html": [
       "<pre style=\"white-space:pre;overflow-x:auto;line-height:normal;font-family:Menlo,'DejaVu Sans Mono',consolas,'Courier New',monospace\">- <span style=\"color: #005f00; text-decoration-color: #005f00; font-weight: bold\">Endorphins: #</span>\n",
       "</pre>\n"
      ],
      "text/plain": [
       "- \u001b[1;38;5;22mEndorphins: #\u001b[0m\n"
      ]
     },
     "metadata": {},
     "output_type": "display_data"
    },
    {
     "data": {
      "text/html": [
       "<pre style=\"white-space:pre;overflow-x:auto;line-height:normal;font-family:Menlo,'DejaVu Sans Mono',consolas,'Courier New',monospace\">- <span style=\"color: #870000; text-decoration-color: #870000; font-weight: bold\">Cortisol: ##################</span>\n",
       "</pre>\n"
      ],
      "text/plain": [
       "- \u001b[1;38;5;88mCortisol: ##################\u001b[0m\n"
      ]
     },
     "metadata": {},
     "output_type": "display_data"
    },
    {
     "data": {
      "text/html": [
       "<pre style=\"white-space:pre;overflow-x:auto;line-height:normal;font-family:Menlo,'DejaVu Sans Mono',consolas,'Courier New',monospace\">\n",
       "<span style=\"color: #008080; text-decoration-color: #008080; font-weight: bold\">1</span>. <span style=\"color: #af00d7; text-decoration-color: #af00d7; font-weight: bold\">Binge on Internet</span>\n",
       "<span style=\"color: #008080; text-decoration-color: #008080; font-weight: bold\">2</span>. <span style=\"color: #af00d7; text-decoration-color: #af00d7; font-weight: bold\">Work</span>\n",
       "<span style=\"color: #008080; text-decoration-color: #008080; font-weight: bold\">3</span>. <span style=\"color: #af00d7; text-decoration-color: #af00d7; font-weight: bold\">Exercise</span>\n",
       "<span style=\"color: #008080; text-decoration-color: #008080; font-weight: bold\">4</span>. <span style=\"color: #af00d7; text-decoration-color: #af00d7; font-weight: bold\">Socialise</span>\n",
       "<span style=\"color: #008080; text-decoration-color: #008080; font-weight: bold\">5</span>. <span style=\"color: #af00d7; text-decoration-color: #af00d7; font-weight: bold\">Drink Alcohol</span>\n",
       "<span style=\"color: #008080; text-decoration-color: #008080; font-weight: bold\">6</span>. <span style=\"color: #af00d7; text-decoration-color: #af00d7; font-weight: bold\">Smoke</span>\n",
       "\n",
       "</pre>\n"
      ],
      "text/plain": [
       "\n",
       "\u001b[1;36m1\u001b[0m. \u001b[1;38;5;128mBinge on Internet\u001b[0m\n",
       "\u001b[1;36m2\u001b[0m. \u001b[1;38;5;128mWork\u001b[0m\n",
       "\u001b[1;36m3\u001b[0m. \u001b[1;38;5;128mExercise\u001b[0m\n",
       "\u001b[1;36m4\u001b[0m. \u001b[1;38;5;128mSocialise\u001b[0m\n",
       "\u001b[1;36m5\u001b[0m. \u001b[1;38;5;128mDrink Alcohol\u001b[0m\n",
       "\u001b[1;36m6\u001b[0m. \u001b[1;38;5;128mSmoke\u001b[0m\n",
       "\n"
      ]
     },
     "metadata": {},
     "output_type": "display_data"
    },
    {
     "data": {
      "text/html": [
       "<pre style=\"white-space:pre;overflow-x:auto;line-height:normal;font-family:Menlo,'DejaVu Sans Mono',consolas,'Courier New',monospace\">Choose from 1 to 6 <span style=\"color: #008080; text-decoration-color: #008080; font-weight: bold\">(2)</span>: </pre>\n"
      ],
      "text/plain": [
       "Choose from 1 to 6 \u001b[1;36m(2)\u001b[0m: "
      ]
     },
     "metadata": {},
     "output_type": "display_data"
    },
    {
     "data": {
      "text/html": [
       "<pre style=\"white-space:pre;overflow-x:auto;line-height:normal;font-family:Menlo,'DejaVu Sans Mono',consolas,'Courier New',monospace\">** Current Day: <span style=\"color: #af00d7; text-decoration-color: #af00d7; font-weight: bold\">43</span>, Current Hour: <span style=\"color: #af00d7; text-decoration-color: #af00d7; font-weight: bold\">18</span>, Time Left: <span style=\"color: #af00d7; text-decoration-color: #af00d7; font-weight: bold\">7734</span> hrs ** \n",
       "\n",
       "</pre>\n"
      ],
      "text/plain": [
       "** Current Day: \u001b[1;38;5;128m43\u001b[0m, Current Hour: \u001b[1;38;5;128m18\u001b[0m, Time Left: \u001b[1;38;5;128m7734\u001b[0m hrs ** \n",
       "\n"
      ]
     },
     "metadata": {},
     "output_type": "display_data"
    },
    {
     "data": {
      "text/html": [
       "<pre style=\"white-space:pre;overflow-x:auto;line-height:normal;font-family:Menlo,'DejaVu Sans Mono',consolas,'Courier New',monospace\">- <span style=\"color: #005f00; text-decoration-color: #005f00; font-weight: bold\">Serotonin: ###################</span>\n",
       "</pre>\n"
      ],
      "text/plain": [
       "- \u001b[1;38;5;22mSerotonin: ###################\u001b[0m\n"
      ]
     },
     "metadata": {},
     "output_type": "display_data"
    },
    {
     "data": {
      "text/html": [
       "<pre style=\"white-space:pre;overflow-x:auto;line-height:normal;font-family:Menlo,'DejaVu Sans Mono',consolas,'Courier New',monospace\">- <span style=\"color: #005f00; text-decoration-color: #005f00; font-weight: bold\">Oxytocin: #</span>\n",
       "</pre>\n"
      ],
      "text/plain": [
       "- \u001b[1;38;5;22mOxytocin: #\u001b[0m\n"
      ]
     },
     "metadata": {},
     "output_type": "display_data"
    },
    {
     "data": {
      "text/html": [
       "<pre style=\"white-space:pre;overflow-x:auto;line-height:normal;font-family:Menlo,'DejaVu Sans Mono',consolas,'Courier New',monospace\">- <span style=\"color: #005f00; text-decoration-color: #005f00; font-weight: bold\">Dopamine: #########</span>\n",
       "</pre>\n"
      ],
      "text/plain": [
       "- \u001b[1;38;5;22mDopamine: #########\u001b[0m\n"
      ]
     },
     "metadata": {},
     "output_type": "display_data"
    },
    {
     "data": {
      "text/html": [
       "<pre style=\"white-space:pre;overflow-x:auto;line-height:normal;font-family:Menlo,'DejaVu Sans Mono',consolas,'Courier New',monospace\">- <span style=\"color: #005f00; text-decoration-color: #005f00; font-weight: bold\">Endorphins: #</span>\n",
       "</pre>\n"
      ],
      "text/plain": [
       "- \u001b[1;38;5;22mEndorphins: #\u001b[0m\n"
      ]
     },
     "metadata": {},
     "output_type": "display_data"
    },
    {
     "data": {
      "text/html": [
       "<pre style=\"white-space:pre;overflow-x:auto;line-height:normal;font-family:Menlo,'DejaVu Sans Mono',consolas,'Courier New',monospace\">- <span style=\"color: #870000; text-decoration-color: #870000; font-weight: bold\">Cortisol: ###################</span>\n",
       "</pre>\n"
      ],
      "text/plain": [
       "- \u001b[1;38;5;88mCortisol: ###################\u001b[0m\n"
      ]
     },
     "metadata": {},
     "output_type": "display_data"
    },
    {
     "data": {
      "text/html": [
       "<pre style=\"white-space:pre;overflow-x:auto;line-height:normal;font-family:Menlo,'DejaVu Sans Mono',consolas,'Courier New',monospace\">\n",
       "<span style=\"color: #008080; text-decoration-color: #008080; font-weight: bold\">1</span>. <span style=\"color: #af00d7; text-decoration-color: #af00d7; font-weight: bold\">Binge on Internet</span>\n",
       "<span style=\"color: #008080; text-decoration-color: #008080; font-weight: bold\">2</span>. <span style=\"color: #af00d7; text-decoration-color: #af00d7; font-weight: bold\">Work</span>\n",
       "<span style=\"color: #008080; text-decoration-color: #008080; font-weight: bold\">3</span>. <span style=\"color: #af00d7; text-decoration-color: #af00d7; font-weight: bold\">Exercise</span>\n",
       "<span style=\"color: #008080; text-decoration-color: #008080; font-weight: bold\">4</span>. <span style=\"color: #af00d7; text-decoration-color: #af00d7; font-weight: bold\">Socialise</span>\n",
       "<span style=\"color: #008080; text-decoration-color: #008080; font-weight: bold\">5</span>. <span style=\"color: #af00d7; text-decoration-color: #af00d7; font-weight: bold\">Drink Alcohol</span>\n",
       "<span style=\"color: #008080; text-decoration-color: #008080; font-weight: bold\">6</span>. <span style=\"color: #af00d7; text-decoration-color: #af00d7; font-weight: bold\">Smoke</span>\n",
       "\n",
       "</pre>\n"
      ],
      "text/plain": [
       "\n",
       "\u001b[1;36m1\u001b[0m. \u001b[1;38;5;128mBinge on Internet\u001b[0m\n",
       "\u001b[1;36m2\u001b[0m. \u001b[1;38;5;128mWork\u001b[0m\n",
       "\u001b[1;36m3\u001b[0m. \u001b[1;38;5;128mExercise\u001b[0m\n",
       "\u001b[1;36m4\u001b[0m. \u001b[1;38;5;128mSocialise\u001b[0m\n",
       "\u001b[1;36m5\u001b[0m. \u001b[1;38;5;128mDrink Alcohol\u001b[0m\n",
       "\u001b[1;36m6\u001b[0m. \u001b[1;38;5;128mSmoke\u001b[0m\n",
       "\n"
      ]
     },
     "metadata": {},
     "output_type": "display_data"
    },
    {
     "data": {
      "text/html": [
       "<pre style=\"white-space:pre;overflow-x:auto;line-height:normal;font-family:Menlo,'DejaVu Sans Mono',consolas,'Courier New',monospace\">Choose from 1 to 6 <span style=\"color: #008080; text-decoration-color: #008080; font-weight: bold\">(2)</span>: </pre>\n"
      ],
      "text/plain": [
       "Choose from 1 to 6 \u001b[1;36m(2)\u001b[0m: "
      ]
     },
     "metadata": {},
     "output_type": "display_data"
    },
    {
     "data": {
      "text/html": [
       "<pre style=\"white-space:pre;overflow-x:auto;line-height:normal;font-family:Menlo,'DejaVu Sans Mono',consolas,'Courier New',monospace\">** Current Day: <span style=\"color: #af00d7; text-decoration-color: #af00d7; font-weight: bold\">44</span>, Current Hour: <span style=\"color: #af00d7; text-decoration-color: #af00d7; font-weight: bold\">19</span>, Time Left: <span style=\"color: #af00d7; text-decoration-color: #af00d7; font-weight: bold\">7709</span> hrs ** \n",
       "\n",
       "</pre>\n"
      ],
      "text/plain": [
       "** Current Day: \u001b[1;38;5;128m44\u001b[0m, Current Hour: \u001b[1;38;5;128m19\u001b[0m, Time Left: \u001b[1;38;5;128m7709\u001b[0m hrs ** \n",
       "\n"
      ]
     },
     "metadata": {},
     "output_type": "display_data"
    },
    {
     "data": {
      "text/html": [
       "<pre style=\"white-space:pre;overflow-x:auto;line-height:normal;font-family:Menlo,'DejaVu Sans Mono',consolas,'Courier New',monospace\">- <span style=\"color: #005f00; text-decoration-color: #005f00; font-weight: bold\">Serotonin: ####################</span>\n",
       "</pre>\n"
      ],
      "text/plain": [
       "- \u001b[1;38;5;22mSerotonin: ####################\u001b[0m\n"
      ]
     },
     "metadata": {},
     "output_type": "display_data"
    },
    {
     "data": {
      "text/html": [
       "<pre style=\"white-space:pre;overflow-x:auto;line-height:normal;font-family:Menlo,'DejaVu Sans Mono',consolas,'Courier New',monospace\">- <span style=\"color: #005f00; text-decoration-color: #005f00; font-weight: bold\">Oxytocin: #</span>\n",
       "</pre>\n"
      ],
      "text/plain": [
       "- \u001b[1;38;5;22mOxytocin: #\u001b[0m\n"
      ]
     },
     "metadata": {},
     "output_type": "display_data"
    },
    {
     "data": {
      "text/html": [
       "<pre style=\"white-space:pre;overflow-x:auto;line-height:normal;font-family:Menlo,'DejaVu Sans Mono',consolas,'Courier New',monospace\">- <span style=\"color: #005f00; text-decoration-color: #005f00; font-weight: bold\">Dopamine: ##########</span>\n",
       "</pre>\n"
      ],
      "text/plain": [
       "- \u001b[1;38;5;22mDopamine: ##########\u001b[0m\n"
      ]
     },
     "metadata": {},
     "output_type": "display_data"
    },
    {
     "data": {
      "text/html": [
       "<pre style=\"white-space:pre;overflow-x:auto;line-height:normal;font-family:Menlo,'DejaVu Sans Mono',consolas,'Courier New',monospace\">- <span style=\"color: #005f00; text-decoration-color: #005f00; font-weight: bold\">Endorphins: #</span>\n",
       "</pre>\n"
      ],
      "text/plain": [
       "- \u001b[1;38;5;22mEndorphins: #\u001b[0m\n"
      ]
     },
     "metadata": {},
     "output_type": "display_data"
    },
    {
     "data": {
      "text/html": [
       "<pre style=\"white-space:pre;overflow-x:auto;line-height:normal;font-family:Menlo,'DejaVu Sans Mono',consolas,'Courier New',monospace\">- <span style=\"color: #870000; text-decoration-color: #870000; font-weight: bold\">Cortisol: ####################</span>\n",
       "</pre>\n"
      ],
      "text/plain": [
       "- \u001b[1;38;5;88mCortisol: ####################\u001b[0m\n"
      ]
     },
     "metadata": {},
     "output_type": "display_data"
    },
    {
     "data": {
      "text/html": [
       "<pre style=\"white-space:pre;overflow-x:auto;line-height:normal;font-family:Menlo,'DejaVu Sans Mono',consolas,'Courier New',monospace\">\n",
       "<span style=\"color: #008080; text-decoration-color: #008080; font-weight: bold\">1</span>. <span style=\"color: #af00d7; text-decoration-color: #af00d7; font-weight: bold\">Binge on Internet</span>\n",
       "<span style=\"color: #008080; text-decoration-color: #008080; font-weight: bold\">2</span>. <span style=\"color: #af00d7; text-decoration-color: #af00d7; font-weight: bold\">Work</span>\n",
       "<span style=\"color: #008080; text-decoration-color: #008080; font-weight: bold\">3</span>. <span style=\"color: #af00d7; text-decoration-color: #af00d7; font-weight: bold\">Exercise</span>\n",
       "<span style=\"color: #008080; text-decoration-color: #008080; font-weight: bold\">4</span>. <span style=\"color: #af00d7; text-decoration-color: #af00d7; font-weight: bold\">Socialise</span>\n",
       "<span style=\"color: #008080; text-decoration-color: #008080; font-weight: bold\">5</span>. <span style=\"color: #af00d7; text-decoration-color: #af00d7; font-weight: bold\">Drink Alcohol</span>\n",
       "<span style=\"color: #008080; text-decoration-color: #008080; font-weight: bold\">6</span>. <span style=\"color: #af00d7; text-decoration-color: #af00d7; font-weight: bold\">Smoke</span>\n",
       "\n",
       "</pre>\n"
      ],
      "text/plain": [
       "\n",
       "\u001b[1;36m1\u001b[0m. \u001b[1;38;5;128mBinge on Internet\u001b[0m\n",
       "\u001b[1;36m2\u001b[0m. \u001b[1;38;5;128mWork\u001b[0m\n",
       "\u001b[1;36m3\u001b[0m. \u001b[1;38;5;128mExercise\u001b[0m\n",
       "\u001b[1;36m4\u001b[0m. \u001b[1;38;5;128mSocialise\u001b[0m\n",
       "\u001b[1;36m5\u001b[0m. \u001b[1;38;5;128mDrink Alcohol\u001b[0m\n",
       "\u001b[1;36m6\u001b[0m. \u001b[1;38;5;128mSmoke\u001b[0m\n",
       "\n"
      ]
     },
     "metadata": {},
     "output_type": "display_data"
    },
    {
     "data": {
      "text/html": [
       "<pre style=\"white-space:pre;overflow-x:auto;line-height:normal;font-family:Menlo,'DejaVu Sans Mono',consolas,'Courier New',monospace\">Choose from 1 to 6 <span style=\"color: #008080; text-decoration-color: #008080; font-weight: bold\">(2)</span>: </pre>\n"
      ],
      "text/plain": [
       "Choose from 1 to 6 \u001b[1;36m(2)\u001b[0m: "
      ]
     },
     "metadata": {},
     "output_type": "display_data"
    },
    {
     "data": {
      "text/html": [
       "<pre style=\"white-space:pre;overflow-x:auto;line-height:normal;font-family:Menlo,'DejaVu Sans Mono',consolas,'Courier New',monospace\">** Current Day: <span style=\"color: #af00d7; text-decoration-color: #af00d7; font-weight: bold\">45</span>, Current Hour: <span style=\"color: #af00d7; text-decoration-color: #af00d7; font-weight: bold\">20</span>, Time Left: <span style=\"color: #af00d7; text-decoration-color: #af00d7; font-weight: bold\">7684</span> hrs ** \n",
       "\n",
       "</pre>\n"
      ],
      "text/plain": [
       "** Current Day: \u001b[1;38;5;128m45\u001b[0m, Current Hour: \u001b[1;38;5;128m20\u001b[0m, Time Left: \u001b[1;38;5;128m7684\u001b[0m hrs ** \n",
       "\n"
      ]
     },
     "metadata": {},
     "output_type": "display_data"
    },
    {
     "data": {
      "text/html": [
       "<pre style=\"white-space:pre;overflow-x:auto;line-height:normal;font-family:Menlo,'DejaVu Sans Mono',consolas,'Courier New',monospace\">- <span style=\"color: #005f00; text-decoration-color: #005f00; font-weight: bold\">Serotonin: #####################</span>\n",
       "</pre>\n"
      ],
      "text/plain": [
       "- \u001b[1;38;5;22mSerotonin: #####################\u001b[0m\n"
      ]
     },
     "metadata": {},
     "output_type": "display_data"
    },
    {
     "data": {
      "text/html": [
       "<pre style=\"white-space:pre;overflow-x:auto;line-height:normal;font-family:Menlo,'DejaVu Sans Mono',consolas,'Courier New',monospace\">- <span style=\"color: #005f00; text-decoration-color: #005f00; font-weight: bold\">Oxytocin: #</span>\n",
       "</pre>\n"
      ],
      "text/plain": [
       "- \u001b[1;38;5;22mOxytocin: #\u001b[0m\n"
      ]
     },
     "metadata": {},
     "output_type": "display_data"
    },
    {
     "data": {
      "text/html": [
       "<pre style=\"white-space:pre;overflow-x:auto;line-height:normal;font-family:Menlo,'DejaVu Sans Mono',consolas,'Courier New',monospace\">- <span style=\"color: #005f00; text-decoration-color: #005f00; font-weight: bold\">Dopamine: ###########</span>\n",
       "</pre>\n"
      ],
      "text/plain": [
       "- \u001b[1;38;5;22mDopamine: ###########\u001b[0m\n"
      ]
     },
     "metadata": {},
     "output_type": "display_data"
    },
    {
     "data": {
      "text/html": [
       "<pre style=\"white-space:pre;overflow-x:auto;line-height:normal;font-family:Menlo,'DejaVu Sans Mono',consolas,'Courier New',monospace\">- <span style=\"color: #005f00; text-decoration-color: #005f00; font-weight: bold\">Endorphins: #</span>\n",
       "</pre>\n"
      ],
      "text/plain": [
       "- \u001b[1;38;5;22mEndorphins: #\u001b[0m\n"
      ]
     },
     "metadata": {},
     "output_type": "display_data"
    },
    {
     "data": {
      "text/html": [
       "<pre style=\"white-space:pre;overflow-x:auto;line-height:normal;font-family:Menlo,'DejaVu Sans Mono',consolas,'Courier New',monospace\">- <span style=\"color: #870000; text-decoration-color: #870000; font-weight: bold\">Cortisol: #####################</span>\n",
       "</pre>\n"
      ],
      "text/plain": [
       "- \u001b[1;38;5;88mCortisol: #####################\u001b[0m\n"
      ]
     },
     "metadata": {},
     "output_type": "display_data"
    },
    {
     "data": {
      "text/html": [
       "<pre style=\"white-space:pre;overflow-x:auto;line-height:normal;font-family:Menlo,'DejaVu Sans Mono',consolas,'Courier New',monospace\">\n",
       "<span style=\"color: #008080; text-decoration-color: #008080; font-weight: bold\">1</span>. <span style=\"color: #af00d7; text-decoration-color: #af00d7; font-weight: bold\">Binge on Internet</span>\n",
       "<span style=\"color: #008080; text-decoration-color: #008080; font-weight: bold\">2</span>. <span style=\"color: #af00d7; text-decoration-color: #af00d7; font-weight: bold\">Work</span>\n",
       "<span style=\"color: #008080; text-decoration-color: #008080; font-weight: bold\">3</span>. <span style=\"color: #af00d7; text-decoration-color: #af00d7; font-weight: bold\">Exercise</span>\n",
       "<span style=\"color: #008080; text-decoration-color: #008080; font-weight: bold\">4</span>. <span style=\"color: #af00d7; text-decoration-color: #af00d7; font-weight: bold\">Socialise</span>\n",
       "<span style=\"color: #008080; text-decoration-color: #008080; font-weight: bold\">5</span>. <span style=\"color: #af00d7; text-decoration-color: #af00d7; font-weight: bold\">Drink Alcohol</span>\n",
       "<span style=\"color: #008080; text-decoration-color: #008080; font-weight: bold\">6</span>. <span style=\"color: #af00d7; text-decoration-color: #af00d7; font-weight: bold\">Smoke</span>\n",
       "\n",
       "</pre>\n"
      ],
      "text/plain": [
       "\n",
       "\u001b[1;36m1\u001b[0m. \u001b[1;38;5;128mBinge on Internet\u001b[0m\n",
       "\u001b[1;36m2\u001b[0m. \u001b[1;38;5;128mWork\u001b[0m\n",
       "\u001b[1;36m3\u001b[0m. \u001b[1;38;5;128mExercise\u001b[0m\n",
       "\u001b[1;36m4\u001b[0m. \u001b[1;38;5;128mSocialise\u001b[0m\n",
       "\u001b[1;36m5\u001b[0m. \u001b[1;38;5;128mDrink Alcohol\u001b[0m\n",
       "\u001b[1;36m6\u001b[0m. \u001b[1;38;5;128mSmoke\u001b[0m\n",
       "\n"
      ]
     },
     "metadata": {},
     "output_type": "display_data"
    },
    {
     "data": {
      "text/html": [
       "<pre style=\"white-space:pre;overflow-x:auto;line-height:normal;font-family:Menlo,'DejaVu Sans Mono',consolas,'Courier New',monospace\">Choose from 1 to 6 <span style=\"color: #008080; text-decoration-color: #008080; font-weight: bold\">(2)</span>: </pre>\n"
      ],
      "text/plain": [
       "Choose from 1 to 6 \u001b[1;36m(2)\u001b[0m: "
      ]
     },
     "metadata": {},
     "output_type": "display_data"
    },
    {
     "data": {
      "text/html": [
       "<pre style=\"white-space:pre;overflow-x:auto;line-height:normal;font-family:Menlo,'DejaVu Sans Mono',consolas,'Courier New',monospace\">** Current Day: <span style=\"color: #af00d7; text-decoration-color: #af00d7; font-weight: bold\">46</span>, Current Hour: <span style=\"color: #af00d7; text-decoration-color: #af00d7; font-weight: bold\">21</span>, Time Left: <span style=\"color: #af00d7; text-decoration-color: #af00d7; font-weight: bold\">7659</span> hrs ** \n",
       "\n",
       "</pre>\n"
      ],
      "text/plain": [
       "** Current Day: \u001b[1;38;5;128m46\u001b[0m, Current Hour: \u001b[1;38;5;128m21\u001b[0m, Time Left: \u001b[1;38;5;128m7659\u001b[0m hrs ** \n",
       "\n"
      ]
     },
     "metadata": {},
     "output_type": "display_data"
    },
    {
     "data": {
      "text/html": [
       "<pre style=\"white-space:pre;overflow-x:auto;line-height:normal;font-family:Menlo,'DejaVu Sans Mono',consolas,'Courier New',monospace\">- <span style=\"color: #005f00; text-decoration-color: #005f00; font-weight: bold\">Serotonin: ######################</span>\n",
       "</pre>\n"
      ],
      "text/plain": [
       "- \u001b[1;38;5;22mSerotonin: ######################\u001b[0m\n"
      ]
     },
     "metadata": {},
     "output_type": "display_data"
    },
    {
     "data": {
      "text/html": [
       "<pre style=\"white-space:pre;overflow-x:auto;line-height:normal;font-family:Menlo,'DejaVu Sans Mono',consolas,'Courier New',monospace\">- <span style=\"color: #005f00; text-decoration-color: #005f00; font-weight: bold\">Oxytocin: #</span>\n",
       "</pre>\n"
      ],
      "text/plain": [
       "- \u001b[1;38;5;22mOxytocin: #\u001b[0m\n"
      ]
     },
     "metadata": {},
     "output_type": "display_data"
    },
    {
     "data": {
      "text/html": [
       "<pre style=\"white-space:pre;overflow-x:auto;line-height:normal;font-family:Menlo,'DejaVu Sans Mono',consolas,'Courier New',monospace\">- <span style=\"color: #005f00; text-decoration-color: #005f00; font-weight: bold\">Dopamine: ############</span>\n",
       "</pre>\n"
      ],
      "text/plain": [
       "- \u001b[1;38;5;22mDopamine: ############\u001b[0m\n"
      ]
     },
     "metadata": {},
     "output_type": "display_data"
    },
    {
     "data": {
      "text/html": [
       "<pre style=\"white-space:pre;overflow-x:auto;line-height:normal;font-family:Menlo,'DejaVu Sans Mono',consolas,'Courier New',monospace\">- <span style=\"color: #005f00; text-decoration-color: #005f00; font-weight: bold\">Endorphins: #</span>\n",
       "</pre>\n"
      ],
      "text/plain": [
       "- \u001b[1;38;5;22mEndorphins: #\u001b[0m\n"
      ]
     },
     "metadata": {},
     "output_type": "display_data"
    },
    {
     "data": {
      "text/html": [
       "<pre style=\"white-space:pre;overflow-x:auto;line-height:normal;font-family:Menlo,'DejaVu Sans Mono',consolas,'Courier New',monospace\">- <span style=\"color: #870000; text-decoration-color: #870000; font-weight: bold\">Cortisol: ######################</span>\n",
       "</pre>\n"
      ],
      "text/plain": [
       "- \u001b[1;38;5;88mCortisol: ######################\u001b[0m\n"
      ]
     },
     "metadata": {},
     "output_type": "display_data"
    },
    {
     "data": {
      "text/html": [
       "<pre style=\"white-space:pre;overflow-x:auto;line-height:normal;font-family:Menlo,'DejaVu Sans Mono',consolas,'Courier New',monospace\">\n",
       "<span style=\"color: #008080; text-decoration-color: #008080; font-weight: bold\">1</span>. <span style=\"color: #af00d7; text-decoration-color: #af00d7; font-weight: bold\">Binge on Internet</span>\n",
       "<span style=\"color: #008080; text-decoration-color: #008080; font-weight: bold\">2</span>. <span style=\"color: #af00d7; text-decoration-color: #af00d7; font-weight: bold\">Work</span>\n",
       "<span style=\"color: #008080; text-decoration-color: #008080; font-weight: bold\">3</span>. <span style=\"color: #af00d7; text-decoration-color: #af00d7; font-weight: bold\">Exercise</span>\n",
       "<span style=\"color: #008080; text-decoration-color: #008080; font-weight: bold\">4</span>. <span style=\"color: #af00d7; text-decoration-color: #af00d7; font-weight: bold\">Socialise</span>\n",
       "<span style=\"color: #008080; text-decoration-color: #008080; font-weight: bold\">5</span>. <span style=\"color: #af00d7; text-decoration-color: #af00d7; font-weight: bold\">Drink Alcohol</span>\n",
       "<span style=\"color: #008080; text-decoration-color: #008080; font-weight: bold\">6</span>. <span style=\"color: #af00d7; text-decoration-color: #af00d7; font-weight: bold\">Smoke</span>\n",
       "\n",
       "</pre>\n"
      ],
      "text/plain": [
       "\n",
       "\u001b[1;36m1\u001b[0m. \u001b[1;38;5;128mBinge on Internet\u001b[0m\n",
       "\u001b[1;36m2\u001b[0m. \u001b[1;38;5;128mWork\u001b[0m\n",
       "\u001b[1;36m3\u001b[0m. \u001b[1;38;5;128mExercise\u001b[0m\n",
       "\u001b[1;36m4\u001b[0m. \u001b[1;38;5;128mSocialise\u001b[0m\n",
       "\u001b[1;36m5\u001b[0m. \u001b[1;38;5;128mDrink Alcohol\u001b[0m\n",
       "\u001b[1;36m6\u001b[0m. \u001b[1;38;5;128mSmoke\u001b[0m\n",
       "\n"
      ]
     },
     "metadata": {},
     "output_type": "display_data"
    },
    {
     "data": {
      "text/html": [
       "<pre style=\"white-space:pre;overflow-x:auto;line-height:normal;font-family:Menlo,'DejaVu Sans Mono',consolas,'Courier New',monospace\">Choose from 1 to 6 <span style=\"color: #008080; text-decoration-color: #008080; font-weight: bold\">(2)</span>: </pre>\n"
      ],
      "text/plain": [
       "Choose from 1 to 6 \u001b[1;36m(2)\u001b[0m: "
      ]
     },
     "metadata": {},
     "output_type": "display_data"
    },
    {
     "data": {
      "text/html": [
       "<pre style=\"white-space:pre;overflow-x:auto;line-height:normal;font-family:Menlo,'DejaVu Sans Mono',consolas,'Courier New',monospace\">** Current Day: <span style=\"color: #af00d7; text-decoration-color: #af00d7; font-weight: bold\">47</span>, Current Hour: <span style=\"color: #af00d7; text-decoration-color: #af00d7; font-weight: bold\">22</span>, Time Left: <span style=\"color: #af00d7; text-decoration-color: #af00d7; font-weight: bold\">7634</span> hrs ** \n",
       "\n",
       "</pre>\n"
      ],
      "text/plain": [
       "** Current Day: \u001b[1;38;5;128m47\u001b[0m, Current Hour: \u001b[1;38;5;128m22\u001b[0m, Time Left: \u001b[1;38;5;128m7634\u001b[0m hrs ** \n",
       "\n"
      ]
     },
     "metadata": {},
     "output_type": "display_data"
    },
    {
     "data": {
      "text/html": [
       "<pre style=\"white-space:pre;overflow-x:auto;line-height:normal;font-family:Menlo,'DejaVu Sans Mono',consolas,'Courier New',monospace\">- <span style=\"color: #005f00; text-decoration-color: #005f00; font-weight: bold\">Serotonin: #######################</span>\n",
       "</pre>\n"
      ],
      "text/plain": [
       "- \u001b[1;38;5;22mSerotonin: #######################\u001b[0m\n"
      ]
     },
     "metadata": {},
     "output_type": "display_data"
    },
    {
     "data": {
      "text/html": [
       "<pre style=\"white-space:pre;overflow-x:auto;line-height:normal;font-family:Menlo,'DejaVu Sans Mono',consolas,'Courier New',monospace\">- <span style=\"color: #005f00; text-decoration-color: #005f00; font-weight: bold\">Oxytocin: #</span>\n",
       "</pre>\n"
      ],
      "text/plain": [
       "- \u001b[1;38;5;22mOxytocin: #\u001b[0m\n"
      ]
     },
     "metadata": {},
     "output_type": "display_data"
    },
    {
     "data": {
      "text/html": [
       "<pre style=\"white-space:pre;overflow-x:auto;line-height:normal;font-family:Menlo,'DejaVu Sans Mono',consolas,'Courier New',monospace\">- <span style=\"color: #005f00; text-decoration-color: #005f00; font-weight: bold\">Dopamine: #############</span>\n",
       "</pre>\n"
      ],
      "text/plain": [
       "- \u001b[1;38;5;22mDopamine: #############\u001b[0m\n"
      ]
     },
     "metadata": {},
     "output_type": "display_data"
    },
    {
     "data": {
      "text/html": [
       "<pre style=\"white-space:pre;overflow-x:auto;line-height:normal;font-family:Menlo,'DejaVu Sans Mono',consolas,'Courier New',monospace\">- <span style=\"color: #005f00; text-decoration-color: #005f00; font-weight: bold\">Endorphins: #</span>\n",
       "</pre>\n"
      ],
      "text/plain": [
       "- \u001b[1;38;5;22mEndorphins: #\u001b[0m\n"
      ]
     },
     "metadata": {},
     "output_type": "display_data"
    },
    {
     "data": {
      "text/html": [
       "<pre style=\"white-space:pre;overflow-x:auto;line-height:normal;font-family:Menlo,'DejaVu Sans Mono',consolas,'Courier New',monospace\">- <span style=\"color: #870000; text-decoration-color: #870000; font-weight: bold\">Cortisol: #######################</span>\n",
       "</pre>\n"
      ],
      "text/plain": [
       "- \u001b[1;38;5;88mCortisol: #######################\u001b[0m\n"
      ]
     },
     "metadata": {},
     "output_type": "display_data"
    },
    {
     "data": {
      "text/html": [
       "<pre style=\"white-space:pre;overflow-x:auto;line-height:normal;font-family:Menlo,'DejaVu Sans Mono',consolas,'Courier New',monospace\">\n",
       "<span style=\"color: #008080; text-decoration-color: #008080; font-weight: bold\">1</span>. <span style=\"color: #af00d7; text-decoration-color: #af00d7; font-weight: bold\">Binge on Internet</span>\n",
       "<span style=\"color: #008080; text-decoration-color: #008080; font-weight: bold\">2</span>. <span style=\"color: #af00d7; text-decoration-color: #af00d7; font-weight: bold\">Work</span>\n",
       "<span style=\"color: #008080; text-decoration-color: #008080; font-weight: bold\">3</span>. <span style=\"color: #af00d7; text-decoration-color: #af00d7; font-weight: bold\">Exercise</span>\n",
       "<span style=\"color: #008080; text-decoration-color: #008080; font-weight: bold\">4</span>. <span style=\"color: #af00d7; text-decoration-color: #af00d7; font-weight: bold\">Socialise</span>\n",
       "<span style=\"color: #008080; text-decoration-color: #008080; font-weight: bold\">5</span>. <span style=\"color: #af00d7; text-decoration-color: #af00d7; font-weight: bold\">Drink Alcohol</span>\n",
       "<span style=\"color: #008080; text-decoration-color: #008080; font-weight: bold\">6</span>. <span style=\"color: #af00d7; text-decoration-color: #af00d7; font-weight: bold\">Smoke</span>\n",
       "\n",
       "</pre>\n"
      ],
      "text/plain": [
       "\n",
       "\u001b[1;36m1\u001b[0m. \u001b[1;38;5;128mBinge on Internet\u001b[0m\n",
       "\u001b[1;36m2\u001b[0m. \u001b[1;38;5;128mWork\u001b[0m\n",
       "\u001b[1;36m3\u001b[0m. \u001b[1;38;5;128mExercise\u001b[0m\n",
       "\u001b[1;36m4\u001b[0m. \u001b[1;38;5;128mSocialise\u001b[0m\n",
       "\u001b[1;36m5\u001b[0m. \u001b[1;38;5;128mDrink Alcohol\u001b[0m\n",
       "\u001b[1;36m6\u001b[0m. \u001b[1;38;5;128mSmoke\u001b[0m\n",
       "\n"
      ]
     },
     "metadata": {},
     "output_type": "display_data"
    },
    {
     "data": {
      "text/html": [
       "<pre style=\"white-space:pre;overflow-x:auto;line-height:normal;font-family:Menlo,'DejaVu Sans Mono',consolas,'Courier New',monospace\">Choose from 1 to 6 <span style=\"color: #008080; text-decoration-color: #008080; font-weight: bold\">(2)</span>: </pre>\n"
      ],
      "text/plain": [
       "Choose from 1 to 6 \u001b[1;36m(2)\u001b[0m: "
      ]
     },
     "metadata": {},
     "output_type": "display_data"
    },
    {
     "data": {
      "text/html": [
       "<pre style=\"white-space:pre;overflow-x:auto;line-height:normal;font-family:Menlo,'DejaVu Sans Mono',consolas,'Courier New',monospace\">** Current Day: <span style=\"color: #af00d7; text-decoration-color: #af00d7; font-weight: bold\">48</span>, Current Hour: <span style=\"color: #af00d7; text-decoration-color: #af00d7; font-weight: bold\">23</span>, Time Left: <span style=\"color: #af00d7; text-decoration-color: #af00d7; font-weight: bold\">7609</span> hrs ** \n",
       "\n",
       "</pre>\n"
      ],
      "text/plain": [
       "** Current Day: \u001b[1;38;5;128m48\u001b[0m, Current Hour: \u001b[1;38;5;128m23\u001b[0m, Time Left: \u001b[1;38;5;128m7609\u001b[0m hrs ** \n",
       "\n"
      ]
     },
     "metadata": {},
     "output_type": "display_data"
    },
    {
     "data": {
      "text/html": [
       "<pre style=\"white-space:pre;overflow-x:auto;line-height:normal;font-family:Menlo,'DejaVu Sans Mono',consolas,'Courier New',monospace\">- <span style=\"color: #005f00; text-decoration-color: #005f00; font-weight: bold\">Serotonin: ########################</span>\n",
       "</pre>\n"
      ],
      "text/plain": [
       "- \u001b[1;38;5;22mSerotonin: ########################\u001b[0m\n"
      ]
     },
     "metadata": {},
     "output_type": "display_data"
    },
    {
     "data": {
      "text/html": [
       "<pre style=\"white-space:pre;overflow-x:auto;line-height:normal;font-family:Menlo,'DejaVu Sans Mono',consolas,'Courier New',monospace\">- <span style=\"color: #005f00; text-decoration-color: #005f00; font-weight: bold\">Oxytocin: #</span>\n",
       "</pre>\n"
      ],
      "text/plain": [
       "- \u001b[1;38;5;22mOxytocin: #\u001b[0m\n"
      ]
     },
     "metadata": {},
     "output_type": "display_data"
    },
    {
     "data": {
      "text/html": [
       "<pre style=\"white-space:pre;overflow-x:auto;line-height:normal;font-family:Menlo,'DejaVu Sans Mono',consolas,'Courier New',monospace\">- <span style=\"color: #005f00; text-decoration-color: #005f00; font-weight: bold\">Dopamine: ##############</span>\n",
       "</pre>\n"
      ],
      "text/plain": [
       "- \u001b[1;38;5;22mDopamine: ##############\u001b[0m\n"
      ]
     },
     "metadata": {},
     "output_type": "display_data"
    },
    {
     "data": {
      "text/html": [
       "<pre style=\"white-space:pre;overflow-x:auto;line-height:normal;font-family:Menlo,'DejaVu Sans Mono',consolas,'Courier New',monospace\">- <span style=\"color: #005f00; text-decoration-color: #005f00; font-weight: bold\">Endorphins: #</span>\n",
       "</pre>\n"
      ],
      "text/plain": [
       "- \u001b[1;38;5;22mEndorphins: #\u001b[0m\n"
      ]
     },
     "metadata": {},
     "output_type": "display_data"
    },
    {
     "data": {
      "text/html": [
       "<pre style=\"white-space:pre;overflow-x:auto;line-height:normal;font-family:Menlo,'DejaVu Sans Mono',consolas,'Courier New',monospace\">- <span style=\"color: #870000; text-decoration-color: #870000; font-weight: bold\">Cortisol: ########################</span>\n",
       "</pre>\n"
      ],
      "text/plain": [
       "- \u001b[1;38;5;88mCortisol: ########################\u001b[0m\n"
      ]
     },
     "metadata": {},
     "output_type": "display_data"
    },
    {
     "data": {
      "text/html": [
       "<pre style=\"white-space:pre;overflow-x:auto;line-height:normal;font-family:Menlo,'DejaVu Sans Mono',consolas,'Courier New',monospace\">\n",
       "<span style=\"color: #008080; text-decoration-color: #008080; font-weight: bold\">1</span>. <span style=\"color: #af00d7; text-decoration-color: #af00d7; font-weight: bold\">Binge on Internet</span>\n",
       "<span style=\"color: #008080; text-decoration-color: #008080; font-weight: bold\">2</span>. <span style=\"color: #af00d7; text-decoration-color: #af00d7; font-weight: bold\">Work</span>\n",
       "<span style=\"color: #008080; text-decoration-color: #008080; font-weight: bold\">3</span>. <span style=\"color: #af00d7; text-decoration-color: #af00d7; font-weight: bold\">Exercise</span>\n",
       "<span style=\"color: #008080; text-decoration-color: #008080; font-weight: bold\">4</span>. <span style=\"color: #af00d7; text-decoration-color: #af00d7; font-weight: bold\">Socialise</span>\n",
       "<span style=\"color: #008080; text-decoration-color: #008080; font-weight: bold\">5</span>. <span style=\"color: #af00d7; text-decoration-color: #af00d7; font-weight: bold\">Drink Alcohol</span>\n",
       "<span style=\"color: #008080; text-decoration-color: #008080; font-weight: bold\">6</span>. <span style=\"color: #af00d7; text-decoration-color: #af00d7; font-weight: bold\">Smoke</span>\n",
       "\n",
       "</pre>\n"
      ],
      "text/plain": [
       "\n",
       "\u001b[1;36m1\u001b[0m. \u001b[1;38;5;128mBinge on Internet\u001b[0m\n",
       "\u001b[1;36m2\u001b[0m. \u001b[1;38;5;128mWork\u001b[0m\n",
       "\u001b[1;36m3\u001b[0m. \u001b[1;38;5;128mExercise\u001b[0m\n",
       "\u001b[1;36m4\u001b[0m. \u001b[1;38;5;128mSocialise\u001b[0m\n",
       "\u001b[1;36m5\u001b[0m. \u001b[1;38;5;128mDrink Alcohol\u001b[0m\n",
       "\u001b[1;36m6\u001b[0m. \u001b[1;38;5;128mSmoke\u001b[0m\n",
       "\n"
      ]
     },
     "metadata": {},
     "output_type": "display_data"
    },
    {
     "data": {
      "text/html": [
       "<pre style=\"white-space:pre;overflow-x:auto;line-height:normal;font-family:Menlo,'DejaVu Sans Mono',consolas,'Courier New',monospace\">Choose from 1 to 6 <span style=\"color: #008080; text-decoration-color: #008080; font-weight: bold\">(2)</span>: </pre>\n"
      ],
      "text/plain": [
       "Choose from 1 to 6 \u001b[1;36m(2)\u001b[0m: "
      ]
     },
     "metadata": {},
     "output_type": "display_data"
    },
    {
     "data": {
      "text/html": [
       "<pre style=\"white-space:pre;overflow-x:auto;line-height:normal;font-family:Menlo,'DejaVu Sans Mono',consolas,'Courier New',monospace\">** Current Day: <span style=\"color: #af00d7; text-decoration-color: #af00d7; font-weight: bold\">49</span>, Current Hour: <span style=\"color: #af00d7; text-decoration-color: #af00d7; font-weight: bold\">24</span>, Time Left: <span style=\"color: #af00d7; text-decoration-color: #af00d7; font-weight: bold\">7584</span> hrs ** \n",
       "\n",
       "</pre>\n"
      ],
      "text/plain": [
       "** Current Day: \u001b[1;38;5;128m49\u001b[0m, Current Hour: \u001b[1;38;5;128m24\u001b[0m, Time Left: \u001b[1;38;5;128m7584\u001b[0m hrs ** \n",
       "\n"
      ]
     },
     "metadata": {},
     "output_type": "display_data"
    },
    {
     "data": {
      "text/html": [
       "<pre style=\"white-space:pre;overflow-x:auto;line-height:normal;font-family:Menlo,'DejaVu Sans Mono',consolas,'Courier New',monospace\">- <span style=\"color: #005f00; text-decoration-color: #005f00; font-weight: bold\">Serotonin: #########################</span>\n",
       "</pre>\n"
      ],
      "text/plain": [
       "- \u001b[1;38;5;22mSerotonin: #########################\u001b[0m\n"
      ]
     },
     "metadata": {},
     "output_type": "display_data"
    },
    {
     "data": {
      "text/html": [
       "<pre style=\"white-space:pre;overflow-x:auto;line-height:normal;font-family:Menlo,'DejaVu Sans Mono',consolas,'Courier New',monospace\">- <span style=\"color: #005f00; text-decoration-color: #005f00; font-weight: bold\">Oxytocin: #</span>\n",
       "</pre>\n"
      ],
      "text/plain": [
       "- \u001b[1;38;5;22mOxytocin: #\u001b[0m\n"
      ]
     },
     "metadata": {},
     "output_type": "display_data"
    },
    {
     "data": {
      "text/html": [
       "<pre style=\"white-space:pre;overflow-x:auto;line-height:normal;font-family:Menlo,'DejaVu Sans Mono',consolas,'Courier New',monospace\">- <span style=\"color: #005f00; text-decoration-color: #005f00; font-weight: bold\">Dopamine: ###############</span>\n",
       "</pre>\n"
      ],
      "text/plain": [
       "- \u001b[1;38;5;22mDopamine: ###############\u001b[0m\n"
      ]
     },
     "metadata": {},
     "output_type": "display_data"
    },
    {
     "data": {
      "text/html": [
       "<pre style=\"white-space:pre;overflow-x:auto;line-height:normal;font-family:Menlo,'DejaVu Sans Mono',consolas,'Courier New',monospace\">- <span style=\"color: #005f00; text-decoration-color: #005f00; font-weight: bold\">Endorphins: #</span>\n",
       "</pre>\n"
      ],
      "text/plain": [
       "- \u001b[1;38;5;22mEndorphins: #\u001b[0m\n"
      ]
     },
     "metadata": {},
     "output_type": "display_data"
    },
    {
     "data": {
      "text/html": [
       "<pre style=\"white-space:pre;overflow-x:auto;line-height:normal;font-family:Menlo,'DejaVu Sans Mono',consolas,'Courier New',monospace\">- <span style=\"color: #870000; text-decoration-color: #870000; font-weight: bold\">Cortisol: #########################</span>\n",
       "</pre>\n"
      ],
      "text/plain": [
       "- \u001b[1;38;5;88mCortisol: #########################\u001b[0m\n"
      ]
     },
     "metadata": {},
     "output_type": "display_data"
    },
    {
     "data": {
      "text/html": [
       "<pre style=\"white-space:pre;overflow-x:auto;line-height:normal;font-family:Menlo,'DejaVu Sans Mono',consolas,'Courier New',monospace\">\n",
       "<span style=\"color: #008080; text-decoration-color: #008080; font-weight: bold\">1</span>. <span style=\"color: #af00d7; text-decoration-color: #af00d7; font-weight: bold\">Binge on Internet</span>\n",
       "<span style=\"color: #008080; text-decoration-color: #008080; font-weight: bold\">2</span>. <span style=\"color: #af00d7; text-decoration-color: #af00d7; font-weight: bold\">Work</span>\n",
       "<span style=\"color: #008080; text-decoration-color: #008080; font-weight: bold\">3</span>. <span style=\"color: #af00d7; text-decoration-color: #af00d7; font-weight: bold\">Exercise</span>\n",
       "<span style=\"color: #008080; text-decoration-color: #008080; font-weight: bold\">4</span>. <span style=\"color: #af00d7; text-decoration-color: #af00d7; font-weight: bold\">Socialise</span>\n",
       "<span style=\"color: #008080; text-decoration-color: #008080; font-weight: bold\">5</span>. <span style=\"color: #af00d7; text-decoration-color: #af00d7; font-weight: bold\">Drink Alcohol</span>\n",
       "<span style=\"color: #008080; text-decoration-color: #008080; font-weight: bold\">6</span>. <span style=\"color: #af00d7; text-decoration-color: #af00d7; font-weight: bold\">Smoke</span>\n",
       "\n",
       "</pre>\n"
      ],
      "text/plain": [
       "\n",
       "\u001b[1;36m1\u001b[0m. \u001b[1;38;5;128mBinge on Internet\u001b[0m\n",
       "\u001b[1;36m2\u001b[0m. \u001b[1;38;5;128mWork\u001b[0m\n",
       "\u001b[1;36m3\u001b[0m. \u001b[1;38;5;128mExercise\u001b[0m\n",
       "\u001b[1;36m4\u001b[0m. \u001b[1;38;5;128mSocialise\u001b[0m\n",
       "\u001b[1;36m5\u001b[0m. \u001b[1;38;5;128mDrink Alcohol\u001b[0m\n",
       "\u001b[1;36m6\u001b[0m. \u001b[1;38;5;128mSmoke\u001b[0m\n",
       "\n"
      ]
     },
     "metadata": {},
     "output_type": "display_data"
    },
    {
     "data": {
      "text/html": [
       "<pre style=\"white-space:pre;overflow-x:auto;line-height:normal;font-family:Menlo,'DejaVu Sans Mono',consolas,'Courier New',monospace\">Choose from 1 to 6 <span style=\"color: #008080; text-decoration-color: #008080; font-weight: bold\">(2)</span>: </pre>\n"
      ],
      "text/plain": [
       "Choose from 1 to 6 \u001b[1;36m(2)\u001b[0m: "
      ]
     },
     "metadata": {},
     "output_type": "display_data"
    },
    {
     "data": {
      "text/html": [
       "<pre style=\"white-space:pre;overflow-x:auto;line-height:normal;font-family:Menlo,'DejaVu Sans Mono',consolas,'Courier New',monospace\">** Current Day: <span style=\"color: #af00d7; text-decoration-color: #af00d7; font-weight: bold\">50</span>, Current Hour: <span style=\"color: #af00d7; text-decoration-color: #af00d7; font-weight: bold\">0</span>, Time Left: <span style=\"color: #af00d7; text-decoration-color: #af00d7; font-weight: bold\">7584</span> hrs ** \n",
       "\n",
       "</pre>\n"
      ],
      "text/plain": [
       "** Current Day: \u001b[1;38;5;128m50\u001b[0m, Current Hour: \u001b[1;38;5;128m0\u001b[0m, Time Left: \u001b[1;38;5;128m7584\u001b[0m hrs ** \n",
       "\n"
      ]
     },
     "metadata": {},
     "output_type": "display_data"
    },
    {
     "data": {
      "text/html": [
       "<pre style=\"white-space:pre;overflow-x:auto;line-height:normal;font-family:Menlo,'DejaVu Sans Mono',consolas,'Courier New',monospace\">- <span style=\"color: #005f00; text-decoration-color: #005f00; font-weight: bold\">Serotonin: ##########################</span>\n",
       "</pre>\n"
      ],
      "text/plain": [
       "- \u001b[1;38;5;22mSerotonin: ##########################\u001b[0m\n"
      ]
     },
     "metadata": {},
     "output_type": "display_data"
    },
    {
     "data": {
      "text/html": [
       "<pre style=\"white-space:pre;overflow-x:auto;line-height:normal;font-family:Menlo,'DejaVu Sans Mono',consolas,'Courier New',monospace\">- <span style=\"color: #005f00; text-decoration-color: #005f00; font-weight: bold\">Oxytocin: #</span>\n",
       "</pre>\n"
      ],
      "text/plain": [
       "- \u001b[1;38;5;22mOxytocin: #\u001b[0m\n"
      ]
     },
     "metadata": {},
     "output_type": "display_data"
    },
    {
     "data": {
      "text/html": [
       "<pre style=\"white-space:pre;overflow-x:auto;line-height:normal;font-family:Menlo,'DejaVu Sans Mono',consolas,'Courier New',monospace\">- <span style=\"color: #005f00; text-decoration-color: #005f00; font-weight: bold\">Dopamine: ################</span>\n",
       "</pre>\n"
      ],
      "text/plain": [
       "- \u001b[1;38;5;22mDopamine: ################\u001b[0m\n"
      ]
     },
     "metadata": {},
     "output_type": "display_data"
    },
    {
     "data": {
      "text/html": [
       "<pre style=\"white-space:pre;overflow-x:auto;line-height:normal;font-family:Menlo,'DejaVu Sans Mono',consolas,'Courier New',monospace\">- <span style=\"color: #005f00; text-decoration-color: #005f00; font-weight: bold\">Endorphins: #</span>\n",
       "</pre>\n"
      ],
      "text/plain": [
       "- \u001b[1;38;5;22mEndorphins: #\u001b[0m\n"
      ]
     },
     "metadata": {},
     "output_type": "display_data"
    },
    {
     "data": {
      "text/html": [
       "<pre style=\"white-space:pre;overflow-x:auto;line-height:normal;font-family:Menlo,'DejaVu Sans Mono',consolas,'Courier New',monospace\">- <span style=\"color: #870000; text-decoration-color: #870000; font-weight: bold\">Cortisol: ##########################</span>\n",
       "</pre>\n"
      ],
      "text/plain": [
       "- \u001b[1;38;5;88mCortisol: ##########################\u001b[0m\n"
      ]
     },
     "metadata": {},
     "output_type": "display_data"
    },
    {
     "data": {
      "text/html": [
       "<pre style=\"white-space:pre;overflow-x:auto;line-height:normal;font-family:Menlo,'DejaVu Sans Mono',consolas,'Courier New',monospace\">\n",
       "<span style=\"color: #008080; text-decoration-color: #008080; font-weight: bold\">1</span>. <span style=\"color: #af00d7; text-decoration-color: #af00d7; font-weight: bold\">Binge on Internet</span>\n",
       "<span style=\"color: #008080; text-decoration-color: #008080; font-weight: bold\">2</span>. <span style=\"color: #af00d7; text-decoration-color: #af00d7; font-weight: bold\">Work</span>\n",
       "<span style=\"color: #008080; text-decoration-color: #008080; font-weight: bold\">3</span>. <span style=\"color: #af00d7; text-decoration-color: #af00d7; font-weight: bold\">Exercise</span>\n",
       "<span style=\"color: #008080; text-decoration-color: #008080; font-weight: bold\">4</span>. <span style=\"color: #af00d7; text-decoration-color: #af00d7; font-weight: bold\">Socialise</span>\n",
       "<span style=\"color: #008080; text-decoration-color: #008080; font-weight: bold\">5</span>. <span style=\"color: #af00d7; text-decoration-color: #af00d7; font-weight: bold\">Drink Alcohol</span>\n",
       "<span style=\"color: #008080; text-decoration-color: #008080; font-weight: bold\">6</span>. <span style=\"color: #af00d7; text-decoration-color: #af00d7; font-weight: bold\">Smoke</span>\n",
       "\n",
       "</pre>\n"
      ],
      "text/plain": [
       "\n",
       "\u001b[1;36m1\u001b[0m. \u001b[1;38;5;128mBinge on Internet\u001b[0m\n",
       "\u001b[1;36m2\u001b[0m. \u001b[1;38;5;128mWork\u001b[0m\n",
       "\u001b[1;36m3\u001b[0m. \u001b[1;38;5;128mExercise\u001b[0m\n",
       "\u001b[1;36m4\u001b[0m. \u001b[1;38;5;128mSocialise\u001b[0m\n",
       "\u001b[1;36m5\u001b[0m. \u001b[1;38;5;128mDrink Alcohol\u001b[0m\n",
       "\u001b[1;36m6\u001b[0m. \u001b[1;38;5;128mSmoke\u001b[0m\n",
       "\n"
      ]
     },
     "metadata": {},
     "output_type": "display_data"
    },
    {
     "data": {
      "text/html": [
       "<pre style=\"white-space:pre;overflow-x:auto;line-height:normal;font-family:Menlo,'DejaVu Sans Mono',consolas,'Courier New',monospace\">Choose from 1 to 6 <span style=\"color: #008080; text-decoration-color: #008080; font-weight: bold\">(2)</span>: </pre>\n"
      ],
      "text/plain": [
       "Choose from 1 to 6 \u001b[1;36m(2)\u001b[0m: "
      ]
     },
     "metadata": {},
     "output_type": "display_data"
    },
    {
     "data": {
      "text/html": [
       "<pre style=\"white-space:pre;overflow-x:auto;line-height:normal;font-family:Menlo,'DejaVu Sans Mono',consolas,'Courier New',monospace\">** Current Day: <span style=\"color: #af00d7; text-decoration-color: #af00d7; font-weight: bold\">51</span>, Current Hour: <span style=\"color: #af00d7; text-decoration-color: #af00d7; font-weight: bold\">1</span>, Time Left: <span style=\"color: #af00d7; text-decoration-color: #af00d7; font-weight: bold\">7559</span> hrs ** \n",
       "\n",
       "</pre>\n"
      ],
      "text/plain": [
       "** Current Day: \u001b[1;38;5;128m51\u001b[0m, Current Hour: \u001b[1;38;5;128m1\u001b[0m, Time Left: \u001b[1;38;5;128m7559\u001b[0m hrs ** \n",
       "\n"
      ]
     },
     "metadata": {},
     "output_type": "display_data"
    },
    {
     "data": {
      "text/html": [
       "<pre style=\"white-space:pre;overflow-x:auto;line-height:normal;font-family:Menlo,'DejaVu Sans Mono',consolas,'Courier New',monospace\">- <span style=\"color: #005f00; text-decoration-color: #005f00; font-weight: bold\">Serotonin: ###########################</span>\n",
       "</pre>\n"
      ],
      "text/plain": [
       "- \u001b[1;38;5;22mSerotonin: ###########################\u001b[0m\n"
      ]
     },
     "metadata": {},
     "output_type": "display_data"
    },
    {
     "data": {
      "text/html": [
       "<pre style=\"white-space:pre;overflow-x:auto;line-height:normal;font-family:Menlo,'DejaVu Sans Mono',consolas,'Courier New',monospace\">- <span style=\"color: #005f00; text-decoration-color: #005f00; font-weight: bold\">Oxytocin: #</span>\n",
       "</pre>\n"
      ],
      "text/plain": [
       "- \u001b[1;38;5;22mOxytocin: #\u001b[0m\n"
      ]
     },
     "metadata": {},
     "output_type": "display_data"
    },
    {
     "data": {
      "text/html": [
       "<pre style=\"white-space:pre;overflow-x:auto;line-height:normal;font-family:Menlo,'DejaVu Sans Mono',consolas,'Courier New',monospace\">- <span style=\"color: #005f00; text-decoration-color: #005f00; font-weight: bold\">Dopamine: #################</span>\n",
       "</pre>\n"
      ],
      "text/plain": [
       "- \u001b[1;38;5;22mDopamine: #################\u001b[0m\n"
      ]
     },
     "metadata": {},
     "output_type": "display_data"
    },
    {
     "data": {
      "text/html": [
       "<pre style=\"white-space:pre;overflow-x:auto;line-height:normal;font-family:Menlo,'DejaVu Sans Mono',consolas,'Courier New',monospace\">- <span style=\"color: #005f00; text-decoration-color: #005f00; font-weight: bold\">Endorphins: #</span>\n",
       "</pre>\n"
      ],
      "text/plain": [
       "- \u001b[1;38;5;22mEndorphins: #\u001b[0m\n"
      ]
     },
     "metadata": {},
     "output_type": "display_data"
    },
    {
     "data": {
      "text/html": [
       "<pre style=\"white-space:pre;overflow-x:auto;line-height:normal;font-family:Menlo,'DejaVu Sans Mono',consolas,'Courier New',monospace\">- <span style=\"color: #870000; text-decoration-color: #870000; font-weight: bold\">Cortisol: ###########################</span>\n",
       "</pre>\n"
      ],
      "text/plain": [
       "- \u001b[1;38;5;88mCortisol: ###########################\u001b[0m\n"
      ]
     },
     "metadata": {},
     "output_type": "display_data"
    },
    {
     "data": {
      "text/html": [
       "<pre style=\"white-space:pre;overflow-x:auto;line-height:normal;font-family:Menlo,'DejaVu Sans Mono',consolas,'Courier New',monospace\">\n",
       "<span style=\"color: #008080; text-decoration-color: #008080; font-weight: bold\">1</span>. <span style=\"color: #af00d7; text-decoration-color: #af00d7; font-weight: bold\">Binge on Internet</span>\n",
       "<span style=\"color: #008080; text-decoration-color: #008080; font-weight: bold\">2</span>. <span style=\"color: #af00d7; text-decoration-color: #af00d7; font-weight: bold\">Work</span>\n",
       "<span style=\"color: #008080; text-decoration-color: #008080; font-weight: bold\">3</span>. <span style=\"color: #af00d7; text-decoration-color: #af00d7; font-weight: bold\">Exercise</span>\n",
       "<span style=\"color: #008080; text-decoration-color: #008080; font-weight: bold\">4</span>. <span style=\"color: #af00d7; text-decoration-color: #af00d7; font-weight: bold\">Socialise</span>\n",
       "<span style=\"color: #008080; text-decoration-color: #008080; font-weight: bold\">5</span>. <span style=\"color: #af00d7; text-decoration-color: #af00d7; font-weight: bold\">Drink Alcohol</span>\n",
       "<span style=\"color: #008080; text-decoration-color: #008080; font-weight: bold\">6</span>. <span style=\"color: #af00d7; text-decoration-color: #af00d7; font-weight: bold\">Smoke</span>\n",
       "\n",
       "</pre>\n"
      ],
      "text/plain": [
       "\n",
       "\u001b[1;36m1\u001b[0m. \u001b[1;38;5;128mBinge on Internet\u001b[0m\n",
       "\u001b[1;36m2\u001b[0m. \u001b[1;38;5;128mWork\u001b[0m\n",
       "\u001b[1;36m3\u001b[0m. \u001b[1;38;5;128mExercise\u001b[0m\n",
       "\u001b[1;36m4\u001b[0m. \u001b[1;38;5;128mSocialise\u001b[0m\n",
       "\u001b[1;36m5\u001b[0m. \u001b[1;38;5;128mDrink Alcohol\u001b[0m\n",
       "\u001b[1;36m6\u001b[0m. \u001b[1;38;5;128mSmoke\u001b[0m\n",
       "\n"
      ]
     },
     "metadata": {},
     "output_type": "display_data"
    },
    {
     "data": {
      "text/html": [
       "<pre style=\"white-space:pre;overflow-x:auto;line-height:normal;font-family:Menlo,'DejaVu Sans Mono',consolas,'Courier New',monospace\">Choose from 1 to 6 <span style=\"color: #008080; text-decoration-color: #008080; font-weight: bold\">(2)</span>: </pre>\n"
      ],
      "text/plain": [
       "Choose from 1 to 6 \u001b[1;36m(2)\u001b[0m: "
      ]
     },
     "metadata": {},
     "output_type": "display_data"
    },
    {
     "data": {
      "text/html": [
       "<pre style=\"white-space:pre;overflow-x:auto;line-height:normal;font-family:Menlo,'DejaVu Sans Mono',consolas,'Courier New',monospace\">** Current Day: <span style=\"color: #af00d7; text-decoration-color: #af00d7; font-weight: bold\">52</span>, Current Hour: <span style=\"color: #af00d7; text-decoration-color: #af00d7; font-weight: bold\">2</span>, Time Left: <span style=\"color: #af00d7; text-decoration-color: #af00d7; font-weight: bold\">7534</span> hrs ** \n",
       "\n",
       "</pre>\n"
      ],
      "text/plain": [
       "** Current Day: \u001b[1;38;5;128m52\u001b[0m, Current Hour: \u001b[1;38;5;128m2\u001b[0m, Time Left: \u001b[1;38;5;128m7534\u001b[0m hrs ** \n",
       "\n"
      ]
     },
     "metadata": {},
     "output_type": "display_data"
    },
    {
     "data": {
      "text/html": [
       "<pre style=\"white-space:pre;overflow-x:auto;line-height:normal;font-family:Menlo,'DejaVu Sans Mono',consolas,'Courier New',monospace\">- <span style=\"color: #005f00; text-decoration-color: #005f00; font-weight: bold\">Serotonin: ############################</span>\n",
       "</pre>\n"
      ],
      "text/plain": [
       "- \u001b[1;38;5;22mSerotonin: ############################\u001b[0m\n"
      ]
     },
     "metadata": {},
     "output_type": "display_data"
    },
    {
     "data": {
      "text/html": [
       "<pre style=\"white-space:pre;overflow-x:auto;line-height:normal;font-family:Menlo,'DejaVu Sans Mono',consolas,'Courier New',monospace\">- <span style=\"color: #005f00; text-decoration-color: #005f00; font-weight: bold\">Oxytocin: #</span>\n",
       "</pre>\n"
      ],
      "text/plain": [
       "- \u001b[1;38;5;22mOxytocin: #\u001b[0m\n"
      ]
     },
     "metadata": {},
     "output_type": "display_data"
    },
    {
     "data": {
      "text/html": [
       "<pre style=\"white-space:pre;overflow-x:auto;line-height:normal;font-family:Menlo,'DejaVu Sans Mono',consolas,'Courier New',monospace\">- <span style=\"color: #005f00; text-decoration-color: #005f00; font-weight: bold\">Dopamine: ##################</span>\n",
       "</pre>\n"
      ],
      "text/plain": [
       "- \u001b[1;38;5;22mDopamine: ##################\u001b[0m\n"
      ]
     },
     "metadata": {},
     "output_type": "display_data"
    },
    {
     "data": {
      "text/html": [
       "<pre style=\"white-space:pre;overflow-x:auto;line-height:normal;font-family:Menlo,'DejaVu Sans Mono',consolas,'Courier New',monospace\">- <span style=\"color: #005f00; text-decoration-color: #005f00; font-weight: bold\">Endorphins: #</span>\n",
       "</pre>\n"
      ],
      "text/plain": [
       "- \u001b[1;38;5;22mEndorphins: #\u001b[0m\n"
      ]
     },
     "metadata": {},
     "output_type": "display_data"
    },
    {
     "data": {
      "text/html": [
       "<pre style=\"white-space:pre;overflow-x:auto;line-height:normal;font-family:Menlo,'DejaVu Sans Mono',consolas,'Courier New',monospace\">- <span style=\"color: #870000; text-decoration-color: #870000; font-weight: bold\">Cortisol: ############################</span>\n",
       "</pre>\n"
      ],
      "text/plain": [
       "- \u001b[1;38;5;88mCortisol: ############################\u001b[0m\n"
      ]
     },
     "metadata": {},
     "output_type": "display_data"
    },
    {
     "data": {
      "text/html": [
       "<pre style=\"white-space:pre;overflow-x:auto;line-height:normal;font-family:Menlo,'DejaVu Sans Mono',consolas,'Courier New',monospace\">\n",
       "<span style=\"color: #008080; text-decoration-color: #008080; font-weight: bold\">1</span>. <span style=\"color: #af00d7; text-decoration-color: #af00d7; font-weight: bold\">Binge on Internet</span>\n",
       "<span style=\"color: #008080; text-decoration-color: #008080; font-weight: bold\">2</span>. <span style=\"color: #af00d7; text-decoration-color: #af00d7; font-weight: bold\">Work</span>\n",
       "<span style=\"color: #008080; text-decoration-color: #008080; font-weight: bold\">3</span>. <span style=\"color: #af00d7; text-decoration-color: #af00d7; font-weight: bold\">Exercise</span>\n",
       "<span style=\"color: #008080; text-decoration-color: #008080; font-weight: bold\">4</span>. <span style=\"color: #af00d7; text-decoration-color: #af00d7; font-weight: bold\">Socialise</span>\n",
       "<span style=\"color: #008080; text-decoration-color: #008080; font-weight: bold\">5</span>. <span style=\"color: #af00d7; text-decoration-color: #af00d7; font-weight: bold\">Drink Alcohol</span>\n",
       "<span style=\"color: #008080; text-decoration-color: #008080; font-weight: bold\">6</span>. <span style=\"color: #af00d7; text-decoration-color: #af00d7; font-weight: bold\">Smoke</span>\n",
       "\n",
       "</pre>\n"
      ],
      "text/plain": [
       "\n",
       "\u001b[1;36m1\u001b[0m. \u001b[1;38;5;128mBinge on Internet\u001b[0m\n",
       "\u001b[1;36m2\u001b[0m. \u001b[1;38;5;128mWork\u001b[0m\n",
       "\u001b[1;36m3\u001b[0m. \u001b[1;38;5;128mExercise\u001b[0m\n",
       "\u001b[1;36m4\u001b[0m. \u001b[1;38;5;128mSocialise\u001b[0m\n",
       "\u001b[1;36m5\u001b[0m. \u001b[1;38;5;128mDrink Alcohol\u001b[0m\n",
       "\u001b[1;36m6\u001b[0m. \u001b[1;38;5;128mSmoke\u001b[0m\n",
       "\n"
      ]
     },
     "metadata": {},
     "output_type": "display_data"
    },
    {
     "data": {
      "text/html": [
       "<pre style=\"white-space:pre;overflow-x:auto;line-height:normal;font-family:Menlo,'DejaVu Sans Mono',consolas,'Courier New',monospace\">Choose from 1 to 6 <span style=\"color: #008080; text-decoration-color: #008080; font-weight: bold\">(2)</span>: </pre>\n"
      ],
      "text/plain": [
       "Choose from 1 to 6 \u001b[1;36m(2)\u001b[0m: "
      ]
     },
     "metadata": {},
     "output_type": "display_data"
    },
    {
     "data": {
      "image/png": "[encoded data removed]",
      "text/plain": [
       "<Figure size 640x480 with 1 Axes>"
      ]
     },
     "metadata": {},
     "output_type": "display_data"
    }
   ],
   "source": [
    "if __name__ == \"__main__\":\n",
    "    Simulation() "
   ]
  }
 ],
 "metadata": {
  "kernelspec": {
   "display_name": "venv_research",
   "language": "python",
   "name": "python3"
  },
  "language_info": {
   "codemirror_mode": {
    "name": "ipython",
    "version": 3
   },
   "file_extension": ".py",
   "mimetype": "text/x-python",
   "name": "python",
   "nbconvert_exporter": "python",
   "pygments_lexer": "ipython3",
   "version": "3.8.10"
  },
  "orig_nbformat": 4,
  "vscode": {
   "interpreter": {
    "hash": "5794a404577a32ff418895c331e736516539893dd666baf27c4118b4263cef3b"
   }
  }
 },
 "nbformat": 4,
 "nbformat_minor": 2
}
