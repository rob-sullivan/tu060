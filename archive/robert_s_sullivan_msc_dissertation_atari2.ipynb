{
 "cells": [
  {
   "cell_type": "code",
   "execution_count": 1,
   "metadata": {},
   "outputs": [],
   "source": [
    "#https://gymnasium.farama.org/environments/atari/\n",
    "#pip install gymnasium[atari]\n",
    "#pip install gymnasium[accept-rom-license]\n",
    "#pip install moviepy\n",
    "#https://www.youtube.com/watch?v=hCeJeq8U0lo&t=447s\n",
    "import gymnasium as gym\n",
    "import random\n",
    "\n",
    "#image preprocessing\n",
    "from PIL import Image, ImageStat\n",
    "from gymnasium.core import ObservationWrapper\n",
    "from gymnasium.spaces.box import Box\n",
    "import numpy as np\n",
    "\n",
    "#n-step\n",
    "from collections import namedtuple, deque\n",
    "\n",
    "#deep learning\n",
    "import torch\n",
    "import torch.nn as nn\n",
    "import torch.nn.functional as F\n",
    "import torch.optim as optim\n",
    "from torch.autograd import Variable\n",
    "\n",
    "#enviornment monitoring\n",
    "from gymnasium.wrappers import RecordVideo\n",
    "\n",
    "import matplotlib.pyplot as plt"
   ]
  },
  {
   "attachments": {},
   "cell_type": "markdown",
   "metadata": {},
   "source": [
    "## Deep Q-Learning Agent"
   ]
  },
  {
   "attachments": {},
   "cell_type": "markdown",
   "metadata": {},
   "source": [
    "### Image Preprocessing"
   ]
  },
  {
   "cell_type": "code",
   "execution_count": 2,
   "metadata": {},
   "outputs": [],
   "source": [
    "class PreprocessImage(ObservationWrapper):\n",
    "    \n",
    "    def __init__(self, env, height = 64, width = 64, grayscale = True, crop = lambda img: img):\n",
    "        super(PreprocessImage, self).__init__(env)\n",
    "        self.img_size = (height, width)\n",
    "        self.grayscale = grayscale\n",
    "        self.crop = crop\n",
    "        n_colors = 1 if self.grayscale else 3\n",
    "        self.observation_space = Box(0.0, 1.0, [n_colors, height, width])\n",
    "\n",
    "    def observation(self, img):\n",
    "        img = self.crop(img)\n",
    "        #img = imresize(img, self.img_size) #deprecated \n",
    "        img = Image.fromarray(img)\n",
    "        img.resize(self.img_size)\n",
    "        if self.grayscale:\n",
    "            img = img.convert('L')  # Convert to grayscale\n",
    "        else:\n",
    "            img = img.convert('RGB')  # Convert to RGB if necessary\n",
    "        img = np.array(img)\n",
    "        if img.ndim == 2:  # Add channel dimension if missing\n",
    "            img = np.expand_dims(img, axis=2)\n",
    "        img = np.transpose(img, (2, 0, 1))\n",
    "        img = img.astype('float32') / 255.\n",
    "        return img"
   ]
  },
  {
   "attachments": {},
   "cell_type": "markdown",
   "metadata": {},
   "source": [
    "### N-Step"
   ]
  },
  {
   "cell_type": "code",
   "execution_count": 3,
   "metadata": {},
   "outputs": [],
   "source": [
    "Step = namedtuple('Step', ['state', 'action', 'reward', 'done'])\n",
    "class NStepProgress:\n",
    "    \n",
    "    def __init__(self, env, ai, n_step):\n",
    "        self.ai = ai\n",
    "        self.rewards = []\n",
    "        self.env = env\n",
    "        self.n_step = n_step\n",
    "    \n",
    "    def __iter__(self):\n",
    "        state = self.env.reset()\n",
    "        history = deque()\n",
    "        reward = 0.0\n",
    "        while True:\n",
    "            action = self.ai(np.array([state]))[0][0]\n",
    "            next_state, r, is_done, _ = self.env.step(action)\n",
    "            reward += r\n",
    "            history.append(Step(state = state, action = action, reward = r, done = is_done))\n",
    "            while len(history) > self.n_step + 1:\n",
    "                history.popleft()\n",
    "            if len(history) == self.n_step + 1:\n",
    "                yield tuple(history)\n",
    "            state = next_state\n",
    "            if is_done:\n",
    "                if len(history) > self.n_step + 1:\n",
    "                    history.popleft()\n",
    "                while len(history) >= 1:\n",
    "                    yield tuple(history)\n",
    "                    history.popleft()\n",
    "                self.rewards.append(reward)\n",
    "                reward = 0.0\n",
    "                state = self.env.reset()\n",
    "                history.clear()\n",
    "    \n",
    "    def rewards_steps(self):\n",
    "        rewards_steps = self.rewards\n",
    "        self.rewards = []\n",
    "        return rewards_steps"
   ]
  },
  {
   "attachments": {},
   "cell_type": "markdown",
   "metadata": {},
   "source": [
    "### Experience Replay"
   ]
  },
  {
   "cell_type": "code",
   "execution_count": 4,
   "metadata": {},
   "outputs": [],
   "source": [
    "class ReplayMemory:\n",
    "    \n",
    "    def __init__(self, n_steps, capacity = 10000):\n",
    "        self.capacity = capacity\n",
    "        self.n_steps = n_steps\n",
    "        self.n_steps_iter = iter(n_steps)\n",
    "        self.buffer = deque()\n",
    "\n",
    "    def sample_batch(self, batch_size): # creates an iterator that returns random batches\n",
    "        ofs = 0\n",
    "        vals = list(self.buffer)\n",
    "        np.random.shuffle(vals)\n",
    "        while (ofs+1)*batch_size <= len(self.buffer):\n",
    "            yield vals[ofs*batch_size:(ofs+1)*batch_size]\n",
    "            ofs += 1\n",
    "\n",
    "    def run_steps(self, samples):\n",
    "        while samples > 0:\n",
    "            entry = next(self.n_steps_iter) # 10 consecutive steps\n",
    "            self.buffer.append(entry) # we put 200 for the current episode\n",
    "            samples -= 1\n",
    "        while len(self.buffer) > self.capacity: # we accumulate no more than the capacity (10000)\n",
    "            self.buffer.popleft()"
   ]
  },
  {
   "attachments": {},
   "cell_type": "markdown",
   "metadata": {},
   "source": [
    "### Convelutional Neural Network"
   ]
  },
  {
   "cell_type": "code",
   "execution_count": 3,
   "metadata": {},
   "outputs": [],
   "source": [
    "class CNN(nn.Module):\n",
    "    def __init__(self, number_actions):\n",
    "        super(CNN, self).__init__() # call nn module init\n",
    "        self.convolution1 = nn.Conv2d(in_channels=1,\n",
    "                                      out_channels=32,\n",
    "                                      kernel_size=5)\n",
    "        self.convolution2 = nn.Conv2d(in_channels=32,\n",
    "                                      out_channels=32,\n",
    "                                      kernel_size=3)\n",
    "        self.convolution3 = nn.Conv2d(in_channels=32,\n",
    "                                      out_channels=64,\n",
    "                                      kernel_size=2)\n",
    "        self.fc1 = nn.Linear(in_features=self.count_neurons((1, 256, 256)),\n",
    "                             out_features=40)\n",
    "        self.fc2 = nn.Linear(in_features=40, \n",
    "                             out_features=number_actions)\n",
    "\n",
    "    def count_neurons(self, image_dim):\n",
    "        x = Variable(torch.rand(1, *image_dim))\n",
    "        x = F.relu(F.max_pool2d(self.convolution1(x), 3, 2))\n",
    "        x = F.relu(F.max_pool2d(self.convolution2(x), 3, 2))\n",
    "        x = F.relu(F.max_pool2d(self.convolution3(x), 3, 2))\n",
    "        return x.data.view(1, -1).size(1)\n",
    "    \n",
    "    def forward(self, x):\n",
    "        x = F.relu(F.max_pool2d(self.convolution1(x), 3, 2))\n",
    "        x = F.relu(F.max_pool2d(self.convolution2(x), 3, 2))\n",
    "        x = F.relu(F.max_pool2d(self.convolution3(x), 3, 2))\n",
    "        x = x.view(x.size(0), -1)\n",
    "        x = F.relu(self.fc1(x))\n",
    "        x = self.fc2(x)\n",
    "        return x"
   ]
  },
  {
   "attachments": {},
   "cell_type": "markdown",
   "metadata": {},
   "source": [
    "### SoftmaxBody"
   ]
  },
  {
   "cell_type": "code",
   "execution_count": 6,
   "metadata": {},
   "outputs": [],
   "source": [
    "class Softmax(nn.Module):\n",
    "    def __init__(self, T):\n",
    "        super(Softmax, self).__init__()\n",
    "        self.T = T\n",
    "\n",
    "    def forward(self, outputs, number_actions=1):\n",
    "        probs = F.softmax(outputs * self.T)\n",
    "        actions = probs.multinomial(num_samples=number_actions)\n",
    "        return actions"
   ]
  },
  {
   "attachments": {},
   "cell_type": "markdown",
   "metadata": {},
   "source": [
    "### Eligibility Trace"
   ]
  },
  {
   "cell_type": "code",
   "execution_count": 7,
   "metadata": {},
   "outputs": [],
   "source": [
    "def eligibility_trace(batch, cnn):\n",
    "    gamma = 0.99\n",
    "    inputs = []\n",
    "    targets = []\n",
    "    for series in batch:\n",
    "        input = Variable(torch.from_numpy(np.array([series[0].state, series[-1].state], dtype=np.float32)))\n",
    "        output = cnn(input)\n",
    "        cumul_reward = 0.0 if series[-1].done else output[1].data.max()\n",
    "        for step in reversed(series[:-1]):\n",
    "            cumul_reward = step.reward + gamma * cumul_reward\n",
    "            state = series[0].state\n",
    "            target = output[0].data\n",
    "            target[series[0].action] = cumul_reward\n",
    "            inputs.append(state)\n",
    "            targets.append(target)\n",
    "            return torch.from_numpy(np.array(inputs, dtype = np.float32)), torch.stack(targets)"
   ]
  },
  {
   "attachments": {},
   "cell_type": "markdown",
   "metadata": {},
   "source": [
    "### Agent (DQN Learning System )"
   ]
  },
  {
   "cell_type": "code",
   "execution_count": 8,
   "metadata": {},
   "outputs": [],
   "source": [
    "class AI():\n",
    "    def __init__(self, CNN, SoftMax):\n",
    "        self.cnn = CNN\n",
    "        self.softmax = SoftMax\n",
    "\n",
    "    def __call__(self, inputs):\n",
    "        input = Variable(torch.from_numpy(np.array(inputs, dtype = np.float32)))\n",
    "        output = self.cnn(input)\n",
    "        actions = self.softmax(output)\n",
    "        return actions.data.numpy()"
   ]
  },
  {
   "cell_type": "code",
   "execution_count": 9,
   "metadata": {},
   "outputs": [],
   "source": [
    "class MA:\n",
    "    def __init__(self, size):\n",
    "        self.list_of_rewards = []\n",
    "        self.size = size\n",
    "    def add(self, rewards):\n",
    "        if isinstance(rewards, list):\n",
    "            self.list_of_rewards += rewards\n",
    "        else:\n",
    "            self.list_of_rewards.append(rewards)\n",
    "        while len(self.list_of_rewards) > self.size:\n",
    "            del self.list_of_rewards[0]\n",
    "    def average(self):\n",
    "        return np.mean(self.list_of_rewards)"
   ]
  },
  {
   "attachments": {},
   "cell_type": "markdown",
   "metadata": {},
   "source": [
    "## Atari Simulator Experiment"
   ]
  },
  {
   "attachments": {},
   "cell_type": "markdown",
   "metadata": {},
   "source": [
    "### 1,000,000 Capacity Size"
   ]
  },
  {
   "cell_type": "code",
   "execution_count": 10,
   "metadata": {},
   "outputs": [
    {
     "name": "stderr",
     "output_type": "stream",
     "text": [
      "d:\\Projects\\repos\\tu060\\venv_research\\lib\\site-packages\\gymnasium\\wrappers\\record_video.py:87: UserWarning: \u001b[33mWARN: Overwriting existing videos at d:\\Projects\\repos\\tu060\\videos folder (try specifying a different `video_folder` for the `RecordVideo` wrapper if this is not desired)\u001b[0m\n",
      "  logger.warn(\n"
     ]
    }
   ],
   "source": [
    "env = PreprocessImage(gym.make('ALE/SpaceInvaders-v5', render_mode=\"human\"), width = 256, height = 256, grayscale = True)\n",
    "env = RecordVideo(env, \"videos\", episode_trigger = lambda x: x % 2 == 0)\n",
    "number_actions = env.action_space.n"
   ]
  },
  {
   "attachments": {},
   "cell_type": "markdown",
   "metadata": {},
   "source": [
    "#### Create Agent"
   ]
  },
  {
   "cell_type": "code",
   "execution_count": 11,
   "metadata": {},
   "outputs": [],
   "source": [
    "cnn = CNN(number_actions)\n",
    "softmax = Softmax(T = 1.0)\n",
    "ai = AI(CNN=cnn, SoftMax=softmax)\n",
    "n_steps = NStepProgress(env=env, ai=ai, n_step=10)\n",
    "memory = ReplayMemory(n_steps=n_steps, capacity=10000)\n",
    "ma = MA(100) #moving average\n",
    "loss = nn.MSELoss()\n",
    "optimizer = optim.Adam(cnn.parameters(), lr = 0.001)"
   ]
  },
  {
   "attachments": {},
   "cell_type": "markdown",
   "metadata": {},
   "source": [
    "#### Simulate the environment"
   ]
  },
  {
   "attachments": {},
   "cell_type": "markdown",
   "metadata": {},
   "source": [
    "```\n",
    "episodes = 20\n",
    "for episode in range(episodes):\n",
    "    #state = env.reset()\n",
    "    #done = False\n",
    "    #score = 0\n",
    "\n",
    "    #while not done:\n",
    "    #    env.render()\n",
    "    #    action = random.choice([0,1,2,3,4,5])\n",
    "    #    observation, reward, terminated, truncated, info = env.step(action)\n",
    "    #    score +=reward\n",
    "    #    done = terminated or truncated\n",
    "    #print(\"episode: \" + str(episode) + \", score: \" + str(score))\n",
    "    #env.close()\n",
    "\n",
    "    memory.run_steps(samples=200)\n",
    "    for batch in memory.sample_batch(128):\n",
    "        inputs, targets = eligibility_trace(batch)\n",
    "        inputs, targets = Variable(inputs), Variable(targets)\n",
    "        predictions = cnn(inputs)\n",
    "        loss_error = loss(predictions, targets)\n",
    "        optimizer.zero_grad()\n",
    "        loss_error.backward()\n",
    "        optimizer.step()\n",
    "    rewards_steps = n_steps.rewards_steps()\n",
    "    ma.add(rewards_steps)\n",
    "    avg_reward = ma.average()\n",
    "    print(\"Epoch: %s, Average Reward: %s\" % (str(episode), str(avg_reward)))\n",
    "```"
   ]
  },
  {
   "cell_type": "code",
   "execution_count": 2,
   "metadata": {},
   "outputs": [],
   "source": [
    "env = gym.make('ALE/SpaceInvaders-v5')"
   ]
  },
  {
   "cell_type": "code",
   "execution_count": 3,
   "metadata": {},
   "outputs": [
    {
     "name": "stdout",
     "output_type": "stream",
     "text": [
      "Number of possible actions:  6\n"
     ]
    }
   ],
   "source": [
    "a = env.action_space.n\n",
    "print(\"Number of possible actions: \", a)"
   ]
  },
  {
   "cell_type": "code",
   "execution_count": 4,
   "metadata": {},
   "outputs": [
    {
     "name": "stdout",
     "output_type": "stream",
     "text": [
      "(210, 160, 3)\n"
     ]
    }
   ],
   "source": [
    "observation, info = env.reset(seed=42)\n",
    "observation, reward, terminated, truncated, info = env.step(env.action_space.sample())\n",
    "print(observation.shape)\n",
    "env.close()"
   ]
  },
  {
   "cell_type": "code",
   "execution_count": 7,
   "metadata": {},
   "outputs": [
    {
     "data": {
      "image/png": "[encoded data removed]",
      "text/plain": [
       "<Figure size 640x480 with 1 Axes>"
      ]
     },
     "metadata": {},
     "output_type": "display_data"
    },
    {
     "name": "stdout",
     "output_type": "stream",
     "text": [
      "(210, 160, 3)\n"
     ]
    }
   ],
   "source": [
    "observation, info = env.reset(seed=42)\n",
    "plt.imshow(observation)\n",
    "plt.show()\n",
    "print(observation.shape)"
   ]
  },
  {
   "cell_type": "code",
   "execution_count": 4,
   "metadata": {},
   "outputs": [],
   "source": [
    "env = PreprocessImage(gym.make('ALE/SpaceInvaders-v5', render_mode='rgb_array'), width = 210, height = 160, grayscale = True) # render_mode=\"human\""
   ]
  },
  {
   "cell_type": "code",
   "execution_count": 5,
   "metadata": {},
   "outputs": [],
   "source": [
    "observation, info = env.reset(seed=42)\n",
    "done = False\n",
    "img_array=[]"
   ]
  },
  {
   "cell_type": "code",
   "execution_count": 8,
   "metadata": {},
   "outputs": [
    {
     "ename": "TypeError",
     "evalue": "empty() received an invalid combination of arguments - got (tuple, dtype=NoneType, device=NoneType), but expected one of:\n * (tuple of ints size, *, tuple of names names, torch.memory_format memory_format, torch.dtype dtype, torch.layout layout, torch.device device, bool pin_memory, bool requires_grad)\n * (tuple of ints size, *, torch.memory_format memory_format, Tensor out, torch.dtype dtype, torch.layout layout, torch.device device, bool pin_memory, bool requires_grad)\n",
     "output_type": "error",
     "traceback": [
      "\u001b[1;31m---------------------------------------------------------------------------\u001b[0m",
      "\u001b[1;31mTypeError\u001b[0m                                 Traceback (most recent call last)",
      "Cell \u001b[1;32mIn[8], line 5\u001b[0m\n\u001b[0;32m      2\u001b[0m env\u001b[39m.\u001b[39mrender() \n\u001b[0;32m      3\u001b[0m \u001b[39m#observation, reward, terminated, truncated, info = env.step(env.action_space.sample())\u001b[39;00m\n\u001b[0;32m      4\u001b[0m \u001b[39m# Feeding the game screen and getting the Q values for each action\u001b[39;00m\n\u001b[1;32m----> 5\u001b[0m actions \u001b[39m=\u001b[39m CNN(Variable(torch\u001b[39m.\u001b[39;49mfrom_numpy(observation\u001b[39m.\u001b[39;49mreshape(\u001b[39m1\u001b[39;49m, \u001b[39m1\u001b[39;49m, \u001b[39m210\u001b[39;49m, \u001b[39m160\u001b[39;49m))))\n\u001b[0;32m      6\u001b[0m \u001b[39m# Getting the action\u001b[39;00m\n\u001b[0;32m      7\u001b[0m action \u001b[39m=\u001b[39m np\u001b[39m.\u001b[39margmax(actions\u001b[39m.\u001b[39mdetach()\u001b[39m.\u001b[39mnumpy(), axis\u001b[39m=\u001b[39m\u001b[39m-\u001b[39m\u001b[39m1\u001b[39m)\n",
      "Cell \u001b[1;32mIn[3], line 15\u001b[0m, in \u001b[0;36mCNN.__init__\u001b[1;34m(self, number_actions)\u001b[0m\n\u001b[0;32m     10\u001b[0m \u001b[39mself\u001b[39m\u001b[39m.\u001b[39mconvolution3 \u001b[39m=\u001b[39m nn\u001b[39m.\u001b[39mConv2d(in_channels\u001b[39m=\u001b[39m\u001b[39m32\u001b[39m,\n\u001b[0;32m     11\u001b[0m                               out_channels\u001b[39m=\u001b[39m\u001b[39m64\u001b[39m,\n\u001b[0;32m     12\u001b[0m                               kernel_size\u001b[39m=\u001b[39m\u001b[39m2\u001b[39m)\n\u001b[0;32m     13\u001b[0m \u001b[39mself\u001b[39m\u001b[39m.\u001b[39mfc1 \u001b[39m=\u001b[39m nn\u001b[39m.\u001b[39mLinear(in_features\u001b[39m=\u001b[39m\u001b[39mself\u001b[39m\u001b[39m.\u001b[39mcount_neurons((\u001b[39m1\u001b[39m, \u001b[39m256\u001b[39m, \u001b[39m256\u001b[39m)),\n\u001b[0;32m     14\u001b[0m                      out_features\u001b[39m=\u001b[39m\u001b[39m40\u001b[39m)\n\u001b[1;32m---> 15\u001b[0m \u001b[39mself\u001b[39m\u001b[39m.\u001b[39mfc2 \u001b[39m=\u001b[39m nn\u001b[39m.\u001b[39;49mLinear(in_features\u001b[39m=\u001b[39;49m\u001b[39m40\u001b[39;49m, \n\u001b[0;32m     16\u001b[0m                      out_features\u001b[39m=\u001b[39;49mnumber_actions)\n",
      "File \u001b[1;32md:\\Projects\\repos\\tu060\\venv_research\\lib\\site-packages\\torch\\nn\\modules\\linear.py:96\u001b[0m, in \u001b[0;36mLinear.__init__\u001b[1;34m(self, in_features, out_features, bias, device, dtype)\u001b[0m\n\u001b[0;32m     94\u001b[0m \u001b[39mself\u001b[39m\u001b[39m.\u001b[39min_features \u001b[39m=\u001b[39m in_features\n\u001b[0;32m     95\u001b[0m \u001b[39mself\u001b[39m\u001b[39m.\u001b[39mout_features \u001b[39m=\u001b[39m out_features\n\u001b[1;32m---> 96\u001b[0m \u001b[39mself\u001b[39m\u001b[39m.\u001b[39mweight \u001b[39m=\u001b[39m Parameter(torch\u001b[39m.\u001b[39;49mempty((out_features, in_features), \u001b[39m*\u001b[39;49m\u001b[39m*\u001b[39;49mfactory_kwargs))\n\u001b[0;32m     97\u001b[0m \u001b[39mif\u001b[39;00m bias:\n\u001b[0;32m     98\u001b[0m     \u001b[39mself\u001b[39m\u001b[39m.\u001b[39mbias \u001b[39m=\u001b[39m Parameter(torch\u001b[39m.\u001b[39mempty(out_features, \u001b[39m*\u001b[39m\u001b[39m*\u001b[39mfactory_kwargs))\n",
      "\u001b[1;31mTypeError\u001b[0m: empty() received an invalid combination of arguments - got (tuple, dtype=NoneType, device=NoneType), but expected one of:\n * (tuple of ints size, *, tuple of names names, torch.memory_format memory_format, torch.dtype dtype, torch.layout layout, torch.device device, bool pin_memory, bool requires_grad)\n * (tuple of ints size, *, torch.memory_format memory_format, Tensor out, torch.dtype dtype, torch.layout layout, torch.device device, bool pin_memory, bool requires_grad)\n"
     ]
    }
   ],
   "source": [
    "while not done:\n",
    "    env.render() \n",
    "    #observation, reward, terminated, truncated, info = env.step(env.action_space.sample())\n",
    "    # Feeding the game screen and getting the Q values for each action\n",
    "    actions = CNN(Variable(Variable(torch.from_numpy(observation.reshape(1, 1, 210, 160)))))\n",
    "    # Getting the action\n",
    "    action = np.argmax(actions.detach().numpy(), axis=-1)\n",
    "    # Now performing the action and moving to the next state, next_obs, receive reward\n",
    "    observation, reward, terminated, truncated, info = env.step(action)\n",
    "    img_array.append(observation)\n",
    "    done = terminated or truncated\n",
    "env.close()"
   ]
  }
 ],
 "metadata": {
  "kernelspec": {
   "display_name": "venv_research",
   "language": "python",
   "name": "python3"
  },
  "language_info": {
   "codemirror_mode": {
    "name": "ipython",
    "version": 3
   },
   "file_extension": ".py",
   "mimetype": "text/x-python",
   "name": "python",
   "nbconvert_exporter": "python",
   "pygments_lexer": "ipython3",
   "version": "3.8.0"
  },
  "orig_nbformat": 4
 },
 "nbformat": 4,
 "nbformat_minor": 2
}
