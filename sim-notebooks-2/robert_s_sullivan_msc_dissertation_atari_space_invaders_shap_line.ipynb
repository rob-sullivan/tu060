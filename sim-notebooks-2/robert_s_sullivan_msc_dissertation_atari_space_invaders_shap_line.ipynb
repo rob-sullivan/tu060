{
 "cells": [
  {
   "attachments": {},
   "cell_type": "markdown",
   "metadata": {},
   "source": [
    "# Atari\n",
    "ALE/SpaceInvaders-v5"
   ]
  },
  {
   "attachments": {},
   "cell_type": "markdown",
   "metadata": {},
   "source": [
    "## Import Libraries"
   ]
  },
  {
   "cell_type": "code",
   "execution_count": 12,
   "metadata": {},
   "outputs": [],
   "source": [
    "#https://gymnasium.farama.org/environments/atari/\n",
    "#pip install gymnasium[atari]\n",
    "#pip install gymnasium[accept-rom-license]\n",
    "#pip install moviepy\n",
    "#https://www.youtube.com/watch?v=hCeJeq8U0lo&t=447s\n",
    "import datetime\n",
    "\n",
    "#test environments\n",
    "import gymnasium as gym\n",
    "\n",
    "#image preprocessing\n",
    "from PIL import Image\n",
    "from gymnasium.core import ObservationWrapper\n",
    "from gymnasium.spaces.box import Box\n",
    "import numpy as np\n",
    "import matplotlib.pyplot as plt\n",
    "\n",
    "#n-step experience replay\n",
    "from collections import namedtuple, deque\n",
    "\n",
    "#deep learning\n",
    "import torch\n",
    "import torch.nn as nn\n",
    "import torch.nn.functional as F\n",
    "import torch.optim as optim\n",
    "from torch.autograd import Variable\n",
    "\n",
    "from gymnasium.wrappers import RecordVideo #enviornment monitoring\n",
    "import random\n",
    "\n",
    "from sklearn.model_selection import train_test_split #for splitting memory into training and testing\n",
    "import pandas as pd\n",
    "\n",
    "import shap\n",
    "import math\n",
    "import datetime\n",
    "\n",
    "import seaborn as sns\n",
    "import statsmodels.api as sm\n",
    "import statsmodels.stats.multicomp as mc\n",
    "from statsmodels.formula.api import ols"
   ]
  },
  {
   "cell_type": "code",
   "execution_count": 13,
   "metadata": {},
   "outputs": [],
   "source": [
    "meter = {\n",
    "  \"episodes\": 0,\n",
    "  'steps': 0,\n",
    "  \"steps_from_history\": 0,\n",
    "  \"steps_to_replay\": 0,\n",
    "  \"steps_from_replay\": 0,\n",
    "  \"samples_to_xai\": 0,\n",
    "  \"samples_to_cnn\": 0\n",
    "}"
   ]
  },
  {
   "attachments": {},
   "cell_type": "markdown",
   "metadata": {},
   "source": [
    "## Deep Convelutional Q-Learning Agent"
   ]
  },
  {
   "cell_type": "code",
   "execution_count": 14,
   "metadata": {},
   "outputs": [],
   "source": [
    "### Convelutional Neural Network\n",
    "class CNN(nn.Module):\n",
    "    def __init__(self, number_actions):\n",
    "        super(CNN, self).__init__() # call nn module init\n",
    "        #define what each layer in CNN is\n",
    "        self.convolution1 = nn.Conv2d(in_channels=1, out_channels=32, kernel_size=5)\n",
    "        self.convolution2 = nn.Conv2d(in_channels=32, out_channels=32, kernel_size=3)\n",
    "        self.convolution3 = nn.Conv2d(in_channels=32, out_channels=64, kernel_size=2)\n",
    "\n",
    "        #pass image through convolution layers and get neurons in a flatten layer to pass into a neural network\n",
    "        self.fc1 = nn.Linear(in_features=self.count_neurons((1, 80, 80)), out_features=40) #1 is number of channels so black and white images, 80 80 is width and height\n",
    "        self.fc2 = nn.Linear(in_features=40, out_features=number_actions)\n",
    "\n",
    "    def count_neurons(self, image_dim):#image_dim for example 80px x 80px in size\n",
    "        \"\"\"Will give us the number of neurons after convolutions are applied\"\"\"\n",
    "        #we need to first create a fake image (1 batch, 80px x 80px in size), * allows image_dim to be passed as a list\n",
    "        fake_image = Variable(torch.rand(1, *image_dim))\n",
    "\n",
    "        #pass image into first layer and max pool result then activate all neurons in max pool layer\n",
    "        x = F.relu(F.max_pool2d(self.convolution1(fake_image), 3, 2)) #kernal size is 3, #stride is 2\n",
    "\n",
    "        #pass image into second layer and max pool result then activate all neurons in max pool layer\n",
    "        x = F.relu(F.max_pool2d(self.convolution2(x), 3, 2)) #kernal size is 3, #stride is 2\n",
    "\n",
    "        #pass image into third layer and max pool result then activate all neurons in max pool layer\n",
    "        x = F.relu(F.max_pool2d(self.convolution3(x), 3, 2)) #kernal size is 3, #stride is 2\n",
    "        \n",
    "        #now we get all pixels in third layer and flatten it. we get the data, view what's inside it then we get all the pixels and put it into 1 dimension\n",
    "        return x.data.view(1, -1).size(1)\n",
    "    \n",
    "    def forward(self, x):\n",
    "        x = F.relu(F.max_pool2d(self.convolution1(x), 3, 2))\n",
    "        x = F.relu(F.max_pool2d(self.convolution2(x), 3, 2))\n",
    "        x = F.relu(F.max_pool2d(self.convolution3(x), 3, 2))\n",
    "        #propagate data from convolutional layers to hidden layers by first flattening convolutional layers\n",
    "        #flatten third layer by taking all pixels and all channels in third layer and arrange one after another\n",
    "        x = x.view(x.size(0), -1) #RuntimeError: mat1 and mat2 shapes cannot be multiplied (64x49 and 3136x40)\n",
    "        x = F.relu(self.fc1(x))\n",
    "        x = self.fc2(x)\n",
    "        return x\n",
    "\n",
    "### Softmax Policy\n",
    "class SoftmaxPolicy(nn.Module):\n",
    "    \"\"\"data from the CNN is passed to softmax to play an action\"\"\"\n",
    "    def __init__(self, T=100):\n",
    "        super(SoftmaxPolicy, self).__init__()\n",
    "        self.T = T\n",
    "\n",
    "    def forward(self, outputs, number_actions=1):\n",
    "        probs = F.softmax(outputs * self.T, dim=1)\n",
    "        actions = probs.multinomial(num_samples=number_actions)\n",
    "        return actions\n",
    "\n",
    "### Agent (DCQ Learning System )\n",
    "class DCQ():\n",
    "    def __init__(self, CNN, SoftmaxPolicy):\n",
    "        self.cnn = CNN\n",
    "        self.softmax = SoftmaxPolicy\n",
    "\n",
    "    def __call__(self, inputs):#comes from NStepProgress -> np.array([state])\n",
    "        \"\"\"similar to init function but it allows this AI class \n",
    "        instance to be treated like a function, not modifying the initial instance\"\"\"\n",
    "        #receive images from the game by converting image into a numpy array then into a torch tensor, then put a torch tensor into a torch variable with a gradient\n",
    "        input = Variable(torch.from_numpy(np.array(inputs, dtype = np.float32)))\n",
    "        output = self.cnn(input)\n",
    "        actions = self.softmax(output)\n",
    "        return actions.data.numpy()\n",
    "\n",
    "### Experience Replay\n",
    "#### N-Step\n",
    "class NStepProgress:\n",
    "    \"\"\"This class allows the AI to progress on several (n_step) steps\"\"\"\n",
    "    def __init__(self, env, ai, n_step):\n",
    "        self.ai = ai\n",
    "        self.rewards = []\n",
    "        self.env = env\n",
    "        self.n_step = n_step\n",
    "        self.step = namedtuple('Step', ['state', 'action', 'reward', 'done']) #Defining one Step\n",
    "    def __iter__(self):\n",
    "        \"\"\"Repeats iteration only incrementing parent loop when yield is called\"\"\"\n",
    "        state, info = self.env.reset()\n",
    "        history = deque()\n",
    "        reward = 0.0\n",
    "        while True:\n",
    "            #select an action\n",
    "            action = self.ai(np.array([state]))[0][0] #agent.update\n",
    "            meter['steps'] = meter['steps'] + 1\n",
    "            #get reward and next state\n",
    "            next_state, r, terminated, truncated, info = self.env.step(action)\n",
    "            done = terminated or truncated #if  game has some kind of max_steps or timeout, read 'truncated' with 'terminated'\n",
    "            reward += r\n",
    "            #add to stacked frame\n",
    "            history.append(self.step(state=state, action=action, reward=r, done=done))\n",
    "            \n",
    "            while len(history) > self.n_step:# + 1: #Always keep it n-steps e.g 10\n",
    "                history.popleft()\n",
    "\n",
    "            if len(history) == self.n_step:# + 1:#create our stacked tuple when finished\n",
    "                meter['steps_from_history'] = meter['steps_from_history'] + len(history)\n",
    "                self.rewards.append(reward)\n",
    "                reward = 0.0\n",
    "                yield tuple(history)\n",
    "                \n",
    "            state = next_state\n",
    "            if done: #either terminated or truncated\n",
    "                if len(history) > self.n_step:# + 1:\n",
    "                    history.popleft()\n",
    "                    \n",
    "                while len(history) >= 1:\n",
    "                    meter['steps_from_history'] = meter['steps_from_history'] + len(history)\n",
    "                    self.rewards.append(reward)\n",
    "                    reward = 0.0\n",
    "                    yield tuple(history)\n",
    "                    history.popleft()\n",
    "                    \n",
    "                state, info  = self.env.reset()\n",
    "                history.clear()\n",
    "    \n",
    "    def rewards_steps(self):\n",
    "        rewards_steps = self.rewards\n",
    "        self.rewards = []\n",
    "        return rewards_steps\n",
    "\n",
    "#### Replay Memory\n",
    "class ReplayMemory:\n",
    "    \"\"\"This class is modified to do n-step learning\"\"\"\n",
    "    def __init__(self, n_steps, capacity = 10000):\n",
    "        self.capacity = capacity\n",
    "        self.n_steps = n_steps\n",
    "        self.n_steps_iter = iter(n_steps) #creates an object that can be accessed one element at a time using __next__()\n",
    "        self.buffer = deque()\n",
    "\n",
    "    def sample_batch(self, batch_size): # creates an iterator that returns random batches\n",
    "        ofs = 0 #we use an offset to keep track of starting index for each batch\n",
    "        #we get samples from experience replay\n",
    "        vals = list(self.buffer)\n",
    "        #then randomly suffle them\n",
    "        np.random.shuffle(vals)\n",
    "        #now we check to see if we have enough samples in the buffer to make a batch if not we wait.\n",
    "        while (ofs+1)*batch_size <= len(self.buffer):\n",
    "            yield vals[ofs*batch_size:(ofs+1)*batch_size] #we slice from the offset position to the e.g 128 to 256\n",
    "            ofs += 1\n",
    "            meter['steps_from_replay'] = meter['steps_from_replay'] +1\n",
    "\n",
    "    def run_steps(self, steps):\n",
    "        \"\"\"Runs environment wait 10 consecutive steps of (state, action, reward, done) then save to buffer\n",
    "        until n sample steps are saved in buffer. Does not iterate until n_steps_iter collects 10 steps\"\"\"\n",
    "\n",
    "        while steps > 0:\n",
    "            entry = next(self.n_steps_iter) # 10 consecutive steps of (state, action, reward, done)\n",
    "            meter['steps_to_replay'] = meter['steps_to_replay'] + len(entry)\n",
    "            self.buffer.append(entry) # we put e.g 200 for the current episode\n",
    "            steps -= 1\n",
    "\n",
    "        while len(self.buffer) > self.capacity: # we accumulate no more than the capacity (10000)\n",
    "            self.buffer.popleft()\n",
    "            \n",
    "### N-Step Q-Learning\n",
    "def eligibility_trace(batch, cnn, g=0.99):#batch is a sample of 128 10-steps where each step is ['state', 'action', 'reward', 'done'] so 1,280 transitions from memory\n",
    "    \"\"\"Asynchronous N-Step Q-Learning\n",
    "    learns the cumulative rewards and cumulative targets\n",
    "    on n-steps instead of one step like DQL\"\"\"\n",
    "    gamma = g\n",
    "    inputs = []\n",
    "    targets = []\n",
    "    for series in batch: #series of 10 transitions in our batch\n",
    "        #get the first and last image as the input. Convert fron numpy to torch variable\n",
    "        input = Variable(torch.from_numpy(np.array([series[0].state, series[-1].state], dtype=np.float32)))\n",
    "        output = cnn(input) #this is the prediction from the ai\n",
    "\n",
    "        #if the last transition of the series is not done we get the max q values\n",
    "        cumulative_reward = 0.0 if series[-1].done else output[1].data.max()\n",
    "\n",
    "        #start with the last step and go backwards to the first step\n",
    "        for step in reversed(series[:-1]):#reversed goes backwards \n",
    "            state = series[0].state # first state we need. This is where we started\n",
    "            target = output[0].data # this is the q value of the input state of the first step. This is what we thought we would get being in this state\n",
    "\n",
    "            # what new reward did we actually get\n",
    "            cumulative_reward = step.reward + gamma * cumulative_reward \n",
    "            target[series[0].action] = cumulative_reward # this is the q value we actually got\n",
    "\n",
    "            inputs.append(state) # we append our first state\n",
    "            targets.append(target) #we append the actual target q value for the first state\n",
    "\n",
    "            #output the input and the target after being processed through eligibility_trace\n",
    "            #we now have the first state and the target q values for the first state over 10 steps\n",
    "            return torch.from_numpy(np.array(inputs, dtype=np.float32)), torch.stack(targets)#we stack targets together\n",
    "\n",
    "### Image Preprocessing\n",
    "class ImagePreprocessor(ObservationWrapper):\n",
    "    \"\"\"Custom Image Preprocessor similar to \n",
    "    Atari standard in gymnasium\"\"\"\n",
    "    def __init__(self, env, height = 64, width = 64, grayscale = True, crop = lambda img: img):\n",
    "        super(ImagePreprocessor, self).__init__(env)\n",
    "        self.img_size = (height, width)\n",
    "        self.grayscale = grayscale\n",
    "        self.crop = crop\n",
    "        n_colors = 1 if self.grayscale else 3\n",
    "        self.observation_space = Box(0.0, 1.0, [n_colors, height, width])\n",
    "\n",
    "    def observation(self, img):\n",
    "        img = self.crop(img)\n",
    "        img = Image.fromarray(img)\n",
    "        img = img.resize(self.img_size)\n",
    "        if self.grayscale:\n",
    "            img = img.convert('L')  # Convert to grayscale\n",
    "        else:\n",
    "            img = img.convert('RGB')  # Convert to RGB if necessary\n",
    "\n",
    "        #view preprocessed image\n",
    "        #plt.imshow(img)\n",
    "        #plt.show()\n",
    "\n",
    "        img = np.array(img)\n",
    "        #adds a new dimension to the array to represent the single color channel, resulting in the desired shape\n",
    "        img = np.expand_dims(img, axis=2)\n",
    "        \n",
    "        #if img.ndim == 2:  # Add channel dimension if missing\n",
    "        #    img = np.expand_dims(img, axis=2)\n",
    "        img = np.transpose(img, (2, 0, 1))\n",
    "        img = img.astype('float32') / 255\n",
    "\n",
    "        #check dim of new image\n",
    "        #print(\"image was preprocessed to: \" + str(\"greyscale\" if self.grayscale else \"RGB\") + \" with shape \" + str(img.shape))\n",
    "        return img\n",
    "\n",
    "### Moving Average Reward (for evaluation)\n",
    "class MA:\n",
    "    \"\"\"creates the moving average reward on \n",
    "    nth steps to keep track of training performance\"\"\"\n",
    "    def __init__(self, size):\n",
    "        self.n_step_rewards = []\n",
    "        self.size = size\n",
    "        self.cumulative_reward = []\n",
    "\n",
    "    def add(self, rewards):\n",
    "        if isinstance(rewards, list):\n",
    "            self.n_step_rewards += rewards\n",
    "        else:\n",
    "            self.n_step_rewards.append(rewards)\n",
    "\n",
    "        # makes sure that we always have e.g size(200) elements of the latest rewards\n",
    "        while len(self.n_step_rewards) > self.size:\n",
    "            del self.n_step_rewards[0]\n",
    "\n",
    "    def cumulative(self):\n",
    "        self.cumulative_reward.append(sum(self.n_step_rewards))\n",
    "        return sum(self.n_step_rewards)\n",
    "\n",
    "    def calculate_average(self):\n",
    "        acr = 0.0 \n",
    "        if len(self.cumulative_reward) > 0:\n",
    "            acr = np.mean(self.cumulative_reward)\n",
    "        return acr"
   ]
  },
  {
   "attachments": {},
   "cell_type": "markdown",
   "metadata": {},
   "source": [
    "## Experiments"
   ]
  },
  {
   "attachments": {},
   "cell_type": "markdown",
   "metadata": {},
   "source": [
    "### Environment & Experience Replay Capacity Sizes"
   ]
  },
  {
   "cell_type": "code",
   "execution_count": 15,
   "metadata": {},
   "outputs": [],
   "source": [
    "sim_name = 'ALE/SpaceInvaders-v5' # obs_type=\"ram\", frameskip=4, repeat_action_probability=0.25\n",
    "# stella emulator for atari = https://stella-emu.github.io/\n",
    "# https://stella-emu.github.io/docs/index.html#Remapping:~:text=count%20and%20associated-,frames%20per%20second,-%2C%20bankswitch%20and%20display\n",
    "# assume 60 fps\n",
    "\n",
    "\n",
    "capacity = [1000000, 500000, 100000, 50000, 10000, 5000, 1000, 500] #capacity = [1000000]\n",
    "labels = ['1M', '500k', '100k', '50k', '10k', '5k', '1k', '500']\n",
    "\n",
    "#create table for evaluating capacity against reward\n",
    "df_rewards = pd.DataFrame(columns=['capacity', 'episodes', 'reward'])"
   ]
  },
  {
   "cell_type": "markdown",
   "metadata": {},
   "source": [
    "### Simulation"
   ]
  },
  {
   "cell_type": "code",
   "execution_count": 16,
   "metadata": {},
   "outputs": [
    {
     "name": "stdout",
     "output_type": "stream",
     "text": [
      "EXPERIMENT 0: Date-Time: 2023-08-12 22:59:52, Capacity: 1k\n",
      "Setting up environment\n",
      "Creating Agent with capacity set to: 1000\n",
      "Simulating environment\n",
      "Episode: 0, Cumulative Reward: 50.0\n",
      "END - Date-Time: 2023-08-12 22:59:53\n",
      "Plotting results\n"
     ]
    },
    {
     "data": {
      "image/png": "[encoded data removed]",
      "text/plain": [
       "<Figure size 640x480 with 1 Axes>"
      ]
     },
     "metadata": {},
     "output_type": "display_data"
    },
    {
     "name": "stderr",
     "output_type": "stream",
     "text": [
      "FixedFormatter should only be used together with FixedLocator\n"
     ]
    },
    {
     "data": {
      "image/png": "[encoded data removed]",
      "text/plain": [
       "<Figure size 1500x1000 with 4 Axes>"
      ]
     },
     "metadata": {},
     "output_type": "display_data"
    },
    {
     "name": "stdout",
     "output_type": "stream",
     "text": [
      "{'episodes': 1, 'steps': 209, 'steps_from_history': 2000, 'steps_to_replay': 2000, 'steps_from_replay': 2, 'samples_to_xai': 1, 'samples_to_cnn': 1}\n",
      "average cumulative reward: 50.0\n"
     ]
    }
   ],
   "source": [
    "for i, cap in enumerate(capacity):\n",
    "    #get current timestamp\n",
    "    start_datetime = datetime.datetime.now()\n",
    "    start_datetime = start_datetime.strftime(\"%Y-%m-%d %H:%M:%S\")# Format the date and time as a string\n",
    "    print(\"EXPERIMENT \" + str(i) + \": Date-Time: \" + str(start_datetime) + \", Capacity: \" + str(labels[i]))\n",
    "    \n",
    "    #### Setup Preprocessed Environment\n",
    "    print(\"Setting up environment\")\n",
    "    #env = gym.make('ALE/SpaceInvaders-v5')\n",
    "    #We first preprocess the image by applying a greyscale and reducing the size to 80px. \n",
    "    env = ImagePreprocessor(gym.make(sim_name), width=80, height=80, grayscale=True) #width=210, height=160 # , render_mode='human'\n",
    "    state, info = env.reset(seed=42)\n",
    "    episodes = 1 #200\n",
    "    steps_per_episode = 200 #steps to take\n",
    "    \n",
    "    ##### Create DCQL Agent\n",
    "    print(\"Creating Agent with capacity set to: \" + str(cap))\n",
    "    a = env.action_space.n # actions\n",
    "    g = 0.9 #gamma\n",
    "    c = cap #1000000 #10000 #memory capacity\n",
    "    b = 100 #training batches\n",
    "    l = 0.001 #learning rate\n",
    "    t = 1.0 #softmax policy temperature rate. T is temperature high, meaning other actions are less explored\n",
    "    n = 10 # n-steps\n",
    "\n",
    "    #Build the Agent\n",
    "    cnn = CNN(a)\n",
    "    softmax = SoftmaxPolicy(T=t) # \n",
    "    agent = DCQ(CNN=cnn, SoftmaxPolicy=softmax)\n",
    "\n",
    "    # Set up Experience Replay\n",
    "    n_steps = NStepProgress(env=env, ai=agent, n_step=n) #instead of learning every transition we learn every nth transition\n",
    "    memory = ReplayMemory(n_steps=n_steps, capacity=c) #store the last c steps in memory e.g 1millm 500k etc.\n",
    "\n",
    "    #set learning parameters\n",
    "    loss = nn.MSELoss()#calculate mean squared error loss\n",
    "    optimizer = optim.Adam(cnn.parameters(), lr=l) #use adams optimiser with a learning rate of 0.001\n",
    "\n",
    "    ma = MA(steps_per_episode) #used to get the average of the last n-step rewards\n",
    "\n",
    "    #### Simulate the environment\n",
    "    print(\"Simulating environment\")\n",
    "\n",
    "    # Initialize an empty list to store the sampled inputs for SHAP Explainer\n",
    "    # set a sampling rate based on episodes as batches could be zero if not enough available at start\n",
    "\n",
    "    #define a random selection size such as 10%\n",
    "    random_select_size = math.ceil(episodes * 0.1) # 10%\n",
    "\n",
    "    # Create an array of random episode numbers\n",
    "    random_episodes = np.random.choice(range(episodes), size=random_select_size, replace=False)\n",
    "\n",
    "    # Initialize an empty list to store the sampled inputs for SHAP Explainer\n",
    "    sampling_episode = []\n",
    "    sampled_inputs = []\n",
    "    sampled_targets = []\n",
    "    episode_sampled = False  # Initialize the flag\n",
    "\n",
    "    for episode in range(episodes):\n",
    "        #run the game for 200 runs of 10 steps and push sample transitions into memory\n",
    "        memory.run_steps(steps=steps_per_episode) # e.g 200 steps\n",
    "        #sample 128 x10['state', 'action', 'reward', 'done'] or 1,280 transitions from memory if there is enough in memory to sample otherwise skip\n",
    "        for batch in memory.sample_batch(b): #b= e.g 128 batches\n",
    "            #agent training\n",
    "\n",
    "            #creates the training set for the agent, \n",
    "            # we get target discounted q values for the first state in the batch over 10 steps\n",
    "            inputs, targets = eligibility_trace(batch, cnn, g)\n",
    "\n",
    "            #We take some training samples for shap.deepxplainer to create heatmap images or we use them for training. Not both!\n",
    "            if episode in random_episodes and not episode_sampled:\n",
    "                sampling_episode.append(episode) #record when sample was taken\n",
    "                sampled_inputs.append(inputs)\n",
    "                sampled_targets.append(targets)\n",
    "                meter[\"samples_to_xai\"] = meter[\"samples_to_xai\"] + 1\n",
    "                episode_sampled = True # Set the flag to True\n",
    "            else:\n",
    "                #we convert them to tensor variables\n",
    "                inputs, targets = Variable(inputs), Variable(targets)\n",
    "\n",
    "                #like during eligibility_trace we get predicted q values from the cnn model\n",
    "                predictions = cnn(inputs)\n",
    "                loss_error = loss(predictions, targets)\n",
    "                optimizer.zero_grad()\n",
    "                loss_error.backward()\n",
    "                optimizer.step()\n",
    "                meter[\"samples_to_cnn\"] = meter[\"samples_to_cnn\"] + 1\n",
    "        \n",
    "        episode_sampled = False # Reset the flag for the next iteration\n",
    "                \n",
    "        rewards_steps = n_steps.rewards_steps() #e.g get 200 steps with rewards\n",
    "        ma.add(rewards_steps) #e.g add those 200 steps with rewards\n",
    "        cumulative_reward = ma.cumulative()\n",
    "        print(\"Episode: %s, Cumulative Reward: %s\" % (str(episode), str(round(cumulative_reward,2))))\n",
    "        meter[\"episodes\"] = meter[\"episodes\"] + 1\n",
    "    env.close()\n",
    "\n",
    "    #get end timestamp\n",
    "    end_datetime = datetime.datetime.now()\n",
    "    end_datetime = end_datetime.strftime(\"%Y-%m-%d %H:%M:%S\")# Format the date and time as a string\n",
    "    print(\"END - Date-Time: \" + str(end_datetime))\n",
    "\n",
    "    #### HOW did the agent performed?\n",
    "    print(\"Plotting results\")\n",
    "\n",
    "    ##### Agent's final score\n",
    "    #optimal_index = np.argmax(ma.average_rewards)  # Find the index of the highest cumulative reward\n",
    "    #episode_index = np.arange(0, episodes-1)\n",
    "    #optimal_episode = episode_index[optimal_index]  # Get the corresponding episode number\n",
    "\n",
    "    ##### Rewards at given time/step\n",
    "    # Iterate over the rows of cumulative_reward and append them to df_rewards\n",
    "    for episode, reward in enumerate(ma.cumulative_reward):\n",
    "        new_row = [labels[i], episode, reward]\n",
    "        df_rewards.loc[len(df_rewards)] = new_row\n",
    "        \n",
    "    # Save and plot reward\n",
    "    title = sim_name[4:-3]\n",
    "    plt.title(title.capitalize() + \": \" + str(labels[i]))\n",
    "    plt.xlabel(\"Episodes\")\n",
    "    plt.ylabel(\"Reward\")\n",
    "    plt.plot(ma.cumulative_reward)\n",
    "\n",
    "    # Draw a vertical line at the optimal point\n",
    "    #plt.axvline(x=optimal_episode, color='r', linestyle='--', label='Optimal Point')\n",
    "\n",
    "    # Draw red dots at the sampled experiences\n",
    "    plt.scatter(sampling_episode, [ma.cumulative_reward[exp] for exp in sampling_episode],\n",
    "                marker='x', color='r', label='Experience Sampled', zorder=5)\n",
    "\n",
    "    filename = sim_name.replace(\"/\", \"_\")\n",
    "    plt.savefig(\"./../plots/rewardplots/\" + filename +\"_\"+ str(labels[i]) + \".png\")\n",
    "    plt.show()\n",
    "\n",
    "\n",
    "    #save and plot q-values from sampled experience\n",
    "    num_columns = 4  # Number of columns in the grid\n",
    "    num_rows = (len(sampled_targets) + num_columns - 1) // num_columns  # Calculate the number of rows\n",
    "\n",
    "    fig, axs = plt.subplots(num_rows, num_columns, figsize=(15, 10), sharex=True)\n",
    "\n",
    "    # Adjust spacing between cells\n",
    "    plt.subplots_adjust(wspace=0.4, hspace=0.6)  # Adjust these values as needed\n",
    "\n",
    "    max_q_value = np.max([np.max(np.array(sampled_targets[s])[0]) for s in range(len(sampled_targets))])\n",
    "\n",
    "    # Iterate through sampled_targets\n",
    "    for s, ax in enumerate(axs.flat):\n",
    "        if s < len(sampled_targets):\n",
    "            # Set the x-axis values\n",
    "            x = env.unwrapped.get_action_meanings()\n",
    "\n",
    "            # Set the y-axis values and divide by 100\n",
    "            y = np.array(sampled_targets[s])[0] / 100\n",
    "\n",
    "            # Create the bar chart\n",
    "            ax.bar(x, y)\n",
    "\n",
    "            # Set the labels and title\n",
    "            ax.set_xlabel('A')\n",
    "            ax.set_ylabel('Q')\n",
    "            ax.set_title('State: ' + str(sampling_episode[s]))  # Use 's' as title\n",
    "\n",
    "            # Rotate the x-axis labels if needed\n",
    "            ax.set_xticklabels(x, rotation=90)\n",
    "\n",
    "            # Set y-axis scale to max of largest Q-value\n",
    "            ax.set_ylim(0, max_q_value / 100)\n",
    "\n",
    "    # Add an overall title to the grid\n",
    "    fig.suptitle(title.capitalize() + \": \" + str(labels[i]))\n",
    "\n",
    "    plt.savefig(\"./../plots/qvalueplots/\" + filename +\"_\"+ str(labels[i]) + \".png\")\n",
    "    # Display the grid of bar charts\n",
    "    plt.show()\n",
    "    \n",
    "    print(meter)\n",
    "    print(\"average cumulative reward: \" + str(ma.calculate_average()))\n",
    "    #print(\"episode until found: \" + str(optimal_episode))\n",
    "\n",
    "    #### Save Trained Model\n",
    "    #torch.save(cnn, './../models/space_invaders.pth')\n",
    "    #### Load Trained Model\n",
    "    #cnn = torch.load('./../models/space_invaders.pth')\n",
    "    #cnn.eval()"
   ]
  },
  {
   "cell_type": "code",
   "execution_count": 17,
   "metadata": {},
   "outputs": [
    {
     "name": "stdout",
     "output_type": "stream",
     "text": [
      "{'episodes': 1, 'steps': 209, 'steps_from_history': 2000, 'steps_to_replay': 2000, 'steps_from_replay': 2, 'samples_to_xai': 1, 'samples_to_cnn': 1}\n"
     ]
    }
   ],
   "source": [
    "print(meter)"
   ]
  },
  {
   "attachments": {},
   "cell_type": "markdown",
   "metadata": {},
   "source": [
    "#### WHY does the agent take an actions in the given state?"
   ]
  },
  {
   "cell_type": "code",
   "execution_count": 18,
   "metadata": {},
   "outputs": [
    {
     "name": "stdout",
     "output_type": "stream",
     "text": [
      "[0]\n"
     ]
    },
    {
     "data": {
      "text/plain": [
       "1"
      ]
     },
     "execution_count": 18,
     "metadata": {},
     "output_type": "execute_result"
    }
   ],
   "source": [
    "#we took 10% of experience replay samples as test data. The agent has not seen this yet\n",
    "print(random_episodes)\n",
    "len(sampled_inputs)"
   ]
  },
  {
   "cell_type": "code",
   "execution_count": 19,
   "metadata": {},
   "outputs": [
    {
     "name": "stdout",
     "output_type": "stream",
     "text": [
      "[0]\n"
     ]
    }
   ],
   "source": [
    "x = sampling_episode\n",
    "print(x)"
   ]
  },
  {
   "cell_type": "code",
   "execution_count": 20,
   "metadata": {},
   "outputs": [
    {
     "name": "stdout",
     "output_type": "stream",
     "text": [
      "1\n"
     ]
    }
   ],
   "source": [
    "#After halfway through its training lets see why the agent took the actions it did\n",
    "s = math.ceil(len(x)/2)\n",
    "print(s)"
   ]
  },
  {
   "cell_type": "code",
   "execution_count": 22,
   "metadata": {},
   "outputs": [
    {
     "data": {
      "text/plain": [
       "tensor([[[[0.0000, 0.0000, 0.0000,  ..., 0.0000, 0.0000, 0.0000],\n",
       "          [0.0000, 0.0000, 0.0000,  ..., 0.0000, 0.0000, 0.0000],\n",
       "          [0.0000, 0.0000, 0.0000,  ..., 0.0000, 0.0000, 0.0000],\n",
       "          ...,\n",
       "          [0.3098, 0.3098, 0.3098,  ..., 0.3098, 0.3098, 0.3098],\n",
       "          [0.3098, 0.3098, 0.3098,  ..., 0.3098, 0.3098, 0.3098],\n",
       "          [0.3098, 0.3098, 0.3098,  ..., 0.3098, 0.3098, 0.3098]]]])"
      ]
     },
     "execution_count": 22,
     "metadata": {},
     "output_type": "execute_result"
    }
   ],
   "source": [
    "# The first sample is a tensor of pixels indicating an image\n",
    "sampled_inputs[0]"
   ]
  },
  {
   "cell_type": "code",
   "execution_count": 24,
   "metadata": {},
   "outputs": [
    {
     "data": {
      "image/png": "[encoded data removed]",
      "text/plain": [
       "<Figure size 640x480 with 1 Axes>"
      ]
     },
     "metadata": {},
     "output_type": "display_data"
    }
   ],
   "source": [
    "num_rows = 4\n",
    "num_cols = 5\n",
    "fig, axes = plt.subplots(num_rows, num_cols, figsize=(10, 8))\n",
    "\n",
    "for i, ax in enumerate(axes.flat):\n",
    "    if i < len(sampled_inputs):\n",
    "        # Assuming sampled_inputs[i] is a numpy array or tensor\n",
    "        image = sampled_inputs[i].view(80, 80, 1).numpy()  # Convert to numpy array if needed\n",
    "        ax.imshow(image.squeeze(), cmap='gray')  # 'gray' colormap for grayscale images\n",
    "        ax.axis('off')  # Turn off axis labels\n",
    "    else:\n",
    "        ax.axis('off')  # If there are fewer than 20 images, turn off the empty subplots\n",
    "\n",
    "plt.tight_layout()  # Adjust spacing between subplots\n",
    "plt.show()"
   ]
  },
  {
   "cell_type": "code",
   "execution_count": null,
   "metadata": {},
   "outputs": [
    {
     "data": {
      "text/plain": [
       "tensor([[ 387.4649,  407.2264,  979.4785,   -2.9645, 1676.5990,   61.5365]])"
      ]
     },
     "execution_count": 13,
     "metadata": {},
     "output_type": "execute_result"
    }
   ],
   "source": [
    "# we see what Q values were calculated for each action for first image\n",
    "sampled_targets[0]\n",
    "#['NOOP', 'FIRE', 'RIGHT', 'LEFT', 'RIGHTFIRE', 'LEFTFIRE']"
   ]
  },
  {
   "cell_type": "raw",
   "metadata": {},
   "source": [
    "background = sampled_inputs[:1] #we use the first image for shap explainer\n",
    "test_image = sampled_inputs[18:19] #we use the second image for testing shap explainer"
   ]
  },
  {
   "cell_type": "raw",
   "metadata": {},
   "source": [
    "e = shap.DeepExplainer(cnn, background) # train shap explainer\n",
    " # we approximate the conditional expectations of SHAP values using a selection of background samples.\n",
    " # By integrating over many backgound samples Deep estimates approximate SHAP values such that \n",
    " # they sum up to the difference between the expected model output on the passed \n",
    " # background samples and the current model output (f(x) - E[f(x)]).\n",
    "\n",
    " #https://github.com/lrjball/shap/blob/master/shap/explainers/_deep/__init__.py\n",
    " #https://github.com/lrjball/shap/blob/master/shap/explainers/_deep/deep_pytorch.py"
   ]
  },
  {
   "cell_type": "raw",
   "metadata": {},
   "source": [
    "shap_values = e.shap_values(test_image) #get shap values for second image"
   ]
  },
  {
   "cell_type": "raw",
   "metadata": {},
   "source": [
    "shap_values"
   ]
  },
  {
   "cell_type": "raw",
   "metadata": {},
   "source": [
    "shap_values = torch.from_numpy(np.array(shap_values, dtype=np.float32)) #convert shap values into a tensor\n",
    "print(shap_values.shape) #this tensor has 6 samples, each having 1 channel, a height of 1, a width of 80, and a depth of 80.\n",
    "print(shap_values[0].shape) # shap_value sample is an image"
   ]
  },
  {
   "cell_type": "raw",
   "metadata": {},
   "source": [
    "#plt.imshow(shap_values[0].view(80, 80, 1))\n",
    "#plt.show() # image shows the importance of each action\n",
    "\n",
    "#plt.imshow(sampled_inputs[s+1].view(80, 80, 1), cmap='gray') \n",
    "#plt.imshow(shap_values[0].view(80, 80, 1)) #0=NOOP\n",
    "#plt.imshow(shap_values[1].view(80, 80, 1)) #1=FIRE\n",
    "#plt.imshow(shap_values[2].view(80, 80, 1) ) #2=RIGHT\n",
    "#plt.imshow(shap_values[3].view(80, 80, 1), cmap='hot', alpha=0.1) #3=LEFT\n",
    "#plt.imshow(shap_values[4].view(80, 80, 1), cmap='hot', alpha=0.1) #4=RIGHTFIRE\n",
    "#plt.imshow(shap_values[5].view(80, 80, 1), cmap='hot', alpha=0.1) #5=LEFTFIRE\n",
    "\n",
    "# Create a 3x2 grid of subplots\n",
    "fig, axes = plt.subplots(nrows=3, ncols=2, figsize=(10, 12))\n",
    "\n",
    "# List of action labels\n",
    "action_labels = ['NOOP', 'FIRE', 'RIGHT', 'LEFT', 'RIGHTFIRE', 'LEFTFIRE']\n",
    "\n",
    "# Loop through the actions and their corresponding SHAP values\n",
    "for i, ax in enumerate(axes.flatten()):\n",
    "    shap_value = shap_values[i].view(80, 80, 1)\n",
    "    im = ax.imshow(shap_value, cmap='jet')  # Use 'jet' colormap or your preferred colormap\n",
    "    ax.set_title(action_labels[i])\n",
    "    ax.axis('off')\n",
    "\n",
    "# Create a colorbar legend on the right\n",
    "cbar_ax = fig.add_axes([0.92, 0.15, 0.02, 0.7])  # [left, bottom, width, height]\n",
    "cbar = plt.colorbar(im, cax=cbar_ax)\n",
    "cbar.set_label('SHAP Value Intensity')\n",
    "\n",
    "# Adjust layout to prevent overlap of subplots and colorbar\n",
    "plt.tight_layout()\n",
    "\n",
    "# Show the plot\n",
    "plt.show()\n",
    "\n",
    "# This code creates a 3x2 grid of subplots, displaying each action's SHAP \n",
    "# values in a separate subplot. It adds titles to the subplots corresponding \n",
    "# to the action labels. The colorbar is created on the right using the add_axes \n",
    "# function, and tight_layout is used to ensure that the subplots and colorbar \n",
    "# are arranged nicely within the figure. Adjust the figsize and other parameters \n",
    "# as needed to achieve the desired appearance of the plot."
   ]
  },
  {
   "attachments": {},
   "cell_type": "markdown",
   "metadata": {},
   "source": [
    "## ANOVA"
   ]
  },
  {
   "cell_type": "code",
   "execution_count": null,
   "metadata": {},
   "outputs": [
    {
     "data": {
      "text/html": [
       "<div>\n",
       "<style scoped>\n",
       "    .dataframe tbody tr th:only-of-type {\n",
       "        vertical-align: middle;\n",
       "    }\n",
       "\n",
       "    .dataframe tbody tr th {\n",
       "        vertical-align: top;\n",
       "    }\n",
       "\n",
       "    .dataframe thead th {\n",
       "        text-align: right;\n",
       "    }\n",
       "</style>\n",
       "<table border=\"1\" class=\"dataframe\">\n",
       "  <thead>\n",
       "    <tr style=\"text-align: right;\">\n",
       "      <th></th>\n",
       "      <th>capacity</th>\n",
       "      <th>episodes</th>\n",
       "      <th>reward</th>\n",
       "    </tr>\n",
       "  </thead>\n",
       "  <tbody>\n",
       "    <tr>\n",
       "      <th>192</th>\n",
       "      <td>1k</td>\n",
       "      <td>192</td>\n",
       "      <td>260.479452</td>\n",
       "    </tr>\n",
       "    <tr>\n",
       "      <th>193</th>\n",
       "      <td>1k</td>\n",
       "      <td>193</td>\n",
       "      <td>260.479452</td>\n",
       "    </tr>\n",
       "    <tr>\n",
       "      <th>194</th>\n",
       "      <td>1k</td>\n",
       "      <td>194</td>\n",
       "      <td>260.608108</td>\n",
       "    </tr>\n",
       "    <tr>\n",
       "      <th>195</th>\n",
       "      <td>1k</td>\n",
       "      <td>195</td>\n",
       "      <td>260.608108</td>\n",
       "    </tr>\n",
       "    <tr>\n",
       "      <th>196</th>\n",
       "      <td>1k</td>\n",
       "      <td>196</td>\n",
       "      <td>260.608108</td>\n",
       "    </tr>\n",
       "  </tbody>\n",
       "</table>\n",
       "</div>"
      ],
      "text/plain": [
       "    capacity  episodes      reward\n",
       "192       1k       192  260.479452\n",
       "193       1k       193  260.479452\n",
       "194       1k       194  260.608108\n",
       "195       1k       195  260.608108\n",
       "196       1k       196  260.608108"
      ]
     },
     "execution_count": 21,
     "metadata": {},
     "output_type": "execute_result"
    }
   ],
   "source": [
    "df_rewards.tail()"
   ]
  },
  {
   "cell_type": "code",
   "execution_count": null,
   "metadata": {},
   "outputs": [],
   "source": [
    "x = datetime.datetime.now()\n",
    "file_name = str(x.year) + \"_\" + str(x.month) + \"_\" + str(x.day) + \"_\" + str(x.strftime(\"%H\")) + \"_\" + str(x.strftime(\"%M\")) + \"_\" + str(x.strftime(\"%S\")) + \"_atari_space_invaders_shap\" + \".csv\"\n",
    "df_rewards.to_csv(file_name, index=False, encoding='utf-8')"
   ]
  },
  {
   "cell_type": "code",
   "execution_count": null,
   "metadata": {},
   "outputs": [
    {
     "data": {
      "image/png": "[encoded data removed]",
      "text/plain": [
       "<Figure size 640x480 with 1 Axes>"
      ]
     },
     "metadata": {},
     "output_type": "display_data"
    }
   ],
   "source": [
    "ax = sns.boxplot(x='capacity', y='reward', data=df_rewards, color='#77B150', width=0.5).set(title='Atari Space Invaders Simulator: Box Plot of Rewards by Capacity Size')\n",
    "plt.show()"
   ]
  }
 ],
 "metadata": {
  "kernelspec": {
   "display_name": "venv_research",
   "language": "python",
   "name": "python3"
  },
  "language_info": {
   "codemirror_mode": {
    "name": "ipython",
    "version": 3
   },
   "file_extension": ".py",
   "mimetype": "text/x-python",
   "name": "python",
   "nbconvert_exporter": "python",
   "pygments_lexer": "ipython3",
   "version": "3.8.0"
  },
  "orig_nbformat": 4
 },
 "nbformat": 4,
 "nbformat_minor": 2
}
