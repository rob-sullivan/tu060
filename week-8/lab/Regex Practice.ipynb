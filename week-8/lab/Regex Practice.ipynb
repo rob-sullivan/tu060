{
 "cells": [
  {
   "cell_type": "markdown",
   "metadata": {},
   "source": [
    "# Using Regex in Python\n",
    "\n",
    "In this example we're going to use regular expressions to extract data from free-text. This is quite a common use of regular expressions, particularly when webscraping lists *etc.* Download the *student_details.txt* file from Brightspace and drop it into the same folder as this notebook to follow along.\n",
    "\n",
    "Before we can get our hands dirty with regular expressions we need to read the text into python. Our first step is to read this file into a variable. Regular Expressions are part of the Python standard library but we need to import them if we want to use them in our scripts. The regular expression module is named **re**."
   ]
  },
  {
   "cell_type": "code",
   "execution_count": 1,
   "metadata": {},
   "outputs": [
    {
     "data": {
      "text/plain": [
       "'John Doe has student number D12345665, is enrolled on TU953 and was born on 01/02/1990\\nJane Doe has student number D44563217, is enrolled on TU256 and was born on 02/02/1979\\nLucas Rizzo has student number D12345678, is enrolled on TU256 and was born on 01/01/1960\\nBojan Bozick has student number C87654321, is enrolled on TU44 and was born on 08/08/2002\\nRichard Boyd Barrett has student number D77553321, is enrolled on TU953 and was born on 01/03/1988\\n'"
      ]
     },
     "execution_count": 1,
     "metadata": {},
     "output_type": "execute_result"
    }
   ],
   "source": [
    "import re\n",
    "\n",
    "text = None\n",
    "\n",
    "with open(\"./student_details.txt\") as f:\n",
    "    text = f.read()\n",
    "    \n",
    "text"
   ]
  },
  {
   "cell_type": "markdown",
   "metadata": {},
   "source": [
    "We've successfully read in the text file and we've stored in a variable called **text**. Notice the **\\n** characters in the text above. This is a character encoding meaning *new line*, if we opened this in a text editor, all of the \\n characters would be replaced by a line break.\n",
    "\n",
    "Our next step is to define the goal. First we need to work out what are the different values which can be extracted from this text. Every line seems to contain four pieces of information, *name*, *student number*, *course code*, *date of birth*. We'll start small and work our way up. Our first task is to extract the name from each line (first and last). Remember, to extract data we need to use *capturing groups*."
   ]
  },
  {
   "cell_type": "code",
   "execution_count": 2,
   "metadata": {},
   "outputs": [
    {
     "data": {
      "text/plain": [
       "[('John', 'Doe'),\n",
       " ('has', 'student'),\n",
       " ('number', 'D12345665'),\n",
       " ('is', 'enrolled'),\n",
       " ('on', 'TU953'),\n",
       " ('and', 'was'),\n",
       " ('born', 'on'),\n",
       " ('Jane', 'Doe'),\n",
       " ('has', 'student'),\n",
       " ('number', 'D44563217'),\n",
       " ('is', 'enrolled'),\n",
       " ('on', 'TU256'),\n",
       " ('and', 'was'),\n",
       " ('born', 'on'),\n",
       " ('Lucas', 'Rizzo'),\n",
       " ('has', 'student'),\n",
       " ('number', 'D12345678'),\n",
       " ('is', 'enrolled'),\n",
       " ('on', 'TU256'),\n",
       " ('and', 'was'),\n",
       " ('born', 'on'),\n",
       " ('Bojan', 'Bozick'),\n",
       " ('has', 'student'),\n",
       " ('number', 'C87654321'),\n",
       " ('is', 'enrolled'),\n",
       " ('on', 'TU44'),\n",
       " ('and', 'was'),\n",
       " ('born', 'on'),\n",
       " ('Richard', 'Boyd'),\n",
       " ('Barrett', 'has'),\n",
       " ('student', 'number'),\n",
       " ('is', 'enrolled'),\n",
       " ('on', 'TU953'),\n",
       " ('and', 'was'),\n",
       " ('born', 'on')]"
      ]
     },
     "execution_count": 2,
     "metadata": {},
     "output_type": "execute_result"
    }
   ],
   "source": [
    "pattern = \"(\\w+) (\\w+)\"\n",
    "regex = re.compile(pattern, re.MULTILINE) # this is a multiline file (it contains linebreaks or \\n characters)\n",
    "matches = regex.findall(text)\n",
    "matches"
   ]
  },
  {
   "cell_type": "markdown",
   "metadata": {},
   "source": [
    "Not a bad start, we've successfully matched *John* and *Doe*. Unfortunately, we've matched pretty much every other word, too. Each line should be a new record, so we can use the $ character to match the end of the line. We're going to capture our first name, then our last name, and then match (but not capture) everything up to the end of the line"
   ]
  },
  {
   "cell_type": "code",
   "execution_count": 3,
   "metadata": {},
   "outputs": [
    {
     "data": {
      "text/plain": [
       "[('John', 'Doe'),\n",
       " ('Jane', 'Doe'),\n",
       " ('Lucas', 'Rizzo'),\n",
       " ('Bojan', 'Bozick'),\n",
       " ('Richard', 'Boyd')]"
      ]
     },
     "execution_count": 3,
     "metadata": {},
     "output_type": "execute_result"
    }
   ],
   "source": [
    "pattern = \"(\\w+) (\\w+).*$\"\n",
    "regex = re.compile(pattern, re.MULTILINE) # this is a multiline file (it contains linebreaks or \\n characters)\n",
    "matches = regex.findall(text)\n",
    "matches"
   ]
  },
  {
   "cell_type": "markdown",
   "metadata": {},
   "source": [
    "We have to write these same four lines of code every time we want to check an updated pattern. Let's define a function to make our lives easier. "
   ]
  },
  {
   "cell_type": "code",
   "execution_count": 4,
   "metadata": {},
   "outputs": [
    {
     "data": {
      "text/plain": [
       "[('John', 'Doe'),\n",
       " ('Jane', 'Doe'),\n",
       " ('Lucas', 'Rizzo'),\n",
       " ('Bojan', 'Bozick'),\n",
       " ('Richard', 'Boyd')]"
      ]
     },
     "execution_count": 4,
     "metadata": {},
     "output_type": "execute_result"
    }
   ],
   "source": [
    "def test_pattern(pattern):\n",
    "    regex = re.compile(pattern, re.MULTILINE)\n",
    "    matches = regex.findall(text)\n",
    "    return matches\n",
    "\n",
    "test_pattern(\"(\\w+) (\\w+).*$\")"
   ]
  },
  {
   "cell_type": "markdown",
   "metadata": {},
   "source": [
    "That seems fine, but Richard Boyd Barrett lost his double-barrel. How do we know whether a student has two or three names? If we look closely at the text we can see it follows a regular pattern\n",
    "\n",
    "```\n",
    "<student name> has student number...\n",
    "```\n",
    "\n",
    "If we include the *has student number* in our match then we'll be able to tell whether the student has 2 or 3 names. We may have multiple surnames, so we'll add the space character to our surname character class to allow Boyd Barrett to match. This second capturing group will match any combination of letters spaces and apostrophes until it finds the text **has student number**."
   ]
  },
  {
   "cell_type": "code",
   "execution_count": 5,
   "metadata": {},
   "outputs": [
    {
     "data": {
      "text/plain": [
       "[('John', 'Doe'),\n",
       " ('Jane', 'Doe'),\n",
       " ('Lucas', 'Rizzo'),\n",
       " ('Bojan', 'Bozick'),\n",
       " ('Richard', 'Boyd Barrett')]"
      ]
     },
     "execution_count": 5,
     "metadata": {},
     "output_type": "execute_result"
    }
   ],
   "source": [
    "test_pattern(\"(\\w+) ([\\w' ]+) has student number.*$\")"
   ]
  },
  {
   "cell_type": "markdown",
   "metadata": {},
   "source": [
    "The next part of our entry is the student number itself. We want to capture this. How do we define a student number?\n",
    "\n",
    "A student number is a letter, (capital C or capital D) followed by 8 digits, Let's add this to our pattern in a capturing group"
   ]
  },
  {
   "cell_type": "code",
   "execution_count": 6,
   "metadata": {},
   "outputs": [
    {
     "data": {
      "text/plain": [
       "[('John', 'Doe', 'D12345665'),\n",
       " ('Jane', 'Doe', 'D44563217'),\n",
       " ('Lucas', 'Rizzo', 'D12345678'),\n",
       " ('Bojan', 'Bozick', 'C87654321'),\n",
       " ('Richard', 'Boyd Barrett', 'D77553321')]"
      ]
     },
     "execution_count": 6,
     "metadata": {},
     "output_type": "execute_result"
    }
   ],
   "source": [
    "test_pattern(\"(\\w+) ([\\w' ]+) has student number ([CD][\\d]{8}).*$\")"
   ]
  },
  {
   "cell_type": "markdown",
   "metadata": {},
   "source": [
    "Now we've got the student number, let's extract the course enrollment\n",
    "\n",
    "```\n",
    "John Doe has student number D12345665, is enrolled on TU953 and was born on 01/02/1990\n",
    "```\n",
    "\n",
    "We know that the student number will be followed by **, is enrolled on** . We can match that text and then capture our course code. The course code is going to be the letters *TU* followed by 3 numbers"
   ]
  },
  {
   "cell_type": "code",
   "execution_count": 7,
   "metadata": {},
   "outputs": [
    {
     "data": {
      "text/plain": [
       "[('John', 'Doe', 'D12345665', 'TU953'),\n",
       " ('Jane', 'Doe', 'D44563217', 'TU256'),\n",
       " ('Lucas', 'Rizzo', 'D12345678', 'TU256'),\n",
       " ('Richard', 'Boyd Barrett', 'D77553321', 'TU953')]"
      ]
     },
     "execution_count": 7,
     "metadata": {},
     "output_type": "execute_result"
    }
   ],
   "source": [
    "test_pattern(\"(\\w+) ([\\w' ]+) has student number ([CD][\\d]{8}), is enrolled on (TU\\d\\d\\d).*$\")"
   ]
  },
  {
   "cell_type": "markdown",
   "metadata": {},
   "source": [
    "Have you noticed anything about the output? We seem to have lost Bojan.\n",
    "\n",
    "```\n",
    "Bojan Bozick has student number C87654321, is enrolled on TU44 and was born on 08/08/2002\n",
    "```\n",
    "\n",
    "On closer inspection, we can see that Bojan's course only has 2 digits. We can fix using repetition"
   ]
  },
  {
   "cell_type": "code",
   "execution_count": 8,
   "metadata": {},
   "outputs": [
    {
     "data": {
      "text/plain": [
       "[('John', 'Doe', 'D12345665', 'TU953'),\n",
       " ('Jane', 'Doe', 'D44563217', 'TU256'),\n",
       " ('Lucas', 'Rizzo', 'D12345678', 'TU256'),\n",
       " ('Bojan', 'Bozick', 'C87654321', 'TU44'),\n",
       " ('Richard', 'Boyd Barrett', 'D77553321', 'TU953')]"
      ]
     },
     "execution_count": 8,
     "metadata": {},
     "output_type": "execute_result"
    }
   ],
   "source": [
    "test_pattern(\"(\\w+) ([\\w' ]+) has student number ([CD][\\d]{8}), is enrolled on (TU[\\d]{2,3}).*$\")"
   ]
  },
  {
   "cell_type": "markdown",
   "metadata": {},
   "source": [
    "Finally, we want to match the date of birth. The date of birth is in the format dd/mm/yyyy. The date of birth should be the last part of the string, so we should put our dollar right after our final capturing group. The dot-star will match the *and was born on* part of the text for us"
   ]
  },
  {
   "cell_type": "code",
   "execution_count": 9,
   "metadata": {},
   "outputs": [
    {
     "data": {
      "text/plain": [
       "[('John', 'Doe', 'D12345665', 'TU953', '01/02/1990'),\n",
       " ('Jane', 'Doe', 'D44563217', 'TU256', '02/02/1979'),\n",
       " ('Lucas', 'Rizzo', 'D12345678', 'TU256', '01/01/1960'),\n",
       " ('Bojan', 'Bozick', 'C87654321', 'TU44', '08/08/2002'),\n",
       " ('Richard', 'Boyd Barrett', 'D77553321', 'TU953', '01/03/1988')]"
      ]
     },
     "execution_count": 9,
     "metadata": {},
     "output_type": "execute_result"
    }
   ],
   "source": [
    "test_pattern(\"(\\w+) ([\\w' ]+) has student number ([CD][\\d]{8}), is enrolled on (TU[\\d]{2,3}).* (\\d{2}/\\d{2}/\\d{4})$\")"
   ]
  },
  {
   "cell_type": "markdown",
   "metadata": {},
   "source": [
    "We've done it. Now we can pull out the variables we matched using capturing groups. I'll re-write the code from test_pattern below just for clarity"
   ]
  },
  {
   "cell_type": "code",
   "execution_count": 10,
   "metadata": {},
   "outputs": [
    {
     "name": "stdout",
     "output_type": "stream",
     "text": [
      "first: John\n",
      "last: Doe\n",
      "std_no D12345665\n",
      "course TU953\n",
      "dob 01/02/1990\n",
      "\n",
      "first: Jane\n",
      "last: Doe\n",
      "std_no D44563217\n",
      "course TU256\n",
      "dob 02/02/1979\n",
      "\n",
      "first: Lucas\n",
      "last: Rizzo\n",
      "std_no D12345678\n",
      "course TU256\n",
      "dob 01/01/1960\n",
      "\n",
      "first: Bojan\n",
      "last: Bozick\n",
      "std_no C87654321\n",
      "course TU44\n",
      "dob 08/08/2002\n",
      "\n",
      "first: Richard\n",
      "last: Boyd Barrett\n",
      "std_no D77553321\n",
      "course TU953\n",
      "dob 01/03/1988\n",
      "\n"
     ]
    }
   ],
   "source": [
    "pattern = \"(\\w+) ([\\w' ]+) has student number ([CD][\\d]{8}), is enrolled on (TU[\\d]{2,3}).* (\\d{2}/\\d{2}/\\d{4})$\"\n",
    "regex = re.compile(pattern, re.MULTILINE)\n",
    "matches = regex.findall(text)\n",
    "\n",
    "for match in matches:\n",
    "    first, last, std_no, course, dob = match\n",
    "    print(\"first: \" + first)\n",
    "    print(\"last: \" + last)\n",
    "    print(\"std_no \" + std_no)\n",
    "    print(\"course \" + course)\n",
    "    print(\"dob \" + dob)\n",
    "    print()"
   ]
  },
  {
   "cell_type": "markdown",
   "metadata": {},
   "source": [
    "That's not really very neat. If we use a format string it'll be easier to print it nicely"
   ]
  },
  {
   "cell_type": "code",
   "execution_count": 11,
   "metadata": {},
   "outputs": [
    {
     "name": "stdout",
     "output_type": "stream",
     "text": [
      "first: John, last: Doe, std_no: D12345665, course: TU953, dob: 01/02/1990\n",
      "first: Jane, last: Doe, std_no: D44563217, course: TU256, dob: 02/02/1979\n",
      "first: Lucas, last: Rizzo, std_no: D12345678, course: TU256, dob: 01/01/1960\n",
      "first: Bojan, last: Bozick, std_no: C87654321, course: TU44, dob: 08/08/2002\n",
      "first: Richard, last: Boyd Barrett, std_no: D77553321, course: TU953, dob: 01/03/1988\n"
     ]
    }
   ],
   "source": [
    "for match in matches:\n",
    "    first, last, std_no, course, dob = match\n",
    "    print(f\"first: {first}, last: {last}, std_no: {std_no}, course: {course}, dob: {dob}\")"
   ]
  },
  {
   "cell_type": "markdown",
   "metadata": {},
   "source": [
    "## Your Turn\n",
    "\n",
    "Download the file *ftse_100_salaries.txt*. This file contains the name, company and salary of the top 20 highest paid CEOs of ftse 100 companies. Some of the lines are credits for photographs and should be ignored (if they don't match your regex they'll be ignored).\n",
    "\n",
    "Your task is extract the relevant information from each entry in this file and output a string for each in the following format\n",
    "\n",
    "```\n",
    "<name> is <rank>th on the list, working for <company> and making <amount>\n",
    "```\n",
    "\n",
    "*Bonus: Output the correct suffix for 2nd and 1st (this isn't really regex specific but can be done through regular Python*"
   ]
  },
  {
   "cell_type": "code",
   "execution_count": 20,
   "metadata": {},
   "outputs": [
    {
     "data": {
      "text/plain": [
       "'b\"Data Scraped from https://www.businessinsider.com/the-20-best-paid-ceos-of-the-ftse-100-2017-8?r=US&IR=T#20-antonio-horta-osorio-lloyds-group-55-million-1\\\\n--------------------------------------------------------------------------------------------------------\\\\n20. Antonio Horta Osorio, Lloyds Group - \\\\xa35.5 million\\\\nLloyds Banking Group CEO Antonio Horta Osorio poses outside the bank\\'s headquarters on his first day back at work after taking a leave of absence due to exhaustion, in the City of London, January 9, 2012. \\\\nReuters/Andrew Winning\\\\n19. Stuart Gulliver, HSBC - \\\\xa35.7 million\\\\nGonzalo Fuentes/Reuters\\\\n18. Xavier Rolet, London Stock Exchange Group - \\\\xa35.7 million\\\\nOli Scarff/Getty\\\\n17. Simon Borrows, 3i Group - \\\\xa35.8 milliion\\\\n3i/PA Archive/PA Images\\\\n16. Richard Cousins, Compass Group - \\\\xa35.8 million\\\\nCompass Group\\\\n15. Peter Harrison, Schroders - \\\\xa36.3 million\\\\nSchroders\\\\n14. Peter Crook, Provident Financial - \\\\xa36.3 million\\\\nProvident Financial/PA Archive/PA Images\\\\n13. Paul Polman, Unilever - \\\\xa36.7 million\\\\nStephanie Keith/Getty\\\\n12. Andrew Witty, GlaxoSmithKline - \\\\xa36.8 million\\\\nRuben Sprich/Reuters\\\\n11. Mike Wells, Prudential - \\\\xa36.9 million\\\\nXinhua/SIPA USA/PA Images\\\\n10. Ben Van Beurden, Royal Dutch Shell - \\\\xa36.9 million\\\\nReuters\\\\n9. Flemming Ornskov, Shire - \\\\xa37.5 million\\\\nFlemming Ornskov, CEO of Shire, who came in 9th. \\\\nReuters\\\\n8. Nicandro Durante, British American Tobacco - \\\\xa37.6 million\\\\nNicandro Durante, BAT CEO \\\\nWelcomeToBAT, YouTube\\\\n7. Albert Manifold, CRH - \\\\xa38 million\\\\nNiall Carson/PA\\\\n6. Bob Dudley, BP - \\\\xa38.4 million\\\\nGetty\\\\n5. Erik Engstrom, RELX - \\\\xa310.6 million\\\\nRELX Group/PA\\\\n4. Pascal Soirot, AstraZeneca - \\\\xa313.4 million\\\\nGetty Images\\\\n3. Rakesh Kapoor, Beckitt Benckiser Group - \\\\xa314.6 million\\\\nReckitt Benckiser Chief Executive Rakesh Kapoor. Reckitt Benckiser PA Archive/PA Images\\\\n2. Arnold Donald, Carnival - \\\\xa322.4 million\\\\nReuters\\\\n1. Sir Martin Sorrell, WPP - \\\\xa348.1 million\\\\nSir Martin Sorrell of the WPP advertising firm named last year as Britain\\'s best-paid chief executive. \"'"
      ]
     },
     "execution_count": 20,
     "metadata": {},
     "output_type": "execute_result"
    }
   ],
   "source": [
    "#import re\n",
    "\n",
    "text = None\n",
    "\n",
    "with open(\"./ftse_100_salaries.txt\", 'rb') as f: # used rb to solve 'utf-8' codec error\n",
    "    text = f.read()\n",
    "    \n",
    "text = str(text) # force to string to solve any utf-8 errors\n",
    "text"
   ]
  },
  {
   "cell_type": "code",
   "execution_count": 29,
   "metadata": {},
   "outputs": [
    {
     "name": "stdout",
     "output_type": "stream",
     "text": [
      "name: Antonio Horta Osorio, company: Lloyds Group, salary: €35.5 million\n",
      "name: Stuart Gulliver, company: HSBC, salary: €35.7 million\n",
      "name: Xavier Rolet, company: London Stock Exchange Group, salary: €35.7 million\n",
      "name: Simon Borrows, company: 3i Group, salary: €35.8 million\n",
      "name: Richard Cousins, company: Compass Group, salary: €35.8 million\n",
      "name: Peter Harrison, company: Schroders, salary: €36.3 million\n",
      "name: Peter Crook, company: Provident Financial, salary: €36.3 million\n",
      "name: Paul Polman, company: Unilever, salary: €36.7 million\n",
      "name: Andrew Witty, company: GlaxoSmithKline, salary: €36.8 million\n",
      "name: Mike Wells, company: Prudential, salary: €36.9 million\n",
      "name: Ben Van Beurden, company: Royal Dutch Shell, salary: €36.9 million\n",
      "name: Flemming Ornskov, company: Shire, salary: €37.5 million\n",
      "name: Nicandro Durante, company: British American Tobacco, salary: €37.6 million\n",
      "name: Bob Dudley, company: BP, salary: €38.4 million\n",
      "name: Erik Engstrom, company: RELX, salary: €310.6 million\n",
      "name: Pascal Soirot, company: AstraZeneca, salary: €313.4 million\n",
      "name: Rakesh Kapoor, company: Beckitt Benckiser Group, salary: €314.6 million\n",
      "name: Arnold Donald, company: Carnival, salary: €322.4 million\n",
      "name: Sir Martin Sorrell, company: WPP, salary: €348.1 million\n"
     ]
    }
   ],
   "source": [
    "pattern = \"\\. (\\w+) ([\\w' ]+), ([\\w' ]+) - \\\\\\\\xa([\\d]+.[\\d])\" # from https://regex101.com/\n",
    "regex = re.compile(pattern, re.MULTILINE) # this is a multiline file (it contains linebreaks or \\n characters)\n",
    "matches = regex.findall(text)\n",
    "for match in matches:\n",
    "    first, last, company, salary = match\n",
    "    print(f\"name: {first} {last}, company: {company}, salary: €{salary} million\")"
   ]
  },
  {
   "cell_type": "code",
   "execution_count": null,
   "metadata": {},
   "outputs": [],
   "source": []
  }
 ],
 "metadata": {
  "kernelspec": {
   "display_name": "Python 3",
   "language": "python",
   "name": "python3"
  },
  "language_info": {
   "codemirror_mode": {
    "name": "ipython",
    "version": 3
   },
   "file_extension": ".py",
   "mimetype": "text/x-python",
   "name": "python",
   "nbconvert_exporter": "python",
   "pygments_lexer": "ipython3",
   "version": "3.9.5"
  }
 },
 "nbformat": 4,
 "nbformat_minor": 4
}
