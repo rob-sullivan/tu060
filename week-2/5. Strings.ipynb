{
 "cells": [
  {
   "cell_type": "markdown",
   "metadata": {},
   "source": [
    "# Strings\n",
    "\n",
    "You've already seen strings in Python, we've been using them from the start. This notebook goes into a little more detail on strings, how they're used, and how you can harness their full power."
   ]
  },
  {
   "cell_type": "markdown",
   "metadata": {},
   "source": [
    "## Creating Strings\n",
    "\n",
    "We usually create strings using a string literal. A string literal uses single quotes (') or double quotes (\") to enclose the text. You can use whichever you prefer "
   ]
  },
  {
   "cell_type": "code",
   "execution_count": null,
   "metadata": {},
   "outputs": [],
   "source": [
    "str1 = 'hello'\n",
    "str2 = \"hello\"\n",
    "\n",
    "# Are they the same?\n",
    "str1 == str2"
   ]
  },
  {
   "cell_type": "markdown",
   "metadata": {},
   "source": [
    "The only difference between double and single quotes is in **escaping**. If I open a string with a single quote, it will end as soon as it finds the next single quote. This can be a pain if you need to include single quotes in the string"
   ]
  },
  {
   "cell_type": "code",
   "execution_count": null,
   "metadata": {},
   "outputs": [],
   "source": [
    "# This won't work\n",
    "name = 'They're'"
   ]
  },
  {
   "cell_type": "markdown",
   "metadata": {},
   "source": [
    "You can get around this by using a backslash to *escape* single quotes inside the string. The backslash tells the Python interpreter that the next single-quote (or double-quote) character is part of the string."
   ]
  },
  {
   "cell_type": "code",
   "execution_count": null,
   "metadata": {},
   "outputs": [],
   "source": [
    "# This works, but it's ugly\n",
    "name = 'They\\'re'"
   ]
  },
  {
   "cell_type": "markdown",
   "metadata": {},
   "source": [
    "This is generally ugly and error prone, so an easier method is to use double quotes to mark the string and then you can use the single quotes inside it with no problems"
   ]
  },
  {
   "cell_type": "code",
   "execution_count": null,
   "metadata": {},
   "outputs": [],
   "source": [
    "# This works\n",
    "name = \"They're\""
   ]
  },
  {
   "cell_type": "markdown",
   "metadata": {},
   "source": [
    "Similarly, if your string contains double quotes you can use single quotes to enclose it"
   ]
  },
  {
   "cell_type": "code",
   "execution_count": null,
   "metadata": {},
   "outputs": [],
   "source": [
    "str1 = '\"Come with me\", she said...'\n",
    "str1"
   ]
  },
  {
   "cell_type": "markdown",
   "metadata": {},
   "source": [
    "## Format Strings\n",
    "\n",
    "You may have noticed throughout the notebooks that I've somtimes been putting the letter f just before a string. This is known as an f-string (f for format) and allows you to add variables directly into the string"
   ]
  },
  {
   "cell_type": "code",
   "execution_count": null,
   "metadata": {},
   "outputs": [],
   "source": [
    "# Using variables inside a string old-school\n",
    "name = \"Lucas\"\n",
    "greeting = \"Hello \" + name\n",
    "print(greeting)\n",
    "\n",
    "# Note that we have to convert the number to a string below\n",
    "answer = 42\n",
    "line = \"The answer to life, the universe and everything is \" + str(answer)\n",
    "print(line)\n",
    "\n",
    "line = f\"The answer to life, the universe and everything is {answer}\"\n",
    "print(line)"
   ]
  },
  {
   "cell_type": "markdown",
   "metadata": {},
   "source": [
    "If we prefix a string with f we can add a variable using curly brackets. The python interpreter will look after converting it to a string for us. If we need to use curly brackets inside the string, we can escape them. To escape curly braces in an f-string we just use double curly braces"
   ]
  },
  {
   "cell_type": "code",
   "execution_count": null,
   "metadata": {},
   "outputs": [],
   "source": [
    "with_escape = f\"F-Strings use {{variable_name}} to add variables directly to a string\"\n",
    "print(with_escape)"
   ]
  },
  {
   "cell_type": "markdown",
   "metadata": {},
   "source": [
    "## String Access\n",
    "A string is really just a list of single characters so we can access sub-strings just like we would access the elements of any list"
   ]
  },
  {
   "cell_type": "code",
   "execution_count": null,
   "metadata": {},
   "outputs": [],
   "source": [
    "greeting = 'Hello World'\n",
    "print(f\"The first letter of greeting is {greeting[0]}\")\n",
    "print(f\"The second letter of greeting is {greeting[1]}\")\n",
    "print(f\"The last letter of greeting is {greeting[-1]}\")"
   ]
  },
  {
   "cell_type": "markdown",
   "metadata": {},
   "source": [
    "If we want to pull out multiple letters we can use slicing"
   ]
  },
  {
   "cell_type": "code",
   "execution_count": null,
   "metadata": {},
   "outputs": [],
   "source": [
    "greeting = 'Hello World'\n",
    "print(greeting[1:3])\n",
    "print(greeting[7:10])\n",
    "print(greeting[:5])\n",
    "print(greeting[6:])"
   ]
  },
  {
   "cell_type": "markdown",
   "metadata": {},
   "source": [
    "We can also iterate through the letters of a string using a for loop"
   ]
  },
  {
   "cell_type": "code",
   "execution_count": null,
   "metadata": {},
   "outputs": [],
   "source": [
    "for letter in greeting:\n",
    "    print(f\"*{letter}*\")"
   ]
  },
  {
   "cell_type": "markdown",
   "metadata": {},
   "source": [
    "## Upper and Lower case\n",
    "\n",
    "We can easily convert strings to upper or lower case using the string **upper()** and **lower()** methods. This is often useful when comparing two strings to see if they match. By default, Python treats strings with different capitalisation as different. If we want to do do a **case-insensitive** comparison we can convert both strings to upper or lower case"
   ]
  },
  {
   "cell_type": "code",
   "execution_count": null,
   "metadata": {},
   "outputs": [],
   "source": [
    "str1 = 'hello'\n",
    "str2 = 'HELLO'\n",
    "\n",
    "print(f\"{str1} and {str2} equal? {str1 == str2}\")\n",
    "\n",
    "print(f\"use lower or upper if you don't care about the capitalization... Match? {str1.lower() == str2.lower()}\")"
   ]
  },
  {
   "cell_type": "markdown",
   "metadata": {},
   "source": [
    "## Finding Substrings\n",
    "A substring is any string of characters within another string. 'Hello' is a substring within 'Hello World'. We can use the string **find()** method to find a substring within a string. The **find()** function returns the index of the beginning of the *first occurrence* of the substring. If the substring isn't found then it returns -1"
   ]
  },
  {
   "cell_type": "code",
   "execution_count": null,
   "metadata": {},
   "outputs": [],
   "source": [
    "greeting = 'Hello World'\n",
    "print(f\"The index of H is {greeting.find('H')}\")\n",
    "print(f\"The index of l is {greeting.find('l')}\")\n",
    "print(f\"The index of x is {greeting.find('x')}\")\n",
    "print(f\"The index of World is {greeting.find('World')}\")"
   ]
  },
  {
   "cell_type": "markdown",
   "metadata": {},
   "source": [
    "If we just want to check for a substring we can use the **in** operator. This returns True or False indicating whether the substring was found"
   ]
  },
  {
   "cell_type": "code",
   "execution_count": null,
   "metadata": {},
   "outputs": [],
   "source": [
    "print(f\"Hello is in the string? {'Hello' in greeting}\")\n",
    "print(f\"Bonjour is in the string? {'Bonjour' in greeting}\")\n"
   ]
  },
  {
   "cell_type": "markdown",
   "metadata": {},
   "source": [
    "## Replacing Substrings\n",
    "The **replace()** function allows us to find a certain substring and replace it with something else"
   ]
  },
  {
   "cell_type": "code",
   "execution_count": null,
   "metadata": {},
   "outputs": [],
   "source": [
    "greeting.replace('Hello', 'Goodbye')"
   ]
  },
  {
   "cell_type": "markdown",
   "metadata": {},
   "source": [
    "If the text to replace isn't found then nothing happens, it won't throw an error"
   ]
  },
  {
   "cell_type": "code",
   "execution_count": null,
   "metadata": {},
   "outputs": [],
   "source": [
    "greeting.replace('Bonjour', \"Au Revoir\")"
   ]
  },
  {
   "cell_type": "markdown",
   "metadata": {},
   "source": [
    "## Splitting Strings\n",
    "CSV files use commas to separate values. They're a simple way to store and load data so they're quite common in data science. Python allows us to split a string into a list of strings using the **split()** function. This is particularly handy for reading CSV files"
   ]
  },
  {
   "cell_type": "code",
   "execution_count": null,
   "metadata": {},
   "outputs": [],
   "source": [
    "line = \"Lucas,D1234567,TU123\"\n",
    "data = line.split(',')\n",
    "\n",
    "print(f\"Name is {data[0]}\")\n",
    "print(f\"Student Number is {data[1]}\")\n",
    "print(f\"Course is {data[2]}\")"
   ]
  },
  {
   "cell_type": "markdown",
   "metadata": {},
   "source": [
    "We can also condense this into a one-liner by assigning line.split() to multiple variables"
   ]
  },
  {
   "cell_type": "code",
   "execution_count": null,
   "metadata": {},
   "outputs": [],
   "source": [
    "name, student_no, course = line.split(',')\n",
    "print(f\"Name is {name}\")\n",
    "print(f\"Student Number is {student_no}\")\n",
    "print(f\"Course is {course}\")"
   ]
  },
  {
   "cell_type": "markdown",
   "metadata": {},
   "source": [
    "Another common use of the split() method is to break a string into a list of words. Words are usually seperated by a space, so the following code will give us each word as a separate list item"
   ]
  },
  {
   "cell_type": "code",
   "execution_count": null,
   "metadata": {},
   "outputs": [],
   "source": [
    "text = \"It was the best of times, it was the blurst of times\"\n",
    "words = text.split(' ')\n",
    "words"
   ]
  },
  {
   "cell_type": "markdown",
   "metadata": {},
   "source": [
    "## Joining Strings\n",
    "\n",
    "Joining strings is the opposite of splitting them. If we have a list of values we can convert it to a string using **join()**. We need to choose a character to use to join the strings together."
   ]
  },
  {
   "cell_type": "code",
   "execution_count": null,
   "metadata": {},
   "outputs": [],
   "source": [
    "grades = ['62', '70', '64', '68']\n",
    "print('|'.join(grades))\n",
    "print(','.join(grades))"
   ]
  },
  {
   "cell_type": "code",
   "execution_count": null,
   "metadata": {},
   "outputs": [],
   "source": [
    "verbs = ['get', 'stand', 'stand up for your rights']\n",
    "bob = ' up, '.join(verbs)\n",
    "print(bob)"
   ]
  }
 ],
 "metadata": {
  "kernelspec": {
   "display_name": "Python 3 (ipykernel)",
   "language": "python",
   "name": "python3"
  },
  "language_info": {
   "codemirror_mode": {
    "name": "ipython",
    "version": 3
   },
   "file_extension": ".py",
   "mimetype": "text/x-python",
   "name": "python",
   "nbconvert_exporter": "python",
   "pygments_lexer": "ipython3",
   "version": "3.8.5"
  }
 },
 "nbformat": 4,
 "nbformat_minor": 4
}
