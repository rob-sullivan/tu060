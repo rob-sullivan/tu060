{
 "cells": [
  {
   "cell_type": "markdown",
   "metadata": {},
   "source": [
    "# Dictionaries\n",
    "\n",
    "Dictionaries take their name from language dictionaries. A dictionary contains definitions for every word in a language. In a dictionary, each word is a **key** and the definition is a **value**. If I want to look up the definition of the word *Pythonesque* I'd look through the keys in the dictionary (which are arranged in alphabetical order to make it easy for me) until I found the key. The actual information I'm looking for (the definition) is the value\n",
    "\n",
    "**Pythonesque**: after the style of or resembling the absurdist or surrealist humour of Monty Python's Flying Circus, a British television comedy series "
   ]
  },
  {
   "cell_type": "markdown",
   "metadata": {},
   "source": [
    "A python dictionary doesn't need to store its keys in alphabetical order (computers are much better than humans at loking things up), but it follows the same principle. You use a dictionary to store information (a *value*) about some key. You can then use that key to retrieve the value."
   ]
  },
  {
   "cell_type": "code",
   "execution_count": null,
   "metadata": {
    "scrolled": true
   },
   "outputs": [],
   "source": [
    "csvs = ['d12345678,75','d87654321,50','d55543443,63','d12345678,72','d87654321,65','d55543443,54']\n",
    "\n",
    "grades = dict()\n",
    "\n",
    "for csv in csvs:\n",
    "    student_no, grade = csv.split(',')\n",
    "    current_grade = grades.get(student_no, 0)\n",
    "    grades[student_no] = current_grade + int(grade)\n",
    "    \n",
    "grades"
   ]
  },
  {
   "cell_type": "code",
   "execution_count": null,
   "metadata": {},
   "outputs": [],
   "source": [
    "\n",
    "\n",
    "module_ects = dict()\n",
    "module_ects['working with data'] = 10\n",
    "module_ects['probability and statistical inference'] = 5\n",
    "module_ects['data mining'] = 5\n",
    "print(f\"Module ECTS dictionary: {module_ects}\")\n",
    "\n",
    "print(f\"Working with data is worth {module_ects['working with data']} credits\")"
   ]
  },
  {
   "cell_type": "markdown",
   "metadata": {},
   "source": [
    "When we wanted to access an item by index in a list we used square bracket notation. A dictionary is similar. However, whereas list indexes are always numbers dictionary keys can be any value at all."
   ]
  },
  {
   "cell_type": "markdown",
   "metadata": {},
   "source": [
    "We saw that we could create lists using square bracket notation (list literals). Similarly, we can create a dictionary using curly-bracket notation {}\n",
    "\n",
    "```python\n",
    "{key1: value1, key2: value2, key3: value3}\n",
    "```\n"
   ]
  },
  {
   "cell_type": "markdown",
   "metadata": {},
   "source": [
    "We can re-write the code above using a dictionary literal"
   ]
  },
  {
   "cell_type": "code",
   "execution_count": null,
   "metadata": {},
   "outputs": [],
   "source": [
    "module_ects = {'working with data': 10, 'probability and statistical inference': 5, 'data mining': 5}\n",
    "module_ects"
   ]
  },
  {
   "cell_type": "code",
   "execution_count": null,
   "metadata": {},
   "outputs": [],
   "source": [
    "module_ects.keys()"
   ]
  },
  {
   "cell_type": "markdown",
   "metadata": {},
   "source": [
    "## Retrieving Values from a Dictionary\n",
    "\n",
    "We can retrieve items from a dictionary just like we would from a list, using square brackets and passing in the *key*.  "
   ]
  },
  {
   "cell_type": "code",
   "execution_count": null,
   "metadata": {},
   "outputs": [],
   "source": [
    "do_a_deer = {'do': 'a deer, a female deer',\n",
    "                're': 'a drop of golden sun',\n",
    "                'mi': 'a name I call myself',\n",
    "                'fa': 'a long long way to run',\n",
    "                'so': 'a needle pulling thread',\n",
    "                'la': 'a note to follow so',\n",
    "                'ti': 'a drink with jam and bread'}"
   ]
  },
  {
   "cell_type": "code",
   "execution_count": null,
   "metadata": {},
   "outputs": [],
   "source": [
    "print(do_a_deer['do'])\n",
    "print(do_a_deer['fa'])"
   ]
  },
  {
   "cell_type": "code",
   "execution_count": null,
   "metadata": {},
   "outputs": [],
   "source": [
    "# Trying to access a non-existant key gives an error\n",
    "print(do_a_deer['doh'])\n",
    "\n",
    "if 'doh' in do_a_deer:\n",
    "    print(do_a_dder['doh'])"
   ]
  },
  {
   "cell_type": "markdown",
   "metadata": {},
   "source": [
    "When we use square bracket notation, we need to be sure that the key exists, otherwise we'll get an error. Python dictionaries also have a **get()** method. The get() method allows us to choose a default value to return if the key isn't found in the dictionary"
   ]
  },
  {
   "cell_type": "code",
   "execution_count": null,
   "metadata": {},
   "outputs": [],
   "source": [
    "print(do_a_deer.get('so'))\n",
    "print(do_a_deer.get('doh', 'not in the song'))"
   ]
  },
  {
   "cell_type": "markdown",
   "metadata": {},
   "source": [
    "## Adding Items to a Dictionary\n",
    "\n",
    "Adding items ot a dictionary is very similar to retrieving them. Again, we use square bracket notation."
   ]
  },
  {
   "cell_type": "code",
   "execution_count": null,
   "metadata": {},
   "outputs": [],
   "source": [
    "do_a_deer['doh'] = 'Homer Simpson'\n",
    "print(do_a_deer)"
   ]
  },
  {
   "cell_type": "markdown",
   "metadata": {},
   "source": [
    "If the key already exists in the dictionary assigning a new value will just overwrite the old one"
   ]
  },
  {
   "cell_type": "code",
   "execution_count": null,
   "metadata": {},
   "outputs": [],
   "source": [
    "do_a_deer['do'] = 'That will take us back to do, oh, oh, oh'\n",
    "print(do_a_deer)"
   ]
  },
  {
   "cell_type": "code",
   "execution_count": null,
   "metadata": {},
   "outputs": [],
   "source": [
    "# Let's undo that last action\n",
    "do_a_deer['do'] = 'a deer, a female deer'"
   ]
  },
  {
   "cell_type": "markdown",
   "metadata": {},
   "source": [
    "## Removing Items from a Dictionary\n",
    "The **del** keyword allows you to delete an item from a dictionary. Let's remove the *doh* we added earlier"
   ]
  },
  {
   "cell_type": "code",
   "execution_count": null,
   "metadata": {},
   "outputs": [],
   "source": [
    "del do_a_deer['doh']\n",
    "print(do_a_deer)"
   ]
  },
  {
   "cell_type": "markdown",
   "metadata": {},
   "source": [
    "## Getting the Keys from a Dictionary\n",
    "If we want to extract all of the keys from a dictionary we can use the **.keys()** method"
   ]
  },
  {
   "cell_type": "code",
   "execution_count": null,
   "metadata": {},
   "outputs": [],
   "source": [
    "all_keys = do_a_deer.keys()\n",
    "for key in all_keys:\n",
    "    print(key)"
   ]
  },
  {
   "cell_type": "markdown",
   "metadata": {},
   "source": [
    "Generally speaking, the keys will be returned in the order they were added but you **can't rely on this**. A dictionary stores its keys as a set, and as we've seen earlier there's no concept of order in a set."
   ]
  },
  {
   "cell_type": "markdown",
   "metadata": {},
   "source": [
    "## Getting the Values from a Dictionary\n",
    "\n",
    "We can do the same thing with the values, instead of the keys. The **.values()** method does this for us. Again, the values will usually be returned in the order they were added but this isn't guaranteed. A dictionary has no concept of ordering."
   ]
  },
  {
   "cell_type": "code",
   "execution_count": null,
   "metadata": {},
   "outputs": [],
   "source": [
    "all_values = do_a_deer.values()\n",
    "for value in all_values:\n",
    "    print(value)"
   ]
  },
  {
   "cell_type": "markdown",
   "metadata": {},
   "source": [
    "## Getting the Keys and Values from a Dictionary\n",
    "Finally, we can get all key-value-pairs from a dictionary using the **.items()** method."
   ]
  },
  {
   "cell_type": "code",
   "execution_count": null,
   "metadata": {},
   "outputs": [],
   "source": [
    "all_items = do_a_deer.items()\n",
    "for key, value in all_items:\n",
    "    print(f\"{key}, {value}\")"
   ]
  },
  {
   "cell_type": "markdown",
   "metadata": {},
   "source": [
    "# Uses of Dictionaries\n",
    "\n",
    "Dictionaries are quite commonly used in Python. They have two main purposes; to function as light-weight classes and to act as counters"
   ]
  },
  {
   "cell_type": "markdown",
   "metadata": {},
   "source": [
    "## Dictionaries as Classes\n",
    "\n",
    "You may be familiar with classes (or structs) in other programming languages. A class is a kind of template which allows you to group lots of information about (properties of) a single item into a single variable. If we wanted to represent, say, a student in a python script we could use a dictionary to do it for us"
   ]
  },
  {
   "cell_type": "code",
   "execution_count": null,
   "metadata": {},
   "outputs": [],
   "source": [
    "lucas = {'name': \"Lucas Rizzo\", 'student number': 'D1234567', 'course code': 'TU123'}\n",
    "jill = {'name': \"Jill Rizzo\", 'student number': 'D7654321', 'course code': 'TU123'}\n",
    "\n",
    "students = [lucas, jill]\n",
    "for student in students:\n",
    "    print(f\"Student name: {student['name']} | number: {student['student number']} | course code: {student['course code']}\")"
   ]
  },
  {
   "cell_type": "markdown",
   "metadata": {},
   "source": [
    "Python does allow us to create classes, I'm not going to get into it here, but if you're interested in finding out more you can check this [quick high-level tutorial](https://www.w3schools.com/python/python_classes.asp) or the more verbose [Python Docs](https://docs.python.org/3/tutorial/classes.html)"
   ]
  },
  {
   "cell_type": "markdown",
   "metadata": {},
   "source": [
    "### Dictionaries as Counters\n",
    "\n",
    "Dictionaries can also be used as counters. Say we wanted to count the number of occurrences of each item in a list, we can use a dictionary to help us out.\n",
    "\n",
    "In the example below I've created a list of books. Each book has an author and a title. The code below uses a dictionary to count the number of books written by each author"
   ]
  },
  {
   "cell_type": "code",
   "execution_count": null,
   "metadata": {},
   "outputs": [],
   "source": [
    "library = [{\"author\": \"Sally Rooney\", \"title\": \"Conversations with Friends\"}, {\"author\": \"David Mitchell\", \"title\": \"Number 9 Dream\"}, {\"author\": \"Sally Rooney\", \"title\": \"Normal People\"}]\n",
    "\n",
    "author_counts = dict() # start with an empty dictionary\n",
    "\n",
    "for book in library:\n",
    "    author = book['author']\n",
    "    current_count_for_author = author_counts.get(author, 0) # get the current value (0 if it is not in the dictionary)\n",
    "    author_counts[author] = current_count_for_author + 1\n",
    "\n",
    "print(author_counts)"
   ]
  },
  {
   "cell_type": "code",
   "execution_count": null,
   "metadata": {},
   "outputs": [],
   "source": []
  }
 ],
 "metadata": {
  "kernelspec": {
   "display_name": "Python 3 (ipykernel)",
   "language": "python",
   "name": "python3"
  },
  "language_info": {
   "codemirror_mode": {
    "name": "ipython",
    "version": 3
   },
   "file_extension": ".py",
   "mimetype": "text/x-python",
   "name": "python",
   "nbconvert_exporter": "python",
   "pygments_lexer": "ipython3",
   "version": "3.8.5"
  }
 },
 "nbformat": 4,
 "nbformat_minor": 4
}
