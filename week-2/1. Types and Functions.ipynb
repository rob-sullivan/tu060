{
 "cells": [
  {
   "cell_type": "markdown",
   "metadata": {},
   "source": [
    "# Coding Essentials\n",
    "\n",
    "This week we'll take a whirlwind tour of Python. We'll start with a quick review of data types, functions and operators and then we'll focus in on the main data structures used in Python; *lists*, *dictionaries* and *sets*."
   ]
  },
  {
   "cell_type": "markdown",
   "metadata": {},
   "source": [
    "## Review of Types\n",
    "\n",
    "Every value in Python has a **type**, which tells us whether that value is a number, a True/False flag, a string *etc.*"
   ]
  },
  {
   "cell_type": "markdown",
   "metadata": {},
   "source": [
    "### Checking Types\n",
    "\n",
    "You can check the type of a variable using the python **type()** function"
   ]
  },
  {
   "cell_type": "code",
   "execution_count": null,
   "metadata": {},
   "outputs": [],
   "source": [
    "# The string type is referred to as str in python\n",
    "name = 'Lucas'\n",
    "type(name)"
   ]
  },
  {
   "cell_type": "code",
   "execution_count": null,
   "metadata": {},
   "outputs": [],
   "source": [
    "# The True/False flag is referred to as a bool\n",
    "prime = True\n",
    "type(prime)"
   ]
  },
  {
   "cell_type": "code",
   "execution_count": null,
   "metadata": {},
   "outputs": [],
   "source": [
    "# Whole numbers are ints\n",
    "count = 20\n",
    "type(count)"
   ]
  },
  {
   "cell_type": "code",
   "execution_count": null,
   "metadata": {},
   "outputs": [],
   "source": [
    "# Numbers with a decimal point are floats\n",
    "people = 3\n",
    "slices = 5\n",
    "slices_per_person = people / slices\n",
    "type(slices_per_person)"
   ]
  },
  {
   "cell_type": "markdown",
   "metadata": {},
   "source": [
    "### Converting Types\n",
    "\n",
    "Each type has a corresponding function which converts any value to that type (if there's a sensible way to do that). Python will sometimes automatically convert between types for us (for example, ints will be automatically converted to floats if a division operation leaves a decimal place)."
   ]
  },
  {
   "cell_type": "code",
   "execution_count": null,
   "metadata": {},
   "outputs": [],
   "source": [
    "# The int() function converts a value to an integer.\n",
    "# Note that this function completely ignores the decimal place, it doesn't round\n",
    "\n",
    "population_ireland = 4.9\n",
    "\n",
    "population_ireland_int = int(population_ireland)\n",
    "\n",
    "# Print the population using f-string. If you are not familiar with f-string format have a look here\n",
    "# https://www.datacamp.com/community/tutorials/f-string-formatting-in-python\n",
    "print(f\"The population of Ireland is approximately {population_ireland_int} million (??)\")\n",
    "\n",
    "population_rounded = round(4.9)\n",
    "print(f\"The population of Ireland is approximately {population_rounded} million\")"
   ]
  },
  {
   "cell_type": "code",
   "execution_count": null,
   "metadata": {},
   "outputs": [],
   "source": [
    "# bool types can be converted to ints. False becomes 0 and True becomes 1\n",
    "# this is because of an old convention in programming of using 1 for True and 0 for False\n",
    "\n",
    "coin1_heads = True\n",
    "coin2_heads = True\n",
    "coin3_heads = False\n",
    "\n",
    "total_heads = coin1_heads + coin2_heads + coin3_heads\n",
    "\n",
    "print(f\"In total we flipped {total_heads} heads\")"
   ]
  },
  {
   "cell_type": "code",
   "execution_count": null,
   "metadata": {},
   "outputs": [],
   "source": [
    "# String representations of numbers can be converted to ints\n",
    "# If the string isn't a valid representation of a number you'll get an error\n",
    "\n",
    "number_of_modules_str = \"4\"\n",
    "print(f\"number_of_modules_str is of type {type(number_of_modules_str)}\")\n",
    "\n",
    "number_of_modules = int(number_of_modules_str)\n",
    "print(f\"number_of_modules is of type {type(number_of_modules)}\")"
   ]
  },
  {
   "cell_type": "code",
   "execution_count": null,
   "metadata": {},
   "outputs": [],
   "source": [
    "# Be careful if you're converting from a string to a number\n",
    "student_number = \"D12345678\"\n",
    "int(student_number)"
   ]
  },
  {
   "cell_type": "markdown",
   "metadata": {},
   "source": [
    "You can also use the **bool()**, **float()** and **str()** functions to convert to other types. You can find comprehensive information on the built-in datatypes in the [Python docs](https://docs.python.org/3/library/stdtypes.html)\n"
   ]
  },
  {
   "cell_type": "markdown",
   "metadata": {},
   "source": [
    "## Operators\n",
    "\n",
    "Operators are symbols which take one or more values and produce a result. Put more simply, operators are things like **+**, **-**, **&ast;** and **/** which add, subtract, multiply and divide two values.\n",
    "\n",
    "What an operator does generally depends on the types of the *operands* (the values it's working with)"
   ]
  },
  {
   "cell_type": "code",
   "execution_count": null,
   "metadata": {},
   "outputs": [],
   "source": [
    "arithmetic_add = 1 + 1\n",
    "string_add = \"1\" + \"1\"\n",
    "\n",
    "print(f\"When we're working with numbers, 1 + 1 = {1 + 1}\")\n",
    "print(f\"When we're workign with strings, 1 + 1 = {'1' + '1'}\")\n",
    "\n",
    "print(\"If we mix a string and a number we get an error\")\n",
    "1 + int(\"1\")"
   ]
  },
  {
   "cell_type": "markdown",
   "metadata": {},
   "source": [
    "Python supports comparison operators. The most popular comparison operators are **&gt;**, **&lt;** **&ge; ** **&le;&& **==** and **!=**\n",
    "\n",
    "The double equals checks for equality (rather than assigning a value). != is the opposite of ==, it returns true if the operands are different "
   ]
  },
  {
   "cell_type": "code",
   "execution_count": null,
   "metadata": {},
   "outputs": [],
   "source": [
    "print(f\"5  > 7    : {5 > 7}\")\n",
    "print(f\"6  >= 6   : {6 >= 6}\")\n",
    "print(f\"14 <= 12  : {14 <= 12}\")\n",
    "print(f\"5  == 5   : {5 == 5}\")\n",
    "print(f\"5  != 5   : {5 != 5}\")\n",
    "print(f\"8  == '8' : {8 == '8'}\")"
   ]
  },
  {
   "cell_type": "markdown",
   "metadata": {},
   "source": [
    "Boolean operators allow us to combine two boolean values using **and** or **or**. Unlike many programming languages which use amnpersands &amp; and vertical bars | for this operator. Python uses the plain English words **and** and **or**.\n",
    "\n",
    "We can use the keyword **not** to flip a bool from True to False or False to True"
   ]
  },
  {
   "cell_type": "code",
   "execution_count": null,
   "metadata": {},
   "outputs": [],
   "source": [
    "t = True\n",
    "f = False\n",
    "\n",
    "print(f\"*and* returns true if both operands are true: t and f is {t and f}, t and t is {t and t}\")\n",
    "print(f\"*or* returns true if either operand is true: t or f is {f or not t}, f or not t is {f or not t}\")"
   ]
  },
  {
   "cell_type": "markdown",
   "metadata": {},
   "source": [
    "The modulo operator **&#37;** divides the first number by the second and returns the remainder. This operator comes from the days when you couldn't automatically convert types and would need to check the remainder after performing any kind of division."
   ]
  },
  {
   "cell_type": "code",
   "execution_count": null,
   "metadata": {},
   "outputs": [],
   "source": [
    "print(f\"5 divided by 2 is {int(5 / 2)} with {5 % 2} left over\")\n",
    "\n",
    "# If a % b is 0 then b divides into a evenly\n",
    "\n",
    "for number in [1, 3, 4, 5, 12]:\n",
    "    if number % 2 == 0:\n",
    "        print(f\"{number} is even\")\n",
    "    else:\n",
    "        print(f\"{number} is odd\")"
   ]
  },
  {
   "cell_type": "markdown",
   "metadata": {},
   "source": [
    "## Functions\n",
    "\n",
    "A function is a re-usable block of code we can use in our scripts. Before we can use a function we need to *define* it using the **def** keyword. Every function needs a name, if the function is going to take any inputs we also need to give them a name. Later, when we want to call the function we'll give values for each of the inputs. When we call the function we get back whatever value the function returns"
   ]
  },
  {
   "cell_type": "code",
   "execution_count": null,
   "metadata": {},
   "outputs": [],
   "source": [
    "def isEven(number):\n",
    "    if number % 2 == 0:\n",
    "        return True\n",
    "    else:\n",
    "        return False\n",
    "    \n",
    "print(\"Before we can use a function we need to define it\")\n",
    "print(\"When we want to use a function we need to call it\")\n",
    "print(f\"2 is even? {isEven(2)}\")\n",
    "print(f\"3 is even? {isEven(3)}\")"
   ]
  },
  {
   "cell_type": "markdown",
   "metadata": {},
   "source": [
    "Functions are useful because\n",
    "\n",
    "* They cut down the amount of code we have to write\n",
    "* If named properly they make your code more readable\n",
    "* It's easy to re-use functions in other scripts\n",
    "* They make it easier to test and debug your code\n",
    "\n"
   ]
  },
  {
   "cell_type": "code",
   "execution_count": null,
   "metadata": {},
   "outputs": [],
   "source": [
    "# Whenever we call this function we need to give it two values\n",
    "# The function returns the larger values\n",
    "# If both are the same it returns \"None\", the Python equivalent of null\n",
    "def theLargerOf(first, second):\n",
    "    if first > second:\n",
    "        return first\n",
    "    elif second > first:\n",
    "        return second\n",
    "    else:\n",
    "        return None\n",
    "    \n",
    "print(f\"The larger number of 2 and 12 is {theLargerOf(2, 12)}\")\n",
    "print(f\"The larger number of 8 and 3 is {theLargerOf(8, 3)}\")\n",
    "print(f\"The larger number of 6 and 6 is {theLargerOf(6, 6)}\")\n",
    "\n",
    "# This will become 14 + 5\n",
    "theLargerOf(6, 14) + theLargerOf(3, 5)"
   ]
  },
  {
   "cell_type": "markdown",
   "metadata": {},
   "source": [
    "### Chaining Functions\n",
    "\n",
    "Python code is often *terse* (or short). Coders writing Python generally try to write as few lines as possible (while keeping their code readable). One technique you'll see a lot of is function chaining."
   ]
  },
  {
   "cell_type": "code",
   "execution_count": null,
   "metadata": {},
   "outputs": [],
   "source": [
    "def double(number):\n",
    "    return number * 2\n",
    "\n",
    "x = 1\n",
    "x = double(x)\n",
    "x = double(x)\n",
    "x"
   ]
  },
  {
   "cell_type": "markdown",
   "metadata": {},
   "source": [
    "This code assigns a value of 1 to x and then doubles it twice (quadruples it). We can put all of this on a single line using function chaining"
   ]
  },
  {
   "cell_type": "code",
   "execution_count": null,
   "metadata": {},
   "outputs": [],
   "source": [
    "x = double(double(1))\n",
    "x"
   ]
  },
  {
   "cell_type": "markdown",
   "metadata": {},
   "source": [
    "The python interpreter starts from the innermost function and works its way out. Behind the scenes this line of code unfolds like this\n",
    "\n",
    "```python\n",
    "x = double(double(1))\n",
    "# First the interpreter evaluates double(1) (which gives 2)\n",
    "x = double(2)\n",
    "# Then the interpreter evalues double(2) (which gives 4)\n",
    "x = 4\n",
    "# Finally it assigns the value 4 to the variable x\n",
    "```"
   ]
  },
  {
   "cell_type": "markdown",
   "metadata": {},
   "source": [
    "### Mapping Functions (Advanced)\n",
    "\n",
    "It's very common in Python to want to apply a function to every element in a list. We come up against this kind of situation when we're normalising data, for example. We could do it using a loop, but it's not very readable and often not very efficient"
   ]
  },
  {
   "cell_type": "code",
   "execution_count": null,
   "metadata": {},
   "outputs": [],
   "source": [
    "# create a new list which doubles the value of every item in *numbers*\n",
    "numbers = [1, 2, 3, 4, 5, 6, 7, 8, 9, 10]\n",
    "\n",
    "def double(number):\n",
    "    return number * 2\n",
    "\n",
    "# create a new list to hold our doubled numbers\n",
    "doubles = []\n",
    "for number in numbers:\n",
    "    doubled_number = double(number)\n",
    "    doubles.append(doubled_number)\n",
    "    \n",
    "# Jupyter prints out whatever's on the last line of a cell. This line lets us see our doubles list\n",
    "doubles"
   ]
  },
  {
   "cell_type": "markdown",
   "metadata": {},
   "source": [
    "Anyone coming to Python from traditional object oriented languages such as C++, C or older versions of Java might approach the problem as above. This works just fine, but it's quite a lot of code. It's difficult to tell exactly what's going on without reading through the code line by line.\n",
    "\n",
    "The python **map()** function allows us to take a function and apply it to every value in a list. Using the **map()** function we can reduce the number of lines of code significantly."
   ]
  },
  {
   "cell_type": "code",
   "execution_count": null,
   "metadata": {},
   "outputs": [],
   "source": [
    "numbers = [1, 2, 3, 4, 5, 6, 7, 8, 9, 10]\n",
    "\n",
    "def double(number):\n",
    "    return number * 2\n",
    "\n",
    "# The first parameter to map is the name of the function we want to apply\n",
    "# The second parameter is a list of values to apply it to\n",
    "doubles = map(double, numbers)\n",
    "\n",
    "# We need to convert the output of map() back to a list to print it\n",
    "list(doubles)"
   ]
  },
  {
   "cell_type": "markdown",
   "metadata": {},
   "source": [
    "In the example above we tell the Python interpreter that we'd like to run every number in the numbers list through the *double()* function. The map function will create a new list for us with the output of that function for each item. Note that when we want to print the output we need to convert it back to a list using the list() function"
   ]
  },
  {
   "cell_type": "markdown",
   "metadata": {},
   "source": [
    "### Lambdas\n",
    "We can reduce the lines of code here even further using a **lambda**. A lambda is a one-line anonymous function. It gives us a short-hand way to write a function. The following two functions are equivalent"
   ]
  },
  {
   "cell_type": "code",
   "execution_count": null,
   "metadata": {},
   "outputs": [],
   "source": [
    "def double(number):\n",
    "    return number * 2\n",
    "\n",
    "lambda number: number * 2"
   ]
  },
  {
   "cell_type": "markdown",
   "metadata": {},
   "source": [
    "You can see above that a lambda leaves out the **def** and **return** keywords. It doesn't have a name so all we have to write is the name of the parameter and what we'd like to return. We use the keyword **lambda** to tell the interpreter this is a lambda function. By convention, people tend to use **x** as the parameter name when writing a lambda. Putting it altogether we have"
   ]
  },
  {
   "cell_type": "code",
   "execution_count": null,
   "metadata": {},
   "outputs": [],
   "source": [
    "numbers = [1, 2, 3, 4, 5, 6, 7, 8, 9, 10]\n",
    "\n",
    "doubles = map(lambda x: x * 2, numbers)\n",
    "\n",
    "# We need to convert the output of map() back to a list to print it\n",
    "list(doubles)"
   ]
  }
 ],
 "metadata": {
  "kernelspec": {
   "display_name": "Python 3 (ipykernel)",
   "language": "python",
   "name": "python3"
  },
  "language_info": {
   "codemirror_mode": {
    "name": "ipython",
    "version": 3
   },
   "file_extension": ".py",
   "mimetype": "text/x-python",
   "name": "python",
   "nbconvert_exporter": "python",
   "pygments_lexer": "ipython3",
   "version": "3.8.5"
  }
 },
 "nbformat": 4,
 "nbformat_minor": 4
}
