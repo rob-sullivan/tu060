{
 "cells": [
  {
   "cell_type": "code",
   "execution_count": 2,
   "id": "ebadb0b9",
   "metadata": {},
   "outputs": [
    {
     "name": "stdout",
     "output_type": "stream",
     "text": [
      "{'cd', 'ab'}\n",
      "set()\n",
      "{'ab'}\n"
     ]
    }
   ],
   "source": [
    "def f1(s1, s2, op=4): #s=set\n",
    "    if op == 1:\n",
    "        temp = s1.intersection(s2)\n",
    "    elif op == 2:\n",
    "        temp = s1.difference(s2)\n",
    "    else:\n",
    "        temp = s1.union(s2)\n",
    "    return temp\n",
    "\n",
    "set1 = {'ab'}\n",
    "set2 = {'cd'}\n",
    "\n",
    "print(f1(set1, set2)) #set 1 and set 2 so it checks if s1 is union s2\n",
    "print(f1(set1, set2, 1))\n",
    "print(f1(set1, set2, 2))"
   ]
  },
  {
   "cell_type": "code",
   "execution_count": 4,
   "id": "f9cdd56d",
   "metadata": {},
   "outputs": [
    {
     "name": "stdout",
     "output_type": "stream",
     "text": [
      "33\n",
      "walter\n",
      "True\n",
      "{'bill': -1, 'rich': 2, 'fred': 10, 'walter': 20}\n"
     ]
    }
   ],
   "source": [
    "def f1(my_dict):\n",
    "    temp = 0\n",
    "    for value in my_dict.values():\n",
    "        temp = temp + value\n",
    "    return temp\n",
    "\n",
    "def f2(my_dict):\n",
    "    temp = ''\n",
    "    for key in my_dict:\n",
    "        if temp < key:\n",
    "            temp = key\n",
    "    return temp\n",
    "\n",
    "def f3(my_dict, k, v):\n",
    "    if k in my_dict:\n",
    "        my_dict[k] = v\n",
    "        \n",
    "#main code\n",
    "a_dict = {'bill': 1, 'rich': 2, 'fred': 10, 'walter': 20}\n",
    "print(f1(a_dict))\n",
    "print(f2(a_dict))\n",
    "print(None == f3(a_dict, 'bill', -1))\n",
    "print(a_dict)"
   ]
  },
  {
   "cell_type": "code",
   "execution_count": null,
   "id": "51e26469",
   "metadata": {},
   "outputs": [],
   "source": []
  }
 ],
 "metadata": {
  "kernelspec": {
   "display_name": "Python 3",
   "language": "python",
   "name": "python3"
  },
  "language_info": {
   "codemirror_mode": {
    "name": "ipython",
    "version": 3
   },
   "file_extension": ".py",
   "mimetype": "text/x-python",
   "name": "python",
   "nbconvert_exporter": "python",
   "pygments_lexer": "ipython3",
   "version": "3.9.5"
  }
 },
 "nbformat": 4,
 "nbformat_minor": 5
}
