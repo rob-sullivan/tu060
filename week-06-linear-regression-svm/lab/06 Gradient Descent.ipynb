{
 "cells": [
  {
   "cell_type": "markdown",
   "metadata": {},
   "source": [
    "## Gradient Descent \n",
    "The standard linear regression solver in `sklearn` uses a closed form solution to find the parameters (using matrix operations), see: http://mathworld.wolfram.com/Closed-FormSolution.html.  \n",
    "However, `sklearn` aslo includes a (Stochastic) Gradient Descent implementation. "
   ]
  },
  {
   "cell_type": "code",
   "execution_count": null,
   "metadata": {},
   "outputs": [],
   "source": [
    "import pandas as pd\n",
    "from sklearn.linear_model import SGDRegressor\n",
    "weight_pd = pd.read_csv('weightV2.csv')\n",
    "weight_pd.head()"
   ]
  },
  {
   "cell_type": "code",
   "execution_count": null,
   "metadata": {},
   "outputs": [],
   "source": [
    "y = weight_pd.pop('Weight').values\n",
    "X = weight_pd.values\n",
    "X.shape"
   ]
  },
  {
   "cell_type": "markdown",
   "metadata": {},
   "source": [
    "It is important to scale data before using SGD"
   ]
  },
  {
   "cell_type": "code",
   "execution_count": null,
   "metadata": {},
   "outputs": [],
   "source": [
    "from sklearn.preprocessing import StandardScaler\n",
    "scaler = StandardScaler()\n",
    "scaler.fit(X)  \n",
    "X = scaler.transform(X)"
   ]
  },
  {
   "cell_type": "code",
   "execution_count": null,
   "metadata": {},
   "outputs": [],
   "source": [
    "iters =range(1,7) # We look at the first 6 iterations of the GD process"
   ]
  },
  {
   "cell_type": "markdown",
   "metadata": {},
   "source": [
    "The strategy is to run SGD multiple times with 1, then 2 then 3 iterations etc.  \n",
    "The warning messages are because the algorithm is not getting to converge."
   ]
  },
  {
   "cell_type": "code",
   "execution_count": null,
   "metadata": {},
   "outputs": [],
   "source": [
    "slopes = [None]\n",
    "intercepts = [None]\n",
    "rsq = [None]\n",
    "\n",
    "for i in iters:\n",
    "    reg = SGDRegressor(max_iter=i).fit(X, y)\n",
    "    slopes.append(reg.coef_[0])\n",
    "    intercepts.append(reg.intercept_[0])\n",
    "    rsq.append(reg.score(X, y))\n",
    "    print(' R squared statistic: {:.2f}'.format(rsq[i]))\n",
    "    print(' Slope: {:.2f}'.format(slopes[i]))\n",
    "    print(' Intercept: {:.2f}'.format(intercepts[i]))"
   ]
  },
  {
   "cell_type": "code",
   "execution_count": null,
   "metadata": {},
   "outputs": [],
   "source": [
    "slopes"
   ]
  },
  {
   "cell_type": "code",
   "execution_count": null,
   "metadata": {},
   "outputs": [],
   "source": [
    "import matplotlib.pyplot as plt\n",
    "%matplotlib inline\n",
    "Y_pred = reg.predict(X)\n",
    "\n",
    "plt.scatter(X, y, s = 10)\n",
    "plt.plot(X, Y_pred, color='red')\n",
    "plt.xlabel('Waist')\n",
    "plt.ylabel('Weight')\n",
    "plt.title ('Weight v Waist with Regression Line' )\n",
    "plt.show()"
   ]
  },
  {
   "cell_type": "markdown",
   "metadata": {},
   "source": [
    "### Plot the progress of the SGD through the solution space\n",
    "The model has two parameters (slope and intercept) so we have a 2D solution space.  \n",
    "Ok, we are restarting the SGD multiple times so this is not a true SGD track."
   ]
  },
  {
   "cell_type": "code",
   "execution_count": null,
   "metadata": {},
   "outputs": [],
   "source": [
    "import matplotlib.pyplot as plt\n",
    "%matplotlib inline\n",
    "\n",
    "plt.plot(slopes, intercepts)\n",
    "plt.scatter(slopes, intercepts, s = 10)\n",
    "plt.xlabel('Slopes')\n",
    "plt.ylabel('Intercepts')\n",
    "plt.title ('Slope v Intercept - convergence' )\n",
    "plt.show()"
   ]
  },
  {
   "cell_type": "markdown",
   "metadata": {},
   "source": [
    "### Plot progress through the parameter space and the associated model"
   ]
  },
  {
   "cell_type": "code",
   "execution_count": null,
   "metadata": {},
   "outputs": [],
   "source": [
    "# A function to calculate two y values for two values of x - used in the plots.\n",
    "def lin_reg(s,ic,x1,x2):\n",
    "    y1 = ic + s * x1\n",
    "    y2 = ic + s * x2\n",
    "    return y1,y2"
   ]
  },
  {
   "cell_type": "code",
   "execution_count": null,
   "metadata": {},
   "outputs": [],
   "source": [
    "for step in iters:\n",
    "    print(slopes[step],intercepts[step])"
   ]
  },
  {
   "cell_type": "code",
   "execution_count": null,
   "metadata": {},
   "outputs": [],
   "source": [
    "x_min = -2.4\n",
    "x_max = 3.4\n",
    "x_lims = [12,23]\n",
    "y_lims = [90,180]\n",
    "\n",
    "fig = plt.figure(figsize=(8,20))\n",
    "fig.subplots_adjust(hspace=0.4, wspace=0.4)\n",
    "i = 0\n",
    "for step in iters:\n",
    "    i += 1\n",
    "    ax1 = fig.add_subplot(len(iters), 2, i)\n",
    "    ax1.plot(slopes[:step+1], intercepts[:step+1])\n",
    "    ax1.scatter(slopes[:step+1], intercepts[:step+1], s = 10)\n",
    "    ax1.set_xlabel('Slope')\n",
    "    ax1.set_ylabel('Intercept')\n",
    "    ax1.set_xlim(x_lims)\n",
    "    ax1.set_ylim(y_lims)\n",
    "\n",
    "    i += 1\n",
    "    ax2 = fig.add_subplot(len(iters), 2, i)\n",
    "    ax2.scatter(X, y, s = 10)\n",
    "    ax2.set_xlabel('Waist')\n",
    "    ax2.set_ylabel('Weight')\n",
    "    y1,y2 = lin_reg(slopes[step],intercepts[step], x_min, x_max)\n",
    "    ax2.plot([x_min, x_max], [y1,y2], color='red')"
   ]
  },
  {
   "cell_type": "markdown",
   "metadata": {},
   "source": [
    "## Random Guessing"
   ]
  },
  {
   "cell_type": "code",
   "execution_count": null,
   "metadata": {},
   "outputs": [],
   "source": [
    "from random import uniform\n",
    "x_min = -2.4\n",
    "x_max = 3.4\n",
    "x_lims = [12,23]\n",
    "y_lims = [90,180]\n"
   ]
  },
  {
   "cell_type": "code",
   "execution_count": null,
   "metadata": {},
   "outputs": [],
   "source": [
    "slopes = [None]\n",
    "intercepts = [None]\n",
    "\n",
    "for i in iters:\n",
    "    s = uniform(-x_lims[1],x_lims[1])\n",
    "    intcp = uniform(y_lims[0],y_lims[1])\n",
    "  \n",
    "    slopes.append(s)\n",
    "    intercepts.append(intcp)\n",
    "    print(' Slope: {:.2f}'.format(slopes[i]))\n",
    "    print(' Intercept: {:.2f}'.format(intercepts[i]))"
   ]
  },
  {
   "cell_type": "code",
   "execution_count": null,
   "metadata": {},
   "outputs": [],
   "source": [
    "fig = plt.figure(figsize=(8,20))\n",
    "fig.subplots_adjust(hspace=0.4, wspace=0.4)\n",
    "i = 0\n",
    "for step in iters:\n",
    "    i += 1\n",
    "    ax1 = fig.add_subplot(len(iters), 2, i)\n",
    "    ax1.plot(slopes[:step+1], intercepts[:step+1])\n",
    "    ax1.scatter(slopes[:step+1], intercepts[:step+1], s = 10)\n",
    "    ax1.set_xlabel('Slope')\n",
    "    ax1.set_ylabel('Intercept')\n",
    "    ax1.set_xlim(-x_lims[1],x_lims[1])\n",
    "    ax1.set_ylim(y_lims)\n",
    "\n",
    "    i += 1\n",
    "    ax2 = fig.add_subplot(len(iters), 2, i)\n",
    "    ax2.scatter(X, y, s = 10)\n",
    "    ax2.set_xlabel('Waist')\n",
    "    ax2.set_ylabel('Weight')\n",
    "    y1,y2 = lin_reg(slopes[step],intercepts[step], x_min, x_max)\n",
    "    ax2.plot([x_min, x_max], [y1,y2], color='red')"
   ]
  }
 ],
 "metadata": {
  "kernelspec": {
   "display_name": "Python 3 (ipykernel)",
   "language": "python",
   "name": "python3"
  },
  "language_info": {
   "codemirror_mode": {
    "name": "ipython",
    "version": 3
   },
   "file_extension": ".py",
   "mimetype": "text/x-python",
   "name": "python",
   "nbconvert_exporter": "python",
   "pygments_lexer": "ipython3",
   "version": "3.8.10"
  }
 },
 "nbformat": 4,
 "nbformat_minor": 2
}
