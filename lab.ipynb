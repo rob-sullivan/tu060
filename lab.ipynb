{
 "cells": [
  {
   "cell_type": "code",
   "execution_count": null,
   "metadata": {},
   "outputs": [],
   "source": []
  },
  {
   "attachments": {},
   "cell_type": "markdown",
   "metadata": {},
   "source": [
    "## 2. Linear Regression Lab\n",
    "The assignments below should help you to play around and 'break' the examples in Linear Regression.ipynb. \n",
    "\n",
    "1. Create your own examples using max daily temperature versus day of year. \n",
    "2. Run your data through modelling and visualisation. \n",
    "3. Make some predictions and compare your predictions to what you might expect according to your data points. \n",
    "\n",
    "If you can do all of that, create yourself a multivariate example based on Squirrel Weight as a function of day of year and age! If you don't like that one, think of something that you think would be a more interesting multivariate regression topic that you can code up quickly. \n",
    "\n",
    "By the end of week 2, you should be able to load up notebooks onto Colab or your own chosen notebook server, plus you should have a good python install available on your machine which you can use with venv and pip to install tensorflow. \n",
    " "
   ]
  },
  {
   "cell_type": "code",
   "execution_count": null,
   "metadata": {},
   "outputs": [],
   "source": []
  },
  {
   "attachments": {},
   "cell_type": "markdown",
   "metadata": {},
   "source": [
    "## 3. Logistic Regression Lab\n",
    "* Come up with your own classification task that has a clear binary distinction based on two input variables – you will need to use the multivariate code to work through this model. \n",
    "* Can you come up with a pattern that is clearly a pattern, but which provides the training algorithm a little bit more challenge in coming up with a clear classification boundary? \n",
    "* Using python on your own laptop, take my own code for the basic learn regression model and get it working as a simple python (.py) chunk of code rather than a jupyter notebook\n",
    "\n",
    "* Add extra training cases (variables + target) for the diabetes case\n",
    "* Manipulate the parameters associated with the examples\n",
    "* Extend the examples to use multiple input variables\n",
    "* Download and execute the code in the noteboook as python code"
   ]
  },
  {
   "cell_type": "code",
   "execution_count": null,
   "metadata": {},
   "outputs": [],
   "source": []
  },
  {
   "attachments": {},
   "cell_type": "markdown",
   "metadata": {},
   "source": [
    "## 4. Neural Network Representation Lab\n",
    "Create a Jupyter notebook called “week 04 work”. \n",
    "For each of the items below complete the work it its own cell. We will refer to the contents of the cell as a “programme” just because it is a natural way of talking.  The contents of a single cell are not a programme in the normal sense of the word of course. \n",
    "1. Write a programme to print out “Hello network”\n",
    "Write a programme that creates a python array with the integers 0 to 9 in it, and then prints them\n",
    "2. Write a programme that creates a numpy vector with the integers 0 to 9 in it and then try to print the vector\n",
    "3. Write a programme to print out the cube of each element in the array created in item 3. Try doing this with a loop.\n",
    "4. Write a programme to print out the cube of each element in the vector created in item 4. Try doing this with vector notation. \n",
    "5. Write a function name my_fun that takes two arguments as input. The function should assume that the first item passed into the function is a vector and the second item is a scalar. The function should return a new vector which is the vector raised to the power of the scalar. Test the function with your own selection of vectors and scalars. \n",
    "6. Write a function named my_fun2 that takes as input a single numpy vector and returns the sum of the squares of that vector. Test with input [1,1,1,1] and [2,2,2,2]. \n",
    "7. Write a function that takes as input a vector and a scalar. The function should return the sum of the square of the difference between each individual item and the scalar. Test with your own data. \n",
    "8. Write a function that takes a vector as input and returns the log of each item in the vector as another vector. Test with your own data. Look in particular at the results you get for inputs such as 0, 0.5, 1, 1.5. \n",
    "9. Test the function created in point 10 with a sequence of numbers 0.1, 0.2, 0.3, …. 2.0. Use matplotlib to plot the data with a line plot where the input numbers are the X axis and the returned values give the Y axis. \n",
    "10. Using your own intuitions and trial and error, give parameters Theta0 and Theta1 for the line below. Theta0 is c and Theta1 is m in the traditional highschool equation y=mx+c"
   ]
  },
  {
   "cell_type": "code",
   "execution_count": null,
   "metadata": {},
   "outputs": [],
   "source": []
  },
  {
   "attachments": {},
   "cell_type": "markdown",
   "metadata": {},
   "source": [
    "## 5. Neural Network Training Lab\n",
    "1. Questions\n",
    "* For a given input, do we always compute the same output?\n",
    "* What are the parameters of the network?\n",
    "* What are the hyperparameters of the network? \n",
    "* Given a layer of the network where the weights are all = 0, what can we say about the logit values of the following layer? \n",
    "\n",
    "2. Backprop\n",
    "* What is the relationship between Gradient Descent and Backprop? \n",
    "* Do we need to calculate error for the backprop algorithm? \n",
    "* What impact does backprop have on the input layer? \n",
    "* What does it mean if a weight after training has a value close to 0 (relatively speaking)? \n",
    "* Discuss the interaction between the backprop algorithm and network baiases. \n",
    "\n",
    "3. Loss Functions\n",
    "* Investigate a loss function (look at Keras losses as a starting point) (10 mins), in a Keras context (10 mins)\n",
    "* Details on the losses investigated. "
   ]
  },
  {
   "cell_type": "code",
   "execution_count": null,
   "metadata": {},
   "outputs": [],
   "source": []
  },
  {
   "attachments": {},
   "cell_type": "markdown",
   "metadata": {},
   "source": [
    "## 6. Improving Performance Lab\n",
    "* Use CIFAR-10 to investigate Dropout and Early Stopping.\n",
    "* Investigate Leaky RELU\n",
    "* Investigate clipping for RELU."
   ]
  },
  {
   "cell_type": "code",
   "execution_count": null,
   "metadata": {},
   "outputs": [],
   "source": []
  }
 ],
 "metadata": {
  "kernelspec": {
   "display_name": "venv_research",
   "language": "python",
   "name": "python3"
  },
  "language_info": {
   "name": "python",
   "version": "3.8.10"
  },
  "orig_nbformat": 4,
  "vscode": {
   "interpreter": {
    "hash": "5794a404577a32ff418895c331e736516539893dd666baf27c4118b4263cef3b"
   }
  }
 },
 "nbformat": 4,
 "nbformat_minor": 2
}
