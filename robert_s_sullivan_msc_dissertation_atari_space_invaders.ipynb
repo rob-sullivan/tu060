{
 "cells": [
  {
   "attachments": {},
   "cell_type": "markdown",
   "metadata": {},
   "source": [
    "# Atari\n",
    "ALE/SpaceInvaders-v5"
   ]
  },
  {
   "attachments": {},
   "cell_type": "markdown",
   "metadata": {},
   "source": [
    "## Import Libraries"
   ]
  },
  {
   "cell_type": "code",
   "execution_count": 1,
   "metadata": {},
   "outputs": [
    {
     "name": "stderr",
     "output_type": "stream",
     "text": [
      "d:\\Projects\\repos\\tu060\\venv_research\\lib\\site-packages\\tqdm\\auto.py:21: TqdmWarning: IProgress not found. Please update jupyter and ipywidgets. See https://ipywidgets.readthedocs.io/en/stable/user_install.html\n",
      "  from .autonotebook import tqdm as notebook_tqdm\n"
     ]
    }
   ],
   "source": [
    "#https://gymnasium.farama.org/environments/atari/\n",
    "#pip install gymnasium[atari]\n",
    "#pip install gymnasium[accept-rom-license]\n",
    "#pip install moviepy\n",
    "#https://www.youtube.com/watch?v=hCeJeq8U0lo&t=447s\n",
    "\n",
    "import gymnasium as gym\n",
    "\n",
    "#image preprocessing\n",
    "from PIL import Image\n",
    "from gymnasium.core import ObservationWrapper\n",
    "from gymnasium.spaces.box import Box\n",
    "import numpy as np\n",
    "import matplotlib.pyplot as plt\n",
    "\n",
    "#n-step experience replay\n",
    "from collections import namedtuple, deque\n",
    "\n",
    "#deep learning\n",
    "import torch\n",
    "import torch.nn as nn\n",
    "import torch.nn.functional as F\n",
    "import torch.optim as optim\n",
    "from torch.autograd import Variable\n",
    "\n",
    "from gymnasium.wrappers import RecordVideo #enviornment monitoring\n",
    "import random\n",
    "\n",
    "from sklearn.model_selection import train_test_split #for splitting memory into training and testing\n",
    "import pandas as pd\n",
    "\n",
    "import shap"
   ]
  },
  {
   "attachments": {},
   "cell_type": "markdown",
   "metadata": {},
   "source": [
    "## Deep Convelutional Q-Learning Agent"
   ]
  },
  {
   "attachments": {},
   "cell_type": "markdown",
   "metadata": {},
   "source": [
    "### Convelutional Neural Network"
   ]
  },
  {
   "cell_type": "code",
   "execution_count": 2,
   "metadata": {},
   "outputs": [],
   "source": [
    "class CNN(nn.Module):\n",
    "    def __init__(self, number_actions):\n",
    "        super(CNN, self).__init__() # call nn module init\n",
    "        #define what each layer in CNN is\n",
    "        self.convolution1 = nn.Conv2d(in_channels=1, out_channels=32, kernel_size=5)\n",
    "        self.convolution2 = nn.Conv2d(in_channels=32, out_channels=32, kernel_size=3)\n",
    "        self.convolution3 = nn.Conv2d(in_channels=32, out_channels=64, kernel_size=2)\n",
    "\n",
    "        #pass image through convolution layers and get neurons in a flatten layer to pass into a neural network\n",
    "        self.fc1 = nn.Linear(in_features=self.count_neurons((1, 80, 80)), out_features=40) #1 is number of channels so black and white images, 80 80 is width and height\n",
    "        self.fc2 = nn.Linear(in_features=40, out_features=number_actions)\n",
    "\n",
    "    def count_neurons(self, image_dim):#image_dim for example 80px x 80px in size\n",
    "        \"\"\"Will give us the number of neurons after convolutions are applied\"\"\"\n",
    "        #we need to first create a fake image (1 batch, 80px x 80px in size), * allows image_dim to be passed as a list\n",
    "        fake_image = Variable(torch.rand(1, *image_dim))\n",
    "\n",
    "        #pass image into first layer and max pool result then activate all neurons in max pool layer\n",
    "        x = F.relu(F.max_pool2d(self.convolution1(fake_image), 3, 2)) #kernal size is 3, #stride is 2\n",
    "\n",
    "        #pass image into second layer and max pool result then activate all neurons in max pool layer\n",
    "        x = F.relu(F.max_pool2d(self.convolution2(x), 3, 2)) #kernal size is 3, #stride is 2\n",
    "\n",
    "        #pass image into third layer and max pool result then activate all neurons in max pool layer\n",
    "        x = F.relu(F.max_pool2d(self.convolution3(x), 3, 2)) #kernal size is 3, #stride is 2\n",
    "        \n",
    "        #now we get all pixels in third layer and flatten it. we get the data, view what's inside it then we get all the pixels and put it into 1 dimension\n",
    "        return x.data.view(1, -1).size(1)\n",
    "    \n",
    "    def forward(self, x):\n",
    "        x = F.relu(F.max_pool2d(self.convolution1(x), 3, 2))\n",
    "        x = F.relu(F.max_pool2d(self.convolution2(x), 3, 2))\n",
    "        x = F.relu(F.max_pool2d(self.convolution3(x), 3, 2))\n",
    "        #propagate data from convolutional layers to hidden layers by first flattening convolutional layers\n",
    "        #flatten third layer by taking all pixels and all channels in third layer and arrange one after another\n",
    "        x = x.view(x.size(0), -1) #RuntimeError: mat1 and mat2 shapes cannot be multiplied (64x49 and 3136x40)\n",
    "        x = F.relu(self.fc1(x))\n",
    "        x = self.fc2(x)\n",
    "        return x"
   ]
  },
  {
   "attachments": {},
   "cell_type": "markdown",
   "metadata": {},
   "source": [
    "### Softmax Policy"
   ]
  },
  {
   "cell_type": "code",
   "execution_count": 3,
   "metadata": {},
   "outputs": [],
   "source": [
    "class SoftmaxPolicy(nn.Module):\n",
    "    \"\"\"data from the CNN is passed to softmax to play an action\"\"\"\n",
    "    def __init__(self, T=100):\n",
    "        super(SoftmaxPolicy, self).__init__()\n",
    "        self.T = T\n",
    "\n",
    "    def forward(self, outputs, number_actions=1):\n",
    "        probs = F.softmax(outputs * self.T, dim=1)\n",
    "        actions = probs.multinomial(num_samples=number_actions)\n",
    "        return actions"
   ]
  },
  {
   "attachments": {},
   "cell_type": "markdown",
   "metadata": {},
   "source": [
    "### Agent (DCQ Learning System )"
   ]
  },
  {
   "cell_type": "code",
   "execution_count": 4,
   "metadata": {},
   "outputs": [],
   "source": [
    "class DCQ():\n",
    "    def __init__(self, CNN, SoftmaxPolicy):\n",
    "        self.cnn = CNN\n",
    "        self.softmax = SoftmaxPolicy\n",
    "\n",
    "    def __call__(self, inputs):#comes from NStepProgress -> np.array([state])\n",
    "        \"\"\"similar to init function but it allows this AI class \n",
    "        instance to be treated like a function, not modifying the initial instance\"\"\"\n",
    "        #receive images from the game by converting image into a numpy array then into a torch tensor, then put a torch tensor into a torch variable with a gradient\n",
    "        input = Variable(torch.from_numpy(np.array(inputs, dtype = np.float32)))\n",
    "        output = self.cnn(input)\n",
    "        actions = self.softmax(output)\n",
    "        return actions.data.numpy()"
   ]
  },
  {
   "attachments": {},
   "cell_type": "markdown",
   "metadata": {},
   "source": [
    "### Experience Replay"
   ]
  },
  {
   "attachments": {},
   "cell_type": "markdown",
   "metadata": {},
   "source": [
    "#### N-Step"
   ]
  },
  {
   "cell_type": "code",
   "execution_count": 5,
   "metadata": {},
   "outputs": [],
   "source": [
    "class NStepProgress:\n",
    "    \"\"\"This class allows the AI to progress on several (n_step) steps\"\"\"\n",
    "    def __init__(self, env, ai, n_step):\n",
    "        self.ai = ai\n",
    "        self.rewards = []\n",
    "        self.env = env\n",
    "        self.n_step = n_step\n",
    "        self.step = namedtuple('Step', ['state', 'action', 'reward', 'done']) #Defining one Step\n",
    "    def __iter__(self):\n",
    "        observation, info = self.env.reset()\n",
    "        history = deque()\n",
    "        score = 0.0\n",
    "        while True:\n",
    "            #select an action\n",
    "            action = self.ai(np.array([observation]))[0][0] #agent.update\n",
    "            #get reward and next state\n",
    "            observation, reward, terminated, truncated, info = self.env.step(action)\n",
    "            done = terminated or truncated\n",
    "            score += reward\n",
    "            #add to stacked frame\n",
    "            history.append(self.step(state=observation, action=action, reward=score, done=done))\n",
    "            while len(history) > self.n_step + 1:\n",
    "                history.popleft()\n",
    "            if len(history) == self.n_step + 1:#create our stacked tuple when finished\n",
    "                yield tuple(history)\n",
    "            if done:\n",
    "                if len(history) > self.n_step + 1:\n",
    "                    history.popleft()\n",
    "                while len(history) >= 1:\n",
    "                    yield tuple(history)\n",
    "                    history.popleft()\n",
    "                self.rewards.append(score)\n",
    "                score = 0.0\n",
    "                observation, info  = self.env.reset()\n",
    "                history.clear()\n",
    "    \n",
    "    def rewards_steps(self):\n",
    "        rewards_steps = self.rewards\n",
    "        self.rewards = []\n",
    "        return rewards_steps"
   ]
  },
  {
   "attachments": {},
   "cell_type": "markdown",
   "metadata": {},
   "source": [
    "#### Replay Memory"
   ]
  },
  {
   "cell_type": "code",
   "execution_count": 6,
   "metadata": {},
   "outputs": [],
   "source": [
    "class ReplayMemory:\n",
    "    \"\"\"This class is modified to do n-step learning\"\"\"\n",
    "    def __init__(self, n_steps, capacity = 10000):\n",
    "        self.capacity = capacity\n",
    "        self.n_steps = n_steps\n",
    "        self.n_steps_iter = iter(n_steps)\n",
    "        self.buffer = deque()\n",
    "\n",
    "    def sample_batch(self, batch_size): # creates an iterator that returns random batches\n",
    "        ofs = 0\n",
    "        vals = list(self.buffer)\n",
    "        np.random.shuffle(vals)\n",
    "        while (ofs+1)*batch_size <= len(self.buffer):\n",
    "            yield vals[ofs*batch_size:(ofs+1)*batch_size]\n",
    "            ofs += 1\n",
    "\n",
    "    def run_steps(self, samples):\n",
    "        \"\"\"Runs environment for 10 consecutive steps and\"\"\"\n",
    "        while samples > 0:\n",
    "            entry = next(self.n_steps_iter) # 10 consecutive steps of (state, action, reward, done)\n",
    "            self.buffer.append(entry) # we put 200 for the current episode\n",
    "            samples -= 1\n",
    "        while len(self.buffer) > self.capacity: # we accumulate no more than the capacity (10000)\n",
    "            self.buffer.popleft()"
   ]
  },
  {
   "attachments": {},
   "cell_type": "markdown",
   "metadata": {},
   "source": [
    "### N-Step Q-Learning\n",
    "This is Eligibility Trace used in algorithms like SARSA, based on Asynchronous Methods for Deep Reinforcement Learning paper by Mnih et al 2016, except instead of using epsilon greedy policy we use softmax. Eligibility trace is a technique used to assign credit to past actions in a sequence of states and actions, and update the weights of a neural network model. It helps address the problem of delayed rewards and enable more effective learning in environments with long time delays between actions and their consequences. During the learning process, the eligibility trace is updated at each time step by decaying its value and adding the gradients of the weights with respect to the loss function. When an update is performed, the eligibility trace determines how much credit is assigned to each weight based on its previous contributions to the current outcome. By accumulating the eligibility traces over time, the algorithm can assign credit to actions that lead to future rewards, even if those rewards are delayed."
   ]
  },
  {
   "cell_type": "code",
   "execution_count": 7,
   "metadata": {},
   "outputs": [],
   "source": [
    "def eligibility_trace(batch, cnn, g=0.99):#batch is a sample of 128 10-steps where each step is ['state', 'action', 'reward', 'done'] so 1,280 transitions from memory\n",
    "    \"\"\"Asynchronous N-Step Q-Learning\n",
    "    learns the cumulative rewards and cumulative targets\n",
    "    on n-steps instead of one step like DQL\"\"\"\n",
    "    gamma = g\n",
    "    inputs = []\n",
    "    targets = []\n",
    "    for series in batch: #series of 10 transitions in our batch\n",
    "        #get the first and last image as the input. Convert fron numpy to torch variable\n",
    "        input = Variable(torch.from_numpy(np.array([series[0].state, series[-1].state], dtype=np.float32)))\n",
    "        output = cnn(input) #this is the prediction from the ai\n",
    "\n",
    "        #if the last transition of the series is not done we get the max q values\n",
    "        cumulative_reward = 0.0 if series[-1].done else output[1].data.max()\n",
    "\n",
    "        #start with the last step and go backwards to the first step\n",
    "        for step in reversed(series[:-1]):#reversed goes backwards \n",
    "            state = series[0].state # first state we need. This is where we started\n",
    "            target = output[0].data # this is the q value of the input state of the first step. This is what we thought we would get being in this state\n",
    "\n",
    "            # what new reward did we actually get\n",
    "            cumulative_reward = step.reward + gamma * cumulative_reward \n",
    "            target[series[0].action] = cumulative_reward # this is the q value we actually got\n",
    "\n",
    "            inputs.append(state) # we append our first state\n",
    "            targets.append(target) #we append the actual target q value for the first state\n",
    "\n",
    "            #output the input and the target after being processed through eligibility_trace\n",
    "            #we now have the first state and the target q values for the first state over 10 steps\n",
    "            return torch.from_numpy(np.array(inputs, dtype=np.float32)), torch.stack(targets)#we stack targets together"
   ]
  },
  {
   "attachments": {},
   "cell_type": "markdown",
   "metadata": {},
   "source": [
    "### Image Preprocessing"
   ]
  },
  {
   "cell_type": "code",
   "execution_count": 8,
   "metadata": {},
   "outputs": [],
   "source": [
    "class ImagePreprocessor(ObservationWrapper):\n",
    "    \"\"\"Custom Image Preprocessor similar to \n",
    "    Atari standard in gymnasium\"\"\"\n",
    "    def __init__(self, env, height = 64, width = 64, grayscale = True, crop = lambda img: img):\n",
    "        super(ImagePreprocessor, self).__init__(env)\n",
    "        self.img_size = (height, width)\n",
    "        self.grayscale = grayscale\n",
    "        self.crop = crop\n",
    "        n_colors = 1 if self.grayscale else 3\n",
    "        self.observation_space = Box(0.0, 1.0, [n_colors, height, width])\n",
    "\n",
    "    def observation(self, img):\n",
    "        img = self.crop(img)\n",
    "        img = Image.fromarray(img)\n",
    "        img = img.resize(self.img_size)\n",
    "        if self.grayscale:\n",
    "            img = img.convert('L')  # Convert to grayscale\n",
    "        else:\n",
    "            img = img.convert('RGB')  # Convert to RGB if necessary\n",
    "\n",
    "        #view preprocessed image\n",
    "        #plt.imshow(img)\n",
    "        #plt.show()\n",
    "\n",
    "        img = np.array(img)\n",
    "        #adds a new dimension to the array to represent the single color channel, resulting in the desired shape\n",
    "        img = np.expand_dims(img, axis=2)\n",
    "        \n",
    "        #if img.ndim == 2:  # Add channel dimension if missing\n",
    "        #    img = np.expand_dims(img, axis=2)\n",
    "        img = np.transpose(img, (2, 0, 1))\n",
    "        img = img.astype('float32') / 255\n",
    "\n",
    "        #check dim of new image\n",
    "        #print(\"image was preprocessed to: \" + str(\"greyscale\" if self.grayscale else \"RGB\") + \" with shape \" + str(img.shape))\n",
    "        return img"
   ]
  },
  {
   "attachments": {},
   "cell_type": "markdown",
   "metadata": {},
   "source": [
    "### Moving Average Reward (for evaluation)"
   ]
  },
  {
   "cell_type": "code",
   "execution_count": 9,
   "metadata": {},
   "outputs": [],
   "source": [
    "class MA:\n",
    "    \"\"\"creates the moving average reward on \n",
    "    100 steps to keep track of training performance\"\"\"\n",
    "    def __init__(self, size):\n",
    "        self.list_of_rewards = []\n",
    "        self.average_rewards = []\n",
    "        self.max_reward = 0\n",
    "        self.cumulative_rewards = []\n",
    "        self.size = size\n",
    "    def add(self, rewards):\n",
    "        if isinstance(rewards, list):\n",
    "            self.list_of_rewards += rewards\n",
    "        else:\n",
    "            self.list_of_rewards.append(rewards)\n",
    "        while len(self.list_of_rewards) > self.size:\n",
    "            del self.list_of_rewards[0] # makes sure that we always have 100 elements of the latest rewards\n",
    "\n",
    "        #get the latest high score if one exists\n",
    "        if(len(self.list_of_rewards)>0):\n",
    "            max_score = max(self.list_of_rewards)\n",
    "            if max_score > self.max_reward:\n",
    "                self.max_reward = max_score\n",
    "            \n",
    "        #collect score over time\n",
    "        self.cumulative_rewards.append(sum(self.list_of_rewards))\n",
    "    def average(self):\n",
    "        if len(self.list_of_rewards) > 0:\n",
    "            average_reward = np.mean(self.list_of_rewards)\n",
    "            self.average_rewards.append(average_reward)\n",
    "            return average_reward\n",
    "        else:\n",
    "            return 0.0  # or any other appropriate default value"
   ]
  },
  {
   "attachments": {},
   "cell_type": "markdown",
   "metadata": {},
   "source": [
    "## Test Atari Environment Working"
   ]
  },
  {
   "attachments": {},
   "cell_type": "markdown",
   "metadata": {},
   "source": [
    "### Preview Atari Environment"
   ]
  },
  {
   "cell_type": "code",
   "execution_count": 10,
   "metadata": {},
   "outputs": [],
   "source": [
    "env = gym.make('ALE/SpaceInvaders-v5')"
   ]
  },
  {
   "cell_type": "code",
   "execution_count": 11,
   "metadata": {},
   "outputs": [
    {
     "name": "stdout",
     "output_type": "stream",
     "text": [
      "Number of possible actions:  6\n"
     ]
    }
   ],
   "source": [
    "a = env.action_space.n\n",
    "print(\"Number of possible actions: \", a)"
   ]
  },
  {
   "cell_type": "code",
   "execution_count": 12,
   "metadata": {},
   "outputs": [
    {
     "data": {
      "text/plain": [
       "['NOOP', 'FIRE', 'RIGHT', 'LEFT', 'RIGHTFIRE', 'LEFTFIRE']"
      ]
     },
     "execution_count": 12,
     "metadata": {},
     "output_type": "execute_result"
    }
   ],
   "source": [
    "env.unwrapped.get_action_meanings()"
   ]
  },
  {
   "cell_type": "code",
   "execution_count": 13,
   "metadata": {},
   "outputs": [
    {
     "name": "stdout",
     "output_type": "stream",
     "text": [
      "(210, 160, 3)\n"
     ]
    }
   ],
   "source": [
    "observation, info = env.reset(seed=42)\n",
    "observation, reward, terminated, truncated, info = env.step(env.action_space.sample())\n",
    "print(observation.shape)\n",
    "env.close()"
   ]
  },
  {
   "cell_type": "code",
   "execution_count": 14,
   "metadata": {},
   "outputs": [
    {
     "data": {
      "image/png": "[encoded data removed]",
      "text/plain": [
       "<Figure size 640x480 with 1 Axes>"
      ]
     },
     "metadata": {},
     "output_type": "display_data"
    },
    {
     "name": "stdout",
     "output_type": "stream",
     "text": [
      "(210, 160, 3)\n"
     ]
    }
   ],
   "source": [
    "observation, info = env.reset(seed=42)\n",
    "plt.imshow(observation)\n",
    "plt.show()\n",
    "print(observation.shape)"
   ]
  },
  {
   "attachments": {},
   "cell_type": "markdown",
   "metadata": {},
   "source": [
    "### Test Random Atari Player"
   ]
  },
  {
   "attachments": {},
   "cell_type": "markdown",
   "metadata": {},
   "source": [
    "```\n",
    "env = gym.make('ALE/SpaceInvaders-v5', render_mode='human') # `human`, `rgb_array`.\n",
    "observation, info = env.reset(seed=42)\n",
    "```"
   ]
  },
  {
   "attachments": {},
   "cell_type": "markdown",
   "metadata": {},
   "source": [
    "```\n",
    "episodes = 1\n",
    "for episode in range(episodes):\n",
    "    state = env.reset()\n",
    "    done = False\n",
    "    score = 0\n",
    "\n",
    "    while not done:\n",
    "        env.render()\n",
    "        action = random.choice([0,1,2,3,4,5])\n",
    "        observation, reward, terminated, truncated, info = env.step(action)\n",
    "        score +=reward\n",
    "        done = terminated or truncated\n",
    "    print(\"episode: \" + str(episode) + \", score: \" + str(score))\n",
    "    env.close()\n",
    "```"
   ]
  },
  {
   "attachments": {},
   "cell_type": "markdown",
   "metadata": {},
   "source": [
    "## Atari Simulator Experiment"
   ]
  },
  {
   "attachments": {},
   "cell_type": "markdown",
   "metadata": {},
   "source": [
    "### 1,000,000 Capacity Size"
   ]
  },
  {
   "attachments": {},
   "cell_type": "markdown",
   "metadata": {},
   "source": [
    "#### Setup Preprocessed Environment"
   ]
  },
  {
   "cell_type": "code",
   "execution_count": 15,
   "metadata": {},
   "outputs": [],
   "source": [
    "env = gym.make('ALE/SpaceInvaders-v5')"
   ]
  },
  {
   "cell_type": "code",
   "execution_count": 16,
   "metadata": {},
   "outputs": [
    {
     "data": {
      "image/png": "[encoded data removed]",
      "text/plain": [
       "<Figure size 640x480 with 1 Axes>"
      ]
     },
     "metadata": {},
     "output_type": "display_data"
    },
    {
     "name": "stdout",
     "output_type": "stream",
     "text": [
      "before image preprocessing: shape (210, 160, 3)\n"
     ]
    }
   ],
   "source": [
    "observation, info = env.reset(seed=42)\n",
    "plt.imshow(observation)\n",
    "plt.show()\n",
    "print(\"before image preprocessing: shape \" + str(observation.shape))"
   ]
  },
  {
   "cell_type": "code",
   "execution_count": 17,
   "metadata": {},
   "outputs": [],
   "source": [
    "#We first preprocess the image by applying a greyscale and reducing the size to 80px. \n",
    "env = ImagePreprocessor(gym.make('ALE/SpaceInvaders-v5'), width=80, height=80, grayscale=True) #width=210, height=160 # , render_mode='human'"
   ]
  },
  {
   "cell_type": "code",
   "execution_count": 18,
   "metadata": {},
   "outputs": [],
   "source": [
    "observation, info = env.reset(seed=42)"
   ]
  },
  {
   "cell_type": "code",
   "execution_count": 19,
   "metadata": {},
   "outputs": [
    {
     "name": "stdout",
     "output_type": "stream",
     "text": [
      "(1, 80, 80)\n"
     ]
    }
   ],
   "source": [
    "print(observation.shape) #we check that images are stacked"
   ]
  },
  {
   "attachments": {},
   "cell_type": "markdown",
   "metadata": {},
   "source": [
    "#### Create DCQL Agent"
   ]
  },
  {
   "cell_type": "code",
   "execution_count": 20,
   "metadata": {},
   "outputs": [],
   "source": [
    "a = env.action_space.n # actions\n",
    "g = 0.9 #gamma\n",
    "c = 10000 #memory capacity\n",
    "m = 128 #memory sampling (100 samples and 10% for shap testing)\n",
    "l = 0.001 #learning rate\n",
    "t = 1.0 #softmax policy temperature rate\n",
    "\n",
    "#Build the agent\n",
    "cnn = CNN(a)\n",
    "softmax = SoftmaxPolicy(T=t) # T is temperature high means other actions are less explored\n",
    "agent = DCQ(CNN=cnn, SoftmaxPolicy=softmax)\n",
    "\n",
    "# Set up Experience Replay\n",
    "n_steps = NStepProgress(env=env, ai=agent, n_step=10) #instead of learning every transition we learn every nth transition\n",
    "memory = ReplayMemory(n_steps=n_steps, capacity=c) #last ten thousand steps\n",
    "\n",
    "#set learning parameters\n",
    "loss = nn.MSELoss()#calculate mean squared error loss\n",
    "optimizer = optim.Adam(cnn.parameters(), lr=l) #use adams optimiser with a learning rate of 0.001\n",
    "\n",
    "ma = MA(100)#get the average of the last 100 rewards"
   ]
  },
  {
   "attachments": {},
   "cell_type": "markdown",
   "metadata": {},
   "source": [
    "#### Simulate the environment"
   ]
  },
  {
   "cell_type": "code",
   "execution_count": 21,
   "metadata": {},
   "outputs": [
    {
     "name": "stdout",
     "output_type": "stream",
     "text": [
      "Epoch: 0, Average Reward: 0.0\n",
      "Epoch: 1, Average Reward: 0.0\n",
      "Epoch: 2, Average Reward: 100.0\n",
      "Epoch: 3, Average Reward: 100.0\n",
      "Epoch: 4, Average Reward: 95.0\n",
      "Epoch: 5, Average Reward: 95.0\n",
      "Epoch: 6, Average Reward: 95.0\n",
      "Epoch: 7, Average Reward: 143.33\n",
      "Epoch: 8, Average Reward: 143.33\n",
      "Epoch: 9, Average Reward: 143.33\n"
     ]
    }
   ],
   "source": [
    "episodes = 10 #200\n",
    "batches_ = []\n",
    "# Initialize an empty list to store the sampled inputs for SHAP Explainer\n",
    "# potentially could be 200 episodes x 128 batch samples x 10 steps = 256,000 * .1 = 25,600 images\n",
    "sampled_inputs = []\n",
    "sampled_targets = []\n",
    "for episode in range(episodes):\n",
    "    #run the game for 200 runs of 10 steps and push sample transitions into memory\n",
    "    memory.run_steps(samples=200)\n",
    "    #sample 128 x10['state', 'action', 'reward', 'done'] or 1,280 transitions from memory\n",
    "    for batch in memory.sample_batch(m): #m=128\n",
    "        #agent training\n",
    "        #we get target discounted q values for the first state in the batch over 10 steps\n",
    "        batches_.append(len(batch))\n",
    "        inputs, targets = eligibility_trace(batch, cnn, g)\n",
    "\n",
    "        #wait wait wait..if this is shap.deepxplainer on images lets look at pixels then       \n",
    "        sampled_inputs.append(inputs)\n",
    "        sampled_targets.append(targets)\n",
    "\n",
    "\n",
    "        #we convert them to tensor variables\n",
    "        inputs, targets = Variable(inputs), Variable(targets)\n",
    "\n",
    "        #like during eligibility_trace we get predicted q values from the cnn model\n",
    "        predictions = cnn(inputs)\n",
    "        loss_error = loss(predictions, targets)\n",
    "        optimizer.zero_grad()\n",
    "        loss_error.backward()\n",
    "        optimizer.step()\n",
    "    rewards_steps = n_steps.rewards_steps()\n",
    "    ma.add(rewards_steps)\n",
    "    avg_reward = ma.average()\n",
    "    print(\"Epoch: %s, Average Reward: %s\" % (str(episode), str(round(avg_reward,2))))\n",
    "env.close()"
   ]
  },
  {
   "attachments": {},
   "cell_type": "markdown",
   "metadata": {},
   "source": [
    "#### HOW did the agent performed?"
   ]
  },
  {
   "cell_type": "code",
   "execution_count": 43,
   "metadata": {},
   "outputs": [
    {
     "data": {
      "text/plain": [
       "81"
      ]
     },
     "execution_count": 43,
     "metadata": {},
     "output_type": "execute_result"
    }
   ],
   "source": [
    "len(batches_) #81? could be each reward episode and rewards from episode 1+2 where it was less than zero"
   ]
  },
  {
   "cell_type": "code",
   "execution_count": 23,
   "metadata": {},
   "outputs": [
    {
     "data": {
      "text/plain": [
       "81"
      ]
     },
     "execution_count": 23,
     "metadata": {},
     "output_type": "execute_result"
    }
   ],
   "source": [
    "len(sampled_inputs)"
   ]
  },
  {
   "attachments": {},
   "cell_type": "markdown",
   "metadata": {},
   "source": [
    "##### Agent's final score"
   ]
  },
  {
   "cell_type": "code",
   "execution_count": 24,
   "metadata": {},
   "outputs": [
    {
     "name": "stdout",
     "output_type": "stream",
     "text": [
      "240.0\n"
     ]
    }
   ],
   "source": [
    "#Current sum of all values in the reward window\n",
    "print(ma.max_reward) #595.0"
   ]
  },
  {
   "attachments": {},
   "cell_type": "markdown",
   "metadata": {},
   "source": [
    "##### Rewards at given time/step"
   ]
  },
  {
   "cell_type": "code",
   "execution_count": 25,
   "metadata": {},
   "outputs": [
    {
     "data": {
      "image/png": "[encoded data removed]",
      "text/plain": [
       "<Figure size 640x480 with 1 Axes>"
      ]
     },
     "metadata": {},
     "output_type": "display_data"
    }
   ],
   "source": [
    "# Save and plot reward\n",
    "plt.title(\"Rewards\")\n",
    "plt.xlabel(\"Steps\")\n",
    "plt.ylabel(\"Reward\")\n",
    "plt.plot(ma.average_rewards)\n",
    "plt.show()"
   ]
  },
  {
   "cell_type": "code",
   "execution_count": 44,
   "metadata": {},
   "outputs": [
    {
     "data": {
      "text/plain": [
       "8"
      ]
     },
     "execution_count": 44,
     "metadata": {},
     "output_type": "execute_result"
    }
   ],
   "source": [
    "len(ma.average_rewards)#reward only counted if given."
   ]
  },
  {
   "attachments": {},
   "cell_type": "markdown",
   "metadata": {},
   "source": [
    "##### Cumulative reward over time/step"
   ]
  },
  {
   "cell_type": "code",
   "execution_count": 26,
   "metadata": {},
   "outputs": [
    {
     "data": {
      "image/png": "[encoded data removed]",
      "text/plain": [
       "<Figure size 640x480 with 1 Axes>"
      ]
     },
     "metadata": {},
     "output_type": "display_data"
    }
   ],
   "source": [
    "plt.title(\"Cumulative Reward\")\n",
    "plt.xlabel(\"Episodes\")\n",
    "plt.ylabel(\"Reward\")\n",
    "plt.plot(ma.cumulative_rewards)\n",
    "plt.show()"
   ]
  },
  {
   "attachments": {},
   "cell_type": "markdown",
   "metadata": {},
   "source": [
    "#### WHY does the agent take an actions in the given state?"
   ]
  },
  {
   "cell_type": "code",
   "execution_count": 27,
   "metadata": {},
   "outputs": [
    {
     "data": {
      "text/plain": [
       "81"
      ]
     },
     "execution_count": 27,
     "metadata": {},
     "output_type": "execute_result"
    }
   ],
   "source": [
    "#we took 10% of experience replay samples as test data. The agent has not seen this yet\n",
    "len(sampled_inputs)"
   ]
  },
  {
   "cell_type": "code",
   "execution_count": 28,
   "metadata": {},
   "outputs": [
    {
     "data": {
      "text/plain": [
       "tensor([[[[0.0000, 0.0000, 0.0000,  ..., 0.0000, 0.0000, 0.0000],\n",
       "          [0.0000, 0.0000, 0.0000,  ..., 0.0000, 0.0000, 0.0000],\n",
       "          [0.0000, 0.0000, 0.0000,  ..., 0.0000, 0.0000, 0.0000],\n",
       "          ...,\n",
       "          [0.3098, 0.3098, 0.3098,  ..., 0.3098, 0.3098, 0.3098],\n",
       "          [0.3098, 0.3098, 0.3098,  ..., 0.3098, 0.3098, 0.3098],\n",
       "          [0.3098, 0.3098, 0.3098,  ..., 0.3098, 0.3098, 0.3098]]]])"
      ]
     },
     "execution_count": 28,
     "metadata": {},
     "output_type": "execute_result"
    }
   ],
   "source": [
    "# The first sample is a tensor of pixels indicating an image\n",
    "sampled_inputs[1]"
   ]
  },
  {
   "cell_type": "code",
   "execution_count": 29,
   "metadata": {},
   "outputs": [
    {
     "data": {
      "image/png": "[encoded data removed]",
      "text/plain": [
       "<Figure size 640x480 with 1 Axes>"
      ]
     },
     "metadata": {},
     "output_type": "display_data"
    }
   ],
   "source": [
    "# we can see what that image is\n",
    "plt.imshow(sampled_inputs[0].view(80, 80, 1))\n",
    "plt.show()"
   ]
  },
  {
   "cell_type": "code",
   "execution_count": 30,
   "metadata": {},
   "outputs": [
    {
     "data": {
      "image/png": "[encoded data removed]",
      "text/plain": [
       "<Figure size 640x480 with 1 Axes>"
      ]
     },
     "metadata": {},
     "output_type": "display_data"
    }
   ],
   "source": [
    "# we then see what the next image is\n",
    "plt.imshow(sampled_inputs[1].view(80, 80, 1))\n",
    "plt.show()"
   ]
  },
  {
   "cell_type": "code",
   "execution_count": 31,
   "metadata": {},
   "outputs": [
    {
     "data": {
      "text/plain": [
       "tensor([[ 5.5127e+01, -1.0653e-01,  1.2947e-01,  9.0743e-02, -2.3641e-02,\n",
       "          1.1303e-01]])"
      ]
     },
     "execution_count": 31,
     "metadata": {},
     "output_type": "execute_result"
    }
   ],
   "source": [
    "# we see what Q values were calculated for each action for first image\n",
    "sampled_targets[0]\n",
    "#['NOOP', 'FIRE', 'RIGHT', 'LEFT', 'RIGHTFIRE', 'LEFTFIRE']"
   ]
  },
  {
   "cell_type": "code",
   "execution_count": 32,
   "metadata": {},
   "outputs": [
    {
     "data": {
      "text/plain": [
       "tensor([[ 0.2717, -0.0106,  0.2142,  0.0355,  0.2446,  0.0998]])"
      ]
     },
     "execution_count": 32,
     "metadata": {},
     "output_type": "execute_result"
    }
   ],
   "source": [
    "# we see what Q values were calculated for each action for second image\n",
    "sampled_targets[1]\n",
    "#['NOOP', 'FIRE', 'RIGHT', 'LEFT', 'RIGHTFIRE', 'LEFTFIRE']"
   ]
  },
  {
   "cell_type": "code",
   "execution_count": 33,
   "metadata": {},
   "outputs": [],
   "source": [
    "background = sampled_inputs[0] #we use the first image for shap explainer\n",
    "test_image = sampled_inputs[1] #we use the second image for testing shap explainer"
   ]
  },
  {
   "cell_type": "code",
   "execution_count": 34,
   "metadata": {},
   "outputs": [],
   "source": [
    "e = shap.DeepExplainer(cnn, background) # train shap explainer"
   ]
  },
  {
   "cell_type": "code",
   "execution_count": 35,
   "metadata": {},
   "outputs": [
    {
     "name": "stderr",
     "output_type": "stream",
     "text": [
      "Using a non-full backward hook when the forward contains multiple autograd Nodes is deprecated and will be removed in future versions. This hook will be missing some grad_input. Please use register_full_backward_hook to get the documented behavior.\n"
     ]
    }
   ],
   "source": [
    "shap_values = e.shap_values(test_image) #get shap values for second image"
   ]
  },
  {
   "cell_type": "code",
   "execution_count": 36,
   "metadata": {},
   "outputs": [
    {
     "data": {
      "text/plain": [
       "[array([[[[0., 0., 0., ..., 0., 0., 0.],\n",
       "          [0., 0., 0., ..., 0., 0., 0.],\n",
       "          [0., 0., 0., ..., 0., 0., 0.],\n",
       "          ...,\n",
       "          [0., 0., 0., ..., 0., 0., 0.],\n",
       "          [0., 0., 0., ..., 0., 0., 0.],\n",
       "          [0., 0., 0., ..., 0., 0., 0.]]]]),\n",
       " array([[[[0., 0., 0., ..., 0., 0., 0.],\n",
       "          [0., 0., 0., ..., 0., 0., 0.],\n",
       "          [0., 0., 0., ..., 0., 0., 0.],\n",
       "          ...,\n",
       "          [0., 0., 0., ..., 0., 0., 0.],\n",
       "          [0., 0., 0., ..., 0., 0., 0.],\n",
       "          [0., 0., 0., ..., 0., 0., 0.]]]]),\n",
       " array([[[[0., 0., 0., ..., 0., 0., 0.],\n",
       "          [0., 0., 0., ..., 0., 0., 0.],\n",
       "          [0., 0., 0., ..., 0., 0., 0.],\n",
       "          ...,\n",
       "          [0., 0., 0., ..., 0., 0., 0.],\n",
       "          [0., 0., 0., ..., 0., 0., 0.],\n",
       "          [0., 0., 0., ..., 0., 0., 0.]]]]),\n",
       " array([[[[0., 0., 0., ..., 0., 0., 0.],\n",
       "          [0., 0., 0., ..., 0., 0., 0.],\n",
       "          [0., 0., 0., ..., 0., 0., 0.],\n",
       "          ...,\n",
       "          [0., 0., 0., ..., 0., 0., 0.],\n",
       "          [0., 0., 0., ..., 0., 0., 0.],\n",
       "          [0., 0., 0., ..., 0., 0., 0.]]]]),\n",
       " array([[[[0., 0., 0., ..., 0., 0., 0.],\n",
       "          [0., 0., 0., ..., 0., 0., 0.],\n",
       "          [0., 0., 0., ..., 0., 0., 0.],\n",
       "          ...,\n",
       "          [0., 0., 0., ..., 0., 0., 0.],\n",
       "          [0., 0., 0., ..., 0., 0., 0.],\n",
       "          [0., 0., 0., ..., 0., 0., 0.]]]]),\n",
       " array([[[[0., 0., 0., ..., 0., 0., 0.],\n",
       "          [0., 0., 0., ..., 0., 0., 0.],\n",
       "          [0., 0., 0., ..., 0., 0., 0.],\n",
       "          ...,\n",
       "          [0., 0., 0., ..., 0., 0., 0.],\n",
       "          [0., 0., 0., ..., 0., 0., 0.],\n",
       "          [0., 0., 0., ..., 0., 0., 0.]]]])]"
      ]
     },
     "execution_count": 36,
     "metadata": {},
     "output_type": "execute_result"
    }
   ],
   "source": [
    "shap_values"
   ]
  },
  {
   "cell_type": "code",
   "execution_count": 37,
   "metadata": {},
   "outputs": [],
   "source": [
    "shap_values = torch.from_numpy(np.array(shap_values, dtype=np.float32)) #convert shap values into a tensor"
   ]
  },
  {
   "cell_type": "code",
   "execution_count": 38,
   "metadata": {},
   "outputs": [
    {
     "data": {
      "text/plain": [
       "torch.Size([6, 1, 1, 80, 80])"
      ]
     },
     "execution_count": 38,
     "metadata": {},
     "output_type": "execute_result"
    }
   ],
   "source": [
    "shap_values.shape #this tensor has 6 samples, each having 1 channel, a height of 1, a width of 80, and a depth of 80."
   ]
  },
  {
   "cell_type": "code",
   "execution_count": 39,
   "metadata": {},
   "outputs": [],
   "source": [
    "sample = shap_values[0] #access each sample"
   ]
  },
  {
   "cell_type": "code",
   "execution_count": 40,
   "metadata": {},
   "outputs": [
    {
     "data": {
      "text/plain": [
       "torch.Size([1, 1, 80, 80])"
      ]
     },
     "execution_count": 40,
     "metadata": {},
     "output_type": "execute_result"
    }
   ],
   "source": [
    "sample.shape # sample is an image"
   ]
  },
  {
   "cell_type": "code",
   "execution_count": 41,
   "metadata": {},
   "outputs": [
    {
     "data": {
      "image/png": "[encoded data removed]",
      "text/plain": [
       "<Figure size 640x480 with 1 Axes>"
      ]
     },
     "metadata": {},
     "output_type": "display_data"
    }
   ],
   "source": [
    "plt.imshow(sample.view(80, 80, 1))\n",
    "plt.show() # image shows the importance of each action in this case do nothing\n"
   ]
  },
  {
   "cell_type": "code",
   "execution_count": 42,
   "metadata": {},
   "outputs": [
    {
     "data": {
      "text/plain": [
       "<matplotlib.image.AxesImage at 0x19f39212c70>"
      ]
     },
     "execution_count": 42,
     "metadata": {},
     "output_type": "execute_result"
    },
    {
     "data": {
      "image/png": "[encoded data removed]",
      "text/plain": [
       "<Figure size 640x480 with 1 Axes>"
      ]
     },
     "metadata": {},
     "output_type": "display_data"
    }
   ],
   "source": [
    "plt.imshow(sampled_inputs[1].view(80, 80, 1), cmap='gray')\n",
    "plt.imshow(sample.view(80, 80, 1), cmap='hot', alpha=0.5)"
   ]
  }
 ],
 "metadata": {
  "kernelspec": {
   "display_name": "venv_research",
   "language": "python",
   "name": "python3"
  },
  "language_info": {
   "codemirror_mode": {
    "name": "ipython",
    "version": 3
   },
   "file_extension": ".py",
   "mimetype": "text/x-python",
   "name": "python",
   "nbconvert_exporter": "python",
   "pygments_lexer": "ipython3",
   "version": "3.8.0"
  },
  "orig_nbformat": 4
 },
 "nbformat": 4,
 "nbformat_minor": 2
}
