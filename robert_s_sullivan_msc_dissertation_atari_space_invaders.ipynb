{
 "cells": [
  {
   "attachments": {},
   "cell_type": "markdown",
   "metadata": {},
   "source": [
    "# Atari\n",
    "ALE/SpaceInvaders-v5"
   ]
  },
  {
   "attachments": {},
   "cell_type": "markdown",
   "metadata": {},
   "source": [
    "## Import Libraries"
   ]
  },
  {
   "cell_type": "code",
   "execution_count": 1,
   "metadata": {},
   "outputs": [],
   "source": [
    "#https://gymnasium.farama.org/environments/atari/\n",
    "#pip install gymnasium[atari]\n",
    "#pip install gymnasium[accept-rom-license]\n",
    "#pip install moviepy\n",
    "#https://www.youtube.com/watch?v=hCeJeq8U0lo&t=447s\n",
    "\n",
    "import gymnasium as gym\n",
    "\n",
    "#image preprocessing\n",
    "from PIL import Image\n",
    "from gymnasium.core import ObservationWrapper\n",
    "from gymnasium.spaces.box import Box\n",
    "import numpy as np\n",
    "import matplotlib.pyplot as plt\n",
    "\n",
    "#n-step experience replay\n",
    "from collections import namedtuple, deque\n",
    "\n",
    "#deep learning\n",
    "import torch\n",
    "import torch.nn as nn\n",
    "import torch.nn.functional as F\n",
    "import torch.optim as optim\n",
    "from torch.autograd import Variable\n",
    "\n",
    "from gymnasium.wrappers import RecordVideo #enviornment monitoring\n",
    "import random"
   ]
  },
  {
   "attachments": {},
   "cell_type": "markdown",
   "metadata": {},
   "source": [
    "## Deep Convelutional Q-Learning Agent"
   ]
  },
  {
   "attachments": {},
   "cell_type": "markdown",
   "metadata": {},
   "source": [
    "### Convelutional Neural Network"
   ]
  },
  {
   "cell_type": "code",
   "execution_count": 2,
   "metadata": {},
   "outputs": [],
   "source": [
    "class CNN(nn.Module):\n",
    "    def __init__(self, number_actions):\n",
    "        super(CNN, self).__init__() # call nn module init\n",
    "        #define what each layer in CNN is\n",
    "        self.convolution1 = nn.Conv2d(in_channels=1, out_channels=32, kernel_size=5)\n",
    "        self.convolution2 = nn.Conv2d(in_channels=32, out_channels=32, kernel_size=3)\n",
    "        self.convolution3 = nn.Conv2d(in_channels=32, out_channels=64, kernel_size=2)\n",
    "\n",
    "        #pass image through convolution layers and get neurons in a flatten layer to pass into a neural network\n",
    "        self.fc1 = nn.Linear(in_features=self.count_neurons((1, 80, 80)), out_features=40) #1 is number of channels so black and white images, 80 80 is width and height\n",
    "        self.fc2 = nn.Linear(in_features=40, out_features=number_actions)\n",
    "\n",
    "    def count_neurons(self, image_dim):#image_dim for example 80px x 80px in size\n",
    "        \"\"\"Will give us the number of neurons after convolutions are applied\"\"\"\n",
    "        #we need to first create a fake image (1 batch, 80px x 80px in size), * allows image_dim to be passed as a list\n",
    "        fake_image = Variable(torch.rand(1, *image_dim))\n",
    "\n",
    "        #pass image into first layer and max pool result then activate all neurons in max pool layer\n",
    "        x = F.relu(F.max_pool2d(self.convolution1(fake_image), 3, 2)) #kernal size is 3, #stride is 2\n",
    "\n",
    "        #pass image into second layer and max pool result then activate all neurons in max pool layer\n",
    "        x = F.relu(F.max_pool2d(self.convolution2(x), 3, 2)) #kernal size is 3, #stride is 2\n",
    "\n",
    "        #pass image into third layer and max pool result then activate all neurons in max pool layer\n",
    "        x = F.relu(F.max_pool2d(self.convolution3(x), 3, 2)) #kernal size is 3, #stride is 2\n",
    "        \n",
    "        #now we get all pixels in third layer and flatten it. we get the data, view what's inside it then we get all the pixels and put it into 1 dimension\n",
    "        return x.data.view(1, -1).size(1)\n",
    "    \n",
    "    def forward(self, x):\n",
    "        x = F.relu(F.max_pool2d(self.convolution1(x), 3, 2))\n",
    "        x = F.relu(F.max_pool2d(self.convolution2(x), 3, 2))\n",
    "        x = F.relu(F.max_pool2d(self.convolution3(x), 3, 2))\n",
    "        #propagate data from convolutional layers to hidden layers by first flattening convolutional layers\n",
    "        #flatten third layer by taking all pixels and all channels in third layer and arrange one after another\n",
    "        x = x.view(x.size(0), -1) #RuntimeError: mat1 and mat2 shapes cannot be multiplied (64x49 and 3136x40)\n",
    "        x = F.relu(self.fc1(x))\n",
    "        x = self.fc2(x)\n",
    "        return x"
   ]
  },
  {
   "attachments": {},
   "cell_type": "markdown",
   "metadata": {},
   "source": [
    "### Softmax Policy"
   ]
  },
  {
   "cell_type": "code",
   "execution_count": 3,
   "metadata": {},
   "outputs": [],
   "source": [
    "class SoftmaxPolicy(nn.Module):\n",
    "    \"\"\"data from the CNN is passed to softmax to play an action\"\"\"\n",
    "    def __init__(self, T=100):\n",
    "        super(SoftmaxPolicy, self).__init__()\n",
    "        self.T = T\n",
    "\n",
    "    def forward(self, outputs, number_actions=1):\n",
    "        probs = F.softmax(outputs * self.T, dim=1)\n",
    "        actions = probs.multinomial(num_samples=number_actions)\n",
    "        return actions"
   ]
  },
  {
   "attachments": {},
   "cell_type": "markdown",
   "metadata": {},
   "source": [
    "### Agent (DCQ Learning System )"
   ]
  },
  {
   "cell_type": "code",
   "execution_count": 4,
   "metadata": {},
   "outputs": [],
   "source": [
    "class DCQ():\n",
    "    def __init__(self, CNN, SoftmaxPolicy):\n",
    "        self.cnn = CNN\n",
    "        self.softmax = SoftmaxPolicy\n",
    "\n",
    "    def __call__(self, inputs):#comes from NStepProgress -> np.array([state])\n",
    "        \"\"\"similar to init function but it allows this AI class \n",
    "        instance to be treated like a function, not modifying the initial instance\"\"\"\n",
    "        #receive images from the game by converting image into a numpy array then into a torch tensor, then put a torch tensor into a torch variable with a gradient\n",
    "        input = Variable(torch.from_numpy(np.array(inputs, dtype = np.float32)))\n",
    "        output = self.cnn(input)\n",
    "        actions = self.softmax(output)\n",
    "        return actions.data.numpy()"
   ]
  },
  {
   "attachments": {},
   "cell_type": "markdown",
   "metadata": {},
   "source": [
    "### Experience Replay"
   ]
  },
  {
   "attachments": {},
   "cell_type": "markdown",
   "metadata": {},
   "source": [
    "#### N-Step"
   ]
  },
  {
   "cell_type": "code",
   "execution_count": 5,
   "metadata": {},
   "outputs": [],
   "source": [
    "class NStepProgress:\n",
    "    \"\"\"This class allows the AI to progress on several (n_step) steps\"\"\"\n",
    "    def __init__(self, env, ai, n_step):\n",
    "        self.ai = ai\n",
    "        self.rewards = []\n",
    "        self.env = env\n",
    "        self.n_step = n_step\n",
    "        self.step = namedtuple('Step', ['state', 'action', 'reward', 'done']) #Defining one Step\n",
    "    def __iter__(self):\n",
    "        observation, info = self.env.reset()\n",
    "        history = deque()\n",
    "        score = 0.0\n",
    "        while True:\n",
    "            #select an action\n",
    "            action = self.ai(np.array([observation]))[0][0] #agent.update\n",
    "            #get reward and next state\n",
    "            observation, reward, terminated, truncated, info = self.env.step(action)\n",
    "            done = terminated or truncated\n",
    "            score += reward\n",
    "            #add to stacked frame\n",
    "            history.append(self.step(state=observation, action=action, reward=score, done=done))\n",
    "            while len(history) > self.n_step + 1:\n",
    "                history.popleft()\n",
    "            if len(history) == self.n_step + 1:#create our stacked tuple when finished\n",
    "                yield tuple(history)\n",
    "            if done:\n",
    "                if len(history) > self.n_step + 1:\n",
    "                    history.popleft()\n",
    "                while len(history) >= 1:\n",
    "                    yield tuple(history)\n",
    "                    history.popleft()\n",
    "                self.rewards.append(score)\n",
    "                score = 0.0\n",
    "                observation, info  = self.env.reset()\n",
    "                history.clear()\n",
    "    \n",
    "    def rewards_steps(self):\n",
    "        rewards_steps = self.rewards\n",
    "        self.rewards = []\n",
    "        return rewards_steps"
   ]
  },
  {
   "attachments": {},
   "cell_type": "markdown",
   "metadata": {},
   "source": [
    "#### Replay Memory"
   ]
  },
  {
   "cell_type": "code",
   "execution_count": 6,
   "metadata": {},
   "outputs": [],
   "source": [
    "class ReplayMemory:\n",
    "    \"\"\"This class is modified to do n-step learning\"\"\"\n",
    "    def __init__(self, n_steps, capacity = 10000):\n",
    "        self.capacity = capacity\n",
    "        self.n_steps = n_steps\n",
    "        self.n_steps_iter = iter(n_steps)\n",
    "        self.buffer = deque()\n",
    "\n",
    "    def sample_batch(self, batch_size): # creates an iterator that returns random batches\n",
    "        ofs = 0\n",
    "        vals = list(self.buffer)\n",
    "        np.random.shuffle(vals)\n",
    "        while (ofs+1)*batch_size <= len(self.buffer):\n",
    "            yield vals[ofs*batch_size:(ofs+1)*batch_size]\n",
    "            ofs += 1\n",
    "\n",
    "    def run_steps(self, samples):\n",
    "        \"\"\"Runs environment for 10 consecutive steps and\"\"\"\n",
    "        while samples > 0:\n",
    "            entry = next(self.n_steps_iter) # 10 consecutive steps of (state, action, reward, done)\n",
    "            self.buffer.append(entry) # we put 200 for the current episode\n",
    "            samples -= 1\n",
    "        while len(self.buffer) > self.capacity: # we accumulate no more than the capacity (10000)\n",
    "            self.buffer.popleft()"
   ]
  },
  {
   "attachments": {},
   "cell_type": "markdown",
   "metadata": {},
   "source": [
    "### N-Step Q-Learning\n",
    "This is Eligibility Trace aka SARSA Algorithm, based on Asynchronous Methods for Deep Reinforcement Learning paper by Mnih et al 2016, except instead of using epsilon greedy policy we use softmax."
   ]
  },
  {
   "cell_type": "code",
   "execution_count": 7,
   "metadata": {},
   "outputs": [],
   "source": [
    "def eligibility_trace(batch, cnn, g=0.99):\n",
    "    \"\"\"Asynchronous N-Step Q-Learning\n",
    "    learns the cumulative rewards and cumulative targets\n",
    "    on n-steps instead of one step like DQL\"\"\"\n",
    "    gamma = g\n",
    "    inputs = []\n",
    "    targets = []\n",
    "    for series in batch: #series of 10 transitions in our batch\n",
    "        input = Variable(torch.from_numpy(np.array([series[0].state, series[-1].state], dtype=np.float32)))\n",
    "        output = cnn(input) #this is the prediction from the ai\n",
    "        cumulative_reward = 0.0 if series[-1].done else output[1].data.max() #if the last transition of the series is done else we get the max q values\n",
    "         #start with the last step and go backwards to the first step\n",
    "        for step in reversed(series[:-1]):#reverse goes backwards \n",
    "            cumulative_reward = step.reward + gamma * cumulative_reward\n",
    "            state = series[0].state # first state we need\n",
    "            target = output[0].data # this is the q value of the input state of the first step\n",
    "            target[series[0].action] = cumulative_reward\n",
    "            inputs.append(state)\n",
    "            targets.append(target)\n",
    "            #output the input and the target after being processed through eligibility_trace\n",
    "            return torch.from_numpy(np.array(inputs, dtype=np.float32)), torch.stack(targets)#we stack targets together"
   ]
  },
  {
   "attachments": {},
   "cell_type": "markdown",
   "metadata": {},
   "source": [
    "### Moving Average Reward (for evaluation)"
   ]
  },
  {
   "cell_type": "code",
   "execution_count": 8,
   "metadata": {},
   "outputs": [],
   "source": [
    "class MA:\n",
    "    \"\"\"creates the moving average reward on \n",
    "    100 steps to keep track of training performance\"\"\"\n",
    "    def __init__(self, size):\n",
    "        self.list_of_rewards = []\n",
    "        self.size = size\n",
    "    def add(self, rewards):\n",
    "        if isinstance(rewards, list):\n",
    "            self.list_of_rewards += rewards\n",
    "        else:\n",
    "            self.list_of_rewards.append(rewards)\n",
    "        while len(self.list_of_rewards) > self.size:\n",
    "            del self.list_of_rewards[0] # makes sure that we always have 100 elements of the latest rewards\n",
    "    def average(self):\n",
    "        #return np.mean(self.list_of_rewards)\n",
    "        if len(self.list_of_rewards) > 0:\n",
    "            return np.mean(self.list_of_rewards)\n",
    "        else:\n",
    "            return 0.0  # or any other appropriate default value"
   ]
  },
  {
   "attachments": {},
   "cell_type": "markdown",
   "metadata": {},
   "source": [
    "### Image Preprocessing"
   ]
  },
  {
   "cell_type": "code",
   "execution_count": 9,
   "metadata": {},
   "outputs": [],
   "source": [
    "class ImagePreprocessor(ObservationWrapper):\n",
    "    \"\"\"Custom Image Preprocessor similar to \n",
    "    Atari standard in gymnasium\"\"\"\n",
    "    def __init__(self, env, height = 64, width = 64, grayscale = True, crop = lambda img: img):\n",
    "        super(ImagePreprocessor, self).__init__(env)\n",
    "        self.img_size = (height, width)\n",
    "        self.grayscale = grayscale\n",
    "        self.crop = crop\n",
    "        n_colors = 1 if self.grayscale else 3\n",
    "        self.observation_space = Box(0.0, 1.0, [n_colors, height, width])\n",
    "\n",
    "    def observation(self, img):\n",
    "        img = self.crop(img)\n",
    "        img = Image.fromarray(img)\n",
    "        img = img.resize(self.img_size)\n",
    "        if self.grayscale:\n",
    "            img = img.convert('L')  # Convert to grayscale\n",
    "        else:\n",
    "            img = img.convert('RGB')  # Convert to RGB if necessary\n",
    "\n",
    "        #view preprocessed image\n",
    "        #plt.imshow(img)\n",
    "        #plt.show()\n",
    "\n",
    "        img = np.array(img)\n",
    "        #adds a new dimension to the array to represent the single color channel, resulting in the desired shape\n",
    "        img = np.expand_dims(img, axis=2)\n",
    "        \n",
    "        #if img.ndim == 2:  # Add channel dimension if missing\n",
    "        #    img = np.expand_dims(img, axis=2)\n",
    "        img = np.transpose(img, (2, 0, 1))\n",
    "        img = img.astype('float32') / 255\n",
    "\n",
    "        #check dim of new image\n",
    "        #print(\"image was preprocessed to: \" + str(\"greyscale\" if self.grayscale else \"RGB\") + \" with shape \" + str(img.shape))\n",
    "        return img"
   ]
  },
  {
   "attachments": {},
   "cell_type": "markdown",
   "metadata": {},
   "source": [
    "## Test Atari Environment Working"
   ]
  },
  {
   "attachments": {},
   "cell_type": "markdown",
   "metadata": {},
   "source": [
    "### Preview Atari Environment"
   ]
  },
  {
   "cell_type": "code",
   "execution_count": 10,
   "metadata": {},
   "outputs": [],
   "source": [
    "env = gym.make('ALE/SpaceInvaders-v5')"
   ]
  },
  {
   "cell_type": "code",
   "execution_count": 11,
   "metadata": {},
   "outputs": [
    {
     "name": "stdout",
     "output_type": "stream",
     "text": [
      "Number of possible actions:  6\n"
     ]
    }
   ],
   "source": [
    "a = env.action_space.n\n",
    "print(\"Number of possible actions: \", a)"
   ]
  },
  {
   "cell_type": "code",
   "execution_count": 12,
   "metadata": {},
   "outputs": [
    {
     "data": {
      "text/plain": [
       "['NOOP', 'FIRE', 'RIGHT', 'LEFT', 'RIGHTFIRE', 'LEFTFIRE']"
      ]
     },
     "execution_count": 12,
     "metadata": {},
     "output_type": "execute_result"
    }
   ],
   "source": [
    "env.unwrapped.get_action_meanings()"
   ]
  },
  {
   "cell_type": "code",
   "execution_count": 13,
   "metadata": {},
   "outputs": [
    {
     "name": "stdout",
     "output_type": "stream",
     "text": [
      "(210, 160, 3)\n"
     ]
    }
   ],
   "source": [
    "observation, info = env.reset(seed=42)\n",
    "observation, reward, terminated, truncated, info = env.step(env.action_space.sample())\n",
    "print(observation.shape)\n",
    "env.close()"
   ]
  },
  {
   "cell_type": "code",
   "execution_count": 14,
   "metadata": {},
   "outputs": [
    {
     "data": {
      "image/png": "[encoded data removed]",
      "text/plain": [
       "<Figure size 640x480 with 1 Axes>"
      ]
     },
     "metadata": {},
     "output_type": "display_data"
    },
    {
     "name": "stdout",
     "output_type": "stream",
     "text": [
      "(210, 160, 3)\n"
     ]
    }
   ],
   "source": [
    "observation, info = env.reset(seed=42)\n",
    "plt.imshow(observation)\n",
    "plt.show()\n",
    "print(observation.shape)"
   ]
  },
  {
   "attachments": {},
   "cell_type": "markdown",
   "metadata": {},
   "source": [
    "### Test Random Atari Player"
   ]
  },
  {
   "attachments": {},
   "cell_type": "markdown",
   "metadata": {},
   "source": [
    "```\n",
    "env = gym.make('ALE/SpaceInvaders-v5', render_mode='human') # `human`, `rgb_array`.\n",
    "observation, info = env.reset(seed=42)\n",
    "```"
   ]
  },
  {
   "attachments": {},
   "cell_type": "markdown",
   "metadata": {},
   "source": [
    "```\n",
    "episodes = 1\n",
    "for episode in range(episodes):\n",
    "    state = env.reset()\n",
    "    done = False\n",
    "    score = 0\n",
    "\n",
    "    while not done:\n",
    "        env.render()\n",
    "        action = random.choice([0,1,2,3,4,5])\n",
    "        observation, reward, terminated, truncated, info = env.step(action)\n",
    "        score +=reward\n",
    "        done = terminated or truncated\n",
    "    print(\"episode: \" + str(episode) + \", score: \" + str(score))\n",
    "    env.close()\n",
    "```"
   ]
  },
  {
   "attachments": {},
   "cell_type": "markdown",
   "metadata": {},
   "source": [
    "## Atari Simulator Experiment"
   ]
  },
  {
   "attachments": {},
   "cell_type": "markdown",
   "metadata": {},
   "source": [
    "### 1,000,000 Capacity Size"
   ]
  },
  {
   "attachments": {},
   "cell_type": "markdown",
   "metadata": {},
   "source": [
    "#### Setup Preprocessed Environment"
   ]
  },
  {
   "cell_type": "code",
   "execution_count": 15,
   "metadata": {},
   "outputs": [],
   "source": [
    "env = gym.make('ALE/SpaceInvaders-v5')"
   ]
  },
  {
   "cell_type": "code",
   "execution_count": 16,
   "metadata": {},
   "outputs": [
    {
     "data": {
      "image/png": "[encoded data removed]",
      "text/plain": [
       "<Figure size 640x480 with 1 Axes>"
      ]
     },
     "metadata": {},
     "output_type": "display_data"
    },
    {
     "name": "stdout",
     "output_type": "stream",
     "text": [
      "before image preprocessing: shape (210, 160, 3)\n"
     ]
    }
   ],
   "source": [
    "observation, info = env.reset(seed=42)\n",
    "plt.imshow(observation)\n",
    "plt.show()\n",
    "print(\"before image preprocessing: shape \" + str(observation.shape))"
   ]
  },
  {
   "cell_type": "code",
   "execution_count": 17,
   "metadata": {},
   "outputs": [],
   "source": [
    "#We first preprocess the image by applying a greyscale and reducing the size to 80px. \n",
    "env = ImagePreprocessor(gym.make('ALE/SpaceInvaders-v5'), width=80, height=80, grayscale=True) #width=210, height=160 # render_mode='human'"
   ]
  },
  {
   "attachments": {},
   "cell_type": "markdown",
   "metadata": {},
   "source": [
    "```\n",
    "#We then stacks every k=4 frames into one observation\n",
    "#This will give the model an idea of how an action plays out rather than just having the input be a still frame\n",
    "env = gym.wrappers.FrameStack(env, 4)\n",
    "```"
   ]
  },
  {
   "cell_type": "code",
   "execution_count": 18,
   "metadata": {},
   "outputs": [],
   "source": [
    "observation, info = env.reset(seed=42)"
   ]
  },
  {
   "cell_type": "code",
   "execution_count": 19,
   "metadata": {},
   "outputs": [
    {
     "name": "stdout",
     "output_type": "stream",
     "text": [
      "(1, 80, 80)\n"
     ]
    }
   ],
   "source": [
    "print(observation.shape) #we check that images are stacked"
   ]
  },
  {
   "attachments": {},
   "cell_type": "markdown",
   "metadata": {},
   "source": [
    "#### Create DCQL Agent"
   ]
  },
  {
   "cell_type": "code",
   "execution_count": 20,
   "metadata": {},
   "outputs": [],
   "source": [
    "a = env.action_space.n # actions\n",
    "g = 0.9 #gamma\n",
    "t = 1.0 #softmax policy temperature rate\n",
    "l = 0.001 #learning rate\n",
    "\n",
    "#Build the agent\n",
    "cnn = CNN(a)\n",
    "softmax = SoftmaxPolicy(T=t) # T is temperature high means other actions are less explored\n",
    "agent = DCQ(CNN=cnn, SoftmaxPolicy=softmax)\n",
    "\n",
    "# Set up Experience Replay\n",
    "n_steps = NStepProgress(env=env, ai=agent, n_step=10) #instead of learning every transition we learn every nth transition\n",
    "memory = ReplayMemory(n_steps=n_steps, capacity=10000) #last ten thousand steps\n",
    "\n",
    "#set learning parameters\n",
    "loss = nn.MSELoss()#calculate mean squared error loss\n",
    "optimizer = optim.Adam(cnn.parameters(), lr=l) #use adams optimiser with a learning rate of 0.001\n",
    "\n",
    "ma = MA(100)#get the average of the last 100 rewards"
   ]
  },
  {
   "attachments": {},
   "cell_type": "markdown",
   "metadata": {},
   "source": [
    "#### Simulate the environment"
   ]
  },
  {
   "cell_type": "code",
   "execution_count": 21,
   "metadata": {},
   "outputs": [
    {
     "name": "stdout",
     "output_type": "stream",
     "text": [
      "Epoch: 0, Average Reward: 0.0\n",
      "Epoch: 1, Average Reward: 0.0\n",
      "Epoch: 2, Average Reward: 80.0\n",
      "Epoch: 3, Average Reward: 80.0\n",
      "Epoch: 4, Average Reward: 80.0\n",
      "Epoch: 5, Average Reward: 80.0\n",
      "Epoch: 6, Average Reward: 157.5\n",
      "Epoch: 7, Average Reward: 157.5\n",
      "Epoch: 8, Average Reward: 157.5\n",
      "Epoch: 9, Average Reward: 157.5\n",
      "Epoch: 10, Average Reward: 121.66666666666667\n",
      "Epoch: 11, Average Reward: 121.66666666666667\n",
      "Epoch: 12, Average Reward: 121.66666666666667\n",
      "Epoch: 13, Average Reward: 120.0\n",
      "Epoch: 14, Average Reward: 120.0\n",
      "Epoch: 15, Average Reward: 99.0\n",
      "Epoch: 16, Average Reward: 99.0\n",
      "Epoch: 17, Average Reward: 100.0\n",
      "Epoch: 18, Average Reward: 100.0\n",
      "Epoch: 19, Average Reward: 100.0\n",
      "Epoch: 20, Average Reward: 100.0\n",
      "Epoch: 21, Average Reward: 100.0\n",
      "Epoch: 22, Average Reward: 111.42857142857143\n",
      "Epoch: 23, Average Reward: 111.42857142857143\n",
      "Epoch: 24, Average Reward: 111.42857142857143\n",
      "Epoch: 25, Average Reward: 114.375\n",
      "Epoch: 26, Average Reward: 114.375\n",
      "Epoch: 27, Average Reward: 114.375\n",
      "Epoch: 28, Average Reward: 114.375\n",
      "Epoch: 29, Average Reward: 114.375\n",
      "Epoch: 30, Average Reward: 114.375\n",
      "Epoch: 31, Average Reward: 114.375\n",
      "Epoch: 32, Average Reward: 125.0\n",
      "Epoch: 33, Average Reward: 125.0\n",
      "Epoch: 34, Average Reward: 125.0\n",
      "Epoch: 35, Average Reward: 123.0\n",
      "Epoch: 36, Average Reward: 111.81818181818181\n",
      "Epoch: 37, Average Reward: 111.81818181818181\n",
      "Epoch: 38, Average Reward: 111.81818181818181\n",
      "Epoch: 39, Average Reward: 111.81818181818181\n",
      "Epoch: 40, Average Reward: 117.5\n",
      "Epoch: 41, Average Reward: 117.5\n",
      "Epoch: 42, Average Reward: 117.5\n",
      "Epoch: 43, Average Reward: 117.5\n",
      "Epoch: 44, Average Reward: 117.5\n",
      "Epoch: 45, Average Reward: 117.5\n",
      "Epoch: 46, Average Reward: 126.53846153846153\n",
      "Epoch: 47, Average Reward: 126.53846153846153\n",
      "Epoch: 48, Average Reward: 118.57142857142857\n",
      "Epoch: 49, Average Reward: 118.57142857142857\n",
      "Epoch: 50, Average Reward: 115.66666666666667\n",
      "Epoch: 51, Average Reward: 115.66666666666667\n",
      "Epoch: 52, Average Reward: 115.66666666666667\n",
      "Epoch: 53, Average Reward: 121.5625\n",
      "Epoch: 54, Average Reward: 121.5625\n",
      "Epoch: 55, Average Reward: 121.5625\n",
      "Epoch: 56, Average Reward: 121.5625\n",
      "Epoch: 57, Average Reward: 121.5625\n",
      "Epoch: 58, Average Reward: 133.23529411764707\n",
      "Epoch: 59, Average Reward: 133.23529411764707\n",
      "Epoch: 60, Average Reward: 133.23529411764707\n",
      "Epoch: 61, Average Reward: 135.83333333333334\n",
      "Epoch: 62, Average Reward: 135.83333333333334\n",
      "Epoch: 63, Average Reward: 135.83333333333334\n",
      "Epoch: 64, Average Reward: 135.83333333333334\n",
      "Epoch: 65, Average Reward: 135.83333333333334\n",
      "Epoch: 66, Average Reward: 157.10526315789474\n",
      "Epoch: 67, Average Reward: 157.10526315789474\n",
      "Epoch: 68, Average Reward: 157.10526315789474\n",
      "Epoch: 69, Average Reward: 154.5\n",
      "Epoch: 70, Average Reward: 154.5\n",
      "Epoch: 71, Average Reward: 154.5\n",
      "Epoch: 72, Average Reward: 152.14285714285714\n",
      "Epoch: 73, Average Reward: 152.14285714285714\n",
      "Epoch: 74, Average Reward: 152.14285714285714\n",
      "Epoch: 75, Average Reward: 153.63636363636363\n",
      "Epoch: 76, Average Reward: 153.63636363636363\n",
      "Epoch: 77, Average Reward: 153.63636363636363\n",
      "Epoch: 78, Average Reward: 147.6086956521739\n",
      "Epoch: 79, Average Reward: 147.6086956521739\n",
      "Epoch: 80, Average Reward: 147.6086956521739\n",
      "Epoch: 81, Average Reward: 143.54166666666666\n",
      "Epoch: 82, Average Reward: 143.54166666666666\n",
      "Epoch: 83, Average Reward: 143.54166666666666\n",
      "Epoch: 84, Average Reward: 144.0\n",
      "Epoch: 85, Average Reward: 144.0\n",
      "Epoch: 86, Average Reward: 144.0\n",
      "Epoch: 87, Average Reward: 144.0\n",
      "Epoch: 88, Average Reward: 144.0\n",
      "Epoch: 89, Average Reward: 142.30769230769232\n",
      "Epoch: 90, Average Reward: 142.30769230769232\n",
      "Epoch: 91, Average Reward: 140.92592592592592\n",
      "Epoch: 92, Average Reward: 140.92592592592592\n",
      "Epoch: 93, Average Reward: 140.92592592592592\n",
      "Epoch: 94, Average Reward: 135.89285714285714\n",
      "Epoch: 95, Average Reward: 135.89285714285714\n",
      "Epoch: 96, Average Reward: 135.89285714285714\n",
      "Epoch: 97, Average Reward: 135.89285714285714\n",
      "Epoch: 98, Average Reward: 135.89285714285714\n",
      "Epoch: 99, Average Reward: 135.89285714285714\n",
      "Epoch: 100, Average Reward: 140.17241379310346\n",
      "Epoch: 101, Average Reward: 140.17241379310346\n",
      "Epoch: 102, Average Reward: 140.17241379310346\n",
      "Epoch: 103, Average Reward: 145.66666666666666\n",
      "Epoch: 104, Average Reward: 145.66666666666666\n",
      "Epoch: 105, Average Reward: 144.3548387096774\n",
      "Epoch: 106, Average Reward: 144.3548387096774\n",
      "Epoch: 107, Average Reward: 144.3548387096774\n",
      "Epoch: 108, Average Reward: 144.3548387096774\n",
      "Epoch: 109, Average Reward: 139.84375\n",
      "Epoch: 110, Average Reward: 139.84375\n",
      "Epoch: 111, Average Reward: 139.84375\n",
      "Epoch: 112, Average Reward: 139.84375\n",
      "Epoch: 113, Average Reward: 139.84375\n",
      "Epoch: 114, Average Reward: 139.84375\n",
      "Epoch: 115, Average Reward: 141.96969696969697\n",
      "Epoch: 116, Average Reward: 141.96969696969697\n",
      "Epoch: 117, Average Reward: 141.96969696969697\n",
      "Epoch: 118, Average Reward: 141.96969696969697\n",
      "Epoch: 119, Average Reward: 137.7941176470588\n",
      "Epoch: 120, Average Reward: 137.7941176470588\n",
      "Epoch: 121, Average Reward: 134.28571428571428\n",
      "Epoch: 122, Average Reward: 134.28571428571428\n",
      "Epoch: 123, Average Reward: 134.28571428571428\n",
      "Epoch: 124, Average Reward: 134.28571428571428\n",
      "Epoch: 125, Average Reward: 130.55555555555554\n",
      "Epoch: 126, Average Reward: 130.55555555555554\n",
      "Epoch: 127, Average Reward: 130.55555555555554\n",
      "Epoch: 128, Average Reward: 131.6216216216216\n",
      "Epoch: 129, Average Reward: 128.1578947368421\n",
      "Epoch: 130, Average Reward: 128.1578947368421\n",
      "Epoch: 131, Average Reward: 128.1578947368421\n",
      "Epoch: 132, Average Reward: 128.1578947368421\n",
      "Epoch: 133, Average Reward: 128.1578947368421\n",
      "Epoch: 134, Average Reward: 129.48717948717947\n",
      "Epoch: 135, Average Reward: 129.48717948717947\n",
      "Epoch: 136, Average Reward: 129.48717948717947\n",
      "Epoch: 137, Average Reward: 129.48717948717947\n",
      "Epoch: 138, Average Reward: 130.75\n",
      "Epoch: 139, Average Reward: 130.75\n",
      "Epoch: 140, Average Reward: 130.75\n",
      "Epoch: 141, Average Reward: 129.390243902439\n",
      "Epoch: 142, Average Reward: 129.390243902439\n",
      "Epoch: 143, Average Reward: 129.390243902439\n",
      "Epoch: 144, Average Reward: 128.92857142857142\n",
      "Epoch: 145, Average Reward: 128.92857142857142\n",
      "Epoch: 146, Average Reward: 128.92857142857142\n",
      "Epoch: 147, Average Reward: 127.79069767441861\n",
      "Epoch: 148, Average Reward: 127.79069767441861\n",
      "Epoch: 149, Average Reward: 127.79069767441861\n",
      "Epoch: 150, Average Reward: 127.79069767441861\n",
      "Epoch: 151, Average Reward: 127.79069767441861\n",
      "Epoch: 152, Average Reward: 129.0909090909091\n",
      "Epoch: 153, Average Reward: 129.0909090909091\n",
      "Epoch: 154, Average Reward: 129.0909090909091\n",
      "Epoch: 155, Average Reward: 134.77777777777777\n",
      "Epoch: 156, Average Reward: 134.77777777777777\n",
      "Epoch: 157, Average Reward: 134.56521739130434\n",
      "Epoch: 158, Average Reward: 134.56521739130434\n",
      "Epoch: 159, Average Reward: 134.56521739130434\n",
      "Epoch: 160, Average Reward: 134.56521739130434\n",
      "Epoch: 161, Average Reward: 134.56521739130434\n",
      "Epoch: 162, Average Reward: 134.56521739130434\n",
      "Epoch: 163, Average Reward: 137.2340425531915\n",
      "Epoch: 164, Average Reward: 137.2340425531915\n",
      "Epoch: 165, Average Reward: 137.2340425531915\n",
      "Epoch: 166, Average Reward: 136.5625\n",
      "Epoch: 167, Average Reward: 136.5625\n",
      "Epoch: 168, Average Reward: 136.5625\n",
      "Epoch: 169, Average Reward: 135.0\n",
      "Epoch: 170, Average Reward: 135.0\n",
      "Epoch: 171, Average Reward: 135.0\n",
      "Epoch: 172, Average Reward: 134.7\n",
      "Epoch: 173, Average Reward: 134.7\n",
      "Epoch: 174, Average Reward: 134.7\n",
      "Epoch: 175, Average Reward: 133.52941176470588\n",
      "Epoch: 176, Average Reward: 133.52941176470588\n",
      "Epoch: 177, Average Reward: 131.53846153846155\n",
      "Epoch: 178, Average Reward: 131.53846153846155\n",
      "Epoch: 179, Average Reward: 131.53846153846155\n",
      "Epoch: 180, Average Reward: 131.03773584905662\n",
      "Epoch: 181, Average Reward: 131.03773584905662\n",
      "Epoch: 182, Average Reward: 131.03773584905662\n",
      "Epoch: 183, Average Reward: 131.03773584905662\n",
      "Epoch: 184, Average Reward: 131.03773584905662\n",
      "Epoch: 185, Average Reward: 131.03773584905662\n",
      "Epoch: 186, Average Reward: 131.03773584905662\n",
      "Epoch: 187, Average Reward: 131.03773584905662\n",
      "Epoch: 188, Average Reward: 135.74074074074073\n",
      "Epoch: 189, Average Reward: 135.74074074074073\n",
      "Epoch: 190, Average Reward: 135.74074074074073\n",
      "Epoch: 191, Average Reward: 133.27272727272728\n",
      "Epoch: 192, Average Reward: 133.27272727272728\n",
      "Epoch: 193, Average Reward: 131.16071428571428\n",
      "Epoch: 194, Average Reward: 131.16071428571428\n",
      "Epoch: 195, Average Reward: 131.16071428571428\n",
      "Epoch: 196, Average Reward: 131.16071428571428\n",
      "Epoch: 197, Average Reward: 131.16071428571428\n",
      "Epoch: 198, Average Reward: 131.16071428571428\n",
      "Epoch: 199, Average Reward: 131.16071428571428\n"
     ]
    }
   ],
   "source": [
    "episodes = 200\n",
    "for episode in range(episodes):\n",
    "    #run the game for 200 runs of 10 steps and push sample transitions into memory\n",
    "    memory.run_steps(samples=200)\n",
    "    #sample 128 x10['state', 'action', 'reward', 'done'] or 1,280 transitions from memory\n",
    "    for batch in memory.sample_batch(128):\n",
    "        inputs, targets = eligibility_trace(batch, cnn, g)\n",
    "        inputs, targets = Variable(inputs), Variable(targets)\n",
    "        predictions = cnn(inputs)\n",
    "        loss_error = loss(predictions, targets)\n",
    "        optimizer.zero_grad()\n",
    "        loss_error.backward()\n",
    "        optimizer.step()\n",
    "    rewards_steps = n_steps.rewards_steps()\n",
    "    ma.add(rewards_steps)\n",
    "    avg_reward = ma.average()\n",
    "    print(\"Epoch: %s, Average Reward: %s\" % (str(episode), str(avg_reward)))"
   ]
  },
  {
   "cell_type": "code",
   "execution_count": 22,
   "metadata": {},
   "outputs": [
    {
     "data": {
      "image/png": "[encoded data removed]",
      "text/plain": [
       "<Figure size 640x480 with 1 Axes>"
      ]
     },
     "metadata": {},
     "output_type": "display_data"
    }
   ],
   "source": [
    "# Save and plot reward\n",
    "plt.title(\"Rewards\")\n",
    "plt.xlabel(\"Steps\")\n",
    "plt.ylabel(\"Reward\")\n",
    "plt.plot(ma.list_of_rewards)\n",
    "plt.show()"
   ]
  }
 ],
 "metadata": {
  "kernelspec": {
   "display_name": "venv_research",
   "language": "python",
   "name": "python3"
  },
  "language_info": {
   "codemirror_mode": {
    "name": "ipython",
    "version": 3
   },
   "file_extension": ".py",
   "mimetype": "text/x-python",
   "name": "python",
   "nbconvert_exporter": "python",
   "pygments_lexer": "ipython3",
   "version": "3.8.0"
  },
  "orig_nbformat": 4
 },
 "nbformat": 4,
 "nbformat_minor": 2
}
