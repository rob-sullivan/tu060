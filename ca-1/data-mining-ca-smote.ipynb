{
 "cells": [
  {
   "cell_type": "markdown",
   "id": "9340cc82",
   "metadata": {},
   "source": [
    "# SMOTE - for imbalanced datasets\n",
    "The Imbalanced-Learn library (e.g. SMOTE)requires the data to be in numeric format, as it statistical calculations are performed on these"
   ]
  },
  {
   "cell_type": "markdown",
   "id": "80425958",
   "metadata": {},
   "source": [
    "## Import libraries"
   ]
  },
  {
   "cell_type": "code",
   "execution_count": 27,
   "id": "f57ace0e",
   "metadata": {},
   "outputs": [],
   "source": [
    "import warnings\n",
    "import pandas as pd\n",
    "import numpy as np\n",
    "import matplotlib.pyplot as plt\n",
    "get_ipython().magic('matplotlib inline')\n",
    "from imblearn.over_sampling import SMOTENC"
   ]
  },
  {
   "cell_type": "markdown",
   "id": "1edbe7ee",
   "metadata": {},
   "source": [
    "## Import dataset"
   ]
  },
  {
   "cell_type": "code",
   "execution_count": 28,
   "id": "f440cf58",
   "metadata": {},
   "outputs": [],
   "source": [
    "bank_file = \"./bank-additional-full-cleaned.csv\"\n",
    "df = pd.read_csv(bank_file, sep=';',)"
   ]
  },
  {
   "cell_type": "code",
   "execution_count": 42,
   "id": "a7cfafcb",
   "metadata": {},
   "outputs": [
    {
     "data": {
      "text/plain": [
       "age                 int64\n",
       "job                object\n",
       "marital            object\n",
       "education          object\n",
       "default            object\n",
       "housing            object\n",
       "loan               object\n",
       "contact            object\n",
       "month              object\n",
       "day_of_week        object\n",
       "duration            int64\n",
       "campaign            int64\n",
       "pdays               int64\n",
       "previous            int64\n",
       "poutcome           object\n",
       "emp.var.rate      float64\n",
       "cons.price.idx    float64\n",
       "cons.conf.idx     float64\n",
       "euribor3m         float64\n",
       "nr.employed       float64\n",
       "y                  object\n",
       "dtype: object"
      ]
     },
     "execution_count": 42,
     "metadata": {},
     "output_type": "execute_result"
    }
   ],
   "source": [
    "# get basic details of df (num records, num features)\n",
    "df.shape\n",
    "df.head()\n",
    "df.dtypes"
   ]
  },
  {
   "cell_type": "code",
   "execution_count": 43,
   "id": "c9f08a3d",
   "metadata": {},
   "outputs": [],
   "source": [
    "#convert strings to cats\n",
    "df['job'] = pd.Categorical(df.job)\n",
    "df['marital'] = pd.Categorical(df.marital)\n",
    "df['education'] = pd.Categorical(df.education)\n",
    "df['default'] = pd.Categorical(df.default)\n",
    "df['housing'] = pd.Categorical(df.housing)\n",
    "df['loan'] = pd.Categorical(df.loan)\n",
    "df['contact'] = pd.Categorical(df.contact)\n",
    "df['month'] = pd.Categorical(df.month)\n",
    "df['day_of_week'] = pd.Categorical(df.day_of_week)\n",
    "df['poutcome'] = pd.Categorical(df.poutcome)\n"
   ]
  },
  {
   "cell_type": "code",
   "execution_count": 44,
   "id": "559e40f4",
   "metadata": {},
   "outputs": [
    {
     "data": {
      "text/plain": [
       "no     26629\n",
       "yes     3859\n",
       "Name: y, dtype: int64"
      ]
     },
     "execution_count": 44,
     "metadata": {},
     "output_type": "execute_result"
    }
   ],
   "source": [
    "df['y'].value_counts() # dataset is imbalanced with majority of class label as \"no\"."
   ]
  },
  {
   "cell_type": "code",
   "execution_count": 45,
   "id": "c7d33c9a",
   "metadata": {},
   "outputs": [
    {
     "data": {
      "image/png": "[encoded data removed]",
      "text/plain": [
       "<Figure size 432x288 with 1 Axes>"
      ]
     },
     "metadata": {
      "needs_background": "light"
     },
     "output_type": "display_data"
    }
   ],
   "source": [
    "#print bar chart\n",
    "df.y.value_counts().plot(kind='bar', title='Count (target)');"
   ]
  },
  {
   "cell_type": "code",
   "execution_count": 48,
   "id": "bb966207",
   "metadata": {},
   "outputs": [
    {
     "data": {
      "image/png": "[encoded data removed]",
      "text/plain": [
       "<Figure size 432x288 with 1 Axes>"
      ]
     },
     "metadata": {
      "needs_background": "light"
     },
     "output_type": "display_data"
    }
   ],
   "source": [
    "#Over sampling the minority call y=0 using SMOTE\n",
    "df_new = df\n",
    "\n",
    "x = df.loc[:, df.columns != 'y']\n",
    "y = df.y\n",
    "\n",
    "smotenc = SMOTENC([1,2,3,4,5,6,7,8,9,14],random_state = 101)\n",
    "x_sample, y_sample = smotenc.fit_resample(x, y)\n",
    "x_sample['y'] = y_sample\n",
    "x_sample.to_csv('bank-additional-full-cleaned-smote.csv', sep=';', index=False)\n",
    "\n",
    "bank_file = \"./bank-additional-full-cleaned-smote.csv\"\n",
    "df_smote = pd.read_csv(bank_file, sep=';',)#\n",
    "\n",
    "# check count now\n",
    "df_smote['y'].value_counts() # dataset is imbalanced with majority of class label as \"no\".\n",
    "\n",
    "#print bar chart\n",
    "df_smote.y.value_counts().plot(kind='bar', title='Count (target)');"
   ]
  },
  {
   "cell_type": "code",
   "execution_count": null,
   "id": "0c8d71b6",
   "metadata": {},
   "outputs": [],
   "source": []
  }
 ],
 "metadata": {
  "kernelspec": {
   "display_name": "Python 3",
   "language": "python",
   "name": "python3"
  },
  "language_info": {
   "codemirror_mode": {
    "name": "ipython",
    "version": 3
   },
   "file_extension": ".py",
   "mimetype": "text/x-python",
   "name": "python",
   "nbconvert_exporter": "python",
   "pygments_lexer": "ipython3",
   "version": "3.9.5"
  }
 },
 "nbformat": 4,
 "nbformat_minor": 5
}
