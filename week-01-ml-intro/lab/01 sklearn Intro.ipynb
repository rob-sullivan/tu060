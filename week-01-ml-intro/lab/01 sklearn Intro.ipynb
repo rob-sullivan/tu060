{
 "cells": [
  {
   "cell_type": "markdown",
   "metadata": {},
   "source": [
    "# My first `scikit-learn` notebook"
   ]
  },
  {
   "cell_type": "code",
   "execution_count": null,
   "metadata": {},
   "outputs": [],
   "source": [
    "import pandas as pd\n",
    "import numpy as np\n",
    "from random import choices\n",
    "from sklearn.neighbors import KNeighborsClassifier\n",
    "from sklearn.tree import DecisionTreeClassifier\n",
    "from sklearn.linear_model import LogisticRegression"
   ]
  },
  {
   "cell_type": "markdown",
   "metadata": {},
   "source": [
    "Load a dataset"
   ]
  },
  {
   "cell_type": "code",
   "execution_count": null,
   "metadata": {
    "scrolled": true
   },
   "outputs": [],
   "source": [
    "forecast = pd.read_csv('data/Forecast.csv')\n",
    "forecast.head()"
   ]
  },
  {
   "cell_type": "markdown",
   "metadata": {},
   "source": [
    "Setup the `numpy` arrays to use to train classifiers"
   ]
  },
  {
   "cell_type": "code",
   "execution_count": null,
   "metadata": {},
   "outputs": [],
   "source": [
    "y = forecast.pop('Go-Out').values  # target feature\n",
    "X = forecast.values                # training data\n",
    "type(X),type(y)"
   ]
  },
  {
   "cell_type": "markdown",
   "metadata": {},
   "source": [
    "Train a *k*-NN classifier"
   ]
  },
  {
   "cell_type": "code",
   "execution_count": null,
   "metadata": {},
   "outputs": [],
   "source": [
    "kNN = KNeighborsClassifier(n_neighbors=3) \n",
    "kNN.fit(X,y)\n"
   ]
  },
  {
   "cell_type": "markdown",
   "metadata": {},
   "source": [
    "Set up sample test data and use for prediction"
   ]
  },
  {
   "cell_type": "code",
   "execution_count": null,
   "metadata": {},
   "outputs": [],
   "source": [
    "X_test = np.array([[8,70,11],\n",
    "                   [8,69,15]])\n",
    "kNN.predict(X_test)"
   ]
  },
  {
   "cell_type": "markdown",
   "metadata": {},
   "source": [
    "All `sklearn` classifiers implement the `Estimator` API."
   ]
  },
  {
   "cell_type": "code",
   "execution_count": null,
   "metadata": {},
   "outputs": [],
   "source": [
    "tree = DecisionTreeClassifier()\n",
    "tree.fit(X,y)\n",
    "tree.predict(X_test)"
   ]
  },
  {
   "cell_type": "code",
   "execution_count": null,
   "metadata": {},
   "outputs": [],
   "source": [
    "lr = LogisticRegression()\n",
    "lr.fit(X,y)\n",
    "lr.predict(X_test)"
   ]
  },
  {
   "cell_type": "markdown",
   "metadata": {},
   "source": [
    "Swapping between classifiers (Estimators) makes model selection easy.  \n",
    "Note that each predictor gives different results for the test data examples..."
   ]
  },
  {
   "cell_type": "code",
   "execution_count": null,
   "metadata": {},
   "outputs": [],
   "source": [
    "cfrs = [kNN,tree,lr]\n",
    "for cfr in cfrs:\n",
    "    cfr.fit(X,y)\n",
    "    print(cfr.predict(X_test))"
   ]
  },
  {
   "cell_type": "markdown",
   "metadata": {},
   "source": [
    "## Preprocessing\n",
    "All preprocessing modules implement the `Transformer`  API."
   ]
  },
  {
   "cell_type": "code",
   "execution_count": null,
   "metadata": {},
   "outputs": [],
   "source": [
    "from sklearn import preprocessing\n",
    "scaler = preprocessing.StandardScaler().fit(X)   # standardise to zero mean and unit variance\n",
    "X_scaled = scaler.transform(X)\n",
    "X_test_scaled = scaler.transform(X_test)\n",
    "X_test_scaled"
   ]
  },
  {
   "cell_type": "code",
   "execution_count": null,
   "metadata": {},
   "outputs": [],
   "source": [
    "mm_scaler = preprocessing.MinMaxScaler()        # standardise to range [0,1]\n",
    "mm_scaler.fit(X)\n",
    "X_scaled = mm_scaler.transform(X)\n",
    "X_test_scaled = mm_scaler.transform(X_test)\n",
    "X_test_scaled"
   ]
  },
  {
   "cell_type": "markdown",
   "metadata": {},
   "source": [
    "# Try It Yourself\n",
    "\n",
    "Using the `penguin_size` dataset, experiment with some of the different models available in *sci-kit learn*. Some examples of what you can try are\n",
    "\n",
    "* [Decision Trees](https://scikit-learn.org/stable/modules/generated/sklearn.tree.DecisionTreeClassifier.html)\n",
    "* [Naive Bayes](https://scikit-learn.org/stable/modules/naive_bayes.html)\n",
    "* [KNN Classifier](https://scikit-learn.org/stable/modules/generated/sklearn.neighbors.KNeighborsClassifier.html)\n",
    "* [Logistic Regression](https://scikit-learn.org/stable/modules/generated/sklearn.linear_model.LogisticRegression.html)\n",
    "\n",
    "You can try each of the algorithms with and without scalers, and explore the parameters outlined in the SKLearn documentation for each to see what impact it has on the results.\n"
   ]
  },
  {
   "cell_type": "code",
   "execution_count": null,
   "metadata": {},
   "outputs": [],
   "source": [
    "from sklearn.metrics import accuracy_score\n",
    "\n",
    "def encode_features(df):\n",
    "    \"\"\"\n",
    "    Some models (such as the decision tree, for example) don't work with categorical data. This function\n",
    "    goes through each column in the dataframe and uses a label encoder to convert categorical data to numerical.\n",
    "    For example, `Gentoo`, `Emperor`, `Chinstrap` as penguin species would get replaced with 1, 2, 3\n",
    "    \n",
    "    We'll talk more about label encoding and other things to watch out for as the module progresses.\n",
    "    \"\"\"\n",
    "    le = preprocessing.LabelEncoder()\n",
    "    for i in range(len(df.columns)):\n",
    "        df.iloc[:,i] = le.fit_transform(df.iloc[:,i])\n",
    "    return df\n",
    "\n",
    "penguins_train = pd.read_csv('data/penguins_train.csv')\n",
    "penguins_test = pd.read_csv('data/penguins_test.csv')\n",
    "\n",
    "\n",
    "# Preprocessing goes here. Make sure that any preprocessing done to the training data is also done to the test data\n",
    "\n",
    "penguins_train = encode_features(penguins_train)\n",
    "penguins_test = encode_features(penguins_test)\n",
    "\n",
    "\n",
    "y_train = penguins_train.pop('species')\n",
    "X_train = penguins_train.values\n",
    "\n",
    "y_test = penguins_test.pop('species')\n",
    "X_test = penguins_test.values\n",
    "\n",
    "y_pred = [] # the predict(X_test) method on your classifier will return a list of predictions for y_test\n",
    "\n",
    "# create a classifier\n",
    "# make sure you `fit` the classifier on the training data before you try to predict\n",
    "\n",
    "\n",
    "# A handy way to measure the accuracy of your classifier which compares actual targets against predictions\n",
    "accuracy = accuracy_score(y_test, y_pred)\n",
    "print(f\"Accuracy is {accuracy}\")"
   ]
  },
  {
   "cell_type": "code",
   "execution_count": null,
   "metadata": {},
   "outputs": [],
   "source": [
    "\n"
   ]
  },
  {
   "cell_type": "code",
   "execution_count": null,
   "metadata": {},
   "outputs": [],
   "source": []
  }
 ],
 "metadata": {
  "kernelspec": {
   "display_name": "Python 3 (ipykernel)",
   "language": "python",
   "name": "python3"
  },
  "language_info": {
   "codemirror_mode": {
    "name": "ipython",
    "version": 3
   },
   "file_extension": ".py",
   "mimetype": "text/x-python",
   "name": "python",
   "nbconvert_exporter": "python",
   "pygments_lexer": "ipython3",
   "version": "3.8.10"
  }
 },
 "nbformat": 4,
 "nbformat_minor": 2
}
