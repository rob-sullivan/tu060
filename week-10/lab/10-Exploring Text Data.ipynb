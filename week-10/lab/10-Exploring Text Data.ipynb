{
 "cells": [
  {
   "cell_type": "markdown",
   "metadata": {},
   "source": [
    "# Exploring Text Data  \n",
    "\n",
    "The NLTK documentation can be found at https://www.nltk.org  \n",
    "\n",
    "You will need to import nltk, see below.  \n",
    "`>>> import nltk`    \n",
    "`>>> nltk.download('punkt')`    \n",
    "`>>> nltk.download('stopwords')`\n",
    "\n",
    "## Italian recipes data\n",
    "\n",
    "Data set of Italian recipes from https://www.gutenberg.org/ebooks/24407 (public domain).   \n",
    "The txt format of this has been split into multiple files, one recipe per file.  There are 220 recipes.  \n"
   ]
  },
  {
   "cell_type": "markdown",
   "metadata": {},
   "source": [
    "## Load the data\n",
    "\n",
    "Firstly, load all the data into the `documents` dictionary\n",
    "\n",
    "Merge the documents into one big string, `corpus_all_in_one`, for convenience"
   ]
  },
  {
   "cell_type": "code",
   "execution_count": null,
   "metadata": {},
   "outputs": [],
   "source": [
    "import os\n",
    "\n",
    "data_folder = os.path.join('data', 'recipes')\n",
    "all_recipe_files = [os.path.join(data_folder, fname)\n",
    "                    for fname in os.listdir(data_folder)]\n",
    "\n",
    "documents = {}\n",
    "for recipe_fname in all_recipe_files:\n",
    "    bname = os.path.basename(recipe_fname)\n",
    "    recipe_number = os.path.splitext(bname)[0]\n",
    "    with open(recipe_fname, 'r') as f:\n",
    "        documents[recipe_number] = f.read()\n",
    "\n",
    "corpus_all_in_one = ' '.join([doc for doc in documents.values()])\n",
    "\n",
    "print(\"Number of docs: {}\".format(len(documents)))\n",
    "print(\"Corpus size (char): {}\".format(len(corpus_all_in_one)))\n",
    "type(corpus_all_in_one)"
   ]
  },
  {
   "cell_type": "markdown",
   "metadata": {},
   "source": [
    "## Tokenisation\n",
    "\n",
    "Tokenisation is the process of splitting a raw string into a list of tokens\n",
    "\n",
    "Tokens can be...\n",
    "\n",
    "- Words\n",
    "- Phrases\n",
    "- Punctuation\n",
    "- Numbers\n",
    "- Dates\n",
    "- Currencies\n",
    "- Hashtags\n",
    "- ...?"
   ]
  },
  {
   "cell_type": "code",
   "execution_count": null,
   "metadata": {},
   "outputs": [],
   "source": [
    "from nltk.tokenize import word_tokenize\n",
    "\n",
    "try:  \n",
    "    all_tokens = [t for t in word_tokenize(corpus_all_in_one)]\n",
    "except UnicodeDecodeError:  \n",
    "    all_tokens = [t for t in word_tokenize(corpus_all_in_one.decode('utf-8'))]\n",
    "\n",
    "print(\"Total number of tokens: {}\".format(len(all_tokens)))"
   ]
  },
  {
   "cell_type": "markdown",
   "metadata": {},
   "source": [
    "## Counting Words\n",
    "\n",
    "Start with a simple word count using `collections.Counter`\n",
    "\n",
    "- how many times a word occurs across the whole corpus (total number of occurrences)\n",
    "- how many documents a word occurs"
   ]
  },
  {
   "cell_type": "code",
   "execution_count": null,
   "metadata": {},
   "outputs": [],
   "source": [
    "from collections import Counter\n",
    "\n",
    "total_term_frequency = Counter(all_tokens)\n",
    "\n",
    "\n",
    "for word, freq in total_term_frequency.most_common(20):\n",
    "    print(\"{}\\t{}\".format(word, freq))\n",
    "    \n",
    "type(total_term_frequency)"
   ]
  },
  {
   "cell_type": "code",
   "execution_count": null,
   "metadata": {},
   "outputs": [],
   "source": [
    "document_frequency = Counter()      #dict of key, value pairs where value is a count\n",
    "\n",
    "for recipe_number, content in documents.items():\n",
    "    tokens = word_tokenize(content)\n",
    "    unique_tokens = set(tokens)\n",
    "    document_frequency.update(unique_tokens)\n",
    "\n",
    "for word, freq in document_frequency.most_common(20):\n",
    "    print(\"{}\\t{}\".format(word, freq))\n",
    "    \n",
    "type(unique_tokens)\n"
   ]
  },
  {
   "cell_type": "markdown",
   "metadata": {},
   "source": [
    "## Stop-words\n",
    "\n",
    "Some of the most common words above are not very interesting.\n",
    "\n",
    "These words are called **stop-words**, and they don't provide any particular meaning in isolation (articles, conjunctions, pronouns, etc.)\n",
    "\n",
    "Note that:\n",
    "\n",
    "- there is no \"universal\" list of stop-words\n",
    "- removing stop-words can be useful or damaging depending on the application\n",
    "\n",
    "e.g. if you remove stop-words, what do you do with \"The Who\", \"to be or not to be\" and similar phrases?"
   ]
  },
  {
   "cell_type": "code",
   "execution_count": null,
   "metadata": {},
   "outputs": [],
   "source": [
    "from nltk.corpus import stopwords\n",
    "import string\n",
    "\n",
    "print(stopwords.words('english'))\n",
    "print(len(stopwords.words('english')))\n",
    "print(string.punctuation)"
   ]
  },
  {
   "cell_type": "code",
   "execution_count": null,
   "metadata": {},
   "outputs": [],
   "source": [
    "stop_list = stopwords.words('english') + list(string.punctuation)\n",
    "\n",
    "tokens_no_stop = [token for token in all_tokens\n",
    "                        if token not in stop_list]\n",
    "\n",
    "total_term_frequency_no_stop = Counter(tokens_no_stop)\n",
    "\n",
    "for word, freq in total_term_frequency_no_stop.most_common(20):\n",
    "    print(\"{}\\t{}\".format(word, freq))"
   ]
  },
  {
   "cell_type": "markdown",
   "metadata": {},
   "source": [
    "Notice **When** and **The** above (uppercase W and T)\n",
    "\n",
    "Different variations of the same words are counted as different words (they are, after all, different strings)"
   ]
  },
  {
   "cell_type": "code",
   "execution_count": null,
   "metadata": {},
   "outputs": [],
   "source": [
    "print(total_term_frequency_no_stop['olive'])\n",
    "print(total_term_frequency_no_stop['olives'])\n",
    "print(total_term_frequency_no_stop['Olive'])\n",
    "print(total_term_frequency_no_stop['Olives'])\n",
    "print(total_term_frequency_no_stop['OLIVE'])\n",
    "print(total_term_frequency_no_stop['OLIVES'])"
   ]
  },
  {
   "cell_type": "markdown",
   "metadata": {},
   "source": [
    "## Text Normalisation\n",
    "\n",
    "Normalise the text to group together different spelling/variations of the same word\n",
    "\n",
    "Examples:\n",
    "    \n",
    "- lowercasing\n",
    "- stemming\n",
    "- American-to-British mapping\n",
    "- synonym mapping\n",
    "\n",
    "**Stemming** is the process of reducing a word to its base/root form, called stem"
   ]
  },
  {
   "cell_type": "code",
   "execution_count": null,
   "metadata": {},
   "outputs": [],
   "source": [
    "from nltk.stem import PorterStemmer\n",
    "\n",
    "stemmer = PorterStemmer()\n",
    "all_tokens_lower = [t.lower() for t in all_tokens]\n",
    "\n",
    "tokens_normalised = [stemmer.stem(t) for t in all_tokens_lower\n",
    "                                     if t not in stop_list]\n",
    "\n",
    "total_term_frequency_normalised = Counter(tokens_normalised)\n",
    "\n",
    "for word, freq in total_term_frequency_normalised.most_common(20):\n",
    "    print(\"{}\\t{}\".format(word, freq))"
   ]
  },
  {
   "cell_type": "markdown",
   "metadata": {},
   "source": [
    "Tips:\n",
    "    \n",
    "- a stem is not always a word\n",
    "- careful with one-way transformations (like lowercasing)\n",
    "- wrap your preprocessing steps in a function / chain of functions for better design"
   ]
  },
  {
   "cell_type": "markdown",
   "metadata": {},
   "source": [
    "## n-grams \n",
    "\n",
    "An n-gram is a sequence of n adjacent terms.\n",
    "\n",
    "Commonly used n-grams include bigrams (n=2) and trigrams (n=3)."
   ]
  },
  {
   "cell_type": "code",
   "execution_count": null,
   "metadata": {},
   "outputs": [],
   "source": [
    "from nltk import ngrams\n",
    "\n",
    "phrases = Counter(ngrams(all_tokens_lower, 2))\n",
    "for phrase, freq in phrases.most_common(20):\n",
    "    print(\"{}\\t{}\".format(phrase, freq))"
   ]
  },
  {
   "cell_type": "code",
   "execution_count": null,
   "metadata": {},
   "outputs": [],
   "source": [
    "phrases = Counter(ngrams(all_tokens_lower, 3))\n",
    "for phrase, freq in phrases.most_common(20):\n",
    "    print(\"{}\\t{}\".format(phrase, freq))"
   ]
  },
  {
   "cell_type": "markdown",
   "metadata": {},
   "source": [
    "## n-grams and stop-words\n",
    "\n",
    "Stop-word removal will affect n-grams\n",
    "\n",
    "e.g. phrases like \"a pinch of salt\" become \"pinch salt\" after stop-word removal"
   ]
  },
  {
   "cell_type": "code",
   "execution_count": null,
   "metadata": {},
   "outputs": [],
   "source": [
    "phrases = Counter(ngrams(tokens_no_stop, 2))\n",
    "\n",
    "for phrase, freq in phrases.most_common(20):\n",
    "    print(\"{}\\t{}\".format(phrase, freq))"
   ]
  },
  {
   "cell_type": "code",
   "execution_count": null,
   "metadata": {},
   "outputs": [],
   "source": [
    "phrases = Counter(ngrams(tokens_no_stop, 3))\n",
    "\n",
    "for phrase, freq in phrases.most_common(20):\n",
    "    print(\"{}\\t{}\".format(phrase, freq))"
   ]
  },
  {
   "cell_type": "code",
   "execution_count": null,
   "metadata": {},
   "outputs": [],
   "source": []
  }
 ],
 "metadata": {
  "kernelspec": {
   "display_name": "Python 3",
   "language": "python",
   "name": "python3"
  },
  "language_info": {
   "codemirror_mode": {
    "name": "ipython",
    "version": 3
   },
   "file_extension": ".py",
   "mimetype": "text/x-python",
   "name": "python",
   "nbconvert_exporter": "python",
   "pygments_lexer": "ipython3",
   "version": "3.8.2"
  }
 },
 "nbformat": 4,
 "nbformat_minor": 1
}
