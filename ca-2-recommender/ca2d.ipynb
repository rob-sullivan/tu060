{
 "cells": [
  {
   "cell_type": "code",
   "execution_count": 1,
   "id": "bbd31156",
   "metadata": {},
   "outputs": [],
   "source": [
    "import pandas as pd\n",
    "import numpy as np\n",
    "from sklearn import preprocessing\n",
    "\n",
    "from sklearn.neighbors import NearestNeighbors\n",
    "from sklearn.neighbors import KNeighborsClassifier"
   ]
  },
  {
   "cell_type": "code",
   "execution_count": 2,
   "id": "8d8cd61a",
   "metadata": {},
   "outputs": [],
   "source": [
    "transactions_train_df = pd.read_csv(\"data/transactions_train.csv\") # import the transactions dataset"
   ]
  },
  {
   "cell_type": "code",
   "execution_count": 3,
   "id": "462fd2b5",
   "metadata": {},
   "outputs": [
    {
     "data": {
      "text/html": [
       "<div>\n",
       "<style scoped>\n",
       "    .dataframe tbody tr th:only-of-type {\n",
       "        vertical-align: middle;\n",
       "    }\n",
       "\n",
       "    .dataframe tbody tr th {\n",
       "        vertical-align: top;\n",
       "    }\n",
       "\n",
       "    .dataframe thead th {\n",
       "        text-align: right;\n",
       "    }\n",
       "</style>\n",
       "<table border=\"1\" class=\"dataframe\">\n",
       "  <thead>\n",
       "    <tr style=\"text-align: right;\">\n",
       "      <th></th>\n",
       "      <th>t_dat</th>\n",
       "      <th>price</th>\n",
       "      <th>article_id</th>\n",
       "    </tr>\n",
       "    <tr>\n",
       "      <th>customer_id</th>\n",
       "      <th></th>\n",
       "      <th></th>\n",
       "      <th></th>\n",
       "    </tr>\n",
       "  </thead>\n",
       "  <tbody>\n",
       "    <tr>\n",
       "      <th>000058a12d5b43e67d225668fa1f8d618c13dc232df0cad8ffe7ad4a1091e318</th>\n",
       "      <td>20180920</td>\n",
       "      <td>0.050831</td>\n",
       "      <td>663713001</td>\n",
       "    </tr>\n",
       "    <tr>\n",
       "      <th>000058a12d5b43e67d225668fa1f8d618c13dc232df0cad8ffe7ad4a1091e318</th>\n",
       "      <td>20180920</td>\n",
       "      <td>0.030492</td>\n",
       "      <td>541518023</td>\n",
       "    </tr>\n",
       "    <tr>\n",
       "      <th>00007d2de826758b65a93dd24ce629ed66842531df6699338c5570910a014cc2</th>\n",
       "      <td>20180920</td>\n",
       "      <td>0.015237</td>\n",
       "      <td>505221004</td>\n",
       "    </tr>\n",
       "    <tr>\n",
       "      <th>00007d2de826758b65a93dd24ce629ed66842531df6699338c5570910a014cc2</th>\n",
       "      <td>20180920</td>\n",
       "      <td>0.016932</td>\n",
       "      <td>685687003</td>\n",
       "    </tr>\n",
       "    <tr>\n",
       "      <th>00007d2de826758b65a93dd24ce629ed66842531df6699338c5570910a014cc2</th>\n",
       "      <td>20180920</td>\n",
       "      <td>0.016932</td>\n",
       "      <td>685687004</td>\n",
       "    </tr>\n",
       "    <tr>\n",
       "      <th>...</th>\n",
       "      <td>...</td>\n",
       "      <td>...</td>\n",
       "      <td>...</td>\n",
       "    </tr>\n",
       "    <tr>\n",
       "      <th>fff2282977442e327b45d8c89afde25617d00124d0f99982410630ac51314356</th>\n",
       "      <td>20200922</td>\n",
       "      <td>0.059305</td>\n",
       "      <td>929511001</td>\n",
       "    </tr>\n",
       "    <tr>\n",
       "      <th>fff2282977442e327b45d8c89afde25617d00124d0f99982410630ac51314356</th>\n",
       "      <td>20200922</td>\n",
       "      <td>0.042356</td>\n",
       "      <td>891322004</td>\n",
       "    </tr>\n",
       "    <tr>\n",
       "      <th>fff380805474b287b05cb2a7507b9a013482f7dd0bce0e6936f26ea7ecaa68a1</th>\n",
       "      <td>20200922</td>\n",
       "      <td>0.043203</td>\n",
       "      <td>918325001</td>\n",
       "    </tr>\n",
       "    <tr>\n",
       "      <th>fff4d3a8b1f3b60af93e78c30a7cb4cf75edaf2590d3e593881ae6007d775f0f</th>\n",
       "      <td>20200922</td>\n",
       "      <td>0.006763</td>\n",
       "      <td>833459002</td>\n",
       "    </tr>\n",
       "    <tr>\n",
       "      <th>fffef3b6b73545df065b521e19f64bf6fe93bfd450ab20e02ce5d1e58a8f700b</th>\n",
       "      <td>20200922</td>\n",
       "      <td>0.033881</td>\n",
       "      <td>898573003</td>\n",
       "    </tr>\n",
       "  </tbody>\n",
       "</table>\n",
       "<p>31788324 rows × 3 columns</p>\n",
       "</div>"
      ],
      "text/plain": [
       "                                                       t_dat     price  \\\n",
       "customer_id                                                              \n",
       "000058a12d5b43e67d225668fa1f8d618c13dc232df0cad...  20180920  0.050831   \n",
       "000058a12d5b43e67d225668fa1f8d618c13dc232df0cad...  20180920  0.030492   \n",
       "00007d2de826758b65a93dd24ce629ed66842531df66993...  20180920  0.015237   \n",
       "00007d2de826758b65a93dd24ce629ed66842531df66993...  20180920  0.016932   \n",
       "00007d2de826758b65a93dd24ce629ed66842531df66993...  20180920  0.016932   \n",
       "...                                                      ...       ...   \n",
       "fff2282977442e327b45d8c89afde25617d00124d0f9998...  20200922  0.059305   \n",
       "fff2282977442e327b45d8c89afde25617d00124d0f9998...  20200922  0.042356   \n",
       "fff380805474b287b05cb2a7507b9a013482f7dd0bce0e6...  20200922  0.043203   \n",
       "fff4d3a8b1f3b60af93e78c30a7cb4cf75edaf2590d3e59...  20200922  0.006763   \n",
       "fffef3b6b73545df065b521e19f64bf6fe93bfd450ab20e...  20200922  0.033881   \n",
       "\n",
       "                                                   article_id  \n",
       "customer_id                                                    \n",
       "000058a12d5b43e67d225668fa1f8d618c13dc232df0cad...  663713001  \n",
       "000058a12d5b43e67d225668fa1f8d618c13dc232df0cad...  541518023  \n",
       "00007d2de826758b65a93dd24ce629ed66842531df66993...  505221004  \n",
       "00007d2de826758b65a93dd24ce629ed66842531df66993...  685687003  \n",
       "00007d2de826758b65a93dd24ce629ed66842531df66993...  685687004  \n",
       "...                                                       ...  \n",
       "fff2282977442e327b45d8c89afde25617d00124d0f9998...  929511001  \n",
       "fff2282977442e327b45d8c89afde25617d00124d0f9998...  891322004  \n",
       "fff380805474b287b05cb2a7507b9a013482f7dd0bce0e6...  918325001  \n",
       "fff4d3a8b1f3b60af93e78c30a7cb4cf75edaf2590d3e59...  833459002  \n",
       "fffef3b6b73545df065b521e19f64bf6fe93bfd450ab20e...  898573003  \n",
       "\n",
       "[31788324 rows x 3 columns]"
      ]
     },
     "execution_count": 3,
     "metadata": {},
     "output_type": "execute_result"
    }
   ],
   "source": [
    "#clean data\n",
    "transactions_train_df[\"t_dat\"] = pd.to_datetime(transactions_train_df[\"t_dat\"]).dt.strftime(\"%Y%m%d\")\n",
    "transactions_train_df['t_dat'] = transactions_train_df['t_dat'].values.astype(int)\n",
    "\n",
    "transactions_train_df['article_id'] = transactions_train_df['article_id'].values.astype(str)\n",
    "transactions_train_df = transactions_train_df.drop(['sales_channel_id'], axis=1)\n",
    "transactions_train_df = transactions_train_df[['customer_id', 't_dat', 'price', 'article_id']]\n",
    "transactions_train_df.set_index('customer_id')"
   ]
  },
  {
   "cell_type": "code",
   "execution_count": 4,
   "id": "10d897e5",
   "metadata": {},
   "outputs": [
    {
     "data": {
      "text/html": [
       "<div>\n",
       "<style scoped>\n",
       "    .dataframe tbody tr th:only-of-type {\n",
       "        vertical-align: middle;\n",
       "    }\n",
       "\n",
       "    .dataframe tbody tr th {\n",
       "        vertical-align: top;\n",
       "    }\n",
       "\n",
       "    .dataframe thead th {\n",
       "        text-align: right;\n",
       "    }\n",
       "</style>\n",
       "<table border=\"1\" class=\"dataframe\">\n",
       "  <thead>\n",
       "    <tr style=\"text-align: right;\">\n",
       "      <th></th>\n",
       "      <th>customer_id</th>\n",
       "      <th>t_dat</th>\n",
       "      <th>price</th>\n",
       "      <th>article_id</th>\n",
       "    </tr>\n",
       "  </thead>\n",
       "  <tbody>\n",
       "    <tr>\n",
       "      <th>31788224</th>\n",
       "      <td>feede16a97612dbe30e7157dce5797b78cab0eda03e146...</td>\n",
       "      <td>20200922</td>\n",
       "      <td>0.042356</td>\n",
       "      <td>919273002</td>\n",
       "    </tr>\n",
       "    <tr>\n",
       "      <th>31788225</th>\n",
       "      <td>feede16a97612dbe30e7157dce5797b78cab0eda03e146...</td>\n",
       "      <td>20200922</td>\n",
       "      <td>0.042356</td>\n",
       "      <td>919273002</td>\n",
       "    </tr>\n",
       "    <tr>\n",
       "      <th>31788226</th>\n",
       "      <td>feeea34bc8517c692eed5c4e203d421497f06dc16f79c3...</td>\n",
       "      <td>20200922</td>\n",
       "      <td>0.042356</td>\n",
       "      <td>924243001</td>\n",
       "    </tr>\n",
       "    <tr>\n",
       "      <th>31788227</th>\n",
       "      <td>feeea34bc8517c692eed5c4e203d421497f06dc16f79c3...</td>\n",
       "      <td>20200922</td>\n",
       "      <td>0.042356</td>\n",
       "      <td>924243002</td>\n",
       "    </tr>\n",
       "    <tr>\n",
       "      <th>31788228</th>\n",
       "      <td>fef6b86939d46de6baee105682c17ed04ab9ac3bab503c...</td>\n",
       "      <td>20200922</td>\n",
       "      <td>0.040576</td>\n",
       "      <td>905957001</td>\n",
       "    </tr>\n",
       "    <tr>\n",
       "      <th>...</th>\n",
       "      <td>...</td>\n",
       "      <td>...</td>\n",
       "      <td>...</td>\n",
       "      <td>...</td>\n",
       "    </tr>\n",
       "    <tr>\n",
       "      <th>31788319</th>\n",
       "      <td>fff2282977442e327b45d8c89afde25617d00124d0f999...</td>\n",
       "      <td>20200922</td>\n",
       "      <td>0.059305</td>\n",
       "      <td>929511001</td>\n",
       "    </tr>\n",
       "    <tr>\n",
       "      <th>31788320</th>\n",
       "      <td>fff2282977442e327b45d8c89afde25617d00124d0f999...</td>\n",
       "      <td>20200922</td>\n",
       "      <td>0.042356</td>\n",
       "      <td>891322004</td>\n",
       "    </tr>\n",
       "    <tr>\n",
       "      <th>31788321</th>\n",
       "      <td>fff380805474b287b05cb2a7507b9a013482f7dd0bce0e...</td>\n",
       "      <td>20200922</td>\n",
       "      <td>0.043203</td>\n",
       "      <td>918325001</td>\n",
       "    </tr>\n",
       "    <tr>\n",
       "      <th>31788322</th>\n",
       "      <td>fff4d3a8b1f3b60af93e78c30a7cb4cf75edaf2590d3e5...</td>\n",
       "      <td>20200922</td>\n",
       "      <td>0.006763</td>\n",
       "      <td>833459002</td>\n",
       "    </tr>\n",
       "    <tr>\n",
       "      <th>31788323</th>\n",
       "      <td>fffef3b6b73545df065b521e19f64bf6fe93bfd450ab20...</td>\n",
       "      <td>20200922</td>\n",
       "      <td>0.033881</td>\n",
       "      <td>898573003</td>\n",
       "    </tr>\n",
       "  </tbody>\n",
       "</table>\n",
       "<p>100 rows × 4 columns</p>\n",
       "</div>"
      ],
      "text/plain": [
       "                                                customer_id     t_dat  \\\n",
       "31788224  feede16a97612dbe30e7157dce5797b78cab0eda03e146...  20200922   \n",
       "31788225  feede16a97612dbe30e7157dce5797b78cab0eda03e146...  20200922   \n",
       "31788226  feeea34bc8517c692eed5c4e203d421497f06dc16f79c3...  20200922   \n",
       "31788227  feeea34bc8517c692eed5c4e203d421497f06dc16f79c3...  20200922   \n",
       "31788228  fef6b86939d46de6baee105682c17ed04ab9ac3bab503c...  20200922   \n",
       "...                                                     ...       ...   \n",
       "31788319  fff2282977442e327b45d8c89afde25617d00124d0f999...  20200922   \n",
       "31788320  fff2282977442e327b45d8c89afde25617d00124d0f999...  20200922   \n",
       "31788321  fff380805474b287b05cb2a7507b9a013482f7dd0bce0e...  20200922   \n",
       "31788322  fff4d3a8b1f3b60af93e78c30a7cb4cf75edaf2590d3e5...  20200922   \n",
       "31788323  fffef3b6b73545df065b521e19f64bf6fe93bfd450ab20...  20200922   \n",
       "\n",
       "             price article_id  \n",
       "31788224  0.042356  919273002  \n",
       "31788225  0.042356  919273002  \n",
       "31788226  0.042356  924243001  \n",
       "31788227  0.042356  924243002  \n",
       "31788228  0.040576  905957001  \n",
       "...            ...        ...  \n",
       "31788319  0.059305  929511001  \n",
       "31788320  0.042356  891322004  \n",
       "31788321  0.043203  918325001  \n",
       "31788322  0.006763  833459002  \n",
       "31788323  0.033881  898573003  \n",
       "\n",
       "[100 rows x 4 columns]"
      ]
     },
     "execution_count": 4,
     "metadata": {},
     "output_type": "execute_result"
    }
   ],
   "source": [
    "transactions_train_df.tail(100) #see new orders first."
   ]
  },
  {
   "cell_type": "code",
   "execution_count": 5,
   "id": "72f42d76",
   "metadata": {},
   "outputs": [
    {
     "data": {
      "text/html": [
       "<div>\n",
       "<style scoped>\n",
       "    .dataframe tbody tr th:only-of-type {\n",
       "        vertical-align: middle;\n",
       "    }\n",
       "\n",
       "    .dataframe tbody tr th {\n",
       "        vertical-align: top;\n",
       "    }\n",
       "\n",
       "    .dataframe thead th {\n",
       "        text-align: right;\n",
       "    }\n",
       "</style>\n",
       "<table border=\"1\" class=\"dataframe\">\n",
       "  <thead>\n",
       "    <tr style=\"text-align: right;\">\n",
       "      <th></th>\n",
       "      <th>t_dat</th>\n",
       "      <th>price</th>\n",
       "    </tr>\n",
       "  </thead>\n",
       "  <tbody>\n",
       "    <tr>\n",
       "      <th>count</th>\n",
       "      <td>3.178832e+07</td>\n",
       "      <td>3.178832e+07</td>\n",
       "    </tr>\n",
       "    <tr>\n",
       "      <th>mean</th>\n",
       "      <td>2.019273e+07</td>\n",
       "      <td>2.782927e-02</td>\n",
       "    </tr>\n",
       "    <tr>\n",
       "      <th>std</th>\n",
       "      <td>6.487442e+03</td>\n",
       "      <td>1.918113e-02</td>\n",
       "    </tr>\n",
       "    <tr>\n",
       "      <th>min</th>\n",
       "      <td>2.018092e+07</td>\n",
       "      <td>1.694915e-05</td>\n",
       "    </tr>\n",
       "    <tr>\n",
       "      <th>25%</th>\n",
       "      <td>2.019033e+07</td>\n",
       "      <td>1.581356e-02</td>\n",
       "    </tr>\n",
       "    <tr>\n",
       "      <th>50%</th>\n",
       "      <td>2.019082e+07</td>\n",
       "      <td>2.540678e-02</td>\n",
       "    </tr>\n",
       "    <tr>\n",
       "      <th>75%</th>\n",
       "      <td>2.020033e+07</td>\n",
       "      <td>3.388136e-02</td>\n",
       "    </tr>\n",
       "    <tr>\n",
       "      <th>max</th>\n",
       "      <td>2.020092e+07</td>\n",
       "      <td>5.915254e-01</td>\n",
       "    </tr>\n",
       "  </tbody>\n",
       "</table>\n",
       "</div>"
      ],
      "text/plain": [
       "              t_dat         price\n",
       "count  3.178832e+07  3.178832e+07\n",
       "mean   2.019273e+07  2.782927e-02\n",
       "std    6.487442e+03  1.918113e-02\n",
       "min    2.018092e+07  1.694915e-05\n",
       "25%    2.019033e+07  1.581356e-02\n",
       "50%    2.019082e+07  2.540678e-02\n",
       "75%    2.020033e+07  3.388136e-02\n",
       "max    2.020092e+07  5.915254e-01"
      ]
     },
     "execution_count": 5,
     "metadata": {},
     "output_type": "execute_result"
    }
   ],
   "source": [
    "transactions_train_df.describe() # see distributions"
   ]
  },
  {
   "cell_type": "code",
   "execution_count": 6,
   "id": "e7fcfaae",
   "metadata": {},
   "outputs": [],
   "source": [
    "transaction_sample = transactions_train_df.loc[transactions_train_df['t_dat'] > 20200914] # get a 7 day sample"
   ]
  },
  {
   "cell_type": "code",
   "execution_count": 7,
   "id": "8ce09860",
   "metadata": {},
   "outputs": [
    {
     "data": {
      "text/html": [
       "<div>\n",
       "<style scoped>\n",
       "    .dataframe tbody tr th:only-of-type {\n",
       "        vertical-align: middle;\n",
       "    }\n",
       "\n",
       "    .dataframe tbody tr th {\n",
       "        vertical-align: top;\n",
       "    }\n",
       "\n",
       "    .dataframe thead th {\n",
       "        text-align: right;\n",
       "    }\n",
       "</style>\n",
       "<table border=\"1\" class=\"dataframe\">\n",
       "  <thead>\n",
       "    <tr style=\"text-align: right;\">\n",
       "      <th></th>\n",
       "      <th>customer_id</th>\n",
       "      <th>t_dat</th>\n",
       "      <th>price</th>\n",
       "      <th>article_id</th>\n",
       "    </tr>\n",
       "  </thead>\n",
       "  <tbody>\n",
       "    <tr>\n",
       "      <th>31521960</th>\n",
       "      <td>000058a12d5b43e67d225668fa1f8d618c13dc232df0ca...</td>\n",
       "      <td>20200915</td>\n",
       "      <td>0.061000</td>\n",
       "      <td>794321007</td>\n",
       "    </tr>\n",
       "    <tr>\n",
       "      <th>31521961</th>\n",
       "      <td>00040239317e877c77ac6e79df42eb2633ad38fcac09fc...</td>\n",
       "      <td>20200915</td>\n",
       "      <td>0.050831</td>\n",
       "      <td>875272011</td>\n",
       "    </tr>\n",
       "    <tr>\n",
       "      <th>31521962</th>\n",
       "      <td>00040239317e877c77ac6e79df42eb2633ad38fcac09fc...</td>\n",
       "      <td>20200915</td>\n",
       "      <td>0.050831</td>\n",
       "      <td>875272012</td>\n",
       "    </tr>\n",
       "    <tr>\n",
       "      <th>31521963</th>\n",
       "      <td>000749135ee9aa3a24c2316ea5ae4f495b39c1653c5612...</td>\n",
       "      <td>20200915</td>\n",
       "      <td>0.011847</td>\n",
       "      <td>800691007</td>\n",
       "    </tr>\n",
       "    <tr>\n",
       "      <th>31521964</th>\n",
       "      <td>000749135ee9aa3a24c2316ea5ae4f495b39c1653c5612...</td>\n",
       "      <td>20200915</td>\n",
       "      <td>0.011847</td>\n",
       "      <td>800691007</td>\n",
       "    </tr>\n",
       "  </tbody>\n",
       "</table>\n",
       "</div>"
      ],
      "text/plain": [
       "                                                customer_id     t_dat  \\\n",
       "31521960  000058a12d5b43e67d225668fa1f8d618c13dc232df0ca...  20200915   \n",
       "31521961  00040239317e877c77ac6e79df42eb2633ad38fcac09fc...  20200915   \n",
       "31521962  00040239317e877c77ac6e79df42eb2633ad38fcac09fc...  20200915   \n",
       "31521963  000749135ee9aa3a24c2316ea5ae4f495b39c1653c5612...  20200915   \n",
       "31521964  000749135ee9aa3a24c2316ea5ae4f495b39c1653c5612...  20200915   \n",
       "\n",
       "             price article_id  \n",
       "31521960  0.061000  794321007  \n",
       "31521961  0.050831  875272011  \n",
       "31521962  0.050831  875272012  \n",
       "31521963  0.011847  800691007  \n",
       "31521964  0.011847  800691007  "
      ]
     },
     "execution_count": 7,
     "metadata": {},
     "output_type": "execute_result"
    }
   ],
   "source": [
    "transaction_sample.head()"
   ]
  },
  {
   "cell_type": "code",
   "execution_count": 8,
   "id": "ffa2e5bb",
   "metadata": {},
   "outputs": [
    {
     "data": {
      "text/plain": [
       "266364"
      ]
     },
     "execution_count": 8,
     "metadata": {},
     "output_type": "execute_result"
    }
   ],
   "source": [
    "transaction_sample['t_dat'].size # 266,364 samples to test"
   ]
  },
  {
   "cell_type": "code",
   "execution_count": 31,
   "id": "95771b8c",
   "metadata": {},
   "outputs": [
    {
     "data": {
      "text/html": [
       "<div>\n",
       "<style scoped>\n",
       "    .dataframe tbody tr th:only-of-type {\n",
       "        vertical-align: middle;\n",
       "    }\n",
       "\n",
       "    .dataframe tbody tr th {\n",
       "        vertical-align: top;\n",
       "    }\n",
       "\n",
       "    .dataframe thead th {\n",
       "        text-align: right;\n",
       "    }\n",
       "</style>\n",
       "<table border=\"1\" class=\"dataframe\">\n",
       "  <thead>\n",
       "    <tr style=\"text-align: right;\">\n",
       "      <th></th>\n",
       "      <th>customer_id</th>\n",
       "      <th>t_dat</th>\n",
       "      <th>price</th>\n",
       "      <th>article_id</th>\n",
       "    </tr>\n",
       "  </thead>\n",
       "  <tbody>\n",
       "    <tr>\n",
       "      <th>31644305</th>\n",
       "      <td>b9c4290d499abc741b2efc1a8a2369a9abcb8773200b95...</td>\n",
       "      <td>20200918</td>\n",
       "      <td>0.040339</td>\n",
       "      <td>919365008</td>\n",
       "    </tr>\n",
       "    <tr>\n",
       "      <th>31734769</th>\n",
       "      <td>5a0d0c75ea2bda14feb32d99f693b8ca9457834d2723a0...</td>\n",
       "      <td>20200921</td>\n",
       "      <td>0.011678</td>\n",
       "      <td>798902002</td>\n",
       "    </tr>\n",
       "    <tr>\n",
       "      <th>31579233</th>\n",
       "      <td>1b45c0377ed81cb18ec2a644168ed5957070e9b5b6881f...</td>\n",
       "      <td>20200917</td>\n",
       "      <td>0.005068</td>\n",
       "      <td>854151001</td>\n",
       "    </tr>\n",
       "    <tr>\n",
       "      <th>31576670</th>\n",
       "      <td>0aa1598e5932a4c1545569fe485c1b4268458b00b30708...</td>\n",
       "      <td>20200917</td>\n",
       "      <td>0.033881</td>\n",
       "      <td>919741001</td>\n",
       "    </tr>\n",
       "    <tr>\n",
       "      <th>31787169</th>\n",
       "      <td>f65007f094ad989712b00933b8312a3423d756f281bfd9...</td>\n",
       "      <td>20200922</td>\n",
       "      <td>0.033881</td>\n",
       "      <td>562245102</td>\n",
       "    </tr>\n",
       "  </tbody>\n",
       "</table>\n",
       "</div>"
      ],
      "text/plain": [
       "                                                customer_id     t_dat  \\\n",
       "31644305  b9c4290d499abc741b2efc1a8a2369a9abcb8773200b95...  20200918   \n",
       "31734769  5a0d0c75ea2bda14feb32d99f693b8ca9457834d2723a0...  20200921   \n",
       "31579233  1b45c0377ed81cb18ec2a644168ed5957070e9b5b6881f...  20200917   \n",
       "31576670  0aa1598e5932a4c1545569fe485c1b4268458b00b30708...  20200917   \n",
       "31787169  f65007f094ad989712b00933b8312a3423d756f281bfd9...  20200922   \n",
       "\n",
       "             price article_id  \n",
       "31644305  0.040339  919365008  \n",
       "31734769  0.011678  798902002  \n",
       "31579233  0.005068  854151001  \n",
       "31576670  0.033881  919741001  \n",
       "31787169  0.033881  562245102  "
      ]
     },
     "execution_count": 31,
     "metadata": {},
     "output_type": "execute_result"
    }
   ],
   "source": [
    "transaction_subsample = transaction_sample.sample(n = 10) # take a sub sample for graphing\n",
    "transaction_subsample.head()"
   ]
  },
  {
   "cell_type": "code",
   "execution_count": 32,
   "id": "7b5bb9c8",
   "metadata": {},
   "outputs": [
    {
     "data": {
      "text/plain": [
       "array(['5a0d0c75ea2bda14feb32d99f693b8ca9457834d2723a0adea68eab151257885',\n",
       "       20200921, 0.0116779661016949], dtype=object)"
      ]
     },
     "execution_count": 32,
     "metadata": {},
     "output_type": "execute_result"
    }
   ],
   "source": [
    "# Store features and labels in numpy arrays X and y\n",
    "#customer too long (000058a12d5b43e67d225668fa1f8d618c13dc232df0cad8ffe7ad4a1091e318)\n",
    "#using index row nums instead\n",
    "names = transaction_subsample.index\n",
    "\n",
    "y = transaction_subsample.pop('article_id').values\n",
    "X = transaction_subsample.values\n",
    "\n",
    "X[1] # look at some of our feature values"
   ]
  },
  {
   "cell_type": "code",
   "execution_count": 87,
   "id": "a0c44dd7",
   "metadata": {},
   "outputs": [],
   "source": [
    "q = [0.03, 20200919] # customer who buys on 2020-09-22 and wants to spend £1.69"
   ]
  },
  {
   "cell_type": "code",
   "execution_count": 88,
   "id": "5772a97e",
   "metadata": {},
   "outputs": [
    {
     "data": {
      "image/png": "[encoded data removed]",
      "text/plain": [
       "<Figure size 576x360 with 1 Axes>"
      ]
     },
     "metadata": {
      "needs_background": "light"
     },
     "output_type": "display_data"
    }
   ],
   "source": [
    "import matplotlib.pyplot as plt\n",
    "import matplotlib.patches as mpatches\n",
    "\n",
    "dates = X[:,2]\n",
    "prices = X[:,1]\n",
    "\n",
    "plt.figure(figsize=(8,5))\n",
    "plt.scatter(dates, prices, color='green')\n",
    "\n",
    "plt.scatter(q[0],q[1],color='black')\n",
    "plt.annotate('q',(q[0]+0.001,q[1]))\n",
    "\n",
    "plt.title(\"H&M\")\n",
    "plt.xlabel(\"Prices\")\n",
    "plt.ylabel(\"Dates\")\n",
    "plt.grid()\n",
    "#plt.legend(handles=[red_patch, blue_patch],loc=4)\n",
    "for i, txt in enumerate(names):\n",
    "    plt.annotate(txt, (dates[i]+0.001, prices[i]))"
   ]
  },
  {
   "cell_type": "code",
   "execution_count": 89,
   "id": "c431737e",
   "metadata": {},
   "outputs": [
    {
     "data": {
      "text/plain": [
       "array([[20200918, 0.0403389830508474],\n",
       "       [20200921, 0.0116779661016949],\n",
       "       [20200917, 0.0050677966101694],\n",
       "       [20200917, 0.0338813559322033],\n",
       "       [20200922, 0.0338813559322033],\n",
       "       [20200915, 0.0508305084745762],\n",
       "       [20200918, 0.0300508474576271],\n",
       "       [20200920, 0.0677796610169491],\n",
       "       [20200915, 0.0101525423728813],\n",
       "       [20200921, 0.0135423728813559]], dtype=object)"
      ]
     },
     "execution_count": 89,
     "metadata": {},
     "output_type": "execute_result"
    }
   ],
   "source": [
    "X[:,1:]"
   ]
  },
  {
   "cell_type": "code",
   "execution_count": 148,
   "id": "bc434fa0",
   "metadata": {},
   "outputs": [],
   "source": [
    "#Data Normalisation\n",
    "##we will use N(0,1) rescale with zero mean and unit variance\n",
    "scaler = preprocessing.StandardScaler().fit(X[:,1:])  #need a handle on the scaler to apply to training and test data\n",
    "X_scaled = scaler.transform(X[:,1:])\n",
    "\n",
    "q1 = [20200919,0.03] #had to swap\n",
    "q_scaled = scaler.transform([q1])"
   ]
  },
  {
   "cell_type": "code",
   "execution_count": 149,
   "id": "28ae5a01",
   "metadata": {},
   "outputs": [
    {
     "data": {
      "text/plain": [
       "array([[-0.16843038,  0.55813866],\n",
       "       [ 1.0947975 , -0.94834573],\n",
       "       [-0.58950634, -1.29579038],\n",
       "       [-0.58950634,  0.21871196],\n",
       "       [ 1.51587346,  0.21871196],\n",
       "       [-1.43165827,  1.10959568],\n",
       "       [-0.16843038,  0.01737223],\n",
       "       [ 0.67372154,  2.00047941],\n",
       "       [-1.43165827, -1.02852526],\n",
       "       [ 1.0947975 , -0.85034852]])"
      ]
     },
     "execution_count": 149,
     "metadata": {},
     "output_type": "execute_result"
    }
   ],
   "source": [
    "X_scaled"
   ]
  },
  {
   "cell_type": "code",
   "execution_count": 150,
   "id": "76706097",
   "metadata": {},
   "outputs": [
    {
     "data": {
      "text/plain": [
       "array([[0.25264558, 0.01469958]])"
      ]
     },
     "execution_count": 150,
     "metadata": {},
     "output_type": "execute_result"
    }
   ],
   "source": [
    "q_scaled"
   ]
  },
  {
   "cell_type": "code",
   "execution_count": 151,
   "id": "06dec6fe",
   "metadata": {},
   "outputs": [
    {
     "data": {
      "image/png": "[encoded data removed]",
      "text/plain": [
       "<Figure size 576x360 with 1 Axes>"
      ]
     },
     "metadata": {
      "needs_background": "light"
     },
     "output_type": "display_data"
    }
   ],
   "source": [
    "dates = X_scaled[:,1]\n",
    "prices = X_scaled[:,0]\n",
    "\n",
    "q_dates = q_scaled[:,1]\n",
    "q_prices = q_scaled[:,0]\n",
    "\n",
    "plt.figure(figsize=(8,5))\n",
    "plt.scatter(dates, prices, color='green')\n",
    "\n",
    "plt.scatter(q_dates,q_prices,color='black')\n",
    "plt.annotate('q',(q_dates+0.001,q_prices))\n",
    "\n",
    "plt.title(\"H&M\")\n",
    "plt.xlabel(\"Prices\")\n",
    "plt.ylabel(\"Dates\")\n",
    "plt.grid()\n",
    "#plt.legend(handles=[red_patch, blue_patch],loc=4)\n",
    "for i, txt in enumerate(names):\n",
    "    plt.annotate(txt, (dates[i]+0.001, prices[i]))"
   ]
  },
  {
   "cell_type": "code",
   "execution_count": 152,
   "id": "c5f841c4",
   "metadata": {},
   "outputs": [
    {
     "data": {
      "text/plain": [
       "NearestNeighbors(n_neighbors=2, radius=0.4)"
      ]
     },
     "execution_count": 152,
     "metadata": {},
     "output_type": "execute_result"
    }
   ],
   "source": [
    "cus_neigh = NearestNeighbors(n_neighbors=2, radius=0.4)\n",
    "cus_neigh.fit(X_scaled)"
   ]
  },
  {
   "cell_type": "code",
   "execution_count": 237,
   "id": "4a04b45b",
   "metadata": {},
   "outputs": [
    {
     "data": {
      "text/plain": [
       "array([2.02009180e+07, 4.03389831e-02])"
      ]
     },
     "execution_count": 237,
     "metadata": {},
     "output_type": "execute_result"
    }
   ],
   "source": [
    "# Find x nearest neighbours for 31644305\n",
    "cus = transaction_subsample.loc[[31644305]]\n",
    "q_cus = cus.iloc[0][1:3]\n",
    "q_cus = np.array(q_cus, dtype=float)\n",
    "q_cus#needs to be normalised!"
   ]
  },
  {
   "cell_type": "code",
   "execution_count": 246,
   "id": "2789b45e",
   "metadata": {},
   "outputs": [
    {
     "data": {
      "text/plain": [
       "(array([[20200916.48412654, 20200916.90520252]]), array([[4, 9]], dtype=int64))"
      ]
     },
     "execution_count": 246,
     "metadata": {},
     "output_type": "execute_result"
    }
   ],
   "source": [
    "#neighbours returned where k=2\n",
    "cus_neigh.kneighbors([q_cus], 2, return_distance=True)"
   ]
  },
  {
   "cell_type": "code",
   "execution_count": 247,
   "id": "b0d37063",
   "metadata": {},
   "outputs": [
    {
     "name": "stdout",
     "output_type": "stream",
     "text": [
      "31787169\n",
      "31724367\n",
      "31734769\n"
     ]
    }
   ],
   "source": [
    "#get neighbours' names where k=3\n",
    "q3n = cus_neigh.kneighbors([q_cus], 3)[1][0]\n",
    "# q3n contains the 'index' of the nearest neighbours\n",
    "for n in q3n:\n",
    "    print(names[n])"
   ]
  },
  {
   "cell_type": "code",
   "execution_count": 250,
   "id": "433dc029",
   "metadata": {},
   "outputs": [
    {
     "data": {
      "text/html": [
       "<div>\n",
       "<style scoped>\n",
       "    .dataframe tbody tr th:only-of-type {\n",
       "        vertical-align: middle;\n",
       "    }\n",
       "\n",
       "    .dataframe tbody tr th {\n",
       "        vertical-align: top;\n",
       "    }\n",
       "\n",
       "    .dataframe thead th {\n",
       "        text-align: right;\n",
       "    }\n",
       "</style>\n",
       "<table border=\"1\" class=\"dataframe\">\n",
       "  <thead>\n",
       "    <tr style=\"text-align: right;\">\n",
       "      <th></th>\n",
       "      <th>customer_id</th>\n",
       "      <th>t_dat</th>\n",
       "      <th>price</th>\n",
       "      <th>article_id</th>\n",
       "    </tr>\n",
       "  </thead>\n",
       "  <tbody>\n",
       "    <tr>\n",
       "      <th>31787169</th>\n",
       "      <td>f65007f094ad989712b00933b8312a3423d756f281bfd9...</td>\n",
       "      <td>20200922</td>\n",
       "      <td>0.033881</td>\n",
       "      <td>562245102</td>\n",
       "    </tr>\n",
       "  </tbody>\n",
       "</table>\n",
       "</div>"
      ],
      "text/plain": [
       "                                                customer_id     t_dat  \\\n",
       "31787169  f65007f094ad989712b00933b8312a3423d756f281bfd9...  20200922   \n",
       "\n",
       "             price article_id  \n",
       "31787169  0.033881  562245102  "
      ]
     },
     "execution_count": 250,
     "metadata": {},
     "output_type": "execute_result"
    }
   ],
   "source": [
    "#who is first neighbour\n",
    "q_cus_neigh = transactions_train_df.loc[[31787169]]\n",
    "q_cus_neigh"
   ]
  },
  {
   "cell_type": "code",
   "execution_count": 281,
   "id": "c5a21e48",
   "metadata": {},
   "outputs": [
    {
     "data": {
      "text/plain": [
       "['562245102', '806388001', '798902002']"
      ]
     },
     "execution_count": 281,
     "metadata": {},
     "output_type": "execute_result"
    }
   ],
   "source": [
    "#loop through each neighbour and get products they bought\n",
    "recommendations = []\n",
    "for n in q3n:\n",
    "    df = transactions_train_df.loc[[names[n]]]\n",
    "    recommendations.append(df.iloc[0]['article_id'])\n",
    "recommendations"
   ]
  },
  {
   "cell_type": "code",
   "execution_count": 276,
   "id": "824c0306",
   "metadata": {},
   "outputs": [],
   "source": [
    "articles_df = pd.read_csv(\"data/articles.csv\")"
   ]
  },
  {
   "cell_type": "code",
   "execution_count": 285,
   "id": "a509d9be",
   "metadata": {},
   "outputs": [
    {
     "name": "stdout",
     "output_type": "stream",
     "text": [
      " \n",
      "14275    5-pocket jeans in washed, superstretch denim w...\n",
      "Name: detail_desc, dtype: object\n",
      " \n",
      "81824    Wide T-shirt in soft cotton jersey with a ribb...\n",
      "Name: detail_desc, dtype: object\n",
      " \n",
      "79732    Small elasticated scrunchies in various designs.\n",
      "Name: detail_desc, dtype: object\n"
     ]
    }
   ],
   "source": [
    "for p in recommendations:\n",
    "    p = int(p)\n",
    "    item = articles_df.loc[articles_df['article_id'].eq(p), 'detail_desc']\n",
    "    print(\" \")\n",
    "    print(item)"
   ]
  },
  {
   "cell_type": "code",
   "execution_count": null,
   "id": "441c58ec",
   "metadata": {},
   "outputs": [],
   "source": []
  }
 ],
 "metadata": {
  "kernelspec": {
   "display_name": "Python 3 (ipykernel)",
   "language": "python",
   "name": "python3"
  },
  "language_info": {
   "codemirror_mode": {
    "name": "ipython",
    "version": 3
   },
   "file_extension": ".py",
   "mimetype": "text/x-python",
   "name": "python",
   "nbconvert_exporter": "python",
   "pygments_lexer": "ipython3",
   "version": "3.8.10"
  }
 },
 "nbformat": 4,
 "nbformat_minor": 5
}
