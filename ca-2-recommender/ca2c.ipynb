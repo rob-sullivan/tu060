{
 "cells": [
  {
   "cell_type": "code",
   "execution_count": 1,
   "id": "1a26fd04",
   "metadata": {},
   "outputs": [],
   "source": [
    "#used for sampling\n",
    "import random \n",
    "\n",
    "#data handling\n",
    "import numpy as np\n",
    "import pandas as pd\n",
    "\n",
    "#data visualisation\n",
    "import matplotlib.pyplot as plt\n",
    "\n",
    "#handling missing values where not dropped\n",
    "from sklearn.impute import SimpleImputer\n",
    "\n",
    "# creating training and test datasets for ML\n",
    "from sklearn.model_selection import train_test_split\n",
    "\n",
    "# for evaluating our models\n",
    "from sklearn.metrics import mean_squared_error"
   ]
  },
  {
   "cell_type": "markdown",
   "id": "65e6288f",
   "metadata": {},
   "source": [
    "# Transaction Dataset"
   ]
  },
  {
   "cell_type": "markdown",
   "id": "82fee192",
   "metadata": {},
   "source": [
    "## Import Dataset"
   ]
  },
  {
   "cell_type": "markdown",
   "id": "52702978",
   "metadata": {},
   "source": [
    "The transactions dataset is over 3gb in size. This will be slow and unweidly if we imported it all. Instead we will sample it and import only some of the data"
   ]
  },
  {
   "cell_type": "code",
   "execution_count": 2,
   "id": "ecc1e17c",
   "metadata": {},
   "outputs": [],
   "source": [
    "transactions_train_df = pd.read_csv(\"data/transactions_train.csv\")"
   ]
  },
  {
   "cell_type": "markdown",
   "id": "0b4af1b1",
   "metadata": {},
   "source": [
    "## Check for Missing Values"
   ]
  },
  {
   "cell_type": "code",
   "execution_count": 3,
   "id": "3660399c",
   "metadata": {},
   "outputs": [],
   "source": [
    "#check for missing values\n",
    "def check_missing(x):\n",
    "    # ref: https://stackoverflow.com/questions/59694988/python-pandas-dataframe-find-missing-values\n",
    "    try:\n",
    "        missing = x.isnull().sum()\n",
    "        print(x.shape)\n",
    "        print(missing)\n",
    "    except:\n",
    "        print(\"An issue occured. Check dataframe.\")"
   ]
  },
  {
   "cell_type": "code",
   "execution_count": 4,
   "id": "12e51632",
   "metadata": {},
   "outputs": [
    {
     "name": "stdout",
     "output_type": "stream",
     "text": [
      "(31788324, 5)\n",
      "t_dat               0\n",
      "customer_id         0\n",
      "article_id          0\n",
      "price               0\n",
      "sales_channel_id    0\n",
      "dtype: int64\n"
     ]
    }
   ],
   "source": [
    "check_missing(transactions_train_df)"
   ]
  },
  {
   "cell_type": "markdown",
   "id": "fda27455",
   "metadata": {},
   "source": [
    "## Check result"
   ]
  },
  {
   "cell_type": "code",
   "execution_count": 5,
   "id": "46068f24",
   "metadata": {},
   "outputs": [
    {
     "data": {
      "text/html": [
       "<div>\n",
       "<style scoped>\n",
       "    .dataframe tbody tr th:only-of-type {\n",
       "        vertical-align: middle;\n",
       "    }\n",
       "\n",
       "    .dataframe tbody tr th {\n",
       "        vertical-align: top;\n",
       "    }\n",
       "\n",
       "    .dataframe thead th {\n",
       "        text-align: right;\n",
       "    }\n",
       "</style>\n",
       "<table border=\"1\" class=\"dataframe\">\n",
       "  <thead>\n",
       "    <tr style=\"text-align: right;\">\n",
       "      <th></th>\n",
       "      <th>t_dat</th>\n",
       "      <th>customer_id</th>\n",
       "      <th>article_id</th>\n",
       "      <th>price</th>\n",
       "      <th>sales_channel_id</th>\n",
       "    </tr>\n",
       "  </thead>\n",
       "  <tbody>\n",
       "    <tr>\n",
       "      <th>0</th>\n",
       "      <td>2018-09-20</td>\n",
       "      <td>000058a12d5b43e67d225668fa1f8d618c13dc232df0ca...</td>\n",
       "      <td>663713001</td>\n",
       "      <td>0.050831</td>\n",
       "      <td>2</td>\n",
       "    </tr>\n",
       "    <tr>\n",
       "      <th>1</th>\n",
       "      <td>2018-09-20</td>\n",
       "      <td>000058a12d5b43e67d225668fa1f8d618c13dc232df0ca...</td>\n",
       "      <td>541518023</td>\n",
       "      <td>0.030492</td>\n",
       "      <td>2</td>\n",
       "    </tr>\n",
       "    <tr>\n",
       "      <th>2</th>\n",
       "      <td>2018-09-20</td>\n",
       "      <td>00007d2de826758b65a93dd24ce629ed66842531df6699...</td>\n",
       "      <td>505221004</td>\n",
       "      <td>0.015237</td>\n",
       "      <td>2</td>\n",
       "    </tr>\n",
       "    <tr>\n",
       "      <th>3</th>\n",
       "      <td>2018-09-20</td>\n",
       "      <td>00007d2de826758b65a93dd24ce629ed66842531df6699...</td>\n",
       "      <td>685687003</td>\n",
       "      <td>0.016932</td>\n",
       "      <td>2</td>\n",
       "    </tr>\n",
       "    <tr>\n",
       "      <th>4</th>\n",
       "      <td>2018-09-20</td>\n",
       "      <td>00007d2de826758b65a93dd24ce629ed66842531df6699...</td>\n",
       "      <td>685687004</td>\n",
       "      <td>0.016932</td>\n",
       "      <td>2</td>\n",
       "    </tr>\n",
       "  </tbody>\n",
       "</table>\n",
       "</div>"
      ],
      "text/plain": [
       "        t_dat                                        customer_id  article_id  \\\n",
       "0  2018-09-20  000058a12d5b43e67d225668fa1f8d618c13dc232df0ca...   663713001   \n",
       "1  2018-09-20  000058a12d5b43e67d225668fa1f8d618c13dc232df0ca...   541518023   \n",
       "2  2018-09-20  00007d2de826758b65a93dd24ce629ed66842531df6699...   505221004   \n",
       "3  2018-09-20  00007d2de826758b65a93dd24ce629ed66842531df6699...   685687003   \n",
       "4  2018-09-20  00007d2de826758b65a93dd24ce629ed66842531df6699...   685687004   \n",
       "\n",
       "      price  sales_channel_id  \n",
       "0  0.050831                 2  \n",
       "1  0.030492                 2  \n",
       "2  0.015237                 2  \n",
       "3  0.016932                 2  \n",
       "4  0.016932                 2  "
      ]
     },
     "execution_count": 5,
     "metadata": {},
     "output_type": "execute_result"
    }
   ],
   "source": [
    "transactions_train_df.head()"
   ]
  },
  {
   "cell_type": "code",
   "execution_count": 6,
   "id": "61350a06",
   "metadata": {},
   "outputs": [],
   "source": [
    "transactions_train_df['customer_id'] = transactions_train_df['customer_id'].values.astype(str)"
   ]
  },
  {
   "cell_type": "code",
   "execution_count": 7,
   "id": "c3d41eda",
   "metadata": {},
   "outputs": [],
   "source": [
    "transactions_train_df['article_id'] = transactions_train_df['article_id'].values.astype(str)"
   ]
  },
  {
   "cell_type": "code",
   "execution_count": 8,
   "id": "ebbe096a",
   "metadata": {},
   "outputs": [
    {
     "name": "stdout",
     "output_type": "stream",
     "text": [
      "<class 'pandas.core.frame.DataFrame'>\n",
      "RangeIndex: 31788324 entries, 0 to 31788323\n",
      "Data columns (total 5 columns):\n",
      " #   Column            Dtype  \n",
      "---  ------            -----  \n",
      " 0   t_dat             object \n",
      " 1   customer_id       object \n",
      " 2   article_id        object \n",
      " 3   price             float64\n",
      " 4   sales_channel_id  int64  \n",
      "dtypes: float64(1), int64(1), object(3)\n",
      "memory usage: 1.2+ GB\n"
     ]
    }
   ],
   "source": [
    "transactions_train_df.info()"
   ]
  },
  {
   "cell_type": "code",
   "execution_count": 9,
   "id": "f1632c3a",
   "metadata": {},
   "outputs": [
    {
     "data": {
      "text/html": [
       "<div>\n",
       "<style scoped>\n",
       "    .dataframe tbody tr th:only-of-type {\n",
       "        vertical-align: middle;\n",
       "    }\n",
       "\n",
       "    .dataframe tbody tr th {\n",
       "        vertical-align: top;\n",
       "    }\n",
       "\n",
       "    .dataframe thead th {\n",
       "        text-align: right;\n",
       "    }\n",
       "</style>\n",
       "<table border=\"1\" class=\"dataframe\">\n",
       "  <thead>\n",
       "    <tr style=\"text-align: right;\">\n",
       "      <th></th>\n",
       "      <th>price</th>\n",
       "      <th>sales_channel_id</th>\n",
       "    </tr>\n",
       "  </thead>\n",
       "  <tbody>\n",
       "    <tr>\n",
       "      <th>count</th>\n",
       "      <td>3.178832e+07</td>\n",
       "      <td>3.178832e+07</td>\n",
       "    </tr>\n",
       "    <tr>\n",
       "      <th>mean</th>\n",
       "      <td>2.782927e-02</td>\n",
       "      <td>1.704028e+00</td>\n",
       "    </tr>\n",
       "    <tr>\n",
       "      <th>std</th>\n",
       "      <td>1.918113e-02</td>\n",
       "      <td>4.564786e-01</td>\n",
       "    </tr>\n",
       "    <tr>\n",
       "      <th>min</th>\n",
       "      <td>1.694915e-05</td>\n",
       "      <td>1.000000e+00</td>\n",
       "    </tr>\n",
       "    <tr>\n",
       "      <th>25%</th>\n",
       "      <td>1.581356e-02</td>\n",
       "      <td>1.000000e+00</td>\n",
       "    </tr>\n",
       "    <tr>\n",
       "      <th>50%</th>\n",
       "      <td>2.540678e-02</td>\n",
       "      <td>2.000000e+00</td>\n",
       "    </tr>\n",
       "    <tr>\n",
       "      <th>75%</th>\n",
       "      <td>3.388136e-02</td>\n",
       "      <td>2.000000e+00</td>\n",
       "    </tr>\n",
       "    <tr>\n",
       "      <th>max</th>\n",
       "      <td>5.915254e-01</td>\n",
       "      <td>2.000000e+00</td>\n",
       "    </tr>\n",
       "  </tbody>\n",
       "</table>\n",
       "</div>"
      ],
      "text/plain": [
       "              price  sales_channel_id\n",
       "count  3.178832e+07      3.178832e+07\n",
       "mean   2.782927e-02      1.704028e+00\n",
       "std    1.918113e-02      4.564786e-01\n",
       "min    1.694915e-05      1.000000e+00\n",
       "25%    1.581356e-02      1.000000e+00\n",
       "50%    2.540678e-02      2.000000e+00\n",
       "75%    3.388136e-02      2.000000e+00\n",
       "max    5.915254e-01      2.000000e+00"
      ]
     },
     "execution_count": 9,
     "metadata": {},
     "output_type": "execute_result"
    }
   ],
   "source": [
    "transactions_train_df.describe()"
   ]
  },
  {
   "cell_type": "markdown",
   "id": "702696d8",
   "metadata": {},
   "source": [
    "# Articles Dataset"
   ]
  },
  {
   "cell_type": "markdown",
   "id": "fb160245",
   "metadata": {},
   "source": [
    "## Import Dataset"
   ]
  },
  {
   "cell_type": "code",
   "execution_count": 10,
   "id": "93f06c92",
   "metadata": {},
   "outputs": [],
   "source": [
    "articles_df = pd.read_csv(\"data/articles.csv\")"
   ]
  },
  {
   "cell_type": "markdown",
   "id": "98f32363",
   "metadata": {},
   "source": [
    "## Check for Missing Values"
   ]
  },
  {
   "cell_type": "code",
   "execution_count": 11,
   "id": "9984d041",
   "metadata": {},
   "outputs": [
    {
     "name": "stdout",
     "output_type": "stream",
     "text": [
      "(105542, 25)\n",
      "article_id                        0\n",
      "product_code                      0\n",
      "prod_name                         0\n",
      "product_type_no                   0\n",
      "product_type_name                 0\n",
      "product_group_name                0\n",
      "graphical_appearance_no           0\n",
      "graphical_appearance_name         0\n",
      "colour_group_code                 0\n",
      "colour_group_name                 0\n",
      "perceived_colour_value_id         0\n",
      "perceived_colour_value_name       0\n",
      "perceived_colour_master_id        0\n",
      "perceived_colour_master_name      0\n",
      "department_no                     0\n",
      "department_name                   0\n",
      "index_code                        0\n",
      "index_name                        0\n",
      "index_group_no                    0\n",
      "index_group_name                  0\n",
      "section_no                        0\n",
      "section_name                      0\n",
      "garment_group_no                  0\n",
      "garment_group_name                0\n",
      "detail_desc                     416\n",
      "dtype: int64\n"
     ]
    }
   ],
   "source": [
    "check_missing(articles_df)"
   ]
  },
  {
   "cell_type": "code",
   "execution_count": 12,
   "id": "21034184",
   "metadata": {
    "scrolled": false
   },
   "outputs": [
    {
     "data": {
      "text/html": [
       "<div>\n",
       "<style scoped>\n",
       "    .dataframe tbody tr th:only-of-type {\n",
       "        vertical-align: middle;\n",
       "    }\n",
       "\n",
       "    .dataframe tbody tr th {\n",
       "        vertical-align: top;\n",
       "    }\n",
       "\n",
       "    .dataframe thead th {\n",
       "        text-align: right;\n",
       "    }\n",
       "</style>\n",
       "<table border=\"1\" class=\"dataframe\">\n",
       "  <thead>\n",
       "    <tr style=\"text-align: right;\">\n",
       "      <th></th>\n",
       "      <th>article_id</th>\n",
       "      <th>product_code</th>\n",
       "      <th>prod_name</th>\n",
       "      <th>product_type_no</th>\n",
       "      <th>product_type_name</th>\n",
       "      <th>product_group_name</th>\n",
       "      <th>graphical_appearance_no</th>\n",
       "      <th>graphical_appearance_name</th>\n",
       "      <th>colour_group_code</th>\n",
       "      <th>colour_group_name</th>\n",
       "      <th>...</th>\n",
       "      <th>department_name</th>\n",
       "      <th>index_code</th>\n",
       "      <th>index_name</th>\n",
       "      <th>index_group_no</th>\n",
       "      <th>index_group_name</th>\n",
       "      <th>section_no</th>\n",
       "      <th>section_name</th>\n",
       "      <th>garment_group_no</th>\n",
       "      <th>garment_group_name</th>\n",
       "      <th>detail_desc</th>\n",
       "    </tr>\n",
       "  </thead>\n",
       "  <tbody>\n",
       "    <tr>\n",
       "      <th>105537</th>\n",
       "      <td>953450001</td>\n",
       "      <td>953450</td>\n",
       "      <td>5pk regular Placement1</td>\n",
       "      <td>302</td>\n",
       "      <td>Socks</td>\n",
       "      <td>Socks &amp; Tights</td>\n",
       "      <td>1010014</td>\n",
       "      <td>Placement print</td>\n",
       "      <td>9</td>\n",
       "      <td>Black</td>\n",
       "      <td>...</td>\n",
       "      <td>Socks Bin</td>\n",
       "      <td>F</td>\n",
       "      <td>Menswear</td>\n",
       "      <td>3</td>\n",
       "      <td>Menswear</td>\n",
       "      <td>26</td>\n",
       "      <td>Men Underwear</td>\n",
       "      <td>1021</td>\n",
       "      <td>Socks and Tights</td>\n",
       "      <td>Socks in a fine-knit cotton blend with a small...</td>\n",
       "    </tr>\n",
       "    <tr>\n",
       "      <th>105538</th>\n",
       "      <td>953763001</td>\n",
       "      <td>953763</td>\n",
       "      <td>SPORT Malaga tank</td>\n",
       "      <td>253</td>\n",
       "      <td>Vest top</td>\n",
       "      <td>Garment Upper body</td>\n",
       "      <td>1010016</td>\n",
       "      <td>Solid</td>\n",
       "      <td>9</td>\n",
       "      <td>Black</td>\n",
       "      <td>...</td>\n",
       "      <td>Jersey</td>\n",
       "      <td>A</td>\n",
       "      <td>Ladieswear</td>\n",
       "      <td>1</td>\n",
       "      <td>Ladieswear</td>\n",
       "      <td>2</td>\n",
       "      <td>H&amp;M+</td>\n",
       "      <td>1005</td>\n",
       "      <td>Jersey Fancy</td>\n",
       "      <td>Loose-fitting sports vest top in ribbed fast-d...</td>\n",
       "    </tr>\n",
       "    <tr>\n",
       "      <th>105539</th>\n",
       "      <td>956217002</td>\n",
       "      <td>956217</td>\n",
       "      <td>Cartwheel dress</td>\n",
       "      <td>265</td>\n",
       "      <td>Dress</td>\n",
       "      <td>Garment Full body</td>\n",
       "      <td>1010016</td>\n",
       "      <td>Solid</td>\n",
       "      <td>9</td>\n",
       "      <td>Black</td>\n",
       "      <td>...</td>\n",
       "      <td>Jersey</td>\n",
       "      <td>A</td>\n",
       "      <td>Ladieswear</td>\n",
       "      <td>1</td>\n",
       "      <td>Ladieswear</td>\n",
       "      <td>18</td>\n",
       "      <td>Womens Trend</td>\n",
       "      <td>1005</td>\n",
       "      <td>Jersey Fancy</td>\n",
       "      <td>Short, A-line dress in jersey with a round nec...</td>\n",
       "    </tr>\n",
       "    <tr>\n",
       "      <th>105540</th>\n",
       "      <td>957375001</td>\n",
       "      <td>957375</td>\n",
       "      <td>CLAIRE HAIR CLAW</td>\n",
       "      <td>72</td>\n",
       "      <td>Hair clip</td>\n",
       "      <td>Accessories</td>\n",
       "      <td>1010016</td>\n",
       "      <td>Solid</td>\n",
       "      <td>9</td>\n",
       "      <td>Black</td>\n",
       "      <td>...</td>\n",
       "      <td>Small Accessories</td>\n",
       "      <td>D</td>\n",
       "      <td>Divided</td>\n",
       "      <td>2</td>\n",
       "      <td>Divided</td>\n",
       "      <td>52</td>\n",
       "      <td>Divided Accessories</td>\n",
       "      <td>1019</td>\n",
       "      <td>Accessories</td>\n",
       "      <td>Large plastic hair claw.</td>\n",
       "    </tr>\n",
       "    <tr>\n",
       "      <th>105541</th>\n",
       "      <td>959461001</td>\n",
       "      <td>959461</td>\n",
       "      <td>Lounge dress</td>\n",
       "      <td>265</td>\n",
       "      <td>Dress</td>\n",
       "      <td>Garment Full body</td>\n",
       "      <td>1010016</td>\n",
       "      <td>Solid</td>\n",
       "      <td>11</td>\n",
       "      <td>Off White</td>\n",
       "      <td>...</td>\n",
       "      <td>Jersey</td>\n",
       "      <td>A</td>\n",
       "      <td>Ladieswear</td>\n",
       "      <td>1</td>\n",
       "      <td>Ladieswear</td>\n",
       "      <td>18</td>\n",
       "      <td>Womens Trend</td>\n",
       "      <td>1005</td>\n",
       "      <td>Jersey Fancy</td>\n",
       "      <td>Calf-length dress in ribbed jersey made from a...</td>\n",
       "    </tr>\n",
       "  </tbody>\n",
       "</table>\n",
       "<p>5 rows × 25 columns</p>\n",
       "</div>"
      ],
      "text/plain": [
       "        article_id  product_code               prod_name  product_type_no  \\\n",
       "105537   953450001        953450  5pk regular Placement1              302   \n",
       "105538   953763001        953763       SPORT Malaga tank              253   \n",
       "105539   956217002        956217         Cartwheel dress              265   \n",
       "105540   957375001        957375        CLAIRE HAIR CLAW               72   \n",
       "105541   959461001        959461            Lounge dress              265   \n",
       "\n",
       "       product_type_name  product_group_name  graphical_appearance_no  \\\n",
       "105537             Socks      Socks & Tights                  1010014   \n",
       "105538          Vest top  Garment Upper body                  1010016   \n",
       "105539             Dress   Garment Full body                  1010016   \n",
       "105540         Hair clip         Accessories                  1010016   \n",
       "105541             Dress   Garment Full body                  1010016   \n",
       "\n",
       "       graphical_appearance_name  colour_group_code colour_group_name  ...  \\\n",
       "105537           Placement print                  9             Black  ...   \n",
       "105538                     Solid                  9             Black  ...   \n",
       "105539                     Solid                  9             Black  ...   \n",
       "105540                     Solid                  9             Black  ...   \n",
       "105541                     Solid                 11         Off White  ...   \n",
       "\n",
       "          department_name index_code  index_name index_group_no  \\\n",
       "105537          Socks Bin          F    Menswear              3   \n",
       "105538             Jersey          A  Ladieswear              1   \n",
       "105539             Jersey          A  Ladieswear              1   \n",
       "105540  Small Accessories          D     Divided              2   \n",
       "105541             Jersey          A  Ladieswear              1   \n",
       "\n",
       "        index_group_name section_no         section_name garment_group_no  \\\n",
       "105537          Menswear         26        Men Underwear             1021   \n",
       "105538        Ladieswear          2                 H&M+             1005   \n",
       "105539        Ladieswear         18         Womens Trend             1005   \n",
       "105540           Divided         52  Divided Accessories             1019   \n",
       "105541        Ladieswear         18         Womens Trend             1005   \n",
       "\n",
       "        garment_group_name                                        detail_desc  \n",
       "105537    Socks and Tights  Socks in a fine-knit cotton blend with a small...  \n",
       "105538        Jersey Fancy  Loose-fitting sports vest top in ribbed fast-d...  \n",
       "105539        Jersey Fancy  Short, A-line dress in jersey with a round nec...  \n",
       "105540         Accessories                           Large plastic hair claw.  \n",
       "105541        Jersey Fancy  Calf-length dress in ribbed jersey made from a...  \n",
       "\n",
       "[5 rows x 25 columns]"
      ]
     },
     "execution_count": 12,
     "metadata": {},
     "output_type": "execute_result"
    }
   ],
   "source": [
    "articles_df.tail()"
   ]
  },
  {
   "cell_type": "markdown",
   "id": "31a924a2",
   "metadata": {},
   "source": [
    "# Customer Dataset"
   ]
  },
  {
   "cell_type": "markdown",
   "id": "f2e8d20b",
   "metadata": {},
   "source": [
    "## Import Dataset"
   ]
  },
  {
   "cell_type": "code",
   "execution_count": 13,
   "id": "0680207b",
   "metadata": {},
   "outputs": [],
   "source": [
    "customers_df = pd.read_csv(\"data/customers.csv\")"
   ]
  },
  {
   "cell_type": "markdown",
   "id": "8efd51b9",
   "metadata": {},
   "source": [
    "## Check for Missing Values"
   ]
  },
  {
   "cell_type": "code",
   "execution_count": 14,
   "id": "669fdac6",
   "metadata": {},
   "outputs": [
    {
     "name": "stdout",
     "output_type": "stream",
     "text": [
      "(1371980, 7)\n",
      "customer_id                    0\n",
      "FN                        895050\n",
      "Active                    907576\n",
      "club_member_status          6062\n",
      "fashion_news_frequency     16009\n",
      "age                        15861\n",
      "postal_code                    0\n",
      "dtype: int64\n"
     ]
    }
   ],
   "source": [
    "check_missing(customers_df)"
   ]
  },
  {
   "cell_type": "markdown",
   "id": "21ccf259",
   "metadata": {},
   "source": [
    "## Fix Missing Values"
   ]
  },
  {
   "cell_type": "code",
   "execution_count": 15,
   "id": "47a8311c",
   "metadata": {},
   "outputs": [
    {
     "name": "stdout",
     "output_type": "stream",
     "text": [
      "(1371980, 7)\n",
      "customer_id               0\n",
      "fn                        0\n",
      "active                    0\n",
      "club_member_status        0\n",
      "fashion_news_frequency    0\n",
      "age                       0\n",
      "postal_code               0\n",
      "dtype: int64\n"
     ]
    }
   ],
   "source": [
    "customers_df['FN'] = customers_df['FN'].fillna(0)\n",
    "customers_df['Active'] = customers_df['Active'].fillna(0)\n",
    "\n",
    "club_member_status = customers_df.iloc[:, 3:-3].values\n",
    "fashion_news_frequency = customers_df.iloc[:, 4:-2].values\n",
    "age = customers_df.iloc[:, 5:-1].values\n",
    "\n",
    "#ref: https://scikit-learn.org/stable/modules/generated/sklearn.impute.SimpleImputer.html\n",
    "imputer_med = SimpleImputer(missing_values=np.nan, strategy='median')\n",
    "imputer_mf = SimpleImputer(missing_values=np.nan, strategy='most_frequent')\n",
    "\n",
    "#we replace missing values with the most frequent\n",
    "imputer_mf.fit(club_member_status)\n",
    "club_member_status = imputer_mf.transform(club_member_status)\n",
    "\n",
    "imputer_mf.fit(fashion_news_frequency)\n",
    "fashion_news_frequency = imputer_mf.transform(fashion_news_frequency)\n",
    "\n",
    "#we replace any missing age values with the median age\n",
    "imputer_med.fit(age)\n",
    "age = imputer_med.transform(age)\n",
    "\n",
    "#now add corrected columns back into our main customer dataframe\n",
    "customers_df.iloc[:, 3:-3] = club_member_status\n",
    "customers_df.iloc[:, 4:-2] = fashion_news_frequency\n",
    "customers_df.iloc[:, 5:-1] = age\n",
    "\n",
    "#replace minus sign in text and check result of dataset after imputing missing values\n",
    "customers_df.columns = customers_df.columns.str.replace('-', '')\n",
    "\n",
    "#lower case columns\n",
    "customers_df.columns = map(str.lower, customers_df.columns)\n",
    "\n",
    "#check if missing values are still an issue\n",
    "missing = customers_df.isnull().sum() # ref: https://stackoverflow.com/questions/59694988/python-pandas-dataframe-find-missing-values\n",
    "print(customers_df.shape)\n",
    "print(missing)"
   ]
  },
  {
   "cell_type": "code",
   "execution_count": 16,
   "id": "4772902f",
   "metadata": {},
   "outputs": [
    {
     "data": {
      "text/html": [
       "<div>\n",
       "<style scoped>\n",
       "    .dataframe tbody tr th:only-of-type {\n",
       "        vertical-align: middle;\n",
       "    }\n",
       "\n",
       "    .dataframe tbody tr th {\n",
       "        vertical-align: top;\n",
       "    }\n",
       "\n",
       "    .dataframe thead th {\n",
       "        text-align: right;\n",
       "    }\n",
       "</style>\n",
       "<table border=\"1\" class=\"dataframe\">\n",
       "  <thead>\n",
       "    <tr style=\"text-align: right;\">\n",
       "      <th></th>\n",
       "      <th>customer_id</th>\n",
       "      <th>fn</th>\n",
       "      <th>active</th>\n",
       "      <th>club_member_status</th>\n",
       "      <th>fashion_news_frequency</th>\n",
       "      <th>age</th>\n",
       "      <th>postal_code</th>\n",
       "    </tr>\n",
       "  </thead>\n",
       "  <tbody>\n",
       "    <tr>\n",
       "      <th>1371975</th>\n",
       "      <td>ffffbbf78b6eaac697a8a5dfbfd2bfa8113ee5b403e474...</td>\n",
       "      <td>0.0</td>\n",
       "      <td>0.0</td>\n",
       "      <td>ACTIVE</td>\n",
       "      <td>NONE</td>\n",
       "      <td>24.0</td>\n",
       "      <td>7aa399f7e669990daba2d92c577b52237380662f36480b...</td>\n",
       "    </tr>\n",
       "    <tr>\n",
       "      <th>1371976</th>\n",
       "      <td>ffffcd5046a6143d29a04fb8c424ce494a76e5cdf4fab5...</td>\n",
       "      <td>0.0</td>\n",
       "      <td>0.0</td>\n",
       "      <td>ACTIVE</td>\n",
       "      <td>NONE</td>\n",
       "      <td>21.0</td>\n",
       "      <td>3f47f1279beb72215f4de557d950e0bfa73789d24acb5e...</td>\n",
       "    </tr>\n",
       "    <tr>\n",
       "      <th>1371977</th>\n",
       "      <td>ffffcf35913a0bee60e8741cb2b4e78b8a98ee5ff2e6a1...</td>\n",
       "      <td>1.0</td>\n",
       "      <td>1.0</td>\n",
       "      <td>ACTIVE</td>\n",
       "      <td>Regularly</td>\n",
       "      <td>21.0</td>\n",
       "      <td>4563fc79215672cd6a863f2b4bf56b8f898f2d96ed590e...</td>\n",
       "    </tr>\n",
       "    <tr>\n",
       "      <th>1371978</th>\n",
       "      <td>ffffd7744cebcf3aca44ae7049d2a94b87074c3d4ffe38...</td>\n",
       "      <td>1.0</td>\n",
       "      <td>1.0</td>\n",
       "      <td>ACTIVE</td>\n",
       "      <td>Regularly</td>\n",
       "      <td>18.0</td>\n",
       "      <td>8892c18e9bc3dca6aa4000cb8094fc4b51ee8db2ed14d7...</td>\n",
       "    </tr>\n",
       "    <tr>\n",
       "      <th>1371979</th>\n",
       "      <td>ffffd9ac14e89946416d80e791d064701994755c3ab686...</td>\n",
       "      <td>0.0</td>\n",
       "      <td>0.0</td>\n",
       "      <td>PRE-CREATE</td>\n",
       "      <td>NONE</td>\n",
       "      <td>65.0</td>\n",
       "      <td>0a1a03306fb2f62164c2a439b38c0caa64b40deaae8687...</td>\n",
       "    </tr>\n",
       "  </tbody>\n",
       "</table>\n",
       "</div>"
      ],
      "text/plain": [
       "                                               customer_id   fn  active  \\\n",
       "1371975  ffffbbf78b6eaac697a8a5dfbfd2bfa8113ee5b403e474...  0.0     0.0   \n",
       "1371976  ffffcd5046a6143d29a04fb8c424ce494a76e5cdf4fab5...  0.0     0.0   \n",
       "1371977  ffffcf35913a0bee60e8741cb2b4e78b8a98ee5ff2e6a1...  1.0     1.0   \n",
       "1371978  ffffd7744cebcf3aca44ae7049d2a94b87074c3d4ffe38...  1.0     1.0   \n",
       "1371979  ffffd9ac14e89946416d80e791d064701994755c3ab686...  0.0     0.0   \n",
       "\n",
       "        club_member_status fashion_news_frequency   age  \\\n",
       "1371975             ACTIVE                   NONE  24.0   \n",
       "1371976             ACTIVE                   NONE  21.0   \n",
       "1371977             ACTIVE              Regularly  21.0   \n",
       "1371978             ACTIVE              Regularly  18.0   \n",
       "1371979         PRE-CREATE                   NONE  65.0   \n",
       "\n",
       "                                               postal_code  \n",
       "1371975  7aa399f7e669990daba2d92c577b52237380662f36480b...  \n",
       "1371976  3f47f1279beb72215f4de557d950e0bfa73789d24acb5e...  \n",
       "1371977  4563fc79215672cd6a863f2b4bf56b8f898f2d96ed590e...  \n",
       "1371978  8892c18e9bc3dca6aa4000cb8094fc4b51ee8db2ed14d7...  \n",
       "1371979  0a1a03306fb2f62164c2a439b38c0caa64b40deaae8687...  "
      ]
     },
     "execution_count": 16,
     "metadata": {},
     "output_type": "execute_result"
    }
   ],
   "source": [
    "customers_df.tail()"
   ]
  },
  {
   "cell_type": "markdown",
   "id": "1ae1af36",
   "metadata": {},
   "source": [
    "# Create a rating matrix\n",
    "Since we don't actual have item ratings like a 1 to 5 rating per item, we will assume qty of purchase indicates rating value of a product (e.g customer must like product A if they bought 5 of it). However if we have outliers they may bias our data. In this case we can assume that 68% of data will lie within 1 standard deviation from the mean so we could take any thing 3 standard deviations from the mean as rare events and remove them."
   ]
  },
  {
   "cell_type": "code",
   "execution_count": 17,
   "id": "5a961673",
   "metadata": {},
   "outputs": [],
   "source": [
    "#customer | article | qty (158342)\n",
    "transaction_qty_df = transactions_train_df.groupby(['customer_id','article_id']).size().reset_index().rename(columns={0:'qty'})"
   ]
  },
  {
   "cell_type": "markdown",
   "id": "0d7be581",
   "metadata": {},
   "source": [
    "## Inspect data and remove outliers"
   ]
  },
  {
   "cell_type": "code",
   "execution_count": 18,
   "id": "97bb5a0e",
   "metadata": {},
   "outputs": [
    {
     "data": {
      "text/plain": [
       "27306439"
      ]
     },
     "execution_count": 18,
     "metadata": {},
     "output_type": "execute_result"
    }
   ],
   "source": [
    "ratings['qty'].size # 27,306,439"
   ]
  },
  {
   "cell_type": "code",
   "execution_count": 19,
   "id": "f740b4f4",
   "metadata": {},
   "outputs": [
    {
     "name": "stdout",
     "output_type": "stream",
     "text": [
      "<class 'pandas.core.frame.DataFrame'>\n",
      "RangeIndex: 27306439 entries, 0 to 27306438\n",
      "Data columns (total 3 columns):\n",
      " #   Column       Dtype \n",
      "---  ------       ----- \n",
      " 0   customer_id  object\n",
      " 1   article_id   object\n",
      " 2   qty          int64 \n",
      "dtypes: int64(1), object(2)\n",
      "memory usage: 625.0+ MB\n"
     ]
    }
   ],
   "source": [
    "ratings.info()"
   ]
  },
  {
   "cell_type": "code",
   "execution_count": 20,
   "id": "87030341",
   "metadata": {},
   "outputs": [
    {
     "data": {
      "text/html": [
       "<div>\n",
       "<style scoped>\n",
       "    .dataframe tbody tr th:only-of-type {\n",
       "        vertical-align: middle;\n",
       "    }\n",
       "\n",
       "    .dataframe tbody tr th {\n",
       "        vertical-align: top;\n",
       "    }\n",
       "\n",
       "    .dataframe thead th {\n",
       "        text-align: right;\n",
       "    }\n",
       "</style>\n",
       "<table border=\"1\" class=\"dataframe\">\n",
       "  <thead>\n",
       "    <tr style=\"text-align: right;\">\n",
       "      <th></th>\n",
       "      <th>qty</th>\n",
       "    </tr>\n",
       "  </thead>\n",
       "  <tbody>\n",
       "    <tr>\n",
       "      <th>count</th>\n",
       "      <td>2.730644e+07</td>\n",
       "    </tr>\n",
       "    <tr>\n",
       "      <th>mean</th>\n",
       "      <td>1.164133e+00</td>\n",
       "    </tr>\n",
       "    <tr>\n",
       "      <th>std</th>\n",
       "      <td>5.721803e-01</td>\n",
       "    </tr>\n",
       "    <tr>\n",
       "      <th>min</th>\n",
       "      <td>1.000000e+00</td>\n",
       "    </tr>\n",
       "    <tr>\n",
       "      <th>25%</th>\n",
       "      <td>1.000000e+00</td>\n",
       "    </tr>\n",
       "    <tr>\n",
       "      <th>50%</th>\n",
       "      <td>1.000000e+00</td>\n",
       "    </tr>\n",
       "    <tr>\n",
       "      <th>75%</th>\n",
       "      <td>1.000000e+00</td>\n",
       "    </tr>\n",
       "    <tr>\n",
       "      <th>max</th>\n",
       "      <td>5.700000e+02</td>\n",
       "    </tr>\n",
       "  </tbody>\n",
       "</table>\n",
       "</div>"
      ],
      "text/plain": [
       "                qty\n",
       "count  2.730644e+07\n",
       "mean   1.164133e+00\n",
       "std    5.721803e-01\n",
       "min    1.000000e+00\n",
       "25%    1.000000e+00\n",
       "50%    1.000000e+00\n",
       "75%    1.000000e+00\n",
       "max    5.700000e+02"
      ]
     },
     "execution_count": 20,
     "metadata": {},
     "output_type": "execute_result"
    }
   ],
   "source": [
    "ratings.describe()"
   ]
  },
  {
   "cell_type": "code",
   "execution_count": 21,
   "id": "80fa6109",
   "metadata": {},
   "outputs": [
    {
     "data": {
      "image/png": "[encoded data removed]",
      "text/plain": [
       "<Figure size 432x288 with 1 Axes>"
      ]
     },
     "metadata": {
      "needs_background": "light"
     },
     "output_type": "display_data"
    }
   ],
   "source": [
    "boxplot = ratings.boxplot(column=['qty'])"
   ]
  },
  {
   "cell_type": "markdown",
   "id": "b7ef913f",
   "metadata": {},
   "source": [
    "1 Standard Deviation is 5.72. 68% of data falls within 1 std dev. 99.7% falls within 3 Standard Deviations. We can use this to remove outliers. We know the minimum value is 1.0 so there are no negative values in our dataset."
   ]
  },
  {
   "cell_type": "code",
   "execution_count": 22,
   "id": "78af7fd8",
   "metadata": {},
   "outputs": [
    {
     "data": {
      "text/plain": [
       "17.165408433088903"
      ]
     },
     "execution_count": 22,
     "metadata": {},
     "output_type": "execute_result"
    }
   ],
   "source": [
    "std = ratings.qty.std() * 10\n",
    "cutoff = std * 3\n",
    "cutoff"
   ]
  },
  {
   "cell_type": "code",
   "execution_count": 23,
   "id": "ccfc93fe",
   "metadata": {},
   "outputs": [],
   "source": [
    "mean = ratings.qty.mean()"
   ]
  },
  {
   "cell_type": "code",
   "execution_count": 24,
   "id": "ad66064e",
   "metadata": {},
   "outputs": [
    {
     "name": "stdout",
     "output_type": "stream",
     "text": [
      "upper: 18.32954133229264\n"
     ]
    }
   ],
   "source": [
    "upper = mean+cutoff\n",
    "print(\"upper: \" + str(upper))"
   ]
  },
  {
   "cell_type": "code",
   "execution_count": 25,
   "id": "c18e1df2",
   "metadata": {},
   "outputs": [
    {
     "data": {
      "text/html": [
       "<div>\n",
       "<style scoped>\n",
       "    .dataframe tbody tr th:only-of-type {\n",
       "        vertical-align: middle;\n",
       "    }\n",
       "\n",
       "    .dataframe tbody tr th {\n",
       "        vertical-align: top;\n",
       "    }\n",
       "\n",
       "    .dataframe thead th {\n",
       "        text-align: right;\n",
       "    }\n",
       "</style>\n",
       "<table border=\"1\" class=\"dataframe\">\n",
       "  <thead>\n",
       "    <tr style=\"text-align: right;\">\n",
       "      <th></th>\n",
       "      <th>customer_id</th>\n",
       "      <th>article_id</th>\n",
       "      <th>qty</th>\n",
       "    </tr>\n",
       "  </thead>\n",
       "  <tbody>\n",
       "    <tr>\n",
       "      <th>44044</th>\n",
       "      <td>006d4d3564072c27710509891093efa1324be6aaef0de3...</td>\n",
       "      <td>727880001</td>\n",
       "      <td>78</td>\n",
       "    </tr>\n",
       "    <tr>\n",
       "      <th>46417</th>\n",
       "      <td>00750c6950d9a61ee44ed4520ef7262841a2e497956874...</td>\n",
       "      <td>158340001</td>\n",
       "      <td>21</td>\n",
       "    </tr>\n",
       "    <tr>\n",
       "      <th>78878</th>\n",
       "      <td>00bef970777120c0d28794208adcd83bc023cb315fa59e...</td>\n",
       "      <td>610776026</td>\n",
       "      <td>50</td>\n",
       "    </tr>\n",
       "    <tr>\n",
       "      <th>142685</th>\n",
       "      <td>0152964ef19824d631d28ee3327a010fbfc528cdaf5bf0...</td>\n",
       "      <td>756322001</td>\n",
       "      <td>120</td>\n",
       "    </tr>\n",
       "    <tr>\n",
       "      <th>191867</th>\n",
       "      <td>01c3901f1accc7f12268b24ea83e47f76bdf71e4d82da1...</td>\n",
       "      <td>778064001</td>\n",
       "      <td>23</td>\n",
       "    </tr>\n",
       "    <tr>\n",
       "      <th>...</th>\n",
       "      <td>...</td>\n",
       "      <td>...</td>\n",
       "      <td>...</td>\n",
       "    </tr>\n",
       "    <tr>\n",
       "      <th>27192199</th>\n",
       "      <td>fefb56faca51b2e9de0082a3da3379e1fd41709509f6a4...</td>\n",
       "      <td>795164001</td>\n",
       "      <td>30</td>\n",
       "    </tr>\n",
       "    <tr>\n",
       "      <th>27250941</th>\n",
       "      <td>ff7dceb4dbc99277091f7adaa81932a7ea237b7e108a69...</td>\n",
       "      <td>507910001</td>\n",
       "      <td>26</td>\n",
       "    </tr>\n",
       "    <tr>\n",
       "      <th>27261558</th>\n",
       "      <td>ff95fd793d6cfbbac2ce3d7f850a0f7d4270dbd4fb1350...</td>\n",
       "      <td>507909003</td>\n",
       "      <td>27</td>\n",
       "    </tr>\n",
       "    <tr>\n",
       "      <th>27276104</th>\n",
       "      <td>ffbc3ce4b0fae2de39ce955ea3fdb619eb8da7411d778c...</td>\n",
       "      <td>629758013</td>\n",
       "      <td>48</td>\n",
       "    </tr>\n",
       "    <tr>\n",
       "      <th>27281707</th>\n",
       "      <td>ffc66f427202c975f39e9127ddb597ccbfc818c474a779...</td>\n",
       "      <td>716657001</td>\n",
       "      <td>20</td>\n",
       "    </tr>\n",
       "  </tbody>\n",
       "</table>\n",
       "<p>1428 rows × 3 columns</p>\n",
       "</div>"
      ],
      "text/plain": [
       "                                                customer_id article_id  qty\n",
       "44044     006d4d3564072c27710509891093efa1324be6aaef0de3...  727880001   78\n",
       "46417     00750c6950d9a61ee44ed4520ef7262841a2e497956874...  158340001   21\n",
       "78878     00bef970777120c0d28794208adcd83bc023cb315fa59e...  610776026   50\n",
       "142685    0152964ef19824d631d28ee3327a010fbfc528cdaf5bf0...  756322001  120\n",
       "191867    01c3901f1accc7f12268b24ea83e47f76bdf71e4d82da1...  778064001   23\n",
       "...                                                     ...        ...  ...\n",
       "27192199  fefb56faca51b2e9de0082a3da3379e1fd41709509f6a4...  795164001   30\n",
       "27250941  ff7dceb4dbc99277091f7adaa81932a7ea237b7e108a69...  507910001   26\n",
       "27261558  ff95fd793d6cfbbac2ce3d7f850a0f7d4270dbd4fb1350...  507909003   27\n",
       "27276104  ffbc3ce4b0fae2de39ce955ea3fdb619eb8da7411d778c...  629758013   48\n",
       "27281707  ffc66f427202c975f39e9127ddb597ccbfc818c474a779...  716657001   20\n",
       "\n",
       "[1428 rows x 3 columns]"
      ]
     },
     "execution_count": 25,
     "metadata": {},
     "output_type": "execute_result"
    }
   ],
   "source": [
    "ratings.loc[ratings['qty'] > upper]"
   ]
  },
  {
   "cell_type": "code",
   "execution_count": 26,
   "id": "e42b07a3",
   "metadata": {},
   "outputs": [],
   "source": [
    " ratings = ratings.loc[ratings['qty'] < upper]"
   ]
  },
  {
   "cell_type": "code",
   "execution_count": 27,
   "id": "415d47f1",
   "metadata": {},
   "outputs": [
    {
     "data": {
      "image/png": "[encoded data removed]",
      "text/plain": [
       "<Figure size 432x288 with 1 Axes>"
      ]
     },
     "metadata": {
      "needs_background": "light"
     },
     "output_type": "display_data"
    }
   ],
   "source": [
    "boxplot = ratings.boxplot(column=['qty'])"
   ]
  },
  {
   "cell_type": "code",
   "execution_count": 28,
   "id": "115129e2",
   "metadata": {},
   "outputs": [
    {
     "data": {
      "text/plain": [
       "27305011"
      ]
     },
     "execution_count": 28,
     "metadata": {},
     "output_type": "execute_result"
    }
   ],
   "source": [
    "ratings['qty'].size #27,305,011"
   ]
  },
  {
   "cell_type": "code",
   "execution_count": 29,
   "id": "383a683c",
   "metadata": {},
   "outputs": [
    {
     "data": {
      "text/html": [
       "<div>\n",
       "<style scoped>\n",
       "    .dataframe tbody tr th:only-of-type {\n",
       "        vertical-align: middle;\n",
       "    }\n",
       "\n",
       "    .dataframe tbody tr th {\n",
       "        vertical-align: top;\n",
       "    }\n",
       "\n",
       "    .dataframe thead th {\n",
       "        text-align: right;\n",
       "    }\n",
       "</style>\n",
       "<table border=\"1\" class=\"dataframe\">\n",
       "  <thead>\n",
       "    <tr style=\"text-align: right;\">\n",
       "      <th></th>\n",
       "      <th>qty</th>\n",
       "    </tr>\n",
       "  </thead>\n",
       "  <tbody>\n",
       "    <tr>\n",
       "      <th>count</th>\n",
       "      <td>2.730501e+07</td>\n",
       "    </tr>\n",
       "    <tr>\n",
       "      <th>mean</th>\n",
       "      <td>1.162673e+00</td>\n",
       "    </tr>\n",
       "    <tr>\n",
       "      <th>std</th>\n",
       "      <td>5.133228e-01</td>\n",
       "    </tr>\n",
       "    <tr>\n",
       "      <th>min</th>\n",
       "      <td>1.000000e+00</td>\n",
       "    </tr>\n",
       "    <tr>\n",
       "      <th>25%</th>\n",
       "      <td>1.000000e+00</td>\n",
       "    </tr>\n",
       "    <tr>\n",
       "      <th>50%</th>\n",
       "      <td>1.000000e+00</td>\n",
       "    </tr>\n",
       "    <tr>\n",
       "      <th>75%</th>\n",
       "      <td>1.000000e+00</td>\n",
       "    </tr>\n",
       "    <tr>\n",
       "      <th>max</th>\n",
       "      <td>1.800000e+01</td>\n",
       "    </tr>\n",
       "  </tbody>\n",
       "</table>\n",
       "</div>"
      ],
      "text/plain": [
       "                qty\n",
       "count  2.730501e+07\n",
       "mean   1.162673e+00\n",
       "std    5.133228e-01\n",
       "min    1.000000e+00\n",
       "25%    1.000000e+00\n",
       "50%    1.000000e+00\n",
       "75%    1.000000e+00\n",
       "max    1.800000e+01"
      ]
     },
     "execution_count": 29,
     "metadata": {},
     "output_type": "execute_result"
    }
   ],
   "source": [
    "ratings.describe()"
   ]
  },
  {
   "cell_type": "markdown",
   "id": "5151a4cc",
   "metadata": {},
   "source": [
    "In the transactions dataset, after we removed the outliers, we saw that customers bought, between 1 and 18 quantities of an item. We can model this now as a prediction problem were we want to predict the qty a customer will buy for each item. However we will model this as a regression problem because we could have a situation where the person buys, say a qty of 4. A classification problem would only consider 1 to 3 as a misclassification, where as a regression model would award negative weights appropriately when qty is from 1 and 3. We also have over 27 million rows which we may not need to build a good model. For memory constraints we will sample only 25,000 rows. Since we are taking qty bought as a rating, this would be 25k random ratings."
   ]
  },
  {
   "cell_type": "code",
   "execution_count": 30,
   "id": "cf2b9214",
   "metadata": {},
   "outputs": [
    {
     "data": {
      "text/plain": [
       "25000"
      ]
     },
     "execution_count": 30,
     "metadata": {},
     "output_type": "execute_result"
    }
   ],
   "source": [
    "ratings_100k = ratings.sample(n = 25000)\n",
    "ratings_100k['qty'].size"
   ]
  },
  {
   "cell_type": "raw",
   "id": "0e3aed07",
   "metadata": {},
   "source": [
    "For us to work with a machine learning model like KNN, we will want to split our data into training and testing datasets. We will keep 75% as training data and 25% as test data. This proportion is rather arbitrary and we may change it later. We are also going to take customers as the target variable and ratings dataset as our predictors."
   ]
  },
  {
   "cell_type": "raw",
   "id": "456dc496",
   "metadata": {},
   "source": [
    "# Now we create our training and test datasets, with customers as our y\n",
    "X_train, X_test, y_train, y_test = train_test_split(ratings_100k, \n",
    "                                                    ratings_100k['customer_id'], \n",
    "                                                    test_size = 0.25, \n",
    "                                                    #stratify=ratings_100k['customer_id'],\n",
    "                                                    random_state=42)\n",
    "#*error The least populated class in y has only 1 member, which is too few. The minimum number of groups for any class cannot be less than 2.\n",
    "\n",
    "# we may have to stratify because random does not take into account the distribution\n",
    "print(\"X_test shape: \", X_test.shape)"
   ]
  },
  {
   "cell_type": "raw",
   "id": "1eab0271",
   "metadata": {},
   "source": [
    "# we may have to stratify because random does not take into account the distribution\n",
    "print(\"X_test shape: \", X_test.shape)"
   ]
  },
  {
   "cell_type": "raw",
   "id": "9bdef0bd",
   "metadata": {},
   "source": [
    "print(\"X_train shape: \", X_train.shape)"
   ]
  },
  {
   "cell_type": "raw",
   "id": "d625b084",
   "metadata": {},
   "source": [
    "def baseline(customer, article):\n",
    "    return 2"
   ]
  },
  {
   "cell_type": "raw",
   "id": "6da46716",
   "metadata": {},
   "source": [
    "# For evaluation we will get random samples from our test set and compare\n",
    "def score(r_model):\n",
    "    #get samples from our test dataset\n",
    "    pairs = zip(X_test['customer_id'], X_test['article_id'])\n",
    "    #try predict each customer for give product\n",
    "    y_pred = np.array([r_model(customer, article) for (customer, article) in pairs])\n",
    "    #get the actual\n",
    "    y_true = np.array(X_test['qty'])\n",
    "    #return score\n",
    "    return np.sqrt(mean_squared_error(y_true, y_pred))"
   ]
  },
  {
   "cell_type": "raw",
   "id": "c29c2c82",
   "metadata": {},
   "source": [
    "score(baseline) # test scoring.y Anything less than this is good."
   ]
  },
  {
   "cell_type": "raw",
   "id": "d832edf6",
   "metadata": {},
   "source": [
    "# build our ratings matrix using pandas pivot table\n",
    "r_matrix = X_train.pivot_table(values='qty', index='customer_id', columns='article_id')\n",
    "r_matrix.head()"
   ]
  },
  {
   "cell_type": "raw",
   "id": "18572d85",
   "metadata": {},
   "source": [
    "check_missing(r_matrix)"
   ]
  },
  {
   "cell_type": "raw",
   "id": "cb15f916",
   "metadata": {},
   "source": [
    "r_matrix.describe()"
   ]
  },
  {
   "cell_type": "markdown",
   "id": "bf4ddc65",
   "metadata": {},
   "source": [
    "Out of our training set of 18,307 customers rating 12,923 products we can see that 99% of our products are not rated!"
   ]
  },
  {
   "cell_type": "raw",
   "id": "19dc69db",
   "metadata": {},
   "source": [
    "# User Based Collaborative Filter using Mean Ratings"
   ]
  },
  {
   "cell_type": "raw",
   "id": "7c45e5ff",
   "metadata": {},
   "source": [
    "#Create a dummy ratings matrix with all null values imputed to 0\n",
    "r_matrix_dummy = r_matrix.copy().fillna(0)\n",
    "\n",
    "def cf_user_mean(user_id, article_id):\n",
    "    #Check if article_id exists in r_matrix\n",
    "    if article_id in r_matrix_dummy:\n",
    "        #Compute the mean of all the ratings given to the item\n",
    "        mean_rating = r_matrix[article_id].mean()\n",
    "            \n",
    "    else:\n",
    "        #Default to a rating of 3.0 in the absence of any information\n",
    "        mean_rating = 1.0\n",
    "    return mean_rating\n",
    "\n",
    "#Compute RMSE for the Mean model\n",
    "score(cf_user_mean)"
   ]
  },
  {
   "cell_type": "markdown",
   "id": "10b212ec",
   "metadata": {},
   "source": [
    "# Model Based Collaborative Filter using KNN"
   ]
  },
  {
   "cell_type": "code",
   "execution_count": 31,
   "id": "8a31c924",
   "metadata": {},
   "outputs": [
    {
     "name": "stdout",
     "output_type": "stream",
     "text": [
      "Computing the msd similarity matrix...\n",
      "Done computing similarity matrix.\n",
      "Computing the msd similarity matrix...\n",
      "Done computing similarity matrix.\n",
      "Computing the msd similarity matrix...\n",
      "Done computing similarity matrix.\n",
      "Computing the msd similarity matrix...\n",
      "Done computing similarity matrix.\n",
      "Computing the msd similarity matrix...\n",
      "Done computing similarity matrix.\n",
      "Evaluating RMSE of algorithm KNNBasic on 5 split(s).\n",
      "\n",
      "                  Fold 1  Fold 2  Fold 3  Fold 4  Fold 5  Mean    Std     \n",
      "RMSE (testset)    0.5823  0.5083  0.5049  0.5499  0.5047  0.5300  0.0312  \n",
      "Fit time          8.62    10.73   7.24    7.21    7.18    8.20    1.38    \n",
      "Test time         0.04    0.09    0.03    0.03    0.04    0.05    0.02    \n"
     ]
    },
    {
     "data": {
      "text/plain": [
       "{'test_rmse': array([0.58225895, 0.50826668, 0.50494929, 0.54994398, 0.5046847 ]),\n",
       " 'fit_time': (8.624926328659058,\n",
       "  10.725609302520752,\n",
       "  7.237117052078247,\n",
       "  7.211538076400757,\n",
       "  7.180856943130493),\n",
       " 'test_time': (0.038878679275512695,\n",
       "  0.09090518951416016,\n",
       "  0.029913902282714844,\n",
       "  0.033997297286987305,\n",
       "  0.03786635398864746)}"
      ]
     },
     "execution_count": 31,
     "metadata": {},
     "output_type": "execute_result"
    }
   ],
   "source": [
    "#Import the required classes and methods from the surprise library\n",
    "from surprise import Reader, Dataset, KNNBasic\n",
    "from surprise.model_selection import cross_validate\n",
    "\n",
    "\n",
    "#Define a Reader object\n",
    "#The Reader object helps in parsing the file or dataframe containing\n",
    "\n",
    "reader = Reader()\n",
    "#Create the dataset to be used for building the filter\n",
    "data = Dataset.load_from_df(ratings_100k, reader)\n",
    "#Define the algorithm object; in this case kNN\n",
    "knn = KNNBasic()\n",
    "\n",
    "# Run 5-fold cross-validation and then print results\n",
    "cross_validate(knn, data, measures=['RMSE'], cv=5, verbose=True)"
   ]
  },
  {
   "cell_type": "markdown",
   "id": "5e830b0c",
   "metadata": {},
   "source": [
    "# Model Based Collaborative Filter using Singular-value decomposition"
   ]
  },
  {
   "cell_type": "code",
   "execution_count": 32,
   "id": "054f50af",
   "metadata": {},
   "outputs": [
    {
     "name": "stdout",
     "output_type": "stream",
     "text": [
      "Evaluating RMSE of algorithm SVD on 5 split(s).\n",
      "\n",
      "                  Fold 1  Fold 2  Fold 3  Fold 4  Fold 5  Mean    Std     \n",
      "RMSE (testset)    0.5452  0.5334  0.4970  0.5234  0.5517  0.5301  0.0192  \n",
      "Fit time          1.14    1.08    1.08    1.09    1.08    1.09    0.02    \n",
      "Test time         0.07    0.03    0.02    0.02    0.02    0.03    0.02    \n"
     ]
    },
    {
     "data": {
      "text/plain": [
       "{'test_rmse': array([0.54517259, 0.53344997, 0.49695098, 0.52343501, 0.55171126]),\n",
       " 'fit_time': (1.1386120319366455,\n",
       "  1.0781166553497314,\n",
       "  1.0811092853546143,\n",
       "  1.094043254852295,\n",
       "  1.0791590213775635),\n",
       " 'test_time': (0.06887340545654297,\n",
       "  0.02792501449584961,\n",
       "  0.022937774658203125,\n",
       "  0.022939443588256836,\n",
       "  0.022930622100830078)}"
      ]
     },
     "execution_count": 32,
     "metadata": {},
     "output_type": "execute_result"
    }
   ],
   "source": [
    "#Import SVD\n",
    "from surprise import SVD\n",
    "\n",
    "#Define the SVD algorithm object\n",
    "svd = SVD()\n",
    "\n",
    "#Evaluate the performance in terms of RMSE\n",
    "cross_validate(svd, data, measures=['RMSE'], cv=5, verbose=True)"
   ]
  },
  {
   "cell_type": "raw",
   "id": "eb883fdc",
   "metadata": {},
   "source": [
    "# K-Nearest Neighbors (K-NN)\n",
    "\n",
    "\n",
    "# Importing the dataset\n",
    "dataset = pd.read_csv('Social_Network_Ads.csv')\n",
    "X = dataset.iloc[:, :-1].values\n",
    "y = dataset.iloc[:, -1].values\n",
    "\n",
    "# Splitting the dataset into the Training set and Test set\n",
    "from sklearn.model_selection import train_test_split\n",
    "X_train, X_test, y_train, y_test = train_test_split(X, y, test_size = 0.25, random_state = 0)\n",
    "print(X_train)\n",
    "print(y_train)\n",
    "print(X_test)\n",
    "print(y_test)\n",
    "\n",
    "# Feature Scaling\n",
    "from sklearn.preprocessing import StandardScaler\n",
    "sc = StandardScaler()\n",
    "X_train = sc.fit_transform(X_train)\n",
    "X_test = sc.transform(X_test)\n",
    "print(X_train)\n",
    "print(X_test)\n",
    "\n",
    "# Training the K-NN model on the Training set\n",
    "from sklearn.neighbors import KNeighborsClassifier\n",
    "classifier = KNeighborsClassifier(n_neighbors = 5, metric = 'minkowski', p = 2)\n",
    "classifier.fit(X_train, y_train)\n",
    "\n",
    "# Predicting a new result\n",
    "print(classifier.predict(sc.transform([[30,87000]])))\n",
    "\n",
    "# Predicting the Test set results\n",
    "y_pred = classifier.predict(X_test)\n",
    "print(np.concatenate((y_pred.reshape(len(y_pred),1), y_test.reshape(len(y_test),1)),1))\n",
    "\n",
    "# Making the Confusion Matrix\n",
    "from sklearn.metrics import confusion_matrix, accuracy_score\n",
    "cm = confusion_matrix(y_test, y_pred)\n",
    "print(cm)\n",
    "accuracy_score(y_test, y_pred)\n",
    "\n",
    "# Visualising the Training set results\n",
    "from matplotlib.colors import ListedColormap\n",
    "X_set, y_set = sc.inverse_transform(X_train), y_train\n",
    "X1, X2 = np.meshgrid(np.arange(start = X_set[:, 0].min() - 10, stop = X_set[:, 0].max() + 10, step = 1),\n",
    "                     np.arange(start = X_set[:, 1].min() - 1000, stop = X_set[:, 1].max() + 1000, step = 1))\n",
    "plt.contourf(X1, X2, classifier.predict(sc.transform(np.array([X1.ravel(), X2.ravel()]).T)).reshape(X1.shape),\n",
    "             alpha = 0.75, cmap = ListedColormap(('red', 'green')))\n",
    "plt.xlim(X1.min(), X1.max())\n",
    "plt.ylim(X2.min(), X2.max())\n",
    "for i, j in enumerate(np.unique(y_set)):\n",
    "    plt.scatter(X_set[y_set == j, 0], X_set[y_set == j, 1], c = ListedColormap(('red', 'green'))(i), label = j)\n",
    "plt.title('K-NN (Training set)')\n",
    "plt.xlabel('Age')\n",
    "plt.ylabel('Estimated Salary')\n",
    "plt.legend()\n",
    "plt.show()\n",
    "\n",
    "# Visualising the Test set results\n",
    "from matplotlib.colors import ListedColormap\n",
    "X_set, y_set = sc.inverse_transform(X_test), y_test\n",
    "X1, X2 = np.meshgrid(np.arange(start = X_set[:, 0].min() - 10, stop = X_set[:, 0].max() + 10, step = 1),\n",
    "                     np.arange(start = X_set[:, 1].min() - 1000, stop = X_set[:, 1].max() + 1000, step = 1))\n",
    "plt.contourf(X1, X2, classifier.predict(sc.transform(np.array([X1.ravel(), X2.ravel()]).T)).reshape(X1.shape),\n",
    "             alpha = 0.75, cmap = ListedColormap(('red', 'green')))\n",
    "plt.xlim(X1.min(), X1.max())\n",
    "plt.ylim(X2.min(), X2.max())\n",
    "for i, j in enumerate(np.unique(y_set)):\n",
    "    plt.scatter(X_set[y_set == j, 0], X_set[y_set == j, 1], c = ListedColormap(('red', 'green'))(i), label = j)\n",
    "plt.title('K-NN (Test set)')\n",
    "plt.xlabel('Age')\n",
    "plt.ylabel('Estimated Salary')\n",
    "plt.legend()\n",
    "plt.show()"
   ]
  }
 ],
 "metadata": {
  "kernelspec": {
   "display_name": "Python 3 (ipykernel)",
   "language": "python",
   "name": "python3"
  },
  "language_info": {
   "codemirror_mode": {
    "name": "ipython",
    "version": 3
   },
   "file_extension": ".py",
   "mimetype": "text/x-python",
   "name": "python",
   "nbconvert_exporter": "python",
   "pygments_lexer": "ipython3",
   "version": "3.8.10"
  }
 },
 "nbformat": 4,
 "nbformat_minor": 5
}
