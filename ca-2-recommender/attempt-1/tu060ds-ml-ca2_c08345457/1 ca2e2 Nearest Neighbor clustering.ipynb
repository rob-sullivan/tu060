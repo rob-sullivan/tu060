{
 "cells": [
  {
   "cell_type": "markdown",
   "id": "82866eef",
   "metadata": {},
   "source": [
    "# H&M Fashion Recommender Notebook"
   ]
  },
  {
   "cell_type": "markdown",
   "id": "7127d743",
   "metadata": {},
   "source": [
    "For each customer (customer_id), H&M want a prediction of up to 12 products (article_ids), which is the predicted items a customer will buy in the next 7-day period after the training time period. The file should contain a header and have the following format."
   ]
  },
  {
   "cell_type": "code",
   "execution_count": 122,
   "id": "bbd31156",
   "metadata": {},
   "outputs": [],
   "source": [
    "#working with files and memory management\n",
    "import gc\n",
    "\n",
    "import pandas as pd\n",
    "import numpy as np\n",
    "\n",
    "#used during data exploration\n",
    "import matplotlib.pyplot as plt\n",
    "import matplotlib.patches as mpatches\n",
    "\n",
    "#handling missing values where not dropped\n",
    "from sklearn.impute import SimpleImputer\n",
    "from sklearn import preprocessing\n",
    "\n",
    "#ML model\n",
    "from sklearn.neighbors import NearestNeighbors\n",
    "\n",
    "# Cross-Validation (on a rolling basis)\n",
    "from sklearn.model_selection import TimeSeriesSplit\n",
    "\n",
    "# performance scoring\n",
    "from sklearn.metrics import accuracy_score\n",
    "from sklearn.metrics import precision_score\n",
    "\n",
    "from IPython.display import display, clear_output"
   ]
  },
  {
   "cell_type": "markdown",
   "id": "811fac61",
   "metadata": {},
   "source": [
    "# Get the Data"
   ]
  },
  {
   "cell_type": "code",
   "execution_count": 2,
   "id": "8a307ab7",
   "metadata": {},
   "outputs": [],
   "source": [
    "#get transaction data\n",
    "transactions_train_df = pd.read_csv(\"input/transactions_train.csv\") # import the transactions dataset"
   ]
  },
  {
   "cell_type": "code",
   "execution_count": 3,
   "id": "f3dfedea",
   "metadata": {},
   "outputs": [],
   "source": [
    "#get product meta data\n",
    "articles_df = pd.read_csv(\"input/articles.csv\")"
   ]
  },
  {
   "cell_type": "code",
   "execution_count": 4,
   "id": "35b7c0d5",
   "metadata": {},
   "outputs": [],
   "source": [
    "#get customer meta data\n",
    "customers_df = pd.read_csv(\"input/customers.csv\")"
   ]
  },
  {
   "cell_type": "markdown",
   "id": "fc6fd4eb",
   "metadata": {},
   "source": [
    "# Prepare the Transaction Dataset"
   ]
  },
  {
   "cell_type": "code",
   "execution_count": 5,
   "id": "7cd3ba57",
   "metadata": {},
   "outputs": [],
   "source": [
    "#first we will drop the sales channel as it will not be needed\n",
    "transactions_train_df = transactions_train_df.drop(['sales_channel_id'], axis=1)"
   ]
  },
  {
   "cell_type": "code",
   "execution_count": 6,
   "id": "54790a81",
   "metadata": {},
   "outputs": [],
   "source": [
    "#we then convert our date text into a panda date type.\n",
    "transactions_train_df[\"t_dat\"] = pd.to_datetime(transactions_train_df[\"t_dat\"])"
   ]
  },
  {
   "cell_type": "code",
   "execution_count": 7,
   "id": "573d9551",
   "metadata": {},
   "outputs": [],
   "source": [
    "#now we split out the date into seperate columns for day, month and year making use of python zip for memory efficiency\n",
    "days, months, years  = zip(*[(d.day, d.month, d.year) for d in transactions_train_df['t_dat']])\n",
    "transactions_train_df = transactions_train_df.assign(day=days, month=months, year=years)"
   ]
  },
  {
   "cell_type": "code",
   "execution_count": 8,
   "id": "462fd2b5",
   "metadata": {},
   "outputs": [],
   "source": [
    "#we drop the t_dat column as it is no longer needed\n",
    "transactions_train_df = transactions_train_df.drop(['t_dat'], axis=1)"
   ]
  },
  {
   "cell_type": "code",
   "execution_count": 9,
   "id": "e89f19b0",
   "metadata": {},
   "outputs": [],
   "source": [
    "#we convert articles to string instead of default int.\n",
    "transactions_train_df['article_id'] = transactions_train_df['article_id'].values.astype(str)"
   ]
  },
  {
   "cell_type": "code",
   "execution_count": 10,
   "id": "4fb1154d",
   "metadata": {},
   "outputs": [],
   "source": [
    "#we now reorganise the dataset to treat articles as the predictor\n",
    "transactions_train_df = transactions_train_df[['article_id', 'year', 'month', 'day', 'price', 'customer_id']]"
   ]
  },
  {
   "cell_type": "code",
   "execution_count": 11,
   "id": "d5bf3102",
   "metadata": {},
   "outputs": [
    {
     "data": {
      "text/html": [
       "<div>\n",
       "<style scoped>\n",
       "    .dataframe tbody tr th:only-of-type {\n",
       "        vertical-align: middle;\n",
       "    }\n",
       "\n",
       "    .dataframe tbody tr th {\n",
       "        vertical-align: top;\n",
       "    }\n",
       "\n",
       "    .dataframe thead th {\n",
       "        text-align: right;\n",
       "    }\n",
       "</style>\n",
       "<table border=\"1\" class=\"dataframe\">\n",
       "  <thead>\n",
       "    <tr style=\"text-align: right;\">\n",
       "      <th></th>\n",
       "      <th>year</th>\n",
       "      <th>month</th>\n",
       "      <th>day</th>\n",
       "      <th>price</th>\n",
       "      <th>customer_id</th>\n",
       "    </tr>\n",
       "    <tr>\n",
       "      <th>article_id</th>\n",
       "      <th></th>\n",
       "      <th></th>\n",
       "      <th></th>\n",
       "      <th></th>\n",
       "      <th></th>\n",
       "    </tr>\n",
       "  </thead>\n",
       "  <tbody>\n",
       "    <tr>\n",
       "      <th>663713001</th>\n",
       "      <td>2018</td>\n",
       "      <td>9</td>\n",
       "      <td>20</td>\n",
       "      <td>0.050831</td>\n",
       "      <td>000058a12d5b43e67d225668fa1f8d618c13dc232df0ca...</td>\n",
       "    </tr>\n",
       "    <tr>\n",
       "      <th>541518023</th>\n",
       "      <td>2018</td>\n",
       "      <td>9</td>\n",
       "      <td>20</td>\n",
       "      <td>0.030492</td>\n",
       "      <td>000058a12d5b43e67d225668fa1f8d618c13dc232df0ca...</td>\n",
       "    </tr>\n",
       "    <tr>\n",
       "      <th>505221004</th>\n",
       "      <td>2018</td>\n",
       "      <td>9</td>\n",
       "      <td>20</td>\n",
       "      <td>0.015237</td>\n",
       "      <td>00007d2de826758b65a93dd24ce629ed66842531df6699...</td>\n",
       "    </tr>\n",
       "    <tr>\n",
       "      <th>685687003</th>\n",
       "      <td>2018</td>\n",
       "      <td>9</td>\n",
       "      <td>20</td>\n",
       "      <td>0.016932</td>\n",
       "      <td>00007d2de826758b65a93dd24ce629ed66842531df6699...</td>\n",
       "    </tr>\n",
       "    <tr>\n",
       "      <th>685687004</th>\n",
       "      <td>2018</td>\n",
       "      <td>9</td>\n",
       "      <td>20</td>\n",
       "      <td>0.016932</td>\n",
       "      <td>00007d2de826758b65a93dd24ce629ed66842531df6699...</td>\n",
       "    </tr>\n",
       "    <tr>\n",
       "      <th>...</th>\n",
       "      <td>...</td>\n",
       "      <td>...</td>\n",
       "      <td>...</td>\n",
       "      <td>...</td>\n",
       "      <td>...</td>\n",
       "    </tr>\n",
       "    <tr>\n",
       "      <th>929511001</th>\n",
       "      <td>2020</td>\n",
       "      <td>9</td>\n",
       "      <td>22</td>\n",
       "      <td>0.059305</td>\n",
       "      <td>fff2282977442e327b45d8c89afde25617d00124d0f999...</td>\n",
       "    </tr>\n",
       "    <tr>\n",
       "      <th>891322004</th>\n",
       "      <td>2020</td>\n",
       "      <td>9</td>\n",
       "      <td>22</td>\n",
       "      <td>0.042356</td>\n",
       "      <td>fff2282977442e327b45d8c89afde25617d00124d0f999...</td>\n",
       "    </tr>\n",
       "    <tr>\n",
       "      <th>918325001</th>\n",
       "      <td>2020</td>\n",
       "      <td>9</td>\n",
       "      <td>22</td>\n",
       "      <td>0.043203</td>\n",
       "      <td>fff380805474b287b05cb2a7507b9a013482f7dd0bce0e...</td>\n",
       "    </tr>\n",
       "    <tr>\n",
       "      <th>833459002</th>\n",
       "      <td>2020</td>\n",
       "      <td>9</td>\n",
       "      <td>22</td>\n",
       "      <td>0.006763</td>\n",
       "      <td>fff4d3a8b1f3b60af93e78c30a7cb4cf75edaf2590d3e5...</td>\n",
       "    </tr>\n",
       "    <tr>\n",
       "      <th>898573003</th>\n",
       "      <td>2020</td>\n",
       "      <td>9</td>\n",
       "      <td>22</td>\n",
       "      <td>0.033881</td>\n",
       "      <td>fffef3b6b73545df065b521e19f64bf6fe93bfd450ab20...</td>\n",
       "    </tr>\n",
       "  </tbody>\n",
       "</table>\n",
       "<p>31788324 rows × 5 columns</p>\n",
       "</div>"
      ],
      "text/plain": [
       "            year  month  day     price  \\\n",
       "article_id                               \n",
       "663713001   2018      9   20  0.050831   \n",
       "541518023   2018      9   20  0.030492   \n",
       "505221004   2018      9   20  0.015237   \n",
       "685687003   2018      9   20  0.016932   \n",
       "685687004   2018      9   20  0.016932   \n",
       "...          ...    ...  ...       ...   \n",
       "929511001   2020      9   22  0.059305   \n",
       "891322004   2020      9   22  0.042356   \n",
       "918325001   2020      9   22  0.043203   \n",
       "833459002   2020      9   22  0.006763   \n",
       "898573003   2020      9   22  0.033881   \n",
       "\n",
       "                                                  customer_id  \n",
       "article_id                                                     \n",
       "663713001   000058a12d5b43e67d225668fa1f8d618c13dc232df0ca...  \n",
       "541518023   000058a12d5b43e67d225668fa1f8d618c13dc232df0ca...  \n",
       "505221004   00007d2de826758b65a93dd24ce629ed66842531df6699...  \n",
       "685687003   00007d2de826758b65a93dd24ce629ed66842531df6699...  \n",
       "685687004   00007d2de826758b65a93dd24ce629ed66842531df6699...  \n",
       "...                                                       ...  \n",
       "929511001   fff2282977442e327b45d8c89afde25617d00124d0f999...  \n",
       "891322004   fff2282977442e327b45d8c89afde25617d00124d0f999...  \n",
       "918325001   fff380805474b287b05cb2a7507b9a013482f7dd0bce0e...  \n",
       "833459002   fff4d3a8b1f3b60af93e78c30a7cb4cf75edaf2590d3e5...  \n",
       "898573003   fffef3b6b73545df065b521e19f64bf6fe93bfd450ab20...  \n",
       "\n",
       "[31788324 rows x 5 columns]"
      ]
     },
     "execution_count": 11,
     "metadata": {},
     "output_type": "execute_result"
    }
   ],
   "source": [
    "#we set articles column to index\n",
    "transactions_train_df.set_index('article_id')"
   ]
  },
  {
   "cell_type": "code",
   "execution_count": 12,
   "id": "dafb6c0b",
   "metadata": {},
   "outputs": [
    {
     "data": {
      "text/html": [
       "<div>\n",
       "<style scoped>\n",
       "    .dataframe tbody tr th:only-of-type {\n",
       "        vertical-align: middle;\n",
       "    }\n",
       "\n",
       "    .dataframe tbody tr th {\n",
       "        vertical-align: top;\n",
       "    }\n",
       "\n",
       "    .dataframe thead th {\n",
       "        text-align: right;\n",
       "    }\n",
       "</style>\n",
       "<table border=\"1\" class=\"dataframe\">\n",
       "  <thead>\n",
       "    <tr style=\"text-align: right;\">\n",
       "      <th></th>\n",
       "      <th>year</th>\n",
       "      <th>month</th>\n",
       "      <th>day</th>\n",
       "      <th>price</th>\n",
       "    </tr>\n",
       "  </thead>\n",
       "  <tbody>\n",
       "    <tr>\n",
       "      <th>count</th>\n",
       "      <td>3.178832e+07</td>\n",
       "      <td>3.178832e+07</td>\n",
       "      <td>3.178832e+07</td>\n",
       "      <td>3.178832e+07</td>\n",
       "    </tr>\n",
       "    <tr>\n",
       "      <th>mean</th>\n",
       "      <td>2.019207e+03</td>\n",
       "      <td>6.511067e+00</td>\n",
       "      <td>1.624134e+01</td>\n",
       "      <td>2.782927e-02</td>\n",
       "    </tr>\n",
       "    <tr>\n",
       "      <th>std</th>\n",
       "      <td>6.644412e-01</td>\n",
       "      <td>3.273328e+00</td>\n",
       "      <td>8.934254e+00</td>\n",
       "      <td>1.918113e-02</td>\n",
       "    </tr>\n",
       "    <tr>\n",
       "      <th>min</th>\n",
       "      <td>2.018000e+03</td>\n",
       "      <td>1.000000e+00</td>\n",
       "      <td>1.000000e+00</td>\n",
       "      <td>1.694915e-05</td>\n",
       "    </tr>\n",
       "    <tr>\n",
       "      <th>25%</th>\n",
       "      <td>2.019000e+03</td>\n",
       "      <td>4.000000e+00</td>\n",
       "      <td>8.000000e+00</td>\n",
       "      <td>1.581356e-02</td>\n",
       "    </tr>\n",
       "    <tr>\n",
       "      <th>50%</th>\n",
       "      <td>2.019000e+03</td>\n",
       "      <td>6.000000e+00</td>\n",
       "      <td>1.700000e+01</td>\n",
       "      <td>2.540678e-02</td>\n",
       "    </tr>\n",
       "    <tr>\n",
       "      <th>75%</th>\n",
       "      <td>2.020000e+03</td>\n",
       "      <td>9.000000e+00</td>\n",
       "      <td>2.400000e+01</td>\n",
       "      <td>3.388136e-02</td>\n",
       "    </tr>\n",
       "    <tr>\n",
       "      <th>max</th>\n",
       "      <td>2.020000e+03</td>\n",
       "      <td>1.200000e+01</td>\n",
       "      <td>3.100000e+01</td>\n",
       "      <td>5.915254e-01</td>\n",
       "    </tr>\n",
       "  </tbody>\n",
       "</table>\n",
       "</div>"
      ],
      "text/plain": [
       "               year         month           day         price\n",
       "count  3.178832e+07  3.178832e+07  3.178832e+07  3.178832e+07\n",
       "mean   2.019207e+03  6.511067e+00  1.624134e+01  2.782927e-02\n",
       "std    6.644412e-01  3.273328e+00  8.934254e+00  1.918113e-02\n",
       "min    2.018000e+03  1.000000e+00  1.000000e+00  1.694915e-05\n",
       "25%    2.019000e+03  4.000000e+00  8.000000e+00  1.581356e-02\n",
       "50%    2.019000e+03  6.000000e+00  1.700000e+01  2.540678e-02\n",
       "75%    2.020000e+03  9.000000e+00  2.400000e+01  3.388136e-02\n",
       "max    2.020000e+03  1.200000e+01  3.100000e+01  5.915254e-01"
      ]
     },
     "execution_count": 12,
     "metadata": {},
     "output_type": "execute_result"
    }
   ],
   "source": [
    "# we want to see distributions and std dev\n",
    "transactions_train_df.describe()"
   ]
  },
  {
   "cell_type": "markdown",
   "id": "690eda88",
   "metadata": {},
   "source": [
    "# Prepare the Product Dataset"
   ]
  },
  {
   "cell_type": "code",
   "execution_count": 13,
   "id": "735559d7",
   "metadata": {},
   "outputs": [],
   "source": [
    "#get product meta data\n",
    "articles_df = pd.read_csv('data/articles.csv',\n",
    "                          index_col=['article_id'],\n",
    "                          usecols=['article_id',\n",
    "                                   'product_type_no', #e.g Scarf\n",
    "                                   'graphical_appearance_no', # e.g stripe\n",
    "                                   'colour_group_code', #e.g white\n",
    "                                   'index_group_no',#e.g ladies wear\n",
    "                                   'detail_desc'],\n",
    "                          dtype={'article_id': 'str'}) # drop text, no clothing size available"
   ]
  },
  {
   "cell_type": "markdown",
   "id": "9b56b7d2",
   "metadata": {},
   "source": [
    "# Split Training and Testing Dataset\n",
    "We will create a sample from the transactions dataset to inspect relationships and test predictions. We split our sample data into a future test sample and a past training sample"
   ]
  },
  {
   "cell_type": "code",
   "execution_count": 14,
   "id": "abd4a997",
   "metadata": {},
   "outputs": [],
   "source": [
    "aug_df = transactions_train_df.query('year == 2020 & month == 8').sample(n = 50)"
   ]
  },
  {
   "cell_type": "code",
   "execution_count": 15,
   "id": "59cb6d6a",
   "metadata": {},
   "outputs": [],
   "source": [
    "sep_df = transactions_train_df.query('year == 2020 & month == 9').sample(n = 50)"
   ]
  },
  {
   "cell_type": "code",
   "execution_count": 16,
   "id": "72ad95a0",
   "metadata": {},
   "outputs": [],
   "source": [
    "sample_df = pd.concat([aug_df,sep_df])"
   ]
  },
  {
   "cell_type": "code",
   "execution_count": 17,
   "id": "0e9b8382",
   "metadata": {},
   "outputs": [
    {
     "data": {
      "text/html": [
       "<div>\n",
       "<style scoped>\n",
       "    .dataframe tbody tr th:only-of-type {\n",
       "        vertical-align: middle;\n",
       "    }\n",
       "\n",
       "    .dataframe tbody tr th {\n",
       "        vertical-align: top;\n",
       "    }\n",
       "\n",
       "    .dataframe thead th {\n",
       "        text-align: right;\n",
       "    }\n",
       "</style>\n",
       "<table border=\"1\" class=\"dataframe\">\n",
       "  <thead>\n",
       "    <tr style=\"text-align: right;\">\n",
       "      <th></th>\n",
       "      <th>year</th>\n",
       "      <th>month</th>\n",
       "      <th>day</th>\n",
       "      <th>price</th>\n",
       "      <th>customer_id</th>\n",
       "    </tr>\n",
       "    <tr>\n",
       "      <th>article_id</th>\n",
       "      <th></th>\n",
       "      <th></th>\n",
       "      <th></th>\n",
       "      <th></th>\n",
       "      <th></th>\n",
       "    </tr>\n",
       "  </thead>\n",
       "  <tbody>\n",
       "    <tr>\n",
       "      <th>534164029</th>\n",
       "      <td>2020</td>\n",
       "      <td>8</td>\n",
       "      <td>29</td>\n",
       "      <td>0.033881</td>\n",
       "      <td>315ffef765f8db3529d17f10c8220b9f5d753e0932fc38...</td>\n",
       "    </tr>\n",
       "    <tr>\n",
       "      <th>799365011</th>\n",
       "      <td>2020</td>\n",
       "      <td>8</td>\n",
       "      <td>6</td>\n",
       "      <td>0.048119</td>\n",
       "      <td>fcb0f1dc2b386290142be40d01a0efdaa95ed55ca7893c...</td>\n",
       "    </tr>\n",
       "    <tr>\n",
       "      <th>671607001</th>\n",
       "      <td>2020</td>\n",
       "      <td>8</td>\n",
       "      <td>9</td>\n",
       "      <td>0.011729</td>\n",
       "      <td>bdc71770a8ee4e8973a61163e17876ed84af73ff43e313...</td>\n",
       "    </tr>\n",
       "    <tr>\n",
       "      <th>861451002</th>\n",
       "      <td>2020</td>\n",
       "      <td>8</td>\n",
       "      <td>26</td>\n",
       "      <td>0.016932</td>\n",
       "      <td>88ab23706f2124c844a4059e5d4e1f26c3c2b9a1f0cd76...</td>\n",
       "    </tr>\n",
       "    <tr>\n",
       "      <th>864224005</th>\n",
       "      <td>2020</td>\n",
       "      <td>8</td>\n",
       "      <td>9</td>\n",
       "      <td>0.050831</td>\n",
       "      <td>3b89c8887cb40bf427a9f4db222068e85f84791f4f9115...</td>\n",
       "    </tr>\n",
       "    <tr>\n",
       "      <th>...</th>\n",
       "      <td>...</td>\n",
       "      <td>...</td>\n",
       "      <td>...</td>\n",
       "      <td>...</td>\n",
       "      <td>...</td>\n",
       "    </tr>\n",
       "    <tr>\n",
       "      <th>844483001</th>\n",
       "      <td>2020</td>\n",
       "      <td>9</td>\n",
       "      <td>7</td>\n",
       "      <td>0.050831</td>\n",
       "      <td>d2f1cc944bc16695a914a295ac03a6d6cc99180219beb2...</td>\n",
       "    </tr>\n",
       "    <tr>\n",
       "      <th>818621004</th>\n",
       "      <td>2020</td>\n",
       "      <td>9</td>\n",
       "      <td>17</td>\n",
       "      <td>0.167797</td>\n",
       "      <td>b12201d9b10dbd17af5678dd4fc5c74089f3f9c251f67d...</td>\n",
       "    </tr>\n",
       "    <tr>\n",
       "      <th>914868003</th>\n",
       "      <td>2020</td>\n",
       "      <td>9</td>\n",
       "      <td>5</td>\n",
       "      <td>0.033881</td>\n",
       "      <td>e43c29bfc284871206aa12cabf032e846dde451fc13228...</td>\n",
       "    </tr>\n",
       "    <tr>\n",
       "      <th>873279003</th>\n",
       "      <td>2020</td>\n",
       "      <td>9</td>\n",
       "      <td>15</td>\n",
       "      <td>0.042356</td>\n",
       "      <td>5dc52cf061cd132ee0b5e0e67e2ef22b24c89f2ccd6c47...</td>\n",
       "    </tr>\n",
       "    <tr>\n",
       "      <th>807174001</th>\n",
       "      <td>2020</td>\n",
       "      <td>9</td>\n",
       "      <td>21</td>\n",
       "      <td>0.016932</td>\n",
       "      <td>4061d21530a753bb13242f44154b75b83c653dba9d95a5...</td>\n",
       "    </tr>\n",
       "  </tbody>\n",
       "</table>\n",
       "<p>100 rows × 5 columns</p>\n",
       "</div>"
      ],
      "text/plain": [
       "            year  month  day     price  \\\n",
       "article_id                               \n",
       "534164029   2020      8   29  0.033881   \n",
       "799365011   2020      8    6  0.048119   \n",
       "671607001   2020      8    9  0.011729   \n",
       "861451002   2020      8   26  0.016932   \n",
       "864224005   2020      8    9  0.050831   \n",
       "...          ...    ...  ...       ...   \n",
       "844483001   2020      9    7  0.050831   \n",
       "818621004   2020      9   17  0.167797   \n",
       "914868003   2020      9    5  0.033881   \n",
       "873279003   2020      9   15  0.042356   \n",
       "807174001   2020      9   21  0.016932   \n",
       "\n",
       "                                                  customer_id  \n",
       "article_id                                                     \n",
       "534164029   315ffef765f8db3529d17f10c8220b9f5d753e0932fc38...  \n",
       "799365011   fcb0f1dc2b386290142be40d01a0efdaa95ed55ca7893c...  \n",
       "671607001   bdc71770a8ee4e8973a61163e17876ed84af73ff43e313...  \n",
       "861451002   88ab23706f2124c844a4059e5d4e1f26c3c2b9a1f0cd76...  \n",
       "864224005   3b89c8887cb40bf427a9f4db222068e85f84791f4f9115...  \n",
       "...                                                       ...  \n",
       "844483001   d2f1cc944bc16695a914a295ac03a6d6cc99180219beb2...  \n",
       "818621004   b12201d9b10dbd17af5678dd4fc5c74089f3f9c251f67d...  \n",
       "914868003   e43c29bfc284871206aa12cabf032e846dde451fc13228...  \n",
       "873279003   5dc52cf061cd132ee0b5e0e67e2ef22b24c89f2ccd6c47...  \n",
       "807174001   4061d21530a753bb13242f44154b75b83c653dba9d95a5...  \n",
       "\n",
       "[100 rows x 5 columns]"
      ]
     },
     "execution_count": 17,
     "metadata": {},
     "output_type": "execute_result"
    }
   ],
   "source": [
    "#we set articles column to index\n",
    "sample_df.set_index('article_id')"
   ]
  },
  {
   "cell_type": "code",
   "execution_count": 18,
   "id": "cedd4095",
   "metadata": {},
   "outputs": [],
   "source": [
    "X = sample_df.values\n",
    "X = X[:,3:5] # day and price\n",
    "#print(X)#check before scaling"
   ]
  },
  {
   "cell_type": "code",
   "execution_count": 19,
   "id": "6f1cb343",
   "metadata": {},
   "outputs": [],
   "source": [
    "y = sample_df.customer_id.values # get customer ids from sample"
   ]
  },
  {
   "cell_type": "code",
   "execution_count": 20,
   "id": "ac017ddc",
   "metadata": {},
   "outputs": [
    {
     "name": "stdout",
     "output_type": "stream",
     "text": [
      "TimeSeriesSplit(gap=0, max_train_size=None, n_splits=5, test_size=None)\n"
     ]
    }
   ],
   "source": [
    "tscv = TimeSeriesSplit()\n",
    "print(tscv)"
   ]
  },
  {
   "cell_type": "code",
   "execution_count": 21,
   "id": "1f833a31",
   "metadata": {},
   "outputs": [
    {
     "data": {
      "text/plain": [
       "TimeSeriesSplit(gap=0, max_train_size=None, n_splits=3, test_size=None)"
      ]
     },
     "execution_count": 21,
     "metadata": {},
     "output_type": "execute_result"
    }
   ],
   "source": [
    "TimeSeriesSplit(max_train_size=None, n_splits=3)"
   ]
  },
  {
   "cell_type": "code",
   "execution_count": 22,
   "id": "c4f3d691",
   "metadata": {},
   "outputs": [],
   "source": [
    "for train_index, test_index in tscv.split(X):\n",
    "    #print('TRAIN:', train_index, 'TEST:', test_index) \n",
    "    X_train, X_test = X[train_index], X[test_index]\n",
    "    y_train, y_test = y[train_index], y[test_index]"
   ]
  },
  {
   "cell_type": "code",
   "execution_count": 23,
   "id": "d53701dd",
   "metadata": {},
   "outputs": [
    {
     "data": {
      "text/plain": [
       "'4061d21530a753bb13242f44154b75b83c653dba9d95a520f6e1d275947d2316'"
      ]
     },
     "execution_count": 23,
     "metadata": {},
     "output_type": "execute_result"
    }
   ],
   "source": [
    "y_test[15]"
   ]
  },
  {
   "cell_type": "code",
   "execution_count": 24,
   "id": "81984dc8",
   "metadata": {},
   "outputs": [],
   "source": [
    "q = X_test[0]# get first item in test set"
   ]
  },
  {
   "cell_type": "code",
   "execution_count": 32,
   "id": "fa3fd6cb",
   "metadata": {},
   "outputs": [
    {
     "data": {
      "text/plain": [
       "0.0338813559322033"
      ]
     },
     "execution_count": 32,
     "metadata": {},
     "output_type": "execute_result"
    }
   ],
   "source": [
    "q[1]"
   ]
  },
  {
   "cell_type": "code",
   "execution_count": 25,
   "id": "ac2b272e",
   "metadata": {},
   "outputs": [],
   "source": [
    "names = y_train"
   ]
  },
  {
   "cell_type": "code",
   "execution_count": 33,
   "id": "40d20501",
   "metadata": {},
   "outputs": [
    {
     "data": {
      "image/png": "[encoded data removed]",
      "text/plain": [
       "<Figure size 576x360 with 1 Axes>"
      ]
     },
     "metadata": {
      "needs_background": "light"
     },
     "output_type": "display_data"
    }
   ],
   "source": [
    "days = X_train[:,0] # x\n",
    "prices = X_train[:,1] # y\n",
    "\n",
    "q_days = q[0]\n",
    "q_price = q[1]\n",
    "\n",
    "#place day/price points on graph\n",
    "plt.figure(figsize=(8,5))\n",
    "plt.scatter(days, prices, color='green')\n",
    "\n",
    "#place query on graph\n",
    "plt.scatter(q_days, q_price,color='black')\n",
    "plt.annotate('q',(q_days+0.2, q_price))\n",
    "\n",
    "#label graph\n",
    "plt.title(\"H&M\")\n",
    "plt.xlabel(\"Days\")\n",
    "plt.ylabel(\"Prices\")\n",
    "\n",
    "#display graph\n",
    "plt.grid()\n",
    "\n",
    "#populate product names on the graph\n",
    "for i, txt in enumerate(names):\n",
    "    plt.annotate(txt[0:4], (days[i]+0.09, prices[i]))"
   ]
  },
  {
   "cell_type": "markdown",
   "id": "23ba4830",
   "metadata": {},
   "source": [
    "We see that the distance between our q and other products is quite near. We can determine which product is nearest using KNN."
   ]
  },
  {
   "cell_type": "markdown",
   "id": "a57d33e3",
   "metadata": {},
   "source": [
    "# Normalise the Sample Transaction Data"
   ]
  },
  {
   "cell_type": "code",
   "execution_count": 34,
   "id": "e63f6ec6",
   "metadata": {},
   "outputs": [],
   "source": [
    "#we will use N(0,1) rescale with zero mean and unit variance\n",
    "scaler = preprocessing.StandardScaler().fit(X_train)  #need a handle on the scaler to apply to training and test data\n",
    "X_train_scaled = scaler.transform(X_train)"
   ]
  },
  {
   "cell_type": "code",
   "execution_count": 36,
   "id": "3d72aa23",
   "metadata": {},
   "outputs": [],
   "source": [
    "q_scaled = scaler.transform([q])"
   ]
  },
  {
   "cell_type": "code",
   "execution_count": 37,
   "id": "b3a96085",
   "metadata": {},
   "outputs": [
    {
     "data": {
      "text/plain": [
       "array([1.68306307, 0.1224671 ])"
      ]
     },
     "execution_count": 37,
     "metadata": {},
     "output_type": "execute_result"
    }
   ],
   "source": [
    "X_train_scaled[0] #check after scaling"
   ]
  },
  {
   "cell_type": "code",
   "execution_count": 38,
   "id": "7f230ecc",
   "metadata": {},
   "outputs": [
    {
     "data": {
      "text/plain": [
       "array([-0.77179135,  0.1224671 ])"
      ]
     },
     "execution_count": 38,
     "metadata": {},
     "output_type": "execute_result"
    }
   ],
   "source": [
    "q_scaled[0]"
   ]
  },
  {
   "cell_type": "code",
   "execution_count": 39,
   "id": "213225d2",
   "metadata": {},
   "outputs": [
    {
     "data": {
      "image/png": "[encoded data removed]",
      "text/plain": [
       "<Figure size 576x360 with 1 Axes>"
      ]
     },
     "metadata": {
      "needs_background": "light"
     },
     "output_type": "display_data"
    }
   ],
   "source": [
    "#check new scale\n",
    "days = X_train_scaled[:,0] # x\n",
    "prices = X_train_scaled[:,1] # y\n",
    "\n",
    "q_days = q_scaled[0,0]\n",
    "q_price = q_scaled[0,1]\n",
    "\n",
    "plt.figure(figsize=(8,5))\n",
    "plt.scatter(days, prices, color='green')\n",
    "\n",
    "plt.scatter(q_days, q_price,color='black')\n",
    "plt.annotate('q',(q_days+0.03, q_price))\n",
    "\n",
    "plt.title(\"H&M\")\n",
    "plt.xlabel(\"Days\")\n",
    "plt.ylabel(\"Prices\")\n",
    "plt.grid()\n",
    "#plt.legend(handles=[red_patch, blue_patch],loc=4)\n",
    "for i, txt in enumerate(names):\n",
    "    plt.annotate(txt[0:4], (days[i]+0.09, prices[i]))"
   ]
  },
  {
   "cell_type": "markdown",
   "id": "3879d8c3",
   "metadata": {},
   "source": [
    "# Train a KNN Model on Sample"
   ]
  },
  {
   "cell_type": "code",
   "execution_count": 40,
   "id": "a98212e3",
   "metadata": {},
   "outputs": [
    {
     "data": {
      "text/plain": [
       "NearestNeighbors(n_neighbors=12, radius=0.4)"
      ]
     },
     "execution_count": 40,
     "metadata": {},
     "output_type": "execute_result"
    }
   ],
   "source": [
    "knn_model = NearestNeighbors(n_neighbors=12, radius=0.4)\n",
    "knn_model.fit(X_train_scaled)"
   ]
  },
  {
   "cell_type": "markdown",
   "id": "af34d34f",
   "metadata": {},
   "source": [
    "# Predict with KNN Model"
   ]
  },
  {
   "cell_type": "code",
   "execution_count": 41,
   "id": "1015d4d0",
   "metadata": {},
   "outputs": [],
   "source": [
    "#get neighbours' names where k=12\n",
    "result = knn_model.kneighbors(q_scaled, 12)[1][0]#requre 12 nearest neighbors to our query"
   ]
  },
  {
   "cell_type": "code",
   "execution_count": 42,
   "id": "74bec7c4",
   "metadata": {},
   "outputs": [
    {
     "name": "stdout",
     "output_type": "stream",
     "text": [
      "83\n",
      "35\n",
      "82\n",
      "52\n",
      "77\n",
      "68\n",
      "78\n",
      "10\n",
      "74\n",
      "51\n",
      "21\n",
      "72\n"
     ]
    }
   ],
   "source": [
    "#result #array([43, 74, 50, 26, 57, 56, 47, 37, 77, 32, 82, 16], dtype=int64)\n",
    "for n in result:\n",
    "    print(n)"
   ]
  },
  {
   "cell_type": "code",
   "execution_count": 43,
   "id": "8ca07169",
   "metadata": {},
   "outputs": [
    {
     "name": "stdout",
     "output_type": "stream",
     "text": [
      "PRODUCT: 904736002\n",
      "Wide belt with a round metal buckle.\n",
      " \n",
      "PRODUCT: 754238007\n",
      "Sports bra in fast-drying functional fabric. Lined front with removable inserts, a racer back and a wide elasticated hem. Extra firm support.\n",
      " \n",
      "PRODUCT: 843380004\n",
      "Small shoulder bag in woven fabric with imitation leather details. Zip at the top and a detachable, adjustable fabric shoulder strap. One zipped outer compartment and one inner compartment. Lined. Depth 6.5 cm, height 12.5 cm, width 19 cm.\n",
      " \n",
      "PRODUCT: 909925004\n",
      "Top in soft, organic cotton sweatshirt fabric with a round neckline, dropped shoulders and long sleeves. Ribbing around the neckline, cuffs and hem.\n",
      " \n",
      "PRODUCT: 863583002\n",
      "Round-necked jumper in a soft, rib-knit cotton blend. Relaxed fit with dropped shoulders, long, wide sleeves and a straight hem.\n",
      " \n",
      "PRODUCT: 909924002\n",
      "Trousers in soft, organic cotton sweatshirt fabric with elastication and a concealed drawstring at the waist, discreet pockets in the side seams and elasticated hems. Soft brushed inside.\n",
      " \n",
      "PRODUCT: 674606068\n",
      "Short, A-line skirt with a high waist and buttons down the front.\n",
      " \n",
      "PRODUCT: 730683050\n",
      "Sports tights in fast-drying functional fabric with a high waist and wide waistband to hold in and shape the waist. Sculpting seams at the back that showcase the body’s physique. Concealed key pocket in the waistband.\n",
      " \n",
      "PRODUCT: 914441001\n",
      "Ankle-length jeggings in soft, stretch denim with worn details. Extra-high waist, zip fly and button, fake front pockets, real back pockets and skinny legs.\n",
      " \n",
      "PRODUCT: 723930001\n",
      "Metal watch with an adjustable fastening. Diameter of face 3 cm, width of links 1.5 cm, length of bracelet 23 cm.\n",
      " \n",
      "PRODUCT: 760084015\n",
      "Ankle-length trousers in cotton twill with a high, elasticated waist, side pockets, flap leg pockets and tapered legs with elastication at the hems.\n",
      " \n",
      "PRODUCT: 761406005\n",
      "Jumper in a soft knit with a ribbed polo neck, dropped shoulders, long sleeves and ribbing at the cuffs and hem. Slightly longer at the back.\n",
      " \n"
     ]
    }
   ],
   "source": [
    "# result contains the 'index' of the nearest neighbours\n",
    "for n in result:\n",
    "    cus = y_train[n]\n",
    "    trans = sample_df.query('customer_id.str.contains(\"'+ cus + '\")')\n",
    "    p = trans.article_id.values\n",
    "    p = str(p[0])\n",
    "    item = articles_df.query('article_id.str.contains(\"'+ p + '\")')\n",
    "    print(\"PRODUCT: \" + str(p))\n",
    "    print(item.iloc[0][4])\n",
    "    print(\" \")"
   ]
  },
  {
   "cell_type": "markdown",
   "id": "b2329201",
   "metadata": {},
   "source": [
    "# Evaluate Model on Sample"
   ]
  },
  {
   "cell_type": "code",
   "execution_count": 44,
   "id": "92844807",
   "metadata": {},
   "outputs": [],
   "source": [
    "names = y_test\n",
    "y_pred = []\n",
    "\n",
    "X_test_scaled = scaler.transform(X_test)\n",
    "\n",
    "knn_model.fit(X_test_scaled)\n",
    "pred_cus = knn_model.kneighbors(X_test_scaled, len(y_test))[1][0]\n",
    "#print(y_test[pred_cus])\n",
    "y_pred = y_test[pred_cus]"
   ]
  },
  {
   "cell_type": "code",
   "execution_count": 45,
   "id": "0b25820e",
   "metadata": {},
   "outputs": [
    {
     "name": "stdout",
     "output_type": "stream",
     "text": [
      "['fc10bbb6285657a5635181830909a30ae8c61f0b7e45c87f08f183e18fcae49c'\n",
      " 'd0921143dd2b4c3da2be14fa8d5bbe3a7e1988df74e5abf2d83e4564c25405e6'\n",
      " 'b7ee81e0836144fdd92bde3dc2f7cf5060f8de5eb761f3f1b72b0f3ad17bc175'\n",
      " 'd0c86f56f29b6820df30d05c95c38917ec844f699e80509d1c920fbd1b2f97c7'\n",
      " '6de7905fa29c91c3bb92b71b2e5aa8b497d6d5b25b6f07288bbf2457f115c061'\n",
      " 'bf86e70fa996cb886d413400b4b192bac8709f7131d01ce97d5916018e621d0a'\n",
      " 'd3bdf5f94b4f6119a895d6fbf982c4fe3a988e0097d4d8c5d83d15065e72826c'\n",
      " '9e18c1d733123393843dbd4b4522bec0fa18562938c886ae98cd784fd1a241cb'\n",
      " 'f5267bf9f9323261e870852c99e74495a36944d36e2ef028a2570d9d011490d8'\n",
      " 'a0d31ef0a9a1864c4a39571b7e7f73e593e6e3e7be88c211c6fcfa7b5b4c373d'\n",
      " 'f0deb9f0724a31c6ce08e282b1061b3a2948e2aefd8751e98021da7b45052b5c'\n",
      " 'd2f1cc944bc16695a914a295ac03a6d6cc99180219beb2b422793792456ef617'\n",
      " 'b12201d9b10dbd17af5678dd4fc5c74089f3f9c251f67d9c43a9a72e6f0bda3b'\n",
      " 'e43c29bfc284871206aa12cabf032e846dde451fc13228508bedc5cdd4a93150'\n",
      " '5dc52cf061cd132ee0b5e0e67e2ef22b24c89f2ccd6c47501ad3e060bdf2abd2'\n",
      " '4061d21530a753bb13242f44154b75b83c653dba9d95a520f6e1d275947d2316']\n"
     ]
    }
   ],
   "source": [
    "print(y_test)"
   ]
  },
  {
   "cell_type": "code",
   "execution_count": 46,
   "id": "60ec251b",
   "metadata": {
    "scrolled": false
   },
   "outputs": [
    {
     "name": "stdout",
     "output_type": "stream",
     "text": [
      "['fc10bbb6285657a5635181830909a30ae8c61f0b7e45c87f08f183e18fcae49c'\n",
      " 'e43c29bfc284871206aa12cabf032e846dde451fc13228508bedc5cdd4a93150'\n",
      " 'd0921143dd2b4c3da2be14fa8d5bbe3a7e1988df74e5abf2d83e4564c25405e6'\n",
      " 'd3bdf5f94b4f6119a895d6fbf982c4fe3a988e0097d4d8c5d83d15065e72826c'\n",
      " 'd2f1cc944bc16695a914a295ac03a6d6cc99180219beb2b422793792456ef617'\n",
      " '5dc52cf061cd132ee0b5e0e67e2ef22b24c89f2ccd6c47501ad3e060bdf2abd2'\n",
      " '9e18c1d733123393843dbd4b4522bec0fa18562938c886ae98cd784fd1a241cb'\n",
      " 'a0d31ef0a9a1864c4a39571b7e7f73e593e6e3e7be88c211c6fcfa7b5b4c373d'\n",
      " 'd0c86f56f29b6820df30d05c95c38917ec844f699e80509d1c920fbd1b2f97c7'\n",
      " '4061d21530a753bb13242f44154b75b83c653dba9d95a520f6e1d275947d2316'\n",
      " 'f5267bf9f9323261e870852c99e74495a36944d36e2ef028a2570d9d011490d8'\n",
      " 'f0deb9f0724a31c6ce08e282b1061b3a2948e2aefd8751e98021da7b45052b5c'\n",
      " 'b7ee81e0836144fdd92bde3dc2f7cf5060f8de5eb761f3f1b72b0f3ad17bc175'\n",
      " 'bf86e70fa996cb886d413400b4b192bac8709f7131d01ce97d5916018e621d0a'\n",
      " '6de7905fa29c91c3bb92b71b2e5aa8b497d6d5b25b6f07288bbf2457f115c061'\n",
      " 'b12201d9b10dbd17af5678dd4fc5c74089f3f9c251f67d9c43a9a72e6f0bda3b']\n"
     ]
    }
   ],
   "source": [
    "print(y_pred)"
   ]
  },
  {
   "cell_type": "code",
   "execution_count": 47,
   "id": "e0f3b82f",
   "metadata": {},
   "outputs": [
    {
     "data": {
      "text/plain": [
       "0.0625"
      ]
     },
     "execution_count": 47,
     "metadata": {},
     "output_type": "execute_result"
    }
   ],
   "source": [
    "precision_score(y_test, y_pred, average='micro')"
   ]
  },
  {
   "cell_type": "code",
   "execution_count": 48,
   "id": "397743d7",
   "metadata": {},
   "outputs": [
    {
     "data": {
      "text/plain": [
       "0.0625"
      ]
     },
     "execution_count": 48,
     "metadata": {},
     "output_type": "execute_result"
    }
   ],
   "source": [
    "accuracy_score(y_test, y_pred)"
   ]
  },
  {
   "cell_type": "markdown",
   "id": "18f14e26",
   "metadata": {},
   "source": [
    "# Generate Predictions File"
   ]
  },
  {
   "cell_type": "markdown",
   "id": "790579bf",
   "metadata": {},
   "source": [
    "### Prepare Customer Dataset"
   ]
  },
  {
   "cell_type": "markdown",
   "id": "6f518981",
   "metadata": {},
   "source": [
    "H&M are expecting about 1,371,980 prediction rows, we will only have 1,362,281 because 9,699 customers have not purchased anything yet.\n",
    "\n",
    "Originally we were going to generate a list of missing customers, determine their demographics and match to those who have made transactions then use their values to fill the missing. This however was computationally expensive."
   ]
  },
  {
   "cell_type": "code",
   "execution_count": 49,
   "id": "7e663357",
   "metadata": {},
   "outputs": [
    {
     "data": {
      "text/plain": [
       "1371980"
      ]
     },
     "execution_count": 49,
     "metadata": {},
     "output_type": "execute_result"
    }
   ],
   "source": [
    "customers_df['customer_id'].size"
   ]
  },
  {
   "cell_type": "code",
   "execution_count": 50,
   "id": "50025a0e",
   "metadata": {},
   "outputs": [],
   "source": [
    "cus_pred_df = transactions_train_df.groupby(transactions_train_df.customer_id)[['day','price']].median()"
   ]
  },
  {
   "cell_type": "code",
   "execution_count": 51,
   "id": "50b79633",
   "metadata": {},
   "outputs": [
    {
     "name": "stdout",
     "output_type": "stream",
     "text": [
      "<class 'pandas.core.frame.DataFrame'>\n",
      "Index: 1362281 entries, 00000dbacae5abe5e23885899a1fa44253a17956c6d1c3d25f88aa139fdfc657 to ffffd9ac14e89946416d80e791d064701994755c3ab686a1eaf3458c36f52241\n",
      "Data columns (total 2 columns):\n",
      " #   Column  Non-Null Count    Dtype  \n",
      "---  ------  --------------    -----  \n",
      " 0   day     1362281 non-null  float64\n",
      " 1   price   1362281 non-null  float64\n",
      "dtypes: float64(2)\n",
      "memory usage: 31.2+ MB\n"
     ]
    }
   ],
   "source": [
    "cus_pred_df.info()"
   ]
  },
  {
   "cell_type": "code",
   "execution_count": 52,
   "id": "f1ca5d96",
   "metadata": {},
   "outputs": [
    {
     "data": {
      "text/plain": [
       "1362281"
      ]
     },
     "execution_count": 52,
     "metadata": {},
     "output_type": "execute_result"
    }
   ],
   "source": [
    "cus_pred_df['day'].size #we set articles column to index"
   ]
  },
  {
   "cell_type": "code",
   "execution_count": 53,
   "id": "b92ffa51",
   "metadata": {},
   "outputs": [],
   "source": [
    "cus_pred_df['customer_id'] = cus_pred_df.index"
   ]
  },
  {
   "cell_type": "code",
   "execution_count": 54,
   "id": "fd96e77f",
   "metadata": {},
   "outputs": [],
   "source": [
    "cus_pred_df = cus_pred_df.reset_index(drop=True)"
   ]
  },
  {
   "cell_type": "code",
   "execution_count": 55,
   "id": "7e45dc04",
   "metadata": {},
   "outputs": [],
   "source": [
    "cus_pred_df = cus_pred_df[['customer_id', 'day', 'price']]"
   ]
  },
  {
   "cell_type": "code",
   "execution_count": 56,
   "id": "080735dc",
   "metadata": {},
   "outputs": [
    {
     "data": {
      "text/html": [
       "<div>\n",
       "<style scoped>\n",
       "    .dataframe tbody tr th:only-of-type {\n",
       "        vertical-align: middle;\n",
       "    }\n",
       "\n",
       "    .dataframe tbody tr th {\n",
       "        vertical-align: top;\n",
       "    }\n",
       "\n",
       "    .dataframe thead th {\n",
       "        text-align: right;\n",
       "    }\n",
       "</style>\n",
       "<table border=\"1\" class=\"dataframe\">\n",
       "  <thead>\n",
       "    <tr style=\"text-align: right;\">\n",
       "      <th></th>\n",
       "      <th>customer_id</th>\n",
       "      <th>day</th>\n",
       "      <th>price</th>\n",
       "    </tr>\n",
       "  </thead>\n",
       "  <tbody>\n",
       "    <tr>\n",
       "      <th>0</th>\n",
       "      <td>00000dbacae5abe5e23885899a1fa44253a17956c6d1c3...</td>\n",
       "      <td>25.0</td>\n",
       "      <td>0.030492</td>\n",
       "    </tr>\n",
       "    <tr>\n",
       "      <th>1</th>\n",
       "      <td>0000423b00ade91418cceaf3b26c6af3dd342b51fd051e...</td>\n",
       "      <td>21.0</td>\n",
       "      <td>0.025407</td>\n",
       "    </tr>\n",
       "    <tr>\n",
       "      <th>2</th>\n",
       "      <td>000058a12d5b43e67d225668fa1f8d618c13dc232df0ca...</td>\n",
       "      <td>18.0</td>\n",
       "      <td>0.033881</td>\n",
       "    </tr>\n",
       "    <tr>\n",
       "      <th>3</th>\n",
       "      <td>00005ca1c9ed5f5146b52ac8639a40ca9d57aeff4d1bd2...</td>\n",
       "      <td>9.0</td>\n",
       "      <td>0.030492</td>\n",
       "    </tr>\n",
       "    <tr>\n",
       "      <th>4</th>\n",
       "      <td>00006413d8573cd20ed7128e53b7b13819fe5cfc2d801f...</td>\n",
       "      <td>9.0</td>\n",
       "      <td>0.033881</td>\n",
       "    </tr>\n",
       "  </tbody>\n",
       "</table>\n",
       "</div>"
      ],
      "text/plain": [
       "                                         customer_id   day     price\n",
       "0  00000dbacae5abe5e23885899a1fa44253a17956c6d1c3...  25.0  0.030492\n",
       "1  0000423b00ade91418cceaf3b26c6af3dd342b51fd051e...  21.0  0.025407\n",
       "2  000058a12d5b43e67d225668fa1f8d618c13dc232df0ca...  18.0  0.033881\n",
       "3  00005ca1c9ed5f5146b52ac8639a40ca9d57aeff4d1bd2...   9.0  0.030492\n",
       "4  00006413d8573cd20ed7128e53b7b13819fe5cfc2d801f...   9.0  0.033881"
      ]
     },
     "execution_count": 56,
     "metadata": {},
     "output_type": "execute_result"
    }
   ],
   "source": [
    "cus_pred_df.head()"
   ]
  },
  {
   "cell_type": "code",
   "execution_count": 57,
   "id": "f451c20b",
   "metadata": {},
   "outputs": [],
   "source": [
    "non_transaction_customers_df = customers_df[~customers_df['customer_id'].isin(cus_pred_df['customer_id'])]"
   ]
  },
  {
   "cell_type": "code",
   "execution_count": 58,
   "id": "7167de6f",
   "metadata": {},
   "outputs": [
    {
     "name": "stderr",
     "output_type": "stream",
     "text": [
      "C:\\Users\\newlo\\AppData\\Local\\Temp\\ipykernel_5528\\3592874415.py:1: SettingWithCopyWarning: \n",
      "A value is trying to be set on a copy of a slice from a DataFrame.\n",
      "Try using .loc[row_indexer,col_indexer] = value instead\n",
      "\n",
      "See the caveats in the documentation: https://pandas.pydata.org/pandas-docs/stable/user_guide/indexing.html#returning-a-view-versus-a-copy\n",
      "  non_transaction_customers_df['day'] = 0\n"
     ]
    }
   ],
   "source": [
    "non_transaction_customers_df['day'] = 0"
   ]
  },
  {
   "cell_type": "code",
   "execution_count": 59,
   "id": "591720a3",
   "metadata": {
    "scrolled": true
   },
   "outputs": [
    {
     "name": "stderr",
     "output_type": "stream",
     "text": [
      "C:\\Users\\newlo\\AppData\\Local\\Temp\\ipykernel_5528\\2901366215.py:1: SettingWithCopyWarning: \n",
      "A value is trying to be set on a copy of a slice from a DataFrame.\n",
      "Try using .loc[row_indexer,col_indexer] = value instead\n",
      "\n",
      "See the caveats in the documentation: https://pandas.pydata.org/pandas-docs/stable/user_guide/indexing.html#returning-a-view-versus-a-copy\n",
      "  non_transaction_customers_df['price'] = 0.0\n"
     ]
    }
   ],
   "source": [
    "non_transaction_customers_df['price'] = 0.0"
   ]
  },
  {
   "cell_type": "code",
   "execution_count": 60,
   "id": "44d4b195",
   "metadata": {},
   "outputs": [],
   "source": [
    "non_transaction_customers_df = non_transaction_customers_df.drop(['FN', 'Active', 'club_member_status', 'fashion_news_frequency', 'age', 'postal_code'], axis=1)\n",
    "\n",
    "#we now reorganise the dataset to treat articles as the predictor\n",
    "non_transaction_customers_df = non_transaction_customers_df[['customer_id', 'day', 'price']]"
   ]
  },
  {
   "cell_type": "code",
   "execution_count": 61,
   "id": "9e69d006",
   "metadata": {},
   "outputs": [
    {
     "data": {
      "text/plain": [
       "9699"
      ]
     },
     "execution_count": 61,
     "metadata": {},
     "output_type": "execute_result"
    }
   ],
   "source": [
    "non_transaction_customers_df['customer_id'].size"
   ]
  },
  {
   "cell_type": "code",
   "execution_count": 62,
   "id": "550fc538",
   "metadata": {},
   "outputs": [],
   "source": [
    "non_transaction_customers_df = non_transaction_customers_df.reset_index(drop=True)"
   ]
  },
  {
   "cell_type": "code",
   "execution_count": 63,
   "id": "05954dc0",
   "metadata": {},
   "outputs": [
    {
     "data": {
      "text/html": [
       "<div>\n",
       "<style scoped>\n",
       "    .dataframe tbody tr th:only-of-type {\n",
       "        vertical-align: middle;\n",
       "    }\n",
       "\n",
       "    .dataframe tbody tr th {\n",
       "        vertical-align: top;\n",
       "    }\n",
       "\n",
       "    .dataframe thead th {\n",
       "        text-align: right;\n",
       "    }\n",
       "</style>\n",
       "<table border=\"1\" class=\"dataframe\">\n",
       "  <thead>\n",
       "    <tr style=\"text-align: right;\">\n",
       "      <th></th>\n",
       "      <th>customer_id</th>\n",
       "      <th>day</th>\n",
       "      <th>price</th>\n",
       "    </tr>\n",
       "  </thead>\n",
       "  <tbody>\n",
       "    <tr>\n",
       "      <th>0</th>\n",
       "      <td>00058ecf091cea1bba9d800cabac6ed1ae284202cdab68...</td>\n",
       "      <td>0</td>\n",
       "      <td>0.0</td>\n",
       "    </tr>\n",
       "    <tr>\n",
       "      <th>1</th>\n",
       "      <td>000df4d2084d142416b8165bdd249bab8fea2393447aed...</td>\n",
       "      <td>0</td>\n",
       "      <td>0.0</td>\n",
       "    </tr>\n",
       "    <tr>\n",
       "      <th>2</th>\n",
       "      <td>00193ff7f374dbcfecfa7fead0488e454be4918bec1ebd...</td>\n",
       "      <td>0</td>\n",
       "      <td>0.0</td>\n",
       "    </tr>\n",
       "    <tr>\n",
       "      <th>3</th>\n",
       "      <td>001f00e8c1eba437ff0dbad26a9a3d49e47cbf05fff02a...</td>\n",
       "      <td>0</td>\n",
       "      <td>0.0</td>\n",
       "    </tr>\n",
       "    <tr>\n",
       "      <th>4</th>\n",
       "      <td>002648d8f3b288531b24860f4a68a31d029ec5a0495c04...</td>\n",
       "      <td>0</td>\n",
       "      <td>0.0</td>\n",
       "    </tr>\n",
       "  </tbody>\n",
       "</table>\n",
       "</div>"
      ],
      "text/plain": [
       "                                         customer_id  day  price\n",
       "0  00058ecf091cea1bba9d800cabac6ed1ae284202cdab68...    0    0.0\n",
       "1  000df4d2084d142416b8165bdd249bab8fea2393447aed...    0    0.0\n",
       "2  00193ff7f374dbcfecfa7fead0488e454be4918bec1ebd...    0    0.0\n",
       "3  001f00e8c1eba437ff0dbad26a9a3d49e47cbf05fff02a...    0    0.0\n",
       "4  002648d8f3b288531b24860f4a68a31d029ec5a0495c04...    0    0.0"
      ]
     },
     "execution_count": 63,
     "metadata": {},
     "output_type": "execute_result"
    }
   ],
   "source": [
    "non_transaction_customers_df.head()"
   ]
  },
  {
   "cell_type": "code",
   "execution_count": 64,
   "id": "b82c6fd1",
   "metadata": {
    "scrolled": true
   },
   "outputs": [
    {
     "name": "stderr",
     "output_type": "stream",
     "text": [
      "C:\\Users\\newlo\\AppData\\Local\\Temp\\ipykernel_5528\\935700407.py:1: FutureWarning: The frame.append method is deprecated and will be removed from pandas in a future version. Use pandas.concat instead.\n",
      "  cus_pred_df = cus_pred_df.append(non_transaction_customers_df)\n"
     ]
    }
   ],
   "source": [
    "cus_pred_df = cus_pred_df.append(non_transaction_customers_df)"
   ]
  },
  {
   "cell_type": "code",
   "execution_count": 124,
   "id": "cf77cea1",
   "metadata": {},
   "outputs": [
    {
     "data": {
      "text/plain": [
       "14152"
      ]
     },
     "execution_count": 124,
     "metadata": {},
     "output_type": "execute_result"
    }
   ],
   "source": [
    "del(customers_df) #delete dataframe\n",
    "gc.collect() #collect garbage"
   ]
  },
  {
   "cell_type": "code",
   "execution_count": 65,
   "id": "afe0a0c6",
   "metadata": {
    "scrolled": true
   },
   "outputs": [
    {
     "data": {
      "text/html": [
       "<div>\n",
       "<style scoped>\n",
       "    .dataframe tbody tr th:only-of-type {\n",
       "        vertical-align: middle;\n",
       "    }\n",
       "\n",
       "    .dataframe tbody tr th {\n",
       "        vertical-align: top;\n",
       "    }\n",
       "\n",
       "    .dataframe thead th {\n",
       "        text-align: right;\n",
       "    }\n",
       "</style>\n",
       "<table border=\"1\" class=\"dataframe\">\n",
       "  <thead>\n",
       "    <tr style=\"text-align: right;\">\n",
       "      <th></th>\n",
       "      <th>customer_id</th>\n",
       "      <th>day</th>\n",
       "      <th>price</th>\n",
       "    </tr>\n",
       "  </thead>\n",
       "  <tbody>\n",
       "    <tr>\n",
       "      <th>9694</th>\n",
       "      <td>ffe5801cb2a5b51d4d068322d7f8082e995f427a6f22a6...</td>\n",
       "      <td>0.0</td>\n",
       "      <td>0.0</td>\n",
       "    </tr>\n",
       "    <tr>\n",
       "      <th>9695</th>\n",
       "      <td>ffeb3ca867aba57a312fe9d28d67dd46ef2240fe92a94c...</td>\n",
       "      <td>0.0</td>\n",
       "      <td>0.0</td>\n",
       "    </tr>\n",
       "    <tr>\n",
       "      <th>9696</th>\n",
       "      <td>fff456fa60aac9174456c2f36ede5e0f25429a16c88a34...</td>\n",
       "      <td>0.0</td>\n",
       "      <td>0.0</td>\n",
       "    </tr>\n",
       "    <tr>\n",
       "      <th>9697</th>\n",
       "      <td>fffa8d3cea26d4f5186472b923629b35fa28051f258030...</td>\n",
       "      <td>0.0</td>\n",
       "      <td>0.0</td>\n",
       "    </tr>\n",
       "    <tr>\n",
       "      <th>9698</th>\n",
       "      <td>ffff01710b4f0d558ff62d7dc00f0641065b37e840bb43...</td>\n",
       "      <td>0.0</td>\n",
       "      <td>0.0</td>\n",
       "    </tr>\n",
       "  </tbody>\n",
       "</table>\n",
       "</div>"
      ],
      "text/plain": [
       "                                            customer_id  day  price\n",
       "9694  ffe5801cb2a5b51d4d068322d7f8082e995f427a6f22a6...  0.0    0.0\n",
       "9695  ffeb3ca867aba57a312fe9d28d67dd46ef2240fe92a94c...  0.0    0.0\n",
       "9696  fff456fa60aac9174456c2f36ede5e0f25429a16c88a34...  0.0    0.0\n",
       "9697  fffa8d3cea26d4f5186472b923629b35fa28051f258030...  0.0    0.0\n",
       "9698  ffff01710b4f0d558ff62d7dc00f0641065b37e840bb43...  0.0    0.0"
      ]
     },
     "execution_count": 65,
     "metadata": {},
     "output_type": "execute_result"
    }
   ],
   "source": [
    "cus_pred_df.tail()"
   ]
  },
  {
   "cell_type": "code",
   "execution_count": 66,
   "id": "c89649ef",
   "metadata": {},
   "outputs": [
    {
     "data": {
      "text/html": [
       "<div>\n",
       "<style scoped>\n",
       "    .dataframe tbody tr th:only-of-type {\n",
       "        vertical-align: middle;\n",
       "    }\n",
       "\n",
       "    .dataframe tbody tr th {\n",
       "        vertical-align: top;\n",
       "    }\n",
       "\n",
       "    .dataframe thead th {\n",
       "        text-align: right;\n",
       "    }\n",
       "</style>\n",
       "<table border=\"1\" class=\"dataframe\">\n",
       "  <thead>\n",
       "    <tr style=\"text-align: right;\">\n",
       "      <th></th>\n",
       "      <th>day</th>\n",
       "      <th>price</th>\n",
       "    </tr>\n",
       "    <tr>\n",
       "      <th>customer_id</th>\n",
       "      <th></th>\n",
       "      <th></th>\n",
       "    </tr>\n",
       "  </thead>\n",
       "  <tbody>\n",
       "    <tr>\n",
       "      <th>00000dbacae5abe5e23885899a1fa44253a17956c6d1c3d25f88aa139fdfc657</th>\n",
       "      <td>25.0</td>\n",
       "      <td>0.030492</td>\n",
       "    </tr>\n",
       "    <tr>\n",
       "      <th>0000423b00ade91418cceaf3b26c6af3dd342b51fd051eec9c12fb36984420fa</th>\n",
       "      <td>21.0</td>\n",
       "      <td>0.025407</td>\n",
       "    </tr>\n",
       "    <tr>\n",
       "      <th>000058a12d5b43e67d225668fa1f8d618c13dc232df0cad8ffe7ad4a1091e318</th>\n",
       "      <td>18.0</td>\n",
       "      <td>0.033881</td>\n",
       "    </tr>\n",
       "    <tr>\n",
       "      <th>00005ca1c9ed5f5146b52ac8639a40ca9d57aeff4d1bd2c5feb1ca5dff07c43e</th>\n",
       "      <td>9.0</td>\n",
       "      <td>0.030492</td>\n",
       "    </tr>\n",
       "    <tr>\n",
       "      <th>00006413d8573cd20ed7128e53b7b13819fe5cfc2d801fe7fc0f26dd8d65a85a</th>\n",
       "      <td>9.0</td>\n",
       "      <td>0.033881</td>\n",
       "    </tr>\n",
       "    <tr>\n",
       "      <th>...</th>\n",
       "      <td>...</td>\n",
       "      <td>...</td>\n",
       "    </tr>\n",
       "    <tr>\n",
       "      <th>ffe5801cb2a5b51d4d068322d7f8082e995f427a6f22a6f471e773a29a27a3d0</th>\n",
       "      <td>0.0</td>\n",
       "      <td>0.000000</td>\n",
       "    </tr>\n",
       "    <tr>\n",
       "      <th>ffeb3ca867aba57a312fe9d28d67dd46ef2240fe92a94c434a0debd1902c386a</th>\n",
       "      <td>0.0</td>\n",
       "      <td>0.000000</td>\n",
       "    </tr>\n",
       "    <tr>\n",
       "      <th>fff456fa60aac9174456c2f36ede5e0f25429a16c88a346dfb99333eb604cd6f</th>\n",
       "      <td>0.0</td>\n",
       "      <td>0.000000</td>\n",
       "    </tr>\n",
       "    <tr>\n",
       "      <th>fffa8d3cea26d4f5186472b923629b35fa28051f25803084f9fb0b0b7b3fc0eb</th>\n",
       "      <td>0.0</td>\n",
       "      <td>0.000000</td>\n",
       "    </tr>\n",
       "    <tr>\n",
       "      <th>ffff01710b4f0d558ff62d7dc00f0641065b37e840bb43bd852afccb08f2bbd2</th>\n",
       "      <td>0.0</td>\n",
       "      <td>0.000000</td>\n",
       "    </tr>\n",
       "  </tbody>\n",
       "</table>\n",
       "<p>1371980 rows × 2 columns</p>\n",
       "</div>"
      ],
      "text/plain": [
       "                                                     day     price\n",
       "customer_id                                                       \n",
       "00000dbacae5abe5e23885899a1fa44253a17956c6d1c3d...  25.0  0.030492\n",
       "0000423b00ade91418cceaf3b26c6af3dd342b51fd051ee...  21.0  0.025407\n",
       "000058a12d5b43e67d225668fa1f8d618c13dc232df0cad...  18.0  0.033881\n",
       "00005ca1c9ed5f5146b52ac8639a40ca9d57aeff4d1bd2c...   9.0  0.030492\n",
       "00006413d8573cd20ed7128e53b7b13819fe5cfc2d801fe...   9.0  0.033881\n",
       "...                                                  ...       ...\n",
       "ffe5801cb2a5b51d4d068322d7f8082e995f427a6f22a6f...   0.0  0.000000\n",
       "ffeb3ca867aba57a312fe9d28d67dd46ef2240fe92a94c4...   0.0  0.000000\n",
       "fff456fa60aac9174456c2f36ede5e0f25429a16c88a346...   0.0  0.000000\n",
       "fffa8d3cea26d4f5186472b923629b35fa28051f2580308...   0.0  0.000000\n",
       "ffff01710b4f0d558ff62d7dc00f0641065b37e840bb43b...   0.0  0.000000\n",
       "\n",
       "[1371980 rows x 2 columns]"
      ]
     },
     "execution_count": 66,
     "metadata": {},
     "output_type": "execute_result"
    }
   ],
   "source": [
    "#we set articles column to index\n",
    "cus_pred_df.set_index('customer_id')"
   ]
  },
  {
   "cell_type": "markdown",
   "id": "840e82c9",
   "metadata": {},
   "source": [
    "### Check Missing Values"
   ]
  },
  {
   "cell_type": "code",
   "execution_count": 67,
   "id": "b045cd67",
   "metadata": {
    "scrolled": true
   },
   "outputs": [
    {
     "name": "stdout",
     "output_type": "stream",
     "text": [
      "(1371980, 3)\n",
      "0       0\n",
      "1       0\n",
      "2       0\n",
      "3       0\n",
      "4       0\n",
      "       ..\n",
      "9694    2\n",
      "9695    2\n",
      "9696    2\n",
      "9697    2\n",
      "9698    2\n",
      "Length: 1371980, dtype: int64\n"
     ]
    }
   ],
   "source": [
    "missing = cus_pred_df.isin([0]).sum(axis=1)\n",
    "print(cus_pred_df.shape)\n",
    "print(missing)"
   ]
  },
  {
   "cell_type": "markdown",
   "id": "87828adc",
   "metadata": {},
   "source": [
    "### Fix Missing / Zero Values"
   ]
  },
  {
   "cell_type": "raw",
   "id": "54a5ddea",
   "metadata": {},
   "source": [
    "#replace minus sign in text and check result of dataset after imputing missing values\n",
    "#cus_pred_df.columns = cus_pred_df.columns.str.replace('-', '')\n",
    "cus_pred_df.head()"
   ]
  },
  {
   "cell_type": "code",
   "execution_count": 68,
   "id": "659c54f4",
   "metadata": {},
   "outputs": [],
   "source": [
    "cus_pred_df['day'] = cus_pred_df['day'].replace(0, cus_pred_df['day'].median())"
   ]
  },
  {
   "cell_type": "code",
   "execution_count": 69,
   "id": "a8fe753d",
   "metadata": {},
   "outputs": [],
   "source": [
    "cus_pred_df['price'] = cus_pred_df['price'].replace(0, cus_pred_df['price'].median())"
   ]
  },
  {
   "cell_type": "code",
   "execution_count": 70,
   "id": "c106642b",
   "metadata": {
    "scrolled": false
   },
   "outputs": [
    {
     "name": "stdout",
     "output_type": "stream",
     "text": [
      "(1371980, 3)\n",
      "0       0\n",
      "1       0\n",
      "2       0\n",
      "3       0\n",
      "4       0\n",
      "       ..\n",
      "9694    0\n",
      "9695    0\n",
      "9696    0\n",
      "9697    0\n",
      "9698    0\n",
      "Length: 1371980, dtype: int64\n"
     ]
    }
   ],
   "source": [
    "missing = cus_pred_df.isin([0]).sum(axis=1)\n",
    "print(cus_pred_df.shape)\n",
    "print(missing)"
   ]
  },
  {
   "cell_type": "code",
   "execution_count": 71,
   "id": "93cf64cd",
   "metadata": {
    "scrolled": false
   },
   "outputs": [
    {
     "data": {
      "text/html": [
       "<div>\n",
       "<style scoped>\n",
       "    .dataframe tbody tr th:only-of-type {\n",
       "        vertical-align: middle;\n",
       "    }\n",
       "\n",
       "    .dataframe tbody tr th {\n",
       "        vertical-align: top;\n",
       "    }\n",
       "\n",
       "    .dataframe thead th {\n",
       "        text-align: right;\n",
       "    }\n",
       "</style>\n",
       "<table border=\"1\" class=\"dataframe\">\n",
       "  <thead>\n",
       "    <tr style=\"text-align: right;\">\n",
       "      <th></th>\n",
       "      <th>customer_id</th>\n",
       "      <th>day</th>\n",
       "      <th>price</th>\n",
       "    </tr>\n",
       "  </thead>\n",
       "  <tbody>\n",
       "    <tr>\n",
       "      <th>9694</th>\n",
       "      <td>ffe5801cb2a5b51d4d068322d7f8082e995f427a6f22a6...</td>\n",
       "      <td>17.0</td>\n",
       "      <td>0.025407</td>\n",
       "    </tr>\n",
       "    <tr>\n",
       "      <th>9695</th>\n",
       "      <td>ffeb3ca867aba57a312fe9d28d67dd46ef2240fe92a94c...</td>\n",
       "      <td>17.0</td>\n",
       "      <td>0.025407</td>\n",
       "    </tr>\n",
       "    <tr>\n",
       "      <th>9696</th>\n",
       "      <td>fff456fa60aac9174456c2f36ede5e0f25429a16c88a34...</td>\n",
       "      <td>17.0</td>\n",
       "      <td>0.025407</td>\n",
       "    </tr>\n",
       "    <tr>\n",
       "      <th>9697</th>\n",
       "      <td>fffa8d3cea26d4f5186472b923629b35fa28051f258030...</td>\n",
       "      <td>17.0</td>\n",
       "      <td>0.025407</td>\n",
       "    </tr>\n",
       "    <tr>\n",
       "      <th>9698</th>\n",
       "      <td>ffff01710b4f0d558ff62d7dc00f0641065b37e840bb43...</td>\n",
       "      <td>17.0</td>\n",
       "      <td>0.025407</td>\n",
       "    </tr>\n",
       "  </tbody>\n",
       "</table>\n",
       "</div>"
      ],
      "text/plain": [
       "                                            customer_id   day     price\n",
       "9694  ffe5801cb2a5b51d4d068322d7f8082e995f427a6f22a6...  17.0  0.025407\n",
       "9695  ffeb3ca867aba57a312fe9d28d67dd46ef2240fe92a94c...  17.0  0.025407\n",
       "9696  fff456fa60aac9174456c2f36ede5e0f25429a16c88a34...  17.0  0.025407\n",
       "9697  fffa8d3cea26d4f5186472b923629b35fa28051f258030...  17.0  0.025407\n",
       "9698  ffff01710b4f0d558ff62d7dc00f0641065b37e840bb43...  17.0  0.025407"
      ]
     },
     "execution_count": 71,
     "metadata": {},
     "output_type": "execute_result"
    }
   ],
   "source": [
    "cus_pred_df.tail()"
   ]
  },
  {
   "cell_type": "code",
   "execution_count": 79,
   "id": "bb44ae75",
   "metadata": {},
   "outputs": [],
   "source": [
    "s = cus_pred_df.values"
   ]
  },
  {
   "cell_type": "markdown",
   "id": "b9cd7633",
   "metadata": {},
   "source": [
    "### File generation function"
   ]
  },
  {
   "cell_type": "code",
   "execution_count": 119,
   "id": "70d53eb3",
   "metadata": {},
   "outputs": [],
   "source": [
    "#H&M Collaborative KNN Model Based Recommendation System\n",
    "def generate_prediction_file(r_model, cus_df, write_file):  \n",
    "    #get values\n",
    "    X = cus_df.values\n",
    "\n",
    "    y = X[:,0]\n",
    "    names = y\n",
    "    \n",
    "    X = X[:,1:] # day and price\n",
    "\n",
    "    \n",
    "  \n",
    "    #write_file = \"ros_predictions.csv\"\n",
    "    with open(write_file, \"wt\", encoding=\"utf-8\") as output:\n",
    "        #add headers first\n",
    "        output.write(\"customer_id, prediction\" + '\\n')\n",
    "        \n",
    "        #now we loop through each row and write predictions to csv file\n",
    "        for index, cus in cus_df.iterrows():\n",
    "            #select day and price and convert them to np array\n",
    "            q_cus = np.array([cus['day'],cus['price']], dtype=float) #cus[3:5]\n",
    "            \n",
    "            #normalise data\n",
    "            q_cus_scaled = scaler.transform([q_cus])\n",
    "\n",
    "            #get neighbours' names where k=12\n",
    "            result = r_model.kneighbors(q_cus_scaled, 12)[1][0]\n",
    "            \n",
    "            #create prediction csv file\n",
    "            r = []\n",
    "            r.append(cus.customer_id + \",\")\n",
    "            for n in result:\n",
    "                c = names[n] \n",
    "                trans = transactions_train_df.query('customer_id.str.contains(\"'+ c + '\")')\n",
    "                p = trans.article_id.values\n",
    "                r.append(\"0\" + str(p[0]))\n",
    "                prediction =  ' '.join(r)\n",
    "            #write predictions to csv file\n",
    "            output.write(prediction + '\\n')\n",
    "            clear_output(wait=True)\n",
    "            display('Processed Row: ' + str(index))"
   ]
  },
  {
   "cell_type": "markdown",
   "id": "7602f2b0",
   "metadata": {},
   "source": [
    "### Generate the file"
   ]
  },
  {
   "cell_type": "code",
   "execution_count": 120,
   "id": "062928c4",
   "metadata": {},
   "outputs": [
    {
     "ename": "KeyboardInterrupt",
     "evalue": "",
     "output_type": "error",
     "traceback": [
      "\u001b[1;31m---------------------------------------------------------------------------\u001b[0m",
      "\u001b[1;31mKeyboardInterrupt\u001b[0m                         Traceback (most recent call last)",
      "Input \u001b[1;32mIn [120]\u001b[0m, in \u001b[0;36m<cell line: 2>\u001b[1;34m()\u001b[0m\n\u001b[0;32m      1\u001b[0m \u001b[38;5;66;03m#we now generate our intial predictions list and save it as a csv file\u001b[39;00m\n\u001b[1;32m----> 2\u001b[0m \u001b[43mgenerate_prediction_file\u001b[49m\u001b[43m(\u001b[49m\u001b[43mknn_model\u001b[49m\u001b[43m,\u001b[49m\u001b[43m \u001b[49m\u001b[43mcus_pred_df\u001b[49m\u001b[43m,\u001b[49m\u001b[43m \u001b[49m\u001b[38;5;124;43m\"\u001b[39;49m\u001b[38;5;124;43mdata/ros_predictions5.csv\u001b[39;49m\u001b[38;5;124;43m\"\u001b[39;49m\u001b[43m)\u001b[49m\n",
      "Input \u001b[1;32mIn [119]\u001b[0m, in \u001b[0;36mgenerate_prediction_file\u001b[1;34m(r_model, cus_df, write_file)\u001b[0m\n\u001b[0;32m     32\u001b[0m \u001b[38;5;28;01mfor\u001b[39;00m n \u001b[38;5;129;01min\u001b[39;00m result:\n\u001b[0;32m     33\u001b[0m     c \u001b[38;5;241m=\u001b[39m names[n] \n\u001b[1;32m---> 34\u001b[0m     trans \u001b[38;5;241m=\u001b[39m \u001b[43mtransactions_train_df\u001b[49m\u001b[38;5;241;43m.\u001b[39;49m\u001b[43mquery\u001b[49m\u001b[43m(\u001b[49m\u001b[38;5;124;43m'\u001b[39;49m\u001b[38;5;124;43mcustomer_id.str.contains(\u001b[39;49m\u001b[38;5;124;43m\"\u001b[39;49m\u001b[38;5;124;43m'\u001b[39;49m\u001b[38;5;241;43m+\u001b[39;49m\u001b[43m \u001b[49m\u001b[43mc\u001b[49m\u001b[43m \u001b[49m\u001b[38;5;241;43m+\u001b[39;49m\u001b[43m \u001b[49m\u001b[38;5;124;43m'\u001b[39;49m\u001b[38;5;124;43m\"\u001b[39;49m\u001b[38;5;124;43m)\u001b[39;49m\u001b[38;5;124;43m'\u001b[39;49m\u001b[43m)\u001b[49m\n\u001b[0;32m     35\u001b[0m     p \u001b[38;5;241m=\u001b[39m trans\u001b[38;5;241m.\u001b[39marticle_id\u001b[38;5;241m.\u001b[39mvalues\n\u001b[0;32m     36\u001b[0m     r\u001b[38;5;241m.\u001b[39mappend(\u001b[38;5;124m\"\u001b[39m\u001b[38;5;124m0\u001b[39m\u001b[38;5;124m\"\u001b[39m \u001b[38;5;241m+\u001b[39m \u001b[38;5;28mstr\u001b[39m(p[\u001b[38;5;241m0\u001b[39m]))\n",
      "File \u001b[1;32md:\\projects\\tudublin\\tu060\\machine learning\\venv\\lib\\site-packages\\pandas\\core\\frame.py:4111\u001b[0m, in \u001b[0;36mDataFrame.query\u001b[1;34m(self, expr, inplace, **kwargs)\u001b[0m\n\u001b[0;32m   4109\u001b[0m kwargs[\u001b[38;5;124m\"\u001b[39m\u001b[38;5;124mlevel\u001b[39m\u001b[38;5;124m\"\u001b[39m] \u001b[38;5;241m=\u001b[39m kwargs\u001b[38;5;241m.\u001b[39mpop(\u001b[38;5;124m\"\u001b[39m\u001b[38;5;124mlevel\u001b[39m\u001b[38;5;124m\"\u001b[39m, \u001b[38;5;241m0\u001b[39m) \u001b[38;5;241m+\u001b[39m \u001b[38;5;241m1\u001b[39m\n\u001b[0;32m   4110\u001b[0m kwargs[\u001b[38;5;124m\"\u001b[39m\u001b[38;5;124mtarget\u001b[39m\u001b[38;5;124m\"\u001b[39m] \u001b[38;5;241m=\u001b[39m \u001b[38;5;28;01mNone\u001b[39;00m\n\u001b[1;32m-> 4111\u001b[0m res \u001b[38;5;241m=\u001b[39m \u001b[38;5;28;43mself\u001b[39;49m\u001b[38;5;241;43m.\u001b[39;49m\u001b[43meval\u001b[49m\u001b[43m(\u001b[49m\u001b[43mexpr\u001b[49m\u001b[43m,\u001b[49m\u001b[43m \u001b[49m\u001b[38;5;241;43m*\u001b[39;49m\u001b[38;5;241;43m*\u001b[39;49m\u001b[43mkwargs\u001b[49m\u001b[43m)\u001b[49m\n\u001b[0;32m   4113\u001b[0m \u001b[38;5;28;01mtry\u001b[39;00m:\n\u001b[0;32m   4114\u001b[0m     result \u001b[38;5;241m=\u001b[39m \u001b[38;5;28mself\u001b[39m\u001b[38;5;241m.\u001b[39mloc[res]\n",
      "File \u001b[1;32md:\\projects\\tudublin\\tu060\\machine learning\\venv\\lib\\site-packages\\pandas\\core\\frame.py:4240\u001b[0m, in \u001b[0;36mDataFrame.eval\u001b[1;34m(self, expr, inplace, **kwargs)\u001b[0m\n\u001b[0;32m   4237\u001b[0m     kwargs[\u001b[38;5;124m\"\u001b[39m\u001b[38;5;124mtarget\u001b[39m\u001b[38;5;124m\"\u001b[39m] \u001b[38;5;241m=\u001b[39m \u001b[38;5;28mself\u001b[39m\n\u001b[0;32m   4238\u001b[0m kwargs[\u001b[38;5;124m\"\u001b[39m\u001b[38;5;124mresolvers\u001b[39m\u001b[38;5;124m\"\u001b[39m] \u001b[38;5;241m=\u001b[39m \u001b[38;5;28mtuple\u001b[39m(kwargs\u001b[38;5;241m.\u001b[39mget(\u001b[38;5;124m\"\u001b[39m\u001b[38;5;124mresolvers\u001b[39m\u001b[38;5;124m\"\u001b[39m, ())) \u001b[38;5;241m+\u001b[39m resolvers\n\u001b[1;32m-> 4240\u001b[0m \u001b[38;5;28;01mreturn\u001b[39;00m \u001b[43m_eval\u001b[49m\u001b[43m(\u001b[49m\u001b[43mexpr\u001b[49m\u001b[43m,\u001b[49m\u001b[43m \u001b[49m\u001b[43minplace\u001b[49m\u001b[38;5;241;43m=\u001b[39;49m\u001b[43minplace\u001b[49m\u001b[43m,\u001b[49m\u001b[43m \u001b[49m\u001b[38;5;241;43m*\u001b[39;49m\u001b[38;5;241;43m*\u001b[39;49m\u001b[43mkwargs\u001b[49m\u001b[43m)\u001b[49m\n",
      "File \u001b[1;32md:\\projects\\tudublin\\tu060\\machine learning\\venv\\lib\\site-packages\\pandas\\core\\computation\\eval.py:350\u001b[0m, in \u001b[0;36meval\u001b[1;34m(expr, parser, engine, truediv, local_dict, global_dict, resolvers, level, target, inplace)\u001b[0m\n\u001b[0;32m    341\u001b[0m \u001b[38;5;66;03m# get our (possibly passed-in) scope\u001b[39;00m\n\u001b[0;32m    342\u001b[0m env \u001b[38;5;241m=\u001b[39m ensure_scope(\n\u001b[0;32m    343\u001b[0m     level \u001b[38;5;241m+\u001b[39m \u001b[38;5;241m1\u001b[39m,\n\u001b[0;32m    344\u001b[0m     global_dict\u001b[38;5;241m=\u001b[39mglobal_dict,\n\u001b[1;32m   (...)\u001b[0m\n\u001b[0;32m    347\u001b[0m     target\u001b[38;5;241m=\u001b[39mtarget,\n\u001b[0;32m    348\u001b[0m )\n\u001b[1;32m--> 350\u001b[0m parsed_expr \u001b[38;5;241m=\u001b[39m \u001b[43mExpr\u001b[49m\u001b[43m(\u001b[49m\u001b[43mexpr\u001b[49m\u001b[43m,\u001b[49m\u001b[43m \u001b[49m\u001b[43mengine\u001b[49m\u001b[38;5;241;43m=\u001b[39;49m\u001b[43mengine\u001b[49m\u001b[43m,\u001b[49m\u001b[43m \u001b[49m\u001b[43mparser\u001b[49m\u001b[38;5;241;43m=\u001b[39;49m\u001b[43mparser\u001b[49m\u001b[43m,\u001b[49m\u001b[43m \u001b[49m\u001b[43menv\u001b[49m\u001b[38;5;241;43m=\u001b[39;49m\u001b[43menv\u001b[49m\u001b[43m)\u001b[49m\n\u001b[0;32m    352\u001b[0m \u001b[38;5;66;03m# construct the engine and evaluate the parsed expression\u001b[39;00m\n\u001b[0;32m    353\u001b[0m eng \u001b[38;5;241m=\u001b[39m ENGINES[engine]\n",
      "File \u001b[1;32md:\\projects\\tudublin\\tu060\\machine learning\\venv\\lib\\site-packages\\pandas\\core\\computation\\expr.py:811\u001b[0m, in \u001b[0;36mExpr.__init__\u001b[1;34m(self, expr, engine, parser, env, level)\u001b[0m\n\u001b[0;32m    809\u001b[0m \u001b[38;5;28mself\u001b[39m\u001b[38;5;241m.\u001b[39mparser \u001b[38;5;241m=\u001b[39m parser\n\u001b[0;32m    810\u001b[0m \u001b[38;5;28mself\u001b[39m\u001b[38;5;241m.\u001b[39m_visitor \u001b[38;5;241m=\u001b[39m PARSERS[parser](\u001b[38;5;28mself\u001b[39m\u001b[38;5;241m.\u001b[39menv, \u001b[38;5;28mself\u001b[39m\u001b[38;5;241m.\u001b[39mengine, \u001b[38;5;28mself\u001b[39m\u001b[38;5;241m.\u001b[39mparser)\n\u001b[1;32m--> 811\u001b[0m \u001b[38;5;28mself\u001b[39m\u001b[38;5;241m.\u001b[39mterms \u001b[38;5;241m=\u001b[39m \u001b[38;5;28;43mself\u001b[39;49m\u001b[38;5;241;43m.\u001b[39;49m\u001b[43mparse\u001b[49m\u001b[43m(\u001b[49m\u001b[43m)\u001b[49m\n",
      "File \u001b[1;32md:\\projects\\tudublin\\tu060\\machine learning\\venv\\lib\\site-packages\\pandas\\core\\computation\\expr.py:830\u001b[0m, in \u001b[0;36mExpr.parse\u001b[1;34m(self)\u001b[0m\n\u001b[0;32m    826\u001b[0m \u001b[38;5;28;01mdef\u001b[39;00m \u001b[38;5;21mparse\u001b[39m(\u001b[38;5;28mself\u001b[39m):\n\u001b[0;32m    827\u001b[0m     \u001b[38;5;124;03m\"\"\"\u001b[39;00m\n\u001b[0;32m    828\u001b[0m \u001b[38;5;124;03m    Parse an expression.\u001b[39;00m\n\u001b[0;32m    829\u001b[0m \u001b[38;5;124;03m    \"\"\"\u001b[39;00m\n\u001b[1;32m--> 830\u001b[0m     \u001b[38;5;28;01mreturn\u001b[39;00m \u001b[38;5;28;43mself\u001b[39;49m\u001b[38;5;241;43m.\u001b[39;49m\u001b[43m_visitor\u001b[49m\u001b[38;5;241;43m.\u001b[39;49m\u001b[43mvisit\u001b[49m\u001b[43m(\u001b[49m\u001b[38;5;28;43mself\u001b[39;49m\u001b[38;5;241;43m.\u001b[39;49m\u001b[43mexpr\u001b[49m\u001b[43m)\u001b[49m\n",
      "File \u001b[1;32md:\\projects\\tudublin\\tu060\\machine learning\\venv\\lib\\site-packages\\pandas\\core\\computation\\expr.py:415\u001b[0m, in \u001b[0;36mBaseExprVisitor.visit\u001b[1;34m(self, node, **kwargs)\u001b[0m\n\u001b[0;32m    413\u001b[0m method \u001b[38;5;241m=\u001b[39m \u001b[38;5;124m\"\u001b[39m\u001b[38;5;124mvisit_\u001b[39m\u001b[38;5;124m\"\u001b[39m \u001b[38;5;241m+\u001b[39m \u001b[38;5;28mtype\u001b[39m(node)\u001b[38;5;241m.\u001b[39m\u001b[38;5;18m__name__\u001b[39m\n\u001b[0;32m    414\u001b[0m visitor \u001b[38;5;241m=\u001b[39m \u001b[38;5;28mgetattr\u001b[39m(\u001b[38;5;28mself\u001b[39m, method)\n\u001b[1;32m--> 415\u001b[0m \u001b[38;5;28;01mreturn\u001b[39;00m \u001b[43mvisitor\u001b[49m\u001b[43m(\u001b[49m\u001b[43mnode\u001b[49m\u001b[43m,\u001b[49m\u001b[43m \u001b[49m\u001b[38;5;241;43m*\u001b[39;49m\u001b[38;5;241;43m*\u001b[39;49m\u001b[43mkwargs\u001b[49m\u001b[43m)\u001b[49m\n",
      "File \u001b[1;32md:\\projects\\tudublin\\tu060\\machine learning\\venv\\lib\\site-packages\\pandas\\core\\computation\\expr.py:421\u001b[0m, in \u001b[0;36mBaseExprVisitor.visit_Module\u001b[1;34m(self, node, **kwargs)\u001b[0m\n\u001b[0;32m    419\u001b[0m     \u001b[38;5;28;01mraise\u001b[39;00m \u001b[38;5;167;01mSyntaxError\u001b[39;00m(\u001b[38;5;124m\"\u001b[39m\u001b[38;5;124monly a single expression is allowed\u001b[39m\u001b[38;5;124m\"\u001b[39m)\n\u001b[0;32m    420\u001b[0m expr \u001b[38;5;241m=\u001b[39m node\u001b[38;5;241m.\u001b[39mbody[\u001b[38;5;241m0\u001b[39m]\n\u001b[1;32m--> 421\u001b[0m \u001b[38;5;28;01mreturn\u001b[39;00m \u001b[38;5;28;43mself\u001b[39;49m\u001b[38;5;241;43m.\u001b[39;49m\u001b[43mvisit\u001b[49m\u001b[43m(\u001b[49m\u001b[43mexpr\u001b[49m\u001b[43m,\u001b[49m\u001b[43m \u001b[49m\u001b[38;5;241;43m*\u001b[39;49m\u001b[38;5;241;43m*\u001b[39;49m\u001b[43mkwargs\u001b[49m\u001b[43m)\u001b[49m\n",
      "File \u001b[1;32md:\\projects\\tudublin\\tu060\\machine learning\\venv\\lib\\site-packages\\pandas\\core\\computation\\expr.py:415\u001b[0m, in \u001b[0;36mBaseExprVisitor.visit\u001b[1;34m(self, node, **kwargs)\u001b[0m\n\u001b[0;32m    413\u001b[0m method \u001b[38;5;241m=\u001b[39m \u001b[38;5;124m\"\u001b[39m\u001b[38;5;124mvisit_\u001b[39m\u001b[38;5;124m\"\u001b[39m \u001b[38;5;241m+\u001b[39m \u001b[38;5;28mtype\u001b[39m(node)\u001b[38;5;241m.\u001b[39m\u001b[38;5;18m__name__\u001b[39m\n\u001b[0;32m    414\u001b[0m visitor \u001b[38;5;241m=\u001b[39m \u001b[38;5;28mgetattr\u001b[39m(\u001b[38;5;28mself\u001b[39m, method)\n\u001b[1;32m--> 415\u001b[0m \u001b[38;5;28;01mreturn\u001b[39;00m \u001b[43mvisitor\u001b[49m\u001b[43m(\u001b[49m\u001b[43mnode\u001b[49m\u001b[43m,\u001b[49m\u001b[43m \u001b[49m\u001b[38;5;241;43m*\u001b[39;49m\u001b[38;5;241;43m*\u001b[39;49m\u001b[43mkwargs\u001b[49m\u001b[43m)\u001b[49m\n",
      "File \u001b[1;32md:\\projects\\tudublin\\tu060\\machine learning\\venv\\lib\\site-packages\\pandas\\core\\computation\\expr.py:424\u001b[0m, in \u001b[0;36mBaseExprVisitor.visit_Expr\u001b[1;34m(self, node, **kwargs)\u001b[0m\n\u001b[0;32m    423\u001b[0m \u001b[38;5;28;01mdef\u001b[39;00m \u001b[38;5;21mvisit_Expr\u001b[39m(\u001b[38;5;28mself\u001b[39m, node, \u001b[38;5;241m*\u001b[39m\u001b[38;5;241m*\u001b[39mkwargs):\n\u001b[1;32m--> 424\u001b[0m     \u001b[38;5;28;01mreturn\u001b[39;00m \u001b[38;5;28;43mself\u001b[39;49m\u001b[38;5;241;43m.\u001b[39;49m\u001b[43mvisit\u001b[49m\u001b[43m(\u001b[49m\u001b[43mnode\u001b[49m\u001b[38;5;241;43m.\u001b[39;49m\u001b[43mvalue\u001b[49m\u001b[43m,\u001b[49m\u001b[43m \u001b[49m\u001b[38;5;241;43m*\u001b[39;49m\u001b[38;5;241;43m*\u001b[39;49m\u001b[43mkwargs\u001b[49m\u001b[43m)\u001b[49m\n",
      "File \u001b[1;32md:\\projects\\tudublin\\tu060\\machine learning\\venv\\lib\\site-packages\\pandas\\core\\computation\\expr.py:415\u001b[0m, in \u001b[0;36mBaseExprVisitor.visit\u001b[1;34m(self, node, **kwargs)\u001b[0m\n\u001b[0;32m    413\u001b[0m method \u001b[38;5;241m=\u001b[39m \u001b[38;5;124m\"\u001b[39m\u001b[38;5;124mvisit_\u001b[39m\u001b[38;5;124m\"\u001b[39m \u001b[38;5;241m+\u001b[39m \u001b[38;5;28mtype\u001b[39m(node)\u001b[38;5;241m.\u001b[39m\u001b[38;5;18m__name__\u001b[39m\n\u001b[0;32m    414\u001b[0m visitor \u001b[38;5;241m=\u001b[39m \u001b[38;5;28mgetattr\u001b[39m(\u001b[38;5;28mself\u001b[39m, method)\n\u001b[1;32m--> 415\u001b[0m \u001b[38;5;28;01mreturn\u001b[39;00m \u001b[43mvisitor\u001b[49m\u001b[43m(\u001b[49m\u001b[43mnode\u001b[49m\u001b[43m,\u001b[49m\u001b[43m \u001b[49m\u001b[38;5;241;43m*\u001b[39;49m\u001b[38;5;241;43m*\u001b[39;49m\u001b[43mkwargs\u001b[49m\u001b[43m)\u001b[49m\n",
      "File \u001b[1;32md:\\projects\\tudublin\\tu060\\machine learning\\venv\\lib\\site-packages\\pandas\\core\\computation\\expr.py:709\u001b[0m, in \u001b[0;36mBaseExprVisitor.visit_Call\u001b[1;34m(self, node, side, **kwargs)\u001b[0m\n\u001b[0;32m    706\u001b[0m     \u001b[38;5;28;01mif\u001b[39;00m key\u001b[38;5;241m.\u001b[39marg:\n\u001b[0;32m    707\u001b[0m         kwargs[key\u001b[38;5;241m.\u001b[39marg] \u001b[38;5;241m=\u001b[39m \u001b[38;5;28mself\u001b[39m\u001b[38;5;241m.\u001b[39mvisit(key\u001b[38;5;241m.\u001b[39mvalue)\u001b[38;5;241m.\u001b[39mvalue\n\u001b[1;32m--> 709\u001b[0m name \u001b[38;5;241m=\u001b[39m \u001b[38;5;28mself\u001b[39m\u001b[38;5;241m.\u001b[39menv\u001b[38;5;241m.\u001b[39madd_tmp(\u001b[43mres\u001b[49m\u001b[43m(\u001b[49m\u001b[38;5;241;43m*\u001b[39;49m\u001b[43mnew_args\u001b[49m\u001b[43m,\u001b[49m\u001b[43m \u001b[49m\u001b[38;5;241;43m*\u001b[39;49m\u001b[38;5;241;43m*\u001b[39;49m\u001b[43mkwargs\u001b[49m\u001b[43m)\u001b[49m)\n\u001b[0;32m    710\u001b[0m \u001b[38;5;28;01mreturn\u001b[39;00m \u001b[38;5;28mself\u001b[39m\u001b[38;5;241m.\u001b[39mterm_type(name\u001b[38;5;241m=\u001b[39mname, env\u001b[38;5;241m=\u001b[39m\u001b[38;5;28mself\u001b[39m\u001b[38;5;241m.\u001b[39menv)\n",
      "File \u001b[1;32md:\\projects\\tudublin\\tu060\\machine learning\\venv\\lib\\site-packages\\pandas\\core\\strings\\accessor.py:125\u001b[0m, in \u001b[0;36mforbid_nonstring_types.<locals>._forbid_nonstring_types.<locals>.wrapper\u001b[1;34m(self, *args, **kwargs)\u001b[0m\n\u001b[0;32m    120\u001b[0m     msg \u001b[38;5;241m=\u001b[39m (\n\u001b[0;32m    121\u001b[0m         \u001b[38;5;124mf\u001b[39m\u001b[38;5;124m\"\u001b[39m\u001b[38;5;124mCannot use .str.\u001b[39m\u001b[38;5;132;01m{\u001b[39;00mfunc_name\u001b[38;5;132;01m}\u001b[39;00m\u001b[38;5;124m with values of \u001b[39m\u001b[38;5;124m\"\u001b[39m\n\u001b[0;32m    122\u001b[0m         \u001b[38;5;124mf\u001b[39m\u001b[38;5;124m\"\u001b[39m\u001b[38;5;124minferred dtype \u001b[39m\u001b[38;5;124m'\u001b[39m\u001b[38;5;132;01m{\u001b[39;00m\u001b[38;5;28mself\u001b[39m\u001b[38;5;241m.\u001b[39m_inferred_dtype\u001b[38;5;132;01m}\u001b[39;00m\u001b[38;5;124m'\u001b[39m\u001b[38;5;124m.\u001b[39m\u001b[38;5;124m\"\u001b[39m\n\u001b[0;32m    123\u001b[0m     )\n\u001b[0;32m    124\u001b[0m     \u001b[38;5;28;01mraise\u001b[39;00m \u001b[38;5;167;01mTypeError\u001b[39;00m(msg)\n\u001b[1;32m--> 125\u001b[0m \u001b[38;5;28;01mreturn\u001b[39;00m \u001b[43mfunc\u001b[49m\u001b[43m(\u001b[49m\u001b[38;5;28;43mself\u001b[39;49m\u001b[43m,\u001b[49m\u001b[43m \u001b[49m\u001b[38;5;241;43m*\u001b[39;49m\u001b[43margs\u001b[49m\u001b[43m,\u001b[49m\u001b[43m \u001b[49m\u001b[38;5;241;43m*\u001b[39;49m\u001b[38;5;241;43m*\u001b[39;49m\u001b[43mkwargs\u001b[49m\u001b[43m)\u001b[49m\n",
      "File \u001b[1;32md:\\projects\\tudublin\\tu060\\machine learning\\venv\\lib\\site-packages\\pandas\\core\\strings\\accessor.py:1222\u001b[0m, in \u001b[0;36mStringMethods.contains\u001b[1;34m(self, pat, case, flags, na, regex)\u001b[0m\n\u001b[0;32m   1214\u001b[0m \u001b[38;5;28;01mif\u001b[39;00m regex \u001b[38;5;129;01mand\u001b[39;00m re\u001b[38;5;241m.\u001b[39mcompile(pat)\u001b[38;5;241m.\u001b[39mgroups:\n\u001b[0;32m   1215\u001b[0m     warnings\u001b[38;5;241m.\u001b[39mwarn(\n\u001b[0;32m   1216\u001b[0m         \u001b[38;5;124m\"\u001b[39m\u001b[38;5;124mThis pattern is interpreted as a regular expression, and has \u001b[39m\u001b[38;5;124m\"\u001b[39m\n\u001b[0;32m   1217\u001b[0m         \u001b[38;5;124m\"\u001b[39m\u001b[38;5;124mmatch groups. To actually get the groups, use str.extract.\u001b[39m\u001b[38;5;124m\"\u001b[39m,\n\u001b[0;32m   1218\u001b[0m         \u001b[38;5;167;01mUserWarning\u001b[39;00m,\n\u001b[0;32m   1219\u001b[0m         stacklevel\u001b[38;5;241m=\u001b[39mfind_stack_level(),\n\u001b[0;32m   1220\u001b[0m     )\n\u001b[1;32m-> 1222\u001b[0m result \u001b[38;5;241m=\u001b[39m \u001b[38;5;28;43mself\u001b[39;49m\u001b[38;5;241;43m.\u001b[39;49m\u001b[43m_data\u001b[49m\u001b[38;5;241;43m.\u001b[39;49m\u001b[43marray\u001b[49m\u001b[38;5;241;43m.\u001b[39;49m\u001b[43m_str_contains\u001b[49m\u001b[43m(\u001b[49m\u001b[43mpat\u001b[49m\u001b[43m,\u001b[49m\u001b[43m \u001b[49m\u001b[43mcase\u001b[49m\u001b[43m,\u001b[49m\u001b[43m \u001b[49m\u001b[43mflags\u001b[49m\u001b[43m,\u001b[49m\u001b[43m \u001b[49m\u001b[43mna\u001b[49m\u001b[43m,\u001b[49m\u001b[43m \u001b[49m\u001b[43mregex\u001b[49m\u001b[43m)\u001b[49m\n\u001b[0;32m   1223\u001b[0m \u001b[38;5;28;01mreturn\u001b[39;00m \u001b[38;5;28mself\u001b[39m\u001b[38;5;241m.\u001b[39m_wrap_result(result, fill_value\u001b[38;5;241m=\u001b[39mna, returns_string\u001b[38;5;241m=\u001b[39m\u001b[38;5;28;01mFalse\u001b[39;00m)\n",
      "File \u001b[1;32md:\\projects\\tudublin\\tu060\\machine learning\\venv\\lib\\site-packages\\pandas\\core\\strings\\object_array.py:131\u001b[0m, in \u001b[0;36mObjectStringArrayMixin._str_contains\u001b[1;34m(self, pat, case, flags, na, regex)\u001b[0m\n\u001b[0;32m    129\u001b[0m         upper_pat \u001b[38;5;241m=\u001b[39m pat\u001b[38;5;241m.\u001b[39mupper()\n\u001b[0;32m    130\u001b[0m         f \u001b[38;5;241m=\u001b[39m \u001b[38;5;28;01mlambda\u001b[39;00m x: upper_pat \u001b[38;5;129;01min\u001b[39;00m x\u001b[38;5;241m.\u001b[39mupper()\n\u001b[1;32m--> 131\u001b[0m \u001b[38;5;28;01mreturn\u001b[39;00m \u001b[38;5;28;43mself\u001b[39;49m\u001b[38;5;241;43m.\u001b[39;49m\u001b[43m_str_map\u001b[49m\u001b[43m(\u001b[49m\u001b[43mf\u001b[49m\u001b[43m,\u001b[49m\u001b[43m \u001b[49m\u001b[43mna\u001b[49m\u001b[43m,\u001b[49m\u001b[43m \u001b[49m\u001b[43mdtype\u001b[49m\u001b[38;5;241;43m=\u001b[39;49m\u001b[43mnp\u001b[49m\u001b[38;5;241;43m.\u001b[39;49m\u001b[43mdtype\u001b[49m\u001b[43m(\u001b[49m\u001b[38;5;124;43m\"\u001b[39;49m\u001b[38;5;124;43mbool\u001b[39;49m\u001b[38;5;124;43m\"\u001b[39;49m\u001b[43m)\u001b[49m\u001b[43m)\u001b[49m\n",
      "File \u001b[1;32md:\\projects\\tudublin\\tu060\\machine learning\\venv\\lib\\site-packages\\pandas\\core\\strings\\object_array.py:71\u001b[0m, in \u001b[0;36mObjectStringArrayMixin._str_map\u001b[1;34m(self, f, na_value, dtype, convert)\u001b[0m\n\u001b[0;32m     69\u001b[0m map_convert \u001b[38;5;241m=\u001b[39m convert \u001b[38;5;129;01mand\u001b[39;00m \u001b[38;5;129;01mnot\u001b[39;00m np\u001b[38;5;241m.\u001b[39mall(mask)\n\u001b[0;32m     70\u001b[0m \u001b[38;5;28;01mtry\u001b[39;00m:\n\u001b[1;32m---> 71\u001b[0m     result \u001b[38;5;241m=\u001b[39m \u001b[43mlib\u001b[49m\u001b[38;5;241;43m.\u001b[39;49m\u001b[43mmap_infer_mask\u001b[49m\u001b[43m(\u001b[49m\u001b[43marr\u001b[49m\u001b[43m,\u001b[49m\u001b[43m \u001b[49m\u001b[43mf\u001b[49m\u001b[43m,\u001b[49m\u001b[43m \u001b[49m\u001b[43mmask\u001b[49m\u001b[38;5;241;43m.\u001b[39;49m\u001b[43mview\u001b[49m\u001b[43m(\u001b[49m\u001b[43mnp\u001b[49m\u001b[38;5;241;43m.\u001b[39;49m\u001b[43muint8\u001b[49m\u001b[43m)\u001b[49m\u001b[43m,\u001b[49m\u001b[43m \u001b[49m\u001b[43mmap_convert\u001b[49m\u001b[43m)\u001b[49m\n\u001b[0;32m     72\u001b[0m \u001b[38;5;28;01mexcept\u001b[39;00m (\u001b[38;5;167;01mTypeError\u001b[39;00m, \u001b[38;5;167;01mAttributeError\u001b[39;00m) \u001b[38;5;28;01mas\u001b[39;00m err:\n\u001b[0;32m     73\u001b[0m     \u001b[38;5;66;03m# Reraise the exception if callable `f` got wrong number of args.\u001b[39;00m\n\u001b[0;32m     74\u001b[0m     \u001b[38;5;66;03m# The user may want to be warned by this, instead of getting NaN\u001b[39;00m\n\u001b[0;32m     75\u001b[0m     p_err \u001b[38;5;241m=\u001b[39m (\n\u001b[0;32m     76\u001b[0m         \u001b[38;5;124mr\u001b[39m\u001b[38;5;124m\"\u001b[39m\u001b[38;5;124m((takes)|(missing)) (?(2)from \u001b[39m\u001b[38;5;124m\\\u001b[39m\u001b[38;5;124md+ to )?\u001b[39m\u001b[38;5;124m\\\u001b[39m\u001b[38;5;124md+ \u001b[39m\u001b[38;5;124m\"\u001b[39m\n\u001b[0;32m     77\u001b[0m         \u001b[38;5;124mr\u001b[39m\u001b[38;5;124m\"\u001b[39m\u001b[38;5;124m(?(3)required )positional arguments?\u001b[39m\u001b[38;5;124m\"\u001b[39m\n\u001b[0;32m     78\u001b[0m     )\n",
      "File \u001b[1;32md:\\projects\\tudublin\\tu060\\machine learning\\venv\\lib\\site-packages\\pandas\\_libs\\lib.pyx:2822\u001b[0m, in \u001b[0;36mpandas._libs.lib.map_infer_mask\u001b[1;34m()\u001b[0m\n",
      "File \u001b[1;32md:\\projects\\tudublin\\tu060\\machine learning\\venv\\lib\\site-packages\\pandas\\core\\strings\\object_array.py:124\u001b[0m, in \u001b[0;36mObjectStringArrayMixin._str_contains.<locals>.<lambda>\u001b[1;34m(x)\u001b[0m\n\u001b[0;32m    120\u001b[0m         flags \u001b[38;5;241m|\u001b[39m\u001b[38;5;241m=\u001b[39m re\u001b[38;5;241m.\u001b[39mIGNORECASE\n\u001b[0;32m    122\u001b[0m     pat \u001b[38;5;241m=\u001b[39m re\u001b[38;5;241m.\u001b[39mcompile(pat, flags\u001b[38;5;241m=\u001b[39mflags)\n\u001b[1;32m--> 124\u001b[0m     f \u001b[38;5;241m=\u001b[39m \u001b[38;5;28;01mlambda\u001b[39;00m x: \u001b[43mpat\u001b[49m\u001b[38;5;241;43m.\u001b[39;49m\u001b[43msearch\u001b[49m\u001b[43m(\u001b[49m\u001b[43mx\u001b[49m\u001b[43m)\u001b[49m\u001b[43m \u001b[49m\u001b[38;5;129;43;01mis\u001b[39;49;00m\u001b[43m \u001b[49m\u001b[38;5;129;43;01mnot\u001b[39;49;00m\u001b[43m \u001b[49m\u001b[38;5;28;43;01mNone\u001b[39;49;00m\n\u001b[0;32m    125\u001b[0m \u001b[38;5;28;01melse\u001b[39;00m:\n\u001b[0;32m    126\u001b[0m     \u001b[38;5;28;01mif\u001b[39;00m case:\n",
      "\u001b[1;31mKeyboardInterrupt\u001b[0m: "
     ]
    }
   ],
   "source": [
    "#we now generate our intial predictions list and save it as a csv file\n",
    "generate_prediction_file(knn_model, cus_pred_df, \"data/ros_predictions5.csv\")"
   ]
  },
  {
   "cell_type": "markdown",
   "id": "4c48bc46",
   "metadata": {},
   "source": [
    "### Check submission file"
   ]
  },
  {
   "cell_type": "code",
   "execution_count": null,
   "id": "de051749",
   "metadata": {},
   "outputs": [],
   "source": [
    "#inspect our prediction data\n",
    "predictions_df = pd.read_csv(\"data/ros_predictions5.csv\")"
   ]
  },
  {
   "cell_type": "code",
   "execution_count": null,
   "id": "dbe27ae0",
   "metadata": {},
   "outputs": [],
   "source": [
    "predictions_df.head()"
   ]
  },
  {
   "cell_type": "code",
   "execution_count": null,
   "id": "e1925033",
   "metadata": {},
   "outputs": [],
   "source": [
    "predictions_df['customer_id'].size"
   ]
  }
 ],
 "metadata": {
  "kernelspec": {
   "display_name": "Python 3 (ipykernel)",
   "language": "python",
   "name": "python3"
  },
  "language_info": {
   "codemirror_mode": {
    "name": "ipython",
    "version": 3
   },
   "file_extension": ".py",
   "mimetype": "text/x-python",
   "name": "python",
   "nbconvert_exporter": "python",
   "pygments_lexer": "ipython3",
   "version": "3.8.10"
  }
 },
 "nbformat": 4,
 "nbformat_minor": 5
}
