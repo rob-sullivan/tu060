{
 "cells": [
  {
   "cell_type": "markdown",
   "id": "21eb6be9",
   "metadata": {},
   "source": [
    "# H&M Recommender System"
   ]
  },
  {
   "cell_type": "markdown",
   "id": "b4acb857",
   "metadata": {},
   "source": [
    "## Introduction"
   ]
  },
  {
   "cell_type": "markdown",
   "id": "b841e259",
   "metadata": {},
   "source": [
    "H&M Group is a clothing business with 53 online markets and approximately 4,850 stores. They are concerned that customers might not quickly find what interests them or what they are looking for, and ultimately, they might not make a purchase. They want to enhance the shopping experience and help customers make the right choices. They think they can also reduce transportation emissions if they reduce customer returns. H&M want product recommendations based on data from previous transactions, as well as from customer and product meta data.\n",
    "\n",
    "Submissions will be evaluated according to the Mean Average Precision @ 12 (MAP@12). They will make purchase predictions for all customer_id values provided, regardless of whether these customers made purchases in the training data. They explain that customers who did not make any purchase during test period are excluded from the scoring.\n",
    "There is no penalty for using the full 12 predictions for a customer that ordered fewer than 12 items. They encourage to make 12 predictions for each customer.\n",
    "\n",
    "For each customer (customer_id), H&M want a prediction of up to 12 products (article_ids), which is the predicted items a customer will buy in the next 7-day period after the training time period. The file should contain a header and have the following format.\n",
    "\n",
    "H&M are expecting about 1,371,980 prediction rows, we will only have 1,362,281 because 9,699 customers have not purchased anything yet. We will have to make predictions on these customers without knowing their transaction history. We could look for customers with similar demographics but this may be computationally expensive and a big assumption, that similar demographics purchase similar products."
   ]
  },
  {
   "cell_type": "markdown",
   "id": "6f518981",
   "metadata": {},
   "source": [
    "## Importing the libraries"
   ]
  },
  {
   "cell_type": "code",
   "execution_count": 29,
   "id": "bbd31156",
   "metadata": {},
   "outputs": [],
   "source": [
    "import pandas as pd\n",
    "import numpy as np"
   ]
  },
  {
   "cell_type": "code",
   "execution_count": 30,
   "id": "a3ab935f",
   "metadata": {},
   "outputs": [],
   "source": [
    "#used during data exploration\n",
    "import matplotlib.pyplot as plt\n",
    "import matplotlib.patches as mpatches"
   ]
  },
  {
   "cell_type": "code",
   "execution_count": 31,
   "id": "012b9e03",
   "metadata": {},
   "outputs": [],
   "source": [
    "#working with datetime feature\n",
    "from datetime import datetime"
   ]
  },
  {
   "cell_type": "code",
   "execution_count": 32,
   "id": "c072dea5",
   "metadata": {},
   "outputs": [],
   "source": [
    "#handling missing values where not dropped\n",
    "from sklearn.impute import SimpleImputer\n",
    "\n",
    "from sklearn import preprocessing\n",
    "from sklearn.neighbors import KNeighborsClassifier\n",
    "\n",
    "from IPython.display import display, clear_output"
   ]
  },
  {
   "cell_type": "code",
   "execution_count": 33,
   "id": "54905caf",
   "metadata": {},
   "outputs": [],
   "source": [
    "#for evaluating our model\n",
    "from sklearn.metrics import confusion_matrix, accuracy_score, precision_score"
   ]
  },
  {
   "cell_type": "markdown",
   "id": "811fac61",
   "metadata": {},
   "source": [
    "## Importing the dataset"
   ]
  },
  {
   "cell_type": "code",
   "execution_count": 34,
   "id": "8a307ab7",
   "metadata": {},
   "outputs": [],
   "source": [
    "#get transaction data\n",
    "transactions_train_df = pd.read_csv(\"data/transactions_train.csv\") # import the transactions dataset"
   ]
  },
  {
   "cell_type": "code",
   "execution_count": 35,
   "id": "f3dfedea",
   "metadata": {},
   "outputs": [],
   "source": [
    "#get product meta data\n",
    "articles_df = pd.read_csv(\"data/articles.csv\")"
   ]
  },
  {
   "cell_type": "code",
   "execution_count": 36,
   "id": "35b7c0d5",
   "metadata": {},
   "outputs": [],
   "source": [
    "#get customer meta data\n",
    "customers_df = pd.read_csv(\"data/customers.csv\")"
   ]
  },
  {
   "cell_type": "markdown",
   "id": "15117a70",
   "metadata": {},
   "source": [
    "## Exploratory Data Analysis & Dataset Preparation"
   ]
  },
  {
   "cell_type": "markdown",
   "id": "76ddb5c6",
   "metadata": {},
   "source": [
    "In this section we first looked at what data was available, it's distribution, what was missing and what opportunities were available to reduce the number of features or dimensions in our dataset. Secondly we determined what models could work well with the data, finally we looked to fix any missing values or encoding categorical variables where needed.\n",
    "\n",
    "An exploritory data analysis was conducted already by various other kaggle contestants such as (Karpov, 2022). Their analysis was reviewed as part of this workbook in order to reduce this EDA section and allow us to focus on model building, prediction and evaluation. \n",
    "\n",
    "Data available consisted of images of every product, detailed metadata of every product, detailed metadata of every customer and purchase details for customers who bought products. These will be refered to as images,articles,customers and transactions respectively. Although it is assumed that images are an important part of how customers decide on the products they purchase, due to the data size and limited processing power, they will not be used here."
   ]
  },
  {
   "cell_type": "code",
   "execution_count": 37,
   "id": "c1f07d99",
   "metadata": {},
   "outputs": [
    {
     "data": {
      "text/html": [
       "<div>\n",
       "<style scoped>\n",
       "    .dataframe tbody tr th:only-of-type {\n",
       "        vertical-align: middle;\n",
       "    }\n",
       "\n",
       "    .dataframe tbody tr th {\n",
       "        vertical-align: top;\n",
       "    }\n",
       "\n",
       "    .dataframe thead th {\n",
       "        text-align: right;\n",
       "    }\n",
       "</style>\n",
       "<table border=\"1\" class=\"dataframe\">\n",
       "  <thead>\n",
       "    <tr style=\"text-align: right;\">\n",
       "      <th></th>\n",
       "      <th>t_dat</th>\n",
       "      <th>customer_id</th>\n",
       "      <th>article_id</th>\n",
       "      <th>price</th>\n",
       "      <th>sales_channel_id</th>\n",
       "    </tr>\n",
       "  </thead>\n",
       "  <tbody>\n",
       "    <tr>\n",
       "      <th>0</th>\n",
       "      <td>2018-09-20</td>\n",
       "      <td>000058a12d5b43e67d225668fa1f8d618c13dc232df0ca...</td>\n",
       "      <td>663713001</td>\n",
       "      <td>0.050831</td>\n",
       "      <td>2</td>\n",
       "    </tr>\n",
       "    <tr>\n",
       "      <th>1</th>\n",
       "      <td>2018-09-20</td>\n",
       "      <td>000058a12d5b43e67d225668fa1f8d618c13dc232df0ca...</td>\n",
       "      <td>541518023</td>\n",
       "      <td>0.030492</td>\n",
       "      <td>2</td>\n",
       "    </tr>\n",
       "    <tr>\n",
       "      <th>2</th>\n",
       "      <td>2018-09-20</td>\n",
       "      <td>00007d2de826758b65a93dd24ce629ed66842531df6699...</td>\n",
       "      <td>505221004</td>\n",
       "      <td>0.015237</td>\n",
       "      <td>2</td>\n",
       "    </tr>\n",
       "  </tbody>\n",
       "</table>\n",
       "</div>"
      ],
      "text/plain": [
       "        t_dat                                        customer_id  article_id  \\\n",
       "0  2018-09-20  000058a12d5b43e67d225668fa1f8d618c13dc232df0ca...   663713001   \n",
       "1  2018-09-20  000058a12d5b43e67d225668fa1f8d618c13dc232df0ca...   541518023   \n",
       "2  2018-09-20  00007d2de826758b65a93dd24ce629ed66842531df6699...   505221004   \n",
       "\n",
       "      price  sales_channel_id  \n",
       "0  0.050831                 2  \n",
       "1  0.030492                 2  \n",
       "2  0.015237                 2  "
      ]
     },
     "execution_count": 37,
     "metadata": {},
     "output_type": "execute_result"
    }
   ],
   "source": [
    "transactions_train_df.head(3)"
   ]
  },
  {
   "cell_type": "code",
   "execution_count": 38,
   "id": "4909276f",
   "metadata": {},
   "outputs": [
    {
     "data": {
      "text/html": [
       "<div>\n",
       "<style scoped>\n",
       "    .dataframe tbody tr th:only-of-type {\n",
       "        vertical-align: middle;\n",
       "    }\n",
       "\n",
       "    .dataframe tbody tr th {\n",
       "        vertical-align: top;\n",
       "    }\n",
       "\n",
       "    .dataframe thead th {\n",
       "        text-align: right;\n",
       "    }\n",
       "</style>\n",
       "<table border=\"1\" class=\"dataframe\">\n",
       "  <thead>\n",
       "    <tr style=\"text-align: right;\">\n",
       "      <th></th>\n",
       "      <th>customer_id</th>\n",
       "      <th>FN</th>\n",
       "      <th>Active</th>\n",
       "      <th>club_member_status</th>\n",
       "      <th>fashion_news_frequency</th>\n",
       "      <th>age</th>\n",
       "      <th>postal_code</th>\n",
       "    </tr>\n",
       "  </thead>\n",
       "  <tbody>\n",
       "    <tr>\n",
       "      <th>0</th>\n",
       "      <td>00000dbacae5abe5e23885899a1fa44253a17956c6d1c3...</td>\n",
       "      <td>NaN</td>\n",
       "      <td>NaN</td>\n",
       "      <td>ACTIVE</td>\n",
       "      <td>NONE</td>\n",
       "      <td>49.0</td>\n",
       "      <td>52043ee2162cf5aa7ee79974281641c6f11a68d276429a...</td>\n",
       "    </tr>\n",
       "    <tr>\n",
       "      <th>1</th>\n",
       "      <td>0000423b00ade91418cceaf3b26c6af3dd342b51fd051e...</td>\n",
       "      <td>NaN</td>\n",
       "      <td>NaN</td>\n",
       "      <td>ACTIVE</td>\n",
       "      <td>NONE</td>\n",
       "      <td>25.0</td>\n",
       "      <td>2973abc54daa8a5f8ccfe9362140c63247c5eee03f1d93...</td>\n",
       "    </tr>\n",
       "    <tr>\n",
       "      <th>2</th>\n",
       "      <td>000058a12d5b43e67d225668fa1f8d618c13dc232df0ca...</td>\n",
       "      <td>NaN</td>\n",
       "      <td>NaN</td>\n",
       "      <td>ACTIVE</td>\n",
       "      <td>NONE</td>\n",
       "      <td>24.0</td>\n",
       "      <td>64f17e6a330a85798e4998f62d0930d14db8db1c054af6...</td>\n",
       "    </tr>\n",
       "  </tbody>\n",
       "</table>\n",
       "</div>"
      ],
      "text/plain": [
       "                                         customer_id  FN  Active  \\\n",
       "0  00000dbacae5abe5e23885899a1fa44253a17956c6d1c3... NaN     NaN   \n",
       "1  0000423b00ade91418cceaf3b26c6af3dd342b51fd051e... NaN     NaN   \n",
       "2  000058a12d5b43e67d225668fa1f8d618c13dc232df0ca... NaN     NaN   \n",
       "\n",
       "  club_member_status fashion_news_frequency   age  \\\n",
       "0             ACTIVE                   NONE  49.0   \n",
       "1             ACTIVE                   NONE  25.0   \n",
       "2             ACTIVE                   NONE  24.0   \n",
       "\n",
       "                                         postal_code  \n",
       "0  52043ee2162cf5aa7ee79974281641c6f11a68d276429a...  \n",
       "1  2973abc54daa8a5f8ccfe9362140c63247c5eee03f1d93...  \n",
       "2  64f17e6a330a85798e4998f62d0930d14db8db1c054af6...  "
      ]
     },
     "execution_count": 38,
     "metadata": {},
     "output_type": "execute_result"
    }
   ],
   "source": [
    "customers_df.head(3)"
   ]
  },
  {
   "cell_type": "code",
   "execution_count": 39,
   "id": "abe1faa3",
   "metadata": {},
   "outputs": [
    {
     "data": {
      "text/html": [
       "<div>\n",
       "<style scoped>\n",
       "    .dataframe tbody tr th:only-of-type {\n",
       "        vertical-align: middle;\n",
       "    }\n",
       "\n",
       "    .dataframe tbody tr th {\n",
       "        vertical-align: top;\n",
       "    }\n",
       "\n",
       "    .dataframe thead th {\n",
       "        text-align: right;\n",
       "    }\n",
       "</style>\n",
       "<table border=\"1\" class=\"dataframe\">\n",
       "  <thead>\n",
       "    <tr style=\"text-align: right;\">\n",
       "      <th></th>\n",
       "      <th>article_id</th>\n",
       "      <th>product_code</th>\n",
       "      <th>prod_name</th>\n",
       "      <th>product_type_no</th>\n",
       "      <th>product_type_name</th>\n",
       "      <th>product_group_name</th>\n",
       "      <th>graphical_appearance_no</th>\n",
       "      <th>graphical_appearance_name</th>\n",
       "      <th>colour_group_code</th>\n",
       "      <th>colour_group_name</th>\n",
       "      <th>...</th>\n",
       "      <th>department_name</th>\n",
       "      <th>index_code</th>\n",
       "      <th>index_name</th>\n",
       "      <th>index_group_no</th>\n",
       "      <th>index_group_name</th>\n",
       "      <th>section_no</th>\n",
       "      <th>section_name</th>\n",
       "      <th>garment_group_no</th>\n",
       "      <th>garment_group_name</th>\n",
       "      <th>detail_desc</th>\n",
       "    </tr>\n",
       "  </thead>\n",
       "  <tbody>\n",
       "    <tr>\n",
       "      <th>0</th>\n",
       "      <td>108775015</td>\n",
       "      <td>108775</td>\n",
       "      <td>Strap top</td>\n",
       "      <td>253</td>\n",
       "      <td>Vest top</td>\n",
       "      <td>Garment Upper body</td>\n",
       "      <td>1010016</td>\n",
       "      <td>Solid</td>\n",
       "      <td>9</td>\n",
       "      <td>Black</td>\n",
       "      <td>...</td>\n",
       "      <td>Jersey Basic</td>\n",
       "      <td>A</td>\n",
       "      <td>Ladieswear</td>\n",
       "      <td>1</td>\n",
       "      <td>Ladieswear</td>\n",
       "      <td>16</td>\n",
       "      <td>Womens Everyday Basics</td>\n",
       "      <td>1002</td>\n",
       "      <td>Jersey Basic</td>\n",
       "      <td>Jersey top with narrow shoulder straps.</td>\n",
       "    </tr>\n",
       "    <tr>\n",
       "      <th>1</th>\n",
       "      <td>108775044</td>\n",
       "      <td>108775</td>\n",
       "      <td>Strap top</td>\n",
       "      <td>253</td>\n",
       "      <td>Vest top</td>\n",
       "      <td>Garment Upper body</td>\n",
       "      <td>1010016</td>\n",
       "      <td>Solid</td>\n",
       "      <td>10</td>\n",
       "      <td>White</td>\n",
       "      <td>...</td>\n",
       "      <td>Jersey Basic</td>\n",
       "      <td>A</td>\n",
       "      <td>Ladieswear</td>\n",
       "      <td>1</td>\n",
       "      <td>Ladieswear</td>\n",
       "      <td>16</td>\n",
       "      <td>Womens Everyday Basics</td>\n",
       "      <td>1002</td>\n",
       "      <td>Jersey Basic</td>\n",
       "      <td>Jersey top with narrow shoulder straps.</td>\n",
       "    </tr>\n",
       "    <tr>\n",
       "      <th>2</th>\n",
       "      <td>108775051</td>\n",
       "      <td>108775</td>\n",
       "      <td>Strap top (1)</td>\n",
       "      <td>253</td>\n",
       "      <td>Vest top</td>\n",
       "      <td>Garment Upper body</td>\n",
       "      <td>1010017</td>\n",
       "      <td>Stripe</td>\n",
       "      <td>11</td>\n",
       "      <td>Off White</td>\n",
       "      <td>...</td>\n",
       "      <td>Jersey Basic</td>\n",
       "      <td>A</td>\n",
       "      <td>Ladieswear</td>\n",
       "      <td>1</td>\n",
       "      <td>Ladieswear</td>\n",
       "      <td>16</td>\n",
       "      <td>Womens Everyday Basics</td>\n",
       "      <td>1002</td>\n",
       "      <td>Jersey Basic</td>\n",
       "      <td>Jersey top with narrow shoulder straps.</td>\n",
       "    </tr>\n",
       "  </tbody>\n",
       "</table>\n",
       "<p>3 rows × 25 columns</p>\n",
       "</div>"
      ],
      "text/plain": [
       "   article_id  product_code      prod_name  product_type_no product_type_name  \\\n",
       "0   108775015        108775      Strap top              253          Vest top   \n",
       "1   108775044        108775      Strap top              253          Vest top   \n",
       "2   108775051        108775  Strap top (1)              253          Vest top   \n",
       "\n",
       "   product_group_name  graphical_appearance_no graphical_appearance_name  \\\n",
       "0  Garment Upper body                  1010016                     Solid   \n",
       "1  Garment Upper body                  1010016                     Solid   \n",
       "2  Garment Upper body                  1010017                    Stripe   \n",
       "\n",
       "   colour_group_code colour_group_name  ...  department_name index_code  \\\n",
       "0                  9             Black  ...     Jersey Basic          A   \n",
       "1                 10             White  ...     Jersey Basic          A   \n",
       "2                 11         Off White  ...     Jersey Basic          A   \n",
       "\n",
       "   index_name index_group_no  index_group_name section_no  \\\n",
       "0  Ladieswear              1        Ladieswear         16   \n",
       "1  Ladieswear              1        Ladieswear         16   \n",
       "2  Ladieswear              1        Ladieswear         16   \n",
       "\n",
       "             section_name garment_group_no  garment_group_name  \\\n",
       "0  Womens Everyday Basics             1002        Jersey Basic   \n",
       "1  Womens Everyday Basics             1002        Jersey Basic   \n",
       "2  Womens Everyday Basics             1002        Jersey Basic   \n",
       "\n",
       "                               detail_desc  \n",
       "0  Jersey top with narrow shoulder straps.  \n",
       "1  Jersey top with narrow shoulder straps.  \n",
       "2  Jersey top with narrow shoulder straps.  \n",
       "\n",
       "[3 rows x 25 columns]"
      ]
     },
     "execution_count": 39,
     "metadata": {},
     "output_type": "execute_result"
    }
   ],
   "source": [
    "articles_df.head(3)"
   ]
  },
  {
   "cell_type": "markdown",
   "id": "727b7d33",
   "metadata": {},
   "source": [
    "There are over 31.9 million transactions and over 3gb in size. With our limited space and processing power, this made working with the dataset slow and unweidly. Instead we were only able to sample this dataset.\n",
    "\n",
    "For the customer's dataset it is assumed that FN stands for whether h&m have the customers is signed up for fashion news. Several other features are also available such as post code. It would be interesting to use post code to see if those living in the same area are influenced by what others around them are wearing.\n",
    "\n",
    "We will have to convert NaNs into zero values, we will do the same for Active. For Fashion news frequency we will have to encode these orginal categories. This might also determine customer quality for recomendation.\n",
    "\n",
    "Regarding columns in the articles data set, every item had a unique identifier called the article id, but it also had a product code and a product name. The identifier and the product code were not the same, it was assumed that this was due to size differences or colour variations in H&M's clothing (e.g a v-neck polo shirt could be in a small, medium and large, as well as having two colours, black and white). \n",
    "\n",
    "The product name could probably be dropped later as the product code and name seem to match. This seems to be true for the product type name, colour group name and graphical appearance name. We could drop the names and keep the numbers. We will however keep product group name as there doesn't seem to be a corisponding type_no. We will have to encode this ourselves."
   ]
  },
  {
   "cell_type": "markdown",
   "id": "7d15b5cb",
   "metadata": {},
   "source": [
    "### Making Recommendations"
   ]
  },
  {
   "cell_type": "markdown",
   "id": "b0cb1dda",
   "metadata": {},
   "source": [
    "In a perfect scenario for a recommendation system we would have a table of m users by n items, with each product given a rating r_ij by each user. However We could have hundreds of users and thousands of products. A user may not have tried every product so our table would have missing values. To solve this issue we would need to predict the value for missing cells (rhat_ij). A good prediction would mean a good recommendation to the user. Another way to make recommendations to users would be to rank the top k products for each user. This would be based on information we have available on products and users. In essence the prediction problem boils down to how we rate products.\n",
    "\n",
    "In order for us to rate products we would first need some metric to rate them by. Secondly, we would need to decide the prerequisites that a product must meet to recieve said rating. Thirdly we would then need to calculate the score for each item that satisfies the prerequisites and finally we would output a list of items in decreasing order. Unfortunately, H&M have not provided any labelling for us. W+e must make our own. This makes the problem of recommendation more difficult.\n",
    "\n",
    "In our Transaction dataset we have customers who bought products at a particular price and time. We started here, with these features to try create a simple collaborative model recommendation system. The model tried to learn from a customer's historical purchases and make predictions about their future purchases.  "
   ]
  },
  {
   "cell_type": "markdown",
   "id": "ee67e664",
   "metadata": {},
   "source": [
    "Since we don't actual have a customer item ratings like a 1 to 5 rating per item, we will assume qty of purchase indicates customer interest in products. If we have outliers they may bias our data. In this case we can assume that 68% of customer transaction will lie within 1 standard deviation from the mean so we could take anything 3 standard deviations from the mean as rare events (1%) and remove them.\n",
    "\n",
    "We will pick a random customer with a few recent transactions and try to predict their future buying habits based on past data about them. We will configure a dataset of purchase made by the customer in the past. We will then use the meta data of the customer and the products to form a model we can use to predict if the customer will by a certain product or not.\n",
    "\n",
    "Date of purchase | Customer meta data | product meta data | purchased (Y/N)"
   ]
  },
  {
   "cell_type": "markdown",
   "id": "f89abe2c",
   "metadata": {},
   "source": [
    "### Prepare the Transaction Data"
   ]
  },
  {
   "cell_type": "code",
   "execution_count": 40,
   "id": "54790a81",
   "metadata": {},
   "outputs": [],
   "source": [
    "#First we will convert our date text into a panda date type.\n",
    "transactions_train_df[\"t_dat\"] = pd.to_datetime(transactions_train_df[\"t_dat\"])"
   ]
  },
  {
   "cell_type": "code",
   "execution_count": 41,
   "id": "e89f19b0",
   "metadata": {},
   "outputs": [],
   "source": [
    "#we convert articles to string instead of default int.\n",
    "transactions_train_df['article_id'] = transactions_train_df['article_id'].values.astype(str)"
   ]
  },
  {
   "cell_type": "code",
   "execution_count": 42,
   "id": "dafb6c0b",
   "metadata": {},
   "outputs": [
    {
     "data": {
      "text/html": [
       "<div>\n",
       "<style scoped>\n",
       "    .dataframe tbody tr th:only-of-type {\n",
       "        vertical-align: middle;\n",
       "    }\n",
       "\n",
       "    .dataframe tbody tr th {\n",
       "        vertical-align: top;\n",
       "    }\n",
       "\n",
       "    .dataframe thead th {\n",
       "        text-align: right;\n",
       "    }\n",
       "</style>\n",
       "<table border=\"1\" class=\"dataframe\">\n",
       "  <thead>\n",
       "    <tr style=\"text-align: right;\">\n",
       "      <th></th>\n",
       "      <th>price</th>\n",
       "      <th>sales_channel_id</th>\n",
       "    </tr>\n",
       "  </thead>\n",
       "  <tbody>\n",
       "    <tr>\n",
       "      <th>count</th>\n",
       "      <td>3.178832e+07</td>\n",
       "      <td>3.178832e+07</td>\n",
       "    </tr>\n",
       "    <tr>\n",
       "      <th>mean</th>\n",
       "      <td>2.782927e-02</td>\n",
       "      <td>1.704028e+00</td>\n",
       "    </tr>\n",
       "    <tr>\n",
       "      <th>std</th>\n",
       "      <td>1.918113e-02</td>\n",
       "      <td>4.564786e-01</td>\n",
       "    </tr>\n",
       "    <tr>\n",
       "      <th>min</th>\n",
       "      <td>1.694915e-05</td>\n",
       "      <td>1.000000e+00</td>\n",
       "    </tr>\n",
       "    <tr>\n",
       "      <th>25%</th>\n",
       "      <td>1.581356e-02</td>\n",
       "      <td>1.000000e+00</td>\n",
       "    </tr>\n",
       "    <tr>\n",
       "      <th>50%</th>\n",
       "      <td>2.540678e-02</td>\n",
       "      <td>2.000000e+00</td>\n",
       "    </tr>\n",
       "    <tr>\n",
       "      <th>75%</th>\n",
       "      <td>3.388136e-02</td>\n",
       "      <td>2.000000e+00</td>\n",
       "    </tr>\n",
       "    <tr>\n",
       "      <th>max</th>\n",
       "      <td>5.915254e-01</td>\n",
       "      <td>2.000000e+00</td>\n",
       "    </tr>\n",
       "  </tbody>\n",
       "</table>\n",
       "</div>"
      ],
      "text/plain": [
       "              price  sales_channel_id\n",
       "count  3.178832e+07      3.178832e+07\n",
       "mean   2.782927e-02      1.704028e+00\n",
       "std    1.918113e-02      4.564786e-01\n",
       "min    1.694915e-05      1.000000e+00\n",
       "25%    1.581356e-02      1.000000e+00\n",
       "50%    2.540678e-02      2.000000e+00\n",
       "75%    3.388136e-02      2.000000e+00\n",
       "max    5.915254e-01      2.000000e+00"
      ]
     },
     "execution_count": 42,
     "metadata": {},
     "output_type": "execute_result"
    }
   ],
   "source": [
    "# we want to see distributions and std dev\n",
    "transactions_train_df.describe()"
   ]
  },
  {
   "cell_type": "markdown",
   "id": "b7031a96",
   "metadata": {},
   "source": [
    "We will use a 3 week date range between 2020-09-8 and 2020-09-22 to reduce our dataset size."
   ]
  },
  {
   "cell_type": "code",
   "execution_count": 43,
   "id": "c979f8d7",
   "metadata": {},
   "outputs": [],
   "source": [
    "mask = (transactions_train_df['t_dat'] >= '2020-09-01') & (transactions_train_df['t_dat'] <= '2020-09-22')"
   ]
  },
  {
   "cell_type": "code",
   "execution_count": 44,
   "id": "f7166890",
   "metadata": {
    "scrolled": true
   },
   "outputs": [
    {
     "data": {
      "text/plain": [
       "798269"
      ]
     },
     "execution_count": 44,
     "metadata": {},
     "output_type": "execute_result"
    }
   ],
   "source": [
    "features_df = transactions_train_df.loc[mask]\n",
    "features_df['customer_id'].size"
   ]
  },
  {
   "cell_type": "code",
   "execution_count": 45,
   "id": "ba3bf45c",
   "metadata": {},
   "outputs": [],
   "source": [
    "features_df = features_df[['article_id','customer_id', 't_dat', 'price', 'sales_channel_id']]"
   ]
  },
  {
   "cell_type": "markdown",
   "id": "3c777f8d",
   "metadata": {},
   "source": [
    "### Prepare Product Data"
   ]
  },
  {
   "cell_type": "code",
   "execution_count": 46,
   "id": "887e06e5",
   "metadata": {},
   "outputs": [],
   "source": [
    "#we convert articles to string instead of default int.\n",
    "articles_df['article_id'] = articles_df['article_id'].values.astype(str)"
   ]
  },
  {
   "cell_type": "code",
   "execution_count": 47,
   "id": "f135bf33",
   "metadata": {},
   "outputs": [],
   "source": [
    "#merge product meta data with transactions\n",
    "features_df = features_df.merge(articles_df, left_on='article_id', right_on='article_id')"
   ]
  },
  {
   "cell_type": "code",
   "execution_count": 48,
   "id": "a984ecce",
   "metadata": {},
   "outputs": [
    {
     "data": {
      "text/plain": [
       "Index(['article_id', 'customer_id', 't_dat', 'price', 'sales_channel_id',\n",
       "       'product_code', 'prod_name', 'product_type_no', 'product_type_name',\n",
       "       'product_group_name', 'graphical_appearance_no',\n",
       "       'graphical_appearance_name', 'colour_group_code', 'colour_group_name',\n",
       "       'perceived_colour_value_id', 'perceived_colour_value_name',\n",
       "       'perceived_colour_master_id', 'perceived_colour_master_name',\n",
       "       'department_no', 'department_name', 'index_code', 'index_name',\n",
       "       'index_group_no', 'index_group_name', 'section_no', 'section_name',\n",
       "       'garment_group_no', 'garment_group_name', 'detail_desc'],\n",
       "      dtype='object')"
      ]
     },
     "execution_count": 48,
     "metadata": {},
     "output_type": "execute_result"
    }
   ],
   "source": [
    "features_df.columns"
   ]
  },
  {
   "cell_type": "markdown",
   "id": "4c927a50",
   "metadata": {},
   "source": [
    "Regarding columns in the articles data set, every item had a unique identifier called the article id, but it also had a product code and a product name. The identifier and the product code were not the same, it was assumed that this was due to size differences or colour variations in H&M's clothing (e.g a v-neck polo shirt could be in a small, medium and large, as well as having two colours, black and white). \n",
    "\n",
    "The product name could probably be dropped as the product code and name seem to match. This seems to be true for the product type name, colour group name and graphical appearance name. We could drop the names and keep the numbers. We will however keep product_group_name as there doesn't seem to be a corisponding type_no. We will have to encode this ourselves.\n",
    "\n",
    "There was no missing data so we did not need to do anything like imputing missing data with sklearn SimpleImputer"
   ]
  },
  {
   "cell_type": "code",
   "execution_count": 49,
   "id": "001e40fe",
   "metadata": {},
   "outputs": [
    {
     "data": {
      "text/html": [
       "<div>\n",
       "<style scoped>\n",
       "    .dataframe tbody tr th:only-of-type {\n",
       "        vertical-align: middle;\n",
       "    }\n",
       "\n",
       "    .dataframe tbody tr th {\n",
       "        vertical-align: top;\n",
       "    }\n",
       "\n",
       "    .dataframe thead th {\n",
       "        text-align: right;\n",
       "    }\n",
       "</style>\n",
       "<table border=\"1\" class=\"dataframe\">\n",
       "  <thead>\n",
       "    <tr style=\"text-align: right;\">\n",
       "      <th></th>\n",
       "      <th>article_id</th>\n",
       "      <th>customer_id</th>\n",
       "      <th>t_dat</th>\n",
       "      <th>price</th>\n",
       "      <th>sales_channel_id</th>\n",
       "      <th>product_code</th>\n",
       "      <th>product_type_no</th>\n",
       "      <th>product_group_name</th>\n",
       "      <th>graphical_appearance_no</th>\n",
       "      <th>colour_group_code</th>\n",
       "      <th>perceived_colour_value_id</th>\n",
       "      <th>perceived_colour_master_id</th>\n",
       "      <th>department_no</th>\n",
       "      <th>index_code</th>\n",
       "      <th>index_group_no</th>\n",
       "      <th>section_no</th>\n",
       "      <th>garment_group_no</th>\n",
       "    </tr>\n",
       "  </thead>\n",
       "  <tbody>\n",
       "    <tr>\n",
       "      <th>0</th>\n",
       "      <td>777148006</td>\n",
       "      <td>0001d44dbe7f6c4b35200abdb052c77a87596fe1bdcc37...</td>\n",
       "      <td>2020-09-01</td>\n",
       "      <td>0.013542</td>\n",
       "      <td>1</td>\n",
       "      <td>777148</td>\n",
       "      <td>252</td>\n",
       "      <td>Garment Upper body</td>\n",
       "      <td>1010010</td>\n",
       "      <td>52</td>\n",
       "      <td>7</td>\n",
       "      <td>4</td>\n",
       "      <td>1626</td>\n",
       "      <td>A</td>\n",
       "      <td>1</td>\n",
       "      <td>15</td>\n",
       "      <td>1003</td>\n",
       "    </tr>\n",
       "    <tr>\n",
       "      <th>1</th>\n",
       "      <td>777148006</td>\n",
       "      <td>5ac5e1825104ed5fe3333e75b9337eebc4b45ad761056b...</td>\n",
       "      <td>2020-09-03</td>\n",
       "      <td>0.013542</td>\n",
       "      <td>1</td>\n",
       "      <td>777148</td>\n",
       "      <td>252</td>\n",
       "      <td>Garment Upper body</td>\n",
       "      <td>1010010</td>\n",
       "      <td>52</td>\n",
       "      <td>7</td>\n",
       "      <td>4</td>\n",
       "      <td>1626</td>\n",
       "      <td>A</td>\n",
       "      <td>1</td>\n",
       "      <td>15</td>\n",
       "      <td>1003</td>\n",
       "    </tr>\n",
       "    <tr>\n",
       "      <th>2</th>\n",
       "      <td>777148006</td>\n",
       "      <td>0dcf3023ea1992a78a1fcc769b6befc956f7308186496d...</td>\n",
       "      <td>2020-09-06</td>\n",
       "      <td>0.013542</td>\n",
       "      <td>1</td>\n",
       "      <td>777148</td>\n",
       "      <td>252</td>\n",
       "      <td>Garment Upper body</td>\n",
       "      <td>1010010</td>\n",
       "      <td>52</td>\n",
       "      <td>7</td>\n",
       "      <td>4</td>\n",
       "      <td>1626</td>\n",
       "      <td>A</td>\n",
       "      <td>1</td>\n",
       "      <td>15</td>\n",
       "      <td>1003</td>\n",
       "    </tr>\n",
       "    <tr>\n",
       "      <th>3</th>\n",
       "      <td>777148006</td>\n",
       "      <td>28b30893bbe946358103760387e3dcd09fdb7b077a942f...</td>\n",
       "      <td>2020-09-06</td>\n",
       "      <td>0.042356</td>\n",
       "      <td>2</td>\n",
       "      <td>777148</td>\n",
       "      <td>252</td>\n",
       "      <td>Garment Upper body</td>\n",
       "      <td>1010010</td>\n",
       "      <td>52</td>\n",
       "      <td>7</td>\n",
       "      <td>4</td>\n",
       "      <td>1626</td>\n",
       "      <td>A</td>\n",
       "      <td>1</td>\n",
       "      <td>15</td>\n",
       "      <td>1003</td>\n",
       "    </tr>\n",
       "    <tr>\n",
       "      <th>4</th>\n",
       "      <td>777148006</td>\n",
       "      <td>278f23c7fac720c2b96b25455d640860bdfa8bb3c867cf...</td>\n",
       "      <td>2020-09-10</td>\n",
       "      <td>0.013542</td>\n",
       "      <td>1</td>\n",
       "      <td>777148</td>\n",
       "      <td>252</td>\n",
       "      <td>Garment Upper body</td>\n",
       "      <td>1010010</td>\n",
       "      <td>52</td>\n",
       "      <td>7</td>\n",
       "      <td>4</td>\n",
       "      <td>1626</td>\n",
       "      <td>A</td>\n",
       "      <td>1</td>\n",
       "      <td>15</td>\n",
       "      <td>1003</td>\n",
       "    </tr>\n",
       "    <tr>\n",
       "      <th>...</th>\n",
       "      <td>...</td>\n",
       "      <td>...</td>\n",
       "      <td>...</td>\n",
       "      <td>...</td>\n",
       "      <td>...</td>\n",
       "      <td>...</td>\n",
       "      <td>...</td>\n",
       "      <td>...</td>\n",
       "      <td>...</td>\n",
       "      <td>...</td>\n",
       "      <td>...</td>\n",
       "      <td>...</td>\n",
       "      <td>...</td>\n",
       "      <td>...</td>\n",
       "      <td>...</td>\n",
       "      <td>...</td>\n",
       "      <td>...</td>\n",
       "    </tr>\n",
       "    <tr>\n",
       "      <th>798264</th>\n",
       "      <td>737994021</td>\n",
       "      <td>f71529889de7a28df0015fad0a043941ecc98883286ef0...</td>\n",
       "      <td>2020-09-22</td>\n",
       "      <td>0.030492</td>\n",
       "      <td>1</td>\n",
       "      <td>737994</td>\n",
       "      <td>273</td>\n",
       "      <td>Garment Lower body</td>\n",
       "      <td>1010023</td>\n",
       "      <td>72</td>\n",
       "      <td>2</td>\n",
       "      <td>2</td>\n",
       "      <td>7917</td>\n",
       "      <td>H</td>\n",
       "      <td>4</td>\n",
       "      <td>76</td>\n",
       "      <td>1016</td>\n",
       "    </tr>\n",
       "    <tr>\n",
       "      <th>798265</th>\n",
       "      <td>533261032</td>\n",
       "      <td>f79e372e21c1359dfebc7da0bf7f321d55e47b3275c351...</td>\n",
       "      <td>2020-09-22</td>\n",
       "      <td>0.033881</td>\n",
       "      <td>2</td>\n",
       "      <td>533261</td>\n",
       "      <td>256</td>\n",
       "      <td>Garment Upper body</td>\n",
       "      <td>1010016</td>\n",
       "      <td>17</td>\n",
       "      <td>2</td>\n",
       "      <td>13</td>\n",
       "      <td>6515</td>\n",
       "      <td>G</td>\n",
       "      <td>4</td>\n",
       "      <td>44</td>\n",
       "      <td>1002</td>\n",
       "    </tr>\n",
       "    <tr>\n",
       "      <th>798266</th>\n",
       "      <td>865792012</td>\n",
       "      <td>f82c91decd5f9abd0a7a72eae0d4911b00ed4f5b4f04f9...</td>\n",
       "      <td>2020-09-22</td>\n",
       "      <td>0.008458</td>\n",
       "      <td>2</td>\n",
       "      <td>865792</td>\n",
       "      <td>273</td>\n",
       "      <td>Garment Lower body</td>\n",
       "      <td>1010001</td>\n",
       "      <td>73</td>\n",
       "      <td>4</td>\n",
       "      <td>2</td>\n",
       "      <td>6525</td>\n",
       "      <td>G</td>\n",
       "      <td>4</td>\n",
       "      <td>40</td>\n",
       "      <td>1005</td>\n",
       "    </tr>\n",
       "    <tr>\n",
       "      <th>798267</th>\n",
       "      <td>772659001</td>\n",
       "      <td>f96661e9e56449885d4c4b90d3227e4abea5e0d2382e2d...</td>\n",
       "      <td>2020-09-22</td>\n",
       "      <td>0.016932</td>\n",
       "      <td>1</td>\n",
       "      <td>772659</td>\n",
       "      <td>274</td>\n",
       "      <td>Garment Lower body</td>\n",
       "      <td>1010016</td>\n",
       "      <td>33</td>\n",
       "      <td>4</td>\n",
       "      <td>3</td>\n",
       "      <td>1948</td>\n",
       "      <td>A</td>\n",
       "      <td>1</td>\n",
       "      <td>18</td>\n",
       "      <td>1009</td>\n",
       "    </tr>\n",
       "    <tr>\n",
       "      <th>798268</th>\n",
       "      <td>807775001</td>\n",
       "      <td>fd5ce8716faf00f6a83616f609e0403ac516727d4ca4aa...</td>\n",
       "      <td>2020-09-22</td>\n",
       "      <td>0.033881</td>\n",
       "      <td>2</td>\n",
       "      <td>807775</td>\n",
       "      <td>272</td>\n",
       "      <td>Garment Lower body</td>\n",
       "      <td>1010016</td>\n",
       "      <td>9</td>\n",
       "      <td>4</td>\n",
       "      <td>5</td>\n",
       "      <td>5683</td>\n",
       "      <td>F</td>\n",
       "      <td>3</td>\n",
       "      <td>55</td>\n",
       "      <td>1009</td>\n",
       "    </tr>\n",
       "  </tbody>\n",
       "</table>\n",
       "<p>798269 rows × 17 columns</p>\n",
       "</div>"
      ],
      "text/plain": [
       "       article_id                                        customer_id  \\\n",
       "0       777148006  0001d44dbe7f6c4b35200abdb052c77a87596fe1bdcc37...   \n",
       "1       777148006  5ac5e1825104ed5fe3333e75b9337eebc4b45ad761056b...   \n",
       "2       777148006  0dcf3023ea1992a78a1fcc769b6befc956f7308186496d...   \n",
       "3       777148006  28b30893bbe946358103760387e3dcd09fdb7b077a942f...   \n",
       "4       777148006  278f23c7fac720c2b96b25455d640860bdfa8bb3c867cf...   \n",
       "...           ...                                                ...   \n",
       "798264  737994021  f71529889de7a28df0015fad0a043941ecc98883286ef0...   \n",
       "798265  533261032  f79e372e21c1359dfebc7da0bf7f321d55e47b3275c351...   \n",
       "798266  865792012  f82c91decd5f9abd0a7a72eae0d4911b00ed4f5b4f04f9...   \n",
       "798267  772659001  f96661e9e56449885d4c4b90d3227e4abea5e0d2382e2d...   \n",
       "798268  807775001  fd5ce8716faf00f6a83616f609e0403ac516727d4ca4aa...   \n",
       "\n",
       "            t_dat     price  sales_channel_id  product_code  product_type_no  \\\n",
       "0      2020-09-01  0.013542                 1        777148              252   \n",
       "1      2020-09-03  0.013542                 1        777148              252   \n",
       "2      2020-09-06  0.013542                 1        777148              252   \n",
       "3      2020-09-06  0.042356                 2        777148              252   \n",
       "4      2020-09-10  0.013542                 1        777148              252   \n",
       "...           ...       ...               ...           ...              ...   \n",
       "798264 2020-09-22  0.030492                 1        737994              273   \n",
       "798265 2020-09-22  0.033881                 2        533261              256   \n",
       "798266 2020-09-22  0.008458                 2        865792              273   \n",
       "798267 2020-09-22  0.016932                 1        772659              274   \n",
       "798268 2020-09-22  0.033881                 2        807775              272   \n",
       "\n",
       "        product_group_name  graphical_appearance_no  colour_group_code  \\\n",
       "0       Garment Upper body                  1010010                 52   \n",
       "1       Garment Upper body                  1010010                 52   \n",
       "2       Garment Upper body                  1010010                 52   \n",
       "3       Garment Upper body                  1010010                 52   \n",
       "4       Garment Upper body                  1010010                 52   \n",
       "...                    ...                      ...                ...   \n",
       "798264  Garment Lower body                  1010023                 72   \n",
       "798265  Garment Upper body                  1010016                 17   \n",
       "798266  Garment Lower body                  1010001                 73   \n",
       "798267  Garment Lower body                  1010016                 33   \n",
       "798268  Garment Lower body                  1010016                  9   \n",
       "\n",
       "        perceived_colour_value_id  perceived_colour_master_id  department_no  \\\n",
       "0                               7                           4           1626   \n",
       "1                               7                           4           1626   \n",
       "2                               7                           4           1626   \n",
       "3                               7                           4           1626   \n",
       "4                               7                           4           1626   \n",
       "...                           ...                         ...            ...   \n",
       "798264                          2                           2           7917   \n",
       "798265                          2                          13           6515   \n",
       "798266                          4                           2           6525   \n",
       "798267                          4                           3           1948   \n",
       "798268                          4                           5           5683   \n",
       "\n",
       "       index_code  index_group_no  section_no  garment_group_no  \n",
       "0               A               1          15              1003  \n",
       "1               A               1          15              1003  \n",
       "2               A               1          15              1003  \n",
       "3               A               1          15              1003  \n",
       "4               A               1          15              1003  \n",
       "...           ...             ...         ...               ...  \n",
       "798264          H               4          76              1016  \n",
       "798265          G               4          44              1002  \n",
       "798266          G               4          40              1005  \n",
       "798267          A               1          18              1009  \n",
       "798268          F               3          55              1009  \n",
       "\n",
       "[798269 rows x 17 columns]"
      ]
     },
     "execution_count": 49,
     "metadata": {},
     "output_type": "execute_result"
    }
   ],
   "source": [
    "features_df.drop(['prod_name',\n",
    "                  'product_type_name',\n",
    "                  'graphical_appearance_name',\n",
    "                  'colour_group_name',\n",
    "                  'perceived_colour_value_name',\n",
    "                  'perceived_colour_master_name',\n",
    "                  'department_name',\n",
    "                  'index_name',\n",
    "                  'index_group_name',\n",
    "                  'section_name',\n",
    "                  'garment_group_name',\n",
    "                  'detail_desc'], axis=1)"
   ]
  },
  {
   "cell_type": "markdown",
   "id": "a958c366",
   "metadata": {},
   "source": [
    "### Prepare Customer Data"
   ]
  },
  {
   "cell_type": "code",
   "execution_count": 50,
   "id": "34b17890",
   "metadata": {},
   "outputs": [],
   "source": [
    "#merge customer meta data with transactions\n",
    "features_df = features_df.merge(customers_df, left_on='customer_id', right_on='customer_id')"
   ]
  },
  {
   "cell_type": "code",
   "execution_count": 51,
   "id": "cd7014be",
   "metadata": {},
   "outputs": [],
   "source": [
    "#drop post code as it is similar to customer_id\n",
    "features_df = features_df.drop(['postal_code'], axis=1)"
   ]
  },
  {
   "cell_type": "code",
   "execution_count": 52,
   "id": "11a97606",
   "metadata": {},
   "outputs": [],
   "source": [
    "#we reorganise columns\n",
    "features_df = features_df.loc[:, ['customer_id',#the customer\n",
    "                                  'FN',#customer meta data\n",
    "                                  'Active',\n",
    "                                  'club_member_status', \n",
    "                                  'fashion_news_frequency', \n",
    "                                  'age',\n",
    "                                  'product_code',#product meta data\n",
    "                                  'product_type_no',\n",
    "                                  'product_group_name',\n",
    "                                  'graphical_appearance_no',\n",
    "                                  'colour_group_code', \n",
    "                                  'perceived_colour_value_id', \n",
    "                                  'perceived_colour_master_id', \n",
    "                                  'department_no',  \n",
    "                                  'index_code', \n",
    "                                  'index_group_no',  \n",
    "                                  'section_no', \n",
    "                                  'garment_group_no', \n",
    "                                  't_dat',#transaction meta data\n",
    "                                  'price',\n",
    "                                  'sales_channel_id', \n",
    "                                  'article_id']]#the product"
   ]
  },
  {
   "cell_type": "code",
   "execution_count": 53,
   "id": "fefb671a",
   "metadata": {},
   "outputs": [],
   "source": [
    "#convert from objects and floats to categories and ints\n",
    "features_df['club_member_status'] = features_df['club_member_status'].astype('category')\n",
    "features_df['fashion_news_frequency'] = features_df['fashion_news_frequency'].astype('category')"
   ]
  },
  {
   "cell_type": "code",
   "execution_count": 54,
   "id": "70241735",
   "metadata": {},
   "outputs": [],
   "source": [
    "#check for missing values\n",
    "def find_missing(df):\n",
    "    missing = df.isnull().sum() # ref: https://stackoverflow.com/questions/59694988/python-pandas-dataframe-find-missing-values\n",
    "    print(df.shape)\n",
    "    print(missing)"
   ]
  },
  {
   "cell_type": "code",
   "execution_count": 55,
   "id": "1a516208",
   "metadata": {},
   "outputs": [
    {
     "name": "stdout",
     "output_type": "stream",
     "text": [
      "(798269, 22)\n",
      "customer_id                        0\n",
      "FN                            443296\n",
      "Active                        448465\n",
      "club_member_status              1358\n",
      "fashion_news_frequency          1752\n",
      "age                             2931\n",
      "product_code                       0\n",
      "product_type_no                    0\n",
      "product_group_name                 0\n",
      "graphical_appearance_no            0\n",
      "colour_group_code                  0\n",
      "perceived_colour_value_id          0\n",
      "perceived_colour_master_id         0\n",
      "department_no                      0\n",
      "index_code                         0\n",
      "index_group_no                     0\n",
      "section_no                         0\n",
      "garment_group_no                   0\n",
      "t_dat                              0\n",
      "price                              0\n",
      "sales_channel_id                   0\n",
      "article_id                         0\n",
      "dtype: int64\n"
     ]
    }
   ],
   "source": [
    "find_missing(features_df)"
   ]
  },
  {
   "cell_type": "code",
   "execution_count": 65,
   "id": "261a808a",
   "metadata": {},
   "outputs": [
    {
     "data": {
      "text/plain": [
       "array([['Garment Upper body'],\n",
       "       ['Garment Upper body'],\n",
       "       ['Garment Lower body'],\n",
       "       ...,\n",
       "       ['Accessories'],\n",
       "       ['Garment Full body'],\n",
       "       ['Garment Upper body']], dtype=object)"
      ]
     },
     "execution_count": 65,
     "metadata": {},
     "output_type": "execute_result"
    }
   ],
   "source": [
    "features_df.iloc[:, 8:-13].values"
   ]
  },
  {
   "cell_type": "code",
   "execution_count": 57,
   "id": "1beae9bd",
   "metadata": {},
   "outputs": [
    {
     "data": {
      "text/html": [
       "<div>\n",
       "<style scoped>\n",
       "    .dataframe tbody tr th:only-of-type {\n",
       "        vertical-align: middle;\n",
       "    }\n",
       "\n",
       "    .dataframe tbody tr th {\n",
       "        vertical-align: top;\n",
       "    }\n",
       "\n",
       "    .dataframe thead th {\n",
       "        text-align: right;\n",
       "    }\n",
       "</style>\n",
       "<table border=\"1\" class=\"dataframe\">\n",
       "  <thead>\n",
       "    <tr style=\"text-align: right;\">\n",
       "      <th></th>\n",
       "      <th>customer_id</th>\n",
       "      <th>FN</th>\n",
       "      <th>Active</th>\n",
       "      <th>club_member_status</th>\n",
       "      <th>fashion_news_frequency</th>\n",
       "      <th>age</th>\n",
       "      <th>product_code</th>\n",
       "      <th>product_type_no</th>\n",
       "      <th>product_group_name</th>\n",
       "      <th>graphical_appearance_no</th>\n",
       "      <th>...</th>\n",
       "      <th>perceived_colour_master_id</th>\n",
       "      <th>department_no</th>\n",
       "      <th>index_code</th>\n",
       "      <th>index_group_no</th>\n",
       "      <th>section_no</th>\n",
       "      <th>garment_group_no</th>\n",
       "      <th>t_dat</th>\n",
       "      <th>price</th>\n",
       "      <th>sales_channel_id</th>\n",
       "      <th>article_id</th>\n",
       "    </tr>\n",
       "  </thead>\n",
       "  <tbody>\n",
       "    <tr>\n",
       "      <th>0</th>\n",
       "      <td>0001d44dbe7f6c4b35200abdb052c77a87596fe1bdcc37...</td>\n",
       "      <td>1.0</td>\n",
       "      <td>1.0</td>\n",
       "      <td>ACTIVE</td>\n",
       "      <td>Regularly</td>\n",
       "      <td>44.0</td>\n",
       "      <td>777148</td>\n",
       "      <td>252</td>\n",
       "      <td>Garment Upper body</td>\n",
       "      <td>1010010</td>\n",
       "      <td>...</td>\n",
       "      <td>4</td>\n",
       "      <td>1626</td>\n",
       "      <td>A</td>\n",
       "      <td>1</td>\n",
       "      <td>15</td>\n",
       "      <td>1003</td>\n",
       "      <td>2020-09-01</td>\n",
       "      <td>0.013542</td>\n",
       "      <td>1</td>\n",
       "      <td>777148006</td>\n",
       "    </tr>\n",
       "    <tr>\n",
       "      <th>1</th>\n",
       "      <td>0001d44dbe7f6c4b35200abdb052c77a87596fe1bdcc37...</td>\n",
       "      <td>1.0</td>\n",
       "      <td>1.0</td>\n",
       "      <td>ACTIVE</td>\n",
       "      <td>Regularly</td>\n",
       "      <td>44.0</td>\n",
       "      <td>835801</td>\n",
       "      <td>252</td>\n",
       "      <td>Garment Upper body</td>\n",
       "      <td>1010016</td>\n",
       "      <td>...</td>\n",
       "      <td>9</td>\n",
       "      <td>1626</td>\n",
       "      <td>A</td>\n",
       "      <td>1</td>\n",
       "      <td>15</td>\n",
       "      <td>1003</td>\n",
       "      <td>2020-09-01</td>\n",
       "      <td>0.018627</td>\n",
       "      <td>1</td>\n",
       "      <td>835801001</td>\n",
       "    </tr>\n",
       "    <tr>\n",
       "      <th>2</th>\n",
       "      <td>0001d44dbe7f6c4b35200abdb052c77a87596fe1bdcc37...</td>\n",
       "      <td>1.0</td>\n",
       "      <td>1.0</td>\n",
       "      <td>ACTIVE</td>\n",
       "      <td>Regularly</td>\n",
       "      <td>44.0</td>\n",
       "      <td>923134</td>\n",
       "      <td>272</td>\n",
       "      <td>Garment Lower body</td>\n",
       "      <td>1010016</td>\n",
       "      <td>...</td>\n",
       "      <td>19</td>\n",
       "      <td>1636</td>\n",
       "      <td>A</td>\n",
       "      <td>1</td>\n",
       "      <td>15</td>\n",
       "      <td>1005</td>\n",
       "      <td>2020-09-01</td>\n",
       "      <td>0.012695</td>\n",
       "      <td>1</td>\n",
       "      <td>923134005</td>\n",
       "    </tr>\n",
       "    <tr>\n",
       "      <th>3</th>\n",
       "      <td>0001d44dbe7f6c4b35200abdb052c77a87596fe1bdcc37...</td>\n",
       "      <td>1.0</td>\n",
       "      <td>1.0</td>\n",
       "      <td>ACTIVE</td>\n",
       "      <td>Regularly</td>\n",
       "      <td>44.0</td>\n",
       "      <td>865929</td>\n",
       "      <td>254</td>\n",
       "      <td>Garment Upper body</td>\n",
       "      <td>1010001</td>\n",
       "      <td>...</td>\n",
       "      <td>11</td>\n",
       "      <td>1636</td>\n",
       "      <td>A</td>\n",
       "      <td>1</td>\n",
       "      <td>15</td>\n",
       "      <td>1005</td>\n",
       "      <td>2020-09-01</td>\n",
       "      <td>0.016932</td>\n",
       "      <td>1</td>\n",
       "      <td>865929003</td>\n",
       "    </tr>\n",
       "    <tr>\n",
       "      <th>4</th>\n",
       "      <td>0001d44dbe7f6c4b35200abdb052c77a87596fe1bdcc37...</td>\n",
       "      <td>1.0</td>\n",
       "      <td>1.0</td>\n",
       "      <td>ACTIVE</td>\n",
       "      <td>Regularly</td>\n",
       "      <td>44.0</td>\n",
       "      <td>935858</td>\n",
       "      <td>252</td>\n",
       "      <td>Garment Upper body</td>\n",
       "      <td>1010016</td>\n",
       "      <td>...</td>\n",
       "      <td>5</td>\n",
       "      <td>4091</td>\n",
       "      <td>D</td>\n",
       "      <td>2</td>\n",
       "      <td>50</td>\n",
       "      <td>1001</td>\n",
       "      <td>2020-09-07</td>\n",
       "      <td>0.016932</td>\n",
       "      <td>1</td>\n",
       "      <td>935858001</td>\n",
       "    </tr>\n",
       "  </tbody>\n",
       "</table>\n",
       "<p>5 rows × 22 columns</p>\n",
       "</div>"
      ],
      "text/plain": [
       "                                         customer_id   FN  Active  \\\n",
       "0  0001d44dbe7f6c4b35200abdb052c77a87596fe1bdcc37...  1.0     1.0   \n",
       "1  0001d44dbe7f6c4b35200abdb052c77a87596fe1bdcc37...  1.0     1.0   \n",
       "2  0001d44dbe7f6c4b35200abdb052c77a87596fe1bdcc37...  1.0     1.0   \n",
       "3  0001d44dbe7f6c4b35200abdb052c77a87596fe1bdcc37...  1.0     1.0   \n",
       "4  0001d44dbe7f6c4b35200abdb052c77a87596fe1bdcc37...  1.0     1.0   \n",
       "\n",
       "  club_member_status fashion_news_frequency   age  product_code  \\\n",
       "0             ACTIVE              Regularly  44.0        777148   \n",
       "1             ACTIVE              Regularly  44.0        835801   \n",
       "2             ACTIVE              Regularly  44.0        923134   \n",
       "3             ACTIVE              Regularly  44.0        865929   \n",
       "4             ACTIVE              Regularly  44.0        935858   \n",
       "\n",
       "   product_type_no  product_group_name  graphical_appearance_no  ...  \\\n",
       "0              252  Garment Upper body                  1010010  ...   \n",
       "1              252  Garment Upper body                  1010016  ...   \n",
       "2              272  Garment Lower body                  1010016  ...   \n",
       "3              254  Garment Upper body                  1010001  ...   \n",
       "4              252  Garment Upper body                  1010016  ...   \n",
       "\n",
       "   perceived_colour_master_id  department_no  index_code  index_group_no  \\\n",
       "0                           4           1626           A               1   \n",
       "1                           9           1626           A               1   \n",
       "2                          19           1636           A               1   \n",
       "3                          11           1636           A               1   \n",
       "4                           5           4091           D               2   \n",
       "\n",
       "  section_no  garment_group_no      t_dat     price sales_channel_id  \\\n",
       "0         15              1003 2020-09-01  0.013542                1   \n",
       "1         15              1003 2020-09-01  0.018627                1   \n",
       "2         15              1005 2020-09-01  0.012695                1   \n",
       "3         15              1005 2020-09-01  0.016932                1   \n",
       "4         50              1001 2020-09-07  0.016932                1   \n",
       "\n",
       "   article_id  \n",
       "0   777148006  \n",
       "1   835801001  \n",
       "2   923134005  \n",
       "3   865929003  \n",
       "4   935858001  \n",
       "\n",
       "[5 rows x 22 columns]"
      ]
     },
     "execution_count": 57,
     "metadata": {},
     "output_type": "execute_result"
    }
   ],
   "source": [
    "features_df.head()"
   ]
  },
  {
   "cell_type": "code",
   "execution_count": 62,
   "id": "adbd9810",
   "metadata": {},
   "outputs": [
    {
     "name": "stdout",
     "output_type": "stream",
     "text": [
      "(798269, 22)\n",
      "customer_id                   0\n",
      "fn                            0\n",
      "active                        0\n",
      "club_member_status            0\n",
      "fashion_news_frequency        0\n",
      "age                           0\n",
      "product_code                  0\n",
      "product_type_no               0\n",
      "product_group_name            0\n",
      "graphical_appearance_no       0\n",
      "colour_group_code             0\n",
      "perceived_colour_value_id     0\n",
      "perceived_colour_master_id    0\n",
      "department_no                 0\n",
      "index_code                    0\n",
      "index_group_no                0\n",
      "section_no                    0\n",
      "garment_group_no              0\n",
      "t_dat                         0\n",
      "price                         0\n",
      "sales_channel_id              0\n",
      "article_id                    0\n",
      "dtype: int64\n"
     ]
    }
   ],
   "source": [
    "features_df['FN'] = features_df['FN'].fillna(0)\n",
    "features_df['Active'] = features_df['Active'].fillna(0)\n",
    "\n",
    "club_member_status = features_df.iloc[:, 3:-18].values\n",
    "fashion_news_frequency = features_df.iloc[:, 4:-17].values\n",
    "age = features_df.iloc[:, 5:-16].values\n",
    "\n",
    "#ref: https://scikit-learn.org/stable/modules/generated/sklearn.impute.SimpleImputer.html\n",
    "imputer_med = SimpleImputer(missing_values=np.nan, strategy='median')\n",
    "imputer_mf = SimpleImputer(missing_values=np.nan, strategy='most_frequent')\n",
    "\n",
    "#we replace missing values with the most frequent\n",
    "imputer_mf.fit(club_member_status)\n",
    "club_member_status = imputer_mf.transform(club_member_status)\n",
    "\n",
    "imputer_mf.fit(fashion_news_frequency)\n",
    "fashion_news_frequency = imputer_mf.transform(fashion_news_frequency)\n",
    "\n",
    "#we replace any missing age values with the median age\n",
    "imputer_med.fit(age)\n",
    "age = imputer_med.transform(age)\n",
    "\n",
    "#now add corrected columns back into our main customer dataframe\n",
    "features_df.iloc[:, 3:-18] = club_member_status\n",
    "features_df.iloc[:, 4:-17] = fashion_news_frequency\n",
    "features_df.iloc[:, 5:-16] = age\n",
    "\n",
    "#replace minus sign in text and check result of dataset after imputing missing values\n",
    "features_df.columns = features_df.columns.str.replace('-', '')\n",
    "\n",
    "#lower case columns\n",
    "features_df.columns = map(str.lower, features_df.columns)\n",
    "\n",
    "find_missing(features_df)"
   ]
  },
  {
   "cell_type": "code",
   "execution_count": 63,
   "id": "f4a1ca1d",
   "metadata": {},
   "outputs": [
    {
     "data": {
      "text/html": [
       "<div>\n",
       "<style scoped>\n",
       "    .dataframe tbody tr th:only-of-type {\n",
       "        vertical-align: middle;\n",
       "    }\n",
       "\n",
       "    .dataframe tbody tr th {\n",
       "        vertical-align: top;\n",
       "    }\n",
       "\n",
       "    .dataframe thead th {\n",
       "        text-align: right;\n",
       "    }\n",
       "</style>\n",
       "<table border=\"1\" class=\"dataframe\">\n",
       "  <thead>\n",
       "    <tr style=\"text-align: right;\">\n",
       "      <th></th>\n",
       "      <th>customer_id</th>\n",
       "      <th>fn</th>\n",
       "      <th>active</th>\n",
       "      <th>club_member_status</th>\n",
       "      <th>fashion_news_frequency</th>\n",
       "      <th>age</th>\n",
       "      <th>product_code</th>\n",
       "      <th>product_type_no</th>\n",
       "      <th>product_group_name</th>\n",
       "      <th>graphical_appearance_no</th>\n",
       "      <th>...</th>\n",
       "      <th>perceived_colour_master_id</th>\n",
       "      <th>department_no</th>\n",
       "      <th>index_code</th>\n",
       "      <th>index_group_no</th>\n",
       "      <th>section_no</th>\n",
       "      <th>garment_group_no</th>\n",
       "      <th>t_dat</th>\n",
       "      <th>price</th>\n",
       "      <th>sales_channel_id</th>\n",
       "      <th>article_id</th>\n",
       "    </tr>\n",
       "  </thead>\n",
       "  <tbody>\n",
       "    <tr>\n",
       "      <th>0</th>\n",
       "      <td>0001d44dbe7f6c4b35200abdb052c77a87596fe1bdcc37...</td>\n",
       "      <td>1.0</td>\n",
       "      <td>1.0</td>\n",
       "      <td>ACTIVE</td>\n",
       "      <td>Regularly</td>\n",
       "      <td>44.0</td>\n",
       "      <td>777148</td>\n",
       "      <td>252</td>\n",
       "      <td>Garment Upper body</td>\n",
       "      <td>1010010</td>\n",
       "      <td>...</td>\n",
       "      <td>4</td>\n",
       "      <td>1626</td>\n",
       "      <td>A</td>\n",
       "      <td>1</td>\n",
       "      <td>15</td>\n",
       "      <td>1003</td>\n",
       "      <td>2020-09-01</td>\n",
       "      <td>0.013542</td>\n",
       "      <td>1</td>\n",
       "      <td>777148006</td>\n",
       "    </tr>\n",
       "    <tr>\n",
       "      <th>1</th>\n",
       "      <td>0001d44dbe7f6c4b35200abdb052c77a87596fe1bdcc37...</td>\n",
       "      <td>1.0</td>\n",
       "      <td>1.0</td>\n",
       "      <td>ACTIVE</td>\n",
       "      <td>Regularly</td>\n",
       "      <td>44.0</td>\n",
       "      <td>835801</td>\n",
       "      <td>252</td>\n",
       "      <td>Garment Upper body</td>\n",
       "      <td>1010016</td>\n",
       "      <td>...</td>\n",
       "      <td>9</td>\n",
       "      <td>1626</td>\n",
       "      <td>A</td>\n",
       "      <td>1</td>\n",
       "      <td>15</td>\n",
       "      <td>1003</td>\n",
       "      <td>2020-09-01</td>\n",
       "      <td>0.018627</td>\n",
       "      <td>1</td>\n",
       "      <td>835801001</td>\n",
       "    </tr>\n",
       "    <tr>\n",
       "      <th>2</th>\n",
       "      <td>0001d44dbe7f6c4b35200abdb052c77a87596fe1bdcc37...</td>\n",
       "      <td>1.0</td>\n",
       "      <td>1.0</td>\n",
       "      <td>ACTIVE</td>\n",
       "      <td>Regularly</td>\n",
       "      <td>44.0</td>\n",
       "      <td>923134</td>\n",
       "      <td>272</td>\n",
       "      <td>Garment Lower body</td>\n",
       "      <td>1010016</td>\n",
       "      <td>...</td>\n",
       "      <td>19</td>\n",
       "      <td>1636</td>\n",
       "      <td>A</td>\n",
       "      <td>1</td>\n",
       "      <td>15</td>\n",
       "      <td>1005</td>\n",
       "      <td>2020-09-01</td>\n",
       "      <td>0.012695</td>\n",
       "      <td>1</td>\n",
       "      <td>923134005</td>\n",
       "    </tr>\n",
       "    <tr>\n",
       "      <th>3</th>\n",
       "      <td>0001d44dbe7f6c4b35200abdb052c77a87596fe1bdcc37...</td>\n",
       "      <td>1.0</td>\n",
       "      <td>1.0</td>\n",
       "      <td>ACTIVE</td>\n",
       "      <td>Regularly</td>\n",
       "      <td>44.0</td>\n",
       "      <td>865929</td>\n",
       "      <td>254</td>\n",
       "      <td>Garment Upper body</td>\n",
       "      <td>1010001</td>\n",
       "      <td>...</td>\n",
       "      <td>11</td>\n",
       "      <td>1636</td>\n",
       "      <td>A</td>\n",
       "      <td>1</td>\n",
       "      <td>15</td>\n",
       "      <td>1005</td>\n",
       "      <td>2020-09-01</td>\n",
       "      <td>0.016932</td>\n",
       "      <td>1</td>\n",
       "      <td>865929003</td>\n",
       "    </tr>\n",
       "    <tr>\n",
       "      <th>4</th>\n",
       "      <td>0001d44dbe7f6c4b35200abdb052c77a87596fe1bdcc37...</td>\n",
       "      <td>1.0</td>\n",
       "      <td>1.0</td>\n",
       "      <td>ACTIVE</td>\n",
       "      <td>Regularly</td>\n",
       "      <td>44.0</td>\n",
       "      <td>935858</td>\n",
       "      <td>252</td>\n",
       "      <td>Garment Upper body</td>\n",
       "      <td>1010016</td>\n",
       "      <td>...</td>\n",
       "      <td>5</td>\n",
       "      <td>4091</td>\n",
       "      <td>D</td>\n",
       "      <td>2</td>\n",
       "      <td>50</td>\n",
       "      <td>1001</td>\n",
       "      <td>2020-09-07</td>\n",
       "      <td>0.016932</td>\n",
       "      <td>1</td>\n",
       "      <td>935858001</td>\n",
       "    </tr>\n",
       "  </tbody>\n",
       "</table>\n",
       "<p>5 rows × 22 columns</p>\n",
       "</div>"
      ],
      "text/plain": [
       "                                         customer_id   fn  active  \\\n",
       "0  0001d44dbe7f6c4b35200abdb052c77a87596fe1bdcc37...  1.0     1.0   \n",
       "1  0001d44dbe7f6c4b35200abdb052c77a87596fe1bdcc37...  1.0     1.0   \n",
       "2  0001d44dbe7f6c4b35200abdb052c77a87596fe1bdcc37...  1.0     1.0   \n",
       "3  0001d44dbe7f6c4b35200abdb052c77a87596fe1bdcc37...  1.0     1.0   \n",
       "4  0001d44dbe7f6c4b35200abdb052c77a87596fe1bdcc37...  1.0     1.0   \n",
       "\n",
       "  club_member_status fashion_news_frequency   age  product_code  \\\n",
       "0             ACTIVE              Regularly  44.0        777148   \n",
       "1             ACTIVE              Regularly  44.0        835801   \n",
       "2             ACTIVE              Regularly  44.0        923134   \n",
       "3             ACTIVE              Regularly  44.0        865929   \n",
       "4             ACTIVE              Regularly  44.0        935858   \n",
       "\n",
       "   product_type_no  product_group_name  graphical_appearance_no  ...  \\\n",
       "0              252  Garment Upper body                  1010010  ...   \n",
       "1              252  Garment Upper body                  1010016  ...   \n",
       "2              272  Garment Lower body                  1010016  ...   \n",
       "3              254  Garment Upper body                  1010001  ...   \n",
       "4              252  Garment Upper body                  1010016  ...   \n",
       "\n",
       "   perceived_colour_master_id  department_no  index_code  index_group_no  \\\n",
       "0                           4           1626           A               1   \n",
       "1                           9           1626           A               1   \n",
       "2                          19           1636           A               1   \n",
       "3                          11           1636           A               1   \n",
       "4                           5           4091           D               2   \n",
       "\n",
       "  section_no  garment_group_no      t_dat     price sales_channel_id  \\\n",
       "0         15              1003 2020-09-01  0.013542                1   \n",
       "1         15              1003 2020-09-01  0.018627                1   \n",
       "2         15              1005 2020-09-01  0.012695                1   \n",
       "3         15              1005 2020-09-01  0.016932                1   \n",
       "4         50              1001 2020-09-07  0.016932                1   \n",
       "\n",
       "   article_id  \n",
       "0   777148006  \n",
       "1   835801001  \n",
       "2   923134005  \n",
       "3   865929003  \n",
       "4   935858001  \n",
       "\n",
       "[5 rows x 22 columns]"
      ]
     },
     "execution_count": 63,
     "metadata": {},
     "output_type": "execute_result"
    }
   ],
   "source": [
    "#We will encode and scale after we have split our data\n",
    "features_df.head()"
   ]
  },
  {
   "cell_type": "markdown",
   "id": "6e1c1954",
   "metadata": {},
   "source": [
    "### Split Data Into Train & Test Set \n",
    "We take the past 2 weeks as training data and 1 week in the future as test data"
   ]
  },
  {
   "cell_type": "code",
   "execution_count": 66,
   "id": "5bf142be",
   "metadata": {},
   "outputs": [
    {
     "data": {
      "text/plain": [
       "531905"
      ]
     },
     "execution_count": 66,
     "metadata": {},
     "output_type": "execute_result"
    }
   ],
   "source": [
    "train_mask = (features_df['t_dat'] >= '2020-09-01') & (features_df['t_dat'] <= '2020-09-14')\n",
    "train_df = features_df.loc[train_mask]\n",
    "train_df['customer_id'].size"
   ]
  },
  {
   "cell_type": "code",
   "execution_count": 67,
   "id": "13717566",
   "metadata": {},
   "outputs": [
    {
     "data": {
      "text/plain": [
       "266364"
      ]
     },
     "execution_count": 67,
     "metadata": {},
     "output_type": "execute_result"
    }
   ],
   "source": [
    "test_mask = (features_df['t_dat'] >= '2020-09-15') & (features_df['t_dat'] <= '2020-09-22')\n",
    "test_df = features_df.loc[test_mask]\n",
    "test_df['customer_id'].size"
   ]
  },
  {
   "cell_type": "markdown",
   "id": "b497f4cd",
   "metadata": {},
   "source": [
    "### Encode Data (After Timesplit)"
   ]
  },
  {
   "cell_type": "code",
   "execution_count": 85,
   "id": "260fe100",
   "metadata": {},
   "outputs": [
    {
     "name": "stderr",
     "output_type": "stream",
     "text": [
      "C:\\Users\\newlo\\AppData\\Local\\Temp\\ipykernel_9480\\2122401799.py:3: SettingWithCopyWarning: \n",
      "A value is trying to be set on a copy of a slice from a DataFrame.\n",
      "Try using .loc[row_indexer,col_indexer] = value instead\n",
      "\n",
      "See the caveats in the documentation: https://pandas.pydata.org/pandas-docs/stable/user_guide/indexing.html#returning-a-view-versus-a-copy\n",
      "  train_df.iloc[:,3] = le.fit_transform(train_df.iloc[:,3])#club_member_status\n",
      "C:\\Users\\newlo\\AppData\\Local\\Temp\\ipykernel_9480\\2122401799.py:4: SettingWithCopyWarning: \n",
      "A value is trying to be set on a copy of a slice from a DataFrame.\n",
      "Try using .loc[row_indexer,col_indexer] = value instead\n",
      "\n",
      "See the caveats in the documentation: https://pandas.pydata.org/pandas-docs/stable/user_guide/indexing.html#returning-a-view-versus-a-copy\n",
      "  train_df.iloc[:,4] = le.fit_transform(train_df.iloc[:,4])#fashion_news_frequency\n",
      "C:\\Users\\newlo\\AppData\\Local\\Temp\\ipykernel_9480\\2122401799.py:5: SettingWithCopyWarning: \n",
      "A value is trying to be set on a copy of a slice from a DataFrame.\n",
      "Try using .loc[row_indexer,col_indexer] = value instead\n",
      "\n",
      "See the caveats in the documentation: https://pandas.pydata.org/pandas-docs/stable/user_guide/indexing.html#returning-a-view-versus-a-copy\n",
      "  train_df.iloc[:,8] = le.fit_transform(train_df.iloc[:,8])#product_group_name\n",
      "C:\\Users\\newlo\\AppData\\Local\\Temp\\ipykernel_9480\\2122401799.py:6: SettingWithCopyWarning: \n",
      "A value is trying to be set on a copy of a slice from a DataFrame.\n",
      "Try using .loc[row_indexer,col_indexer] = value instead\n",
      "\n",
      "See the caveats in the documentation: https://pandas.pydata.org/pandas-docs/stable/user_guide/indexing.html#returning-a-view-versus-a-copy\n",
      "  train_df.iloc[:,14] = le.fit_transform(train_df.iloc[:,14])#index_code\n",
      "C:\\Users\\newlo\\AppData\\Local\\Temp\\ipykernel_9480\\2122401799.py:8: SettingWithCopyWarning: \n",
      "A value is trying to be set on a copy of a slice from a DataFrame.\n",
      "Try using .loc[row_indexer,col_indexer] = value instead\n",
      "\n",
      "See the caveats in the documentation: https://pandas.pydata.org/pandas-docs/stable/user_guide/indexing.html#returning-a-view-versus-a-copy\n",
      "  test_df.iloc[:,3] = le.fit_transform(test_df.iloc[:,3])#club_member_status\n",
      "C:\\Users\\newlo\\AppData\\Local\\Temp\\ipykernel_9480\\2122401799.py:9: SettingWithCopyWarning: \n",
      "A value is trying to be set on a copy of a slice from a DataFrame.\n",
      "Try using .loc[row_indexer,col_indexer] = value instead\n",
      "\n",
      "See the caveats in the documentation: https://pandas.pydata.org/pandas-docs/stable/user_guide/indexing.html#returning-a-view-versus-a-copy\n",
      "  test_df.iloc[:,4] = le.fit_transform(test_df.iloc[:,4])#fashion_news_frequency\n",
      "C:\\Users\\newlo\\AppData\\Local\\Temp\\ipykernel_9480\\2122401799.py:10: SettingWithCopyWarning: \n",
      "A value is trying to be set on a copy of a slice from a DataFrame.\n",
      "Try using .loc[row_indexer,col_indexer] = value instead\n",
      "\n",
      "See the caveats in the documentation: https://pandas.pydata.org/pandas-docs/stable/user_guide/indexing.html#returning-a-view-versus-a-copy\n",
      "  test_df.iloc[:,8] = le.fit_transform(test_df.iloc[:,8])#product_group_name\n",
      "C:\\Users\\newlo\\AppData\\Local\\Temp\\ipykernel_9480\\2122401799.py:11: SettingWithCopyWarning: \n",
      "A value is trying to be set on a copy of a slice from a DataFrame.\n",
      "Try using .loc[row_indexer,col_indexer] = value instead\n",
      "\n",
      "See the caveats in the documentation: https://pandas.pydata.org/pandas-docs/stable/user_guide/indexing.html#returning-a-view-versus-a-copy\n",
      "  test_df.iloc[:,14] = le.fit_transform(test_df.iloc[:,14])#index_code\n"
     ]
    }
   ],
   "source": [
    "#we now encode any categorical variables in our training and testing data\n",
    "le = preprocessing.LabelEncoder()\n",
    "train_df.iloc[:,3] = le.fit_transform(train_df.iloc[:,3])#club_member_status\n",
    "train_df.iloc[:,4] = le.fit_transform(train_df.iloc[:,4])#fashion_news_frequency\n",
    "train_df.iloc[:,8] = le.fit_transform(train_df.iloc[:,8])#product_group_name\n",
    "train_df.iloc[:,14] = le.fit_transform(train_df.iloc[:,14])#index_code\n",
    "\n",
    "test_df.iloc[:,3] = le.fit_transform(test_df.iloc[:,3])#club_member_status\n",
    "test_df.iloc[:,4] = le.fit_transform(test_df.iloc[:,4])#fashion_news_frequency\n",
    "test_df.iloc[:,8] = le.fit_transform(test_df.iloc[:,8])#product_group_name\n",
    "test_df.iloc[:,14] = le.fit_transform(test_df.iloc[:,14])#index_code\n"
   ]
  },
  {
   "cell_type": "code",
   "execution_count": 86,
   "id": "b3bf10ff",
   "metadata": {},
   "outputs": [
    {
     "ename": "AttributeError",
     "evalue": "'int' object has no attribute 'toordinal'",
     "output_type": "error",
     "traceback": [
      "\u001b[1;31m---------------------------------------------------------------------------\u001b[0m",
      "\u001b[1;31mAttributeError\u001b[0m                            Traceback (most recent call last)",
      "Input \u001b[1;32mIn [86]\u001b[0m, in \u001b[0;36m<cell line: 2>\u001b[1;34m()\u001b[0m\n\u001b[0;32m      1\u001b[0m \u001b[38;5;66;03m#encode date as ordinal after we split our training and test data\u001b[39;00m\n\u001b[1;32m----> 2\u001b[0m train_df[\u001b[38;5;124m'\u001b[39m\u001b[38;5;124mt_dat\u001b[39m\u001b[38;5;124m'\u001b[39m] \u001b[38;5;241m=\u001b[39m \u001b[43mtrain_df\u001b[49m\u001b[43m[\u001b[49m\u001b[38;5;124;43m'\u001b[39;49m\u001b[38;5;124;43mt_dat\u001b[39;49m\u001b[38;5;124;43m'\u001b[39;49m\u001b[43m]\u001b[49m\u001b[38;5;241;43m.\u001b[39;49m\u001b[43mapply\u001b[49m\u001b[43m(\u001b[49m\u001b[38;5;28;43;01mlambda\u001b[39;49;00m\u001b[43m \u001b[49m\u001b[43mx\u001b[49m\u001b[43m:\u001b[49m\u001b[43m \u001b[49m\u001b[43mx\u001b[49m\u001b[38;5;241;43m.\u001b[39;49m\u001b[43mtoordinal\u001b[49m\u001b[43m(\u001b[49m\u001b[43m)\u001b[49m\u001b[43m)\u001b[49m\n",
      "File \u001b[1;32md:\\projects\\tudublin\\tu060\\machine learning\\venv\\lib\\site-packages\\pandas\\core\\series.py:4433\u001b[0m, in \u001b[0;36mSeries.apply\u001b[1;34m(self, func, convert_dtype, args, **kwargs)\u001b[0m\n\u001b[0;32m   4323\u001b[0m \u001b[38;5;28;01mdef\u001b[39;00m \u001b[38;5;21mapply\u001b[39m(\n\u001b[0;32m   4324\u001b[0m     \u001b[38;5;28mself\u001b[39m,\n\u001b[0;32m   4325\u001b[0m     func: AggFuncType,\n\u001b[1;32m   (...)\u001b[0m\n\u001b[0;32m   4328\u001b[0m     \u001b[38;5;241m*\u001b[39m\u001b[38;5;241m*\u001b[39mkwargs,\n\u001b[0;32m   4329\u001b[0m ) \u001b[38;5;241m-\u001b[39m\u001b[38;5;241m>\u001b[39m DataFrame \u001b[38;5;241m|\u001b[39m Series:\n\u001b[0;32m   4330\u001b[0m     \u001b[38;5;124;03m\"\"\"\u001b[39;00m\n\u001b[0;32m   4331\u001b[0m \u001b[38;5;124;03m    Invoke function on values of Series.\u001b[39;00m\n\u001b[0;32m   4332\u001b[0m \n\u001b[1;32m   (...)\u001b[0m\n\u001b[0;32m   4431\u001b[0m \u001b[38;5;124;03m    dtype: float64\u001b[39;00m\n\u001b[0;32m   4432\u001b[0m \u001b[38;5;124;03m    \"\"\"\u001b[39;00m\n\u001b[1;32m-> 4433\u001b[0m     \u001b[38;5;28;01mreturn\u001b[39;00m \u001b[43mSeriesApply\u001b[49m\u001b[43m(\u001b[49m\u001b[38;5;28;43mself\u001b[39;49m\u001b[43m,\u001b[49m\u001b[43m \u001b[49m\u001b[43mfunc\u001b[49m\u001b[43m,\u001b[49m\u001b[43m \u001b[49m\u001b[43mconvert_dtype\u001b[49m\u001b[43m,\u001b[49m\u001b[43m \u001b[49m\u001b[43margs\u001b[49m\u001b[43m,\u001b[49m\u001b[43m \u001b[49m\u001b[43mkwargs\u001b[49m\u001b[43m)\u001b[49m\u001b[38;5;241;43m.\u001b[39;49m\u001b[43mapply\u001b[49m\u001b[43m(\u001b[49m\u001b[43m)\u001b[49m\n",
      "File \u001b[1;32md:\\projects\\tudublin\\tu060\\machine learning\\venv\\lib\\site-packages\\pandas\\core\\apply.py:1082\u001b[0m, in \u001b[0;36mSeriesApply.apply\u001b[1;34m(self)\u001b[0m\n\u001b[0;32m   1078\u001b[0m \u001b[38;5;28;01mif\u001b[39;00m \u001b[38;5;28misinstance\u001b[39m(\u001b[38;5;28mself\u001b[39m\u001b[38;5;241m.\u001b[39mf, \u001b[38;5;28mstr\u001b[39m):\n\u001b[0;32m   1079\u001b[0m     \u001b[38;5;66;03m# if we are a string, try to dispatch\u001b[39;00m\n\u001b[0;32m   1080\u001b[0m     \u001b[38;5;28;01mreturn\u001b[39;00m \u001b[38;5;28mself\u001b[39m\u001b[38;5;241m.\u001b[39mapply_str()\n\u001b[1;32m-> 1082\u001b[0m \u001b[38;5;28;01mreturn\u001b[39;00m \u001b[38;5;28;43mself\u001b[39;49m\u001b[38;5;241;43m.\u001b[39;49m\u001b[43mapply_standard\u001b[49m\u001b[43m(\u001b[49m\u001b[43m)\u001b[49m\n",
      "File \u001b[1;32md:\\projects\\tudublin\\tu060\\machine learning\\venv\\lib\\site-packages\\pandas\\core\\apply.py:1137\u001b[0m, in \u001b[0;36mSeriesApply.apply_standard\u001b[1;34m(self)\u001b[0m\n\u001b[0;32m   1131\u001b[0m         values \u001b[38;5;241m=\u001b[39m obj\u001b[38;5;241m.\u001b[39mastype(\u001b[38;5;28mobject\u001b[39m)\u001b[38;5;241m.\u001b[39m_values\n\u001b[0;32m   1132\u001b[0m         \u001b[38;5;66;03m# error: Argument 2 to \"map_infer\" has incompatible type\u001b[39;00m\n\u001b[0;32m   1133\u001b[0m         \u001b[38;5;66;03m# \"Union[Callable[..., Any], str, List[Union[Callable[..., Any], str]],\u001b[39;00m\n\u001b[0;32m   1134\u001b[0m         \u001b[38;5;66;03m# Dict[Hashable, Union[Union[Callable[..., Any], str],\u001b[39;00m\n\u001b[0;32m   1135\u001b[0m         \u001b[38;5;66;03m# List[Union[Callable[..., Any], str]]]]]\"; expected\u001b[39;00m\n\u001b[0;32m   1136\u001b[0m         \u001b[38;5;66;03m# \"Callable[[Any], Any]\"\u001b[39;00m\n\u001b[1;32m-> 1137\u001b[0m         mapped \u001b[38;5;241m=\u001b[39m \u001b[43mlib\u001b[49m\u001b[38;5;241;43m.\u001b[39;49m\u001b[43mmap_infer\u001b[49m\u001b[43m(\u001b[49m\n\u001b[0;32m   1138\u001b[0m \u001b[43m            \u001b[49m\u001b[43mvalues\u001b[49m\u001b[43m,\u001b[49m\n\u001b[0;32m   1139\u001b[0m \u001b[43m            \u001b[49m\u001b[43mf\u001b[49m\u001b[43m,\u001b[49m\u001b[43m  \u001b[49m\u001b[38;5;66;43;03m# type: ignore[arg-type]\u001b[39;49;00m\n\u001b[0;32m   1140\u001b[0m \u001b[43m            \u001b[49m\u001b[43mconvert\u001b[49m\u001b[38;5;241;43m=\u001b[39;49m\u001b[38;5;28;43mself\u001b[39;49m\u001b[38;5;241;43m.\u001b[39;49m\u001b[43mconvert_dtype\u001b[49m\u001b[43m,\u001b[49m\n\u001b[0;32m   1141\u001b[0m \u001b[43m        \u001b[49m\u001b[43m)\u001b[49m\n\u001b[0;32m   1143\u001b[0m \u001b[38;5;28;01mif\u001b[39;00m \u001b[38;5;28mlen\u001b[39m(mapped) \u001b[38;5;129;01mand\u001b[39;00m \u001b[38;5;28misinstance\u001b[39m(mapped[\u001b[38;5;241m0\u001b[39m], ABCSeries):\n\u001b[0;32m   1144\u001b[0m     \u001b[38;5;66;03m# GH#43986 Need to do list(mapped) in order to get treated as nested\u001b[39;00m\n\u001b[0;32m   1145\u001b[0m     \u001b[38;5;66;03m#  See also GH#25959 regarding EA support\u001b[39;00m\n\u001b[0;32m   1146\u001b[0m     \u001b[38;5;28;01mreturn\u001b[39;00m obj\u001b[38;5;241m.\u001b[39m_constructor_expanddim(\u001b[38;5;28mlist\u001b[39m(mapped), index\u001b[38;5;241m=\u001b[39mobj\u001b[38;5;241m.\u001b[39mindex)\n",
      "File \u001b[1;32md:\\projects\\tudublin\\tu060\\machine learning\\venv\\lib\\site-packages\\pandas\\_libs\\lib.pyx:2870\u001b[0m, in \u001b[0;36mpandas._libs.lib.map_infer\u001b[1;34m()\u001b[0m\n",
      "Input \u001b[1;32mIn [86]\u001b[0m, in \u001b[0;36m<lambda>\u001b[1;34m(x)\u001b[0m\n\u001b[0;32m      1\u001b[0m \u001b[38;5;66;03m#encode date as ordinal after we split our training and test data\u001b[39;00m\n\u001b[1;32m----> 2\u001b[0m train_df[\u001b[38;5;124m'\u001b[39m\u001b[38;5;124mt_dat\u001b[39m\u001b[38;5;124m'\u001b[39m] \u001b[38;5;241m=\u001b[39m train_df[\u001b[38;5;124m'\u001b[39m\u001b[38;5;124mt_dat\u001b[39m\u001b[38;5;124m'\u001b[39m]\u001b[38;5;241m.\u001b[39mapply(\u001b[38;5;28;01mlambda\u001b[39;00m x: \u001b[43mx\u001b[49m\u001b[38;5;241;43m.\u001b[39;49m\u001b[43mtoordinal\u001b[49m())\n",
      "\u001b[1;31mAttributeError\u001b[0m: 'int' object has no attribute 'toordinal'"
     ]
    }
   ],
   "source": [
    "#encode date as ordinal after we split our training and test data\n",
    "train_df['t_dat'] = train_df['t_dat'].apply(lambda x: x.toordinal())\n",
    "#reverse encoding. convert from ordinal to date\n",
    "#features_df['t_dat'] = features_df['t_dat'].apply(lambda x: datetime.fromordinal(x))"
   ]
  },
  {
   "cell_type": "code",
   "execution_count": 70,
   "id": "bf5eb229",
   "metadata": {},
   "outputs": [
    {
     "name": "stderr",
     "output_type": "stream",
     "text": [
      "C:\\Users\\newlo\\AppData\\Local\\Temp\\ipykernel_9480\\1173125632.py:2: SettingWithCopyWarning: \n",
      "A value is trying to be set on a copy of a slice from a DataFrame.\n",
      "Try using .loc[row_indexer,col_indexer] = value instead\n",
      "\n",
      "See the caveats in the documentation: https://pandas.pydata.org/pandas-docs/stable/user_guide/indexing.html#returning-a-view-versus-a-copy\n",
      "  test_df['t_dat'] = test_df['t_dat'].apply(lambda x: x.toordinal())\n"
     ]
    }
   ],
   "source": [
    "#encode date as ordinal after we split our training and test data\n",
    "test_df['t_dat'] = test_df['t_dat'].apply(lambda x: x.toordinal())"
   ]
  },
  {
   "cell_type": "code",
   "execution_count": 87,
   "id": "dab8bb27",
   "metadata": {},
   "outputs": [
    {
     "data": {
      "text/html": [
       "<div>\n",
       "<style scoped>\n",
       "    .dataframe tbody tr th:only-of-type {\n",
       "        vertical-align: middle;\n",
       "    }\n",
       "\n",
       "    .dataframe tbody tr th {\n",
       "        vertical-align: top;\n",
       "    }\n",
       "\n",
       "    .dataframe thead th {\n",
       "        text-align: right;\n",
       "    }\n",
       "</style>\n",
       "<table border=\"1\" class=\"dataframe\">\n",
       "  <thead>\n",
       "    <tr style=\"text-align: right;\">\n",
       "      <th></th>\n",
       "      <th>customer_id</th>\n",
       "      <th>fn</th>\n",
       "      <th>active</th>\n",
       "      <th>club_member_status</th>\n",
       "      <th>fashion_news_frequency</th>\n",
       "      <th>age</th>\n",
       "      <th>product_code</th>\n",
       "      <th>product_type_no</th>\n",
       "      <th>product_group_name</th>\n",
       "      <th>graphical_appearance_no</th>\n",
       "      <th>...</th>\n",
       "      <th>perceived_colour_master_id</th>\n",
       "      <th>department_no</th>\n",
       "      <th>index_code</th>\n",
       "      <th>index_group_no</th>\n",
       "      <th>section_no</th>\n",
       "      <th>garment_group_no</th>\n",
       "      <th>t_dat</th>\n",
       "      <th>price</th>\n",
       "      <th>sales_channel_id</th>\n",
       "      <th>article_id</th>\n",
       "    </tr>\n",
       "  </thead>\n",
       "  <tbody>\n",
       "    <tr>\n",
       "      <th>0</th>\n",
       "      <td>0001d44dbe7f6c4b35200abdb052c77a87596fe1bdcc37...</td>\n",
       "      <td>1.0</td>\n",
       "      <td>1.0</td>\n",
       "      <td>0</td>\n",
       "      <td>2</td>\n",
       "      <td>44.0</td>\n",
       "      <td>777148</td>\n",
       "      <td>252</td>\n",
       "      <td>6</td>\n",
       "      <td>1010010</td>\n",
       "      <td>...</td>\n",
       "      <td>4</td>\n",
       "      <td>1626</td>\n",
       "      <td>0</td>\n",
       "      <td>1</td>\n",
       "      <td>15</td>\n",
       "      <td>1003</td>\n",
       "      <td>737669</td>\n",
       "      <td>0.013542</td>\n",
       "      <td>1</td>\n",
       "      <td>777148006</td>\n",
       "    </tr>\n",
       "  </tbody>\n",
       "</table>\n",
       "<p>1 rows × 22 columns</p>\n",
       "</div>"
      ],
      "text/plain": [
       "                                         customer_id   fn  active  \\\n",
       "0  0001d44dbe7f6c4b35200abdb052c77a87596fe1bdcc37...  1.0     1.0   \n",
       "\n",
       "   club_member_status  fashion_news_frequency   age  product_code  \\\n",
       "0                   0                       2  44.0        777148   \n",
       "\n",
       "   product_type_no  product_group_name  graphical_appearance_no  ...  \\\n",
       "0              252                   6                  1010010  ...   \n",
       "\n",
       "   perceived_colour_master_id  department_no  index_code  index_group_no  \\\n",
       "0                           4           1626           0               1   \n",
       "\n",
       "   section_no  garment_group_no   t_dat     price  sales_channel_id  \\\n",
       "0          15              1003  737669  0.013542                 1   \n",
       "\n",
       "   article_id  \n",
       "0   777148006  \n",
       "\n",
       "[1 rows x 22 columns]"
      ]
     },
     "execution_count": 87,
     "metadata": {},
     "output_type": "execute_result"
    }
   ],
   "source": [
    "train_df.head(1)"
   ]
  },
  {
   "cell_type": "code",
   "execution_count": 88,
   "id": "7cf6a7ac",
   "metadata": {},
   "outputs": [
    {
     "data": {
      "text/html": [
       "<div>\n",
       "<style scoped>\n",
       "    .dataframe tbody tr th:only-of-type {\n",
       "        vertical-align: middle;\n",
       "    }\n",
       "\n",
       "    .dataframe tbody tr th {\n",
       "        vertical-align: top;\n",
       "    }\n",
       "\n",
       "    .dataframe thead th {\n",
       "        text-align: right;\n",
       "    }\n",
       "</style>\n",
       "<table border=\"1\" class=\"dataframe\">\n",
       "  <thead>\n",
       "    <tr style=\"text-align: right;\">\n",
       "      <th></th>\n",
       "      <th>customer_id</th>\n",
       "      <th>fn</th>\n",
       "      <th>active</th>\n",
       "      <th>club_member_status</th>\n",
       "      <th>fashion_news_frequency</th>\n",
       "      <th>age</th>\n",
       "      <th>product_code</th>\n",
       "      <th>product_type_no</th>\n",
       "      <th>product_group_name</th>\n",
       "      <th>graphical_appearance_no</th>\n",
       "      <th>...</th>\n",
       "      <th>perceived_colour_master_id</th>\n",
       "      <th>department_no</th>\n",
       "      <th>index_code</th>\n",
       "      <th>index_group_no</th>\n",
       "      <th>section_no</th>\n",
       "      <th>garment_group_no</th>\n",
       "      <th>t_dat</th>\n",
       "      <th>price</th>\n",
       "      <th>sales_channel_id</th>\n",
       "      <th>article_id</th>\n",
       "    </tr>\n",
       "  </thead>\n",
       "  <tbody>\n",
       "    <tr>\n",
       "      <th>35</th>\n",
       "      <td>4078d35f7b2ae7a56cfdaec8c42959bf28f1f7ed742ab6...</td>\n",
       "      <td>0.0</td>\n",
       "      <td>0.0</td>\n",
       "      <td>0</td>\n",
       "      <td>1</td>\n",
       "      <td>25.0</td>\n",
       "      <td>835801</td>\n",
       "      <td>252</td>\n",
       "      <td>6</td>\n",
       "      <td>1010016</td>\n",
       "      <td>...</td>\n",
       "      <td>9</td>\n",
       "      <td>1626</td>\n",
       "      <td>0</td>\n",
       "      <td>1</td>\n",
       "      <td>15</td>\n",
       "      <td>1003</td>\n",
       "      <td>737690</td>\n",
       "      <td>0.011847</td>\n",
       "      <td>1</td>\n",
       "      <td>835801001</td>\n",
       "    </tr>\n",
       "  </tbody>\n",
       "</table>\n",
       "<p>1 rows × 22 columns</p>\n",
       "</div>"
      ],
      "text/plain": [
       "                                          customer_id   fn  active  \\\n",
       "35  4078d35f7b2ae7a56cfdaec8c42959bf28f1f7ed742ab6...  0.0     0.0   \n",
       "\n",
       "    club_member_status  fashion_news_frequency   age  product_code  \\\n",
       "35                   0                       1  25.0        835801   \n",
       "\n",
       "    product_type_no  product_group_name  graphical_appearance_no  ...  \\\n",
       "35              252                   6                  1010016  ...   \n",
       "\n",
       "    perceived_colour_master_id  department_no  index_code  index_group_no  \\\n",
       "35                           9           1626           0               1   \n",
       "\n",
       "    section_no  garment_group_no   t_dat     price  sales_channel_id  \\\n",
       "35          15              1003  737690  0.011847                 1   \n",
       "\n",
       "    article_id  \n",
       "35   835801001  \n",
       "\n",
       "[1 rows x 22 columns]"
      ]
     },
     "execution_count": 88,
     "metadata": {},
     "output_type": "execute_result"
    }
   ],
   "source": [
    "test_df.head(1)"
   ]
  },
  {
   "cell_type": "markdown",
   "id": "3a83a302",
   "metadata": {},
   "source": [
    "### Create Feature & Target Matrix"
   ]
  },
  {
   "cell_type": "code",
   "execution_count": 89,
   "id": "f98285a5",
   "metadata": {},
   "outputs": [
    {
     "data": {
      "text/plain": [
       "(531905, 19)"
      ]
     },
     "execution_count": 89,
     "metadata": {},
     "output_type": "execute_result"
    }
   ],
   "source": [
    "#These are the attributes of our customers\n",
    "X_train = train_df.iloc[:, 1: 20].values\n",
    "X_train.shape"
   ]
  },
  {
   "cell_type": "code",
   "execution_count": 90,
   "id": "7d671ed0",
   "metadata": {},
   "outputs": [
    {
     "data": {
      "text/plain": [
       "(531905,)"
      ]
     },
     "execution_count": 90,
     "metadata": {},
     "output_type": "execute_result"
    }
   ],
   "source": [
    "# this is the product or in our case the class\n",
    "y_train = train_df.iloc[:, 21].values\n",
    "y_train.shape"
   ]
  },
  {
   "cell_type": "code",
   "execution_count": 91,
   "id": "519dd1c7",
   "metadata": {},
   "outputs": [
    {
     "data": {
      "text/plain": [
       "(266364, 19)"
      ]
     },
     "execution_count": 91,
     "metadata": {},
     "output_type": "execute_result"
    }
   ],
   "source": [
    "# these are future customers\n",
    "X_test = test_df.iloc[:, 1: 20].values\n",
    "X_test.shape"
   ]
  },
  {
   "cell_type": "code",
   "execution_count": 92,
   "id": "50d7b02b",
   "metadata": {},
   "outputs": [
    {
     "data": {
      "text/plain": [
       "(266364,)"
      ]
     },
     "execution_count": 92,
     "metadata": {},
     "output_type": "execute_result"
    }
   ],
   "source": [
    "# these are future products\n",
    "y_test = test_df.iloc[:, 21].values\n",
    "y_test.shape"
   ]
  },
  {
   "cell_type": "markdown",
   "id": "a3acf7e5",
   "metadata": {},
   "source": [
    "### Feature Scaling: MinMax - range (0,1)"
   ]
  },
  {
   "cell_type": "code",
   "execution_count": 93,
   "id": "1f7ddef1",
   "metadata": {},
   "outputs": [],
   "source": [
    "min_max_scaler = preprocessing.MinMaxScaler(feature_range=(0, 1))"
   ]
  },
  {
   "cell_type": "code",
   "execution_count": 94,
   "id": "4ae7ade2",
   "metadata": {},
   "outputs": [
    {
     "data": {
      "text/plain": [
       "array([[1.        , 1.        , 0.        , ..., 0.08333333, 0.        ,\n",
       "        0.02590795],\n",
       "       [1.        , 1.        , 0.        , ..., 0.08333333, 0.        ,\n",
       "        0.03594979],\n",
       "       [1.        , 1.        , 0.        , ..., 0.16666667, 0.        ,\n",
       "        0.02423431],\n",
       "       ...,\n",
       "       [0.        , 0.        , 0.        , ..., 0.16666667, 1.        ,\n",
       "        0.07062762],\n",
       "       [0.        , 0.        , 0.        , ..., 0.41666667, 1.        ,\n",
       "        0.04933891],\n",
       "       [0.        , 0.        , 0.        , ..., 0.79166667, 1.        ,\n",
       "        0.06607531]])"
      ]
     },
     "execution_count": 94,
     "metadata": {},
     "output_type": "execute_result"
    }
   ],
   "source": [
    "X_train_scaled = min_max_scaler.fit_transform(X_train)\n",
    "X_train_scaled"
   ]
  },
  {
   "cell_type": "code",
   "execution_count": 95,
   "id": "a0b7a32d",
   "metadata": {},
   "outputs": [
    {
     "data": {
      "text/plain": [
       "(266364, 19)"
      ]
     },
     "execution_count": 95,
     "metadata": {},
     "output_type": "execute_result"
    }
   ],
   "source": [
    "X_test_scaled = min_max_scaler.fit_transform(X_test)\n",
    "X_test_scaled.shape"
   ]
  },
  {
   "cell_type": "markdown",
   "id": "f2ed77db",
   "metadata": {},
   "source": [
    "## Model Building"
   ]
  },
  {
   "cell_type": "markdown",
   "id": "39c009a3",
   "metadata": {},
   "source": [
    "### Training the K-NN model on our Training set"
   ]
  },
  {
   "cell_type": "code",
   "execution_count": 96,
   "id": "f5a4f02b",
   "metadata": {},
   "outputs": [],
   "source": [
    "hm_clf = KNeighborsClassifier(n_neighbors=5, metric=\"minkowski\", p=2) \n",
    "# n_neighbors: number of neighbors. Default is 5\n",
    "# metric=\"minkowski\", p=2: will calculate distance as eucledian distance formula"
   ]
  },
  {
   "cell_type": "code",
   "execution_count": 97,
   "id": "d69686d0",
   "metadata": {},
   "outputs": [
    {
     "data": {
      "text/plain": [
       "KNeighborsClassifier()"
      ]
     },
     "execution_count": 97,
     "metadata": {},
     "output_type": "execute_result"
    }
   ],
   "source": [
    "hm_clf.fit(X_train_scaled, y_train)"
   ]
  },
  {
   "cell_type": "markdown",
   "id": "6e34a325",
   "metadata": {},
   "source": [
    "### Predicting a new result"
   ]
  },
  {
   "cell_type": "code",
   "execution_count": 98,
   "id": "32632014",
   "metadata": {},
   "outputs": [],
   "source": [
    "#print(classifier.predict(sc.transform([[0001d44dbe7f6c4b35200abdb052c77a87596fe1bdcc37, 30,2020-09-08]])))"
   ]
  },
  {
   "cell_type": "markdown",
   "id": "cbc98226",
   "metadata": {},
   "source": [
    "### Predicting the Test set results"
   ]
  },
  {
   "cell_type": "code",
   "execution_count": 99,
   "id": "b60140b3",
   "metadata": {},
   "outputs": [],
   "source": [
    "y_pred = hm_clf.predict(X_test_scaled)"
   ]
  },
  {
   "cell_type": "code",
   "execution_count": 44,
   "id": "6777cfe2",
   "metadata": {},
   "outputs": [
    {
     "data": {
      "text/plain": [
       "array(['893059005', '568601023', '902026001', ..., '456163087',\n",
       "       '658030011', '658030011'], dtype=object)"
      ]
     },
     "execution_count": 44,
     "metadata": {},
     "output_type": "execute_result"
    }
   ],
   "source": [
    "y_pred # here we see the model predict products for the test data."
   ]
  },
  {
   "cell_type": "markdown",
   "id": "61d135b5",
   "metadata": {},
   "source": [
    "## Model Evaluation"
   ]
  },
  {
   "cell_type": "code",
   "execution_count": 100,
   "id": "3f3abbb5",
   "metadata": {},
   "outputs": [
    {
     "name": "stdout",
     "output_type": "stream",
     "text": [
      "Accuracy of H&M KNN Classifier: 0.4320478743373729\n"
     ]
    }
   ],
   "source": [
    "print(\"Accuracy of H&M KNN Classifier:\", accuracy_score(y_test, y_pred))"
   ]
  },
  {
   "cell_type": "code",
   "execution_count": 101,
   "id": "982bfb37",
   "metadata": {},
   "outputs": [
    {
     "name": "stdout",
     "output_type": "stream",
     "text": [
      "Precision Score for H&M KNN Classifier: 0.1615157266704515\n"
     ]
    },
    {
     "name": "stderr",
     "output_type": "stream",
     "text": [
      "d:\\projects\\tudublin\\tu060\\machine learning\\venv\\lib\\site-packages\\sklearn\\metrics\\_classification.py:1318: UndefinedMetricWarning: Precision is ill-defined and being set to 0.0 in labels with no predicted samples. Use `zero_division` parameter to control this behavior.\n",
      "  _warn_prf(average, modifier, msg_start, len(result))\n"
     ]
    }
   ],
   "source": [
    "print(\"Precision Score for H&M KNN Classifier:\", precision_score(y_test, y_pred, average='macro'))"
   ]
  },
  {
   "cell_type": "markdown",
   "id": "65811a0e",
   "metadata": {},
   "source": [
    "## Results & Discussion"
   ]
  },
  {
   "cell_type": "markdown",
   "id": "a4c03ebb",
   "metadata": {},
   "source": [
    "First H&M KNN Classifier Model Accuracy was 0.00497 and Precision Score was 0.001, both less than 1% accurate.\n",
    " * We used the last 3 weeks in September 2020 from our transaction dataset to be used later for training and testing data.\n",
    " * We used Customer attributes, the full date range (YYYY-MM-DD) and transaction attributes as features to predict products.\n",
    " * We filled in missing data in our customer attributes using SimpleImputer to impute most frequent categories and median was used to impute missing ages.\n",
    " * We split our data up by time instead of random assignment. This meant 2 weeks (in the past) were used for training and 1 week (in the future) was used for testing testing\n",
    " * We encoded our categorical data using the LabelEncoder and date feature by converting the date into an ordinal number. This was after the training/test split.\n",
    " * We created our training and testing datasets and scaled them using MinMax range (0 to 1)\n",
    " * To build the KNN Classifier model, we used k=5 and our metric was minkowski p2, This meant we calculated the distance using eucledian distance formula.\n",
    " * To evaluate the model, we used accuracy as a measuring score. Which compared our predicted products to what was in the test dataset.\n",
    " \n",
    "Second H&M KNN Classifier Model Accuracy increased to 0.432 and Precision Score increased to 0.161.\n",
    " * We included product attributes in with Customer attributes, the full date range (YYYY-MM-DD) and transaction attributes as features to predict products. This lead to curse of dimensionality. The KNN Classifier performs poorly with too many features. For the next test we should reduce the amount of features we have. To do this we must use dimension reduction techniques such as principle component analysis (when we have lots of features) or singular value decomposition (SVD) when we have sparse data.\n",
    " "
   ]
  },
  {
   "cell_type": "markdown",
   "id": "6aa6c783",
   "metadata": {},
   "source": [
    "## References"
   ]
  },
  {
   "cell_type": "markdown",
   "id": "36c086e6",
   "metadata": {},
   "source": [
    "* https://www.kaggle.com/code/martandsay/knn-multi-classification-animal-classification/notebook\n",
    "* https://towardsdatascience.com/multiclass-classification-using-k-nearest-neighbours-ca5281a9ef76\n",
    "* https://analyticsindiamag.com/singular-value-decomposition-svd-application-recommender-system/"
   ]
  }
 ],
 "metadata": {
  "kernelspec": {
   "display_name": "Python 3 (ipykernel)",
   "language": "python",
   "name": "python3"
  },
  "language_info": {
   "codemirror_mode": {
    "name": "ipython",
    "version": 3
   },
   "file_extension": ".py",
   "mimetype": "text/x-python",
   "name": "python",
   "nbconvert_exporter": "python",
   "pygments_lexer": "ipython3",
   "version": "3.8.10"
  }
 },
 "nbformat": 4,
 "nbformat_minor": 5
}
