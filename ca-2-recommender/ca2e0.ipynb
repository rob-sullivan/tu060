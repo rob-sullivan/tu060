{
 "cells": [
  {
   "cell_type": "markdown",
   "id": "82866eef",
   "metadata": {},
   "source": [
    "# Requirement"
   ]
  },
  {
   "cell_type": "markdown",
   "id": "7127d743",
   "metadata": {},
   "source": [
    "For each customer (customer_id), H&M want a prediction of up to 12 products (article_ids), which is the predicted items a customer will buy in the next 7-day period after the training time period. The file should contain a header and have the following format."
   ]
  },
  {
   "cell_type": "code",
   "execution_count": 1,
   "id": "bbd31156",
   "metadata": {},
   "outputs": [],
   "source": [
    "import pandas as pd\n",
    "import numpy as np\n",
    "\n",
    "#used during data exploration\n",
    "import matplotlib.pyplot as plt\n",
    "import matplotlib.patches as mpatches\n",
    "\n",
    "#handling missing values where not dropped\n",
    "from sklearn.impute import SimpleImputer\n",
    "\n",
    "from sklearn import preprocessing\n",
    "from sklearn.neighbors import NearestNeighbors\n",
    "\n",
    "from IPython.display import display, clear_output"
   ]
  },
  {
   "cell_type": "markdown",
   "id": "811fac61",
   "metadata": {},
   "source": [
    "# Get the Data"
   ]
  },
  {
   "cell_type": "code",
   "execution_count": 2,
   "id": "8a307ab7",
   "metadata": {},
   "outputs": [],
   "source": [
    "#get transaction data\n",
    "transactions_train_df = pd.read_csv(\"data/transactions_train.csv\") # import the transactions dataset"
   ]
  },
  {
   "cell_type": "code",
   "execution_count": 3,
   "id": "f3dfedea",
   "metadata": {},
   "outputs": [],
   "source": [
    "#get product meta data\n",
    "articles_df = pd.read_csv(\"data/articles.csv\")"
   ]
  },
  {
   "cell_type": "code",
   "execution_count": 4,
   "id": "35b7c0d5",
   "metadata": {},
   "outputs": [],
   "source": [
    "#get customer meta data\n",
    "customers_df = pd.read_csv(\"data/customers.csv\")"
   ]
  },
  {
   "cell_type": "markdown",
   "id": "f89abe2c",
   "metadata": {},
   "source": [
    "# Prepare the Transaction Dataset"
   ]
  },
  {
   "cell_type": "code",
   "execution_count": 5,
   "id": "7cd3ba57",
   "metadata": {},
   "outputs": [],
   "source": [
    "#first we will drop the sales channel as it will not be needed\n",
    "transactions_train_df = transactions_train_df.drop(['sales_channel_id'], axis=1)"
   ]
  },
  {
   "cell_type": "code",
   "execution_count": 6,
   "id": "54790a81",
   "metadata": {},
   "outputs": [],
   "source": [
    "#we then convert our date text into a panda date type.\n",
    "transactions_train_df[\"t_dat\"] = pd.to_datetime(transactions_train_df[\"t_dat\"])"
   ]
  },
  {
   "cell_type": "code",
   "execution_count": 7,
   "id": "573d9551",
   "metadata": {},
   "outputs": [],
   "source": [
    "#now we split out the date into seperate columns for day, month and year making use of python zip for memory efficiency\n",
    "days, months, years  = zip(*[(d.day, d.month, d.year) for d in transactions_train_df['t_dat']])\n",
    "transactions_train_df = transactions_train_df.assign(day=days, month=months, year=years)"
   ]
  },
  {
   "cell_type": "code",
   "execution_count": 8,
   "id": "462fd2b5",
   "metadata": {},
   "outputs": [],
   "source": [
    "#we drop the t_dat column as it is no longer needed\n",
    "transactions_train_df = transactions_train_df.drop(['t_dat'], axis=1)"
   ]
  },
  {
   "cell_type": "code",
   "execution_count": 9,
   "id": "e89f19b0",
   "metadata": {},
   "outputs": [],
   "source": [
    "#we convert articles to string instead of default int.\n",
    "transactions_train_df['article_id'] = transactions_train_df['article_id'].values.astype(str)"
   ]
  },
  {
   "cell_type": "code",
   "execution_count": 10,
   "id": "4fb1154d",
   "metadata": {},
   "outputs": [],
   "source": [
    "#we now reorganise the dataset to treat articles as the predictor\n",
    "transactions_train_df = transactions_train_df[['article_id', 'year', 'month', 'day', 'price', 'customer_id']]"
   ]
  },
  {
   "cell_type": "code",
   "execution_count": 11,
   "id": "d5bf3102",
   "metadata": {},
   "outputs": [
    {
     "data": {
      "text/html": [
       "<div>\n",
       "<style scoped>\n",
       "    .dataframe tbody tr th:only-of-type {\n",
       "        vertical-align: middle;\n",
       "    }\n",
       "\n",
       "    .dataframe tbody tr th {\n",
       "        vertical-align: top;\n",
       "    }\n",
       "\n",
       "    .dataframe thead th {\n",
       "        text-align: right;\n",
       "    }\n",
       "</style>\n",
       "<table border=\"1\" class=\"dataframe\">\n",
       "  <thead>\n",
       "    <tr style=\"text-align: right;\">\n",
       "      <th></th>\n",
       "      <th>year</th>\n",
       "      <th>month</th>\n",
       "      <th>day</th>\n",
       "      <th>price</th>\n",
       "      <th>customer_id</th>\n",
       "    </tr>\n",
       "    <tr>\n",
       "      <th>article_id</th>\n",
       "      <th></th>\n",
       "      <th></th>\n",
       "      <th></th>\n",
       "      <th></th>\n",
       "      <th></th>\n",
       "    </tr>\n",
       "  </thead>\n",
       "  <tbody>\n",
       "    <tr>\n",
       "      <th>663713001</th>\n",
       "      <td>2018</td>\n",
       "      <td>9</td>\n",
       "      <td>20</td>\n",
       "      <td>0.050831</td>\n",
       "      <td>000058a12d5b43e67d225668fa1f8d618c13dc232df0ca...</td>\n",
       "    </tr>\n",
       "    <tr>\n",
       "      <th>541518023</th>\n",
       "      <td>2018</td>\n",
       "      <td>9</td>\n",
       "      <td>20</td>\n",
       "      <td>0.030492</td>\n",
       "      <td>000058a12d5b43e67d225668fa1f8d618c13dc232df0ca...</td>\n",
       "    </tr>\n",
       "    <tr>\n",
       "      <th>505221004</th>\n",
       "      <td>2018</td>\n",
       "      <td>9</td>\n",
       "      <td>20</td>\n",
       "      <td>0.015237</td>\n",
       "      <td>00007d2de826758b65a93dd24ce629ed66842531df6699...</td>\n",
       "    </tr>\n",
       "    <tr>\n",
       "      <th>685687003</th>\n",
       "      <td>2018</td>\n",
       "      <td>9</td>\n",
       "      <td>20</td>\n",
       "      <td>0.016932</td>\n",
       "      <td>00007d2de826758b65a93dd24ce629ed66842531df6699...</td>\n",
       "    </tr>\n",
       "    <tr>\n",
       "      <th>685687004</th>\n",
       "      <td>2018</td>\n",
       "      <td>9</td>\n",
       "      <td>20</td>\n",
       "      <td>0.016932</td>\n",
       "      <td>00007d2de826758b65a93dd24ce629ed66842531df6699...</td>\n",
       "    </tr>\n",
       "    <tr>\n",
       "      <th>...</th>\n",
       "      <td>...</td>\n",
       "      <td>...</td>\n",
       "      <td>...</td>\n",
       "      <td>...</td>\n",
       "      <td>...</td>\n",
       "    </tr>\n",
       "    <tr>\n",
       "      <th>929511001</th>\n",
       "      <td>2020</td>\n",
       "      <td>9</td>\n",
       "      <td>22</td>\n",
       "      <td>0.059305</td>\n",
       "      <td>fff2282977442e327b45d8c89afde25617d00124d0f999...</td>\n",
       "    </tr>\n",
       "    <tr>\n",
       "      <th>891322004</th>\n",
       "      <td>2020</td>\n",
       "      <td>9</td>\n",
       "      <td>22</td>\n",
       "      <td>0.042356</td>\n",
       "      <td>fff2282977442e327b45d8c89afde25617d00124d0f999...</td>\n",
       "    </tr>\n",
       "    <tr>\n",
       "      <th>918325001</th>\n",
       "      <td>2020</td>\n",
       "      <td>9</td>\n",
       "      <td>22</td>\n",
       "      <td>0.043203</td>\n",
       "      <td>fff380805474b287b05cb2a7507b9a013482f7dd0bce0e...</td>\n",
       "    </tr>\n",
       "    <tr>\n",
       "      <th>833459002</th>\n",
       "      <td>2020</td>\n",
       "      <td>9</td>\n",
       "      <td>22</td>\n",
       "      <td>0.006763</td>\n",
       "      <td>fff4d3a8b1f3b60af93e78c30a7cb4cf75edaf2590d3e5...</td>\n",
       "    </tr>\n",
       "    <tr>\n",
       "      <th>898573003</th>\n",
       "      <td>2020</td>\n",
       "      <td>9</td>\n",
       "      <td>22</td>\n",
       "      <td>0.033881</td>\n",
       "      <td>fffef3b6b73545df065b521e19f64bf6fe93bfd450ab20...</td>\n",
       "    </tr>\n",
       "  </tbody>\n",
       "</table>\n",
       "<p>31788324 rows × 5 columns</p>\n",
       "</div>"
      ],
      "text/plain": [
       "            year  month  day     price  \\\n",
       "article_id                               \n",
       "663713001   2018      9   20  0.050831   \n",
       "541518023   2018      9   20  0.030492   \n",
       "505221004   2018      9   20  0.015237   \n",
       "685687003   2018      9   20  0.016932   \n",
       "685687004   2018      9   20  0.016932   \n",
       "...          ...    ...  ...       ...   \n",
       "929511001   2020      9   22  0.059305   \n",
       "891322004   2020      9   22  0.042356   \n",
       "918325001   2020      9   22  0.043203   \n",
       "833459002   2020      9   22  0.006763   \n",
       "898573003   2020      9   22  0.033881   \n",
       "\n",
       "                                                  customer_id  \n",
       "article_id                                                     \n",
       "663713001   000058a12d5b43e67d225668fa1f8d618c13dc232df0ca...  \n",
       "541518023   000058a12d5b43e67d225668fa1f8d618c13dc232df0ca...  \n",
       "505221004   00007d2de826758b65a93dd24ce629ed66842531df6699...  \n",
       "685687003   00007d2de826758b65a93dd24ce629ed66842531df6699...  \n",
       "685687004   00007d2de826758b65a93dd24ce629ed66842531df6699...  \n",
       "...                                                       ...  \n",
       "929511001   fff2282977442e327b45d8c89afde25617d00124d0f999...  \n",
       "891322004   fff2282977442e327b45d8c89afde25617d00124d0f999...  \n",
       "918325001   fff380805474b287b05cb2a7507b9a013482f7dd0bce0e...  \n",
       "833459002   fff4d3a8b1f3b60af93e78c30a7cb4cf75edaf2590d3e5...  \n",
       "898573003   fffef3b6b73545df065b521e19f64bf6fe93bfd450ab20...  \n",
       "\n",
       "[31788324 rows x 5 columns]"
      ]
     },
     "execution_count": 11,
     "metadata": {},
     "output_type": "execute_result"
    }
   ],
   "source": [
    "#we set articles column to index\n",
    "transactions_train_df.set_index('article_id')"
   ]
  },
  {
   "cell_type": "code",
   "execution_count": 12,
   "id": "dafb6c0b",
   "metadata": {},
   "outputs": [
    {
     "data": {
      "text/html": [
       "<div>\n",
       "<style scoped>\n",
       "    .dataframe tbody tr th:only-of-type {\n",
       "        vertical-align: middle;\n",
       "    }\n",
       "\n",
       "    .dataframe tbody tr th {\n",
       "        vertical-align: top;\n",
       "    }\n",
       "\n",
       "    .dataframe thead th {\n",
       "        text-align: right;\n",
       "    }\n",
       "</style>\n",
       "<table border=\"1\" class=\"dataframe\">\n",
       "  <thead>\n",
       "    <tr style=\"text-align: right;\">\n",
       "      <th></th>\n",
       "      <th>year</th>\n",
       "      <th>month</th>\n",
       "      <th>day</th>\n",
       "      <th>price</th>\n",
       "    </tr>\n",
       "  </thead>\n",
       "  <tbody>\n",
       "    <tr>\n",
       "      <th>count</th>\n",
       "      <td>3.178832e+07</td>\n",
       "      <td>3.178832e+07</td>\n",
       "      <td>3.178832e+07</td>\n",
       "      <td>3.178832e+07</td>\n",
       "    </tr>\n",
       "    <tr>\n",
       "      <th>mean</th>\n",
       "      <td>2.019207e+03</td>\n",
       "      <td>6.511067e+00</td>\n",
       "      <td>1.624134e+01</td>\n",
       "      <td>2.782927e-02</td>\n",
       "    </tr>\n",
       "    <tr>\n",
       "      <th>std</th>\n",
       "      <td>6.644412e-01</td>\n",
       "      <td>3.273328e+00</td>\n",
       "      <td>8.934254e+00</td>\n",
       "      <td>1.918113e-02</td>\n",
       "    </tr>\n",
       "    <tr>\n",
       "      <th>min</th>\n",
       "      <td>2.018000e+03</td>\n",
       "      <td>1.000000e+00</td>\n",
       "      <td>1.000000e+00</td>\n",
       "      <td>1.694915e-05</td>\n",
       "    </tr>\n",
       "    <tr>\n",
       "      <th>25%</th>\n",
       "      <td>2.019000e+03</td>\n",
       "      <td>4.000000e+00</td>\n",
       "      <td>8.000000e+00</td>\n",
       "      <td>1.581356e-02</td>\n",
       "    </tr>\n",
       "    <tr>\n",
       "      <th>50%</th>\n",
       "      <td>2.019000e+03</td>\n",
       "      <td>6.000000e+00</td>\n",
       "      <td>1.700000e+01</td>\n",
       "      <td>2.540678e-02</td>\n",
       "    </tr>\n",
       "    <tr>\n",
       "      <th>75%</th>\n",
       "      <td>2.020000e+03</td>\n",
       "      <td>9.000000e+00</td>\n",
       "      <td>2.400000e+01</td>\n",
       "      <td>3.388136e-02</td>\n",
       "    </tr>\n",
       "    <tr>\n",
       "      <th>max</th>\n",
       "      <td>2.020000e+03</td>\n",
       "      <td>1.200000e+01</td>\n",
       "      <td>3.100000e+01</td>\n",
       "      <td>5.915254e-01</td>\n",
       "    </tr>\n",
       "  </tbody>\n",
       "</table>\n",
       "</div>"
      ],
      "text/plain": [
       "               year         month           day         price\n",
       "count  3.178832e+07  3.178832e+07  3.178832e+07  3.178832e+07\n",
       "mean   2.019207e+03  6.511067e+00  1.624134e+01  2.782927e-02\n",
       "std    6.644412e-01  3.273328e+00  8.934254e+00  1.918113e-02\n",
       "min    2.018000e+03  1.000000e+00  1.000000e+00  1.694915e-05\n",
       "25%    2.019000e+03  4.000000e+00  8.000000e+00  1.581356e-02\n",
       "50%    2.019000e+03  6.000000e+00  1.700000e+01  2.540678e-02\n",
       "75%    2.020000e+03  9.000000e+00  2.400000e+01  3.388136e-02\n",
       "max    2.020000e+03  1.200000e+01  3.100000e+01  5.915254e-01"
      ]
     },
     "execution_count": 12,
     "metadata": {},
     "output_type": "execute_result"
    }
   ],
   "source": [
    "# we want to see distributions and std dev\n",
    "transactions_train_df.describe()"
   ]
  },
  {
   "cell_type": "markdown",
   "id": "790579bf",
   "metadata": {},
   "source": [
    "# Prepare Customer Dataset"
   ]
  },
  {
   "cell_type": "markdown",
   "id": "6f518981",
   "metadata": {},
   "source": [
    "H&M are expecting about 1,371,980 prediction rows, we will only have 1,362,281 because 9,699 customers have not purchased anything yet.\n",
    "\n",
    "Originally we were going to generate a list of missing customers, determine their demographics and match to those who have made transactions then use their values to fill the missing. This however was computationally expensive."
   ]
  },
  {
   "cell_type": "code",
   "execution_count": 13,
   "id": "7e663357",
   "metadata": {},
   "outputs": [
    {
     "data": {
      "text/plain": [
       "1371980"
      ]
     },
     "execution_count": 13,
     "metadata": {},
     "output_type": "execute_result"
    }
   ],
   "source": [
    "customers_df['customer_id'].size"
   ]
  },
  {
   "cell_type": "code",
   "execution_count": 14,
   "id": "50025a0e",
   "metadata": {},
   "outputs": [],
   "source": [
    "cus_pred_df = transactions_train_df.groupby(transactions_train_df.customer_id)[['day','price']].median()"
   ]
  },
  {
   "cell_type": "code",
   "execution_count": 15,
   "id": "50b79633",
   "metadata": {},
   "outputs": [
    {
     "name": "stdout",
     "output_type": "stream",
     "text": [
      "<class 'pandas.core.frame.DataFrame'>\n",
      "Index: 1362281 entries, 00000dbacae5abe5e23885899a1fa44253a17956c6d1c3d25f88aa139fdfc657 to ffffd9ac14e89946416d80e791d064701994755c3ab686a1eaf3458c36f52241\n",
      "Data columns (total 2 columns):\n",
      " #   Column  Non-Null Count    Dtype  \n",
      "---  ------  --------------    -----  \n",
      " 0   day     1362281 non-null  float64\n",
      " 1   price   1362281 non-null  float64\n",
      "dtypes: float64(2)\n",
      "memory usage: 31.2+ MB\n"
     ]
    }
   ],
   "source": [
    "cus_pred_df.info()"
   ]
  },
  {
   "cell_type": "code",
   "execution_count": 16,
   "id": "f1ca5d96",
   "metadata": {},
   "outputs": [
    {
     "data": {
      "text/plain": [
       "1362281"
      ]
     },
     "execution_count": 16,
     "metadata": {},
     "output_type": "execute_result"
    }
   ],
   "source": [
    "cus_pred_df['day'].size #we set articles column to index"
   ]
  },
  {
   "cell_type": "code",
   "execution_count": 17,
   "id": "b92ffa51",
   "metadata": {},
   "outputs": [],
   "source": [
    "cus_pred_df['customer_id'] = cus_pred_df.index"
   ]
  },
  {
   "cell_type": "code",
   "execution_count": 18,
   "id": "fd96e77f",
   "metadata": {},
   "outputs": [],
   "source": [
    "cus_pred_df = cus_pred_df.reset_index(drop=True)"
   ]
  },
  {
   "cell_type": "code",
   "execution_count": 19,
   "id": "7e45dc04",
   "metadata": {},
   "outputs": [],
   "source": [
    "cus_pred_df = cus_pred_df[['customer_id', 'day', 'price']]"
   ]
  },
  {
   "cell_type": "code",
   "execution_count": 20,
   "id": "080735dc",
   "metadata": {},
   "outputs": [
    {
     "data": {
      "text/html": [
       "<div>\n",
       "<style scoped>\n",
       "    .dataframe tbody tr th:only-of-type {\n",
       "        vertical-align: middle;\n",
       "    }\n",
       "\n",
       "    .dataframe tbody tr th {\n",
       "        vertical-align: top;\n",
       "    }\n",
       "\n",
       "    .dataframe thead th {\n",
       "        text-align: right;\n",
       "    }\n",
       "</style>\n",
       "<table border=\"1\" class=\"dataframe\">\n",
       "  <thead>\n",
       "    <tr style=\"text-align: right;\">\n",
       "      <th></th>\n",
       "      <th>customer_id</th>\n",
       "      <th>day</th>\n",
       "      <th>price</th>\n",
       "    </tr>\n",
       "  </thead>\n",
       "  <tbody>\n",
       "    <tr>\n",
       "      <th>0</th>\n",
       "      <td>00000dbacae5abe5e23885899a1fa44253a17956c6d1c3...</td>\n",
       "      <td>25.0</td>\n",
       "      <td>0.030492</td>\n",
       "    </tr>\n",
       "    <tr>\n",
       "      <th>1</th>\n",
       "      <td>0000423b00ade91418cceaf3b26c6af3dd342b51fd051e...</td>\n",
       "      <td>21.0</td>\n",
       "      <td>0.025407</td>\n",
       "    </tr>\n",
       "    <tr>\n",
       "      <th>2</th>\n",
       "      <td>000058a12d5b43e67d225668fa1f8d618c13dc232df0ca...</td>\n",
       "      <td>18.0</td>\n",
       "      <td>0.033881</td>\n",
       "    </tr>\n",
       "    <tr>\n",
       "      <th>3</th>\n",
       "      <td>00005ca1c9ed5f5146b52ac8639a40ca9d57aeff4d1bd2...</td>\n",
       "      <td>9.0</td>\n",
       "      <td>0.030492</td>\n",
       "    </tr>\n",
       "    <tr>\n",
       "      <th>4</th>\n",
       "      <td>00006413d8573cd20ed7128e53b7b13819fe5cfc2d801f...</td>\n",
       "      <td>9.0</td>\n",
       "      <td>0.033881</td>\n",
       "    </tr>\n",
       "  </tbody>\n",
       "</table>\n",
       "</div>"
      ],
      "text/plain": [
       "                                         customer_id   day     price\n",
       "0  00000dbacae5abe5e23885899a1fa44253a17956c6d1c3...  25.0  0.030492\n",
       "1  0000423b00ade91418cceaf3b26c6af3dd342b51fd051e...  21.0  0.025407\n",
       "2  000058a12d5b43e67d225668fa1f8d618c13dc232df0ca...  18.0  0.033881\n",
       "3  00005ca1c9ed5f5146b52ac8639a40ca9d57aeff4d1bd2...   9.0  0.030492\n",
       "4  00006413d8573cd20ed7128e53b7b13819fe5cfc2d801f...   9.0  0.033881"
      ]
     },
     "execution_count": 20,
     "metadata": {},
     "output_type": "execute_result"
    }
   ],
   "source": [
    "cus_pred_df.head()"
   ]
  },
  {
   "cell_type": "code",
   "execution_count": 21,
   "id": "f451c20b",
   "metadata": {},
   "outputs": [],
   "source": [
    "non_transaction_customers_df = customers_df[~customers_df['customer_id'].isin(cus_pred_df['customer_id'])]"
   ]
  },
  {
   "cell_type": "code",
   "execution_count": 22,
   "id": "7167de6f",
   "metadata": {},
   "outputs": [
    {
     "name": "stderr",
     "output_type": "stream",
     "text": [
      "C:\\Users\\newlo\\AppData\\Local\\Temp\\ipykernel_9076\\3592874415.py:1: SettingWithCopyWarning: \n",
      "A value is trying to be set on a copy of a slice from a DataFrame.\n",
      "Try using .loc[row_indexer,col_indexer] = value instead\n",
      "\n",
      "See the caveats in the documentation: https://pandas.pydata.org/pandas-docs/stable/user_guide/indexing.html#returning-a-view-versus-a-copy\n",
      "  non_transaction_customers_df['day'] = 0\n"
     ]
    }
   ],
   "source": [
    "non_transaction_customers_df['day'] = 0"
   ]
  },
  {
   "cell_type": "code",
   "execution_count": 23,
   "id": "591720a3",
   "metadata": {},
   "outputs": [
    {
     "name": "stderr",
     "output_type": "stream",
     "text": [
      "C:\\Users\\newlo\\AppData\\Local\\Temp\\ipykernel_9076\\2901366215.py:1: SettingWithCopyWarning: \n",
      "A value is trying to be set on a copy of a slice from a DataFrame.\n",
      "Try using .loc[row_indexer,col_indexer] = value instead\n",
      "\n",
      "See the caveats in the documentation: https://pandas.pydata.org/pandas-docs/stable/user_guide/indexing.html#returning-a-view-versus-a-copy\n",
      "  non_transaction_customers_df['price'] = 0.0\n"
     ]
    }
   ],
   "source": [
    "non_transaction_customers_df['price'] = 0.0"
   ]
  },
  {
   "cell_type": "code",
   "execution_count": 24,
   "id": "44d4b195",
   "metadata": {},
   "outputs": [],
   "source": [
    "non_transaction_customers_df = non_transaction_customers_df.drop(['FN', 'Active', 'club_member_status', 'fashion_news_frequency', 'age', 'postal_code'], axis=1)\n",
    "\n",
    "#we now reorganise the dataset to treat articles as the predictor\n",
    "non_transaction_customers_df = non_transaction_customers_df[['customer_id', 'day', 'price']]"
   ]
  },
  {
   "cell_type": "code",
   "execution_count": 25,
   "id": "9e69d006",
   "metadata": {},
   "outputs": [
    {
     "data": {
      "text/plain": [
       "9699"
      ]
     },
     "execution_count": 25,
     "metadata": {},
     "output_type": "execute_result"
    }
   ],
   "source": [
    "non_transaction_customers_df['customer_id'].size"
   ]
  },
  {
   "cell_type": "code",
   "execution_count": 26,
   "id": "550fc538",
   "metadata": {},
   "outputs": [],
   "source": [
    "non_transaction_customers_df = non_transaction_customers_df.reset_index(drop=True)"
   ]
  },
  {
   "cell_type": "code",
   "execution_count": 27,
   "id": "05954dc0",
   "metadata": {},
   "outputs": [
    {
     "data": {
      "text/html": [
       "<div>\n",
       "<style scoped>\n",
       "    .dataframe tbody tr th:only-of-type {\n",
       "        vertical-align: middle;\n",
       "    }\n",
       "\n",
       "    .dataframe tbody tr th {\n",
       "        vertical-align: top;\n",
       "    }\n",
       "\n",
       "    .dataframe thead th {\n",
       "        text-align: right;\n",
       "    }\n",
       "</style>\n",
       "<table border=\"1\" class=\"dataframe\">\n",
       "  <thead>\n",
       "    <tr style=\"text-align: right;\">\n",
       "      <th></th>\n",
       "      <th>customer_id</th>\n",
       "      <th>day</th>\n",
       "      <th>price</th>\n",
       "    </tr>\n",
       "  </thead>\n",
       "  <tbody>\n",
       "    <tr>\n",
       "      <th>0</th>\n",
       "      <td>00058ecf091cea1bba9d800cabac6ed1ae284202cdab68...</td>\n",
       "      <td>0</td>\n",
       "      <td>0.0</td>\n",
       "    </tr>\n",
       "    <tr>\n",
       "      <th>1</th>\n",
       "      <td>000df4d2084d142416b8165bdd249bab8fea2393447aed...</td>\n",
       "      <td>0</td>\n",
       "      <td>0.0</td>\n",
       "    </tr>\n",
       "    <tr>\n",
       "      <th>2</th>\n",
       "      <td>00193ff7f374dbcfecfa7fead0488e454be4918bec1ebd...</td>\n",
       "      <td>0</td>\n",
       "      <td>0.0</td>\n",
       "    </tr>\n",
       "    <tr>\n",
       "      <th>3</th>\n",
       "      <td>001f00e8c1eba437ff0dbad26a9a3d49e47cbf05fff02a...</td>\n",
       "      <td>0</td>\n",
       "      <td>0.0</td>\n",
       "    </tr>\n",
       "    <tr>\n",
       "      <th>4</th>\n",
       "      <td>002648d8f3b288531b24860f4a68a31d029ec5a0495c04...</td>\n",
       "      <td>0</td>\n",
       "      <td>0.0</td>\n",
       "    </tr>\n",
       "  </tbody>\n",
       "</table>\n",
       "</div>"
      ],
      "text/plain": [
       "                                         customer_id  day  price\n",
       "0  00058ecf091cea1bba9d800cabac6ed1ae284202cdab68...    0    0.0\n",
       "1  000df4d2084d142416b8165bdd249bab8fea2393447aed...    0    0.0\n",
       "2  00193ff7f374dbcfecfa7fead0488e454be4918bec1ebd...    0    0.0\n",
       "3  001f00e8c1eba437ff0dbad26a9a3d49e47cbf05fff02a...    0    0.0\n",
       "4  002648d8f3b288531b24860f4a68a31d029ec5a0495c04...    0    0.0"
      ]
     },
     "execution_count": 27,
     "metadata": {},
     "output_type": "execute_result"
    }
   ],
   "source": [
    "non_transaction_customers_df.head()"
   ]
  },
  {
   "cell_type": "code",
   "execution_count": 28,
   "id": "b82c6fd1",
   "metadata": {},
   "outputs": [
    {
     "name": "stderr",
     "output_type": "stream",
     "text": [
      "C:\\Users\\newlo\\AppData\\Local\\Temp\\ipykernel_9076\\935700407.py:1: FutureWarning: The frame.append method is deprecated and will be removed from pandas in a future version. Use pandas.concat instead.\n",
      "  cus_pred_df = cus_pred_df.append(non_transaction_customers_df)\n"
     ]
    }
   ],
   "source": [
    "cus_pred_df = cus_pred_df.append(non_transaction_customers_df)"
   ]
  },
  {
   "cell_type": "code",
   "execution_count": 29,
   "id": "afe0a0c6",
   "metadata": {},
   "outputs": [
    {
     "data": {
      "text/html": [
       "<div>\n",
       "<style scoped>\n",
       "    .dataframe tbody tr th:only-of-type {\n",
       "        vertical-align: middle;\n",
       "    }\n",
       "\n",
       "    .dataframe tbody tr th {\n",
       "        vertical-align: top;\n",
       "    }\n",
       "\n",
       "    .dataframe thead th {\n",
       "        text-align: right;\n",
       "    }\n",
       "</style>\n",
       "<table border=\"1\" class=\"dataframe\">\n",
       "  <thead>\n",
       "    <tr style=\"text-align: right;\">\n",
       "      <th></th>\n",
       "      <th>customer_id</th>\n",
       "      <th>day</th>\n",
       "      <th>price</th>\n",
       "    </tr>\n",
       "  </thead>\n",
       "  <tbody>\n",
       "    <tr>\n",
       "      <th>9694</th>\n",
       "      <td>ffe5801cb2a5b51d4d068322d7f8082e995f427a6f22a6...</td>\n",
       "      <td>0.0</td>\n",
       "      <td>0.0</td>\n",
       "    </tr>\n",
       "    <tr>\n",
       "      <th>9695</th>\n",
       "      <td>ffeb3ca867aba57a312fe9d28d67dd46ef2240fe92a94c...</td>\n",
       "      <td>0.0</td>\n",
       "      <td>0.0</td>\n",
       "    </tr>\n",
       "    <tr>\n",
       "      <th>9696</th>\n",
       "      <td>fff456fa60aac9174456c2f36ede5e0f25429a16c88a34...</td>\n",
       "      <td>0.0</td>\n",
       "      <td>0.0</td>\n",
       "    </tr>\n",
       "    <tr>\n",
       "      <th>9697</th>\n",
       "      <td>fffa8d3cea26d4f5186472b923629b35fa28051f258030...</td>\n",
       "      <td>0.0</td>\n",
       "      <td>0.0</td>\n",
       "    </tr>\n",
       "    <tr>\n",
       "      <th>9698</th>\n",
       "      <td>ffff01710b4f0d558ff62d7dc00f0641065b37e840bb43...</td>\n",
       "      <td>0.0</td>\n",
       "      <td>0.0</td>\n",
       "    </tr>\n",
       "  </tbody>\n",
       "</table>\n",
       "</div>"
      ],
      "text/plain": [
       "                                            customer_id  day  price\n",
       "9694  ffe5801cb2a5b51d4d068322d7f8082e995f427a6f22a6...  0.0    0.0\n",
       "9695  ffeb3ca867aba57a312fe9d28d67dd46ef2240fe92a94c...  0.0    0.0\n",
       "9696  fff456fa60aac9174456c2f36ede5e0f25429a16c88a34...  0.0    0.0\n",
       "9697  fffa8d3cea26d4f5186472b923629b35fa28051f258030...  0.0    0.0\n",
       "9698  ffff01710b4f0d558ff62d7dc00f0641065b37e840bb43...  0.0    0.0"
      ]
     },
     "execution_count": 29,
     "metadata": {},
     "output_type": "execute_result"
    }
   ],
   "source": [
    "cus_pred_df.tail()"
   ]
  },
  {
   "cell_type": "code",
   "execution_count": 30,
   "id": "c89649ef",
   "metadata": {},
   "outputs": [
    {
     "data": {
      "text/html": [
       "<div>\n",
       "<style scoped>\n",
       "    .dataframe tbody tr th:only-of-type {\n",
       "        vertical-align: middle;\n",
       "    }\n",
       "\n",
       "    .dataframe tbody tr th {\n",
       "        vertical-align: top;\n",
       "    }\n",
       "\n",
       "    .dataframe thead th {\n",
       "        text-align: right;\n",
       "    }\n",
       "</style>\n",
       "<table border=\"1\" class=\"dataframe\">\n",
       "  <thead>\n",
       "    <tr style=\"text-align: right;\">\n",
       "      <th></th>\n",
       "      <th>day</th>\n",
       "      <th>price</th>\n",
       "    </tr>\n",
       "    <tr>\n",
       "      <th>customer_id</th>\n",
       "      <th></th>\n",
       "      <th></th>\n",
       "    </tr>\n",
       "  </thead>\n",
       "  <tbody>\n",
       "    <tr>\n",
       "      <th>00000dbacae5abe5e23885899a1fa44253a17956c6d1c3d25f88aa139fdfc657</th>\n",
       "      <td>25.0</td>\n",
       "      <td>0.030492</td>\n",
       "    </tr>\n",
       "    <tr>\n",
       "      <th>0000423b00ade91418cceaf3b26c6af3dd342b51fd051eec9c12fb36984420fa</th>\n",
       "      <td>21.0</td>\n",
       "      <td>0.025407</td>\n",
       "    </tr>\n",
       "    <tr>\n",
       "      <th>000058a12d5b43e67d225668fa1f8d618c13dc232df0cad8ffe7ad4a1091e318</th>\n",
       "      <td>18.0</td>\n",
       "      <td>0.033881</td>\n",
       "    </tr>\n",
       "    <tr>\n",
       "      <th>00005ca1c9ed5f5146b52ac8639a40ca9d57aeff4d1bd2c5feb1ca5dff07c43e</th>\n",
       "      <td>9.0</td>\n",
       "      <td>0.030492</td>\n",
       "    </tr>\n",
       "    <tr>\n",
       "      <th>00006413d8573cd20ed7128e53b7b13819fe5cfc2d801fe7fc0f26dd8d65a85a</th>\n",
       "      <td>9.0</td>\n",
       "      <td>0.033881</td>\n",
       "    </tr>\n",
       "    <tr>\n",
       "      <th>...</th>\n",
       "      <td>...</td>\n",
       "      <td>...</td>\n",
       "    </tr>\n",
       "    <tr>\n",
       "      <th>ffe5801cb2a5b51d4d068322d7f8082e995f427a6f22a6f471e773a29a27a3d0</th>\n",
       "      <td>0.0</td>\n",
       "      <td>0.000000</td>\n",
       "    </tr>\n",
       "    <tr>\n",
       "      <th>ffeb3ca867aba57a312fe9d28d67dd46ef2240fe92a94c434a0debd1902c386a</th>\n",
       "      <td>0.0</td>\n",
       "      <td>0.000000</td>\n",
       "    </tr>\n",
       "    <tr>\n",
       "      <th>fff456fa60aac9174456c2f36ede5e0f25429a16c88a346dfb99333eb604cd6f</th>\n",
       "      <td>0.0</td>\n",
       "      <td>0.000000</td>\n",
       "    </tr>\n",
       "    <tr>\n",
       "      <th>fffa8d3cea26d4f5186472b923629b35fa28051f25803084f9fb0b0b7b3fc0eb</th>\n",
       "      <td>0.0</td>\n",
       "      <td>0.000000</td>\n",
       "    </tr>\n",
       "    <tr>\n",
       "      <th>ffff01710b4f0d558ff62d7dc00f0641065b37e840bb43bd852afccb08f2bbd2</th>\n",
       "      <td>0.0</td>\n",
       "      <td>0.000000</td>\n",
       "    </tr>\n",
       "  </tbody>\n",
       "</table>\n",
       "<p>1371980 rows × 2 columns</p>\n",
       "</div>"
      ],
      "text/plain": [
       "                                                     day     price\n",
       "customer_id                                                       \n",
       "00000dbacae5abe5e23885899a1fa44253a17956c6d1c3d...  25.0  0.030492\n",
       "0000423b00ade91418cceaf3b26c6af3dd342b51fd051ee...  21.0  0.025407\n",
       "000058a12d5b43e67d225668fa1f8d618c13dc232df0cad...  18.0  0.033881\n",
       "00005ca1c9ed5f5146b52ac8639a40ca9d57aeff4d1bd2c...   9.0  0.030492\n",
       "00006413d8573cd20ed7128e53b7b13819fe5cfc2d801fe...   9.0  0.033881\n",
       "...                                                  ...       ...\n",
       "ffe5801cb2a5b51d4d068322d7f8082e995f427a6f22a6f...   0.0  0.000000\n",
       "ffeb3ca867aba57a312fe9d28d67dd46ef2240fe92a94c4...   0.0  0.000000\n",
       "fff456fa60aac9174456c2f36ede5e0f25429a16c88a346...   0.0  0.000000\n",
       "fffa8d3cea26d4f5186472b923629b35fa28051f2580308...   0.0  0.000000\n",
       "ffff01710b4f0d558ff62d7dc00f0641065b37e840bb43b...   0.0  0.000000\n",
       "\n",
       "[1371980 rows x 2 columns]"
      ]
     },
     "execution_count": 30,
     "metadata": {},
     "output_type": "execute_result"
    }
   ],
   "source": [
    "#we set articles column to index\n",
    "cus_pred_df.set_index('customer_id')"
   ]
  },
  {
   "cell_type": "markdown",
   "id": "840e82c9",
   "metadata": {},
   "source": [
    "## Check Missing Values"
   ]
  },
  {
   "cell_type": "code",
   "execution_count": 31,
   "id": "b045cd67",
   "metadata": {},
   "outputs": [
    {
     "name": "stdout",
     "output_type": "stream",
     "text": [
      "(1371980, 3)\n",
      "0       0\n",
      "1       0\n",
      "2       0\n",
      "3       0\n",
      "4       0\n",
      "       ..\n",
      "9694    2\n",
      "9695    2\n",
      "9696    2\n",
      "9697    2\n",
      "9698    2\n",
      "Length: 1371980, dtype: int64\n"
     ]
    }
   ],
   "source": [
    "missing = cus_pred_df.isin([0]).sum(axis=1)\n",
    "print(cus_pred_df.shape)\n",
    "print(missing)"
   ]
  },
  {
   "cell_type": "markdown",
   "id": "87828adc",
   "metadata": {},
   "source": [
    "## Fix Missing / Zero Values"
   ]
  },
  {
   "cell_type": "raw",
   "id": "54a5ddea",
   "metadata": {},
   "source": [
    "#replace minus sign in text and check result of dataset after imputing missing values\n",
    "#cus_pred_df.columns = cus_pred_df.columns.str.replace('-', '')\n",
    "cus_pred_df.head()"
   ]
  },
  {
   "cell_type": "code",
   "execution_count": 32,
   "id": "659c54f4",
   "metadata": {},
   "outputs": [],
   "source": [
    "cus_pred_df['day'] = cus_pred_df['day'].replace(0, cus_pred_df['day'].median())"
   ]
  },
  {
   "cell_type": "code",
   "execution_count": 33,
   "id": "a8fe753d",
   "metadata": {},
   "outputs": [],
   "source": [
    "cus_pred_df['price'] = cus_pred_df['price'].replace(0, cus_pred_df['price'].median())"
   ]
  },
  {
   "cell_type": "code",
   "execution_count": 34,
   "id": "c106642b",
   "metadata": {},
   "outputs": [
    {
     "name": "stdout",
     "output_type": "stream",
     "text": [
      "(1371980, 3)\n",
      "0       0\n",
      "1       0\n",
      "2       0\n",
      "3       0\n",
      "4       0\n",
      "       ..\n",
      "9694    0\n",
      "9695    0\n",
      "9696    0\n",
      "9697    0\n",
      "9698    0\n",
      "Length: 1371980, dtype: int64\n"
     ]
    }
   ],
   "source": [
    "missing = cus_pred_df.isin([0]).sum(axis=1)\n",
    "print(cus_pred_df.shape)\n",
    "print(missing)"
   ]
  },
  {
   "cell_type": "code",
   "execution_count": 35,
   "id": "93cf64cd",
   "metadata": {},
   "outputs": [
    {
     "data": {
      "text/html": [
       "<div>\n",
       "<style scoped>\n",
       "    .dataframe tbody tr th:only-of-type {\n",
       "        vertical-align: middle;\n",
       "    }\n",
       "\n",
       "    .dataframe tbody tr th {\n",
       "        vertical-align: top;\n",
       "    }\n",
       "\n",
       "    .dataframe thead th {\n",
       "        text-align: right;\n",
       "    }\n",
       "</style>\n",
       "<table border=\"1\" class=\"dataframe\">\n",
       "  <thead>\n",
       "    <tr style=\"text-align: right;\">\n",
       "      <th></th>\n",
       "      <th>customer_id</th>\n",
       "      <th>day</th>\n",
       "      <th>price</th>\n",
       "    </tr>\n",
       "  </thead>\n",
       "  <tbody>\n",
       "    <tr>\n",
       "      <th>9694</th>\n",
       "      <td>ffe5801cb2a5b51d4d068322d7f8082e995f427a6f22a6...</td>\n",
       "      <td>17.0</td>\n",
       "      <td>0.025407</td>\n",
       "    </tr>\n",
       "    <tr>\n",
       "      <th>9695</th>\n",
       "      <td>ffeb3ca867aba57a312fe9d28d67dd46ef2240fe92a94c...</td>\n",
       "      <td>17.0</td>\n",
       "      <td>0.025407</td>\n",
       "    </tr>\n",
       "    <tr>\n",
       "      <th>9696</th>\n",
       "      <td>fff456fa60aac9174456c2f36ede5e0f25429a16c88a34...</td>\n",
       "      <td>17.0</td>\n",
       "      <td>0.025407</td>\n",
       "    </tr>\n",
       "    <tr>\n",
       "      <th>9697</th>\n",
       "      <td>fffa8d3cea26d4f5186472b923629b35fa28051f258030...</td>\n",
       "      <td>17.0</td>\n",
       "      <td>0.025407</td>\n",
       "    </tr>\n",
       "    <tr>\n",
       "      <th>9698</th>\n",
       "      <td>ffff01710b4f0d558ff62d7dc00f0641065b37e840bb43...</td>\n",
       "      <td>17.0</td>\n",
       "      <td>0.025407</td>\n",
       "    </tr>\n",
       "  </tbody>\n",
       "</table>\n",
       "</div>"
      ],
      "text/plain": [
       "                                            customer_id   day     price\n",
       "9694  ffe5801cb2a5b51d4d068322d7f8082e995f427a6f22a6...  17.0  0.025407\n",
       "9695  ffeb3ca867aba57a312fe9d28d67dd46ef2240fe92a94c...  17.0  0.025407\n",
       "9696  fff456fa60aac9174456c2f36ede5e0f25429a16c88a34...  17.0  0.025407\n",
       "9697  fffa8d3cea26d4f5186472b923629b35fa28051f258030...  17.0  0.025407\n",
       "9698  ffff01710b4f0d558ff62d7dc00f0641065b37e840bb43...  17.0  0.025407"
      ]
     },
     "execution_count": 35,
     "metadata": {},
     "output_type": "execute_result"
    }
   ],
   "source": [
    "cus_pred_df.tail()"
   ]
  },
  {
   "cell_type": "markdown",
   "id": "9b56b7d2",
   "metadata": {},
   "source": [
    "# Explore Sample Transaction Data\n",
    "We will create a sample from the transactions dataset to inspect relationships and test predictions. We split our sample data into a future test sample and a past training sample"
   ]
  },
  {
   "cell_type": "code",
   "execution_count": 36,
   "id": "a7452a50",
   "metadata": {},
   "outputs": [],
   "source": [
    "ts_train_df = transactions_train_df.query('year == 2020 & month == 8').sample(n = 30) "
   ]
  },
  {
   "cell_type": "code",
   "execution_count": 37,
   "id": "c1a24b1e",
   "metadata": {},
   "outputs": [],
   "source": [
    "ts_test_df = transactions_train_df.query('year == 2020 & month == 9').sample(n = 30)"
   ]
  },
  {
   "cell_type": "code",
   "execution_count": 38,
   "id": "8a36e275",
   "metadata": {},
   "outputs": [
    {
     "data": {
      "text/plain": [
       "30"
      ]
     },
     "execution_count": 38,
     "metadata": {},
     "output_type": "execute_result"
    }
   ],
   "source": [
    "ts_train_df['article_id'].size"
   ]
  },
  {
   "cell_type": "code",
   "execution_count": 39,
   "id": "89877139",
   "metadata": {},
   "outputs": [
    {
     "data": {
      "text/html": [
       "<div>\n",
       "<style scoped>\n",
       "    .dataframe tbody tr th:only-of-type {\n",
       "        vertical-align: middle;\n",
       "    }\n",
       "\n",
       "    .dataframe tbody tr th {\n",
       "        vertical-align: top;\n",
       "    }\n",
       "\n",
       "    .dataframe thead th {\n",
       "        text-align: right;\n",
       "    }\n",
       "</style>\n",
       "<table border=\"1\" class=\"dataframe\">\n",
       "  <thead>\n",
       "    <tr style=\"text-align: right;\">\n",
       "      <th></th>\n",
       "      <th>article_id</th>\n",
       "      <th>year</th>\n",
       "      <th>month</th>\n",
       "      <th>day</th>\n",
       "      <th>price</th>\n",
       "      <th>customer_id</th>\n",
       "    </tr>\n",
       "  </thead>\n",
       "  <tbody>\n",
       "    <tr>\n",
       "      <th>30597041</th>\n",
       "      <td>890197001</td>\n",
       "      <td>2020</td>\n",
       "      <td>8</td>\n",
       "      <td>21</td>\n",
       "      <td>0.031169</td>\n",
       "      <td>fd2cd02e61c364e08a8a7542acc0213cff348df5e6fcb5...</td>\n",
       "    </tr>\n",
       "    <tr>\n",
       "      <th>30094609</th>\n",
       "      <td>855080001</td>\n",
       "      <td>2020</td>\n",
       "      <td>8</td>\n",
       "      <td>8</td>\n",
       "      <td>0.025407</td>\n",
       "      <td>5b63aeb990f337a5fe21f1774c253457f16f00d9fa84d2...</td>\n",
       "    </tr>\n",
       "    <tr>\n",
       "      <th>30629014</th>\n",
       "      <td>857163001</td>\n",
       "      <td>2020</td>\n",
       "      <td>8</td>\n",
       "      <td>22</td>\n",
       "      <td>0.013542</td>\n",
       "      <td>e64506aa808cf8cc2073cf8a78c078d1a2ea39e8caa62e...</td>\n",
       "    </tr>\n",
       "    <tr>\n",
       "      <th>30866147</th>\n",
       "      <td>762846008</td>\n",
       "      <td>2020</td>\n",
       "      <td>8</td>\n",
       "      <td>28</td>\n",
       "      <td>0.025407</td>\n",
       "      <td>c7bbcd546ec7e1d368739e96bd45905a7dd7624e1d07c1...</td>\n",
       "    </tr>\n",
       "    <tr>\n",
       "      <th>30716869</th>\n",
       "      <td>910132001</td>\n",
       "      <td>2020</td>\n",
       "      <td>8</td>\n",
       "      <td>25</td>\n",
       "      <td>0.016932</td>\n",
       "      <td>548be1a518dcfb9eb589661202ef5de3758f7d92acf6ba...</td>\n",
       "    </tr>\n",
       "  </tbody>\n",
       "</table>\n",
       "</div>"
      ],
      "text/plain": [
       "         article_id  year  month  day     price  \\\n",
       "30597041  890197001  2020      8   21  0.031169   \n",
       "30094609  855080001  2020      8    8  0.025407   \n",
       "30629014  857163001  2020      8   22  0.013542   \n",
       "30866147  762846008  2020      8   28  0.025407   \n",
       "30716869  910132001  2020      8   25  0.016932   \n",
       "\n",
       "                                                customer_id  \n",
       "30597041  fd2cd02e61c364e08a8a7542acc0213cff348df5e6fcb5...  \n",
       "30094609  5b63aeb990f337a5fe21f1774c253457f16f00d9fa84d2...  \n",
       "30629014  e64506aa808cf8cc2073cf8a78c078d1a2ea39e8caa62e...  \n",
       "30866147  c7bbcd546ec7e1d368739e96bd45905a7dd7624e1d07c1...  \n",
       "30716869  548be1a518dcfb9eb589661202ef5de3758f7d92acf6ba...  "
      ]
     },
     "execution_count": 39,
     "metadata": {},
     "output_type": "execute_result"
    }
   ],
   "source": [
    "ts_train_df.head()"
   ]
  },
  {
   "cell_type": "code",
   "execution_count": 42,
   "id": "5a870969",
   "metadata": {},
   "outputs": [
    {
     "data": {
      "text/html": [
       "<div>\n",
       "<style scoped>\n",
       "    .dataframe tbody tr th:only-of-type {\n",
       "        vertical-align: middle;\n",
       "    }\n",
       "\n",
       "    .dataframe tbody tr th {\n",
       "        vertical-align: top;\n",
       "    }\n",
       "\n",
       "    .dataframe thead th {\n",
       "        text-align: right;\n",
       "    }\n",
       "</style>\n",
       "<table border=\"1\" class=\"dataframe\">\n",
       "  <thead>\n",
       "    <tr style=\"text-align: right;\">\n",
       "      <th></th>\n",
       "      <th>year</th>\n",
       "      <th>month</th>\n",
       "      <th>day</th>\n",
       "      <th>price</th>\n",
       "      <th>customer_id</th>\n",
       "    </tr>\n",
       "    <tr>\n",
       "      <th>article_id</th>\n",
       "      <th></th>\n",
       "      <th></th>\n",
       "      <th></th>\n",
       "      <th></th>\n",
       "      <th></th>\n",
       "    </tr>\n",
       "  </thead>\n",
       "  <tbody>\n",
       "    <tr>\n",
       "      <th>890197001</th>\n",
       "      <td>2020</td>\n",
       "      <td>8</td>\n",
       "      <td>21</td>\n",
       "      <td>0.031169</td>\n",
       "      <td>fd2cd02e61c364e08a8a7542acc0213cff348df5e6fcb5...</td>\n",
       "    </tr>\n",
       "    <tr>\n",
       "      <th>855080001</th>\n",
       "      <td>2020</td>\n",
       "      <td>8</td>\n",
       "      <td>8</td>\n",
       "      <td>0.025407</td>\n",
       "      <td>5b63aeb990f337a5fe21f1774c253457f16f00d9fa84d2...</td>\n",
       "    </tr>\n",
       "    <tr>\n",
       "      <th>857163001</th>\n",
       "      <td>2020</td>\n",
       "      <td>8</td>\n",
       "      <td>22</td>\n",
       "      <td>0.013542</td>\n",
       "      <td>e64506aa808cf8cc2073cf8a78c078d1a2ea39e8caa62e...</td>\n",
       "    </tr>\n",
       "    <tr>\n",
       "      <th>762846008</th>\n",
       "      <td>2020</td>\n",
       "      <td>8</td>\n",
       "      <td>28</td>\n",
       "      <td>0.025407</td>\n",
       "      <td>c7bbcd546ec7e1d368739e96bd45905a7dd7624e1d07c1...</td>\n",
       "    </tr>\n",
       "    <tr>\n",
       "      <th>910132001</th>\n",
       "      <td>2020</td>\n",
       "      <td>8</td>\n",
       "      <td>25</td>\n",
       "      <td>0.016932</td>\n",
       "      <td>548be1a518dcfb9eb589661202ef5de3758f7d92acf6ba...</td>\n",
       "    </tr>\n",
       "    <tr>\n",
       "      <th>883936001</th>\n",
       "      <td>2020</td>\n",
       "      <td>8</td>\n",
       "      <td>3</td>\n",
       "      <td>0.022864</td>\n",
       "      <td>8896c62b5dcca6d09a0fd75967f6f153fbba2fd12d1d3c...</td>\n",
       "    </tr>\n",
       "    <tr>\n",
       "      <th>770315005</th>\n",
       "      <td>2020</td>\n",
       "      <td>8</td>\n",
       "      <td>18</td>\n",
       "      <td>0.016932</td>\n",
       "      <td>0dd981f4184a110b7fd01bbc38c886d58395d4d46090c5...</td>\n",
       "    </tr>\n",
       "    <tr>\n",
       "      <th>756322004</th>\n",
       "      <td>2020</td>\n",
       "      <td>8</td>\n",
       "      <td>4</td>\n",
       "      <td>0.010153</td>\n",
       "      <td>45e03ba337f49df7b2885cf5fffbd46ed8b8ffbfc1342f...</td>\n",
       "    </tr>\n",
       "    <tr>\n",
       "      <th>897423001</th>\n",
       "      <td>2020</td>\n",
       "      <td>8</td>\n",
       "      <td>28</td>\n",
       "      <td>0.011390</td>\n",
       "      <td>9821fc99b6270530edeea9c1570d704693e0ce21eba6f6...</td>\n",
       "    </tr>\n",
       "    <tr>\n",
       "      <th>805510033</th>\n",
       "      <td>2020</td>\n",
       "      <td>8</td>\n",
       "      <td>2</td>\n",
       "      <td>0.010153</td>\n",
       "      <td>679f4c9319e7c73ce5a252542604434c7dbe919171b5d9...</td>\n",
       "    </tr>\n",
       "    <tr>\n",
       "      <th>862340001</th>\n",
       "      <td>2020</td>\n",
       "      <td>8</td>\n",
       "      <td>12</td>\n",
       "      <td>0.013542</td>\n",
       "      <td>e431675fe5f0d4b0bcc64f326c7ecf54e46a5d7f582f03...</td>\n",
       "    </tr>\n",
       "    <tr>\n",
       "      <th>889870001</th>\n",
       "      <td>2020</td>\n",
       "      <td>8</td>\n",
       "      <td>29</td>\n",
       "      <td>0.025407</td>\n",
       "      <td>d3f944c9310a997dd74f88d2703cc094cf2fb5babbe532...</td>\n",
       "    </tr>\n",
       "    <tr>\n",
       "      <th>801890001</th>\n",
       "      <td>2020</td>\n",
       "      <td>8</td>\n",
       "      <td>2</td>\n",
       "      <td>0.084729</td>\n",
       "      <td>b16295303e53827ae53d6ea9563988e9dd0dd1efb38bdd...</td>\n",
       "    </tr>\n",
       "    <tr>\n",
       "      <th>572797001</th>\n",
       "      <td>2020</td>\n",
       "      <td>8</td>\n",
       "      <td>10</td>\n",
       "      <td>0.011847</td>\n",
       "      <td>3ef764b52d728e6272cd0e8fd4bee9760b40742d5afaaf...</td>\n",
       "    </tr>\n",
       "    <tr>\n",
       "      <th>924623004</th>\n",
       "      <td>2020</td>\n",
       "      <td>8</td>\n",
       "      <td>3</td>\n",
       "      <td>0.033881</td>\n",
       "      <td>cc2702999be0bcde285174442522195670d3e81d889e87...</td>\n",
       "    </tr>\n",
       "    <tr>\n",
       "      <th>863456003</th>\n",
       "      <td>2020</td>\n",
       "      <td>8</td>\n",
       "      <td>2</td>\n",
       "      <td>0.025407</td>\n",
       "      <td>a9fca529f2379e2c1ce8e9bbe0ec99be4620a02c113921...</td>\n",
       "    </tr>\n",
       "    <tr>\n",
       "      <th>759871003</th>\n",
       "      <td>2020</td>\n",
       "      <td>8</td>\n",
       "      <td>2</td>\n",
       "      <td>0.006763</td>\n",
       "      <td>66723501376d988d236da084fb3e928b746e545bbbe230...</td>\n",
       "    </tr>\n",
       "    <tr>\n",
       "      <th>723349003</th>\n",
       "      <td>2020</td>\n",
       "      <td>8</td>\n",
       "      <td>4</td>\n",
       "      <td>0.008458</td>\n",
       "      <td>6e75fcf50106b5644148a1cfa1b6d8a5808ad6fde0ac89...</td>\n",
       "    </tr>\n",
       "    <tr>\n",
       "      <th>685816001</th>\n",
       "      <td>2020</td>\n",
       "      <td>8</td>\n",
       "      <td>2</td>\n",
       "      <td>0.008136</td>\n",
       "      <td>719168562e282c7011a8b6207d0778975c161676be9adb...</td>\n",
       "    </tr>\n",
       "    <tr>\n",
       "      <th>894668004</th>\n",
       "      <td>2020</td>\n",
       "      <td>8</td>\n",
       "      <td>21</td>\n",
       "      <td>0.025407</td>\n",
       "      <td>b658cda7c5ce23905730086cd7ea658c476d8afd7bd73e...</td>\n",
       "    </tr>\n",
       "    <tr>\n",
       "      <th>919786002</th>\n",
       "      <td>2020</td>\n",
       "      <td>8</td>\n",
       "      <td>23</td>\n",
       "      <td>0.042356</td>\n",
       "      <td>e606e7a5a771b0faf88bae08bb8343f4ad6d7ae96f5ede...</td>\n",
       "    </tr>\n",
       "    <tr>\n",
       "      <th>863001001</th>\n",
       "      <td>2020</td>\n",
       "      <td>8</td>\n",
       "      <td>4</td>\n",
       "      <td>0.020051</td>\n",
       "      <td>1f8436ec6ad2f21b2a57115bb8199957ca782b415090c5...</td>\n",
       "    </tr>\n",
       "    <tr>\n",
       "      <th>778064028</th>\n",
       "      <td>2020</td>\n",
       "      <td>8</td>\n",
       "      <td>11</td>\n",
       "      <td>0.003373</td>\n",
       "      <td>f136c58857fbaa27b0b51afdb3afd419099ade6f427370...</td>\n",
       "    </tr>\n",
       "    <tr>\n",
       "      <th>864415001</th>\n",
       "      <td>2020</td>\n",
       "      <td>8</td>\n",
       "      <td>14</td>\n",
       "      <td>0.016932</td>\n",
       "      <td>d514fc32511e3ad619e38d9d7c62b16e04991bf0dc1250...</td>\n",
       "    </tr>\n",
       "    <tr>\n",
       "      <th>933706001</th>\n",
       "      <td>2020</td>\n",
       "      <td>8</td>\n",
       "      <td>27</td>\n",
       "      <td>0.016932</td>\n",
       "      <td>03d0011487606c37c1b1ed147fc72f285a50c05f00b971...</td>\n",
       "    </tr>\n",
       "    <tr>\n",
       "      <th>760084006</th>\n",
       "      <td>2020</td>\n",
       "      <td>8</td>\n",
       "      <td>10</td>\n",
       "      <td>0.025000</td>\n",
       "      <td>109d147807a992d0b2acbebb7f5c92f97fce87fdced30f...</td>\n",
       "    </tr>\n",
       "    <tr>\n",
       "      <th>757671007</th>\n",
       "      <td>2020</td>\n",
       "      <td>8</td>\n",
       "      <td>19</td>\n",
       "      <td>0.011847</td>\n",
       "      <td>1d8343473025c814243df5f29e5efb499a2dff740b2ece...</td>\n",
       "    </tr>\n",
       "    <tr>\n",
       "      <th>806388002</th>\n",
       "      <td>2020</td>\n",
       "      <td>8</td>\n",
       "      <td>8</td>\n",
       "      <td>0.013542</td>\n",
       "      <td>f7c41ad0ce060149aeee826de5ee993484740b682a8efa...</td>\n",
       "    </tr>\n",
       "    <tr>\n",
       "      <th>864415003</th>\n",
       "      <td>2020</td>\n",
       "      <td>8</td>\n",
       "      <td>20</td>\n",
       "      <td>0.016932</td>\n",
       "      <td>317a426b01587d544dad5b003ff14c5d70621653287744...</td>\n",
       "    </tr>\n",
       "    <tr>\n",
       "      <th>589222005</th>\n",
       "      <td>2020</td>\n",
       "      <td>8</td>\n",
       "      <td>26</td>\n",
       "      <td>0.010153</td>\n",
       "      <td>ed698d6ac772a7acab66a49ba27b60c5e089657d960109...</td>\n",
       "    </tr>\n",
       "  </tbody>\n",
       "</table>\n",
       "</div>"
      ],
      "text/plain": [
       "            year  month  day     price  \\\n",
       "article_id                               \n",
       "890197001   2020      8   21  0.031169   \n",
       "855080001   2020      8    8  0.025407   \n",
       "857163001   2020      8   22  0.013542   \n",
       "762846008   2020      8   28  0.025407   \n",
       "910132001   2020      8   25  0.016932   \n",
       "883936001   2020      8    3  0.022864   \n",
       "770315005   2020      8   18  0.016932   \n",
       "756322004   2020      8    4  0.010153   \n",
       "897423001   2020      8   28  0.011390   \n",
       "805510033   2020      8    2  0.010153   \n",
       "862340001   2020      8   12  0.013542   \n",
       "889870001   2020      8   29  0.025407   \n",
       "801890001   2020      8    2  0.084729   \n",
       "572797001   2020      8   10  0.011847   \n",
       "924623004   2020      8    3  0.033881   \n",
       "863456003   2020      8    2  0.025407   \n",
       "759871003   2020      8    2  0.006763   \n",
       "723349003   2020      8    4  0.008458   \n",
       "685816001   2020      8    2  0.008136   \n",
       "894668004   2020      8   21  0.025407   \n",
       "919786002   2020      8   23  0.042356   \n",
       "863001001   2020      8    4  0.020051   \n",
       "778064028   2020      8   11  0.003373   \n",
       "864415001   2020      8   14  0.016932   \n",
       "933706001   2020      8   27  0.016932   \n",
       "760084006   2020      8   10  0.025000   \n",
       "757671007   2020      8   19  0.011847   \n",
       "806388002   2020      8    8  0.013542   \n",
       "864415003   2020      8   20  0.016932   \n",
       "589222005   2020      8   26  0.010153   \n",
       "\n",
       "                                                  customer_id  \n",
       "article_id                                                     \n",
       "890197001   fd2cd02e61c364e08a8a7542acc0213cff348df5e6fcb5...  \n",
       "855080001   5b63aeb990f337a5fe21f1774c253457f16f00d9fa84d2...  \n",
       "857163001   e64506aa808cf8cc2073cf8a78c078d1a2ea39e8caa62e...  \n",
       "762846008   c7bbcd546ec7e1d368739e96bd45905a7dd7624e1d07c1...  \n",
       "910132001   548be1a518dcfb9eb589661202ef5de3758f7d92acf6ba...  \n",
       "883936001   8896c62b5dcca6d09a0fd75967f6f153fbba2fd12d1d3c...  \n",
       "770315005   0dd981f4184a110b7fd01bbc38c886d58395d4d46090c5...  \n",
       "756322004   45e03ba337f49df7b2885cf5fffbd46ed8b8ffbfc1342f...  \n",
       "897423001   9821fc99b6270530edeea9c1570d704693e0ce21eba6f6...  \n",
       "805510033   679f4c9319e7c73ce5a252542604434c7dbe919171b5d9...  \n",
       "862340001   e431675fe5f0d4b0bcc64f326c7ecf54e46a5d7f582f03...  \n",
       "889870001   d3f944c9310a997dd74f88d2703cc094cf2fb5babbe532...  \n",
       "801890001   b16295303e53827ae53d6ea9563988e9dd0dd1efb38bdd...  \n",
       "572797001   3ef764b52d728e6272cd0e8fd4bee9760b40742d5afaaf...  \n",
       "924623004   cc2702999be0bcde285174442522195670d3e81d889e87...  \n",
       "863456003   a9fca529f2379e2c1ce8e9bbe0ec99be4620a02c113921...  \n",
       "759871003   66723501376d988d236da084fb3e928b746e545bbbe230...  \n",
       "723349003   6e75fcf50106b5644148a1cfa1b6d8a5808ad6fde0ac89...  \n",
       "685816001   719168562e282c7011a8b6207d0778975c161676be9adb...  \n",
       "894668004   b658cda7c5ce23905730086cd7ea658c476d8afd7bd73e...  \n",
       "919786002   e606e7a5a771b0faf88bae08bb8343f4ad6d7ae96f5ede...  \n",
       "863001001   1f8436ec6ad2f21b2a57115bb8199957ca782b415090c5...  \n",
       "778064028   f136c58857fbaa27b0b51afdb3afd419099ade6f427370...  \n",
       "864415001   d514fc32511e3ad619e38d9d7c62b16e04991bf0dc1250...  \n",
       "933706001   03d0011487606c37c1b1ed147fc72f285a50c05f00b971...  \n",
       "760084006   109d147807a992d0b2acbebb7f5c92f97fce87fdced30f...  \n",
       "757671007   1d8343473025c814243df5f29e5efb499a2dff740b2ece...  \n",
       "806388002   f7c41ad0ce060149aeee826de5ee993484740b682a8efa...  \n",
       "864415003   317a426b01587d544dad5b003ff14c5d70621653287744...  \n",
       "589222005   ed698d6ac772a7acab66a49ba27b60c5e089657d960109...  "
      ]
     },
     "execution_count": 42,
     "metadata": {},
     "output_type": "execute_result"
    }
   ],
   "source": [
    "#customer id too long for graph (000058a12d5b43e67d225668fa1f8d618c13dc232df0cad8ffe7ad4a1091e318)\n",
    "#we will use articles\n",
    "\n",
    "#we set articles column to index\n",
    "ts_train_df.set_index('article_id')"
   ]
  },
  {
   "cell_type": "code",
   "execution_count": 53,
   "id": "3654a542",
   "metadata": {},
   "outputs": [
    {
     "data": {
      "text/html": [
       "<div>\n",
       "<style scoped>\n",
       "    .dataframe tbody tr th:only-of-type {\n",
       "        vertical-align: middle;\n",
       "    }\n",
       "\n",
       "    .dataframe tbody tr th {\n",
       "        vertical-align: top;\n",
       "    }\n",
       "\n",
       "    .dataframe thead th {\n",
       "        text-align: right;\n",
       "    }\n",
       "</style>\n",
       "<table border=\"1\" class=\"dataframe\">\n",
       "  <thead>\n",
       "    <tr style=\"text-align: right;\">\n",
       "      <th></th>\n",
       "      <th>year</th>\n",
       "      <th>month</th>\n",
       "      <th>day</th>\n",
       "      <th>price</th>\n",
       "      <th>customer_id</th>\n",
       "    </tr>\n",
       "    <tr>\n",
       "      <th>article_id</th>\n",
       "      <th></th>\n",
       "      <th></th>\n",
       "      <th></th>\n",
       "      <th></th>\n",
       "      <th></th>\n",
       "    </tr>\n",
       "  </thead>\n",
       "  <tbody>\n",
       "    <tr>\n",
       "      <th>864231002</th>\n",
       "      <td>2020</td>\n",
       "      <td>9</td>\n",
       "      <td>21</td>\n",
       "      <td>0.016932</td>\n",
       "      <td>f0ea957a32aad4a78175a1bb294b8c97b2755ea04953bd...</td>\n",
       "    </tr>\n",
       "    <tr>\n",
       "      <th>933989002</th>\n",
       "      <td>2020</td>\n",
       "      <td>9</td>\n",
       "      <td>16</td>\n",
       "      <td>0.042356</td>\n",
       "      <td>f1f13a2f6d32dd1aabe020361f37385e77dd69ca7295fa...</td>\n",
       "    </tr>\n",
       "    <tr>\n",
       "      <th>800881006</th>\n",
       "      <td>2020</td>\n",
       "      <td>9</td>\n",
       "      <td>7</td>\n",
       "      <td>0.067780</td>\n",
       "      <td>6d0f67ac5ba92eefd4a2f7cf2ff1a2971d1100ab069143...</td>\n",
       "    </tr>\n",
       "    <tr>\n",
       "      <th>852442003</th>\n",
       "      <td>2020</td>\n",
       "      <td>9</td>\n",
       "      <td>16</td>\n",
       "      <td>0.050831</td>\n",
       "      <td>75ed968329b85e803ccba18f266b36b66c0acf34290745...</td>\n",
       "    </tr>\n",
       "    <tr>\n",
       "      <th>871889001</th>\n",
       "      <td>2020</td>\n",
       "      <td>9</td>\n",
       "      <td>18</td>\n",
       "      <td>0.050831</td>\n",
       "      <td>990d7387d958f920db38304098347b7d6b1ca549704a6b...</td>\n",
       "    </tr>\n",
       "    <tr>\n",
       "      <th>852773001</th>\n",
       "      <td>2020</td>\n",
       "      <td>9</td>\n",
       "      <td>1</td>\n",
       "      <td>0.025407</td>\n",
       "      <td>af61bef05bb454568c9f2ad57d9a23e13dbe7e02aa64f6...</td>\n",
       "    </tr>\n",
       "    <tr>\n",
       "      <th>751471022</th>\n",
       "      <td>2020</td>\n",
       "      <td>9</td>\n",
       "      <td>20</td>\n",
       "      <td>0.025407</td>\n",
       "      <td>64661e48bb62cd63e6b4188765441dbc1588197062e54d...</td>\n",
       "    </tr>\n",
       "    <tr>\n",
       "      <th>768921001</th>\n",
       "      <td>2020</td>\n",
       "      <td>9</td>\n",
       "      <td>7</td>\n",
       "      <td>0.013542</td>\n",
       "      <td>7b317fbf19db8c34ef811e45a5dcf7a6ea422104d14e53...</td>\n",
       "    </tr>\n",
       "    <tr>\n",
       "      <th>859743006</th>\n",
       "      <td>2020</td>\n",
       "      <td>9</td>\n",
       "      <td>19</td>\n",
       "      <td>0.022017</td>\n",
       "      <td>9369073e654914854964b0b11beb4c8ca0e23c17b08002...</td>\n",
       "    </tr>\n",
       "    <tr>\n",
       "      <th>706016007</th>\n",
       "      <td>2020</td>\n",
       "      <td>9</td>\n",
       "      <td>13</td>\n",
       "      <td>0.016932</td>\n",
       "      <td>7514719263e008e6e6ff87cb93e713c78e0977be133345...</td>\n",
       "    </tr>\n",
       "    <tr>\n",
       "      <th>881244001</th>\n",
       "      <td>2020</td>\n",
       "      <td>9</td>\n",
       "      <td>7</td>\n",
       "      <td>0.033881</td>\n",
       "      <td>2617b1b122cdb688a92889d5bcea46cdb29444453296b6...</td>\n",
       "    </tr>\n",
       "    <tr>\n",
       "      <th>711053003</th>\n",
       "      <td>2020</td>\n",
       "      <td>9</td>\n",
       "      <td>19</td>\n",
       "      <td>0.013542</td>\n",
       "      <td>143c0baf1e9a6e72725e98c8756a5c5bebc469da04ee09...</td>\n",
       "    </tr>\n",
       "    <tr>\n",
       "      <th>863595005</th>\n",
       "      <td>2020</td>\n",
       "      <td>9</td>\n",
       "      <td>4</td>\n",
       "      <td>0.032322</td>\n",
       "      <td>2f16bf0d21a4aa0aff2f34b80b01039af328e3c970fcf2...</td>\n",
       "    </tr>\n",
       "    <tr>\n",
       "      <th>918525001</th>\n",
       "      <td>2020</td>\n",
       "      <td>9</td>\n",
       "      <td>14</td>\n",
       "      <td>0.050831</td>\n",
       "      <td>e3190a61f062929a7897b5f2af1f994169c0d01c5ca7c0...</td>\n",
       "    </tr>\n",
       "    <tr>\n",
       "      <th>924250001</th>\n",
       "      <td>2020</td>\n",
       "      <td>9</td>\n",
       "      <td>22</td>\n",
       "      <td>0.050831</td>\n",
       "      <td>506c97ca9beda1ffea8f1e1ae6dbcac22645981401393c...</td>\n",
       "    </tr>\n",
       "    <tr>\n",
       "      <th>924243001</th>\n",
       "      <td>2020</td>\n",
       "      <td>9</td>\n",
       "      <td>16</td>\n",
       "      <td>0.042356</td>\n",
       "      <td>f5420f03512ffa4623f065f4f55c1bf8c72e13c0c9c21b...</td>\n",
       "    </tr>\n",
       "    <tr>\n",
       "      <th>876148002</th>\n",
       "      <td>2020</td>\n",
       "      <td>9</td>\n",
       "      <td>20</td>\n",
       "      <td>0.101678</td>\n",
       "      <td>d48194e4f978a14d87c2de821a14a11387795acd746e72...</td>\n",
       "    </tr>\n",
       "    <tr>\n",
       "      <th>896198002</th>\n",
       "      <td>2020</td>\n",
       "      <td>9</td>\n",
       "      <td>7</td>\n",
       "      <td>0.042356</td>\n",
       "      <td>ebd311ad516533410cffa5fab24a58b7db551b35933a83...</td>\n",
       "    </tr>\n",
       "    <tr>\n",
       "      <th>873276004</th>\n",
       "      <td>2020</td>\n",
       "      <td>9</td>\n",
       "      <td>16</td>\n",
       "      <td>0.033881</td>\n",
       "      <td>a6da5468eeef8d519108d12969c5155b4e8f865eb6eb46...</td>\n",
       "    </tr>\n",
       "    <tr>\n",
       "      <th>907951002</th>\n",
       "      <td>2020</td>\n",
       "      <td>9</td>\n",
       "      <td>17</td>\n",
       "      <td>0.016932</td>\n",
       "      <td>e2adead199a899bd967b4112dd7f31e3cbba4f2d05acdf...</td>\n",
       "    </tr>\n",
       "    <tr>\n",
       "      <th>799365027</th>\n",
       "      <td>2020</td>\n",
       "      <td>9</td>\n",
       "      <td>6</td>\n",
       "      <td>0.050831</td>\n",
       "      <td>51d892ea31b722a94919c3e228cf3e122013596451af80...</td>\n",
       "    </tr>\n",
       "    <tr>\n",
       "      <th>927922001</th>\n",
       "      <td>2020</td>\n",
       "      <td>9</td>\n",
       "      <td>14</td>\n",
       "      <td>0.033881</td>\n",
       "      <td>620c35103d1efd1848c733dcd3022fa2fa20ca9e34ca07...</td>\n",
       "    </tr>\n",
       "    <tr>\n",
       "      <th>829618004</th>\n",
       "      <td>2020</td>\n",
       "      <td>9</td>\n",
       "      <td>9</td>\n",
       "      <td>0.025407</td>\n",
       "      <td>89b1cac44d50b230a9e6bf33053c0d9f3d2f517ff9c8b3...</td>\n",
       "    </tr>\n",
       "    <tr>\n",
       "      <th>935541001</th>\n",
       "      <td>2020</td>\n",
       "      <td>9</td>\n",
       "      <td>19</td>\n",
       "      <td>0.025407</td>\n",
       "      <td>e3b458bc26116260e81409060c382455b627d9f31417b7...</td>\n",
       "    </tr>\n",
       "    <tr>\n",
       "      <th>880553001</th>\n",
       "      <td>2020</td>\n",
       "      <td>9</td>\n",
       "      <td>7</td>\n",
       "      <td>0.023847</td>\n",
       "      <td>c8f6cf1bd54731426a01191e31acdab3d3cbe6b0a7d32f...</td>\n",
       "    </tr>\n",
       "    <tr>\n",
       "      <th>810169002</th>\n",
       "      <td>2020</td>\n",
       "      <td>9</td>\n",
       "      <td>17</td>\n",
       "      <td>0.050831</td>\n",
       "      <td>ef1fd6f68e1687816454e892bfec9bc77df5c5e7d1f105...</td>\n",
       "    </tr>\n",
       "    <tr>\n",
       "      <th>721390002</th>\n",
       "      <td>2020</td>\n",
       "      <td>9</td>\n",
       "      <td>7</td>\n",
       "      <td>0.031949</td>\n",
       "      <td>0f4401cfebc9585ea859542e2871002ca8e0cedff7aab8...</td>\n",
       "    </tr>\n",
       "    <tr>\n",
       "      <th>448509014</th>\n",
       "      <td>2020</td>\n",
       "      <td>9</td>\n",
       "      <td>6</td>\n",
       "      <td>0.042356</td>\n",
       "      <td>45aac01f8a0ec727b35efbe9e49f0fa58ef012cda0c8d3...</td>\n",
       "    </tr>\n",
       "    <tr>\n",
       "      <th>910601002</th>\n",
       "      <td>2020</td>\n",
       "      <td>9</td>\n",
       "      <td>16</td>\n",
       "      <td>0.042356</td>\n",
       "      <td>ef9060466e193b76a80a6173206ab274864c5cf8860584...</td>\n",
       "    </tr>\n",
       "    <tr>\n",
       "      <th>845934001</th>\n",
       "      <td>2020</td>\n",
       "      <td>9</td>\n",
       "      <td>7</td>\n",
       "      <td>0.030492</td>\n",
       "      <td>725cef566cf126a9d3722ba93e7778238caae804af8dc6...</td>\n",
       "    </tr>\n",
       "  </tbody>\n",
       "</table>\n",
       "</div>"
      ],
      "text/plain": [
       "            year  month  day     price  \\\n",
       "article_id                               \n",
       "864231002   2020      9   21  0.016932   \n",
       "933989002   2020      9   16  0.042356   \n",
       "800881006   2020      9    7  0.067780   \n",
       "852442003   2020      9   16  0.050831   \n",
       "871889001   2020      9   18  0.050831   \n",
       "852773001   2020      9    1  0.025407   \n",
       "751471022   2020      9   20  0.025407   \n",
       "768921001   2020      9    7  0.013542   \n",
       "859743006   2020      9   19  0.022017   \n",
       "706016007   2020      9   13  0.016932   \n",
       "881244001   2020      9    7  0.033881   \n",
       "711053003   2020      9   19  0.013542   \n",
       "863595005   2020      9    4  0.032322   \n",
       "918525001   2020      9   14  0.050831   \n",
       "924250001   2020      9   22  0.050831   \n",
       "924243001   2020      9   16  0.042356   \n",
       "876148002   2020      9   20  0.101678   \n",
       "896198002   2020      9    7  0.042356   \n",
       "873276004   2020      9   16  0.033881   \n",
       "907951002   2020      9   17  0.016932   \n",
       "799365027   2020      9    6  0.050831   \n",
       "927922001   2020      9   14  0.033881   \n",
       "829618004   2020      9    9  0.025407   \n",
       "935541001   2020      9   19  0.025407   \n",
       "880553001   2020      9    7  0.023847   \n",
       "810169002   2020      9   17  0.050831   \n",
       "721390002   2020      9    7  0.031949   \n",
       "448509014   2020      9    6  0.042356   \n",
       "910601002   2020      9   16  0.042356   \n",
       "845934001   2020      9    7  0.030492   \n",
       "\n",
       "                                                  customer_id  \n",
       "article_id                                                     \n",
       "864231002   f0ea957a32aad4a78175a1bb294b8c97b2755ea04953bd...  \n",
       "933989002   f1f13a2f6d32dd1aabe020361f37385e77dd69ca7295fa...  \n",
       "800881006   6d0f67ac5ba92eefd4a2f7cf2ff1a2971d1100ab069143...  \n",
       "852442003   75ed968329b85e803ccba18f266b36b66c0acf34290745...  \n",
       "871889001   990d7387d958f920db38304098347b7d6b1ca549704a6b...  \n",
       "852773001   af61bef05bb454568c9f2ad57d9a23e13dbe7e02aa64f6...  \n",
       "751471022   64661e48bb62cd63e6b4188765441dbc1588197062e54d...  \n",
       "768921001   7b317fbf19db8c34ef811e45a5dcf7a6ea422104d14e53...  \n",
       "859743006   9369073e654914854964b0b11beb4c8ca0e23c17b08002...  \n",
       "706016007   7514719263e008e6e6ff87cb93e713c78e0977be133345...  \n",
       "881244001   2617b1b122cdb688a92889d5bcea46cdb29444453296b6...  \n",
       "711053003   143c0baf1e9a6e72725e98c8756a5c5bebc469da04ee09...  \n",
       "863595005   2f16bf0d21a4aa0aff2f34b80b01039af328e3c970fcf2...  \n",
       "918525001   e3190a61f062929a7897b5f2af1f994169c0d01c5ca7c0...  \n",
       "924250001   506c97ca9beda1ffea8f1e1ae6dbcac22645981401393c...  \n",
       "924243001   f5420f03512ffa4623f065f4f55c1bf8c72e13c0c9c21b...  \n",
       "876148002   d48194e4f978a14d87c2de821a14a11387795acd746e72...  \n",
       "896198002   ebd311ad516533410cffa5fab24a58b7db551b35933a83...  \n",
       "873276004   a6da5468eeef8d519108d12969c5155b4e8f865eb6eb46...  \n",
       "907951002   e2adead199a899bd967b4112dd7f31e3cbba4f2d05acdf...  \n",
       "799365027   51d892ea31b722a94919c3e228cf3e122013596451af80...  \n",
       "927922001   620c35103d1efd1848c733dcd3022fa2fa20ca9e34ca07...  \n",
       "829618004   89b1cac44d50b230a9e6bf33053c0d9f3d2f517ff9c8b3...  \n",
       "935541001   e3b458bc26116260e81409060c382455b627d9f31417b7...  \n",
       "880553001   c8f6cf1bd54731426a01191e31acdab3d3cbe6b0a7d32f...  \n",
       "810169002   ef1fd6f68e1687816454e892bfec9bc77df5c5e7d1f105...  \n",
       "721390002   0f4401cfebc9585ea859542e2871002ca8e0cedff7aab8...  \n",
       "448509014   45aac01f8a0ec727b35efbe9e49f0fa58ef012cda0c8d3...  \n",
       "910601002   ef9060466e193b76a80a6173206ab274864c5cf8860584...  \n",
       "845934001   725cef566cf126a9d3722ba93e7778238caae804af8dc6...  "
      ]
     },
     "execution_count": 53,
     "metadata": {},
     "output_type": "execute_result"
    }
   ],
   "source": [
    "ts_test_df.set_index('article_id')"
   ]
  },
  {
   "cell_type": "code",
   "execution_count": 75,
   "id": "81984dc8",
   "metadata": {},
   "outputs": [
    {
     "data": {
      "text/html": [
       "<div>\n",
       "<style scoped>\n",
       "    .dataframe tbody tr th:only-of-type {\n",
       "        vertical-align: middle;\n",
       "    }\n",
       "\n",
       "    .dataframe tbody tr th {\n",
       "        vertical-align: top;\n",
       "    }\n",
       "\n",
       "    .dataframe thead th {\n",
       "        text-align: right;\n",
       "    }\n",
       "</style>\n",
       "<table border=\"1\" class=\"dataframe\">\n",
       "  <thead>\n",
       "    <tr style=\"text-align: right;\">\n",
       "      <th></th>\n",
       "      <th>year</th>\n",
       "      <th>month</th>\n",
       "      <th>day</th>\n",
       "      <th>price</th>\n",
       "      <th>customer_id</th>\n",
       "    </tr>\n",
       "    <tr>\n",
       "      <th>article_id</th>\n",
       "      <th></th>\n",
       "      <th></th>\n",
       "      <th></th>\n",
       "      <th></th>\n",
       "      <th></th>\n",
       "    </tr>\n",
       "  </thead>\n",
       "  <tbody>\n",
       "    <tr>\n",
       "      <th>864231002</th>\n",
       "      <td>2020</td>\n",
       "      <td>9</td>\n",
       "      <td>21</td>\n",
       "      <td>0.016932</td>\n",
       "      <td>f0ea957a32aad4a78175a1bb294b8c97b2755ea04953bd...</td>\n",
       "    </tr>\n",
       "  </tbody>\n",
       "</table>\n",
       "</div>"
      ],
      "text/plain": [
       "            year  month  day     price  \\\n",
       "article_id                               \n",
       "864231002   2020      9   21  0.016932   \n",
       "\n",
       "                                                  customer_id  \n",
       "article_id                                                     \n",
       "864231002   f0ea957a32aad4a78175a1bb294b8c97b2755ea04953bd...  "
      ]
     },
     "execution_count": 75,
     "metadata": {},
     "output_type": "execute_result"
    }
   ],
   "source": [
    "test_query = ts_test_df.iloc[:1]\n",
    "test_query.set_index('article_id')"
   ]
  },
  {
   "cell_type": "code",
   "execution_count": 76,
   "id": "27820dec",
   "metadata": {},
   "outputs": [
    {
     "data": {
      "text/plain": [
       "False"
      ]
     },
     "execution_count": 76,
     "metadata": {},
     "output_type": "execute_result"
    }
   ],
   "source": [
    "test_query['customer_id'].values in ts_train_df['customer_id'].values"
   ]
  },
  {
   "cell_type": "code",
   "execution_count": 77,
   "id": "ac2b272e",
   "metadata": {},
   "outputs": [
    {
     "data": {
      "text/plain": [
       "array(['855080001', 2020, 8, 8, 0.0254067796610169,\n",
       "       '5b63aeb990f337a5fe21f1774c253457f16f00d9fa84d242e1b0392e5d8baf3c'],\n",
       "      dtype=object)"
      ]
     },
     "execution_count": 77,
     "metadata": {},
     "output_type": "execute_result"
    }
   ],
   "source": [
    "# Store features as numpy array Xy\n",
    "#names = ts_train_df.index\n",
    "names = ts_train_df['article_id']\n",
    "\n",
    "X = ts_train_df.values\n",
    "\n",
    "X[1] # look at one of our feature values"
   ]
  },
  {
   "cell_type": "code",
   "execution_count": 86,
   "id": "33ac4779",
   "metadata": {},
   "outputs": [
    {
     "data": {
      "text/html": [
       "<div>\n",
       "<style scoped>\n",
       "    .dataframe tbody tr th:only-of-type {\n",
       "        vertical-align: middle;\n",
       "    }\n",
       "\n",
       "    .dataframe tbody tr th {\n",
       "        vertical-align: top;\n",
       "    }\n",
       "\n",
       "    .dataframe thead th {\n",
       "        text-align: right;\n",
       "    }\n",
       "</style>\n",
       "<table border=\"1\" class=\"dataframe\">\n",
       "  <thead>\n",
       "    <tr style=\"text-align: right;\">\n",
       "      <th></th>\n",
       "      <th>day</th>\n",
       "      <th>price</th>\n",
       "    </tr>\n",
       "    <tr>\n",
       "      <th>article_id</th>\n",
       "      <th></th>\n",
       "      <th></th>\n",
       "    </tr>\n",
       "  </thead>\n",
       "  <tbody>\n",
       "    <tr>\n",
       "      <th>864231002</th>\n",
       "      <td>21</td>\n",
       "      <td>0.016932</td>\n",
       "    </tr>\n",
       "  </tbody>\n",
       "</table>\n",
       "</div>"
      ],
      "text/plain": [
       "            day     price\n",
       "article_id               \n",
       "864231002    21  0.016932"
      ]
     },
     "execution_count": 86,
     "metadata": {},
     "output_type": "execute_result"
    }
   ],
   "source": [
    "# we pretend we have a customer who bought something on day 7 for €3 (assuming 0.03*100)\n",
    "q = test_query[['day','price', 'article_id']]\n",
    "q.set_index('article_id')"
   ]
  },
  {
   "cell_type": "code",
   "execution_count": 108,
   "id": "cd9cee4e",
   "metadata": {},
   "outputs": [
    {
     "data": {
      "text/plain": [
       "[21, 0.0169322033898305]"
      ]
     },
     "execution_count": 108,
     "metadata": {},
     "output_type": "execute_result"
    }
   ],
   "source": [
    "[q.iloc[0][0], q.iloc[0][1]]"
   ]
  },
  {
   "cell_type": "code",
   "execution_count": 123,
   "id": "40d20501",
   "metadata": {},
   "outputs": [
    {
     "data": {
      "image/png": "[encoded data removed]",
      "text/plain": [
       "<Figure size 576x360 with 1 Axes>"
      ]
     },
     "metadata": {
      "needs_background": "light"
     },
     "output_type": "display_data"
    }
   ],
   "source": [
    "days = X[:,3] # x\n",
    "prices = X[:,4] # y\n",
    "\n",
    "q_days = q.iloc[0][0]\n",
    "q_price = q.iloc[0][1]\n",
    "\n",
    "#place day/price points on graph\n",
    "plt.figure(figsize=(8,5))\n",
    "plt.scatter(days, prices, color='green')\n",
    "\n",
    "#place query on graph\n",
    "plt.scatter(q_days, q_price,color='black')\n",
    "plt.annotate('q',(q_days+0.2, q_price))\n",
    "\n",
    "#label graph\n",
    "plt.title(\"H&M\")\n",
    "plt.xlabel(\"Days\")\n",
    "plt.ylabel(\"Prices\")\n",
    "\n",
    "#display graph\n",
    "plt.grid()\n",
    "\n",
    "#populate product names on the graph\n",
    "for i, txt in enumerate(names):\n",
    "    plt.annotate(txt, (days[i]+0.09, prices[i]))"
   ]
  },
  {
   "cell_type": "code",
   "execution_count": 124,
   "id": "792591b6",
   "metadata": {},
   "outputs": [
    {
     "data": {
      "text/plain": [
       "array([[21, 0.0311694915254237],\n",
       "       [8, 0.0254067796610169],\n",
       "       [22, 0.0135423728813559],\n",
       "       [28, 0.0254067796610169],\n",
       "       [25, 0.0169322033898305],\n",
       "       [3, 0.022864406779661],\n",
       "       [18, 0.0169322033898305],\n",
       "       [4, 0.0101525423728813],\n",
       "       [28, 0.0113898305084745],\n",
       "       [2, 0.0101525423728813],\n",
       "       [12, 0.0135423728813559],\n",
       "       [29, 0.0254067796610169],\n",
       "       [2, 0.084728813559322],\n",
       "       [10, 0.0118474576271186],\n",
       "       [3, 0.0338813559322033],\n",
       "       [2, 0.0254067796610169],\n",
       "       [2, 0.0067627118644067],\n",
       "       [4, 0.008457627118644],\n",
       "       [2, 0.0081355932203389],\n",
       "       [21, 0.0254067796610169],\n",
       "       [23, 0.0423559322033898],\n",
       "       [4, 0.0200508474576271],\n",
       "       [11, 0.0033728813559322],\n",
       "       [14, 0.0169322033898305],\n",
       "       [27, 0.0169322033898305],\n",
       "       [10, 0.0249999999999999],\n",
       "       [19, 0.0118474576271186],\n",
       "       [8, 0.0135423728813559],\n",
       "       [20, 0.0169322033898305],\n",
       "       [26, 0.0101525423728813]], dtype=object)"
      ]
     },
     "execution_count": 124,
     "metadata": {},
     "output_type": "execute_result"
    }
   ],
   "source": [
    "X[:,3:5]"
   ]
  },
  {
   "cell_type": "markdown",
   "id": "a57d33e3",
   "metadata": {},
   "source": [
    "# Normalise the Sample Transaction Data"
   ]
  },
  {
   "cell_type": "code",
   "execution_count": 125,
   "id": "e63f6ec6",
   "metadata": {},
   "outputs": [],
   "source": [
    "#we will use N(0,1) rescale with zero mean and unit variance\n",
    "scaler = preprocessing.StandardScaler().fit(X[:,3:5])  #need a handle on the scaler to apply to training and test data\n",
    "X_scaled = scaler.transform(X[:,3:5])"
   ]
  },
  {
   "cell_type": "code",
   "execution_count": 126,
   "id": "3d72aa23",
   "metadata": {},
   "outputs": [],
   "source": [
    "q_scaled = scaler.transform([[q.iloc[0][0], q.iloc[0][1]]])"
   ]
  },
  {
   "cell_type": "code",
   "execution_count": 127,
   "id": "b3a96085",
   "metadata": {},
   "outputs": [
    {
     "data": {
      "text/plain": [
       "array([[ 0.77358021,  0.74365155],\n",
       "       [-0.58541205,  0.35458478],\n",
       "       [ 0.87811808, -0.44643505],\n",
       "       [ 1.50534528,  0.35458478],\n",
       "       [ 1.19173168, -0.21757224],\n",
       "       [-1.10810138,  0.18293767],\n",
       "       [ 0.45996661, -0.21757224],\n",
       "       [-1.00356352, -0.67529786],\n",
       "       [ 1.50534528, -0.59176293],\n",
       "       [-1.21263925, -0.67529786],\n",
       "       [-0.16726059, -0.44643505],\n",
       "       [ 1.60988314,  0.35458478],\n",
       "       [-1.21263925,  4.35968391],\n",
       "       [-0.37633632, -0.56086645],\n",
       "       [-1.10810138,  0.92674179],\n",
       "       [-1.21263925,  0.35458478],\n",
       "       [-1.21263925, -0.90416066],\n",
       "       [-1.00356352, -0.78972926],\n",
       "       [-1.21263925, -0.81147123],\n",
       "       [ 0.77358021,  0.35458478],\n",
       "       [ 0.98265594,  1.49889881],\n",
       "       [-1.00356352, -0.00701846],\n",
       "       [-0.27179845, -1.13302347],\n",
       "       [ 0.04181515, -0.21757224],\n",
       "       [ 1.40080741, -0.21757224],\n",
       "       [-0.37633632,  0.32712124],\n",
       "       [ 0.56450448, -0.56086645],\n",
       "       [-0.58541205, -0.44643505],\n",
       "       [ 0.66904235, -0.21757224],\n",
       "       [ 1.29626954, -0.67529786]])"
      ]
     },
     "execution_count": 127,
     "metadata": {},
     "output_type": "execute_result"
    }
   ],
   "source": [
    "X_scaled"
   ]
  },
  {
   "cell_type": "code",
   "execution_count": 128,
   "id": "7f230ecc",
   "metadata": {},
   "outputs": [
    {
     "data": {
      "text/plain": [
       "array([[ 0.77358021, -0.21757224]])"
      ]
     },
     "execution_count": 128,
     "metadata": {},
     "output_type": "execute_result"
    }
   ],
   "source": [
    "q_scaled"
   ]
  },
  {
   "cell_type": "code",
   "execution_count": 129,
   "id": "213225d2",
   "metadata": {},
   "outputs": [
    {
     "data": {
      "image/png": "[encoded data removed]",
      "text/plain": [
       "<Figure size 576x360 with 1 Axes>"
      ]
     },
     "metadata": {
      "needs_background": "light"
     },
     "output_type": "display_data"
    }
   ],
   "source": [
    "#check new scale\n",
    "days = X_scaled[:,0] # x\n",
    "prices = X_scaled[:,1] # y\n",
    "\n",
    "plt.figure(figsize=(8,5))\n",
    "plt.scatter(days, prices, color='green')\n",
    "\n",
    "plt.scatter(q_scaled[:,0],q_scaled[:,1],color='black')\n",
    "plt.annotate('q',(q_scaled[:, 0]+0.03,q_scaled[:, 1]))\n",
    "\n",
    "plt.title(\"H&M\")\n",
    "plt.xlabel(\"Days\")\n",
    "plt.ylabel(\"Prices\")\n",
    "plt.grid()\n",
    "#plt.legend(handles=[red_patch, blue_patch],loc=4)\n",
    "for i, txt in enumerate(names):\n",
    "    plt.annotate(txt, (days[i]+0.09, prices[i]))"
   ]
  },
  {
   "cell_type": "markdown",
   "id": "3879d8c3",
   "metadata": {},
   "source": [
    "# Train a KNN Model on Sample"
   ]
  },
  {
   "cell_type": "code",
   "execution_count": 130,
   "id": "a98212e3",
   "metadata": {},
   "outputs": [
    {
     "data": {
      "text/plain": [
       "NearestNeighbors(n_neighbors=2, radius=0.4)"
      ]
     },
     "execution_count": 130,
     "metadata": {},
     "output_type": "execute_result"
    }
   ],
   "source": [
    "knn_model = NearestNeighbors(n_neighbors=2, radius=0.4)\n",
    "knn_model.fit(X_scaled)"
   ]
  },
  {
   "cell_type": "markdown",
   "id": "af34d34f",
   "metadata": {},
   "source": [
    "# Predict with KNN Model"
   ]
  },
  {
   "cell_type": "code",
   "execution_count": 131,
   "id": "1015d4d0",
   "metadata": {},
   "outputs": [],
   "source": [
    "#get neighbours' names where k=12\n",
    "result = knn_model.kneighbors(q_scaled, 12)[1][0]"
   ]
  },
  {
   "cell_type": "code",
   "execution_count": 132,
   "id": "8ca07169",
   "metadata": {},
   "outputs": [
    {
     "name": "stdout",
     "output_type": "stream",
     "text": [
      "PRODUCT: 864415003\n",
      "Thong briefs in lace with a low waist, lined gusset and string back.\n",
      " \n",
      "PRODUCT: 857163001\n",
      "Leggings in soft cotton jersey with a high elasticated waist.\n",
      " \n",
      "PRODUCT: 770315005\n",
      "Top in airy jersey crêpe with a V-neck, short cap sleeves and a small stand-up collar with gathers at the back of the neck.\n",
      " \n",
      "PRODUCT: 757671007\n",
      "Short-sleeved blouse in a viscose crêpe weave with a round neckline and small opening with a concealed button at the back of the neck. Decorative gathers at the shoulders and along the yoke at the back.\n",
      " \n",
      "PRODUCT: 910132001\n",
      "V-neck strappy tops in soft, organic cotton jersey, one ribbed.\n",
      " \n",
      "PRODUCT: 894668004\n",
      "5-pocket, ankle-length trousers in twill. Loose fit with a high waist, zip fly and button and gently tapered legs.\n",
      " \n",
      "PRODUCT: 933706001\n",
      "Blouse in sturdy cotton denim with buttons down the front and a wide, rounded collar with a small frill trim. Long sleeves with wide, buttoned cuffs, and a gently rounded hem. Slightly longer at the back. The cotton content of the blouse is partly recycled.\n",
      " \n",
      "PRODUCT: 589222005\n",
      "High-waisted jeans in stretch denim with a zip fly and button, fake front pockets, real back pockets and skinny legs.\n",
      " \n",
      "PRODUCT: 864415001\n",
      "Thong briefs in lace with a low waist, lined gusset and string back.\n",
      " \n",
      "PRODUCT: 897423001\n",
      "Metal ear cuffs in various designs decorated with rhinestones and pearly plastic beads.\n",
      " \n",
      "PRODUCT: 762846008\n",
      "Long-sleeved blouse in woven fabric with a collar, V-neck, buttons down the front, buttoned cuffs and a rounded hem.\n",
      " \n",
      "PRODUCT: 890197001\n",
      "Slides in imitation leather with a wide foot strap and imitation leather linings and insoles. Heel approx. 1 cm.\n",
      " \n"
     ]
    }
   ],
   "source": [
    "# result contains the 'index' of the nearest neighbours\n",
    "for n in result:\n",
    "    p = names.iloc[n]\n",
    "    item = articles_df.query('article_id == ' + str(p))\n",
    "    print(\"PRODUCT: \" + str(p))\n",
    "    print(item.iloc[0][24])\n",
    "    print(\" \")"
   ]
  },
  {
   "cell_type": "markdown",
   "id": "b2329201",
   "metadata": {},
   "source": [
    "# Evaluate Model on Sample"
   ]
  },
  {
   "cell_type": "code",
   "execution_count": null,
   "id": "a1c71e74",
   "metadata": {},
   "outputs": [],
   "source": [
    "X_test_scaled = scaler.transform(test_query[:,3:5])"
   ]
  },
  {
   "cell_type": "raw",
   "id": "035fdf55",
   "metadata": {},
   "source": [
    "for i,p in enumerate(predicted):\n",
    "    if p in actual and p not in predicted[:i]:\n",
    "        num_hits += 1.0\n",
    "        score += num_hits / (i+1.0)"
   ]
  },
  {
   "cell_type": "markdown",
   "id": "18f14e26",
   "metadata": {},
   "source": [
    "# Generate Predictions File"
   ]
  },
  {
   "cell_type": "code",
   "execution_count": 135,
   "id": "70d53eb3",
   "metadata": {},
   "outputs": [],
   "source": [
    "#H&M Collaborative KNN Model Based Recommendation System\n",
    "def hm_rec_sys(r_model, cus_df, write_file):  \n",
    "    \n",
    "    #write_file = \"ros_predictions.csv\"\n",
    "    with open(write_file, \"wt\", encoding=\"utf-8\") as output:\n",
    "        #add headers first\n",
    "        output.write(\"customer_id,prediction\" + '\\n')\n",
    "        \n",
    "        #now we loop through each row and write predictions to csv file\n",
    "        for index, cus in cus_df.iterrows():\n",
    "            #select day and price and convert them to np array\n",
    "            q_cus = np.array([cus['day'],cus['price']], dtype=float) #cus[3:5]\n",
    "            \n",
    "            #normalise data\n",
    "            q_cus_scaled = scaler.transform([q_cus])\n",
    "\n",
    "            #get neighbours' names where k=12\n",
    "            result = r_model.kneighbors(q_cus_scaled, 12)[1][0]\n",
    "            \n",
    "            #create prediction csv file\n",
    "            r = []\n",
    "            r.append(cus.customer_id + \",\")\n",
    "            for n in result:\n",
    "                p = names.iloc[n]\n",
    "                r.append(\"0\" + str(p))\n",
    "                prediction =  ' '.join(r)\n",
    "            #write predictions to csv file\n",
    "            output.write(prediction + '\\n')\n",
    "            clear_output(wait=True)\n",
    "            display('Processed Row: ' + str(index))"
   ]
  },
  {
   "cell_type": "code",
   "execution_count": 136,
   "id": "062928c4",
   "metadata": {},
   "outputs": [
    {
     "data": {
      "text/plain": [
       "'Processed Row: 9698'"
      ]
     },
     "metadata": {},
     "output_type": "display_data"
    }
   ],
   "source": [
    "#we now generate our intial predictions list and save it as a csv file\n",
    "hm_rec_sys(knn_model, cus_pred_df, \"data/ros_predictions3.csv\")"
   ]
  },
  {
   "cell_type": "code",
   "execution_count": 137,
   "id": "de051749",
   "metadata": {},
   "outputs": [],
   "source": [
    "#inspect our prediction data\n",
    "predictions_df = pd.read_csv(\"data/ros_predictions3.csv\")"
   ]
  },
  {
   "cell_type": "code",
   "execution_count": 139,
   "id": "dbe27ae0",
   "metadata": {},
   "outputs": [
    {
     "data": {
      "text/html": [
       "<div>\n",
       "<style scoped>\n",
       "    .dataframe tbody tr th:only-of-type {\n",
       "        vertical-align: middle;\n",
       "    }\n",
       "\n",
       "    .dataframe tbody tr th {\n",
       "        vertical-align: top;\n",
       "    }\n",
       "\n",
       "    .dataframe thead th {\n",
       "        text-align: right;\n",
       "    }\n",
       "</style>\n",
       "<table border=\"1\" class=\"dataframe\">\n",
       "  <thead>\n",
       "    <tr style=\"text-align: right;\">\n",
       "      <th></th>\n",
       "      <th>customer_id</th>\n",
       "      <th>prediction</th>\n",
       "    </tr>\n",
       "  </thead>\n",
       "  <tbody>\n",
       "    <tr>\n",
       "      <th>0</th>\n",
       "      <td>00000dbacae5abe5e23885899a1fa44253a17956c6d1c3...</td>\n",
       "      <td>890197001 762846008 889870001 894668004 91978...</td>\n",
       "    </tr>\n",
       "    <tr>\n",
       "      <th>1</th>\n",
       "      <td>0000423b00ade91418cceaf3b26c6af3dd342b51fd051e...</td>\n",
       "      <td>894668004 890197001 864415003 770315005 91013...</td>\n",
       "    </tr>\n",
       "    <tr>\n",
       "      <th>2</th>\n",
       "      <td>000058a12d5b43e67d225668fa1f8d618c13dc232df0ca...</td>\n",
       "      <td>890197001 894668004 919786002 760084006 77031...</td>\n",
       "    </tr>\n",
       "    <tr>\n",
       "      <th>3</th>\n",
       "      <td>00005ca1c9ed5f5146b52ac8639a40ca9d57aeff4d1bd2...</td>\n",
       "      <td>855080001 760084006 924623004 863456003 88393...</td>\n",
       "    </tr>\n",
       "    <tr>\n",
       "      <th>4</th>\n",
       "      <td>00006413d8573cd20ed7128e53b7b13819fe5cfc2d801f...</td>\n",
       "      <td>855080001 760084006 924623004 863456003 88393...</td>\n",
       "    </tr>\n",
       "  </tbody>\n",
       "</table>\n",
       "</div>"
      ],
      "text/plain": [
       "                                         customer_id  \\\n",
       "0  00000dbacae5abe5e23885899a1fa44253a17956c6d1c3...   \n",
       "1  0000423b00ade91418cceaf3b26c6af3dd342b51fd051e...   \n",
       "2  000058a12d5b43e67d225668fa1f8d618c13dc232df0ca...   \n",
       "3  00005ca1c9ed5f5146b52ac8639a40ca9d57aeff4d1bd2...   \n",
       "4  00006413d8573cd20ed7128e53b7b13819fe5cfc2d801f...   \n",
       "\n",
       "                                          prediction  \n",
       "0   890197001 762846008 889870001 894668004 91978...  \n",
       "1   894668004 890197001 864415003 770315005 91013...  \n",
       "2   890197001 894668004 919786002 760084006 77031...  \n",
       "3   855080001 760084006 924623004 863456003 88393...  \n",
       "4   855080001 760084006 924623004 863456003 88393...  "
      ]
     },
     "execution_count": 139,
     "metadata": {},
     "output_type": "execute_result"
    }
   ],
   "source": [
    "predictions_df.head()"
   ]
  },
  {
   "cell_type": "code",
   "execution_count": 138,
   "id": "e1925033",
   "metadata": {},
   "outputs": [
    {
     "data": {
      "text/plain": [
       "1371980"
      ]
     },
     "execution_count": 138,
     "metadata": {},
     "output_type": "execute_result"
    }
   ],
   "source": [
    "predictions_df['customer_id'].size"
   ]
  },
  {
   "cell_type": "code",
   "execution_count": null,
   "id": "9543922c",
   "metadata": {},
   "outputs": [],
   "source": []
  }
 ],
 "metadata": {
  "kernelspec": {
   "display_name": "Python 3 (ipykernel)",
   "language": "python",
   "name": "python3"
  },
  "language_info": {
   "codemirror_mode": {
    "name": "ipython",
    "version": 3
   },
   "file_extension": ".py",
   "mimetype": "text/x-python",
   "name": "python",
   "nbconvert_exporter": "python",
   "pygments_lexer": "ipython3",
   "version": "3.8.10"
  }
 },
 "nbformat": 4,
 "nbformat_minor": 5
}
