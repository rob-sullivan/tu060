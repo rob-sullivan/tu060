{
 "cells": [
  {
   "cell_type": "markdown",
   "metadata": {},
   "source": [
    "# Clustering\n",
    "## _k_ Means"
   ]
  },
  {
   "cell_type": "markdown",
   "metadata": {},
   "source": [
    "based on Iris Example by Belen Sanchez  \n",
    "https://medium.com/@belen.sanchez27/predicting-iris-flower-species-with-k-means-clustering-in-python-f6e46806aaee"
   ]
  },
  {
   "cell_type": "code",
   "execution_count": null,
   "metadata": {},
   "outputs": [],
   "source": [
    "from sklearn import datasets\n",
    "import matplotlib.pyplot as plt\n",
    "import pandas as pd\n",
    "from sklearn.cluster import KMeans\n",
    "from sklearn.preprocessing import StandardScaler, LabelEncoder"
   ]
  },
  {
   "cell_type": "code",
   "execution_count": null,
   "metadata": {},
   "outputs": [],
   "source": [
    "penguins_all = pd.read_csv('data/penguins_af.csv')\n",
    "penguins = penguins_all[['bill_length_mm', 'bill_depth_mm',\n",
    "                         'flipper_length_mm', 'body_mass_g']]\n",
    "LE = LabelEncoder()\n",
    "penguins_all['code'] = LE.fit_transform(penguins_all['species'])\n",
    "y = penguins_all['code']\n",
    "\n",
    "X_raw = penguins.values\n",
    "X = StandardScaler().fit_transform(X_raw)\n",
    "\n",
    "features = penguins.columns\n",
    "features"
   ]
  },
  {
   "cell_type": "code",
   "execution_count": null,
   "metadata": {},
   "outputs": [],
   "source": [
    "%matplotlib inline\n",
    "plt.scatter(X[:,f1], X[:,f2], c=y, cmap='gist_rainbow')\n",
    "plt.xlabel(features[f1], fontsize=14)\n",
    "plt.ylabel(features[f2], fontsize=14)"
   ]
  },
  {
   "cell_type": "code",
   "execution_count": null,
   "metadata": {},
   "outputs": [],
   "source": [
    "f1,f2 = 0,3\n",
    "Xc = X[:, [f1,f2]]  # Select the 0th and 3rd columns\n",
    "\n",
    "km = KMeans(n_clusters = 3, random_state=1)\n",
    "km.fit(Xc)"
   ]
  },
  {
   "cell_type": "code",
   "execution_count": null,
   "metadata": {},
   "outputs": [],
   "source": [
    "centers = km.cluster_centers_\n",
    "print(centers)"
   ]
  },
  {
   "cell_type": "code",
   "execution_count": null,
   "metadata": {},
   "outputs": [],
   "source": [
    "#this will tell us to which cluster does the data observations belong.\n",
    "new_labels = km.labels_\n",
    "# Plot the identified clusters and compare with the answers\n",
    "fig, axes = plt.subplots(1, 2, figsize=(14,7))\n",
    "axes[0].scatter(Xc[:, 0], Xc[:, 1], c=y, cmap='gist_rainbow',\n",
    "edgecolor='k', s=150)\n",
    "axes[1].scatter(Xc[:, 0], Xc[:, 1], c=new_labels, \n",
    "edgecolor='k', s=150)\n",
    "axes[0].set_xlabel(features[f1], fontsize=14)\n",
    "axes[0].set_ylabel(features[f2], fontsize=14)\n",
    "axes[1].set_xlabel(features[f1], fontsize=14)\n",
    "axes[1].set_ylabel(features[f2], fontsize=14)\n",
    "axes[0].tick_params(length=10, width=2, colors='k', labelsize=20)\n",
    "axes[1].tick_params(length=10, width=2, colors='k', labelsize=20)\n",
    "axes[0].set_title('Actual', fontsize=18)\n",
    "axes[1].set_title('Predicted', fontsize=18)"
   ]
  },
  {
   "cell_type": "markdown",
   "metadata": {},
   "source": [
    "## k-Means Stability\n",
    "`.inertia_` attribute is the sum of squared distances of each instance from their closest cluster centroid (intra_cluster distance).   \n",
    "`n_init` parameter is the number of times the algorithm runs with different centroid seeds, (default is 10).   \n",
    "`KMeans` runs  multiple times (controlled by the `n_init` parameter) and returns the clustering with the smallest interia.  \n",
    "If we force `n_init = 1` we can see the different inertia values showing the different clusters obtained. "
   ]
  },
  {
   "cell_type": "code",
   "execution_count": null,
   "metadata": {},
   "outputs": [],
   "source": [
    "X"
   ]
  },
  {
   "cell_type": "code",
   "execution_count": null,
   "metadata": {},
   "outputs": [],
   "source": [
    "for rs in range(5):\n",
    "    km = KMeans(n_clusters = 3, n_init = 1, random_state=rs)\n",
    "    km.fit(X)\n",
    "    print(\"Intra-cluster distance: {:.3f}\".format(km.inertia_))"
   ]
  },
  {
   "cell_type": "code",
   "execution_count": null,
   "metadata": {},
   "outputs": [],
   "source": [
    "km = KMeans(n_clusters = 3, n_init = 10, random_state=1)\n",
    "km.fit(X)\n",
    "print(\"Intra-cluster distance: {:.3f}\".format(km.inertia_))"
   ]
  },
  {
   "cell_type": "markdown",
   "metadata": {},
   "source": [
    "## _k_ Means Shortcomings\n",
    "Sklearn example:   \n",
    "https://scikit-learn.org/stable/auto_examples/cluster/plot_kmeans_assumptions.html#sphx-glr-auto-examples-cluster-plot-kmeans-assumptions-py\n",
    "    \n",
    "Author: Phil Roth <mr.phil.roth@gmail.com>  \n",
    "License: BSD 3 clause\n",
    "\n",
    "\n"
   ]
  },
  {
   "cell_type": "code",
   "execution_count": null,
   "metadata": {},
   "outputs": [],
   "source": [
    "import numpy as np\n",
    "import matplotlib.pyplot as plt\n",
    "%matplotlib inline\n",
    "\n",
    "from sklearn.cluster import KMeans\n",
    "from sklearn.datasets import make_blobs\n",
    "\n",
    "n_samples = 500\n",
    "random_state = 170\n",
    "X, y = make_blobs(n_samples=n_samples, random_state=random_state)   # default is 3 clusters\n",
    "\n",
    "# Incorrect number of clusters\n",
    "y_pred = KMeans(n_clusters=4, random_state=random_state).fit_predict(X)\n",
    "\n",
    "plt.scatter(X[:, 0], X[:, 1], c=y_pred)\n",
    "plt.title(\"Incorrect Number of Clusters\")\n",
    "plt.show()"
   ]
  },
  {
   "cell_type": "markdown",
   "metadata": {},
   "source": [
    "## Elongated clusters  \n",
    "_k_ Means expects convex spherical clusters  \n",
    "`make moons` produces moon shaped clusters"
   ]
  },
  {
   "cell_type": "code",
   "execution_count": null,
   "metadata": {},
   "outputs": [],
   "source": [
    "Xm,ym = datasets.make_moons(n_samples=n_samples, noise=.1)"
   ]
  },
  {
   "cell_type": "code",
   "execution_count": null,
   "metadata": {},
   "outputs": [],
   "source": [
    "random_state = 11\n",
    "ec = KMeans(n_clusters=2, n_init = 1, random_state=random_state)\n",
    "y_pred = ec.fit_predict(Xm)\n",
    "plt.scatter(Xm[:, 0], Xm[:, 1], c=y_pred, cmap='rainbow')\n",
    "plt.title(\"Elongated Blobs\")\n",
    "print(ec.inertia_)"
   ]
  },
  {
   "cell_type": "markdown",
   "metadata": {},
   "source": [
    "## Different size/density\n",
    "Here, the proportion of the space (area) covered by the cluster is varied.  \n",
    "Samples belonging to the most spread out cluster have been assigned to another cluster in error. "
   ]
  },
  {
   "cell_type": "code",
   "execution_count": null,
   "metadata": {},
   "outputs": [],
   "source": [
    "X_varied, y_varied = make_blobs(n_samples=n_samples,\n",
    "                                cluster_std=[1.0, 2.5, 0.5],\n",
    "                               random_state=random_state)\n",
    "y_pred = KMeans(n_clusters=3, random_state=random_state).fit_predict(X_varied)\n",
    "\n",
    "plt.scatter(X_varied[:, 0], X_varied[:, 1], c=y_pred)\n",
    "plt.title(\"Different size/density\")\n",
    "plt.show()"
   ]
  },
  {
   "cell_type": "markdown",
   "metadata": {},
   "source": [
    "## Different densities\n",
    "The area covered by the clusters is the same but the density is varied.\n",
    "This doesn't seem to be a problem. "
   ]
  },
  {
   "cell_type": "code",
   "execution_count": null,
   "metadata": {},
   "outputs": [],
   "source": [
    "X_filtered = np.vstack((X[y == 0][:500], X[y == 1][:100], X[y == 2][:10]))\n",
    "\n",
    "y_pred = KMeans(n_clusters=3,\n",
    "                random_state=random_state).fit_predict(X_filtered)\n",
    "\n",
    "plt.scatter(X_filtered[:, 0], X_filtered[:, 1], c=y_pred)\n",
    "plt.title(\"Different densities\")\n",
    "\n"
   ]
  },
  {
   "cell_type": "code",
   "execution_count": null,
   "metadata": {},
   "outputs": [],
   "source": []
  }
 ],
 "metadata": {
  "kernelspec": {
   "display_name": "Python 3",
   "language": "python",
   "name": "python3"
  },
  "language_info": {
   "codemirror_mode": {
    "name": "ipython",
    "version": 3
   },
   "file_extension": ".py",
   "mimetype": "text/x-python",
   "name": "python",
   "nbconvert_exporter": "python",
   "pygments_lexer": "ipython3",
   "version": "3.8.2"
  }
 },
 "nbformat": 4,
 "nbformat_minor": 2
}
