{
 "cells": [
  {
   "cell_type": "markdown",
   "metadata": {},
   "source": [
    "# Transforming Data with *dplyr*\n",
    "\n",
    "Use this notebook to work along with the examples in the lecture notes"
   ]
  },
  {
   "cell_type": "markdown",
   "metadata": {},
   "source": [
    "## Task 1\n",
    "\n",
    "Import the files **bnames.csv.bz2** and **births.csv** from **babyData.zip**"
   ]
  },
  {
   "cell_type": "code",
   "execution_count": null,
   "metadata": {},
   "outputs": [],
   "source": []
  },
  {
   "cell_type": "markdown",
   "metadata": {},
   "source": [
    "## Task 2\n",
    "\n",
    "1. Use logical subsetting to extract your name from the dataset\n",
    "2. Plot the trend over time\n",
    "3. What geom should you use?\n",
    "4. Do you need any extra aesthetics\n",
    "\n"
   ]
  },
  {
   "cell_type": "code",
   "execution_count": null,
   "metadata": {},
   "outputs": [],
   "source": []
  },
  {
   "cell_type": "markdown",
   "metadata": {},
   "source": [
    "Notice the zigzag patterns above. In the case of the name *Michael* they are caused by entries for girls around the early *1920s*. Investigate what's causing this in the code block below."
   ]
  },
  {
   "cell_type": "code",
   "execution_count": null,
   "metadata": {},
   "outputs": [],
   "source": []
  },
  {
   "cell_type": "markdown",
   "metadata": {},
   "source": [
    "Let's separate these into 2 series, one for boys and one for girls"
   ]
  },
  {
   "cell_type": "code",
   "execution_count": null,
   "metadata": {},
   "outputs": [],
   "source": []
  },
  {
   "cell_type": "markdown",
   "metadata": {},
   "source": [
    "## Filtering Data in dplyr\n",
    "\n",
    "The *stats* package provides its own implementation of **filter** which works differently to *dplyr*'s implementation. If you find you're getting strange results, make sure you've loaded the *dplyr* package using either **require()** or **library()**"
   ]
  },
  {
   "cell_type": "markdown",
   "metadata": {},
   "source": [
    "The code block below defines the colour dataframe"
   ]
  },
  {
   "cell_type": "code",
   "execution_count": null,
   "metadata": {},
   "outputs": [],
   "source": [
    "library('dplyr')\n",
    "colour <- c('blue', 'black', 'blue', 'blue', 'black')\n",
    "value <- 1:5\n",
    "df <- data.frame(colour, value)\n",
    "df"
   ]
  },
  {
   "cell_type": "markdown",
   "metadata": {},
   "source": [
    "Filter out all rows where the colour column is not equal to **blue**"
   ]
  },
  {
   "cell_type": "code",
   "execution_count": null,
   "metadata": {},
   "outputs": [],
   "source": [
    "filter(df, colour == 'blue')"
   ]
  },
  {
   "cell_type": "markdown",
   "metadata": {},
   "source": [
    "This time we are filtering rows that have 1 or 4 in the value column"
   ]
  },
  {
   "cell_type": "code",
   "execution_count": null,
   "metadata": {},
   "outputs": [],
   "source": [
    "filter(df, value %in% c(1,4))"
   ]
  },
  {
   "cell_type": "markdown",
   "metadata": {},
   "source": [
    "## Task 3\n",
    "\n",
    "Use filter to find all of the girls' names from the year 2000"
   ]
  },
  {
   "cell_type": "code",
   "execution_count": null,
   "metadata": {
    "scrolled": true
   },
   "outputs": [],
   "source": []
  },
  {
   "cell_type": "markdown",
   "metadata": {},
   "source": [
    "## Projecting Data in dplyr\n",
    "\n",
    "**Projection** is a fancy way of saying *selecting* columns from a data frame. If we select only certain rows then we are *filtering* (removing rows that don't meet a condition), when we select columns we are *projecting*."
   ]
  },
  {
   "cell_type": "markdown",
   "metadata": {},
   "source": [
    "In this example we wish to select the colour column from the data"
   ]
  },
  {
   "cell_type": "code",
   "execution_count": null,
   "metadata": {},
   "outputs": [],
   "source": [
    "select(df, colour)"
   ]
  },
  {
   "cell_type": "markdown",
   "metadata": {},
   "source": [
    "Suppose that we wish to select every column except the colour column"
   ]
  },
  {
   "cell_type": "code",
   "execution_count": null,
   "metadata": {},
   "outputs": [],
   "source": [
    "select(df, -colour)"
   ]
  },
  {
   "cell_type": "markdown",
   "metadata": {},
   "source": [
    "## Task 4\n",
    "\n",
    "Select the *year*, *name* and *sex* columns from babyNames"
   ]
  },
  {
   "cell_type": "code",
   "execution_count": null,
   "metadata": {},
   "outputs": [],
   "source": []
  },
  {
   "cell_type": "markdown",
   "metadata": {},
   "source": [
    "## Arranging Data in *dplyr*\n",
    "\n",
    "Arranging is another way of saying re-ordering or *sorting* data.\n",
    "\n",
    "We may wish to arrange the rows of a data frame based on the values of a particular column. Sort the dataframe by colour, ascending"
   ]
  },
  {
   "cell_type": "code",
   "execution_count": null,
   "metadata": {},
   "outputs": [],
   "source": [
    "arrange(df, colour)"
   ]
  },
  {
   "cell_type": "markdown",
   "metadata": {},
   "source": [
    "We can also arrange rows based on a column in *descending* order. Sort the dataframe based on the value column, descending"
   ]
  },
  {
   "cell_type": "code",
   "execution_count": null,
   "metadata": {},
   "outputs": [],
   "source": [
    "arrange(df, desc(value))"
   ]
  },
  {
   "cell_type": "markdown",
   "metadata": {},
   "source": [
    "### Another Example\n",
    "\n",
    "What happens if you run this R code? (see lecture notes)"
   ]
  },
  {
   "cell_type": "code",
   "execution_count": null,
   "metadata": {},
   "outputs": [],
   "source": [
    "arrange(df, colour, desc(value))"
   ]
  },
  {
   "cell_type": "markdown",
   "metadata": {},
   "source": [
    "## Task 5\n",
    "\n",
    "1. Reorder the rows of babyNames from highest to lowest based on the *prop* variable\n",
    "2. Which name had the highest proportion in a single year?\n",
    "3. In what year did your name have the smallest proportion?"
   ]
  },
  {
   "cell_type": "code",
   "execution_count": null,
   "metadata": {},
   "outputs": [],
   "source": []
  },
  {
   "cell_type": "markdown",
   "metadata": {},
   "source": [
    "## Mutating Data with *dplyr*\n",
    "\n",
    "*Mutation* is a fancy way of saying *changing* the contents of a data frame. The most common use of mutation is to create calculated columns."
   ]
  },
  {
   "cell_type": "code",
   "execution_count": null,
   "metadata": {},
   "outputs": [],
   "source": [
    "mutate(df, twice = 2 * value)"
   ]
  },
  {
   "cell_type": "code",
   "execution_count": null,
   "metadata": {},
   "outputs": [],
   "source": [
    "mutate(df, twice = 2 * value, quadruple = 2 * twice)"
   ]
  },
  {
   "cell_type": "markdown",
   "metadata": {},
   "source": [
    "What happens if you run this R code? (see notes for details)"
   ]
  },
  {
   "cell_type": "code",
   "execution_count": null,
   "metadata": {},
   "outputs": [],
   "source": [
    "mutate(df, steps = cumsum(value))"
   ]
  },
  {
   "cell_type": "markdown",
   "metadata": {},
   "source": [
    "What happens if you run this R code? See lecture notes for details"
   ]
  },
  {
   "cell_type": "code",
   "execution_count": null,
   "metadata": {},
   "outputs": [],
   "source": [
    "temp <- mutate(df, twice = 2 * value, quadruple = 2 * twice)\n",
    "mutate(temp, twice = NULL)"
   ]
  },
  {
   "cell_type": "markdown",
   "metadata": {},
   "source": [
    "## Summarising Data with *dplyr*\n",
    "\n",
    "In the previous section we looked at creating new values with row-wise operations. We essentially made our dataset wider by adding extra columns. Summarising data allows us to apply some of the summary statistics we saw last week. Summarising data in dplyr will combine all rows into a single value."
   ]
  },
  {
   "cell_type": "code",
   "execution_count": null,
   "metadata": {},
   "outputs": [],
   "source": [
    "summarise(df, total = sum(value))"
   ]
  },
  {
   "cell_type": "markdown",
   "metadata": {},
   "source": [
    "More than one summary statistic may be calculated at a time. Calculate the total and average of the value of column"
   ]
  },
  {
   "cell_type": "code",
   "execution_count": null,
   "metadata": {},
   "outputs": [],
   "source": [
    "summarise(df, total = sum(value), avg = mean(value))"
   ]
  },
  {
   "cell_type": "markdown",
   "metadata": {},
   "source": [
    "## Task 6\n",
    "\n",
    "1. Add a new column to babyNames that converts *prop* to a percentage\n",
    "2. Create a summary that displays the **min** and **max** *prop* for your name"
   ]
  },
  {
   "cell_type": "code",
   "execution_count": null,
   "metadata": {},
   "outputs": [],
   "source": []
  },
  {
   "cell_type": "markdown",
   "metadata": {},
   "source": [
    "## Joining Data\n",
    "\n"
   ]
  },
  {
   "cell_type": "code",
   "execution_count": 3,
   "metadata": {},
   "outputs": [],
   "source": [
    "x <- data.frame(\n",
    "    name = c('John', 'Paul', 'George', 'Ringo', 'Stuart', 'Pete'),    \n",
    "    instrument = c('guitar', 'bass', 'guitar', 'drums', 'bass', 'drums')\n",
    ")\n",
    "\n",
    "y <- data.frame(\n",
    "    name = c('John', 'Paul', 'George', 'Ringo', 'Brian'), \n",
    "    band = c(T, T, T, T, F)\n",
    ")"
   ]
  },
  {
   "cell_type": "markdown",
   "metadata": {},
   "source": [
    "### Left Join\n",
    "\n",
    "Include all x and matching rows of y"
   ]
  },
  {
   "cell_type": "code",
   "execution_count": null,
   "metadata": {},
   "outputs": [],
   "source": [
    "left_join(x, y, by = 'name')"
   ]
  },
  {
   "cell_type": "markdown",
   "metadata": {},
   "source": [
    "### Inner Join\n",
    "\n",
    "include rows of x that appear in y and matching rows of y"
   ]
  },
  {
   "cell_type": "code",
   "execution_count": null,
   "metadata": {},
   "outputs": [],
   "source": [
    "inner_join(x, y, by = 'name')"
   ]
  },
  {
   "cell_type": "markdown",
   "metadata": {},
   "source": [
    "### Semi-Join\n",
    "Include rows of x that appear in y\n",
    "\n",
    "*This is like inner-join but without displaying the matching rows of y. This is really more of a filter.*"
   ]
  },
  {
   "cell_type": "code",
   "execution_count": null,
   "metadata": {},
   "outputs": [],
   "source": [
    "semi_join(x, y, by='name')"
   ]
  },
  {
   "cell_type": "markdown",
   "metadata": {},
   "source": [
    "### Anti-Join\n",
    "Include rows of x that do not appear in y\n",
    "\n",
    "*this is essentially the opposite of a semi-join. It displays any rows which semi-join would remove*"
   ]
  },
  {
   "cell_type": "code",
   "execution_count": null,
   "metadata": {},
   "outputs": [],
   "source": [
    "anti_join(x, y, by='name')"
   ]
  },
  {
   "cell_type": "markdown",
   "metadata": {},
   "source": [
    "## Task 7\n",
    "\n",
    "1. Combine babyNames with births\n",
    "2. Create a new column that shows the total number of babies born each year for each name"
   ]
  },
  {
   "cell_type": "code",
   "execution_count": null,
   "metadata": {},
   "outputs": [],
   "source": []
  },
  {
   "cell_type": "markdown",
   "metadata": {},
   "source": [
    "## Task 8\n",
    "\n",
    "1. Calculate the total for a single name *e.g.* your name\n",
    "2. Devise a strategy for calculating the total for every name"
   ]
  },
  {
   "cell_type": "code",
   "execution_count": null,
   "metadata": {},
   "outputs": [],
   "source": []
  },
  {
   "cell_type": "markdown",
   "metadata": {},
   "source": [
    "The first step is to **group the rows** of the data frame by name"
   ]
  },
  {
   "cell_type": "code",
   "execution_count": null,
   "metadata": {},
   "outputs": [],
   "source": []
  },
  {
   "cell_type": "markdown",
   "metadata": {},
   "source": [
    "The result of this operation is simply the addition of the *Groups* metadata to the data frame (tibble)."
   ]
  },
  {
   "cell_type": "markdown",
   "metadata": {},
   "source": [
    "The second step **applies a function** to each group individually. Calculate the total for each name."
   ]
  },
  {
   "cell_type": "code",
   "execution_count": null,
   "metadata": {},
   "outputs": [],
   "source": []
  },
  {
   "cell_type": "markdown",
   "metadata": {},
   "source": [
    "Groups may also be formed using *more than one* variable. Group the dataframe by name and sex"
   ]
  },
  {
   "cell_type": "code",
   "execution_count": null,
   "metadata": {},
   "outputs": [],
   "source": []
  },
  {
   "cell_type": "markdown",
   "metadata": {},
   "source": [
    "Summarising **removes** one level (variable) from the grouping. Calculate the total by name and sex. Then summarise again to calculate total by name."
   ]
  },
  {
   "cell_type": "code",
   "execution_count": null,
   "metadata": {},
   "outputs": [],
   "source": []
  },
  {
   "cell_type": "code",
   "execution_count": null,
   "metadata": {},
   "outputs": [],
   "source": []
  },
  {
   "cell_type": "markdown",
   "metadata": {},
   "source": [
    "You can remove the metadata from the data frame using the **ungroup** function"
   ]
  },
  {
   "cell_type": "code",
   "execution_count": null,
   "metadata": {},
   "outputs": [],
   "source": []
  },
  {
   "cell_type": "markdown",
   "metadata": {},
   "source": [
    "## The *infix* Operator\n",
    "\n",
    "The **infix** operator allows us to re-write our RCode more fluently.\n",
    "\n",
    "```R\n",
    "a() %>% b()\n",
    "```\n",
    "\n",
    "The code block above will execute the function a, and then pass whatever is returned from it as the first parameter to function b. It is the equivalent of the following code\n",
    "\n",
    "\n",
    "```R\n",
    "tmp <- a()\n",
    "b(tmp)\n",
    "```\n",
    "\n",
    "The infix operator works, even if function b takes other parameters. It will always use the output from the previous step as the first parameter to the next step. This is why *dplyr* always has the dataframe as the first parameter to its functions"
   ]
  },
  {
   "cell_type": "code",
   "execution_count": null,
   "metadata": {},
   "outputs": [],
   "source": []
  }
 ],
 "metadata": {
  "kernelspec": {
   "display_name": "R",
   "language": "R",
   "name": "ir"
  },
  "language_info": {
   "codemirror_mode": "r",
   "file_extension": ".r",
   "mimetype": "text/x-r-source",
   "name": "R",
   "pygments_lexer": "r",
   "version": "4.1.1"
  }
 },
 "nbformat": 4,
 "nbformat_minor": 4
}
