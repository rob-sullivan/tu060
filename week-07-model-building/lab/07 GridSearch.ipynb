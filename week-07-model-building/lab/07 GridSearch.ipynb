{
 "cells": [
  {
   "cell_type": "markdown",
   "metadata": {},
   "source": [
    "# Grid Search\n",
    "Tuning the hyperparameters \n",
    "`GridSearchCV` performs an exhaustive search over the parameter space evaluating each combination using X-val. "
   ]
  },
  {
   "cell_type": "code",
   "execution_count": 1,
   "metadata": {},
   "outputs": [],
   "source": [
    "from sklearn.model_selection import GridSearchCV\n",
    "from sklearn.neighbors import KNeighborsClassifier\n",
    "from sklearn.model_selection import train_test_split\n",
    "from sklearn.metrics import confusion_matrix, accuracy_score\n",
    "from sklearn.preprocessing import StandardScaler\n",
    "from sklearn.datasets import load_digits\n",
    "import pandas as pd"
   ]
  },
  {
   "cell_type": "code",
   "execution_count": 3,
   "metadata": {},
   "outputs": [],
   "source": [
    "# Load and return the Digits dataset\n",
    "data = load_digits()   \n",
    "X = data.data\n",
    "y = data.target"
   ]
  },
  {
   "cell_type": "code",
   "execution_count": 4,
   "metadata": {},
   "outputs": [
    {
     "data": {
      "text/plain": [
       "((898, 64), (899, 64))"
      ]
     },
     "execution_count": 4,
     "metadata": {},
     "output_type": "execute_result"
    }
   ],
   "source": [
    "X_train, X_test, y_train, y_test = train_test_split(X, y, \n",
    "                                                    test_size=1/2,\n",
    "                                                    random_state=42)\n",
    "X_train.shape, X_test.shape"
   ]
  },
  {
   "cell_type": "markdown",
   "metadata": {},
   "source": [
    "## Basic *k*-NN Classifier\n",
    "A basic *out-of-the-box* scalar and classifier combination. "
   ]
  },
  {
   "cell_type": "code",
   "execution_count": 5,
   "metadata": {},
   "outputs": [],
   "source": [
    "bScal = StandardScaler().fit(X_train)\n",
    "X_trainS = bScal.transform(X_train)\n",
    "X_testS = bScal.transform(X_test)"
   ]
  },
  {
   "cell_type": "code",
   "execution_count": 6,
   "metadata": {},
   "outputs": [
    {
     "name": "stdout",
     "output_type": "stream",
     "text": [
      "Accuracy: 0.96\n"
     ]
    },
    {
     "data": {
      "text/plain": [
       "array([[82,  0,  0,  0,  0,  0,  0,  0,  0,  0],\n",
       "       [ 0, 89,  0,  0,  0,  0,  0,  0,  0,  0],\n",
       "       [ 0,  3, 80,  0,  0,  0,  0,  0,  0,  0],\n",
       "       [ 0,  0,  1, 84,  0,  0,  0,  3,  5,  0],\n",
       "       [ 0,  0,  0,  0, 91,  0,  0,  2,  0,  0],\n",
       "       [ 0,  0,  0,  0,  0, 94,  1,  0,  0,  4],\n",
       "       [ 0,  0,  0,  0,  0,  0, 98,  0,  0,  0],\n",
       "       [ 0,  0,  0,  0,  0,  1,  0, 85,  1,  0],\n",
       "       [ 0,  3,  0,  2,  0,  0,  0,  0, 78,  0],\n",
       "       [ 0,  0,  0,  1,  1,  2,  1,  2,  2, 83]])"
      ]
     },
     "execution_count": 6,
     "metadata": {},
     "output_type": "execute_result"
    }
   ],
   "source": [
    "knn = KNeighborsClassifier()\n",
    "knn.fit(X_trainS,y_train)\n",
    "y_pred = knn.predict(X_testS)\n",
    "print(\"Accuracy: {0:4.2f}\".format(accuracy_score(y_test,y_pred)))\n",
    "confusion_matrix(y_test, y_pred)"
   ]
  },
  {
   "cell_type": "code",
   "execution_count": 7,
   "metadata": {},
   "outputs": [
    {
     "data": {
      "text/plain": [
       "{'algorithm': 'auto',\n",
       " 'leaf_size': 30,\n",
       " 'metric': 'minkowski',\n",
       " 'metric_params': None,\n",
       " 'n_jobs': None,\n",
       " 'n_neighbors': 5,\n",
       " 'p': 2,\n",
       " 'weights': 'uniform'}"
      ]
     },
     "execution_count": 7,
     "metadata": {},
     "output_type": "execute_result"
    }
   ],
   "source": [
    "knn.get_params()"
   ]
  },
  {
   "cell_type": "markdown",
   "metadata": {},
   "source": [
    "## Grid Search  \n",
    "First define the combinations of parameters to be considered. "
   ]
  },
  {
   "cell_type": "code",
   "execution_count": 8,
   "metadata": {},
   "outputs": [],
   "source": [
    "param_grid = {'n_neighbors':[1,3,5,10], \n",
    "              'metric':['manhattan','euclidean'],\n",
    "             'weights':['uniform','distance']}"
   ]
  },
  {
   "cell_type": "markdown",
   "metadata": {},
   "source": [
    "Run the grid search."
   ]
  },
  {
   "cell_type": "code",
   "execution_count": 9,
   "metadata": {},
   "outputs": [
    {
     "name": "stdout",
     "output_type": "stream",
     "text": [
      "Fitting 10 folds for each of 16 candidates, totalling 160 fits\n"
     ]
    },
    {
     "name": "stderr",
     "output_type": "stream",
     "text": [
      "[Parallel(n_jobs=-1)]: Using backend LokyBackend with 8 concurrent workers.\n",
      "[Parallel(n_jobs=-1)]: Done  34 tasks      | elapsed:    1.8s\n",
      "[Parallel(n_jobs=-1)]: Done 145 out of 160 | elapsed:    2.0s remaining:    0.2s\n",
      "[Parallel(n_jobs=-1)]: Done 160 out of 160 | elapsed:    2.0s finished\n"
     ]
    }
   ],
   "source": [
    "knn_gs = GridSearchCV(knn,param_grid,cv=10,  \n",
    "                      verbose = 1, n_jobs = -1)\n",
    "knn_gs = knn_gs.fit(X_trainS,y_train)"
   ]
  },
  {
   "cell_type": "markdown",
   "metadata": {},
   "source": [
    "The grid search object will now work as a classifier with the 'optimal' parameters. "
   ]
  },
  {
   "cell_type": "code",
   "execution_count": 10,
   "metadata": {},
   "outputs": [
    {
     "name": "stdout",
     "output_type": "stream",
     "text": [
      "Accuracy: 0.97\n"
     ]
    },
    {
     "data": {
      "text/plain": [
       "array([[82,  0,  0,  0,  0,  0,  0,  0,  0,  0],\n",
       "       [ 0, 89,  0,  0,  0,  0,  0,  0,  0,  0],\n",
       "       [ 0,  0, 81,  0,  0,  0,  0,  0,  2,  0],\n",
       "       [ 0,  0,  0, 87,  0,  0,  1,  2,  2,  1],\n",
       "       [ 0,  2,  0,  0, 91,  0,  0,  0,  0,  0],\n",
       "       [ 0,  0,  0,  1,  0, 95,  1,  0,  0,  2],\n",
       "       [ 1,  0,  0,  0,  0,  0, 97,  0,  0,  0],\n",
       "       [ 0,  0,  0,  0,  0,  0,  0, 86,  0,  1],\n",
       "       [ 1,  3,  1,  1,  0,  0,  0,  0, 77,  0],\n",
       "       [ 0,  0,  0,  2,  1,  1,  0,  1,  1, 86]])"
      ]
     },
     "execution_count": 10,
     "metadata": {},
     "output_type": "execute_result"
    }
   ],
   "source": [
    "y_pred_gs = knn_gs.predict(X_testS)\n",
    "print(\"Accuracy: {0:4.2f}\".format(accuracy_score(y_test,y_pred_gs)))\n",
    "confusion_matrix(y_test, y_pred_gs)"
   ]
  },
  {
   "cell_type": "code",
   "execution_count": 20,
   "metadata": {},
   "outputs": [
    {
     "data": {
      "text/plain": [
       "GridSearchCV(cv=10, estimator=KNeighborsClassifier(), n_jobs=-1,\n",
       "             param_grid={'metric': ['manhattan', 'euclidean'],\n",
       "                         'n_neighbors': [1, 3, 5, 10],\n",
       "                         'weights': ['uniform', 'distance']},\n",
       "             verbose=1)"
      ]
     },
     "execution_count": 20,
     "metadata": {},
     "output_type": "execute_result"
    }
   ],
   "source": [
    "# check what the classifier is\n",
    "knn_gs"
   ]
  },
  {
   "cell_type": "code",
   "execution_count": 12,
   "metadata": {},
   "outputs": [
    {
     "data": {
      "text/plain": [
       "{'metric': 'manhattan', 'n_neighbors': 1, 'weights': 'uniform'}"
      ]
     },
     "execution_count": 12,
     "metadata": {},
     "output_type": "execute_result"
    }
   ],
   "source": [
    "knn_gs.best_params_"
   ]
  },
  {
   "cell_type": "markdown",
   "metadata": {},
   "source": [
    "We can 'manually' provide the best parmameters to the *k*-NN object. "
   ]
  },
  {
   "cell_type": "code",
   "execution_count": 18,
   "metadata": {},
   "outputs": [
    {
     "name": "stdout",
     "output_type": "stream",
     "text": [
      "Accuracy: 0.97\n"
     ]
    },
    {
     "data": {
      "text/plain": [
       "array([[82,  0,  0,  0,  0,  0,  0,  0,  0,  0],\n",
       "       [ 0, 89,  0,  0,  0,  0,  0,  0,  0,  0],\n",
       "       [ 0,  0, 81,  0,  0,  0,  0,  0,  2,  0],\n",
       "       [ 0,  0,  0, 87,  0,  0,  1,  2,  2,  1],\n",
       "       [ 0,  2,  0,  0, 91,  0,  0,  0,  0,  0],\n",
       "       [ 0,  0,  0,  1,  0, 95,  1,  0,  0,  2],\n",
       "       [ 1,  0,  0,  0,  0,  0, 97,  0,  0,  0],\n",
       "       [ 0,  0,  0,  0,  0,  0,  0, 86,  0,  1],\n",
       "       [ 1,  3,  1,  1,  0,  0,  0,  0, 77,  0],\n",
       "       [ 0,  0,  0,  2,  1,  1,  0,  1,  1, 86]])"
      ]
     },
     "execution_count": 18,
     "metadata": {},
     "output_type": "execute_result"
    }
   ],
   "source": [
    "knn2 = KNeighborsClassifier(metric= 'manhattan', \n",
    "                           n_neighbors = 1, weights = 'uniform')\n",
    "knn2.fit(X_trainS,y_train)\n",
    "y_pred_gs = knn2.predict(X_testS)\n",
    "print(\"Accuracy: {0:4.2f}\".format(accuracy_score(y_test,y_pred_gs)))\n",
    "confusion_matrix(y_test, y_pred_gs)\n"
   ]
  },
  {
   "cell_type": "markdown",
   "metadata": {},
   "source": [
    "We can unpack the best parameters directly."
   ]
  },
  {
   "cell_type": "code",
   "execution_count": 19,
   "metadata": {},
   "outputs": [
    {
     "name": "stdout",
     "output_type": "stream",
     "text": [
      "Accuracy: 0.97\n"
     ]
    },
    {
     "data": {
      "text/plain": [
       "array([[82,  0,  0,  0,  0,  0,  0,  0,  0,  0],\n",
       "       [ 0, 89,  0,  0,  0,  0,  0,  0,  0,  0],\n",
       "       [ 0,  0, 81,  0,  0,  0,  0,  0,  2,  0],\n",
       "       [ 0,  0,  0, 87,  0,  0,  1,  2,  2,  1],\n",
       "       [ 0,  2,  0,  0, 91,  0,  0,  0,  0,  0],\n",
       "       [ 0,  0,  0,  1,  0, 95,  1,  0,  0,  2],\n",
       "       [ 1,  0,  0,  0,  0,  0, 97,  0,  0,  0],\n",
       "       [ 0,  0,  0,  0,  0,  0,  0, 86,  0,  1],\n",
       "       [ 1,  3,  1,  1,  0,  0,  0,  0, 77,  0],\n",
       "       [ 0,  0,  0,  2,  1,  1,  0,  1,  1, 86]])"
      ]
     },
     "execution_count": 19,
     "metadata": {},
     "output_type": "execute_result"
    }
   ],
   "source": [
    "knn3 = KNeighborsClassifier(**knn_gs.best_params_)\n",
    "knn3.fit(X_trainS,y_train)\n",
    "y_pred_gs = knn3.predict(X_testS)\n",
    "print(\"Accuracy: {0:4.2f}\".format(accuracy_score(y_test,y_pred_gs)))\n",
    "confusion_matrix(y_test, y_pred_gs)\n"
   ]
  },
  {
   "cell_type": "code",
   "execution_count": 16,
   "metadata": {},
   "outputs": [
    {
     "data": {
      "text/plain": [
       "KNeighborsClassifier(metric='manhattan', n_neighbors=1)"
      ]
     },
     "execution_count": 16,
     "metadata": {},
     "output_type": "execute_result"
    }
   ],
   "source": [
    "# presumably the reason weights = 'uniform' is not mentioned is because that is the default anyway.\n",
    "knn3"
   ]
  },
  {
   "cell_type": "code",
   "execution_count": null,
   "metadata": {},
   "outputs": [],
   "source": []
  }
 ],
 "metadata": {
  "kernelspec": {
   "display_name": "Python 3",
   "language": "python",
   "name": "python3"
  },
  "language_info": {
   "codemirror_mode": {
    "name": "ipython",
    "version": 3
   },
   "file_extension": ".py",
   "mimetype": "text/x-python",
   "name": "python",
   "nbconvert_exporter": "python",
   "pygments_lexer": "ipython3",
   "version": "3.8.2"
  }
 },
 "nbformat": 4,
 "nbformat_minor": 2
}
