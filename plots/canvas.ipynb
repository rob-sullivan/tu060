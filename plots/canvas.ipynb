{
 "cells": [
  {
   "cell_type": "code",
   "execution_count": 32,
   "metadata": {},
   "outputs": [
    {
     "ename": "FileNotFoundError",
     "evalue": "[Errno 2] No such file or directory: './../plots/rewardtest/ALE_SpaceInvaders-v5_1M_reward_ep_23.png'",
     "output_type": "error",
     "traceback": [
      "\u001b[1;31m---------------------------------------------------------------------------\u001b[0m",
      "\u001b[1;31mFileNotFoundError\u001b[0m                         Traceback (most recent call last)",
      "Cell \u001b[1;32mIn[32], line 12\u001b[0m\n\u001b[0;32m      9\u001b[0m \u001b[39mfor\u001b[39;00m i \u001b[39min\u001b[39;00m labels:\n\u001b[0;32m     10\u001b[0m     \u001b[39mfor\u001b[39;00m s \u001b[39min\u001b[39;00m samples:\n\u001b[0;32m     11\u001b[0m         \u001b[39m# Load images\u001b[39;00m\n\u001b[1;32m---> 12\u001b[0m         reward_sample \u001b[39m=\u001b[39m Image\u001b[39m.\u001b[39;49mopen(\u001b[39m'\u001b[39;49m\u001b[39m./../plots/rewardtest/ALE_SpaceInvaders-v5_\u001b[39;49m\u001b[39m'\u001b[39;49m\u001b[39m+\u001b[39;49m \u001b[39mstr\u001b[39;49m(i) \u001b[39m+\u001b[39;49m\u001b[39m'\u001b[39;49m\u001b[39m_reward_ep_\u001b[39;49m\u001b[39m'\u001b[39;49m \u001b[39m+\u001b[39;49m \u001b[39mstr\u001b[39;49m(s) \u001b[39m+\u001b[39;49m\u001b[39m'\u001b[39;49m\u001b[39m.png\u001b[39;49m\u001b[39m'\u001b[39;49m) \n\u001b[0;32m     13\u001b[0m         q_values \u001b[39m=\u001b[39m Image\u001b[39m.\u001b[39mopen(\u001b[39m'\u001b[39m\u001b[39m./../plots/qvalueplots/ALE_SpaceInvaders-v5_1k_qvalues_ep_\u001b[39m\u001b[39m'\u001b[39m \u001b[39m+\u001b[39m \u001b[39mstr\u001b[39m(s) \u001b[39m+\u001b[39m \u001b[39m'\u001b[39m\u001b[39m.png\u001b[39m\u001b[39m'\u001b[39m)\n\u001b[0;32m     14\u001b[0m         shap_values \u001b[39m=\u001b[39m Image\u001b[39m.\u001b[39mopen(\u001b[39m'\u001b[39m\u001b[39m./../plots/shap/ALE_SpaceInvaders-v5_1k_shap_ep_\u001b[39m\u001b[39m'\u001b[39m \u001b[39m+\u001b[39m \u001b[39mstr\u001b[39m(s) \u001b[39m+\u001b[39m \u001b[39m'\u001b[39m\u001b[39m.png\u001b[39m\u001b[39m'\u001b[39m)\n",
      "File \u001b[1;32md:\\Projects\\repos\\tu060\\venv_research\\lib\\site-packages\\PIL\\Image.py:3131\u001b[0m, in \u001b[0;36mopen\u001b[1;34m(fp, mode, formats)\u001b[0m\n\u001b[0;32m   3128\u001b[0m     filename \u001b[39m=\u001b[39m fp\n\u001b[0;32m   3130\u001b[0m \u001b[39mif\u001b[39;00m filename:\n\u001b[1;32m-> 3131\u001b[0m     fp \u001b[39m=\u001b[39m builtins\u001b[39m.\u001b[39;49mopen(filename, \u001b[39m\"\u001b[39;49m\u001b[39mrb\u001b[39;49m\u001b[39m\"\u001b[39;49m)\n\u001b[0;32m   3132\u001b[0m     exclusive_fp \u001b[39m=\u001b[39m \u001b[39mTrue\u001b[39;00m\n\u001b[0;32m   3134\u001b[0m \u001b[39mtry\u001b[39;00m:\n",
      "\u001b[1;31mFileNotFoundError\u001b[0m: [Errno 2] No such file or directory: './../plots/rewardtest/ALE_SpaceInvaders-v5_1M_reward_ep_23.png'"
     ]
    }
   ],
   "source": [
    "from PIL import Image\n",
    "\n",
    "samples=[23,35,40,50,66,88,107,130,183,198]\n",
    "\n",
    "\n",
    "# List to store frames for the GIF\n",
    "gif_frames = []\n",
    "\n",
    "for s in samples:\n",
    "    # Load images\n",
    "    reward_sample = Image.open('./../plots/rewardtest/ALE_SpaceInvaders-v5_'+ str(i) +'_reward_ep_' + str(s) +'.png') \n",
    "    q_values = Image.open('./../plots/qvalueplots/ALE_SpaceInvaders-v5_1k_qvalues_ep_' + str(s) + '.png')\n",
    "    shap_values = Image.open('./../plots/shap/ALE_SpaceInvaders-v5_1k_shap_ep_' + str(s) + '.png')\n",
    "\n",
    "    # Get dimensions of input images\n",
    "    rs_width, rs_height = reward_sample.size  # Assuming the square images have the same dimensions\n",
    "    qv_width, qv_height = q_values.size\n",
    "    s_width, s_height = shap_values.size\n",
    "    new_width = s_width\n",
    "    new_height = (s_height*2)\n",
    "\n",
    "    # Create a new image with the calculated dimensions\n",
    "    new_image = Image.new('RGB', (new_width, (new_height)), (255, 255, 255))\n",
    "\n",
    "\n",
    "    # Paste the square images on top\n",
    "    new_image.paste(reward_sample, (240, 0))\n",
    "    new_image.paste(q_values, (310 + s_width - rs_width - qv_width, 1))\n",
    "\n",
    "    # Paste the landscape image on the bottom\n",
    "    new_image.paste(shap_values, (0, s_height+10))\n",
    "\n",
    "    # Save the new image\n",
    "\n",
    "    #new_image.save('./../plots/shapexplainer/ALE_SpaceInvaders-v5_1k_ep_21.png')\n",
    "\n",
    "    #pil_image = Image.open('images/thumbnail.webp')\n",
    "    #display(new_image)\n",
    "\n",
    "    #add image to gif array\n",
    "    gif_frames.append(new_image)\n",
    "# Save the list of frames as a GIF\n",
    "gif_frames[0].save('./../plots/shapexplainer/ALE_SpaceInvaders-v5_1k_ep_21.gif', save_all=True, append_images=gif_frames[1:], loop=0, duration=200)\n",
    "gif_frames[0].show()\n"
   ]
  },
  {
   "cell_type": "code",
   "execution_count": null,
   "metadata": {},
   "outputs": [],
   "source": [
    "# Take list of paths for images\n",
    "image_path_list = ['dog-1.jpg', 'dog-2.jpg', 'dog-3.jpg']\n",
    "\n",
    "# Create a list of image objects\n",
    "image_list = [Image.open(file) for file in image_path_list]\n",
    "\n",
    "# Save the first image as a GIF file\n",
    "image_list[0].save(\n",
    "            'animation.gif',\n",
    "            save_all=True,\n",
    "            append_images=image_list[1:], # append rest of the images\n",
    "            duration=1000, # in milliseconds\n",
    "            loop=0)\n"
   ]
  }
 ],
 "metadata": {
  "kernelspec": {
   "display_name": "venv_research",
   "language": "python",
   "name": "python3"
  },
  "language_info": {
   "codemirror_mode": {
    "name": "ipython",
    "version": 3
   },
   "file_extension": ".py",
   "mimetype": "text/x-python",
   "name": "python",
   "nbconvert_exporter": "python",
   "pygments_lexer": "ipython3",
   "version": "3.8.0"
  },
  "orig_nbformat": 4
 },
 "nbformat": 4,
 "nbformat_minor": 2
}
