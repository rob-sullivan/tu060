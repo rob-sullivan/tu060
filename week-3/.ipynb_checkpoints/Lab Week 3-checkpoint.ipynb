{
 "cells": [
  {
   "cell_type": "markdown",
   "metadata": {},
   "source": [
    "# Lab Week 3\n",
    "\n",
    "1.\tUsing read.table, Load the file shopping.tsv. into R. Shopping.tsv is a tab-separated file. Ensure column names are interpreted correctly, and missing values correctly inferred. "
   ]
  },
  {
   "cell_type": "code",
   "execution_count": 1,
   "metadata": {},
   "outputs": [
    {
     "data": {
      "text/html": [
       "'hello'"
      ],
      "text/latex": [
       "'hello'"
      ],
      "text/markdown": [
       "'hello'"
      ],
      "text/plain": [
       "[1] \"hello\""
      ]
     },
     "metadata": {},
     "output_type": "display_data"
    }
   ],
   "source": [
    "hello <- \"hello\"\n",
    "hello"
   ]
  },
  {
   "cell_type": "markdown",
   "metadata": {},
   "source": [
    "2. \tUse readr to import the table, again ensuring column names and missing values correctly inferred"
   ]
  },
  {
   "cell_type": "code",
   "execution_count": null,
   "metadata": {},
   "outputs": [],
   "source": []
  },
  {
   "cell_type": "markdown",
   "metadata": {},
   "source": [
    "3. \tImport the first 50 rows of jester-data.csv. The jester dataset gives ratings given by human raters (columns) to individual jokes (represented by rows). Be aware that this file has no headers. Calculate the average rating of each joke. Tip: check the `t` function."
   ]
  },
  {
   "cell_type": "code",
   "execution_count": null,
   "metadata": {},
   "outputs": [],
   "source": []
  },
  {
   "cell_type": "markdown",
   "metadata": {},
   "source": [
    "4.\tImport the 51st to 100th rows of the jester dataset, and only the first 8 columns. Using R functions, calculate which rater gave the highest overall value of total ratings."
   ]
  },
  {
   "cell_type": "code",
   "execution_count": null,
   "metadata": {},
   "outputs": [],
   "source": []
  },
  {
   "cell_type": "markdown",
   "metadata": {},
   "source": [
    "5.\tImport the “Group A” table from the website https://www.skysports.com/champions-league-table. Set the correct data type for each column."
   ]
  },
  {
   "cell_type": "code",
   "execution_count": null,
   "metadata": {},
   "outputs": [],
   "source": []
  },
  {
   "cell_type": "markdown",
   "metadata": {},
   "source": [
    "6.\tSave the table as an R object, and then as a comma separated file using the | character as a row separator."
   ]
  },
  {
   "cell_type": "code",
   "execution_count": null,
   "metadata": {},
   "outputs": [],
   "source": []
  },
  {
   "cell_type": "markdown",
   "metadata": {},
   "source": [
    "7. Download (using R) the following dataset https://www3.stats.govt.nz/2018census/Occupied-dwellings-unoccupied-dwellings-dwellings-under-construction-private-and-non-private-dwellings-2006-2013-2018-Censuses-RC-TA-SA2-DHB.zip?_ga=2.141002357.630272337.1602082952-1963814488.1602082952. Extract all csv files to separate data frames"
   ]
  },
  {
   "cell_type": "code",
   "execution_count": null,
   "metadata": {},
   "outputs": [],
   "source": []
  },
  {
   "cell_type": "markdown",
   "metadata": {},
   "source": [
    "8. Give each data frame a meaningful name. Save the objects to .rdata format"
   ]
  },
  {
   "cell_type": "code",
   "execution_count": null,
   "metadata": {},
   "outputs": [],
   "source": []
  },
  {
   "cell_type": "markdown",
   "metadata": {},
   "source": [
    "9. Each of the other than Data8278.csv is a **lookup** dataset. It gives additional information on the codes used in Data8278.csv. Use these datasets to replace the codes in the main dataset with the descriptions found in the lookup. Hint: check the `match` function."
   ]
  },
  {
   "cell_type": "code",
   "execution_count": null,
   "metadata": {},
   "outputs": [],
   "source": []
  }
 ],
 "metadata": {
  "kernelspec": {
   "display_name": "R",
   "language": "R",
   "name": "ir"
  },
  "language_info": {
   "codemirror_mode": "r",
   "file_extension": ".r",
   "mimetype": "text/x-r-source",
   "name": "R",
   "pygments_lexer": "r",
   "version": "4.1.1"
  }
 },
 "nbformat": 4,
 "nbformat_minor": 4
}
