{
 "cells": [
  {
   "cell_type": "markdown",
   "metadata": {},
   "source": [
    "# 07 Naive Bayes Tutorial\n",
    "**Q4(b)**  \n",
    "A ranking classifier is a classifier that can rank a test set in order of confidence for a given classification outcome.  \n",
    "Naive Bayes is a ranking classifier because the ‘probability’ can be used as a confidence measure for ranking.\n",
    "1. Train a Naive Bayes classifier from the `AthleteSelection` data. Use `GaussianNB`.\n",
    "2. Load the test data from `AthleteTest.csv` and apply the classifier. \n",
    "3. Use the `predict_proba` method to find the probability of being selected. \n",
    "4. Rank the test set by probability of being selected.  \n",
    "    4.1. Who is most likely to be selected?  \n",
    "    4.2. Who is least likely?  \n"
   ]
  },
  {
   "cell_type": "code",
   "execution_count": null,
   "metadata": {},
   "outputs": [],
   "source": [
    "import pandas as pd\n",
    "from sklearn.naive_bayes import MultinomialNB, GaussianNB, BernoulliNB\n",
    "from sklearn.metrics import confusion_matrix "
   ]
  },
  {
   "cell_type": "code",
   "execution_count": null,
   "metadata": {},
   "outputs": [],
   "source": [
    "athlete = pd.read_csv('AthleteSelection.csv',index_col = 'Athlete')\n",
    "athlete.head()"
   ]
  },
  {
   "cell_type": "code",
   "execution_count": null,
   "metadata": {},
   "outputs": [],
   "source": [
    "y = athlete['Selected'].values\n",
    "X = athlete[['Speed','Agility']].values"
   ]
  },
  {
   "cell_type": "code",
   "execution_count": null,
   "metadata": {},
   "outputs": [],
   "source": [
    "gnb = GaussianNB()\n",
    "bnb = BernoulliNB()\n",
    "mnb = MultinomialNB()\n",
    "ath_NB = gnb.fit(X,y)\n",
    "y_dash = ath_NB.predict(X)"
   ]
  },
  {
   "cell_type": "code",
   "execution_count": null,
   "metadata": {},
   "outputs": [],
   "source": [
    "confusion = confusion_matrix(y, y_dash)\n",
    "print(\"Confusion matrix:\\n{}\".format(confusion)) "
   ]
  },
  {
   "cell_type": "code",
   "execution_count": null,
   "metadata": {},
   "outputs": [],
   "source": [
    "print(y)\n",
    "print(y_dash)"
   ]
  },
  {
   "cell_type": "markdown",
   "metadata": {},
   "source": [
    "## Test Data "
   ]
  },
  {
   "cell_type": "code",
   "execution_count": null,
   "metadata": {},
   "outputs": [],
   "source": [
    "ath_test = pd.read_csv('AthleteTest.csv',index_col = 'Athlete')\n",
    "ath_test"
   ]
  },
  {
   "cell_type": "code",
   "execution_count": null,
   "metadata": {},
   "outputs": [],
   "source": []
  },
  {
   "cell_type": "markdown",
   "metadata": {},
   "source": [
    "**Q4(c)**\n",
    "\n",
    "When a `GaussianNB` model is trained the model is stored in two parameters `theta_` and `sigma_`.  \n",
    "Train a `GaussianNB` model and check to see if these parameters agree with your own estimates. \n",
    "\n",
    "Hint: this code will give you the estimated you need. \n",
    "`athlete[athlete[‘Selected']=='No']['Agility'].describe()`\n",
    "\n",
    "Despite the name the `sigma_` parameter contains the square of the standard deviation (the variance) rather than the standard deviations.  \n",
    "You will find these figures do not agree exactly. "
   ]
  },
  {
   "cell_type": "code",
   "execution_count": null,
   "metadata": {},
   "outputs": [],
   "source": []
  }
 ],
 "metadata": {
  "kernelspec": {
   "display_name": "Python 3 (ipykernel)",
   "language": "python",
   "name": "python3"
  },
  "language_info": {
   "codemirror_mode": {
    "name": "ipython",
    "version": 3
   },
   "file_extension": ".py",
   "mimetype": "text/x-python",
   "name": "python",
   "nbconvert_exporter": "python",
   "pygments_lexer": "ipython3",
   "version": "3.8.10"
  }
 },
 "nbformat": 4,
 "nbformat_minor": 2
}
