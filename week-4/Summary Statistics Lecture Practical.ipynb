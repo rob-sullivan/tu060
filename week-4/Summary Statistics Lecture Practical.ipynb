{
 "cells": [
  {
   "cell_type": "markdown",
   "metadata": {},
   "source": [
    "# Summary Statistics Lecture Practical\n",
    "\n",
    "This notebook can be used to follow along with the lecture notes. "
   ]
  },
  {
   "cell_type": "code",
   "execution_count": 2,
   "metadata": {},
   "outputs": [
    {
     "data": {
      "text/html": [
       "<table class=\"dataframe\">\n",
       "<caption>A data.frame: 3 × 3</caption>\n",
       "<thead>\n",
       "\t<tr><th scope=col>Name</th><th scope=col>Length</th><th scope=col>Date</th></tr>\n",
       "\t<tr><th scope=col>&lt;chr&gt;</th><th scope=col>&lt;dbl&gt;</th><th scope=col>&lt;dttm&gt;</th></tr>\n",
       "</thead>\n",
       "<tbody>\n",
       "\t<tr><td>bank-full.csv </td><td>4610348</td><td>2012-02-14 14:40:00</td></tr>\n",
       "\t<tr><td>bank-names.txt</td><td>   3864</td><td>2012-02-14 15:10:00</td></tr>\n",
       "\t<tr><td>bank.csv      </td><td> 461474</td><td>2012-02-14 14:38:00</td></tr>\n",
       "</tbody>\n",
       "</table>\n"
      ],
      "text/latex": [
       "A data.frame: 3 × 3\n",
       "\\begin{tabular}{lll}\n",
       " Name & Length & Date\\\\\n",
       " <chr> & <dbl> & <dttm>\\\\\n",
       "\\hline\n",
       "\t bank-full.csv  & 4610348 & 2012-02-14 14:40:00\\\\\n",
       "\t bank-names.txt &    3864 & 2012-02-14 15:10:00\\\\\n",
       "\t bank.csv       &  461474 & 2012-02-14 14:38:00\\\\\n",
       "\\end{tabular}\n"
      ],
      "text/markdown": [
       "\n",
       "A data.frame: 3 × 3\n",
       "\n",
       "| Name &lt;chr&gt; | Length &lt;dbl&gt; | Date &lt;dttm&gt; |\n",
       "|---|---|---|\n",
       "| bank-full.csv  | 4610348 | 2012-02-14 14:40:00 |\n",
       "| bank-names.txt |    3864 | 2012-02-14 15:10:00 |\n",
       "| bank.csv       |  461474 | 2012-02-14 14:38:00 |\n",
       "\n"
      ],
      "text/plain": [
       "  Name           Length  Date               \n",
       "1 bank-full.csv  4610348 2012-02-14 14:40:00\n",
       "2 bank-names.txt    3864 2012-02-14 15:10:00\n",
       "3 bank.csv        461474 2012-02-14 14:38:00"
      ]
     },
     "metadata": {},
     "output_type": "display_data"
    }
   ],
   "source": [
    "# url <- 'http://archive.ics.uci.edu/ml/machine-learning-databases/00222/bank.zip'\n",
    "download.file(url, destfile = 'bank.zip')\n",
    "unzip('bank.zip', list = T)"
   ]
  },
  {
   "cell_type": "markdown",
   "metadata": {},
   "source": [
    "## Data Description\n",
    "\n",
    "### Numeric Data\n",
    "\n",
    "1. age\n",
    "2. balance\n",
    "3. contact day\n",
    "4. duration\n",
    "5. campaign contacts\n",
    "6. previous contacts\n",
    "7. previous days (-1, no previous contact)\n",
    "\n",
    "\n",
    "### Categorical Data\n",
    "\n",
    "1. job (11) { ’admin’, ’entrepreneur’. . . }\n",
    "2. marital (3) { ’divorced’, ’married’, ’single’ } \n",
    "3. education (3) { ’primary’, ’secondary’. . . }\n",
    "4. default (2) { ’yes’, ’no’ }\n",
    "5. housing loan (2) { ’yes’, ’no’ }\n",
    "6. Personal loan (2) { ’yes’, ’no’ }\n",
    "7. contact type (2) { ’telephone’, ’cellular’ }\n",
    "8. contact month (12) { ’jan’, ’feb’. . . }\n",
    "9. previous outcome (3) { ’success’, ’failure’. . . }\n",
    "10. subscribed (2) { ’yes’, ’no’ }\n"
   ]
  },
  {
   "cell_type": "markdown",
   "metadata": {},
   "source": [
    "## Task 1: Import the data into R\n",
    "\n",
    "Make sure you run the initial steps in the cell above to download and unzip the dataset. Then import the data into R, you may need to manually inspect the dataset to get an idea of the format. Save the dataframe in a variable called bankData."
   ]
  },
  {
   "cell_type": "code",
   "execution_count": null,
   "metadata": {},
   "outputs": [],
   "source": []
  },
  {
   "cell_type": "markdown",
   "metadata": {},
   "source": [
    "## Task 2: Basic Checks\n",
    "\n",
    "Before we get to work on the dataframe we want to perform some basic checks. First, get an idea of the size of the dataset by checking the number of columns and rows. Then double check the first few and last few rows of the dataframe to make sure there were no problems with the import"
   ]
  },
  {
   "cell_type": "code",
   "execution_count": null,
   "metadata": {},
   "outputs": [],
   "source": []
  },
  {
   "cell_type": "markdown",
   "metadata": {},
   "source": [
    "## Task 3: Type Conversion\n",
    "\n",
    "By default, read_delim reads character columns as characters, but all of our character columns should be factors. Manually convert columns 2,3,4 and 5 to factors below"
   ]
  },
  {
   "cell_type": "code",
   "execution_count": null,
   "metadata": {},
   "outputs": [],
   "source": []
  },
  {
   "cell_type": "markdown",
   "metadata": {},
   "source": [
    "Or, use a loop to convert all factor columns"
   ]
  },
  {
   "cell_type": "code",
   "execution_count": null,
   "metadata": {},
   "outputs": [],
   "source": []
  },
  {
   "cell_type": "markdown",
   "metadata": {},
   "source": [
    "## Task 4: Finding NAs\n",
    "\n",
    "1. How many NAs are there for the education attribute?\n",
    "2. What percentage of the total is this?"
   ]
  },
  {
   "cell_type": "code",
   "execution_count": null,
   "metadata": {},
   "outputs": [],
   "source": []
  },
  {
   "cell_type": "markdown",
   "metadata": {},
   "source": [
    "## Finding NAs in all columns\n",
    "\n",
    "See the lecture notes for how to do this. Get a list of all columns containing at least 1 NA and find the counts of each"
   ]
  },
  {
   "cell_type": "code",
   "execution_count": null,
   "metadata": {},
   "outputs": [],
   "source": []
  },
  {
   "cell_type": "markdown",
   "metadata": {},
   "source": [
    "## Task 5: Finding the Average\n",
    "\n",
    "What is the average value of the following columns?\n",
    "1. age\n",
    "2. duration\n",
    "3. pDays"
   ]
  },
  {
   "cell_type": "code",
   "execution_count": null,
   "metadata": {},
   "outputs": [],
   "source": []
  },
  {
   "cell_type": "markdown",
   "metadata": {},
   "source": [
    "## Fixing the pDays Column\n",
    "See the lecture notes for how to do this. Implement option 1 and option 2 in the cells below"
   ]
  },
  {
   "cell_type": "code",
   "execution_count": null,
   "metadata": {},
   "outputs": [],
   "source": []
  },
  {
   "cell_type": "code",
   "execution_count": null,
   "metadata": {},
   "outputs": [],
   "source": []
  },
  {
   "cell_type": "markdown",
   "metadata": {},
   "source": [
    "## Task 6 - Omitting Rows Containing NA\n",
    "Create a copy of the dataset omitting any rows with NAs. How much data do we lose doing this? (express as a percentage of total rows)"
   ]
  },
  {
   "cell_type": "code",
   "execution_count": null,
   "metadata": {},
   "outputs": [],
   "source": []
  },
  {
   "cell_type": "markdown",
   "metadata": {},
   "source": [
    "## Summary Statistics"
   ]
  },
  {
   "cell_type": "markdown",
   "metadata": {},
   "source": [
    "### Task 7 - Calculating Quantiles\n",
    "\n",
    "1. Use the first cell to write a script to find the tenth percentile of the following data.\n",
    "\n",
    "```R\n",
    "c(14, 15, 9, 14, 8, 9, 6, 7, 8, 12)\n",
    "```\n",
    "\n",
    "2. Then add in the script the code to find the 30th, 50th and 75th percentile\n",
    "3. In the second cell, use the r **quantile()** function to calculate each of the percentiles above"
   ]
  },
  {
   "cell_type": "code",
   "execution_count": null,
   "metadata": {},
   "outputs": [],
   "source": []
  },
  {
   "cell_type": "code",
   "execution_count": null,
   "metadata": {},
   "outputs": [],
   "source": []
  },
  {
   "cell_type": "markdown",
   "metadata": {},
   "source": [
    "Get the 0th, 25th, 50th, 75th and 100th percentiles of the *age* feature using the fivenum function"
   ]
  },
  {
   "cell_type": "code",
   "execution_count": null,
   "metadata": {},
   "outputs": [],
   "source": []
  },
  {
   "cell_type": "markdown",
   "metadata": {},
   "source": [
    "Use the summary function to get the mean as well as the fivenum quantiles of the bankData age feature"
   ]
  },
  {
   "cell_type": "code",
   "execution_count": null,
   "metadata": {},
   "outputs": [],
   "source": []
  },
  {
   "cell_type": "markdown",
   "metadata": {},
   "source": [
    "Get the counts of each level of the *education* feature"
   ]
  },
  {
   "cell_type": "code",
   "execution_count": null,
   "metadata": {},
   "outputs": [],
   "source": []
  },
  {
   "cell_type": "markdown",
   "metadata": {},
   "source": [
    "### Task 8 - Calculate the Trimmed Mean\n",
    "\n",
    "1. Calculate the mean and median of the *balance* feature of our bankData dataframe\n",
    "2. Calculate the trimmed mean @ T = 0.1\n",
    "3. Show that the trimmed mean is more representative of the centre than the raw mean "
   ]
  },
  {
   "cell_type": "code",
   "execution_count": null,
   "metadata": {},
   "outputs": [],
   "source": []
  },
  {
   "cell_type": "markdown",
   "metadata": {},
   "source": [
    "### Measures of Spread\n",
    "\n",
    "The inter-quartile range (IQR) and range are similar in that they estimate the spread of a column by subtracting extreme values"
   ]
  },
  {
   "cell_type": "code",
   "execution_count": null,
   "metadata": {},
   "outputs": [],
   "source": []
  },
  {
   "cell_type": "code",
   "execution_count": null,
   "metadata": {},
   "outputs": [],
   "source": []
  },
  {
   "cell_type": "markdown",
   "metadata": {},
   "source": [
    "The standard deviation is a measure of the average distance of each column value from the mean:"
   ]
  },
  {
   "cell_type": "code",
   "execution_count": null,
   "metadata": {},
   "outputs": [],
   "source": []
  },
  {
   "cell_type": "markdown",
   "metadata": {},
   "source": [
    "The **variance** is simply the square of the standard deviation:"
   ]
  },
  {
   "cell_type": "code",
   "execution_count": null,
   "metadata": {},
   "outputs": [],
   "source": []
  }
 ],
 "metadata": {
  "kernelspec": {
   "display_name": "R",
   "language": "R",
   "name": "ir"
  },
  "language_info": {
   "codemirror_mode": "r",
   "file_extension": ".r",
   "mimetype": "text/x-r-source",
   "name": "R",
   "pygments_lexer": "r",
   "version": "4.1.1"
  }
 },
 "nbformat": 4,
 "nbformat_minor": 4
}
