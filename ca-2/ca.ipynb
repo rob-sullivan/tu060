{
 "cells": [
  {
   "attachments": {},
   "cell_type": "markdown",
   "metadata": {},
   "source": [
    "## Introduction\n",
    "The goal of the project was to perform a systematic investigation of a number of Deep Learning methods in the context of text processing tasks, and benchmark these methods against classical methods where appropriate. The following was provided: a report and source code complete with a link to Google Colab is contained within a .zip file provided and trained models using Keras / TensorFlow. No alternative data set or coding framework was used."
   ]
  },
  {
   "cell_type": "code",
   "execution_count": 2,
   "metadata": {},
   "outputs": [],
   "source": [
    "# Libraries\n",
    "import random\n",
    "import pandas as pd\n",
    "import keras"
   ]
  },
  {
   "attachments": {},
   "cell_type": "markdown",
   "metadata": {},
   "source": [
    "## Dataset\n",
    "[Guardian News Articles dataset](https://www.kaggle.com/datasets/adityakharosekar2/guardian-news-articles) on Kaggle was used to perform genre or more precisely section analysis. Since this dataset was large (~150,000 articles / >700MB) the full dataset was not used. Instead a proportion of the dataset (random 10%-20%) was used."
   ]
  },
  {
   "cell_type": "code",
   "execution_count": 3,
   "metadata": {},
   "outputs": [],
   "source": [
    "random.seed(4321) #for reproducibility\n",
    "#10% of 149,828 rows = 14,983 rows\n",
    "df = pd.read_csv(\"guardian_articles.csv\", skiprows=lambda x: x > 0 and random.random() >=.1)"
   ]
  },
  {
   "cell_type": "code",
   "execution_count": 6,
   "metadata": {},
   "outputs": [
    {
     "data": {
      "text/plain": [
       "10.0"
      ]
     },
     "execution_count": 6,
     "metadata": {},
     "output_type": "execute_result"
    }
   ],
   "source": [
    "#percentage of data imported from guardian dataset\n",
    "round((len(df.index) /149828)*100, 2)"
   ]
  },
  {
   "cell_type": "code",
   "execution_count": 7,
   "metadata": {},
   "outputs": [
    {
     "data": {
      "text/html": [
       "<div>\n",
       "<style scoped>\n",
       "    .dataframe tbody tr th:only-of-type {\n",
       "        vertical-align: middle;\n",
       "    }\n",
       "\n",
       "    .dataframe tbody tr th {\n",
       "        vertical-align: top;\n",
       "    }\n",
       "\n",
       "    .dataframe thead th {\n",
       "        text-align: right;\n",
       "    }\n",
       "</style>\n",
       "<table border=\"1\" class=\"dataframe\">\n",
       "  <thead>\n",
       "    <tr style=\"text-align: right;\">\n",
       "      <th></th>\n",
       "      <th>article_id</th>\n",
       "      <th>sectionName</th>\n",
       "      <th>webTitle</th>\n",
       "      <th>webUrl</th>\n",
       "      <th>bodyContent</th>\n",
       "      <th>webPublicationDate</th>\n",
       "      <th>id</th>\n",
       "    </tr>\n",
       "  </thead>\n",
       "  <tbody>\n",
       "    <tr>\n",
       "      <th>0</th>\n",
       "      <td>world/2016/jan/31/tanzania-britsh-helicopter-p...</td>\n",
       "      <td>World news</td>\n",
       "      <td>British pilot in Tanzania 'manoeuvred ​to save...</td>\n",
       "      <td>https://www.theguardian.com/world/2016/jan/31/...</td>\n",
       "      <td>A British pilot who was shot dead by an elepha...</td>\n",
       "      <td>2016-01-31T23:43:48Z</td>\n",
       "      <td>3</td>\n",
       "    </tr>\n",
       "    <tr>\n",
       "      <th>1</th>\n",
       "      <td>football/2016/jan/31/jurgen-klopp-liverpool-yo...</td>\n",
       "      <td>Football</td>\n",
       "      <td>Jürgen Klopp hails Liverpool youngsters but re...</td>\n",
       "      <td>https://www.theguardian.com/football/2016/jan/...</td>\n",
       "      <td>Jürgen Klopp’s exasperation was understandable...</td>\n",
       "      <td>2016-01-31T22:30:10Z</td>\n",
       "      <td>7</td>\n",
       "    </tr>\n",
       "    <tr>\n",
       "      <th>2</th>\n",
       "      <td>football/2016/jan/31/tommy-elphick-harry-arter...</td>\n",
       "      <td>Football</td>\n",
       "      <td>Tommy Elphick turns thoughts to Harry Arter af...</td>\n",
       "      <td>https://www.theguardian.com/football/2016/jan/...</td>\n",
       "      <td>Tommy Elphick paid tribute to his team-mate Ha...</td>\n",
       "      <td>2016-01-31T22:30:10Z</td>\n",
       "      <td>9</td>\n",
       "    </tr>\n",
       "    <tr>\n",
       "      <th>3</th>\n",
       "      <td>football/2016/jan/31/chelsea-manchester-city-f...</td>\n",
       "      <td>Football</td>\n",
       "      <td>Chelsea draw Manchester City and Arsenal meet ...</td>\n",
       "      <td>https://www.theguardian.com/football/2016/jan/...</td>\n",
       "      <td>Manchester City will play Chelsea at Stamford ...</td>\n",
       "      <td>2016-01-31T18:57:42Z</td>\n",
       "      <td>47</td>\n",
       "    </tr>\n",
       "    <tr>\n",
       "      <th>4</th>\n",
       "      <td>football/2016/jan/31/chelsea-john-terry-not-re...</td>\n",
       "      <td>Football</td>\n",
       "      <td>John Terry to leave Chelsea after refusal of f...</td>\n",
       "      <td>https://www.theguardian.com/football/2016/jan/...</td>\n",
       "      <td>John Terry has confirmed he is to leave Chelse...</td>\n",
       "      <td>2016-01-31T18:48:09Z</td>\n",
       "      <td>48</td>\n",
       "    </tr>\n",
       "  </tbody>\n",
       "</table>\n",
       "</div>"
      ],
      "text/plain": [
       "                                          article_id sectionName  \\\n",
       "0  world/2016/jan/31/tanzania-britsh-helicopter-p...  World news   \n",
       "1  football/2016/jan/31/jurgen-klopp-liverpool-yo...    Football   \n",
       "2  football/2016/jan/31/tommy-elphick-harry-arter...    Football   \n",
       "3  football/2016/jan/31/chelsea-manchester-city-f...    Football   \n",
       "4  football/2016/jan/31/chelsea-john-terry-not-re...    Football   \n",
       "\n",
       "                                            webTitle  \\\n",
       "0  British pilot in Tanzania 'manoeuvred ​to save...   \n",
       "1  Jürgen Klopp hails Liverpool youngsters but re...   \n",
       "2  Tommy Elphick turns thoughts to Harry Arter af...   \n",
       "3  Chelsea draw Manchester City and Arsenal meet ...   \n",
       "4  John Terry to leave Chelsea after refusal of f...   \n",
       "\n",
       "                                              webUrl  \\\n",
       "0  https://www.theguardian.com/world/2016/jan/31/...   \n",
       "1  https://www.theguardian.com/football/2016/jan/...   \n",
       "2  https://www.theguardian.com/football/2016/jan/...   \n",
       "3  https://www.theguardian.com/football/2016/jan/...   \n",
       "4  https://www.theguardian.com/football/2016/jan/...   \n",
       "\n",
       "                                         bodyContent    webPublicationDate  id  \n",
       "0  A British pilot who was shot dead by an elepha...  2016-01-31T23:43:48Z   3  \n",
       "1  Jürgen Klopp’s exasperation was understandable...  2016-01-31T22:30:10Z   7  \n",
       "2  Tommy Elphick paid tribute to his team-mate Ha...  2016-01-31T22:30:10Z   9  \n",
       "3  Manchester City will play Chelsea at Stamford ...  2016-01-31T18:57:42Z  47  \n",
       "4  John Terry has confirmed he is to leave Chelse...  2016-01-31T18:48:09Z  48  "
      ]
     },
     "execution_count": 7,
     "metadata": {},
     "output_type": "execute_result"
    }
   ],
   "source": [
    "df.head()#look at raw data"
   ]
  },
  {
   "cell_type": "code",
   "execution_count": 10,
   "metadata": {},
   "outputs": [],
   "source": [
    "#reorder data and oly take the news title and category label\n",
    "df = df[['webTitle', 'sectionName']]"
   ]
  },
  {
   "cell_type": "code",
   "execution_count": 11,
   "metadata": {},
   "outputs": [
    {
     "data": {
      "text/html": [
       "<div>\n",
       "<style scoped>\n",
       "    .dataframe tbody tr th:only-of-type {\n",
       "        vertical-align: middle;\n",
       "    }\n",
       "\n",
       "    .dataframe tbody tr th {\n",
       "        vertical-align: top;\n",
       "    }\n",
       "\n",
       "    .dataframe thead th {\n",
       "        text-align: right;\n",
       "    }\n",
       "</style>\n",
       "<table border=\"1\" class=\"dataframe\">\n",
       "  <thead>\n",
       "    <tr style=\"text-align: right;\">\n",
       "      <th></th>\n",
       "      <th>webTitle</th>\n",
       "      <th>sectionName</th>\n",
       "    </tr>\n",
       "  </thead>\n",
       "  <tbody>\n",
       "    <tr>\n",
       "      <th>0</th>\n",
       "      <td>British pilot in Tanzania 'manoeuvred ​to save...</td>\n",
       "      <td>World news</td>\n",
       "    </tr>\n",
       "    <tr>\n",
       "      <th>1</th>\n",
       "      <td>Jürgen Klopp hails Liverpool youngsters but re...</td>\n",
       "      <td>Football</td>\n",
       "    </tr>\n",
       "    <tr>\n",
       "      <th>2</th>\n",
       "      <td>Tommy Elphick turns thoughts to Harry Arter af...</td>\n",
       "      <td>Football</td>\n",
       "    </tr>\n",
       "    <tr>\n",
       "      <th>3</th>\n",
       "      <td>Chelsea draw Manchester City and Arsenal meet ...</td>\n",
       "      <td>Football</td>\n",
       "    </tr>\n",
       "    <tr>\n",
       "      <th>4</th>\n",
       "      <td>John Terry to leave Chelsea after refusal of f...</td>\n",
       "      <td>Football</td>\n",
       "    </tr>\n",
       "  </tbody>\n",
       "</table>\n",
       "</div>"
      ],
      "text/plain": [
       "                                            webTitle sectionName\n",
       "0  British pilot in Tanzania 'manoeuvred ​to save...  World news\n",
       "1  Jürgen Klopp hails Liverpool youngsters but re...    Football\n",
       "2  Tommy Elphick turns thoughts to Harry Arter af...    Football\n",
       "3  Chelsea draw Manchester City and Arsenal meet ...    Football\n",
       "4  John Terry to leave Chelsea after refusal of f...    Football"
      ]
     },
     "execution_count": 11,
     "metadata": {},
     "output_type": "execute_result"
    }
   ],
   "source": [
    "df.head()"
   ]
  },
  {
   "cell_type": "code",
   "execution_count": 16,
   "metadata": {},
   "outputs": [
    {
     "data": {
      "text/plain": [
       "webTitle       0\n",
       "sectionName    0\n",
       "dtype: int64"
      ]
     },
     "execution_count": 16,
     "metadata": {},
     "output_type": "execute_result"
    }
   ],
   "source": [
    "#check missing data\n",
    "df.isnull().sum() #none missing"
   ]
  },
  {
   "cell_type": "code",
   "execution_count": 17,
   "metadata": {},
   "outputs": [],
   "source": [
    "#split into features and targets\n",
    "X = df.iloc[:, :-1].values\n",
    "y = df.iloc[:, -1].values"
   ]
  },
  {
   "cell_type": "code",
   "execution_count": 19,
   "metadata": {},
   "outputs": [
    {
     "name": "stdout",
     "output_type": "stream",
     "text": [
      "[[\"British pilot in Tanzania 'manoeuvred \\u200bto save colleague\\u200b\\u200b before death'\"]\n",
      " ['Jürgen Klopp hails Liverpool youngsters but remains mindful of task in hand']\n",
      " ['Tommy Elphick turns thoughts to Harry Arter after Bournemouth march on']\n",
      " ...\n",
      " ['No 10 to set out sweeping plans to override power of human rights court']\n",
      " ['What would a British bill of rights look like?']\n",
      " ['Liam Livingstone settling down to his role among England’s entertainers']]\n",
      "\n",
      "\n",
      "['World news' 'Football' 'Football' ... 'Law' 'Law' 'Sport']\n"
     ]
    }
   ],
   "source": [
    "print(X)\n",
    "print(\"\\n\")\n",
    "print(y)"
   ]
  }
 ],
 "metadata": {
  "kernelspec": {
   "display_name": "venv_dl",
   "language": "python",
   "name": "python3"
  },
  "language_info": {
   "codemirror_mode": {
    "name": "ipython",
    "version": 3
   },
   "file_extension": ".py",
   "mimetype": "text/x-python",
   "name": "python",
   "nbconvert_exporter": "python",
   "pygments_lexer": "ipython3",
   "version": "3.8.10"
  },
  "orig_nbformat": 4
 },
 "nbformat": 4,
 "nbformat_minor": 2
}
